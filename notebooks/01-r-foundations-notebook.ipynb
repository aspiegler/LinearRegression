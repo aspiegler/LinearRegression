{
  "cells": [
    {
      "cell_type": "markdown",
      "metadata": {},
      "source": [
        "# Chapter 1 - R Foundations\n",
        "\n",
        "Joshua French\n",
        "\n",
        "To open this information in an interactive Colab notebook, click or scan\n",
        "the QR code below.\n",
        "\n",
        "<a href=\"https://colab.research.google.com/github/jfrench/LinearRegression/blob/master/notebooks/01-r-foundations-notebook.ipynb\">\n",
        "<img src=\"pictures/qr-01-r-foundations.png\"> </a>\n",
        "\n",
        "------------------------------------------------------------------------\n",
        "\n",
        "# What is R?\n",
        "\n",
        "R is a programming language and environment designed for statistical\n",
        "computing.\n",
        "[(https://www.r-project.org/about.html)](https://www.r-project.org/about.html)\n",
        "\n",
        "R is free, open source, and runs on many different types of computers\n",
        "(Windows, Mac, Linux, and others).\n",
        "\n",
        "R is an interactive programming language.\n",
        "\n",
        "-   We type and run a command in the Console for immediate feedback, in\n",
        "    contrast to a compiled programming language, which compiles a\n",
        "    program that is then executed.\n",
        "\n",
        "R is highly extendable.\n",
        "\n",
        "-   We can extend the functionality of R beyond what is available by\n",
        "    default by installing user-created packages.\n",
        "-   We can write our own functions to create additional capabilities in\n",
        "    R.\n",
        "\n",
        "# Installing R and RStudio\n",
        "\n",
        "Install R by downloading an installer program from the R Project’s\n",
        "website [(https://www.r-project.org/)](https://www.r-project.org/).\n",
        "\n",
        "RStudio Desktop is a free “front end” for R that makes doing data\n",
        "analysis with R easier by adding an Integrated Development Environment\n",
        "(IDE) and providing many other features. Currently, we can download\n",
        "RStudio at <https://posit.co/download/rstudio-desktop/>.\n",
        "\n",
        "**RStudio Layout**\n",
        "\n",
        "RStudio Desktop has four panes:\n",
        "\n",
        "1.  Console: the pane where we run commands.\n",
        "2.  Source: the pane where we prepare commands to run.\n",
        "3.  Environment/History: the pane where we can see all the objects in\n",
        "    our workspace, our command history, and other information.\n",
        "4.  The Files/Plot/Packages/Help: the pane where we navigate between\n",
        "    directories, where plots can be viewed, where we can see the\n",
        "    packages available to be loaded, and where we can get help.\n",
        "\n",
        "<img src=\"pictures/rstudio_panes.png\">\n",
        "\n",
        "Tip: Change the R Studio environment so that it doesn’t save the\n",
        "workspace when exiting the application.\n",
        "\n",
        "# Running code, scripts, and comments\n",
        "\n",
        "We can run code in R by typing it in the Console next to the `>` symbol\n",
        "and pressing the Enter key.\n",
        "\n",
        "It’s better to write our commands in a “Script” file, save the Script,\n",
        "and then run our commands from the Script. The commands in a Script file\n",
        "are generically referred to as “code”.\n",
        "\n",
        "Script files make it easy to:\n",
        "\n",
        "-   Reproduce our data analysis without retyping all our commands.\n",
        "-   Share our code with others.\n",
        "\n",
        "A new Script file can be obtained by:\n",
        "\n",
        "-   Clicking File → New File → R Script in the RStudio menu bar.\n",
        "-   Pressing `Ctrl + Shift + n` on a PC or `Cmd + Shift + n` on a Mac.\n",
        "\n",
        "To run code from a Script file:\n",
        "\n",
        "-   Highlight the code we want to run and click the Run button at the\n",
        "    top of the Script pane.\n",
        "-   Highlight the code we want to run and press “Ctrl + Enter” on our\n",
        "    keyboard. If we don’t highlight anything, by default, RStudio runs\n",
        "    the command the cursor currently lies on.\n",
        "\n",
        "To save a Script file:\n",
        "\n",
        "-   Click File → Save in the RStudio menu bar.\n",
        "-   Press `Ctrl + s` on a PC or `Cmd + s` on a Mac.\n",
        "\n",
        "A comment is a set of text ignored by R when submitted to the Console.\n",
        "\n",
        "A comment is indicated by the `#` symbol. Nothing to the right of the\n",
        "`#` is executed by the Console.\n",
        "\n",
        "We can comment (or uncomment) multiple lines of code in the Source pane\n",
        "of RStudio by highlighting the code we want to comment and pressing\n",
        "`Ctrl + Shift + c` on a PC or `Cmd + Shift + c` on a Mac.\n",
        "\n",
        "**Your turn**\n",
        "\n",
        "Perform the following tasks:\n",
        "\n",
        "1.  Type `1+1` in the Console and press Enter.\n",
        "2.  Open a new Script in RStudio.\n",
        "3.  Type `mean(1:3)` in the Script file.\n",
        "4.  Type `# mean(1:3)` in the Script file.\n",
        "5.  Run the commands from the Script using an approach mentioned above.\n",
        "6.  Save the Script file.\n",
        "7.  Use the keyboard shortcut to “comment out” some of the lines of the\n",
        "    Script file."
      ],
      "id": "6bc053fd-ed6d-422b-99d6-88b11bbf499b"
    },
    {
      "cell_type": "code",
      "execution_count": null,
      "metadata": {},
      "outputs": [],
      "source": [
        "# type your commands here"
      ],
      "id": "e437992b-a286-4adb-b45c-bab1330179aa"
    },
    {
      "cell_type": "markdown",
      "metadata": {},
      "source": [
        "# Assignment in R\n",
        "\n",
        "R works on various types of objects that we’ll learn more about later.\n",
        "\n",
        "To store an object in the computer’s memory we must assign it a name\n",
        "using the assignment operator `<-` or the equal sign `=`.\n",
        "\n",
        "Some comments:\n",
        "\n",
        "-   In general, both `<-` and `=` can be used for assignment.\n",
        "-   Pressing `Alt + -` on a PC or `Option + -` on a Mac will insert `<-`\n",
        "    into the R Console and Script files.\n",
        "    -   If we are creating an R Markdown or Quarto file, then this\n",
        "        shortcut will only insert `<-` if we are in a code block.\n",
        "-   `<-` and `=` are NOT synonyms but can be used identically most of\n",
        "    the time.\n",
        "\n",
        "# Functions\n",
        "\n",
        "We use a function by typing the function’s name in the Console (or\n",
        "Script), supplying the function’s “arguments” between parentheses, `()`,\n",
        "and then pressing Enter.\n",
        "\n",
        "The arguments of a function are pieces of data or information the\n",
        "function needs to perform the requested task (i.e., the function\n",
        "“inputs”). Each argument we supply is separated by a comma, `,`.\n",
        "\n",
        "**Your turn**\n",
        "\n",
        "Run the following commands in the Console.\n",
        "\n",
        "What is each command doing?"
      ],
      "id": "4fb77c50-d367-4235-8f0e-4300f6e37bb4"
    },
    {
      "cell_type": "code",
      "execution_count": null,
      "metadata": {},
      "outputs": [],
      "source": [
        "# compute the mean of 1, 2, ..., 10 and assign the name m\n",
        "m <- mean(1:10) \n",
        "m # print m"
      ],
      "id": "af8d95b8-cb58-4a63-bbc8-d87c5d761923"
    },
    {
      "cell_type": "code",
      "execution_count": null,
      "metadata": {},
      "outputs": [],
      "source": [
        "print(m) # print m a different way"
      ],
      "id": "6268d96e-76b8-4aa6-a041-844ac22bfd95"
    },
    {
      "cell_type": "code",
      "execution_count": null,
      "metadata": {},
      "outputs": [],
      "source": [
        "mean(c(1, 5, 3, 4, 10)) # mean of a new vector"
      ],
      "id": "42432d3c-9f12-408a-90fc-2631ef6b428d"
    },
    {
      "cell_type": "code",
      "execution_count": null,
      "metadata": {},
      "outputs": [],
      "source": [
        "mean(c(1, 5, 3, 4, 10), trim = 0.2) # compute trimmed mean"
      ],
      "id": "b97514ef-ff8d-40eb-9ddd-0dd5e720b661"
    },
    {
      "cell_type": "markdown",
      "metadata": {},
      "source": [
        "# Packages\n",
        "\n",
        "Packages are collections of functions, data, and other objects that\n",
        "extend the functionality available in R by default.\n",
        "\n",
        "R packages can be installed using the `install.packages` function and\n",
        "loaded using the `library` function.\n",
        "\n",
        "The **tidyverse** package (actually, a collection of packages) contains\n",
        "data and some useful functions we will be using later in the course.\n",
        "\n",
        "**Your turn**"
      ],
      "id": "85505f20-920b-4fe1-93c6-a6b300cd1012"
    },
    {
      "cell_type": "code",
      "execution_count": null,
      "metadata": {},
      "outputs": [],
      "source": [
        "# install tidyverse if it's not already installed\n",
        "if (!require(\"tidyverse\")){\n",
        "    install.packages(\"tidyverse\")\n",
        "}"
      ],
      "id": "1ede9bfc-9904-4dc7-a206-a5aa079f1996"
    },
    {
      "cell_type": "markdown",
      "metadata": {},
      "source": [
        "After we install **tidyverse**, we can load the package by running the\n",
        "command below."
      ],
      "id": "09c6c06c-d59f-4840-8d17-7deac2699b7c"
    },
    {
      "cell_type": "code",
      "execution_count": null,
      "metadata": {},
      "outputs": [],
      "source": [
        "library(tidyverse)"
      ],
      "id": "9d71dc7b-264a-4acc-8c7c-5d3bba50756e"
    },
    {
      "cell_type": "markdown",
      "metadata": {},
      "source": [
        "# Getting Help\n",
        "\n",
        "There are many ways to get help in R.\n",
        "\n",
        "-   To get help for a function named `command`, run `?command` to access\n",
        "    the documentation\n",
        "    -   The Documentation will provide information on the function use,\n",
        "        arguments, usage examples, and more.\n",
        "-   Running `??topic` will search the documentation for any occurrence\n",
        "    of the word “topic” and provide a list of relevant documentation to\n",
        "    consider.\n",
        "-   Stack Overflow (<https://www.stackoverflow.com>) is a great resource\n",
        "    to find solutions.\n",
        "-   AI chatbots like ChatGPT and Gemini are becoming better at\n",
        "    suggesting and correcting computer code.\n",
        "\n",
        "**Your turn**\n",
        "\n",
        "Let’s get help on the `lm` function through the R console."
      ],
      "id": "8656d1be-2553-4a97-9bce-052bfa10abf9"
    },
    {
      "cell_type": "code",
      "execution_count": null,
      "metadata": {},
      "outputs": [],
      "source": [
        "?lm"
      ],
      "id": "35d8a4b5-655e-4e57-885a-c370ea4df04e"
    },
    {
      "cell_type": "markdown",
      "metadata": {},
      "source": [
        "Next, try the following search in an AI chatbot: “How do I create a\n",
        "scatter plot in R?” Was the information useful?\n",
        "\n",
        "# Data Types and Structures\n",
        "\n",
        "**Basic Data Types**\n",
        "\n",
        "------------------------------------------------------------------------\n",
        "\n",
        "R has 6 basic vector types:\n",
        "\n",
        "1.  `character`: collections of characters. E.g., `\"a\"`,\n",
        "    `\"hello world!\"`.\n",
        "2.  `double`: decimal numbers. e.g., `1.2`, `1.0`.\n",
        "3.  `integer`: whole numbers. In R, we must add `L` to the end of a\n",
        "    number to declare it as an integer. E.g., `1L` is an integer but `1`\n",
        "    is a double.\n",
        "4.  `logical`: boolean values, `TRUE` and `FALSE`.\n",
        "5.  `complex`: complex numbers. E.g., `1+3i`.\n",
        "6.  `raw`: a type to hold raw bytes.\n",
        "\n",
        "**Other important object types**\n",
        "\n",
        "------------------------------------------------------------------------\n",
        "\n",
        "-   `numeric`: An object is `numeric` if it is of type `integer` or\n",
        "    `double`. In that case, it’s `mode` is said to be `numeric`.\n",
        "-   `NULL`: `NULL` is a special object to indicate an object is absent.\n",
        "    -   An object having a length of zero is not the same thing as an\n",
        "        object being absent.\n",
        "-   `NA`: A “missing value” occurs when the value of something isn’t\n",
        "    known. R uses the special object `NA` to represent a missing value.\n",
        "    -   If we have a missing value, we should represent that value as\n",
        "        `NA`. Note: `\"NA\"` is not the same thing as `NA`.\n",
        "\n",
        "# Data structures\n",
        "\n",
        "R operates on data structures. A data structure is a “container” that\n",
        "holds certain kinds of information.\n",
        "\n",
        "R has 5 basic data structures:\n",
        "\n",
        "1.  vector.\n",
        "2.  matrix.\n",
        "3.  array.\n",
        "4.  data frame.\n",
        "5.  list.\n",
        "\n",
        "# Vectors\n",
        "\n",
        "**Creating vectors**\n",
        "\n",
        "------------------------------------------------------------------------\n",
        "\n",
        "A *vector* is a one-dimensional set of data of the same type.\n",
        "\n",
        "The most basic way to create a vector is the `c` (combine) function.\n",
        "\n",
        "The following commands create vectors of type `numeric`, `character`,\n",
        "and `logical`, respectively.\n",
        "\n",
        "-   `c(1, 2, 5.3, 6, -2, 4)`\n",
        "-   `c(\"one\", \"two\", \"three\")`\n",
        "-   `c(TRUE, TRUE, FALSE, TRUE)`\n",
        "\n",
        "The `seq` (sequence) function is used to create an equidistant series of\n",
        "numeric values.\n",
        "\n",
        "-   `seq(1, 10)` or `1:10` creates a sequence of numbers from 1 to 10 in\n",
        "    increments of 1.\n",
        "-   `seq(1, 20, by = 2)` creates a sequence of numbers from 1 to 20 in\n",
        "    increments of 2.\n",
        "-   `seq(10, 20, len = 100)` creates a sequence of numbers from 10 to 20\n",
        "    of length 100.\n",
        "\n",
        "The `rep` (replicate) function can be used to create a vector by\n",
        "replicating values.\n",
        "\n",
        "-   `rep(1:3, times = 3)` replicates the sequence `1, 2, 3` three times.\n",
        "-   `rep(c(\"trt1\", \"trt2\", \"trt3\"), times = 1:3)` replicates `\"trt1\"`\n",
        "    once, `\"trt2\"` twice, and `\"trt3\"` three times.\n",
        "-   `rep(1:3, each = 3)` replicates each element three times.\n",
        "\n",
        "Multiple vectors can be combined into a new vector object using the `c`\n",
        "function.\n",
        "\n",
        "-   E.g., `c(v1, v2, v3)` would combine vectors `v1`, `v2`, and `v3`.\n",
        "\n",
        "**Your turn**\n",
        "\n",
        "Run the commands below in the Console."
      ],
      "id": "89d12617-66f9-4ed9-9e8f-6845d9a78b02"
    },
    {
      "cell_type": "code",
      "execution_count": null,
      "metadata": {},
      "outputs": [],
      "source": [
        "c(1, 2, 5.3, 6, -2, 4)"
      ],
      "id": "153c9c4e-dc44-4322-8c44-f493b971a712"
    },
    {
      "cell_type": "code",
      "execution_count": null,
      "metadata": {},
      "outputs": [],
      "source": [
        "c(\"one\", \"two\", \"three\")"
      ],
      "id": "2aa05aa7-879d-4397-ba38-788378d99f3a"
    },
    {
      "cell_type": "code",
      "execution_count": null,
      "metadata": {},
      "outputs": [],
      "source": [
        "c(TRUE, TRUE, FALSE, TRUE)"
      ],
      "id": "7f111ac9-1768-4618-9073-14522bed754d"
    },
    {
      "cell_type": "code",
      "execution_count": null,
      "metadata": {},
      "outputs": [],
      "source": [
        "seq(1, 10)"
      ],
      "id": "3f670b5d-add3-4a1c-a58b-e5efd648eddb"
    },
    {
      "cell_type": "code",
      "execution_count": null,
      "metadata": {},
      "outputs": [],
      "source": [
        "1:10"
      ],
      "id": "ec6374c3-9f67-45b4-ab1b-fa765da3bc1b"
    },
    {
      "cell_type": "code",
      "execution_count": null,
      "metadata": {},
      "outputs": [],
      "source": [
        "seq(1, 20, by = 2)"
      ],
      "id": "1d9a1144-ee6a-4149-acc7-a3fa605f7cd5"
    },
    {
      "cell_type": "code",
      "execution_count": null,
      "metadata": {},
      "outputs": [],
      "source": [
        "seq(10, 20, len = 100)"
      ],
      "id": "ab501080-8b65-46ed-8cfb-6b85ba9778b9"
    },
    {
      "cell_type": "markdown",
      "metadata": {},
      "source": [
        "-   What does the `by` argument of the `seq` function control?\n",
        "-   What does the `len` argument of the `seq` function control?"
      ],
      "id": "6e6da2c4-e620-44b0-87a6-e88ba1267d92"
    },
    {
      "cell_type": "code",
      "execution_count": null,
      "metadata": {},
      "outputs": [],
      "source": [
        "rep(1:3, times = 3)"
      ],
      "id": "7abba826-206a-446d-b7c5-baea7f7a0ae8"
    },
    {
      "cell_type": "code",
      "execution_count": null,
      "metadata": {},
      "outputs": [],
      "source": [
        "rep(c(\"trt1\", \"trt2\", \"trt3\"), times = 1:3)"
      ],
      "id": "a94e2c86-7f11-46e5-8aa9-6a6e10500437"
    },
    {
      "cell_type": "code",
      "execution_count": null,
      "metadata": {},
      "outputs": [],
      "source": [
        "rep(1:3, each = 3)"
      ],
      "id": "46bf45fe-e811-4e95-b846-519e745fc3f3"
    },
    {
      "cell_type": "markdown",
      "metadata": {},
      "source": [
        "-   What does the `times` argument of the `rep` function control?\n",
        "-   What does the `each` argument of the `rep` function control?"
      ],
      "id": "feaa6863-bd78-4679-8f07-4960063002b7"
    },
    {
      "cell_type": "code",
      "execution_count": null,
      "metadata": {},
      "outputs": [],
      "source": [
        "# combining vectors\n",
        "v1 <- 1:5 # create a vector, v1\n",
        "v2 <- c(1, 10, 11) # create another vector, v2\n",
        "v3 <- rep(1:2, each = 3) # crate a third vector, v3\n",
        "new <- c(v1, v2, v3) # combine vectors\n",
        "new # print the combined vector"
      ],
      "id": "fe505338-c58a-4369-acb9-6f2e1e8836a1"
    },
    {
      "cell_type": "markdown",
      "metadata": {},
      "source": [
        "**Categorical vectors**\n",
        "\n",
        "------------------------------------------------------------------------\n",
        "\n",
        "Categorical data should be stored as a `factor` in R.\n",
        "\n",
        "We create some `factor` variables below."
      ],
      "id": "e7ccf43d-24c3-4b25-9fd3-326f6ef784a0"
    },
    {
      "cell_type": "code",
      "execution_count": null,
      "metadata": {},
      "outputs": [],
      "source": [
        "f1 <- factor(rep(1:6, times = 3))\n",
        "f1"
      ],
      "id": "a46ae22f-db6a-4961-8d5c-66f6f6cef11b"
    },
    {
      "cell_type": "code",
      "execution_count": null,
      "metadata": {},
      "outputs": [],
      "source": [
        "f2 <- factor(c(\"a\", 7, \"blue\", \"blue\", FALSE))\n",
        "f2"
      ],
      "id": "13eb1e18-a1da-4a84-b7b2-a6741ff23b18"
    },
    {
      "cell_type": "markdown",
      "metadata": {},
      "source": [
        "A printed `factor` object lists the `Levels` (i.e., unique categories)\n",
        "of the object.\n",
        "\n",
        "Some additional comments:\n",
        "\n",
        "-   `factor` objects aren’t technically vectors but behave like vectors,\n",
        "    which is why we discuss them here.\n",
        "-   We can use the `is.factor` function to determine whether an object\n",
        "    is a `factor`.\n",
        "-   We can create `factor` objects with specific orderings of categories\n",
        "    using the `level` and `ordered` arguments of the `factor` function\n",
        "    (see `?factor` for more details)."
      ],
      "id": "71475afd-c95c-4ec1-9593-dede6ab297c5"
    },
    {
      "cell_type": "code",
      "execution_count": null,
      "metadata": {},
      "outputs": [],
      "source": [
        "size <- c(\"small\", \"medium\", \"small\", \"large\", \"medium\", \"medium\", \"large\")\n",
        "factor(size)"
      ],
      "id": "61359758-1e74-4537-bb12-570ca4bc74f8"
    },
    {
      "cell_type": "code",
      "execution_count": null,
      "metadata": {},
      "outputs": [],
      "source": [
        "# create ordered factor\n",
        "factor(size, levels = c(\"small\", \"medium\", \"large\"), ordered = TRUE)"
      ],
      "id": "4a8998f3-d4d6-405e-b3ba-0b6cef8091a6"
    },
    {
      "cell_type": "markdown",
      "metadata": {},
      "source": [
        "**Your Turn**\n",
        "\n",
        "Attempt to complete the following tasks:\n",
        "\n",
        "1.  Create a `factor` vector named `grp` that has two levels: `a` and\n",
        "    `b`, where the first 7 values are `a` and the second 4 values are\n",
        "    `b`.\n",
        "2.  Run `is.factor(grp)` in the Console.\n",
        "3.  Run `is.vector(grp)` in the Console.\n",
        "4.  Run `typeof(grp)` in the Console."
      ],
      "id": "858f8f38-dffd-449b-ae8d-bdf7bd2f5dd2"
    },
    {
      "cell_type": "code",
      "execution_count": null,
      "metadata": {},
      "outputs": [],
      "source": [
        "# type your code here"
      ],
      "id": "5602fabb-7c68-4da5-9d4c-1c837f36c8e4"
    },
    {
      "cell_type": "markdown",
      "metadata": {},
      "source": [
        "**Extracting parts of a vector**\n",
        "\n",
        "------------------------------------------------------------------------\n",
        "\n",
        "Parts of a vector can be extracted by appending an index vector in\n",
        "square brackets `[]`."
      ],
      "id": "1728c6de-d026-444e-9b59-ed2c581ffc7a"
    },
    {
      "cell_type": "code",
      "execution_count": null,
      "metadata": {},
      "outputs": [],
      "source": [
        "# define a sequence 2, 4, ..., 16\n",
        "a <- seq(2, 16, by = 2)\n",
        "# extract subset of vector\n",
        "a[c(2, 4, 6)]"
      ],
      "id": "5a828b90-0a7e-4f9a-91cd-5d297e8a22a9"
    },
    {
      "cell_type": "markdown",
      "metadata": {},
      "source": [
        "Supplying a negative index vector indicates the values we want to\n",
        "exclude from our result."
      ],
      "id": "b6d7be21-1b04-4415-b7a4-5c993a277ae0"
    },
    {
      "cell_type": "code",
      "execution_count": null,
      "metadata": {},
      "outputs": [],
      "source": [
        "a[-c(2, 4, 6)] # select all but elements 2, 4, 6"
      ],
      "id": "8c677a36-8c48-4bba-946e-5d6abb813b3a"
    },
    {
      "cell_type": "code",
      "execution_count": null,
      "metadata": {},
      "outputs": [],
      "source": [
        "a[-(3:6)] # select all but elements 3-6"
      ],
      "id": "ae088b84-e6c3-43b5-a8a9-4a796babd156"
    },
    {
      "cell_type": "markdown",
      "metadata": {},
      "source": [
        "**Logical Expressions**\n",
        "\n",
        "------------------------------------------------------------------------\n",
        "\n",
        "A logical expression uses one or more logical operators to determine\n",
        "which elements of an object satisfy the specified statement.\n",
        "\n",
        "The basic logical operators are:\n",
        "\n",
        "-   `<`, `<=`: less than, less than or equal to.\n",
        "-   `>`, `>=`: greater than, greater than or equal to.\n",
        "-   `==`: equal to.\n",
        "-   `!=`: not equal to.\n",
        "\n",
        "Creating a logical expression with a vector will result in a logical\n",
        "vector indicating whether each element satisfies the logical expression.\n",
        "\n",
        "We can create more complicated logical expressions using the “and”,\n",
        "“or”, and “not” operators.\n",
        "\n",
        "-   `&`: and.\n",
        "-   `|`: or.\n",
        "-   `!`: not, i.e., not true\n",
        "\n",
        "**Your turn**\n",
        "\n",
        "Run the following commands in R.\n",
        "\n",
        "What task is each command performing?"
      ],
      "id": "8655ea7b-f50b-4584-924f-991626c3e6e6"
    },
    {
      "cell_type": "code",
      "execution_count": null,
      "metadata": {},
      "outputs": [],
      "source": [
        "a > 10  # which elements of a are > 10?"
      ],
      "id": "82e367ff-3578-4cf0-b510-b069317b6e7d"
    },
    {
      "cell_type": "code",
      "execution_count": null,
      "metadata": {},
      "outputs": [],
      "source": [
        "a <= 4  # which elements of a are <= 10?"
      ],
      "id": "ea890003-5736-4921-a54f-79e8fff0d162"
    },
    {
      "cell_type": "code",
      "execution_count": null,
      "metadata": {},
      "outputs": [],
      "source": [
        "a == 10 # which elements of a are equal to 10?"
      ],
      "id": "036dadb0-9789-4a4d-aa70-08750317e7b1"
    },
    {
      "cell_type": "code",
      "execution_count": null,
      "metadata": {},
      "outputs": [],
      "source": [
        "a != 10 # which elements of a are not equal to 10?"
      ],
      "id": "282aaf46-6712-4657-90bf-43fa7cb43781"
    },
    {
      "cell_type": "code",
      "execution_count": null,
      "metadata": {},
      "outputs": [],
      "source": [
        "TRUE & TRUE & TRUE"
      ],
      "id": "3481b1af-d62a-4902-ba77-fccb04608a15"
    },
    {
      "cell_type": "code",
      "execution_count": null,
      "metadata": {},
      "outputs": [],
      "source": [
        "TRUE & TRUE & FALSE"
      ],
      "id": "1c9ab6c1-25a7-49a7-85e5-2fef90850db6"
    },
    {
      "cell_type": "code",
      "execution_count": null,
      "metadata": {},
      "outputs": [],
      "source": [
        "FALSE | TRUE | FALSE"
      ],
      "id": "c7e85a3f-2aa8-4781-83de-7f6f556c8946"
    },
    {
      "cell_type": "code",
      "execution_count": null,
      "metadata": {},
      "outputs": [],
      "source": [
        "FALSE | FALSE | FALSE"
      ],
      "id": "3c0c0dea-b314-4863-938d-8391a62101c1"
    },
    {
      "cell_type": "code",
      "execution_count": null,
      "metadata": {},
      "outputs": [],
      "source": [
        "!TRUE"
      ],
      "id": "ae5e2a89-4d7a-4ef2-860b-e57166cf732e"
    },
    {
      "cell_type": "code",
      "execution_count": null,
      "metadata": {},
      "outputs": [],
      "source": [
        "!FALSE"
      ],
      "id": "58c7728d-e750-4268-809b-2c2557244ffb"
    },
    {
      "cell_type": "code",
      "execution_count": null,
      "metadata": {},
      "outputs": [],
      "source": [
        "# which elements of a are > 6 and <= 10\n",
        "(a > 6) & (a <= 10)"
      ],
      "id": "22d016f4-9718-4936-af5f-b9963f6fdddd"
    },
    {
      "cell_type": "code",
      "execution_count": null,
      "metadata": {},
      "outputs": [],
      "source": [
        "# which elements of a are <= 4 or >= 12\n",
        "(a <= 4) | (a >= 12)"
      ],
      "id": "492898e9-6e61-432c-b7e5-3303d6ecfa5f"
    },
    {
      "cell_type": "code",
      "execution_count": null,
      "metadata": {},
      "outputs": [],
      "source": [
        "# which elements of a are NOT <= 4 or >= 12\n",
        "!((a <= 4) | (a >= 12))"
      ],
      "id": "f300e9b3-a8f3-4137-9260-a50827e2e76e"
    },
    {
      "cell_type": "markdown",
      "metadata": {},
      "source": [
        "We can pass logical expressions within the square brackets to access\n",
        "part of a data structure. This syntax will return each element of the\n",
        "object for which the expression is `TRUE`.\n",
        "\n",
        "**Your turn**\n",
        "\n",
        "Run the following commands in R and see what is printed.\n",
        "\n",
        "What task is each command performing?"
      ],
      "id": "c78e6301-5a57-4737-ac29-0edb6f1c842a"
    },
    {
      "cell_type": "code",
      "execution_count": null,
      "metadata": {},
      "outputs": [],
      "source": [
        "# extract the parts of a with values < 6\n",
        "a[a < 6]"
      ],
      "id": "30687b1b-6a05-4184-9dbe-55da35ad9a51"
    },
    {
      "cell_type": "code",
      "execution_count": null,
      "metadata": {},
      "outputs": [],
      "source": [
        "# extract the parts of a with values equal to 10\n",
        "a[a == 10]"
      ],
      "id": "e8be81e1-3d64-4122-b296-0e87556b3115"
    },
    {
      "cell_type": "code",
      "execution_count": null,
      "metadata": {},
      "outputs": [],
      "source": [
        "# extract the parts of a with values < 6 or equal to 10\n",
        "a[(a < 6)|(a == 10)]"
      ],
      "id": "007375e9-2a67-4907-abd7-d6675de594f3"
    },
    {
      "cell_type": "markdown",
      "metadata": {},
      "source": [
        "# Helpful Functions\n",
        "\n",
        "**Common Useful Functions**\n",
        "\n",
        "------------------------------------------------------------------------"
      ],
      "id": "f6158825-4980-49fb-8dfb-129799aa5d43"
    },
    {
      "cell_type": "code",
      "execution_count": null,
      "metadata": {},
      "outputs": [],
      "source": [
        "x <- rexp(100) # sample 100 iid values from an Exponential(1) distribution"
      ],
      "id": "9e209e7c-e166-48a1-b081-319a635070bf"
    },
    {
      "cell_type": "code",
      "execution_count": null,
      "metadata": {},
      "outputs": [],
      "source": [
        "length(x) # length of x"
      ],
      "id": "70d66632-386c-4904-b000-f2a10aeba4b9"
    },
    {
      "cell_type": "code",
      "execution_count": null,
      "metadata": {},
      "outputs": [],
      "source": [
        "sum(x) # sum of x"
      ],
      "id": "d0e9442b-d7cb-460d-9802-8054a6779e0c"
    },
    {
      "cell_type": "code",
      "execution_count": null,
      "metadata": {},
      "outputs": [],
      "source": [
        "mean(x) # sample mean of x"
      ],
      "id": "c22cccfa-8a8b-490a-8578-5db20e316b9e"
    },
    {
      "cell_type": "code",
      "execution_count": null,
      "metadata": {},
      "outputs": [],
      "source": [
        "var(x) # sample variance of x"
      ],
      "id": "1d402f5c-5e36-4c35-916c-2f567d79751d"
    },
    {
      "cell_type": "code",
      "execution_count": null,
      "metadata": {},
      "outputs": [],
      "source": [
        "sd(x) # sample standard deviation of x"
      ],
      "id": "6d3fb3de-de92-4a27-9a95-41894da35608"
    },
    {
      "cell_type": "code",
      "execution_count": null,
      "metadata": {},
      "outputs": [],
      "source": [
        "range(x) # range of x"
      ],
      "id": "cd1dad2f-b28b-4044-94da-f8dd4c167d1f"
    },
    {
      "cell_type": "code",
      "execution_count": null,
      "metadata": {},
      "outputs": [],
      "source": [
        "log(x) # logarithm of x"
      ],
      "id": "ca6d7d06-d55e-4eab-8cf9-7d6bfd6f0dce"
    },
    {
      "cell_type": "code",
      "execution_count": null,
      "metadata": {},
      "outputs": [],
      "source": [
        "summary(x) # summary of x"
      ],
      "id": "be475758-84ea-412f-9cd0-9196a470d5ef"
    },
    {
      "cell_type": "code",
      "execution_count": null,
      "metadata": {},
      "outputs": [],
      "source": [
        "str(x) # structure of x"
      ],
      "id": "e528c7e7-07f9-4081-b3e0-c6655a3954a2"
    },
    {
      "cell_type": "markdown",
      "metadata": {},
      "source": [
        "**Functions for Statistical Distributions**\n",
        "\n",
        "------------------------------------------------------------------------\n",
        "\n",
        "Suppose that a random variable $X$ has the `dist` distribution. The\n",
        "function templates in the list below describe how to obtain certain\n",
        "properties of $X$.\n",
        "\n",
        "-   `p[dist](q, ...)`: returns the cdf of $X$ evaluated at `q`, i.e.,\n",
        "    $p=P(X\\leq q)$.\n",
        "-   `q[dist](p, ...)`: returns the inverse cdf (or quantile function) of\n",
        "    $X$ evaluated at $p$, i.e., $q = \\inf\\{x: P(X\\leq x) \\geq p\\}$.\n",
        "-   `d[dist](x, ...)`: returns the mass or density of $X$ evaluated at\n",
        "    $x$ (depending on whether it’s discrete or continuous).\n",
        "-   `r[dist](n, ...)`: returns an independent and identically\n",
        "    distributed random sample of size `n` having the same distribution\n",
        "    as $X$.\n",
        "-   The `...` indicates that additional arguments describing the\n",
        "    parameters of the distribution may be required.\n",
        "\n",
        "**Your turn**\n",
        "\n",
        "Run the following commands in R to see the output.\n",
        "\n",
        "What task is each command performing?"
      ],
      "id": "69d3461a-73f7-4b8b-a0ad-a0dc5aead60d"
    },
    {
      "cell_type": "code",
      "execution_count": null,
      "metadata": {},
      "outputs": [],
      "source": [
        "pnorm(1.96, mean = 0, sd = 1)"
      ],
      "id": "a3f1887a-759d-4043-ba3b-6b29994b907a"
    },
    {
      "cell_type": "code",
      "execution_count": null,
      "metadata": {},
      "outputs": [],
      "source": [
        "qunif(0.6, min = 0, max = 1)"
      ],
      "id": "38f907e3-c45c-425c-b4f2-f5f69e75513b"
    },
    {
      "cell_type": "code",
      "execution_count": null,
      "metadata": {},
      "outputs": [],
      "source": [
        "dbinom(2, size = 20, prob = .2)"
      ],
      "id": "189dc321-0247-4c34-a779-5e8b480499dd"
    },
    {
      "cell_type": "code",
      "execution_count": null,
      "metadata": {},
      "outputs": [],
      "source": [
        "dexp(1, rate = 2)"
      ],
      "id": "3d2a93dd-af1b-4644-b2b7-e5b9aa816578"
    },
    {
      "cell_type": "code",
      "execution_count": null,
      "metadata": {},
      "outputs": [],
      "source": [
        "rchisq(100, df = 5)"
      ],
      "id": "9e25b413-cc8c-4831-a061-6ccab8ea42a6"
    },
    {
      "cell_type": "markdown",
      "metadata": {},
      "source": [
        "# Data Frames\n",
        "\n",
        "Data frames are a *fundamental* data structure used by most of R’s\n",
        "modeling software.\n",
        "\n",
        "Data frames are:\n",
        "\n",
        "-   two-dimensional data objects.\n",
        "-   each column of a data frame is a vector.\n",
        "\n",
        "**Data Frame Creation**\n",
        "\n",
        "------------------------------------------------------------------------\n",
        "\n",
        "Data frames are directly created by passing vectors into the\n",
        "`data.frame` function."
      ],
      "id": "a07bacef-a0d3-40d5-8272-10146cc53203"
    },
    {
      "cell_type": "code",
      "execution_count": null,
      "metadata": {},
      "outputs": [],
      "source": [
        "# create basic data frame\n",
        "d <- c(1, 2, 3, 4)\n",
        "e <- c(\"red\", \"white\", \"blue\", NA)\n",
        "f <- c(TRUE, TRUE, TRUE, FALSE)\n",
        "df <- data.frame(d,e,f)\n",
        "df"
      ],
      "id": "a0a118f5-8c26-4dd8-937e-c1ee1be0c7c1"
    },
    {
      "cell_type": "markdown",
      "metadata": {},
      "source": [
        "The columns of a data frame can be renamed using the `names` function on\n",
        "the data frame."
      ],
      "id": "612b4346-3dd7-493a-885b-1027e7fb998d"
    },
    {
      "cell_type": "code",
      "execution_count": null,
      "metadata": {},
      "outputs": [],
      "source": [
        "# name columns of data frame\n",
        "names(df) <- c(\"ID\", \"Color\", \"Passed\")\n",
        "df"
      ],
      "id": "07d62c8f-abce-4719-8fc3-a315319ea6b9"
    },
    {
      "cell_type": "markdown",
      "metadata": {},
      "source": [
        "We can initially name The columns of a data frame when we create the\n",
        "data frame by using `name =` for each vector of data."
      ],
      "id": "18ea49bd-5d5f-493a-809b-e00518d6a6d8"
    },
    {
      "cell_type": "code",
      "execution_count": null,
      "metadata": {},
      "outputs": [],
      "source": [
        "# create data frame with better column names\n",
        "df2 <- data.frame(ID = d, Color = e, Passed = f)\n",
        "df2"
      ],
      "id": "59d120e9-1daf-42ff-a483-dc77d8b20ecf"
    },
    {
      "cell_type": "markdown",
      "metadata": {},
      "source": [
        "**Importing Data**\n",
        "\n",
        "------------------------------------------------------------------------\n",
        "\n",
        "In practice, the data we want to analyze is saved in a file, and we can\n",
        "import the data from the file into R.\n",
        "\n",
        "The `read.table` function imports data in table format from file into R\n",
        "as a data frame.\n",
        "\n",
        "-   `file` is the file path and name of the file we want to import into\n",
        "    R.\n",
        "    -   If we don’t know the file path, we can use\n",
        "        `file = file.choose()` to launch a dialog box asking us to\n",
        "        locate the file we want to import.\n",
        "-   `header` specifies whether the data file has a header (variable\n",
        "    labels for each column of data in the first row of the data file).\n",
        "    -   If we don’t specify this option in R or use `header = FALSE`,\n",
        "        then R will assume the file doesn’t have any headings.\n",
        "    -   `header = TRUE` tells R to read in the data as a data frame with\n",
        "        column names taken from the first row of the data file.\n",
        "-   `sep` specifies the delimiter separating elements in the file.\n",
        "    -   If each column of data in the file is separated by a space, then\n",
        "        use `sep = \" \"`.\n",
        "    -   If each column of data in the file is separated by a comma, then\n",
        "        use `sep = \",\"`.\n",
        "    -   If each column of data in the file is separated by a tab, then\n",
        "        use `sep = \"\\t\"`.\n",
        "\n",
        "Consider reading in a csv (comma separated file) with a header. The file\n",
        "in question contains information related to COVID-19 cases and deaths as\n",
        "of December 4, 2020."
      ],
      "id": "bb38a610-0cca-4bb0-90fc-dcc4d595bed7"
    },
    {
      "cell_type": "code",
      "execution_count": null,
      "metadata": {},
      "outputs": [],
      "source": [
        "# import data as data frame\n",
        "dtf <- read.table(file = \"https://raw.githubusercontent.com/jfrench/DataWrangleViz/master/data/covid_dec4.csv\",\n",
        "                  header = TRUE,\n",
        "                  sep = \",\")\n",
        "str(dtf)"
      ],
      "id": "c60d1674-275e-44c1-a594-da7fc0f934d8"
    },
    {
      "cell_type": "markdown",
      "metadata": {},
      "source": [
        "**Extracting parts of a data frame**\n",
        "\n",
        "------------------------------------------------------------------------\n",
        "\n",
        "R provides many ways to extract parts of a data frame.\n",
        "\n",
        "The `mtcars` data frame 32observations of 11 variables."
      ],
      "id": "8742e109-9cdb-403c-81ac-39748931d144"
    },
    {
      "cell_type": "code",
      "execution_count": null,
      "metadata": {},
      "outputs": [],
      "source": [
        "data(mtcars) # load data set\n",
        "str(mtcars)  # examine data structure"
      ],
      "id": "022d5c71-4797-4cfb-afc4-666dc3c4de7c"
    },
    {
      "cell_type": "markdown",
      "metadata": {},
      "source": [
        "We can extract the `mpg` variable from the `mtcars` data frame using the\n",
        "`$` operator."
      ],
      "id": "e76602f3-2a13-4959-89f8-6fa3d54c400e"
    },
    {
      "cell_type": "code",
      "execution_count": null,
      "metadata": {},
      "outputs": [],
      "source": [
        "mtcars$mpg"
      ],
      "id": "bbd06a7b-f244-49bf-ae6b-ed90350b6127"
    },
    {
      "cell_type": "markdown",
      "metadata": {},
      "source": [
        "Another way to extract a variable from a data frame uses a\n",
        "`df[rows, columns]` style syntax.\n",
        "\n",
        "-   `rows` and `columns` indicate the desired rows or columns.\n",
        "-   If either the `rows` or `columns` are left blank, then all `rows` or\n",
        "    `columns`, respectively, are extracted."
      ],
      "id": "00a266a2-5d78-4ded-a386-92cac4b47443"
    },
    {
      "cell_type": "code",
      "execution_count": null,
      "metadata": {},
      "outputs": [],
      "source": [
        "mtcars[,\"mpg\"]"
      ],
      "id": "8b5d0b24-bd85-413f-9fe7-395097fc37da"
    },
    {
      "cell_type": "markdown",
      "metadata": {},
      "source": [
        "To select multiple variables in a data frame, we can provide a character\n",
        "vector with multiple variable names between `[]`."
      ],
      "id": "bef6cf23-aa12-497d-ac03-513a71c4fbdd"
    },
    {
      "cell_type": "code",
      "execution_count": null,
      "metadata": {},
      "outputs": [],
      "source": [
        "mtcars[c(\"mpg\", \"cyl\")]"
      ],
      "id": "606fb1a4-9409-433f-9b9a-b1a836d15789"
    },
    {
      "cell_type": "markdown",
      "metadata": {},
      "source": [
        "We can also use numeric indices to directly indicate the rows or columns\n",
        "of the data frame that we would like to extract."
      ],
      "id": "bafef5bb-9edb-47da-b0fe-a9b421056d59"
    },
    {
      "cell_type": "code",
      "execution_count": null,
      "metadata": {},
      "outputs": [],
      "source": [
        "mtcars[c(1, 2)]"
      ],
      "id": "423d68f1-575f-41c8-9b2f-897db8e8d092"
    },
    {
      "cell_type": "markdown",
      "metadata": {},
      "source": [
        "**Conditional Extraction of Data Frames**\n",
        "\n",
        "------------------------------------------------------------------------\n",
        "\n",
        "Logical expressions can be used to subset a data frame.\n",
        "\n",
        "The following command creates of vector of logical values."
      ],
      "id": "373d04d0-0627-40bd-a842-4360c53cf76a"
    },
    {
      "cell_type": "code",
      "execution_count": null,
      "metadata": {},
      "outputs": [],
      "source": [
        "mtcars$hp > 250"
      ],
      "id": "70bd3a5e-cd0d-4af3-87dc-be0836c0e152"
    },
    {
      "cell_type": "markdown",
      "metadata": {},
      "source": [
        "This vector can be used to extract rows for all of the `TRUE` values."
      ],
      "id": "9180d0fc-bc94-4fa0-8a10-dfbe64ad9684"
    },
    {
      "cell_type": "code",
      "execution_count": null,
      "metadata": {},
      "outputs": [],
      "source": [
        "# extract rows with hp > 250\n",
        "mtcars[mtcars$hp > 250,]"
      ],
      "id": "d6f2f30d-1c2a-4189-90ad-874f60fcd5e2"
    },
    {
      "cell_type": "markdown",
      "metadata": {},
      "source": [
        "We can make the logical expression more complicated."
      ],
      "id": "01dd6dd7-9907-438b-bc24-208ccad12790"
    },
    {
      "cell_type": "code",
      "execution_count": null,
      "metadata": {},
      "outputs": [],
      "source": [
        "# return rows with `cyl == 8` and `mpg > 17`\n",
        "# return columns mpg, cyl, disp, hp\n",
        "mtcars[mtcars$cyl == 8 & mtcars$mpg > 17, c(\"mpg\", \"cyl\", \"disp\", \"hp\")]"
      ],
      "id": "a9145eb2-0c39-4cf0-88a4-07769b06a329"
    },
    {
      "cell_type": "markdown",
      "metadata": {},
      "source": [
        "**Modifying Data Frames**\n",
        "\n",
        "------------------------------------------------------------------------\n",
        "\n",
        "We can add columns to a data frame by combining the `$` and assignment\n",
        "operators."
      ],
      "id": "1b664455-93ba-401f-9769-cfeb3ff5578a"
    },
    {
      "cell_type": "code",
      "execution_count": null,
      "metadata": {},
      "outputs": [],
      "source": [
        "mtcars$kpg <- mtcars$mpg * 1.6"
      ],
      "id": "665fe1af-04ae-4fff-a93d-1cbfe279c3f4"
    },
    {
      "cell_type": "markdown",
      "metadata": {},
      "source": [
        "**Extraction using the `subset` function**\n",
        "\n",
        "------------------------------------------------------------------------\n",
        "\n",
        "The `subset` function returns the part of a data frame that meets the\n",
        "specified conditions.\n",
        "\n",
        "The basic usage of this function is:\n",
        "`subset(x, subset, select, drop = FALSE)`\n",
        "\n",
        "-   `x` is the object we want to subset.\n",
        "    -   `x` can be a vector, matrix, or data frame.\n",
        "-   `subset` is a logical expression that indicates the elements or rows\n",
        "    of `x` to keep (`TRUE` means keep).\n",
        "-   `select` is a vector that indicates the columns to keep.\n",
        "-   `drop` is a logical value indicating whether the data frame should\n",
        "    “drop” into a vector if only a single row or column is kept. The\n",
        "    default is `FALSE`.\n",
        "\n",
        "**Your turn**\n",
        "\n",
        "Run the following commands in the Console to use the `subset` function\n",
        "to extract parts of the `mtcars` data frame.\n",
        "\n",
        "What is each command performing?"
      ],
      "id": "62e1a482-3143-4546-bc49-01a23e713960"
    },
    {
      "cell_type": "code",
      "execution_count": null,
      "metadata": {},
      "outputs": [],
      "source": [
        "subset(mtcars, subset = gear > 4)"
      ],
      "id": "9dde33ff-0b3f-4fe3-b825-bcc2b9ae2177"
    },
    {
      "cell_type": "code",
      "execution_count": null,
      "metadata": {},
      "outputs": [],
      "source": [
        "subset(mtcars, select = c(disp, hp, gear))"
      ],
      "id": "1cf800db-628a-4170-9ac4-05e616756b38"
    },
    {
      "cell_type": "code",
      "execution_count": null,
      "metadata": {},
      "outputs": [],
      "source": [
        "subset(mtcars, subset = gear > 4, select = c(disp, hp, gear))"
      ],
      "id": "360be5cb-38a3-4c71-ab9b-db48eb4d1e4f"
    },
    {
      "cell_type": "markdown",
      "metadata": {},
      "source": [
        "# Using the pipe operator\n",
        "\n",
        "R’s native pipe operator (`|>`) allows us to “pipe” the object on the\n",
        "left side of the operator into the first argument of the function on the\n",
        "right side of the operator. The pipe operator is a convenient way to\n",
        "string together numerous steps in a string of commands.\n",
        "\n",
        "When reading code with pipes, the pipe can be thought of as the word\n",
        "“then”.\n",
        "\n",
        "In the code below, we take `mtcars` *then* subset it based on `disp` and\n",
        "*then* select some columns."
      ],
      "id": "c91e0acc-36e7-4a6a-944f-3d11be9fa232"
    },
    {
      "cell_type": "code",
      "execution_count": null,
      "metadata": {},
      "outputs": [],
      "source": [
        "subset(mtcars,\n",
        "       subset = disp > 400,\n",
        "       select = c(mpg, disp, hp))"
      ],
      "id": "aa3f7cb9-09f2-47bf-a238-7f5f82b12867"
    },
    {
      "cell_type": "code",
      "execution_count": null,
      "metadata": {},
      "outputs": [],
      "source": [
        "mtcars |>\n",
        "  subset(subset = disp > 400) |>\n",
        "  subset(select = c(mpg, disp, hp))"
      ],
      "id": "feacc3fd-4f79-4ae0-b522-fcec5c45c5c7"
    },
    {
      "cell_type": "markdown",
      "metadata": {},
      "source": [
        "Here is a complicated sequence of piped commands. What are the commands\n",
        "doing?"
      ],
      "id": "45e9f8a7-505a-4256-bb85-75a9ca78df30"
    },
    {
      "cell_type": "code",
      "execution_count": null,
      "metadata": {},
      "outputs": [],
      "source": [
        "# create new variable, select columns, extract first 5 rows\n",
        "mtcars |>\n",
        "  transform(lp100km = 237.5/mpg) |>\n",
        "  subset(select = c(mpg, lp100km)) |>\n",
        "  head(n = 5)"
      ],
      "id": "316db83b-24e8-45e8-ac2d-585edc3650c2"
    }
  ],
  "nbformat": 4,
  "nbformat_minor": 5,
  "metadata": {
    "kernelspec": {
      "display_name": "Python 3",
      "language": "python",
      "name": "python3"
    }
  }
}