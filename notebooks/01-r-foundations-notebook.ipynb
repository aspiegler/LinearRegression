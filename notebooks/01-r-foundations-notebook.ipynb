{
  "cells": [
    {
      "cell_type": "markdown",
      "metadata": {},
      "source": [
        "# Chapter 1 - R Foundations\n",
        "\n",
        "Joshua French\n",
        "\n",
        "To open this information in an interactive Colab notebook, click or scan the QR code below.\n",
        "\n",
        "<a href=\"https://colab.research.google.com/github/jfrench/LinearRegression/blob/master/notebooks/01-r-foundations-notebook.ipynb\"> <img src=\"https://raw.githubusercontent.com/jfrench/LinearRegression/d44d4e0fe06b7526dc59adfa7667eec8328ce703/images/qr-r-foundations.svg\"> </a>\n",
        "\n",
        "------------------------------------------------------------------------\n",
        "\n",
        "# What is R?\n",
        "\n",
        "R is a programming language and environment designed for statistical computing. [(https://www.r-project.org/about.html)](https://www.r-project.org/about.html)\n",
        "\n",
        "R is free, open source, and runs on many different types of computers (Windows, Mac, Linux, and others).\n",
        "\n",
        "R is an interactive programming language.\n",
        "\n",
        "-   We type and run a command in the Console for immediate feedback, in contrast to a compiled programming language, which compiles a program that is then executed.\n",
        "\n",
        "R is highly extendable.\n",
        "\n",
        "-   We can extend the functionality of R beyond what is available by default by installing user-created packages.\n",
        "-   We can write our own functions to add additional capabilities in R.\n",
        "\n",
        "# Installing R and RStudio\n",
        "\n",
        "Install R by downloading an installer program from the R Project’s website [(https://www.r-project.org/)](https://www.r-project.org/).\n",
        "\n",
        "RStudio Desktop is a free “front end” for R that makes doing data analysis with R easier by adding an Integrated Development Environment (IDE) and providing many other features. Currently, we can download RStudio at <https://posit.co/download/rstudio-desktop/>.\n",
        "\n",
        "**RStudio Layout**\n",
        "\n",
        "RStudio Desktop has four panes:\n",
        "\n",
        "1.  Console: the pane where we run commands.\n",
        "2.  Source: the pane where we prepare commands to run.\n",
        "3.  Environment/History: the pane where we can see all the objects in our workspace, our command history, and other information.\n",
        "4.  The Files/Plot/Packages/Help: the pane where we navigate between directories, view plots, see the packages available to be loaded, or get help.\n",
        "\n",
        "<img src=\"https://raw.githubusercontent.com/jfrench/LinearRegression/ba73f4ffa2c6eec30e425352e89154a92e4a0fb8/images/rstudio_panes_new.png\" width=\"800\">\n",
        "\n",
        "Tip: Change the R Studio environment so that it doesn’t save the workspace when exiting the application.\n",
        "\n",
        "# Running code, scripts, and comments\n",
        "\n",
        "We can run code in R by typing it in the Console next to the `>` symbol and pressing the Enter key.\n",
        "\n",
        "It’s better to write our commands in a “Script” file, save the Script, and then run our commands from the Script. The commands in a Script file are generically referred to as “code”.\n",
        "\n",
        "Script files make it easy to:\n",
        "\n",
        "-   Reproduce our data analysis without retyping all our commands.\n",
        "-   Share our code with others.\n",
        "\n",
        "A new Script file can be obtained by:\n",
        "\n",
        "-   Clicking File → New File → R Script in the RStudio menu bar.\n",
        "-   Pressing `Ctrl + Shift + n` on a PC or `Cmd + Shift + n` on a Mac.\n",
        "\n",
        "To run code from a Script file:\n",
        "\n",
        "-   Highlight the code we want to run and click the Run button at the top of the Script pane.\n",
        "-   Highlight the code we want to run and press “Ctrl + Enter” on our keyboard. If we don’t highlight anything, by default, RStudio runs the command the cursor currently lies on.\n",
        "\n",
        "To save a Script file:\n",
        "\n",
        "-   Click File → Save in the RStudio menu bar.\n",
        "-   Press `Ctrl + s` on a PC or `Cmd + s` on a Mac.\n",
        "\n",
        "A comment is a set of text ignored by R when submitted to the Console.\n",
        "\n",
        "A comment is indicated by the `#` symbol. Nothing to the right of the `#` is executed by the Console.\n",
        "\n",
        "We can comment (or uncomment) multiple lines of code in the Source pane of RStudio by highlighting the code we want to comment and pressing `Ctrl + Shift + c` on a PC or `Cmd + Shift + c` on a Mac.\n",
        "\n",
        "**Hands-on Practice**\n",
        "\n",
        "Perform the following tasks:\n",
        "\n",
        "1.  Type `1+1` in the Console and press Enter.\n",
        "2.  Open a new Script in RStudio.\n",
        "3.  Type `mean(1:3)` in the Script file.\n",
        "4.  Type `# mean(1:3)` in the Script file.\n",
        "5.  Run the commands from the Script using an approach mentioned above.\n",
        "6.  Save the Script file.\n",
        "7.  Use the keyboard shortcut to “comment out” some of the lines of the Script file."
      ],
      "id": "6b056c32-d828-4c9d-9ab1-80a1b2003b3f"
    },
    {
      "cell_type": "code",
      "execution_count": null,
      "metadata": {},
      "outputs": [],
      "source": [
        "# type code here"
      ],
      "id": "ae88b58b-cc22-444a-9783-5520864b60a5"
    },
    {
      "cell_type": "markdown",
      "metadata": {},
      "source": [
        "# Assignment in R\n",
        "\n",
        "R works on various types of objects that we’ll learn more about later.\n",
        "\n",
        "To store an object in the computer’s memory we must assign it a name using the assignment operator `<-` or the equal sign `=`.\n",
        "\n",
        "Some comments:\n",
        "\n",
        "-   In general, both `<-` and `=` can be used for assignment.\n",
        "-   Pressing `Alt + -` on a PC or `Option + -` on a Mac will insert `<-` into the R Console and Script files.\n",
        "    -   If we are creating an R Markdown or Quarto file, then this shortcut will only insert `<-` if we are in a code block.\n",
        "-   `<-` and `=` are NOT synonyms but can be used identically most of the time.\n",
        "\n",
        "# Functions\n",
        "\n",
        "We use a function by typing the function’s name in the Console (or Script), supplying the function’s “arguments” between parentheses, `()`, and then pressing Enter.\n",
        "\n",
        "The arguments of a function are pieces of data or information the function needs to perform the requested task (i.e., the function “inputs”). Each argument we supply is separated by a comma, `,`.\n",
        "\n",
        "**Hands-on Practice**\n",
        "\n",
        "Run the following commands in the Console.\n",
        "\n",
        "What is each command doing?"
      ],
      "id": "7f4e53dc-ee1d-4ca3-94ab-97719dbebcf4"
    },
    {
      "cell_type": "code",
      "execution_count": null,
      "metadata": {},
      "outputs": [],
      "source": [
        "# compute the mean of 1, 2, ..., 10 and assign the name m\n",
        "m <- mean(1:10) \n",
        "m # print m"
      ],
      "id": "c5b3f6c1-d69d-49ad-95ae-78e57a61da3f"
    },
    {
      "cell_type": "code",
      "execution_count": null,
      "metadata": {},
      "outputs": [],
      "source": [
        "print(m) # print m a different way"
      ],
      "id": "71745818-8789-4131-ac3c-05a6b1a9bccb"
    },
    {
      "cell_type": "code",
      "execution_count": null,
      "metadata": {},
      "outputs": [],
      "source": [
        "mean(c(1, 5, 3, 4, 10)) # mean of a new vector"
      ],
      "id": "516aaced-b1d6-4f0a-a4f7-a35a2f43e3f7"
    },
    {
      "cell_type": "code",
      "execution_count": null,
      "metadata": {},
      "outputs": [],
      "source": [
        "mean(c(1, 5, 3, 4, 10), trim = 0.2) # compute trimmed mean"
      ],
      "id": "4c2589bf-c426-48b2-b2d8-a740c6296fdb"
    },
    {
      "cell_type": "markdown",
      "metadata": {},
      "source": [
        "# Packages\n",
        "\n",
        "Packages are collections of functions, data, and other objects that extend the functionality available in R by default.\n",
        "\n",
        "R packages can be installed using the `install.packages` function and loaded using the `library` function.\n",
        "\n",
        "The **tidyverse** package (actually, a collection of packages) contains data and some useful functions we will be using later in the course.\n",
        "\n",
        "**Hands-on Practice**"
      ],
      "id": "d7e640ee-edc4-4ebe-aa67-ee28a37fe7e1"
    },
    {
      "cell_type": "code",
      "execution_count": null,
      "metadata": {},
      "outputs": [],
      "source": [
        "# install tidyverse if it's not already installed\n",
        "if (!require(\"tidyverse\")){\n",
        "    install.packages(\"tidyverse\")\n",
        "}"
      ],
      "id": "01742a62-d46b-4b06-a8f8-357adb96aad1"
    },
    {
      "cell_type": "markdown",
      "metadata": {},
      "source": [
        "After we install **tidyverse**, we can load the package by running the command below."
      ],
      "id": "60f62396-8802-4ef1-9a8e-d9ab7af17cb4"
    },
    {
      "cell_type": "code",
      "execution_count": null,
      "metadata": {},
      "outputs": [],
      "source": [
        "library(tidyverse)"
      ],
      "id": "55eeb159-f976-400b-9ebf-e8aa46e7e094"
    },
    {
      "cell_type": "markdown",
      "metadata": {},
      "source": [
        "# Getting Help\n",
        "\n",
        "There are many ways to get help in R.\n",
        "\n",
        "-   To get help for a function named `command`, run `?command` to access the documentation\n",
        "    -   The Documentation will provide information on the function use, arguments, usage examples, and more.\n",
        "-   Running `??topic` will search the documentation for any occurrence of the word “topic” and provide a list of relevant documentation to consider.\n",
        "-   Stack Overflow (<https://www.stackoverflow.com>) is a great resource to find solutions.\n",
        "-   AI chatbots like ChatGPT and Gemini are becoming better at suggesting and correcting computer code.\n",
        "\n",
        "**Hands-on Practice**\n",
        "\n",
        "Let’s get help on the `lm` function through the R console."
      ],
      "id": "31adfded-b119-467d-9549-5c9c5e2e59e4"
    },
    {
      "cell_type": "code",
      "execution_count": null,
      "metadata": {},
      "outputs": [],
      "source": [
        "?lm"
      ],
      "id": "04539a26-495f-4265-b442-609942cc6b21"
    },
    {
      "cell_type": "markdown",
      "metadata": {},
      "source": [
        "Next, try the following search in an AI chatbot: “How do I create a scatter plot in R?” Was the information useful?\n",
        "\n",
        "# Data Types and Structures\n",
        "\n",
        "**Basic Data Types**\n",
        "\n",
        "------------------------------------------------------------------------\n",
        "\n",
        "R has 6 basic vector types:\n",
        "\n",
        "1.  `character`: collections of characters. E.g., `\"a\"`, `\"hello world!\"`.\n",
        "2.  `double`: decimal numbers. e.g., `1.2`, `1.0`.\n",
        "3.  `integer`: positive and negative whole numbers. In R, we must add `L` to the end of a number to declare it as an integer. E.g., `1L` is an integer but `1` is a double.\n",
        "4.  `logical`: boolean values, `TRUE` and `FALSE`.\n",
        "5.  `complex`: complex numbers. E.g., `1+3i`.\n",
        "6.  `raw`: a type to hold raw bytes.\n",
        "\n",
        "**Other important object types**\n",
        "\n",
        "------------------------------------------------------------------------\n",
        "\n",
        "-   `numeric`: An object is `numeric` if it is of type `integer` or `double`. In that case, it’s `mode` is said to be `numeric`.\n",
        "-   `NULL`: `NULL` is a special object to indicate an object is absent.\n",
        "    -   An object having a length of zero is not the same thing as an object being absent.\n",
        "-   `NA`: A “missing value” occurs when the value of something isn’t known. R uses the special object `NA` to represent a missing value.\n",
        "    -   If we have a missing value, we should represent that value as `NA`. Note: `\"NA\"` is not the same thing as `NA`.\n",
        "\n",
        "# Data structures\n",
        "\n",
        "R operates on data structures. A data structure is a “container” that holds certain kinds of information.\n",
        "\n",
        "R has 5 basic data structures:\n",
        "\n",
        "1.  vector.\n",
        "2.  matrix.\n",
        "3.  array.\n",
        "4.  data frame.\n",
        "5.  list.\n",
        "\n",
        "# Vectors\n",
        "\n",
        "**Creating vectors**\n",
        "\n",
        "------------------------------------------------------------------------\n",
        "\n",
        "A *vector* is a one-dimensional set of data of the same type.\n",
        "\n",
        "The most basic way to create a vector is the `c` (combine) function.\n",
        "\n",
        "The following commands create vectors of type `numeric`, `character`, and `logical`, respectively.\n",
        "\n",
        "-   `c(1, 2, 5.3, 6, -2, 4)`\n",
        "-   `c(\"one\", \"two\", \"three\")`\n",
        "-   `c(TRUE, TRUE, FALSE, TRUE)`\n",
        "\n",
        "The `seq` (sequence) function is used to create an equidistant series of numeric values.\n",
        "\n",
        "-   `seq(1, 10)` or `1:10` creates a sequence of numbers from 1 to 10 in increments of 1.\n",
        "-   `seq(1, 20, by = 2)` creates a sequence of numbers from 1 to 20 in increments of 2.\n",
        "-   `seq(10, 20, len = 10)` creates a sequence of numbers from 10 to 20 of length 10.\n",
        "\n",
        "The `rep` (replicate) function can be used to create a vector by replicating values.\n",
        "\n",
        "-   `rep(1:3, times = 3)` replicates the sequence `1, 2, 3` three times.\n",
        "-   `rep(c(\"trt1\", \"trt2\", \"trt3\"), times = 1:3)` replicates `\"trt1\"` once, `\"trt2\"` twice, and `\"trt3\"` three times.\n",
        "-   `rep(1:3, each = 3)` replicates each element three times.\n",
        "\n",
        "Multiple vectors can be combined into a new vector object using the `c` function.\n",
        "\n",
        "-   E.g., `c(v1, v2, v3)` would combine vectors `v1`, `v2`, and `v3`.\n",
        "\n",
        "**Hands-on Practice**\n",
        "\n",
        "Run the commands below in the Console."
      ],
      "id": "a4a2d864-3bdb-4232-96c0-a26447e4ec76"
    },
    {
      "cell_type": "code",
      "execution_count": null,
      "metadata": {},
      "outputs": [],
      "source": [
        "c(1, 2, 5.3, 6, -2, 4)"
      ],
      "id": "41bf6f65-5470-42d7-81fa-0c85b3a67847"
    },
    {
      "cell_type": "code",
      "execution_count": null,
      "metadata": {},
      "outputs": [],
      "source": [
        "c(\"one\", \"two\", \"three\")"
      ],
      "id": "9d3621e3-1adb-4178-82d3-b70961ce9088"
    },
    {
      "cell_type": "code",
      "execution_count": null,
      "metadata": {},
      "outputs": [],
      "source": [
        "c(TRUE, TRUE, FALSE, TRUE)"
      ],
      "id": "c5bd3b4e-276d-488f-91e8-a72274ea241e"
    },
    {
      "cell_type": "code",
      "execution_count": null,
      "metadata": {},
      "outputs": [],
      "source": [
        "seq(1, 10)"
      ],
      "id": "c8e8a331-2d9a-43ae-a646-c3b4fbdad8ca"
    },
    {
      "cell_type": "code",
      "execution_count": null,
      "metadata": {},
      "outputs": [],
      "source": [
        "1:10"
      ],
      "id": "b4d7e148-b78a-47de-a1d7-dd605ad76779"
    },
    {
      "cell_type": "code",
      "execution_count": null,
      "metadata": {},
      "outputs": [],
      "source": [
        "seq(1, 20, by = 2)"
      ],
      "id": "51bc768e-ed32-462b-a596-dcd67eee2bfe"
    },
    {
      "cell_type": "code",
      "execution_count": null,
      "metadata": {},
      "outputs": [],
      "source": [
        "seq(10, 20, len = 10)"
      ],
      "id": "7e8a7b7d-27fb-4db3-8e2c-5420f9f032f6"
    },
    {
      "cell_type": "markdown",
      "metadata": {},
      "source": [
        "-   What does the `by` argument of the `seq` function control?\n",
        "-   What does the `len` argument of the `seq` function control?"
      ],
      "id": "7b2afc81-fd8c-4f1f-843d-9338f2de92c5"
    },
    {
      "cell_type": "code",
      "execution_count": null,
      "metadata": {},
      "outputs": [],
      "source": [
        "rep(1:3, times = 3)"
      ],
      "id": "25db8500-ca9d-4a9a-84d0-6fefcadacd22"
    },
    {
      "cell_type": "code",
      "execution_count": null,
      "metadata": {},
      "outputs": [],
      "source": [
        "rep(c(\"trt1\", \"trt2\", \"trt3\"), times = 1:3)"
      ],
      "id": "e25b0503-62a9-49ff-b708-07464159ba11"
    },
    {
      "cell_type": "code",
      "execution_count": null,
      "metadata": {},
      "outputs": [],
      "source": [
        "rep(1:3, each = 3)"
      ],
      "id": "4991fe8e-7a10-41ec-a02d-c37f02424b42"
    },
    {
      "cell_type": "markdown",
      "metadata": {},
      "source": [
        "-   What does the `times` argument of the `rep` function control?\n",
        "-   What does the `each` argument of the `rep` function control?"
      ],
      "id": "feb54321-9e84-42c4-882f-a85a100d7f38"
    },
    {
      "cell_type": "code",
      "execution_count": null,
      "metadata": {},
      "outputs": [],
      "source": [
        "# combining vectors\n",
        "v1 <- 1:5 # create a vector, v1\n",
        "v2 <- c(1, 10, 11) # create another vector, v2\n",
        "v3 <- rep(1:2, each = 3) # crate a third vector, v3\n",
        "new <- c(v1, v2, v3) # combine vectors\n",
        "new # print the combined vector"
      ],
      "id": "62156e2b-109a-486e-a980-f76a8bd65cb0"
    },
    {
      "cell_type": "markdown",
      "metadata": {},
      "source": [
        "**Categorical vectors**\n",
        "\n",
        "------------------------------------------------------------------------\n",
        "\n",
        "Categorical data should be stored as a `factor` in R.\n",
        "\n",
        "We create some `factor` variables below."
      ],
      "id": "78626a68-29ba-4361-a1b1-66b6008f8973"
    },
    {
      "cell_type": "code",
      "execution_count": null,
      "metadata": {},
      "outputs": [],
      "source": [
        "f1 <- factor(rep(1:6, times = 3))\n",
        "f1"
      ],
      "id": "b0d12c4c-d551-4358-8a1c-3253c813633c"
    },
    {
      "cell_type": "code",
      "execution_count": null,
      "metadata": {},
      "outputs": [],
      "source": [
        "f2 <- factor(c(\"a\", 7, \"blue\", \"blue\", FALSE))\n",
        "f2"
      ],
      "id": "bc7cccda-bedb-4148-bc64-b69eb56e4799"
    },
    {
      "cell_type": "markdown",
      "metadata": {},
      "source": [
        "A printed `factor` object lists the `Levels` (i.e., unique categories) of the object.\n",
        "\n",
        "Some additional comments:\n",
        "\n",
        "-   `factor` objects aren’t technically vectors but behave like vectors, which is why we discuss them here.\n",
        "-   We can use the `is.factor` function to determine whether an object is a `factor`.\n",
        "-   We can create `factor` objects with specific orderings of categories using the `level` and `ordered` arguments of the `factor` function (see `?factor` for more details)."
      ],
      "id": "b6d38c0c-aa09-4e3a-994e-8814529a24fd"
    },
    {
      "cell_type": "code",
      "execution_count": null,
      "metadata": {},
      "outputs": [],
      "source": [
        "size <- c(\"small\", \"medium\", \"small\", \"large\", \"medium\", \"medium\", \"large\")\n",
        "factor(size)"
      ],
      "id": "35f7f294-94a5-4b11-bd27-5cae67d661c2"
    },
    {
      "cell_type": "code",
      "execution_count": null,
      "metadata": {},
      "outputs": [],
      "source": [
        "# create ordered factor\n",
        "factor(size, levels = c(\"small\", \"medium\", \"large\"), ordered = TRUE)"
      ],
      "id": "dfc446e1-048e-4eb4-8a61-049f869e00d5"
    },
    {
      "cell_type": "markdown",
      "metadata": {},
      "source": [
        "**Hands-on Practice**\n",
        "\n",
        "Attempt to complete the following tasks:\n",
        "\n",
        "1.  Create a `factor` vector named `grp` that has two levels: `a` and `b`, where the first 7 values are `a` and the second 4 values are `b`.\n",
        "2.  Run `is.factor(grp)` in the Console.\n",
        "3.  Run `is.vector(grp)` in the Console.\n",
        "4.  Run `typeof(grp)` in the Console."
      ],
      "id": "12e66474-f5de-4c71-beb3-43749b0c946f"
    },
    {
      "cell_type": "code",
      "execution_count": null,
      "metadata": {},
      "outputs": [],
      "source": [
        "# type code here"
      ],
      "id": "03a34891-0bb3-45fb-81c2-3018087cd247"
    },
    {
      "cell_type": "markdown",
      "metadata": {},
      "source": [
        "**Extracting parts of a vector**\n",
        "\n",
        "------------------------------------------------------------------------\n",
        "\n",
        "Parts of a vector can be extracted by appending an index vector in square brackets `[]`."
      ],
      "id": "62d309cc-67ae-4de4-b2ae-5e8ebea1b288"
    },
    {
      "cell_type": "code",
      "execution_count": null,
      "metadata": {},
      "outputs": [],
      "source": [
        "# define a sequence 2, 4, ..., 16\n",
        "a <- seq(2, 16, by = 2)\n",
        "# extract subset of vector\n",
        "a[c(2, 4, 6)]"
      ],
      "id": "19da0d61-a239-420a-9051-ff40246386fa"
    },
    {
      "cell_type": "markdown",
      "metadata": {},
      "source": [
        "Supplying a negative index vector indicates the values we want to exclude from our result."
      ],
      "id": "50e973e0-a488-4476-a9c9-910b04698e4d"
    },
    {
      "cell_type": "code",
      "execution_count": null,
      "metadata": {},
      "outputs": [],
      "source": [
        "a[-c(2, 4, 6)] # select all but elements 2, 4, 6"
      ],
      "id": "4f39e4ae-4fe0-4e8e-9512-810d928e795a"
    },
    {
      "cell_type": "code",
      "execution_count": null,
      "metadata": {},
      "outputs": [],
      "source": [
        "a[-(3:6)] # select all but elements 3-6"
      ],
      "id": "e762c264-3666-47d0-9a78-65be0bb23435"
    },
    {
      "cell_type": "markdown",
      "metadata": {},
      "source": [
        "**Logical Expressions**\n",
        "\n",
        "------------------------------------------------------------------------\n",
        "\n",
        "A logical expression uses one or more logical operators to determine which elements of an object satisfy the specified statement.\n",
        "\n",
        "The basic logical operators are:\n",
        "\n",
        "-   `<`, `<=`: less than, less than or equal to.\n",
        "-   `>`, `>=`: greater than, greater than or equal to.\n",
        "-   `==`: equal to.\n",
        "-   `!=`: not equal to.\n",
        "\n",
        "Creating a logical expression with a vector will result in a logical vector indicating whether each element satisfies the logical expression.\n",
        "\n",
        "We can create more complicated logical expressions using the “and”, “or”, and “not” operators.\n",
        "\n",
        "-   `&`: and.\n",
        "-   `|`: or.\n",
        "-   `!`: not, i.e., not true\n",
        "\n",
        "**Hands-on Practice**\n",
        "\n",
        "Run the following commands in R.\n",
        "\n",
        "What task is each command performing?"
      ],
      "id": "516e631d-0d91-4955-8795-d53901dd8045"
    },
    {
      "cell_type": "code",
      "execution_count": null,
      "metadata": {},
      "outputs": [],
      "source": [
        "a > 10  # which elements of a are > 10?"
      ],
      "id": "1a649eac-7803-464f-9b8b-f7acb9fbceec"
    },
    {
      "cell_type": "code",
      "execution_count": null,
      "metadata": {},
      "outputs": [],
      "source": [
        "a <= 4  # which elements of a are <= 10?"
      ],
      "id": "827d4f34-cb71-4124-86a7-838db1d230e1"
    },
    {
      "cell_type": "code",
      "execution_count": null,
      "metadata": {},
      "outputs": [],
      "source": [
        "a == 10 # which elements of a are equal to 10?"
      ],
      "id": "4e814e56-fc79-44c3-9b26-046e74024397"
    },
    {
      "cell_type": "code",
      "execution_count": null,
      "metadata": {},
      "outputs": [],
      "source": [
        "a != 10 # which elements of a are not equal to 10?"
      ],
      "id": "97f513bb-728d-4e92-a17d-19573ad5e30f"
    },
    {
      "cell_type": "code",
      "execution_count": null,
      "metadata": {},
      "outputs": [],
      "source": [
        "TRUE & TRUE & TRUE"
      ],
      "id": "42120829-6c1a-4ff2-98cf-6dfdc18b1244"
    },
    {
      "cell_type": "code",
      "execution_count": null,
      "metadata": {},
      "outputs": [],
      "source": [
        "TRUE & TRUE & FALSE"
      ],
      "id": "ae5d65f7-bdd3-4a24-ad58-312dc1980d41"
    },
    {
      "cell_type": "code",
      "execution_count": null,
      "metadata": {},
      "outputs": [],
      "source": [
        "FALSE | TRUE | FALSE"
      ],
      "id": "9b07a4d7-789f-481b-b3d1-a358a26db076"
    },
    {
      "cell_type": "code",
      "execution_count": null,
      "metadata": {},
      "outputs": [],
      "source": [
        "FALSE | FALSE | FALSE"
      ],
      "id": "b87fafaa-b81b-4a26-bee0-acf4126c263d"
    },
    {
      "cell_type": "code",
      "execution_count": null,
      "metadata": {},
      "outputs": [],
      "source": [
        "!TRUE"
      ],
      "id": "7e50d093-47ce-48ad-bc14-be732cb298a3"
    },
    {
      "cell_type": "code",
      "execution_count": null,
      "metadata": {},
      "outputs": [],
      "source": [
        "!FALSE"
      ],
      "id": "8133ce3b-b91d-43e4-ade3-49098527d273"
    },
    {
      "cell_type": "code",
      "execution_count": null,
      "metadata": {},
      "outputs": [],
      "source": [
        "# which elements of a are > 6 and <= 10\n",
        "(a > 6) & (a <= 10)"
      ],
      "id": "148f6e4a-5409-4975-b13e-985993f7fa19"
    },
    {
      "cell_type": "code",
      "execution_count": null,
      "metadata": {},
      "outputs": [],
      "source": [
        "# which elements of a are <= 4 or >= 12\n",
        "(a <= 4) | (a >= 12)"
      ],
      "id": "8c803afa-3a2a-4770-808b-59c902180db1"
    },
    {
      "cell_type": "code",
      "execution_count": null,
      "metadata": {},
      "outputs": [],
      "source": [
        "# which elements of a are NOT <= 4 or >= 12\n",
        "!((a <= 4) | (a >= 12))"
      ],
      "id": "a626f5ca-5488-4150-9639-92cb648e45d0"
    },
    {
      "cell_type": "markdown",
      "metadata": {},
      "source": [
        "We can pass logical expressions within the square brackets to access part of a data structure. This syntax will return each element of the object for which the expression is `TRUE`.\n",
        "\n",
        "**Hands-on Practice**\n",
        "\n",
        "Run the following commands in R and see what is printed.\n",
        "\n",
        "What task is each command performing?"
      ],
      "id": "9aa0fe03-b0b4-4940-9597-a476f1523d21"
    },
    {
      "cell_type": "code",
      "execution_count": null,
      "metadata": {},
      "outputs": [],
      "source": [
        "# extract the parts of a with values < 6\n",
        "a[a < 6]"
      ],
      "id": "8aea70f0-2e09-4137-9b81-71d49feb9c1b"
    },
    {
      "cell_type": "code",
      "execution_count": null,
      "metadata": {},
      "outputs": [],
      "source": [
        "# extract the parts of a with values equal to 10\n",
        "a[a == 10]"
      ],
      "id": "e8c721c1-7a84-4441-ad0c-b683f81e86c1"
    },
    {
      "cell_type": "code",
      "execution_count": null,
      "metadata": {},
      "outputs": [],
      "source": [
        "# extract the parts of a with values < 6 or equal to 10\n",
        "a[(a < 6)|(a == 10)]"
      ],
      "id": "240eef39-f921-42e8-bdff-30e1da77e01e"
    },
    {
      "cell_type": "markdown",
      "metadata": {},
      "source": [
        "# Helpful Functions\n",
        "\n",
        "**Common Useful Functions**\n",
        "\n",
        "------------------------------------------------------------------------"
      ],
      "id": "adc79be1-8f4f-46d8-bd53-3c8846d59ca5"
    },
    {
      "cell_type": "code",
      "execution_count": null,
      "metadata": {},
      "outputs": [],
      "source": [
        "x <- rexp(100) # sample 100 iid values from an Exponential(1) distribution"
      ],
      "id": "92656739-f8b0-40db-bf46-0455204ec029"
    },
    {
      "cell_type": "code",
      "execution_count": null,
      "metadata": {},
      "outputs": [],
      "source": [
        "length(x) # length of x"
      ],
      "id": "b59543a6-d982-4481-b7e6-a157025f2f52"
    },
    {
      "cell_type": "code",
      "execution_count": null,
      "metadata": {},
      "outputs": [],
      "source": [
        "sum(x) # sum of x"
      ],
      "id": "65fb7983-5ebe-426a-b8ed-8db13ed4d0cd"
    },
    {
      "cell_type": "code",
      "execution_count": null,
      "metadata": {},
      "outputs": [],
      "source": [
        "mean(x) # sample mean of x"
      ],
      "id": "5741ecdf-0830-486e-8bf3-d9ba1e880af7"
    },
    {
      "cell_type": "code",
      "execution_count": null,
      "metadata": {},
      "outputs": [],
      "source": [
        "var(x) # sample variance of x"
      ],
      "id": "ff7e7272-52e9-41a7-a0c5-c8c46096b022"
    },
    {
      "cell_type": "code",
      "execution_count": null,
      "metadata": {},
      "outputs": [],
      "source": [
        "sd(x) # sample standard deviation of x"
      ],
      "id": "a7203acb-8c30-4fa0-bf30-87b84e4b622a"
    },
    {
      "cell_type": "code",
      "execution_count": null,
      "metadata": {},
      "outputs": [],
      "source": [
        "range(x) # range of x"
      ],
      "id": "6bcc33d3-9d04-46ca-8d5d-479768052b88"
    },
    {
      "cell_type": "code",
      "execution_count": null,
      "metadata": {},
      "outputs": [],
      "source": [
        "log(x) # logarithm of x"
      ],
      "id": "3fe91f01-c083-416c-a34e-c3b2a793678d"
    },
    {
      "cell_type": "code",
      "execution_count": null,
      "metadata": {},
      "outputs": [],
      "source": [
        "summary(x) # summary of x"
      ],
      "id": "43f67ab9-a160-43de-b85a-bb948f052acb"
    },
    {
      "cell_type": "code",
      "execution_count": null,
      "metadata": {},
      "outputs": [],
      "source": [
        "str(x) # structure of x"
      ],
      "id": "f81ebd9d-4013-49e3-975a-cf6805e2a85c"
    },
    {
      "cell_type": "markdown",
      "metadata": {},
      "source": [
        "**Functions for Statistical Distributions**\n",
        "\n",
        "------------------------------------------------------------------------\n",
        "\n",
        "Suppose that a random variable $X$ has the `dist` distribution. The function templates in the list below describe how to obtain certain properties of $X$.\n",
        "\n",
        "-   `p[dist](q, ...)`: returns the cdf of $X$ evaluated at `q`, i.e., $p=P(X\\leq q)$.\n",
        "-   `q[dist](p, ...)`: returns the inverse cdf (or quantile function) of $X$ evaluated at $p$, i.e., $q = \\inf\\{x: P(X\\leq x) \\geq p\\}$.\n",
        "-   `d[dist](x, ...)`: returns the mass or density of $X$ evaluated at $x$ (depending on whether it’s discrete or continuous).\n",
        "-   `r[dist](n, ...)`: returns an independent and identically distributed random sample of size `n` having the same distribution as $X$.\n",
        "-   The `...` indicates that additional arguments describing the parameters of the distribution may be required.\n",
        "\n",
        "**Hands-on Practice**\n",
        "\n",
        "Run the following commands in R to see the output.\n",
        "\n",
        "What task is each command performing?"
      ],
      "id": "442ebbdd-1fb1-4d77-9061-01c9f2647af5"
    },
    {
      "cell_type": "code",
      "execution_count": null,
      "metadata": {},
      "outputs": [],
      "source": [
        "pnorm(1.96, mean = 0, sd = 1)"
      ],
      "id": "07fab163-7b0a-4ad8-a3e2-f75a7088bad9"
    },
    {
      "cell_type": "code",
      "execution_count": null,
      "metadata": {},
      "outputs": [],
      "source": [
        "qunif(0.6, min = 0, max = 1)"
      ],
      "id": "e57b4793-349d-4e4c-868d-c71eafd2ab56"
    },
    {
      "cell_type": "code",
      "execution_count": null,
      "metadata": {},
      "outputs": [],
      "source": [
        "dbinom(2, size = 20, prob = .2)"
      ],
      "id": "6990ec6a-3781-4cc2-8524-c3e64fd8de75"
    },
    {
      "cell_type": "code",
      "execution_count": null,
      "metadata": {},
      "outputs": [],
      "source": [
        "dexp(1, rate = 2)"
      ],
      "id": "82c8c43e-f16b-46fb-8fc0-2137e5084f3e"
    },
    {
      "cell_type": "code",
      "execution_count": null,
      "metadata": {},
      "outputs": [],
      "source": [
        "rchisq(10, df = 5)"
      ],
      "id": "c5d8ce8b-c751-412e-acc6-03e953b4e3c4"
    },
    {
      "cell_type": "markdown",
      "metadata": {},
      "source": [
        "# Data Frames\n",
        "\n",
        "Data frames are a *fundamental* data structure used by most of R’s modeling functions.\n",
        "\n",
        "Data frames are:\n",
        "\n",
        "-   two-dimensional data objects.\n",
        "-   each column of a data frame is a vector.\n",
        "\n",
        "**Data Frame Creation**\n",
        "\n",
        "------------------------------------------------------------------------\n",
        "\n",
        "Data frames are directly created by passing vectors into the `data.frame` function."
      ],
      "id": "c3e31ea3-5725-4efd-8e0f-42d11583e253"
    },
    {
      "cell_type": "code",
      "execution_count": null,
      "metadata": {},
      "outputs": [],
      "source": [
        "# create basic data frame\n",
        "d <- c(1, 2, 3, 4)\n",
        "e <- c(\"red\", \"white\", \"blue\", NA)\n",
        "f <- c(TRUE, TRUE, TRUE, FALSE)\n",
        "df <- data.frame(d,e,f)\n",
        "df"
      ],
      "id": "c02a28de-c48c-409a-a732-ec8ff92c837a"
    },
    {
      "cell_type": "markdown",
      "metadata": {},
      "source": [
        "The columns of a data frame can be renamed using the `names` function on the data frame."
      ],
      "id": "b7c24e96-dad8-42a8-88c0-961328708e5b"
    },
    {
      "cell_type": "code",
      "execution_count": null,
      "metadata": {},
      "outputs": [],
      "source": [
        "# name columns of data frame\n",
        "names(df) <- c(\"ID\", \"Color\", \"Passed\")\n",
        "df"
      ],
      "id": "40f86bdf-7468-43ea-a61c-1bcd83bef303"
    },
    {
      "cell_type": "markdown",
      "metadata": {},
      "source": [
        "We can initially name the columns of a data frame when we create the data frame by using `name =` for each vector of data."
      ],
      "id": "5796f34a-e15a-4332-a22d-cfc53493f93f"
    },
    {
      "cell_type": "code",
      "execution_count": null,
      "metadata": {},
      "outputs": [],
      "source": [
        "# create data frame with better column names\n",
        "df2 <- data.frame(ID = d, Color = e, Passed = f)\n",
        "df2"
      ],
      "id": "27356a3c-c0e6-45c2-8bdd-7fd626e14440"
    },
    {
      "cell_type": "markdown",
      "metadata": {},
      "source": [
        "**Importing Data**\n",
        "\n",
        "------------------------------------------------------------------------\n",
        "\n",
        "In practice, the data we want to analyze is saved in a file, and we can import the data from the file into R.\n",
        "\n",
        "The `read.table` function imports data in table format from file into R as a data frame.\n",
        "\n",
        "-   `file` is the file path and name of the file we want to import into R.\n",
        "    -   If we don’t know the file path, we can use `file = file.choose()` to launch a dialog box asking us to locate the file we want to import.\n",
        "-   `header` specifies whether the data file has a header (variable labels for each column of data in the first row of the data file).\n",
        "    -   If we don’t specify this option in R or use `header = FALSE`, then R will assume the file doesn’t have any headings.\n",
        "    -   `header = TRUE` tells R to read in the data as a data frame with column names taken from the first row of the data file.\n",
        "-   `sep` specifies the delimiter separating elements in the file.\n",
        "    -   If each column of data in the file is separated by a space, then use `sep = \" \"`.\n",
        "    -   If each column of data in the file is separated by a comma, then use `sep = \",\"`.\n",
        "    -   If each column of data in the file is separated by a tab, then use `sep = \"\\t\"`.\n",
        "\n",
        "Consider importing a csv (comma separated file) with a header directly from GitHub. This file contains crime-related information for U.S. states for the year 2009."
      ],
      "id": "ef69c152-5eb3-4c31-a83e-43b2bc07d760"
    },
    {
      "cell_type": "code",
      "execution_count": null,
      "metadata": {},
      "outputs": [],
      "source": [
        "# specify file path\n",
        "path <- \"https://raw.githubusercontent.com/jfrench/api2lm/main/inst/extdata/crime2009.csv\"\n",
        "# import data as data frame\n",
        "crime2009 <- read.table(file = path, header = TRUE, sep = \",\")\n",
        "# view data structure\n",
        "str(crime2009)"
      ],
      "id": "b592454e-ac15-430b-b021-ccc17e53dd9c"
    },
    {
      "cell_type": "markdown",
      "metadata": {},
      "source": [
        "**Extracting parts of a data frame**\n",
        "\n",
        "------------------------------------------------------------------------\n",
        "\n",
        "R provides many ways to extract parts of a data frame.\n",
        "\n",
        "The `mtcars` data frame 32observations of 11 variables."
      ],
      "id": "f8f362be-bde3-4e86-8a82-69c7fe33b437"
    },
    {
      "cell_type": "code",
      "execution_count": null,
      "metadata": {},
      "outputs": [],
      "source": [
        "data(mtcars) # load data set\n",
        "str(mtcars)  # examine data structure"
      ],
      "id": "2faa11dd-7c43-4745-9866-539e6c25609c"
    },
    {
      "cell_type": "markdown",
      "metadata": {},
      "source": [
        "We can extract the `mpg` variable from the `mtcars` data frame using the `$` operator."
      ],
      "id": "b59f4a63-27d2-4206-a76d-76318a2d479d"
    },
    {
      "cell_type": "code",
      "execution_count": null,
      "metadata": {},
      "outputs": [],
      "source": [
        "mtcars$mpg"
      ],
      "id": "97180317-996d-4c74-ad99-b55a26c6806e"
    },
    {
      "cell_type": "markdown",
      "metadata": {},
      "source": [
        "Another way to extract a variable from a data frame uses a `df[rows, columns]` style syntax.\n",
        "\n",
        "-   `rows` and `columns` indicate the desired rows or columns.\n",
        "-   If either the `rows` or `columns` are left blank, then all `rows` or `columns`, respectively, are extracted."
      ],
      "id": "d39e63b1-5f54-41b7-af5b-9b996451c278"
    },
    {
      "cell_type": "code",
      "execution_count": null,
      "metadata": {},
      "outputs": [],
      "source": [
        "mtcars[,\"mpg\"]"
      ],
      "id": "def43c04-c6d8-4613-b767-ef34d68426e4"
    },
    {
      "cell_type": "markdown",
      "metadata": {},
      "source": [
        "To select multiple variables in a data frame, we can provide a character vector with multiple variable names between `[]`."
      ],
      "id": "a9946f24-f0c7-4f79-bc97-528fa72e39e4"
    },
    {
      "cell_type": "code",
      "execution_count": null,
      "metadata": {},
      "outputs": [],
      "source": [
        "mtcars[c(\"mpg\", \"cyl\")]"
      ],
      "id": "afe6de02-ad8d-4635-ac9f-407863c1518d"
    },
    {
      "cell_type": "markdown",
      "metadata": {},
      "source": [
        "We can also use numeric indices to directly indicate the rows or columns of the data frame that we would like to extract."
      ],
      "id": "e4c0a138-18ec-4e13-bbe2-24cc433ac49f"
    },
    {
      "cell_type": "code",
      "execution_count": null,
      "metadata": {},
      "outputs": [],
      "source": [
        "mtcars[c(1, 2)]"
      ],
      "id": "03d2fc63-0ff2-416d-b5e9-9d21db94d7af"
    },
    {
      "cell_type": "markdown",
      "metadata": {},
      "source": [
        "**Conditional Extraction of Data Frames**\n",
        "\n",
        "------------------------------------------------------------------------\n",
        "\n",
        "Logical expressions can be used to subset a data frame.\n",
        "\n",
        "The following command creates of vector of logical values."
      ],
      "id": "2c194095-61bc-4574-8c5b-a6069085322a"
    },
    {
      "cell_type": "code",
      "execution_count": null,
      "metadata": {},
      "outputs": [],
      "source": [
        "mtcars$hp > 250"
      ],
      "id": "fa6ca02d-2f93-4409-89ad-64dfc2c052d1"
    },
    {
      "cell_type": "markdown",
      "metadata": {},
      "source": [
        "This vector can be used to extract rows for all of the `TRUE` values."
      ],
      "id": "b30496ae-b459-4074-8858-5f1afd7bc455"
    },
    {
      "cell_type": "code",
      "execution_count": null,
      "metadata": {},
      "outputs": [],
      "source": [
        "# extract rows with hp > 250\n",
        "mtcars[mtcars$hp > 250,]"
      ],
      "id": "820c2960-9085-4803-8efa-bed007ac33ff"
    },
    {
      "cell_type": "markdown",
      "metadata": {},
      "source": [
        "We can make the logical expression more complicated."
      ],
      "id": "c0807049-3bfa-4bb8-9fca-5afc297908f8"
    },
    {
      "cell_type": "code",
      "execution_count": null,
      "metadata": {},
      "outputs": [],
      "source": [
        "# return rows with `cyl == 8` and `mpg > 17`\n",
        "# return columns mpg, cyl, disp, hp\n",
        "mtcars[mtcars$cyl == 8 & mtcars$mpg > 17, c(\"mpg\", \"cyl\", \"disp\", \"hp\")]"
      ],
      "id": "e854e4e3-78c1-4052-8101-bab483711aa9"
    },
    {
      "cell_type": "markdown",
      "metadata": {},
      "source": [
        "**Modifying Data Frames**\n",
        "\n",
        "------------------------------------------------------------------------\n",
        "\n",
        "We can add columns to a data frame by combining the `$` and assignment operators."
      ],
      "id": "3f8d6f0c-6f47-4a6f-bbc1-79b89e23fe41"
    },
    {
      "cell_type": "code",
      "execution_count": null,
      "metadata": {},
      "outputs": [],
      "source": [
        "mtcars$kpg <- mtcars$mpg * 1.6"
      ],
      "id": "37e56a10-d184-40f1-a5be-f72c548e5a55"
    },
    {
      "cell_type": "markdown",
      "metadata": {},
      "source": [
        "**Extraction using the `subset` function**\n",
        "\n",
        "------------------------------------------------------------------------\n",
        "\n",
        "The `subset` function returns the part of a data frame that meets the specified conditions.\n",
        "\n",
        "The basic usage of this function is: `subset(x, subset, select, drop = FALSE)`\n",
        "\n",
        "-   `x` is the object we want to subset.\n",
        "    -   `x` can be a vector, matrix, or data frame.\n",
        "-   `subset` is a logical expression that indicates the elements or rows of `x` to keep (`TRUE` means keep).\n",
        "-   `select` is a vector that indicates the columns to keep.\n",
        "-   `drop` is a logical value indicating whether the data frame should “drop” into a vector if only a single row or column is kept. The default is `FALSE`.\n",
        "\n",
        "**Hands-on Practice**\n",
        "\n",
        "Run the following commands in the Console to use the `subset` function to extract parts of the `mtcars` data frame.\n",
        "\n",
        "What is each command performing?"
      ],
      "id": "88e9a03b-d52e-4b49-9aa2-5fa3486e78c7"
    },
    {
      "cell_type": "code",
      "execution_count": null,
      "metadata": {},
      "outputs": [],
      "source": [
        "subset(mtcars, subset = gear > 4)"
      ],
      "id": "855250c7-4d12-4f77-980e-3802f480f180"
    },
    {
      "cell_type": "code",
      "execution_count": null,
      "metadata": {},
      "outputs": [],
      "source": [
        "subset(mtcars, select = c(disp, hp, gear))"
      ],
      "id": "2114e5de-6aff-4f80-b7c8-93a83a2a3c05"
    },
    {
      "cell_type": "code",
      "execution_count": null,
      "metadata": {},
      "outputs": [],
      "source": [
        "subset(mtcars, subset = gear > 4, select = c(disp, hp, gear))"
      ],
      "id": "36c2534d-cacc-4e10-883f-6b90252aef17"
    },
    {
      "cell_type": "markdown",
      "metadata": {},
      "source": [
        "# Using the pipe operator\n",
        "\n",
        "R’s native pipe operator (`|>`) allows us to “pipe” the object on the left side of the operator into the first argument of the function on the right side of the operator. The pipe operator is a convenient way to string together numerous steps in a string of commands.\n",
        "\n",
        "When reading code with pipes, the pipe can be thought of as the word “then”.\n",
        "\n",
        "In the code below, we take `mtcars` *then* subset it based on `disp` and *then* select some columns."
      ],
      "id": "750502b0-3176-4a80-bab5-aea3680e8703"
    },
    {
      "cell_type": "code",
      "execution_count": null,
      "metadata": {},
      "outputs": [],
      "source": [
        "subset(mtcars,\n",
        "       subset = disp > 400,\n",
        "       select = c(mpg, disp, hp))"
      ],
      "id": "63a0d3bf-234d-4989-b212-c805bb4c5379"
    },
    {
      "cell_type": "code",
      "execution_count": null,
      "metadata": {},
      "outputs": [],
      "source": [
        "mtcars |>\n",
        "  subset(subset = disp > 400) |>\n",
        "  subset(select = c(mpg, disp, hp))"
      ],
      "id": "81e582fc-213d-4ab5-9508-6b871f0828f9"
    },
    {
      "cell_type": "markdown",
      "metadata": {},
      "source": [
        "Here is a complicated sequence of piped commands. What are the commands doing?"
      ],
      "id": "7840faf3-12fa-4a07-a0cf-9b6ea88dadfc"
    },
    {
      "cell_type": "code",
      "execution_count": null,
      "metadata": {},
      "outputs": [],
      "source": [
        "# create new variable, select columns, extract first 5 rows\n",
        "mtcars |>\n",
        "  transform(lp100km = 237.5/mpg) |>\n",
        "  subset(select = c(mpg, lp100km)) |>\n",
        "  head(n = 5)"
      ],
      "id": "111ccaaf-7e3b-4603-a9ce-baec522f7486"
    }
  ],
  "nbformat": 4,
  "nbformat_minor": 5,
  "metadata": {
    "kernelspec": {
      "name": "ir",
      "display_name": "R",
      "language": "R"
    }
  }
}