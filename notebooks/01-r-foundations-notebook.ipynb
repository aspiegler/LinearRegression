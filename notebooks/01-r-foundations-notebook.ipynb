{
  "cells": [
    {
      "cell_type": "markdown",
      "metadata": {},
      "source": [
        "# Chapter 1 - R Foundations\n",
        "\n",
        "Joshua French\n",
        "\n",
        "To open this information in an interactive Colab notebook, click or scan\n",
        "the QR code below."
      ],
      "id": "6aa8060b-7eaf-40ca-9d94-352fcf67b5cf"
    },
    {
      "cell_type": "raw",
      "metadata": {
        "raw_mimetype": "text/html"
      },
      "source": [
        "<figure>"
      ],
      "id": "d2af5f94-c8f2-4cf8-91e1-2d81c62dbaf5"
    },
    {
      "cell_type": "markdown",
      "metadata": {},
      "source": [
        "<a href=\"https://colab.research.google.com/github/jfrench/LinearRegression/blob/master/notebooks/01-r-foundations-notebook.ipynb\">\n",
        "<img src='https://github.com/jfrench/LinearRegression/blob/e81f46b3796a8dcf5ae6d1b8dd7645307cd080fa/notebooks/pictures/qr-01-r-foundations.png'>"
      ],
      "id": "da68663b-33f9-45da-b907-b32c7dfeb62a"
    },
    {
      "cell_type": "raw",
      "metadata": {
        "raw_mimetype": "text/html"
      },
      "source": [
        "<figcaption>"
      ],
      "id": "afccac53-e9ec-4be1-ab39-fad52e177a80"
    },
    {
      "cell_type": "markdown",
      "metadata": {},
      "source": [
        "QR code."
      ],
      "id": "843ccf32-b600-4a73-82cb-b1f13f8abff6"
    },
    {
      "cell_type": "raw",
      "metadata": {
        "raw_mimetype": "text/html"
      },
      "source": [
        "</figcaption>"
      ],
      "id": "fb8fdd12-10d9-4a93-bb78-f391c9cb2ea5"
    },
    {
      "cell_type": "raw",
      "metadata": {
        "raw_mimetype": "text/html"
      },
      "source": [
        "</figure>"
      ],
      "id": "a3993f57-27a0-40fa-96f0-19ba6322dce2"
    },
    {
      "cell_type": "markdown",
      "metadata": {},
      "source": [
        "------------------------------------------------------------------------\n",
        "\n",
        "# What is R?\n",
        "\n",
        "R is a programming language and environment designed for statistical\n",
        "computing.\n",
        "[(https://www.r-project.org/about.html)](https://www.r-project.org/about.html)\n",
        "\n",
        "R is free, open source, and runs on many different types of computers\n",
        "(Windows, Mac, Linux, and others).\n",
        "\n",
        "R is an interactive programming language.\n",
        "\n",
        "-   We type and run a command in the Console for immediate feedback, in\n",
        "    contrast to a compiled programming language, which compiles a\n",
        "    program that is then executed.\n",
        "\n",
        "R is highly extendable.\n",
        "\n",
        "-   We can extend the functionality of R beyond what is available by\n",
        "    default by installing user-created packages.\n",
        "-   We can write our own functions to create additional capabilities in\n",
        "    R.\n",
        "\n",
        "# Installing R and RStudio\n",
        "\n",
        "Install R by downloading an installer program from the R Project’s\n",
        "website [(https://www.r-project.org/)](https://www.r-project.org/).\n",
        "\n",
        "RStudio Desktop is a free “front end” for R that makes doing data\n",
        "analysis with R easier by adding an Integrated Development Environment\n",
        "(IDE) and providing many other features. Currently, we can download\n",
        "RStudio at <https://posit.co/download/rstudio-desktop/>.\n",
        "\n",
        "**RStudio Layout**\n",
        "\n",
        "RStudio Desktop has four panes:\n",
        "\n",
        "1.  Console: the pane where we run commands.\n",
        "2.  Source: the pane where we prepare commands to run.\n",
        "3.  Environment/History: the pane where we can see all the objects in\n",
        "    our workspace, our command history, and other information.\n",
        "4.  The Files/Plot/Packages/Help: the pane where we navigate between\n",
        "    directories, where plots can be viewed, where we can see the\n",
        "    packages available to be loaded, and where we can get help.\n",
        "\n",
        "<img src=\"pictures/rstudio_panes.png\">\n",
        "\n",
        "Tip: Change the R Studio environment so that it doesn’t save the\n",
        "workspace when exiting the application.\n",
        "\n",
        "# Running code, scripts, and comments\n",
        "\n",
        "We can run code in R by typing it in the Console next to the `>` symbol\n",
        "and pressing the Enter key.\n",
        "\n",
        "It’s better to write our commands in a “Script” file, save the Script,\n",
        "and then run our commands from the Script. The commands in a Script file\n",
        "are generically referred to as “code”.\n",
        "\n",
        "Script files make it easy to:\n",
        "\n",
        "-   Reproduce our data analysis without retyping all our commands.\n",
        "-   Share our code with others.\n",
        "\n",
        "A new Script file can be obtained by:\n",
        "\n",
        "-   Clicking File → New File → R Script in the RStudio menu bar.\n",
        "-   Pressing `Ctrl + Shift + n` on a PC or `Cmd + Shift + n` on a Mac.\n",
        "\n",
        "To run code from a Script file:\n",
        "\n",
        "-   Highlight the code we want to run and click the Run button at the\n",
        "    top of the Script pane.\n",
        "-   Highlight the code we want to run and press “Ctrl + Enter” on our\n",
        "    keyboard. If we don’t highlight anything, by default, RStudio runs\n",
        "    the command the cursor currently lies on.\n",
        "\n",
        "To save a Script file:\n",
        "\n",
        "-   Click File → Save in the RStudio menu bar.\n",
        "-   Press `Ctrl + s` on a PC or `Cmd + s` on a Mac.\n",
        "\n",
        "A comment is a set of text ignored by R when submitted to the Console.\n",
        "\n",
        "A comment is indicated by the `#` symbol. Nothing to the right of the\n",
        "`#` is executed by the Console.\n",
        "\n",
        "We can comment (or uncomment) multiple lines of code in the Source pane\n",
        "of RStudio by highlighting the code we want to comment and pressing\n",
        "`Ctrl + Shift + c` on a PC or `Cmd + Shift + c` on a Mac.\n",
        "\n",
        "**Your turn**\n",
        "\n",
        "Perform the following tasks:\n",
        "\n",
        "1.  Type `1+1` in the Console and press Enter.\n",
        "2.  Open a new Script in RStudio.\n",
        "3.  Type `mean(1:3)` in the Script file.\n",
        "4.  Type `# mean(1:3)` in the Script file.\n",
        "5.  Run the commands from the Script using an approach mentioned above.\n",
        "6.  Save the Script file.\n",
        "7.  Use the keyboard shortcut to “comment out” some of the lines of the\n",
        "    Script file."
      ],
      "id": "baded074-19ff-4428-871d-90a1c9b65636"
    },
    {
      "cell_type": "code",
      "execution_count": null,
      "metadata": {},
      "outputs": [],
      "source": [
        "# type your commands here"
      ],
      "id": "5c88bc13-8bee-44ee-ba9d-11414ae9948c"
    },
    {
      "cell_type": "markdown",
      "metadata": {},
      "source": [
        "# Assignment in R\n",
        "\n",
        "R works on various types of objects that we’ll learn more about later.\n",
        "\n",
        "To store an object in the computer’s memory we must assign it a name\n",
        "using the assignment operator `<-` or the equal sign `=`.\n",
        "\n",
        "Some comments:\n",
        "\n",
        "-   In general, both `<-` and `=` can be used for assignment.\n",
        "-   Pressing `Alt + -` on a PC or `Option + -` on a Mac will insert `<-`\n",
        "    into the R Console and Script files.\n",
        "    -   If we are creating an R Markdown or Quarto file, then this\n",
        "        shortcut will only insert `<-` if we are in a code block.\n",
        "-   `<-` and `=` are NOT synonyms but can be used identically most of\n",
        "    the time.\n",
        "\n",
        "# Functions\n",
        "\n",
        "We use a function by typing the function’s name in the Console (or\n",
        "Script), supplying the function’s “arguments” between parentheses, `()`,\n",
        "and then pressing Enter.\n",
        "\n",
        "The arguments of a function are pieces of data or information the\n",
        "function needs to perform the requested task (i.e., the function\n",
        "“inputs”). Each argument we supply is separated by a comma, `,`.\n",
        "\n",
        "**Your turn**\n",
        "\n",
        "Run the following commands in the Console.\n",
        "\n",
        "What is each command doing?"
      ],
      "id": "349f52fa-5136-491f-80c7-86487498522f"
    },
    {
      "cell_type": "code",
      "execution_count": null,
      "metadata": {},
      "outputs": [],
      "source": [
        "# compute the mean of 1, 2, ..., 10 and assign the name m\n",
        "m <- mean(1:10) \n",
        "m # print m"
      ],
      "id": "1c632a46-623e-4dfd-a6b3-f3a1874a975d"
    },
    {
      "cell_type": "code",
      "execution_count": null,
      "metadata": {},
      "outputs": [],
      "source": [
        "print(m) # print m a different way"
      ],
      "id": "b0eef692-219f-4761-bbe1-fdf3ddfecb8a"
    },
    {
      "cell_type": "code",
      "execution_count": null,
      "metadata": {},
      "outputs": [],
      "source": [
        "mean(c(1, 5, 3, 4, 10)) # mean of a new vector"
      ],
      "id": "a2c180ab-861f-4f19-90b9-73acf741b5fe"
    },
    {
      "cell_type": "code",
      "execution_count": null,
      "metadata": {},
      "outputs": [],
      "source": [
        "mean(c(1, 5, 3, 4, 10), trim = 0.2) # compute trimmed mean"
      ],
      "id": "a897e647-880e-4a34-bcf3-f08bfd1a5c06"
    },
    {
      "cell_type": "markdown",
      "metadata": {},
      "source": [
        "# Packages\n",
        "\n",
        "Packages are collections of functions, data, and other objects that\n",
        "extend the functionality available in R by default.\n",
        "\n",
        "R packages can be installed using the `install.packages` function and\n",
        "loaded using the `library` function.\n",
        "\n",
        "The **tidyverse** package (actually, a collection of packages) contains\n",
        "data and some useful functions we will be using later in the course.\n",
        "\n",
        "**Your turn**"
      ],
      "id": "50f50eb3-bd1c-4eaa-8945-9449b7d6bbaa"
    },
    {
      "cell_type": "code",
      "execution_count": null,
      "metadata": {},
      "outputs": [],
      "source": [
        "# install tidyverse if it's not already installed\n",
        "if (!require(\"tidyverse\")){\n",
        "    install.packages(\"tidyverse\")\n",
        "}"
      ],
      "id": "18c73d27-13f1-4a64-bdec-351dac967de5"
    },
    {
      "cell_type": "markdown",
      "metadata": {},
      "source": [
        "After we install **tidyverse**, we can load the package by running the\n",
        "command below."
      ],
      "id": "24683d0f-5ed9-4fd8-8d84-d34f09899463"
    },
    {
      "cell_type": "code",
      "execution_count": null,
      "metadata": {},
      "outputs": [],
      "source": [
        "library(tidyverse)"
      ],
      "id": "12cb8238-01ef-43ac-a701-5ecb0d297eb7"
    },
    {
      "cell_type": "markdown",
      "metadata": {},
      "source": [
        "# Getting Help\n",
        "\n",
        "There are many ways to get help in R.\n",
        "\n",
        "-   To get help for a function named `command`, run `?command` to access\n",
        "    the documentation\n",
        "    -   The Documentation will provide information on the function use,\n",
        "        arguments, usage examples, and more.\n",
        "-   Running `??topic` will search the documentation for any occurrence\n",
        "    of the word “topic” and provide a list of relevant documentation to\n",
        "    consider.\n",
        "-   Stack Overflow (<https://www.stackoverflow.com>) is a great resource\n",
        "    to find solutions.\n",
        "-   AI chatbots like ChatGPT and Gemini are becoming better at\n",
        "    suggesting and correcting computer code.\n",
        "\n",
        "**Your turn**\n",
        "\n",
        "Let’s get help on the `lm` function through the R console."
      ],
      "id": "c713b12c-7648-4e5c-94a2-de79ced84778"
    },
    {
      "cell_type": "code",
      "execution_count": null,
      "metadata": {},
      "outputs": [],
      "source": [
        "?lm"
      ],
      "id": "8cd0a1d6-9449-4e8a-afe6-2aea193edd5c"
    },
    {
      "cell_type": "markdown",
      "metadata": {},
      "source": [
        "Next, try the following search in an AI chatbot: “How do I create a\n",
        "scatter plot in R?” Was the information useful?\n",
        "\n",
        "# Data Types and Structures\n",
        "\n",
        "**Basic Data Types**\n",
        "\n",
        "------------------------------------------------------------------------\n",
        "\n",
        "R has 6 basic vector types:\n",
        "\n",
        "1.  `character`: collections of characters. E.g., `\"a\"`,\n",
        "    `\"hello world!\"`.\n",
        "2.  `double`: decimal numbers. e.g., `1.2`, `1.0`.\n",
        "3.  `integer`: whole numbers. In R, we must add `L` to the end of a\n",
        "    number to declare it as an integer. E.g., `1L` is an integer but `1`\n",
        "    is a double.\n",
        "4.  `logical`: boolean values, `TRUE` and `FALSE`.\n",
        "5.  `complex`: complex numbers. E.g., `1+3i`.\n",
        "6.  `raw`: a type to hold raw bytes.\n",
        "\n",
        "**Other important object types**\n",
        "\n",
        "------------------------------------------------------------------------\n",
        "\n",
        "-   `numeric`: An object is `numeric` if it is of type `integer` or\n",
        "    `double`. In that case, it’s `mode` is said to be `numeric`.\n",
        "-   `NULL`: `NULL` is a special object to indicate an object is absent.\n",
        "    -   An object having a length of zero is not the same thing as an\n",
        "        object being absent.\n",
        "-   `NA`: A “missing value” occurs when the value of something isn’t\n",
        "    known. R uses the special object `NA` to represent a missing value.\n",
        "    -   If we have a missing value, we should represent that value as\n",
        "        `NA`. Note: `\"NA\"` is not the same thing as `NA`.\n",
        "\n",
        "# Data structures\n",
        "\n",
        "R operates on data structures. A data structure is a “container” that\n",
        "holds certain kinds of information.\n",
        "\n",
        "R has 5 basic data structures:\n",
        "\n",
        "1.  vector.\n",
        "2.  matrix.\n",
        "3.  array.\n",
        "4.  data frame.\n",
        "5.  list.\n",
        "\n",
        "# Vectors\n",
        "\n",
        "**Creating vectors**\n",
        "\n",
        "------------------------------------------------------------------------\n",
        "\n",
        "A *vector* is a one-dimensional set of data of the same type.\n",
        "\n",
        "The most basic way to create a vector is the `c` (combine) function.\n",
        "\n",
        "The following commands create vectors of type `numeric`, `character`,\n",
        "and `logical`, respectively.\n",
        "\n",
        "-   `c(1, 2, 5.3, 6, -2, 4)`\n",
        "-   `c(\"one\", \"two\", \"three\")`\n",
        "-   `c(TRUE, TRUE, FALSE, TRUE)`\n",
        "\n",
        "The `seq` (sequence) function is used to create an equidistant series of\n",
        "numeric values.\n",
        "\n",
        "-   `seq(1, 10)` or `1:10` creates a sequence of numbers from 1 to 10 in\n",
        "    increments of 1.\n",
        "-   `seq(1, 20, by = 2)` creates a sequence of numbers from 1 to 20 in\n",
        "    increments of 2.\n",
        "-   `seq(10, 20, len = 100)` creates a sequence of numbers from 10 to 20\n",
        "    of length 100.\n",
        "\n",
        "The `rep` (replicate) function can be used to create a vector by\n",
        "replicating values.\n",
        "\n",
        "-   `rep(1:3, times = 3)` replicates the sequence `1, 2, 3` three times.\n",
        "-   `rep(c(\"trt1\", \"trt2\", \"trt3\"), times = 1:3)` replicates `\"trt1\"`\n",
        "    once, `\"trt2\"` twice, and `\"trt3\"` three times.\n",
        "-   `rep(1:3, each = 3)` replicates each element three times.\n",
        "\n",
        "Multiple vectors can be combined into a new vector object using the `c`\n",
        "function.\n",
        "\n",
        "-   E.g., `c(v1, v2, v3)` would combine vectors `v1`, `v2`, and `v3`.\n",
        "\n",
        "**Your turn**\n",
        "\n",
        "Run the commands below in the Console."
      ],
      "id": "a66db536-e928-4e05-90b9-1eeb37f7cae4"
    },
    {
      "cell_type": "code",
      "execution_count": null,
      "metadata": {},
      "outputs": [],
      "source": [
        "c(1, 2, 5.3, 6, -2, 4)"
      ],
      "id": "9d5ffea5-83c0-438c-bdec-71da8d433107"
    },
    {
      "cell_type": "code",
      "execution_count": null,
      "metadata": {},
      "outputs": [],
      "source": [
        "c(\"one\", \"two\", \"three\")"
      ],
      "id": "50d40ad7-7de7-42f3-b2b5-351e221d57cd"
    },
    {
      "cell_type": "code",
      "execution_count": null,
      "metadata": {},
      "outputs": [],
      "source": [
        "c(TRUE, TRUE, FALSE, TRUE)"
      ],
      "id": "e6f1d83b-182b-412f-bb64-ac739610cb72"
    },
    {
      "cell_type": "code",
      "execution_count": null,
      "metadata": {},
      "outputs": [],
      "source": [
        "seq(1, 10)"
      ],
      "id": "4e62f5af-3d71-41d9-834c-851664b0f8de"
    },
    {
      "cell_type": "code",
      "execution_count": null,
      "metadata": {},
      "outputs": [],
      "source": [
        "1:10"
      ],
      "id": "e4d6aad3-f6d7-4fdf-a906-c8048a6f9fc0"
    },
    {
      "cell_type": "code",
      "execution_count": null,
      "metadata": {},
      "outputs": [],
      "source": [
        "seq(1, 20, by = 2)"
      ],
      "id": "fac6253e-0d5c-44ba-a428-77eadb1f4b02"
    },
    {
      "cell_type": "code",
      "execution_count": null,
      "metadata": {},
      "outputs": [],
      "source": [
        "seq(10, 20, len = 100)"
      ],
      "id": "b490a05e-6de6-40d4-a229-6c5cd2714428"
    },
    {
      "cell_type": "markdown",
      "metadata": {},
      "source": [
        "-   What does the `by` argument of the `seq` function control?\n",
        "-   What does the `len` argument of the `seq` function control?"
      ],
      "id": "4921e97c-7971-46f1-a148-42b4daabac8a"
    },
    {
      "cell_type": "code",
      "execution_count": null,
      "metadata": {},
      "outputs": [],
      "source": [
        "rep(1:3, times = 3)"
      ],
      "id": "fdb8344c-99d2-4f4d-bf68-a34782be374c"
    },
    {
      "cell_type": "code",
      "execution_count": null,
      "metadata": {},
      "outputs": [],
      "source": [
        "rep(c(\"trt1\", \"trt2\", \"trt3\"), times = 1:3)"
      ],
      "id": "56520a75-e442-4667-8e85-e30af76b6b96"
    },
    {
      "cell_type": "code",
      "execution_count": null,
      "metadata": {},
      "outputs": [],
      "source": [
        "rep(1:3, each = 3)"
      ],
      "id": "66b77387-db8d-47ef-805d-f6e55b2d9a38"
    },
    {
      "cell_type": "markdown",
      "metadata": {},
      "source": [
        "-   What does the `times` argument of the `rep` function control?\n",
        "-   What does the `each` argument of the `rep` function control?"
      ],
      "id": "e6f41d62-4beb-47db-a92d-cbcc71c40c99"
    },
    {
      "cell_type": "code",
      "execution_count": null,
      "metadata": {},
      "outputs": [],
      "source": [
        "# combining vectors\n",
        "v1 <- 1:5 # create a vector, v1\n",
        "v2 <- c(1, 10, 11) # create another vector, v2\n",
        "v3 <- rep(1:2, each = 3) # crate a third vector, v3\n",
        "new <- c(v1, v2, v3) # combine vectors\n",
        "new # print the combined vector"
      ],
      "id": "d3c123a5-b258-4544-b8e2-d274b50de7a0"
    },
    {
      "cell_type": "markdown",
      "metadata": {},
      "source": [
        "**Categorical vectors**\n",
        "\n",
        "------------------------------------------------------------------------\n",
        "\n",
        "Categorical data should be stored as a `factor` in R.\n",
        "\n",
        "We create some `factor` variables below."
      ],
      "id": "eb671bf4-be24-4cdc-98ea-0b7b1d87a99d"
    },
    {
      "cell_type": "code",
      "execution_count": null,
      "metadata": {},
      "outputs": [],
      "source": [
        "f1 <- factor(rep(1:6, times = 3))\n",
        "f1"
      ],
      "id": "5f4cc7dc-3b7d-4be9-bb63-b6350166e155"
    },
    {
      "cell_type": "code",
      "execution_count": null,
      "metadata": {},
      "outputs": [],
      "source": [
        "f2 <- factor(c(\"a\", 7, \"blue\", \"blue\", FALSE))\n",
        "f2"
      ],
      "id": "59ff6df5-1d9e-446f-a5c8-99f55e40eef2"
    },
    {
      "cell_type": "markdown",
      "metadata": {},
      "source": [
        "A printed `factor` object lists the `Levels` (i.e., unique categories)\n",
        "of the object.\n",
        "\n",
        "Some additional comments:\n",
        "\n",
        "-   `factor` objects aren’t technically vectors but behave like vectors,\n",
        "    which is why we discuss them here.\n",
        "-   We can use the `is.factor` function to determine whether an object\n",
        "    is a `factor`.\n",
        "-   We can create `factor` objects with specific orderings of categories\n",
        "    using the `level` and `ordered` arguments of the `factor` function\n",
        "    (see `?factor` for more details)."
      ],
      "id": "c46e4e02-c193-434c-923a-88417ee31e5d"
    },
    {
      "cell_type": "code",
      "execution_count": null,
      "metadata": {},
      "outputs": [],
      "source": [
        "size <- c(\"small\", \"medium\", \"small\", \"large\", \"medium\", \"medium\", \"large\")\n",
        "factor(size)"
      ],
      "id": "3e19a0ab-e05f-4761-9924-f6229c367f52"
    },
    {
      "cell_type": "code",
      "execution_count": null,
      "metadata": {},
      "outputs": [],
      "source": [
        "# create ordered factor\n",
        "factor(size, levels = c(\"small\", \"medium\", \"large\"), ordered = TRUE)"
      ],
      "id": "2967242c-6e24-4e47-98a7-918a39c91e21"
    },
    {
      "cell_type": "markdown",
      "metadata": {},
      "source": [
        "**Your Turn**\n",
        "\n",
        "Attempt to complete the following tasks:\n",
        "\n",
        "1.  Create a `factor` vector named `grp` that has two levels: `a` and\n",
        "    `b`, where the first 7 values are `a` and the second 4 values are\n",
        "    `b`.\n",
        "2.  Run `is.factor(grp)` in the Console.\n",
        "3.  Run `is.vector(grp)` in the Console.\n",
        "4.  Run `typeof(grp)` in the Console."
      ],
      "id": "b3290f71-ff5d-40e5-abad-696911aae6ed"
    },
    {
      "cell_type": "code",
      "execution_count": null,
      "metadata": {},
      "outputs": [],
      "source": [
        "# type your code here"
      ],
      "id": "ea5f80a9-a6f4-4a7c-85eb-e405283493fc"
    },
    {
      "cell_type": "markdown",
      "metadata": {},
      "source": [
        "**Extracting parts of a vector**\n",
        "\n",
        "------------------------------------------------------------------------\n",
        "\n",
        "Parts of a vector can be extracted by appending an index vector in\n",
        "square brackets `[]`."
      ],
      "id": "f59a478d-2aa4-4494-a2ea-0c2bfe6a1771"
    },
    {
      "cell_type": "code",
      "execution_count": null,
      "metadata": {},
      "outputs": [],
      "source": [
        "# define a sequence 2, 4, ..., 16\n",
        "a <- seq(2, 16, by = 2)\n",
        "# extract subset of vector\n",
        "a[c(2, 4, 6)]"
      ],
      "id": "18257ec8-5a28-48ec-9b5b-b61f0f62ede2"
    },
    {
      "cell_type": "markdown",
      "metadata": {},
      "source": [
        "Supplying a negative index vector indicates the values we want to\n",
        "exclude from our result."
      ],
      "id": "1f71041e-0d41-408a-97e4-4cc8bf58f308"
    },
    {
      "cell_type": "code",
      "execution_count": null,
      "metadata": {},
      "outputs": [],
      "source": [
        "a[-c(2, 4, 6)] # select all but elements 2, 4, 6"
      ],
      "id": "a97e0ba8-9c96-4da3-a5ad-9f380b8ef677"
    },
    {
      "cell_type": "code",
      "execution_count": null,
      "metadata": {},
      "outputs": [],
      "source": [
        "a[-(3:6)] # select all but elements 3-6"
      ],
      "id": "8dcc0830-32fd-43ae-828e-bcc82a0d7300"
    },
    {
      "cell_type": "markdown",
      "metadata": {},
      "source": [
        "**Logical Expressions**\n",
        "\n",
        "------------------------------------------------------------------------\n",
        "\n",
        "A logical expression uses one or more logical operators to determine\n",
        "which elements of an object satisfy the specified statement.\n",
        "\n",
        "The basic logical operators are:\n",
        "\n",
        "-   `<`, `<=`: less than, less than or equal to.\n",
        "-   `>`, `>=`: greater than, greater than or equal to.\n",
        "-   `==`: equal to.\n",
        "-   `!=`: not equal to.\n",
        "\n",
        "Creating a logical expression with a vector will result in a logical\n",
        "vector indicating whether each element satisfies the logical expression.\n",
        "\n",
        "We can create more complicated logical expressions using the “and”,\n",
        "“or”, and “not” operators.\n",
        "\n",
        "-   `&`: and.\n",
        "-   `|`: or.\n",
        "-   `!`: not, i.e., not true\n",
        "\n",
        "**Your turn**\n",
        "\n",
        "Run the following commands in R.\n",
        "\n",
        "What task is each command performing?"
      ],
      "id": "b2e9c878-f6f4-4117-a85c-3c712d12d7a1"
    },
    {
      "cell_type": "code",
      "execution_count": null,
      "metadata": {},
      "outputs": [],
      "source": [
        "a > 10  # which elements of a are > 10?"
      ],
      "id": "54cd7d67-a53e-4de9-bc75-316c4f2ce499"
    },
    {
      "cell_type": "code",
      "execution_count": null,
      "metadata": {},
      "outputs": [],
      "source": [
        "a <= 4  # which elements of a are <= 10?"
      ],
      "id": "e1580551-615a-4fda-8fa5-e4278023fa27"
    },
    {
      "cell_type": "code",
      "execution_count": null,
      "metadata": {},
      "outputs": [],
      "source": [
        "a == 10 # which elements of a are equal to 10?"
      ],
      "id": "de4c23c1-e43f-4b08-ba54-f8f35bd29142"
    },
    {
      "cell_type": "code",
      "execution_count": null,
      "metadata": {},
      "outputs": [],
      "source": [
        "a != 10 # which elements of a are not equal to 10?"
      ],
      "id": "404e04b6-417d-42f6-af07-2e1a488cb889"
    },
    {
      "cell_type": "code",
      "execution_count": null,
      "metadata": {},
      "outputs": [],
      "source": [
        "TRUE & TRUE & TRUE"
      ],
      "id": "29e6f80a-8fc6-4e32-8dc9-c487518b6723"
    },
    {
      "cell_type": "code",
      "execution_count": null,
      "metadata": {},
      "outputs": [],
      "source": [
        "TRUE & TRUE & FALSE"
      ],
      "id": "7b5063f0-29cc-4e09-a61a-3ba9f8b8eda2"
    },
    {
      "cell_type": "code",
      "execution_count": null,
      "metadata": {},
      "outputs": [],
      "source": [
        "FALSE | TRUE | FALSE"
      ],
      "id": "c5a6c544-8a81-4571-8fda-bef6277db004"
    },
    {
      "cell_type": "code",
      "execution_count": null,
      "metadata": {},
      "outputs": [],
      "source": [
        "FALSE | FALSE | FALSE"
      ],
      "id": "c7c4422b-c593-4896-9ba7-2ab159c0fca8"
    },
    {
      "cell_type": "code",
      "execution_count": null,
      "metadata": {},
      "outputs": [],
      "source": [
        "!TRUE"
      ],
      "id": "9ed1d1b7-3beb-4982-a15a-10321a823479"
    },
    {
      "cell_type": "code",
      "execution_count": null,
      "metadata": {},
      "outputs": [],
      "source": [
        "!FALSE"
      ],
      "id": "8acf1e21-cbcf-4209-972f-9380b2eed173"
    },
    {
      "cell_type": "code",
      "execution_count": null,
      "metadata": {},
      "outputs": [],
      "source": [
        "# which elements of a are > 6 and <= 10\n",
        "(a > 6) & (a <= 10)"
      ],
      "id": "9f5281ff-bb06-4c37-a9db-0678d3236420"
    },
    {
      "cell_type": "code",
      "execution_count": null,
      "metadata": {},
      "outputs": [],
      "source": [
        "# which elements of a are <= 4 or >= 12\n",
        "(a <= 4) | (a >= 12)"
      ],
      "id": "80de8398-e40b-483a-bde9-96d7dbf44b5d"
    },
    {
      "cell_type": "code",
      "execution_count": null,
      "metadata": {},
      "outputs": [],
      "source": [
        "# which elements of a are NOT <= 4 or >= 12\n",
        "!((a <= 4) | (a >= 12))"
      ],
      "id": "e54c2cc7-208b-47de-9d97-1232e32309c0"
    },
    {
      "cell_type": "markdown",
      "metadata": {},
      "source": [
        "We can pass logical expressions within the square brackets to access\n",
        "part of a data structure. This syntax will return each element of the\n",
        "object for which the expression is `TRUE`.\n",
        "\n",
        "**Your turn**\n",
        "\n",
        "Run the following commands in R and see what is printed.\n",
        "\n",
        "What task is each command performing?"
      ],
      "id": "f07c049a-48a3-491d-aadc-df7aa0bc9c74"
    },
    {
      "cell_type": "code",
      "execution_count": null,
      "metadata": {},
      "outputs": [],
      "source": [
        "# extract the parts of a with values < 6\n",
        "a[a < 6]"
      ],
      "id": "0f9e66cf-03fe-4fa4-9c9e-30514fe9a96a"
    },
    {
      "cell_type": "code",
      "execution_count": null,
      "metadata": {},
      "outputs": [],
      "source": [
        "# extract the parts of a with values equal to 10\n",
        "a[a == 10]"
      ],
      "id": "0aa408a5-9ace-4b3a-b6fc-31683681e530"
    },
    {
      "cell_type": "code",
      "execution_count": null,
      "metadata": {},
      "outputs": [],
      "source": [
        "# extract the parts of a with values < 6 or equal to 10\n",
        "a[(a < 6)|(a == 10)]"
      ],
      "id": "91396fd3-4585-448d-a2af-35cb14389b3a"
    },
    {
      "cell_type": "markdown",
      "metadata": {},
      "source": [
        "# Helpful Functions\n",
        "\n",
        "**Common Useful Functions**\n",
        "\n",
        "------------------------------------------------------------------------"
      ],
      "id": "9723be7f-765c-4a24-821a-e8ed718b1099"
    },
    {
      "cell_type": "code",
      "execution_count": null,
      "metadata": {},
      "outputs": [],
      "source": [
        "x <- rexp(100) # sample 100 iid values from an Exponential(1) distribution"
      ],
      "id": "e860e07c-5472-4549-ad64-57b0aae0ba7c"
    },
    {
      "cell_type": "code",
      "execution_count": null,
      "metadata": {},
      "outputs": [],
      "source": [
        "length(x) # length of x"
      ],
      "id": "1675f4ed-995f-431d-aae0-a9325c802f9a"
    },
    {
      "cell_type": "code",
      "execution_count": null,
      "metadata": {},
      "outputs": [],
      "source": [
        "sum(x) # sum of x"
      ],
      "id": "08405854-c10f-4918-8d49-10044d7b912f"
    },
    {
      "cell_type": "code",
      "execution_count": null,
      "metadata": {},
      "outputs": [],
      "source": [
        "mean(x) # sample mean of x"
      ],
      "id": "a83b80e1-1bd2-4d6b-8e29-ab08b98521f1"
    },
    {
      "cell_type": "code",
      "execution_count": null,
      "metadata": {},
      "outputs": [],
      "source": [
        "var(x) # sample variance of x"
      ],
      "id": "e3e9fb6b-e333-4298-baae-29c037013c97"
    },
    {
      "cell_type": "code",
      "execution_count": null,
      "metadata": {},
      "outputs": [],
      "source": [
        "sd(x) # sample standard deviation of x"
      ],
      "id": "15cbfcab-3d85-4743-9dc8-924e608d18bb"
    },
    {
      "cell_type": "code",
      "execution_count": null,
      "metadata": {},
      "outputs": [],
      "source": [
        "range(x) # range of x"
      ],
      "id": "7b6e68f1-ad7a-4058-8b9a-59fca57dd626"
    },
    {
      "cell_type": "code",
      "execution_count": null,
      "metadata": {},
      "outputs": [],
      "source": [
        "log(x) # logarithm of x"
      ],
      "id": "a63b427b-3895-48f2-93b1-985157b4a376"
    },
    {
      "cell_type": "code",
      "execution_count": null,
      "metadata": {},
      "outputs": [],
      "source": [
        "summary(x) # summary of x"
      ],
      "id": "427e252d-b014-4aed-a2ad-8d76236c0bda"
    },
    {
      "cell_type": "code",
      "execution_count": null,
      "metadata": {},
      "outputs": [],
      "source": [
        "str(x) # structure of x"
      ],
      "id": "37b71425-d600-408f-b61a-fdc08b2a03b6"
    },
    {
      "cell_type": "markdown",
      "metadata": {},
      "source": [
        "**Functions for Statistical Distributions**\n",
        "\n",
        "------------------------------------------------------------------------\n",
        "\n",
        "Suppose that a random variable $X$ has the `dist` distribution. The\n",
        "function templates in the list below describe how to obtain certain\n",
        "properties of $X$.\n",
        "\n",
        "-   `p[dist](q, ...)`: returns the cdf of $X$ evaluated at `q`, i.e.,\n",
        "    $p=P(X\\leq q)$.\n",
        "-   `q[dist](p, ...)`: returns the inverse cdf (or quantile function) of\n",
        "    $X$ evaluated at $p$, i.e., $q = \\inf\\{x: P(X\\leq x) \\geq p\\}$.\n",
        "-   `d[dist](x, ...)`: returns the mass or density of $X$ evaluated at\n",
        "    $x$ (depending on whether it’s discrete or continuous).\n",
        "-   `r[dist](n, ...)`: returns an independent and identically\n",
        "    distributed random sample of size `n` having the same distribution\n",
        "    as $X$.\n",
        "-   The `...` indicates that additional arguments describing the\n",
        "    parameters of the distribution may be required.\n",
        "\n",
        "**Your turn**\n",
        "\n",
        "Run the following commands in R to see the output.\n",
        "\n",
        "What task is each command performing?"
      ],
      "id": "f81f6b94-5f73-4fdb-93d0-b3f4b4df1cd4"
    },
    {
      "cell_type": "code",
      "execution_count": null,
      "metadata": {},
      "outputs": [],
      "source": [
        "pnorm(1.96, mean = 0, sd = 1)"
      ],
      "id": "583fd909-5231-4073-bee2-01d25a74ea98"
    },
    {
      "cell_type": "code",
      "execution_count": null,
      "metadata": {},
      "outputs": [],
      "source": [
        "qunif(0.6, min = 0, max = 1)"
      ],
      "id": "bcf11dcc-b7aa-4c9b-aafb-850a251dc0ec"
    },
    {
      "cell_type": "code",
      "execution_count": null,
      "metadata": {},
      "outputs": [],
      "source": [
        "dbinom(2, size = 20, prob = .2)"
      ],
      "id": "2bdc4b19-986f-462d-a8d4-05e0fb9a5320"
    },
    {
      "cell_type": "code",
      "execution_count": null,
      "metadata": {},
      "outputs": [],
      "source": [
        "dexp(1, rate = 2)"
      ],
      "id": "bd39110c-4d93-429d-b665-ec04248cac56"
    },
    {
      "cell_type": "code",
      "execution_count": null,
      "metadata": {},
      "outputs": [],
      "source": [
        "rchisq(100, df = 5)"
      ],
      "id": "ec6b5915-b500-4335-a324-5a174a55d904"
    },
    {
      "cell_type": "markdown",
      "metadata": {},
      "source": [
        "# Data Frames\n",
        "\n",
        "Data frames are a *fundamental* data structure used by most of R’s\n",
        "modeling software.\n",
        "\n",
        "Data frames are:\n",
        "\n",
        "-   two-dimensional data objects.\n",
        "-   each column of a data frame is a vector.\n",
        "\n",
        "**Data Frame Creation**\n",
        "\n",
        "------------------------------------------------------------------------\n",
        "\n",
        "Data frames are directly created by passing vectors into the\n",
        "`data.frame` function."
      ],
      "id": "80aa2ac9-dd21-478c-a40c-6d0cf893a866"
    },
    {
      "cell_type": "code",
      "execution_count": null,
      "metadata": {},
      "outputs": [],
      "source": [
        "# create basic data frame\n",
        "d <- c(1, 2, 3, 4)\n",
        "e <- c(\"red\", \"white\", \"blue\", NA)\n",
        "f <- c(TRUE, TRUE, TRUE, FALSE)\n",
        "df <- data.frame(d,e,f)\n",
        "df"
      ],
      "id": "91904ad9-44da-4d73-b9ff-21caf7ecbe0f"
    },
    {
      "cell_type": "markdown",
      "metadata": {},
      "source": [
        "The columns of a data frame can be renamed using the `names` function on\n",
        "the data frame."
      ],
      "id": "83d7d4a0-33e7-4849-85c5-9711f1761165"
    },
    {
      "cell_type": "code",
      "execution_count": null,
      "metadata": {},
      "outputs": [],
      "source": [
        "# name columns of data frame\n",
        "names(df) <- c(\"ID\", \"Color\", \"Passed\")\n",
        "df"
      ],
      "id": "cab74248-903f-4807-9164-af01e6493e3b"
    },
    {
      "cell_type": "markdown",
      "metadata": {},
      "source": [
        "We can initially name The columns of a data frame when we create the\n",
        "data frame by using `name =` for each vector of data."
      ],
      "id": "488da53e-ae77-4db9-b76f-0eebd34cfda3"
    },
    {
      "cell_type": "code",
      "execution_count": null,
      "metadata": {},
      "outputs": [],
      "source": [
        "# create data frame with better column names\n",
        "df2 <- data.frame(ID = d, Color = e, Passed = f)\n",
        "df2"
      ],
      "id": "a91df75e-d737-4611-a9d8-f426a6c038f0"
    },
    {
      "cell_type": "markdown",
      "metadata": {},
      "source": [
        "**Importing Data**\n",
        "\n",
        "------------------------------------------------------------------------\n",
        "\n",
        "In practice, the data we want to analyze is saved in a file, and we can\n",
        "import the data from the file into R.\n",
        "\n",
        "The `read.table` function imports data in table format from file into R\n",
        "as a data frame.\n",
        "\n",
        "-   `file` is the file path and name of the file we want to import into\n",
        "    R.\n",
        "    -   If we don’t know the file path, we can use\n",
        "        `file = file.choose()` to launch a dialog box asking us to\n",
        "        locate the file we want to import.\n",
        "-   `header` specifies whether the data file has a header (variable\n",
        "    labels for each column of data in the first row of the data file).\n",
        "    -   If we don’t specify this option in R or use `header = FALSE`,\n",
        "        then R will assume the file doesn’t have any headings.\n",
        "    -   `header = TRUE` tells R to read in the data as a data frame with\n",
        "        column names taken from the first row of the data file.\n",
        "-   `sep` specifies the delimiter separating elements in the file.\n",
        "    -   If each column of data in the file is separated by a space, then\n",
        "        use `sep = \" \"`.\n",
        "    -   If each column of data in the file is separated by a comma, then\n",
        "        use `sep = \",\"`.\n",
        "    -   If each column of data in the file is separated by a tab, then\n",
        "        use `sep = \"\\t\"`.\n",
        "\n",
        "Consider reading in a csv (comma separated file) with a header. The file\n",
        "in question contains information related to COVID-19 cases and deaths as\n",
        "of December 4, 2020."
      ],
      "id": "1f64395e-ff9f-479d-8bdf-c53090f86a44"
    },
    {
      "cell_type": "code",
      "execution_count": null,
      "metadata": {},
      "outputs": [],
      "source": [
        "# import data as data frame\n",
        "dtf <- read.table(file = \"https://raw.githubusercontent.com/jfrench/DataWrangleViz/master/data/covid_dec4.csv\",\n",
        "                  header = TRUE,\n",
        "                  sep = \",\")\n",
        "str(dtf)"
      ],
      "id": "95f09d52-d3ee-4698-8217-cb5963ca2eeb"
    },
    {
      "cell_type": "markdown",
      "metadata": {},
      "source": [
        "**Extracting parts of a data frame**\n",
        "\n",
        "------------------------------------------------------------------------\n",
        "\n",
        "R provides many ways to extract parts of a data frame.\n",
        "\n",
        "The `mtcars` data frame 32observations of 11 variables."
      ],
      "id": "0d98883b-368f-47dd-b218-8a65869625fc"
    },
    {
      "cell_type": "code",
      "execution_count": null,
      "metadata": {},
      "outputs": [],
      "source": [
        "data(mtcars) # load data set\n",
        "str(mtcars)  # examine data structure"
      ],
      "id": "40a5c87d-d484-4b30-9fc8-c98fcf04bad5"
    },
    {
      "cell_type": "markdown",
      "metadata": {},
      "source": [
        "We can extract the `mpg` variable from the `mtcars` data frame using the\n",
        "`$` operator."
      ],
      "id": "e147912d-d60f-4c63-a024-7b61a5febd7c"
    },
    {
      "cell_type": "code",
      "execution_count": null,
      "metadata": {},
      "outputs": [],
      "source": [
        "mtcars$mpg"
      ],
      "id": "6ebc3d87-cc67-4144-af69-5635c49f62de"
    },
    {
      "cell_type": "markdown",
      "metadata": {},
      "source": [
        "Another way to extract a variable from a data frame uses a\n",
        "`df[rows, columns]` style syntax.\n",
        "\n",
        "-   `rows` and `columns` indicate the desired rows or columns.\n",
        "-   If either the `rows` or `columns` are left blank, then all `rows` or\n",
        "    `columns`, respectively, are extracted."
      ],
      "id": "3b1df0e7-a0db-473a-aec5-66fc6c6b2b93"
    },
    {
      "cell_type": "code",
      "execution_count": null,
      "metadata": {},
      "outputs": [],
      "source": [
        "mtcars[,\"mpg\"]"
      ],
      "id": "06d4b361-0a66-42c5-86e5-6ff6232123c1"
    },
    {
      "cell_type": "markdown",
      "metadata": {},
      "source": [
        "To select multiple variables in a data frame, we can provide a character\n",
        "vector with multiple variable names between `[]`."
      ],
      "id": "68c0bf22-be68-4f89-95b7-6bbf092bea71"
    },
    {
      "cell_type": "code",
      "execution_count": null,
      "metadata": {},
      "outputs": [],
      "source": [
        "mtcars[c(\"mpg\", \"cyl\")]"
      ],
      "id": "54b920b7-8199-4198-9e07-8eb9df0017c3"
    },
    {
      "cell_type": "markdown",
      "metadata": {},
      "source": [
        "We can also use numeric indices to directly indicate the rows or columns\n",
        "of the data frame that we would like to extract."
      ],
      "id": "5202bd2e-028f-44b7-bfb5-dc1e24eefc9d"
    },
    {
      "cell_type": "code",
      "execution_count": null,
      "metadata": {},
      "outputs": [],
      "source": [
        "mtcars[c(1, 2)]"
      ],
      "id": "0a952dd0-f96a-49e2-b97d-1d74b30e4b84"
    },
    {
      "cell_type": "markdown",
      "metadata": {},
      "source": [
        "**Conditional Extraction of Data Frames**\n",
        "\n",
        "------------------------------------------------------------------------\n",
        "\n",
        "Logical expressions can be used to subset a data frame.\n",
        "\n",
        "The following command creates of vector of logical values."
      ],
      "id": "dc2d2e9f-2e4a-4fdb-8c10-aa9805588a8a"
    },
    {
      "cell_type": "code",
      "execution_count": null,
      "metadata": {},
      "outputs": [],
      "source": [
        "mtcars$hp > 250"
      ],
      "id": "724c086b-6e71-4c83-89c7-d07793b0a841"
    },
    {
      "cell_type": "markdown",
      "metadata": {},
      "source": [
        "This vector can be used to extract rows for all of the `TRUE` values."
      ],
      "id": "a33e6afa-a1cc-41de-a546-239d1e8722ef"
    },
    {
      "cell_type": "code",
      "execution_count": null,
      "metadata": {},
      "outputs": [],
      "source": [
        "# extract rows with hp > 250\n",
        "mtcars[mtcars$hp > 250,]"
      ],
      "id": "c8146b7f-a90c-45a3-b142-a886eaacf141"
    },
    {
      "cell_type": "markdown",
      "metadata": {},
      "source": [
        "We can make the logical expression more complicated."
      ],
      "id": "121da38e-5b5e-4759-9f76-b06c1b444fc7"
    },
    {
      "cell_type": "code",
      "execution_count": null,
      "metadata": {},
      "outputs": [],
      "source": [
        "# return rows with `cyl == 8` and `mpg > 17`\n",
        "# return columns mpg, cyl, disp, hp\n",
        "mtcars[mtcars$cyl == 8 & mtcars$mpg > 17, c(\"mpg\", \"cyl\", \"disp\", \"hp\")]"
      ],
      "id": "8978ea41-a346-409c-952e-c3a8a90192c3"
    },
    {
      "cell_type": "markdown",
      "metadata": {},
      "source": [
        "**Modifying Data Frames**\n",
        "\n",
        "------------------------------------------------------------------------\n",
        "\n",
        "We can add columns to a data frame by combining the `$` and assignment\n",
        "operators."
      ],
      "id": "913c995b-cdfe-419d-baf6-48de6e362ed3"
    },
    {
      "cell_type": "code",
      "execution_count": null,
      "metadata": {},
      "outputs": [],
      "source": [
        "mtcars$kpg <- mtcars$mpg * 1.6"
      ],
      "id": "a5513d5f-91d2-4fd7-a1d9-ab2eb9131a6b"
    },
    {
      "cell_type": "markdown",
      "metadata": {},
      "source": [
        "**Extraction using the `subset` function**\n",
        "\n",
        "------------------------------------------------------------------------\n",
        "\n",
        "The `subset` function returns the part of a data frame that meets the\n",
        "specified conditions.\n",
        "\n",
        "The basic usage of this function is:\n",
        "`subset(x, subset, select, drop = FALSE)`\n",
        "\n",
        "-   `x` is the object we want to subset.\n",
        "    -   `x` can be a vector, matrix, or data frame.\n",
        "-   `subset` is a logical expression that indicates the elements or rows\n",
        "    of `x` to keep (`TRUE` means keep).\n",
        "-   `select` is a vector that indicates the columns to keep.\n",
        "-   `drop` is a logical value indicating whether the data frame should\n",
        "    “drop” into a vector if only a single row or column is kept. The\n",
        "    default is `FALSE`.\n",
        "\n",
        "**Your turn**\n",
        "\n",
        "Run the following commands in the Console to use the `subset` function\n",
        "to extract parts of the `mtcars` data frame.\n",
        "\n",
        "What is each command performing?"
      ],
      "id": "833385b5-1437-4563-abf8-53ff0eab06a3"
    },
    {
      "cell_type": "code",
      "execution_count": null,
      "metadata": {},
      "outputs": [],
      "source": [
        "subset(mtcars, subset = gear > 4)"
      ],
      "id": "cbe91706-1f6b-416f-8f3a-bd18272206d5"
    },
    {
      "cell_type": "code",
      "execution_count": null,
      "metadata": {},
      "outputs": [],
      "source": [
        "subset(mtcars, select = c(disp, hp, gear))"
      ],
      "id": "56c42b8c-0962-47ac-ac0a-3a516527fe6f"
    },
    {
      "cell_type": "code",
      "execution_count": null,
      "metadata": {},
      "outputs": [],
      "source": [
        "subset(mtcars, subset = gear > 4, select = c(disp, hp, gear))"
      ],
      "id": "80ff6d14-baa8-4c90-99ca-2a5249b4f7a0"
    },
    {
      "cell_type": "markdown",
      "metadata": {},
      "source": [
        "# Using the pipe operator\n",
        "\n",
        "R’s native pipe operator (`|>`) allows us to “pipe” the object on the\n",
        "left side of the operator into the first argument of the function on the\n",
        "right side of the operator. The pipe operator is a convenient way to\n",
        "string together numerous steps in a string of commands.\n",
        "\n",
        "When reading code with pipes, the pipe can be thought of as the word\n",
        "“then”.\n",
        "\n",
        "In the code below, we take `mtcars` *then* subset it based on `disp` and\n",
        "*then* select some columns."
      ],
      "id": "81d0197f-b170-4aa2-bebd-fa026c5de3fd"
    },
    {
      "cell_type": "code",
      "execution_count": null,
      "metadata": {},
      "outputs": [],
      "source": [
        "subset(mtcars,\n",
        "       subset = disp > 400,\n",
        "       select = c(mpg, disp, hp))"
      ],
      "id": "e5933ce7-71f2-4218-bbf9-230a59704162"
    },
    {
      "cell_type": "code",
      "execution_count": null,
      "metadata": {},
      "outputs": [],
      "source": [
        "mtcars |>\n",
        "  subset(subset = disp > 400) |>\n",
        "  subset(select = c(mpg, disp, hp))"
      ],
      "id": "6a232a4b-0f54-4790-b775-b9487eb4105a"
    },
    {
      "cell_type": "markdown",
      "metadata": {},
      "source": [
        "Here is a complicated sequence of piped commands. What are the commands\n",
        "doing?"
      ],
      "id": "58c8da8c-6256-46a7-b476-c6f55bb69216"
    },
    {
      "cell_type": "code",
      "execution_count": null,
      "metadata": {},
      "outputs": [],
      "source": [
        "# create new variable, select columns, extract first 5 rows\n",
        "mtcars |>\n",
        "  transform(lp100km = 237.5/mpg) |>\n",
        "  subset(select = c(mpg, lp100km)) |>\n",
        "  head(n = 5)"
      ],
      "id": "948d21ee-1ff0-4892-af5f-20dda2e70807"
    }
  ],
  "nbformat": 4,
  "nbformat_minor": 5,
  "metadata": {
    "kernelspec": {
      "display_name": "Python 3",
      "language": "python",
      "name": "python3"
    }
  }
}