{
  "cells": [
    {
      "cell_type": "markdown",
      "metadata": {},
      "source": [
        "# Chapter 1 - R Foundations\n",
        "\n",
        "Joshua French\n",
        "\n",
        "To open this information in an interactive Colab notebook, click or scan\n",
        "the QR code below.\n",
        "\n",
        "<a href=\"https://colab.research.google.com/github/jfrench/LinearRegression/blob/master/notebooks/01-r-foundations-notebook.ipynb\">\n",
        "<img src=\"https://raw.githubusercontent.com/jfrench/LinearRegression/5b0888e3fcc11c764141db6cd11b89239d24ade0/images/qr-01-r-foundations.png\">\n",
        "</a>\n",
        "\n",
        "------------------------------------------------------------------------\n",
        "\n",
        "# What is R?\n",
        "\n",
        "R is a programming language and environment designed for statistical\n",
        "computing.\n",
        "[(https://www.r-project.org/about.html)](https://www.r-project.org/about.html)\n",
        "\n",
        "R is free, open source, and runs on many different types of computers\n",
        "(Windows, Mac, Linux, and others).\n",
        "\n",
        "R is an interactive programming language.\n",
        "\n",
        "-   We type and run a command in the Console for immediate feedback, in\n",
        "    contrast to a compiled programming language, which compiles a\n",
        "    program that is then executed.\n",
        "\n",
        "R is highly extendable.\n",
        "\n",
        "-   We can extend the functionality of R beyond what is available by\n",
        "    default by installing user-created packages.\n",
        "-   We can write our own functions to create additional capabilities in\n",
        "    R.\n",
        "\n",
        "# Installing R and RStudio\n",
        "\n",
        "Install R by downloading an installer program from the R Project’s\n",
        "website [(https://www.r-project.org/)](https://www.r-project.org/).\n",
        "\n",
        "RStudio Desktop is a free “front end” for R that makes doing data\n",
        "analysis with R easier by adding an Integrated Development Environment\n",
        "(IDE) and providing many other features. Currently, we can download\n",
        "RStudio at <https://posit.co/download/rstudio-desktop/>.\n",
        "\n",
        "**RStudio Layout**\n",
        "\n",
        "RStudio Desktop has four panes:\n",
        "\n",
        "1.  Console: the pane where we run commands.\n",
        "2.  Source: the pane where we prepare commands to run.\n",
        "3.  Environment/History: the pane where we can see all the objects in\n",
        "    our workspace, our command history, and other information.\n",
        "4.  The Files/Plot/Packages/Help: the pane where we navigate between\n",
        "    directories, where plots can be viewed, where we can see the\n",
        "    packages available to be loaded, and where we can get help.\n",
        "\n",
        "<img src=\"https://raw.githubusercontent.com/jfrench/LinearRegression/ba73f4ffa2c6eec30e425352e89154a92e4a0fb8/images/rstudio_panes_new.png\" width=\"800\">\n",
        "\n",
        "Tip: Change the R Studio environment so that it doesn’t save the\n",
        "workspace when exiting the application.\n",
        "\n",
        "# Running code, scripts, and comments\n",
        "\n",
        "We can run code in R by typing it in the Console next to the `>` symbol\n",
        "and pressing the Enter key.\n",
        "\n",
        "It’s better to write our commands in a “Script” file, save the Script,\n",
        "and then run our commands from the Script. The commands in a Script file\n",
        "are generically referred to as “code”.\n",
        "\n",
        "Script files make it easy to:\n",
        "\n",
        "-   Reproduce our data analysis without retyping all our commands.\n",
        "-   Share our code with others.\n",
        "\n",
        "A new Script file can be obtained by:\n",
        "\n",
        "-   Clicking File → New File → R Script in the RStudio menu bar.\n",
        "-   Pressing `Ctrl + Shift + n` on a PC or `Cmd + Shift + n` on a Mac.\n",
        "\n",
        "To run code from a Script file:\n",
        "\n",
        "-   Highlight the code we want to run and click the Run button at the\n",
        "    top of the Script pane.\n",
        "-   Highlight the code we want to run and press “Ctrl + Enter” on our\n",
        "    keyboard. If we don’t highlight anything, by default, RStudio runs\n",
        "    the command the cursor currently lies on.\n",
        "\n",
        "To save a Script file:\n",
        "\n",
        "-   Click File → Save in the RStudio menu bar.\n",
        "-   Press `Ctrl + s` on a PC or `Cmd + s` on a Mac.\n",
        "\n",
        "A comment is a set of text ignored by R when submitted to the Console.\n",
        "\n",
        "A comment is indicated by the `#` symbol. Nothing to the right of the\n",
        "`#` is executed by the Console.\n",
        "\n",
        "We can comment (or uncomment) multiple lines of code in the Source pane\n",
        "of RStudio by highlighting the code we want to comment and pressing\n",
        "`Ctrl + Shift + c` on a PC or `Cmd + Shift + c` on a Mac.\n",
        "\n",
        "**Your turn**\n",
        "\n",
        "Perform the following tasks:\n",
        "\n",
        "1.  Type `1+1` in the Console and press Enter.\n",
        "2.  Open a new Script in RStudio.\n",
        "3.  Type `mean(1:3)` in the Script file.\n",
        "4.  Type `# mean(1:3)` in the Script file.\n",
        "5.  Run the commands from the Script using an approach mentioned above.\n",
        "6.  Save the Script file.\n",
        "7.  Use the keyboard shortcut to “comment out” some of the lines of the\n",
        "    Script file."
      ],
      "id": "82c80f1b-ed5b-41ca-9c64-453896c84a58"
    },
    {
      "cell_type": "code",
      "execution_count": null,
      "metadata": {},
      "outputs": [],
      "source": [
        "# type your commands here"
      ],
      "id": "6c526567-6e61-41a5-a04f-a3eb247fbc60"
    },
    {
      "cell_type": "markdown",
      "metadata": {},
      "source": [
        "# Assignment in R\n",
        "\n",
        "R works on various types of objects that we’ll learn more about later.\n",
        "\n",
        "To store an object in the computer’s memory we must assign it a name\n",
        "using the assignment operator `<-` or the equal sign `=`.\n",
        "\n",
        "Some comments:\n",
        "\n",
        "-   In general, both `<-` and `=` can be used for assignment.\n",
        "-   Pressing `Alt + -` on a PC or `Option + -` on a Mac will insert `<-`\n",
        "    into the R Console and Script files.\n",
        "    -   If we are creating an R Markdown or Quarto file, then this\n",
        "        shortcut will only insert `<-` if we are in a code block.\n",
        "-   `<-` and `=` are NOT synonyms but can be used identically most of\n",
        "    the time.\n",
        "\n",
        "# Functions\n",
        "\n",
        "We use a function by typing the function’s name in the Console (or\n",
        "Script), supplying the function’s “arguments” between parentheses, `()`,\n",
        "and then pressing Enter.\n",
        "\n",
        "The arguments of a function are pieces of data or information the\n",
        "function needs to perform the requested task (i.e., the function\n",
        "“inputs”). Each argument we supply is separated by a comma, `,`.\n",
        "\n",
        "**Your turn**\n",
        "\n",
        "Run the following commands in the Console.\n",
        "\n",
        "What is each command doing?"
      ],
      "id": "ef706e26-b656-4037-ba4d-96906b7aef1b"
    },
    {
      "cell_type": "code",
      "execution_count": null,
      "metadata": {},
      "outputs": [],
      "source": [
        "# compute the mean of 1, 2, ..., 10 and assign the name m\n",
        "m <- mean(1:10) \n",
        "m # print m"
      ],
      "id": "c627c266-f21b-486a-9267-a406799ee9bf"
    },
    {
      "cell_type": "code",
      "execution_count": null,
      "metadata": {},
      "outputs": [],
      "source": [
        "print(m) # print m a different way"
      ],
      "id": "f3299cc4-e904-415e-9da5-275e55fe660b"
    },
    {
      "cell_type": "code",
      "execution_count": null,
      "metadata": {},
      "outputs": [],
      "source": [
        "mean(c(1, 5, 3, 4, 10)) # mean of a new vector"
      ],
      "id": "438b2ba0-32a2-4373-9cf5-960ef1f300df"
    },
    {
      "cell_type": "code",
      "execution_count": null,
      "metadata": {},
      "outputs": [],
      "source": [
        "mean(c(1, 5, 3, 4, 10), trim = 0.2) # compute trimmed mean"
      ],
      "id": "3c1b7c92-2e56-4802-aa52-c918a530237d"
    },
    {
      "cell_type": "markdown",
      "metadata": {},
      "source": [
        "# Packages\n",
        "\n",
        "Packages are collections of functions, data, and other objects that\n",
        "extend the functionality available in R by default.\n",
        "\n",
        "R packages can be installed using the `install.packages` function and\n",
        "loaded using the `library` function.\n",
        "\n",
        "The **tidyverse** package (actually, a collection of packages) contains\n",
        "data and some useful functions we will be using later in the course.\n",
        "\n",
        "**Your turn**"
      ],
      "id": "fcebee48-c61e-4d89-b08f-7338e9000458"
    },
    {
      "cell_type": "code",
      "execution_count": null,
      "metadata": {},
      "outputs": [],
      "source": [
        "# install tidyverse if it's not already installed\n",
        "if (!require(\"tidyverse\")){\n",
        "    install.packages(\"tidyverse\")\n",
        "}"
      ],
      "id": "0b809960-3b9a-4baa-b8fd-78db50ce0d0b"
    },
    {
      "cell_type": "markdown",
      "metadata": {},
      "source": [
        "After we install **tidyverse**, we can load the package by running the\n",
        "command below."
      ],
      "id": "9483ab88-f1c9-4b53-be22-bf3570dd8406"
    },
    {
      "cell_type": "code",
      "execution_count": null,
      "metadata": {},
      "outputs": [],
      "source": [
        "library(tidyverse)"
      ],
      "id": "41466b0f-e7df-4fe3-8796-46629a66c260"
    },
    {
      "cell_type": "markdown",
      "metadata": {},
      "source": [
        "# Getting Help\n",
        "\n",
        "There are many ways to get help in R.\n",
        "\n",
        "-   To get help for a function named `command`, run `?command` to access\n",
        "    the documentation\n",
        "    -   The Documentation will provide information on the function use,\n",
        "        arguments, usage examples, and more.\n",
        "-   Running `??topic` will search the documentation for any occurrence\n",
        "    of the word “topic” and provide a list of relevant documentation to\n",
        "    consider.\n",
        "-   Stack Overflow (<https://www.stackoverflow.com>) is a great resource\n",
        "    to find solutions.\n",
        "-   AI chatbots like ChatGPT and Gemini are becoming better at\n",
        "    suggesting and correcting computer code.\n",
        "\n",
        "**Your turn**\n",
        "\n",
        "Let’s get help on the `lm` function through the R console."
      ],
      "id": "4b7279f0-11f5-4fa2-92fe-46abef210d26"
    },
    {
      "cell_type": "code",
      "execution_count": null,
      "metadata": {},
      "outputs": [],
      "source": [
        "?lm"
      ],
      "id": "da81b667-3ac8-47c9-a8df-269eadd5376c"
    },
    {
      "cell_type": "markdown",
      "metadata": {},
      "source": [
        "Next, try the following search in an AI chatbot: “How do I create a\n",
        "scatter plot in R?” Was the information useful?\n",
        "\n",
        "# Data Types and Structures\n",
        "\n",
        "**Basic Data Types**\n",
        "\n",
        "------------------------------------------------------------------------\n",
        "\n",
        "R has 6 basic vector types:\n",
        "\n",
        "1.  `character`: collections of characters. E.g., `\"a\"`,\n",
        "    `\"hello world!\"`.\n",
        "2.  `double`: decimal numbers. e.g., `1.2`, `1.0`.\n",
        "3.  `integer`: whole numbers. In R, we must add `L` to the end of a\n",
        "    number to declare it as an integer. E.g., `1L` is an integer but `1`\n",
        "    is a double.\n",
        "4.  `logical`: boolean values, `TRUE` and `FALSE`.\n",
        "5.  `complex`: complex numbers. E.g., `1+3i`.\n",
        "6.  `raw`: a type to hold raw bytes.\n",
        "\n",
        "**Other important object types**\n",
        "\n",
        "------------------------------------------------------------------------\n",
        "\n",
        "-   `numeric`: An object is `numeric` if it is of type `integer` or\n",
        "    `double`. In that case, it’s `mode` is said to be `numeric`.\n",
        "-   `NULL`: `NULL` is a special object to indicate an object is absent.\n",
        "    -   An object having a length of zero is not the same thing as an\n",
        "        object being absent.\n",
        "-   `NA`: A “missing value” occurs when the value of something isn’t\n",
        "    known. R uses the special object `NA` to represent a missing value.\n",
        "    -   If we have a missing value, we should represent that value as\n",
        "        `NA`. Note: `\"NA\"` is not the same thing as `NA`.\n",
        "\n",
        "# Data structures\n",
        "\n",
        "R operates on data structures. A data structure is a “container” that\n",
        "holds certain kinds of information.\n",
        "\n",
        "R has 5 basic data structures:\n",
        "\n",
        "1.  vector.\n",
        "2.  matrix.\n",
        "3.  array.\n",
        "4.  data frame.\n",
        "5.  list.\n",
        "\n",
        "# Vectors\n",
        "\n",
        "**Creating vectors**\n",
        "\n",
        "------------------------------------------------------------------------\n",
        "\n",
        "A *vector* is a one-dimensional set of data of the same type.\n",
        "\n",
        "The most basic way to create a vector is the `c` (combine) function.\n",
        "\n",
        "The following commands create vectors of type `numeric`, `character`,\n",
        "and `logical`, respectively.\n",
        "\n",
        "-   `c(1, 2, 5.3, 6, -2, 4)`\n",
        "-   `c(\"one\", \"two\", \"three\")`\n",
        "-   `c(TRUE, TRUE, FALSE, TRUE)`\n",
        "\n",
        "The `seq` (sequence) function is used to create an equidistant series of\n",
        "numeric values.\n",
        "\n",
        "-   `seq(1, 10)` or `1:10` creates a sequence of numbers from 1 to 10 in\n",
        "    increments of 1.\n",
        "-   `seq(1, 20, by = 2)` creates a sequence of numbers from 1 to 20 in\n",
        "    increments of 2.\n",
        "-   `seq(10, 20, len = 100)` creates a sequence of numbers from 10 to 20\n",
        "    of length 100.\n",
        "\n",
        "The `rep` (replicate) function can be used to create a vector by\n",
        "replicating values.\n",
        "\n",
        "-   `rep(1:3, times = 3)` replicates the sequence `1, 2, 3` three times.\n",
        "-   `rep(c(\"trt1\", \"trt2\", \"trt3\"), times = 1:3)` replicates `\"trt1\"`\n",
        "    once, `\"trt2\"` twice, and `\"trt3\"` three times.\n",
        "-   `rep(1:3, each = 3)` replicates each element three times.\n",
        "\n",
        "Multiple vectors can be combined into a new vector object using the `c`\n",
        "function.\n",
        "\n",
        "-   E.g., `c(v1, v2, v3)` would combine vectors `v1`, `v2`, and `v3`.\n",
        "\n",
        "**Your turn**\n",
        "\n",
        "Run the commands below in the Console."
      ],
      "id": "d3df7c7d-0dc8-4b50-861b-c672f71bd997"
    },
    {
      "cell_type": "code",
      "execution_count": null,
      "metadata": {},
      "outputs": [],
      "source": [
        "c(1, 2, 5.3, 6, -2, 4)"
      ],
      "id": "883824b1-7f56-44f3-b273-3cbd8f5933d7"
    },
    {
      "cell_type": "code",
      "execution_count": null,
      "metadata": {},
      "outputs": [],
      "source": [
        "c(\"one\", \"two\", \"three\")"
      ],
      "id": "60710b76-0cab-4bba-af1e-1140f83aa380"
    },
    {
      "cell_type": "code",
      "execution_count": null,
      "metadata": {},
      "outputs": [],
      "source": [
        "c(TRUE, TRUE, FALSE, TRUE)"
      ],
      "id": "aadf1724-945d-4471-a245-c1af88bbf509"
    },
    {
      "cell_type": "code",
      "execution_count": null,
      "metadata": {},
      "outputs": [],
      "source": [
        "seq(1, 10)"
      ],
      "id": "4c1c5a6b-ab09-4250-958c-b75efce51d4f"
    },
    {
      "cell_type": "code",
      "execution_count": null,
      "metadata": {},
      "outputs": [],
      "source": [
        "1:10"
      ],
      "id": "a21cea48-cd58-4ff7-8e05-9f8037a6ee5a"
    },
    {
      "cell_type": "code",
      "execution_count": null,
      "metadata": {},
      "outputs": [],
      "source": [
        "seq(1, 20, by = 2)"
      ],
      "id": "b0e5f4bc-f928-4c55-88df-1d860da64483"
    },
    {
      "cell_type": "code",
      "execution_count": null,
      "metadata": {},
      "outputs": [],
      "source": [
        "seq(10, 20, len = 100)"
      ],
      "id": "1d03fe8f-368d-45a9-bb01-8a7abdbec4c4"
    },
    {
      "cell_type": "markdown",
      "metadata": {},
      "source": [
        "-   What does the `by` argument of the `seq` function control?\n",
        "-   What does the `len` argument of the `seq` function control?"
      ],
      "id": "7709be75-be33-422f-8390-4ed38cc05f20"
    },
    {
      "cell_type": "code",
      "execution_count": null,
      "metadata": {},
      "outputs": [],
      "source": [
        "rep(1:3, times = 3)"
      ],
      "id": "142addc6-e400-46a9-9227-e7d25bd91dc3"
    },
    {
      "cell_type": "code",
      "execution_count": null,
      "metadata": {},
      "outputs": [],
      "source": [
        "rep(c(\"trt1\", \"trt2\", \"trt3\"), times = 1:3)"
      ],
      "id": "aef34a5a-f244-44d7-9cd2-17d6ede68f69"
    },
    {
      "cell_type": "code",
      "execution_count": null,
      "metadata": {},
      "outputs": [],
      "source": [
        "rep(1:3, each = 3)"
      ],
      "id": "52bff080-0c5c-401b-b47f-6ecdb43788e8"
    },
    {
      "cell_type": "markdown",
      "metadata": {},
      "source": [
        "-   What does the `times` argument of the `rep` function control?\n",
        "-   What does the `each` argument of the `rep` function control?"
      ],
      "id": "da8dbef8-9f04-48a2-994d-9d81e80f3829"
    },
    {
      "cell_type": "code",
      "execution_count": null,
      "metadata": {},
      "outputs": [],
      "source": [
        "# combining vectors\n",
        "v1 <- 1:5 # create a vector, v1\n",
        "v2 <- c(1, 10, 11) # create another vector, v2\n",
        "v3 <- rep(1:2, each = 3) # crate a third vector, v3\n",
        "new <- c(v1, v2, v3) # combine vectors\n",
        "new # print the combined vector"
      ],
      "id": "fdef0128-4236-4a2c-8231-075be2295d9a"
    },
    {
      "cell_type": "markdown",
      "metadata": {},
      "source": [
        "**Categorical vectors**\n",
        "\n",
        "------------------------------------------------------------------------\n",
        "\n",
        "Categorical data should be stored as a `factor` in R.\n",
        "\n",
        "We create some `factor` variables below."
      ],
      "id": "eef44323-9a12-4983-8691-e32b0d5d11ae"
    },
    {
      "cell_type": "code",
      "execution_count": null,
      "metadata": {},
      "outputs": [],
      "source": [
        "f1 <- factor(rep(1:6, times = 3))\n",
        "f1"
      ],
      "id": "7dfc511d-b971-43a3-ba6b-40ce093df31e"
    },
    {
      "cell_type": "code",
      "execution_count": null,
      "metadata": {},
      "outputs": [],
      "source": [
        "f2 <- factor(c(\"a\", 7, \"blue\", \"blue\", FALSE))\n",
        "f2"
      ],
      "id": "59f13d76-4a0f-4efa-a277-7fbccd94ae7d"
    },
    {
      "cell_type": "markdown",
      "metadata": {},
      "source": [
        "A printed `factor` object lists the `Levels` (i.e., unique categories)\n",
        "of the object.\n",
        "\n",
        "Some additional comments:\n",
        "\n",
        "-   `factor` objects aren’t technically vectors but behave like vectors,\n",
        "    which is why we discuss them here.\n",
        "-   We can use the `is.factor` function to determine whether an object\n",
        "    is a `factor`.\n",
        "-   We can create `factor` objects with specific orderings of categories\n",
        "    using the `level` and `ordered` arguments of the `factor` function\n",
        "    (see `?factor` for more details)."
      ],
      "id": "a476b9c8-593b-4799-b4fd-4ae08a5b33b9"
    },
    {
      "cell_type": "code",
      "execution_count": null,
      "metadata": {},
      "outputs": [],
      "source": [
        "size <- c(\"small\", \"medium\", \"small\", \"large\", \"medium\", \"medium\", \"large\")\n",
        "factor(size)"
      ],
      "id": "2d16b257-8a42-4026-8cdf-287a6340b5ed"
    },
    {
      "cell_type": "code",
      "execution_count": null,
      "metadata": {},
      "outputs": [],
      "source": [
        "# create ordered factor\n",
        "factor(size, levels = c(\"small\", \"medium\", \"large\"), ordered = TRUE)"
      ],
      "id": "684339b2-32fd-4cb7-87d8-9d7e78f8ab8f"
    },
    {
      "cell_type": "markdown",
      "metadata": {},
      "source": [
        "**Your Turn**\n",
        "\n",
        "Attempt to complete the following tasks:\n",
        "\n",
        "1.  Create a `factor` vector named `grp` that has two levels: `a` and\n",
        "    `b`, where the first 7 values are `a` and the second 4 values are\n",
        "    `b`.\n",
        "2.  Run `is.factor(grp)` in the Console.\n",
        "3.  Run `is.vector(grp)` in the Console.\n",
        "4.  Run `typeof(grp)` in the Console."
      ],
      "id": "0766e908-f99e-4401-846c-e570dd50d4a3"
    },
    {
      "cell_type": "code",
      "execution_count": null,
      "metadata": {},
      "outputs": [],
      "source": [
        "# type your code here"
      ],
      "id": "a21dfe69-aea4-4e44-9e6c-721db957aef3"
    },
    {
      "cell_type": "markdown",
      "metadata": {},
      "source": [
        "**Extracting parts of a vector**\n",
        "\n",
        "------------------------------------------------------------------------\n",
        "\n",
        "Parts of a vector can be extracted by appending an index vector in\n",
        "square brackets `[]`."
      ],
      "id": "d0b47620-7c00-4023-8835-9d6079c452b9"
    },
    {
      "cell_type": "code",
      "execution_count": null,
      "metadata": {},
      "outputs": [],
      "source": [
        "# define a sequence 2, 4, ..., 16\n",
        "a <- seq(2, 16, by = 2)\n",
        "# extract subset of vector\n",
        "a[c(2, 4, 6)]"
      ],
      "id": "b8963f45-5001-4ec8-80ea-412ee169c12a"
    },
    {
      "cell_type": "markdown",
      "metadata": {},
      "source": [
        "Supplying a negative index vector indicates the values we want to\n",
        "exclude from our result."
      ],
      "id": "ebda64a2-0a23-442d-a8e4-da560b144ef8"
    },
    {
      "cell_type": "code",
      "execution_count": null,
      "metadata": {},
      "outputs": [],
      "source": [
        "a[-c(2, 4, 6)] # select all but elements 2, 4, 6"
      ],
      "id": "ca03e0d6-33f3-433c-845f-263a5d49d295"
    },
    {
      "cell_type": "code",
      "execution_count": null,
      "metadata": {},
      "outputs": [],
      "source": [
        "a[-(3:6)] # select all but elements 3-6"
      ],
      "id": "856a13f6-82f6-48ef-9511-891b3b130fa3"
    },
    {
      "cell_type": "markdown",
      "metadata": {},
      "source": [
        "**Logical Expressions**\n",
        "\n",
        "------------------------------------------------------------------------\n",
        "\n",
        "A logical expression uses one or more logical operators to determine\n",
        "which elements of an object satisfy the specified statement.\n",
        "\n",
        "The basic logical operators are:\n",
        "\n",
        "-   `<`, `<=`: less than, less than or equal to.\n",
        "-   `>`, `>=`: greater than, greater than or equal to.\n",
        "-   `==`: equal to.\n",
        "-   `!=`: not equal to.\n",
        "\n",
        "Creating a logical expression with a vector will result in a logical\n",
        "vector indicating whether each element satisfies the logical expression.\n",
        "\n",
        "We can create more complicated logical expressions using the “and”,\n",
        "“or”, and “not” operators.\n",
        "\n",
        "-   `&`: and.\n",
        "-   `|`: or.\n",
        "-   `!`: not, i.e., not true\n",
        "\n",
        "**Your turn**\n",
        "\n",
        "Run the following commands in R.\n",
        "\n",
        "What task is each command performing?"
      ],
      "id": "c1bb3e91-7566-444a-a16e-48f704aa423a"
    },
    {
      "cell_type": "code",
      "execution_count": null,
      "metadata": {},
      "outputs": [],
      "source": [
        "a > 10  # which elements of a are > 10?"
      ],
      "id": "ca5bf9fc-59ba-4dfe-b392-906affc48124"
    },
    {
      "cell_type": "code",
      "execution_count": null,
      "metadata": {},
      "outputs": [],
      "source": [
        "a <= 4  # which elements of a are <= 10?"
      ],
      "id": "85cb0379-10fc-4213-9b7e-4983eb701a88"
    },
    {
      "cell_type": "code",
      "execution_count": null,
      "metadata": {},
      "outputs": [],
      "source": [
        "a == 10 # which elements of a are equal to 10?"
      ],
      "id": "bc0c3859-6749-4ca8-9743-7943b60102e9"
    },
    {
      "cell_type": "code",
      "execution_count": null,
      "metadata": {},
      "outputs": [],
      "source": [
        "a != 10 # which elements of a are not equal to 10?"
      ],
      "id": "404f09d4-875c-40d5-8f2a-9f1d2f3e0178"
    },
    {
      "cell_type": "code",
      "execution_count": null,
      "metadata": {},
      "outputs": [],
      "source": [
        "TRUE & TRUE & TRUE"
      ],
      "id": "947d6a09-8bd8-4e23-8204-ccb561d7dec9"
    },
    {
      "cell_type": "code",
      "execution_count": null,
      "metadata": {},
      "outputs": [],
      "source": [
        "TRUE & TRUE & FALSE"
      ],
      "id": "be0c9a9d-835d-44bf-abce-2a6d84018928"
    },
    {
      "cell_type": "code",
      "execution_count": null,
      "metadata": {},
      "outputs": [],
      "source": [
        "FALSE | TRUE | FALSE"
      ],
      "id": "d57338cf-2e33-4e60-a507-4f9c7c0b2aa3"
    },
    {
      "cell_type": "code",
      "execution_count": null,
      "metadata": {},
      "outputs": [],
      "source": [
        "FALSE | FALSE | FALSE"
      ],
      "id": "cb69b617-8dcd-4185-84a2-d0fe095820c0"
    },
    {
      "cell_type": "code",
      "execution_count": null,
      "metadata": {},
      "outputs": [],
      "source": [
        "!TRUE"
      ],
      "id": "f299fc40-3943-478a-a647-d0cc2b5105a8"
    },
    {
      "cell_type": "code",
      "execution_count": null,
      "metadata": {},
      "outputs": [],
      "source": [
        "!FALSE"
      ],
      "id": "0b57b4d2-95d4-4720-896e-7d38e3501a6f"
    },
    {
      "cell_type": "code",
      "execution_count": null,
      "metadata": {},
      "outputs": [],
      "source": [
        "# which elements of a are > 6 and <= 10\n",
        "(a > 6) & (a <= 10)"
      ],
      "id": "8d965202-92d1-408b-a004-70d35d0099ac"
    },
    {
      "cell_type": "code",
      "execution_count": null,
      "metadata": {},
      "outputs": [],
      "source": [
        "# which elements of a are <= 4 or >= 12\n",
        "(a <= 4) | (a >= 12)"
      ],
      "id": "60da7a19-3159-4430-8b71-51d20918cdc5"
    },
    {
      "cell_type": "code",
      "execution_count": null,
      "metadata": {},
      "outputs": [],
      "source": [
        "# which elements of a are NOT <= 4 or >= 12\n",
        "!((a <= 4) | (a >= 12))"
      ],
      "id": "1e7bdeee-599b-461c-ad66-96baab40a43e"
    },
    {
      "cell_type": "markdown",
      "metadata": {},
      "source": [
        "We can pass logical expressions within the square brackets to access\n",
        "part of a data structure. This syntax will return each element of the\n",
        "object for which the expression is `TRUE`.\n",
        "\n",
        "**Your turn**\n",
        "\n",
        "Run the following commands in R and see what is printed.\n",
        "\n",
        "What task is each command performing?"
      ],
      "id": "654b5205-214a-40a7-ba90-e75432fa7705"
    },
    {
      "cell_type": "code",
      "execution_count": null,
      "metadata": {},
      "outputs": [],
      "source": [
        "# extract the parts of a with values < 6\n",
        "a[a < 6]"
      ],
      "id": "3d0efef8-3403-4d7c-91f6-ae4a80db850c"
    },
    {
      "cell_type": "code",
      "execution_count": null,
      "metadata": {},
      "outputs": [],
      "source": [
        "# extract the parts of a with values equal to 10\n",
        "a[a == 10]"
      ],
      "id": "2a9e3969-fbb0-41b6-a4f9-4c89ea771026"
    },
    {
      "cell_type": "code",
      "execution_count": null,
      "metadata": {},
      "outputs": [],
      "source": [
        "# extract the parts of a with values < 6 or equal to 10\n",
        "a[(a < 6)|(a == 10)]"
      ],
      "id": "11fd117b-038f-4577-8553-ba95ff80ec9b"
    },
    {
      "cell_type": "markdown",
      "metadata": {},
      "source": [
        "# Helpful Functions\n",
        "\n",
        "**Common Useful Functions**\n",
        "\n",
        "------------------------------------------------------------------------"
      ],
      "id": "dcfe4755-6262-4205-8542-c31d633d98fb"
    },
    {
      "cell_type": "code",
      "execution_count": null,
      "metadata": {},
      "outputs": [],
      "source": [
        "x <- rexp(100) # sample 100 iid values from an Exponential(1) distribution"
      ],
      "id": "df90bb9b-8796-442e-beda-1c2ec54b9a14"
    },
    {
      "cell_type": "code",
      "execution_count": null,
      "metadata": {},
      "outputs": [],
      "source": [
        "length(x) # length of x"
      ],
      "id": "3ee6c725-5c8f-4af5-a835-c67b055c21d9"
    },
    {
      "cell_type": "code",
      "execution_count": null,
      "metadata": {},
      "outputs": [],
      "source": [
        "sum(x) # sum of x"
      ],
      "id": "b4465c03-56ad-4160-9d51-fbf6829a604b"
    },
    {
      "cell_type": "code",
      "execution_count": null,
      "metadata": {},
      "outputs": [],
      "source": [
        "mean(x) # sample mean of x"
      ],
      "id": "ff5752de-df22-481f-a91f-075639f43f0d"
    },
    {
      "cell_type": "code",
      "execution_count": null,
      "metadata": {},
      "outputs": [],
      "source": [
        "var(x) # sample variance of x"
      ],
      "id": "39e8f28a-e135-4706-8053-56c84686757d"
    },
    {
      "cell_type": "code",
      "execution_count": null,
      "metadata": {},
      "outputs": [],
      "source": [
        "sd(x) # sample standard deviation of x"
      ],
      "id": "5243d361-00b4-4f43-ac48-131c0ac42170"
    },
    {
      "cell_type": "code",
      "execution_count": null,
      "metadata": {},
      "outputs": [],
      "source": [
        "range(x) # range of x"
      ],
      "id": "af2e3eab-5e60-43e5-b398-fa65aac5d5b1"
    },
    {
      "cell_type": "code",
      "execution_count": null,
      "metadata": {},
      "outputs": [],
      "source": [
        "log(x) # logarithm of x"
      ],
      "id": "d96fafaa-0c11-4251-90c4-12b3ff6a0ed3"
    },
    {
      "cell_type": "code",
      "execution_count": null,
      "metadata": {},
      "outputs": [],
      "source": [
        "summary(x) # summary of x"
      ],
      "id": "7ed3b1ed-c0c7-4c28-b530-6f675b326b90"
    },
    {
      "cell_type": "code",
      "execution_count": null,
      "metadata": {},
      "outputs": [],
      "source": [
        "str(x) # structure of x"
      ],
      "id": "2a229cea-921d-47ff-a38b-d17019ee77b9"
    },
    {
      "cell_type": "markdown",
      "metadata": {},
      "source": [
        "**Functions for Statistical Distributions**\n",
        "\n",
        "------------------------------------------------------------------------\n",
        "\n",
        "Suppose that a random variable $X$ has the `dist` distribution. The\n",
        "function templates in the list below describe how to obtain certain\n",
        "properties of $X$.\n",
        "\n",
        "-   `p[dist](q, ...)`: returns the cdf of $X$ evaluated at `q`, i.e.,\n",
        "    $p=P(X\\leq q)$.\n",
        "-   `q[dist](p, ...)`: returns the inverse cdf (or quantile function) of\n",
        "    $X$ evaluated at $p$, i.e., $q = \\inf\\{x: P(X\\leq x) \\geq p\\}$.\n",
        "-   `d[dist](x, ...)`: returns the mass or density of $X$ evaluated at\n",
        "    $x$ (depending on whether it’s discrete or continuous).\n",
        "-   `r[dist](n, ...)`: returns an independent and identically\n",
        "    distributed random sample of size `n` having the same distribution\n",
        "    as $X$.\n",
        "-   The `...` indicates that additional arguments describing the\n",
        "    parameters of the distribution may be required.\n",
        "\n",
        "**Your turn**\n",
        "\n",
        "Run the following commands in R to see the output.\n",
        "\n",
        "What task is each command performing?"
      ],
      "id": "5900738d-59f7-4835-ad83-887020e94352"
    },
    {
      "cell_type": "code",
      "execution_count": null,
      "metadata": {},
      "outputs": [],
      "source": [
        "pnorm(1.96, mean = 0, sd = 1)"
      ],
      "id": "12772d8e-5075-4e56-956c-3ba0484dfac8"
    },
    {
      "cell_type": "code",
      "execution_count": null,
      "metadata": {},
      "outputs": [],
      "source": [
        "qunif(0.6, min = 0, max = 1)"
      ],
      "id": "11d6e029-c7d9-424f-98e0-8b3d710b856b"
    },
    {
      "cell_type": "code",
      "execution_count": null,
      "metadata": {},
      "outputs": [],
      "source": [
        "dbinom(2, size = 20, prob = .2)"
      ],
      "id": "a9760fc9-6c28-4738-baad-235a7ff5f5c4"
    },
    {
      "cell_type": "code",
      "execution_count": null,
      "metadata": {},
      "outputs": [],
      "source": [
        "dexp(1, rate = 2)"
      ],
      "id": "f96129f2-f758-430e-8bdf-29117fd8e6c1"
    },
    {
      "cell_type": "code",
      "execution_count": null,
      "metadata": {},
      "outputs": [],
      "source": [
        "rchisq(100, df = 5)"
      ],
      "id": "cf39a74f-9465-4e98-89d3-29e5453a509a"
    },
    {
      "cell_type": "markdown",
      "metadata": {},
      "source": [
        "# Data Frames\n",
        "\n",
        "Data frames are a *fundamental* data structure used by most of R’s\n",
        "modeling software.\n",
        "\n",
        "Data frames are:\n",
        "\n",
        "-   two-dimensional data objects.\n",
        "-   each column of a data frame is a vector.\n",
        "\n",
        "**Data Frame Creation**\n",
        "\n",
        "------------------------------------------------------------------------\n",
        "\n",
        "Data frames are directly created by passing vectors into the\n",
        "`data.frame` function."
      ],
      "id": "02d3fac0-89bb-4ebd-b953-48928a485f20"
    },
    {
      "cell_type": "code",
      "execution_count": null,
      "metadata": {},
      "outputs": [],
      "source": [
        "# create basic data frame\n",
        "d <- c(1, 2, 3, 4)\n",
        "e <- c(\"red\", \"white\", \"blue\", NA)\n",
        "f <- c(TRUE, TRUE, TRUE, FALSE)\n",
        "df <- data.frame(d,e,f)\n",
        "df"
      ],
      "id": "f6adab39-0656-4eca-97ce-a018b3bef486"
    },
    {
      "cell_type": "markdown",
      "metadata": {},
      "source": [
        "The columns of a data frame can be renamed using the `names` function on\n",
        "the data frame."
      ],
      "id": "7127fb94-b7fb-4571-bd70-1cd3ae01d449"
    },
    {
      "cell_type": "code",
      "execution_count": null,
      "metadata": {},
      "outputs": [],
      "source": [
        "# name columns of data frame\n",
        "names(df) <- c(\"ID\", \"Color\", \"Passed\")\n",
        "df"
      ],
      "id": "74ecec85-5df7-4a79-acdd-00076139dac4"
    },
    {
      "cell_type": "markdown",
      "metadata": {},
      "source": [
        "We can initially name The columns of a data frame when we create the\n",
        "data frame by using `name =` for each vector of data."
      ],
      "id": "1a6650c7-5a9e-43b0-9de2-9f9eb20763da"
    },
    {
      "cell_type": "code",
      "execution_count": null,
      "metadata": {},
      "outputs": [],
      "source": [
        "# create data frame with better column names\n",
        "df2 <- data.frame(ID = d, Color = e, Passed = f)\n",
        "df2"
      ],
      "id": "cc491af0-e371-4bc7-8073-e52c8964caad"
    },
    {
      "cell_type": "markdown",
      "metadata": {},
      "source": [
        "**Importing Data**\n",
        "\n",
        "------------------------------------------------------------------------\n",
        "\n",
        "In practice, the data we want to analyze is saved in a file, and we can\n",
        "import the data from the file into R.\n",
        "\n",
        "The `read.table` function imports data in table format from file into R\n",
        "as a data frame.\n",
        "\n",
        "-   `file` is the file path and name of the file we want to import into\n",
        "    R.\n",
        "    -   If we don’t know the file path, we can use\n",
        "        `file = file.choose()` to launch a dialog box asking us to\n",
        "        locate the file we want to import.\n",
        "-   `header` specifies whether the data file has a header (variable\n",
        "    labels for each column of data in the first row of the data file).\n",
        "    -   If we don’t specify this option in R or use `header = FALSE`,\n",
        "        then R will assume the file doesn’t have any headings.\n",
        "    -   `header = TRUE` tells R to read in the data as a data frame with\n",
        "        column names taken from the first row of the data file.\n",
        "-   `sep` specifies the delimiter separating elements in the file.\n",
        "    -   If each column of data in the file is separated by a space, then\n",
        "        use `sep = \" \"`.\n",
        "    -   If each column of data in the file is separated by a comma, then\n",
        "        use `sep = \",\"`.\n",
        "    -   If each column of data in the file is separated by a tab, then\n",
        "        use `sep = \"\\t\"`.\n",
        "\n",
        "Consider reading in a csv (comma separated file) with a header. The file\n",
        "in question contains information related to COVID-19 cases and deaths as\n",
        "of December 4, 2020."
      ],
      "id": "3e835792-08a2-41df-9859-54789ffb109c"
    },
    {
      "cell_type": "code",
      "execution_count": null,
      "metadata": {},
      "outputs": [],
      "source": [
        "# import data as data frame\n",
        "dtf <- read.table(file = \"https://raw.githubusercontent.com/jfrench/DataWrangleViz/master/data/covid_dec4.csv\",\n",
        "                  header = TRUE,\n",
        "                  sep = \",\")\n",
        "str(dtf)"
      ],
      "id": "ae207a98-b47f-4c6d-990b-85cd6b53481a"
    },
    {
      "cell_type": "markdown",
      "metadata": {},
      "source": [
        "**Extracting parts of a data frame**\n",
        "\n",
        "------------------------------------------------------------------------\n",
        "\n",
        "R provides many ways to extract parts of a data frame.\n",
        "\n",
        "The `mtcars` data frame 32observations of 11 variables."
      ],
      "id": "3943609c-1378-47bf-8eae-a231071c4742"
    },
    {
      "cell_type": "code",
      "execution_count": null,
      "metadata": {},
      "outputs": [],
      "source": [
        "data(mtcars) # load data set\n",
        "str(mtcars)  # examine data structure"
      ],
      "id": "3dada2a4-b92f-4e65-adf1-4c7d04c3951a"
    },
    {
      "cell_type": "markdown",
      "metadata": {},
      "source": [
        "We can extract the `mpg` variable from the `mtcars` data frame using the\n",
        "`$` operator."
      ],
      "id": "42d88733-4974-4c99-bdde-1427ed056a95"
    },
    {
      "cell_type": "code",
      "execution_count": null,
      "metadata": {},
      "outputs": [],
      "source": [
        "mtcars$mpg"
      ],
      "id": "daef1a05-cf4e-4826-a6af-ac6721327675"
    },
    {
      "cell_type": "markdown",
      "metadata": {},
      "source": [
        "Another way to extract a variable from a data frame uses a\n",
        "`df[rows, columns]` style syntax.\n",
        "\n",
        "-   `rows` and `columns` indicate the desired rows or columns.\n",
        "-   If either the `rows` or `columns` are left blank, then all `rows` or\n",
        "    `columns`, respectively, are extracted."
      ],
      "id": "ee8a3180-8e52-4023-a2a5-136f02eb747c"
    },
    {
      "cell_type": "code",
      "execution_count": null,
      "metadata": {},
      "outputs": [],
      "source": [
        "mtcars[,\"mpg\"]"
      ],
      "id": "006acc96-860b-47a7-ac7e-fee827c66f29"
    },
    {
      "cell_type": "markdown",
      "metadata": {},
      "source": [
        "To select multiple variables in a data frame, we can provide a character\n",
        "vector with multiple variable names between `[]`."
      ],
      "id": "2adc6501-6aef-4206-8cdc-0abfd164698f"
    },
    {
      "cell_type": "code",
      "execution_count": null,
      "metadata": {},
      "outputs": [],
      "source": [
        "mtcars[c(\"mpg\", \"cyl\")]"
      ],
      "id": "7328c54b-f774-48a1-8ff6-a8bb4e4e6d1a"
    },
    {
      "cell_type": "markdown",
      "metadata": {},
      "source": [
        "We can also use numeric indices to directly indicate the rows or columns\n",
        "of the data frame that we would like to extract."
      ],
      "id": "b03d316e-a01f-4b09-b0b8-47b615f17a7e"
    },
    {
      "cell_type": "code",
      "execution_count": null,
      "metadata": {},
      "outputs": [],
      "source": [
        "mtcars[c(1, 2)]"
      ],
      "id": "a3770bfb-a01f-4eae-90bb-9ae7e1c108cb"
    },
    {
      "cell_type": "markdown",
      "metadata": {},
      "source": [
        "**Conditional Extraction of Data Frames**\n",
        "\n",
        "------------------------------------------------------------------------\n",
        "\n",
        "Logical expressions can be used to subset a data frame.\n",
        "\n",
        "The following command creates of vector of logical values."
      ],
      "id": "28db5ba5-d01b-48b4-a9e9-9e94af94a053"
    },
    {
      "cell_type": "code",
      "execution_count": null,
      "metadata": {},
      "outputs": [],
      "source": [
        "mtcars$hp > 250"
      ],
      "id": "16f2655e-1187-4978-b404-f422dcd9ae60"
    },
    {
      "cell_type": "markdown",
      "metadata": {},
      "source": [
        "This vector can be used to extract rows for all of the `TRUE` values."
      ],
      "id": "37ddbbcc-986b-460f-8471-56c6957a6ff5"
    },
    {
      "cell_type": "code",
      "execution_count": null,
      "metadata": {},
      "outputs": [],
      "source": [
        "# extract rows with hp > 250\n",
        "mtcars[mtcars$hp > 250,]"
      ],
      "id": "066d8533-60d6-41e6-9890-b2c2989d42f1"
    },
    {
      "cell_type": "markdown",
      "metadata": {},
      "source": [
        "We can make the logical expression more complicated."
      ],
      "id": "31443417-16bb-49e6-9fb3-03b30f15a677"
    },
    {
      "cell_type": "code",
      "execution_count": null,
      "metadata": {},
      "outputs": [],
      "source": [
        "# return rows with `cyl == 8` and `mpg > 17`\n",
        "# return columns mpg, cyl, disp, hp\n",
        "mtcars[mtcars$cyl == 8 & mtcars$mpg > 17, c(\"mpg\", \"cyl\", \"disp\", \"hp\")]"
      ],
      "id": "a5d4f555-46bd-481a-b7cc-f1d22d46a118"
    },
    {
      "cell_type": "markdown",
      "metadata": {},
      "source": [
        "**Modifying Data Frames**\n",
        "\n",
        "------------------------------------------------------------------------\n",
        "\n",
        "We can add columns to a data frame by combining the `$` and assignment\n",
        "operators."
      ],
      "id": "a7f34ced-338e-4bf3-be6d-f84a4b7dc0ac"
    },
    {
      "cell_type": "code",
      "execution_count": null,
      "metadata": {},
      "outputs": [],
      "source": [
        "mtcars$kpg <- mtcars$mpg * 1.6"
      ],
      "id": "76a01138-8a22-4b5d-93f7-7540dddfa568"
    },
    {
      "cell_type": "markdown",
      "metadata": {},
      "source": [
        "**Extraction using the `subset` function**\n",
        "\n",
        "------------------------------------------------------------------------\n",
        "\n",
        "The `subset` function returns the part of a data frame that meets the\n",
        "specified conditions.\n",
        "\n",
        "The basic usage of this function is:\n",
        "`subset(x, subset, select, drop = FALSE)`\n",
        "\n",
        "-   `x` is the object we want to subset.\n",
        "    -   `x` can be a vector, matrix, or data frame.\n",
        "-   `subset` is a logical expression that indicates the elements or rows\n",
        "    of `x` to keep (`TRUE` means keep).\n",
        "-   `select` is a vector that indicates the columns to keep.\n",
        "-   `drop` is a logical value indicating whether the data frame should\n",
        "    “drop” into a vector if only a single row or column is kept. The\n",
        "    default is `FALSE`.\n",
        "\n",
        "**Your turn**\n",
        "\n",
        "Run the following commands in the Console to use the `subset` function\n",
        "to extract parts of the `mtcars` data frame.\n",
        "\n",
        "What is each command performing?"
      ],
      "id": "74fc2833-aa25-4397-b321-ec57ea2779ed"
    },
    {
      "cell_type": "code",
      "execution_count": null,
      "metadata": {},
      "outputs": [],
      "source": [
        "subset(mtcars, subset = gear > 4)"
      ],
      "id": "3c7c8fde-ec5c-42b2-a3c5-4c9f22fbecb2"
    },
    {
      "cell_type": "code",
      "execution_count": null,
      "metadata": {},
      "outputs": [],
      "source": [
        "subset(mtcars, select = c(disp, hp, gear))"
      ],
      "id": "123d9d9d-d1aa-4451-8e6f-7afb8be5a889"
    },
    {
      "cell_type": "code",
      "execution_count": null,
      "metadata": {},
      "outputs": [],
      "source": [
        "subset(mtcars, subset = gear > 4, select = c(disp, hp, gear))"
      ],
      "id": "9b9d6afb-3189-49f4-852f-163ad5da3f20"
    },
    {
      "cell_type": "markdown",
      "metadata": {},
      "source": [
        "# Using the pipe operator\n",
        "\n",
        "R’s native pipe operator (`|>`) allows us to “pipe” the object on the\n",
        "left side of the operator into the first argument of the function on the\n",
        "right side of the operator. The pipe operator is a convenient way to\n",
        "string together numerous steps in a string of commands.\n",
        "\n",
        "When reading code with pipes, the pipe can be thought of as the word\n",
        "“then”.\n",
        "\n",
        "In the code below, we take `mtcars` *then* subset it based on `disp` and\n",
        "*then* select some columns."
      ],
      "id": "80b9215a-6bcd-41dc-84bc-05c901805e32"
    },
    {
      "cell_type": "code",
      "execution_count": null,
      "metadata": {},
      "outputs": [],
      "source": [
        "subset(mtcars,\n",
        "       subset = disp > 400,\n",
        "       select = c(mpg, disp, hp))"
      ],
      "id": "38053c95-278e-46cd-881d-bfadda979fbe"
    },
    {
      "cell_type": "code",
      "execution_count": null,
      "metadata": {},
      "outputs": [],
      "source": [
        "mtcars |>\n",
        "  subset(subset = disp > 400) |>\n",
        "  subset(select = c(mpg, disp, hp))"
      ],
      "id": "86419d4a-efec-4ff4-8fa5-dfdccfc48d0d"
    },
    {
      "cell_type": "markdown",
      "metadata": {},
      "source": [
        "Here is a complicated sequence of piped commands. What are the commands\n",
        "doing?"
      ],
      "id": "53f6ebd6-10a8-4bfd-bedd-f2d9b74b0934"
    },
    {
      "cell_type": "code",
      "execution_count": null,
      "metadata": {},
      "outputs": [],
      "source": [
        "# create new variable, select columns, extract first 5 rows\n",
        "mtcars |>\n",
        "  transform(lp100km = 237.5/mpg) |>\n",
        "  subset(select = c(mpg, lp100km)) |>\n",
        "  head(n = 5)"
      ],
      "id": "f181538e-6475-4d3d-b0df-17b2fb62c0f8"
    }
  ],
  "nbformat": 4,
  "nbformat_minor": 5,
  "metadata": {
    "kernelspec": {
      "display_name": "Python 3",
      "language": "python",
      "name": "python3"
    }
  }
}