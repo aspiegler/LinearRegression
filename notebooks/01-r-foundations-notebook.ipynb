{
  "cells": [
    {
      "cell_type": "markdown",
      "metadata": {},
      "source": [
        "# Chapter 1 - R Foundations\n",
        "\n",
        "Joshua French\n",
        "\n",
        "To open this information in an interactive Colab notebook, click or scan\n",
        "the QR code below.\n",
        "\n",
        "<a href=\"https://colab.research.google.com/github/jfrench/LinearRegression/blob/master/notebooks/01-r-foundations-notebook.ipynb\">\n",
        "<img src=\"https://raw.githubusercontent.com/jfrench/LinearRegression/b667e2f7da4064ee16067831f20326305df30284/pictures/qr-01-r-foundations.png\">\n",
        "</a>\n",
        "\n",
        "------------------------------------------------------------------------\n",
        "\n",
        "# What is R?\n",
        "\n",
        "R is a programming language and environment designed for statistical\n",
        "computing.\n",
        "[(https://www.r-project.org/about.html)](https://www.r-project.org/about.html)\n",
        "\n",
        "R is free, open source, and runs on many different types of computers\n",
        "(Windows, Mac, Linux, and others).\n",
        "\n",
        "R is an interactive programming language.\n",
        "\n",
        "-   We type and run a command in the Console for immediate feedback, in\n",
        "    contrast to a compiled programming language, which compiles a\n",
        "    program that is then executed.\n",
        "\n",
        "R is highly extendable.\n",
        "\n",
        "-   We can extend the functionality of R beyond what is available by\n",
        "    default by installing user-created packages.\n",
        "-   We can write our own functions to create additional capabilities in\n",
        "    R.\n",
        "\n",
        "# Installing R and RStudio\n",
        "\n",
        "Install R by downloading an installer program from the R Project’s\n",
        "website [(https://www.r-project.org/)](https://www.r-project.org/).\n",
        "\n",
        "RStudio Desktop is a free “front end” for R that makes doing data\n",
        "analysis with R easier by adding an Integrated Development Environment\n",
        "(IDE) and providing many other features. Currently, we can download\n",
        "RStudio at <https://posit.co/download/rstudio-desktop/>.\n",
        "\n",
        "**RStudio Layout**\n",
        "\n",
        "RStudio Desktop has four panes:\n",
        "\n",
        "1.  Console: the pane where we run commands.\n",
        "2.  Source: the pane where we prepare commands to run.\n",
        "3.  Environment/History: the pane where we can see all the objects in\n",
        "    our workspace, our command history, and other information.\n",
        "4.  The Files/Plot/Packages/Help: the pane where we navigate between\n",
        "    directories, where plots can be viewed, where we can see the\n",
        "    packages available to be loaded, and where we can get help.\n",
        "\n",
        "<img src=\"https://raw.githubusercontent.com/jfrench/LinearRegression/b667e2f7da4064ee16067831f20326305df30284/pictures/rstudio_panes.png\">\n",
        "\n",
        "Tip: Change the R Studio environment so that it doesn’t save the\n",
        "workspace when exiting the application.\n",
        "\n",
        "# Running code, scripts, and comments\n",
        "\n",
        "We can run code in R by typing it in the Console next to the `>` symbol\n",
        "and pressing the Enter key.\n",
        "\n",
        "It’s better to write our commands in a “Script” file, save the Script,\n",
        "and then run our commands from the Script. The commands in a Script file\n",
        "are generically referred to as “code”.\n",
        "\n",
        "Script files make it easy to:\n",
        "\n",
        "-   Reproduce our data analysis without retyping all our commands.\n",
        "-   Share our code with others.\n",
        "\n",
        "A new Script file can be obtained by:\n",
        "\n",
        "-   Clicking File → New File → R Script in the RStudio menu bar.\n",
        "-   Pressing `Ctrl + Shift + n` on a PC or `Cmd + Shift + n` on a Mac.\n",
        "\n",
        "To run code from a Script file:\n",
        "\n",
        "-   Highlight the code we want to run and click the Run button at the\n",
        "    top of the Script pane.\n",
        "-   Highlight the code we want to run and press “Ctrl + Enter” on our\n",
        "    keyboard. If we don’t highlight anything, by default, RStudio runs\n",
        "    the command the cursor currently lies on.\n",
        "\n",
        "To save a Script file:\n",
        "\n",
        "-   Click File → Save in the RStudio menu bar.\n",
        "-   Press `Ctrl + s` on a PC or `Cmd + s` on a Mac.\n",
        "\n",
        "A comment is a set of text ignored by R when submitted to the Console.\n",
        "\n",
        "A comment is indicated by the `#` symbol. Nothing to the right of the\n",
        "`#` is executed by the Console.\n",
        "\n",
        "We can comment (or uncomment) multiple lines of code in the Source pane\n",
        "of RStudio by highlighting the code we want to comment and pressing\n",
        "`Ctrl + Shift + c` on a PC or `Cmd + Shift + c` on a Mac.\n",
        "\n",
        "**Your turn**\n",
        "\n",
        "Perform the following tasks:\n",
        "\n",
        "1.  Type `1+1` in the Console and press Enter.\n",
        "2.  Open a new Script in RStudio.\n",
        "3.  Type `mean(1:3)` in the Script file.\n",
        "4.  Type `# mean(1:3)` in the Script file.\n",
        "5.  Run the commands from the Script using an approach mentioned above.\n",
        "6.  Save the Script file.\n",
        "7.  Use the keyboard shortcut to “comment out” some of the lines of the\n",
        "    Script file."
      ],
      "id": "930c3380-6aa2-47ce-99d6-b86c81e6af67"
    },
    {
      "cell_type": "code",
      "execution_count": null,
      "metadata": {},
      "outputs": [],
      "source": [
        "# type your commands here"
      ],
      "id": "2aa344e4-6bde-4cb3-b81d-c8feab567593"
    },
    {
      "cell_type": "markdown",
      "metadata": {},
      "source": [
        "# Assignment in R\n",
        "\n",
        "R works on various types of objects that we’ll learn more about later.\n",
        "\n",
        "To store an object in the computer’s memory we must assign it a name\n",
        "using the assignment operator `<-` or the equal sign `=`.\n",
        "\n",
        "Some comments:\n",
        "\n",
        "-   In general, both `<-` and `=` can be used for assignment.\n",
        "-   Pressing `Alt + -` on a PC or `Option + -` on a Mac will insert `<-`\n",
        "    into the R Console and Script files.\n",
        "    -   If we are creating an R Markdown or Quarto file, then this\n",
        "        shortcut will only insert `<-` if we are in a code block.\n",
        "-   `<-` and `=` are NOT synonyms but can be used identically most of\n",
        "    the time.\n",
        "\n",
        "# Functions\n",
        "\n",
        "We use a function by typing the function’s name in the Console (or\n",
        "Script), supplying the function’s “arguments” between parentheses, `()`,\n",
        "and then pressing Enter.\n",
        "\n",
        "The arguments of a function are pieces of data or information the\n",
        "function needs to perform the requested task (i.e., the function\n",
        "“inputs”). Each argument we supply is separated by a comma, `,`.\n",
        "\n",
        "**Your turn**\n",
        "\n",
        "Run the following commands in the Console.\n",
        "\n",
        "What is each command doing?"
      ],
      "id": "ea193251-72f5-48a8-89e6-dc8606215549"
    },
    {
      "cell_type": "code",
      "execution_count": null,
      "metadata": {},
      "outputs": [],
      "source": [
        "# compute the mean of 1, 2, ..., 10 and assign the name m\n",
        "m <- mean(1:10) \n",
        "m # print m"
      ],
      "id": "d7c214c9-9baf-4673-bbc6-2701a67cc70a"
    },
    {
      "cell_type": "code",
      "execution_count": null,
      "metadata": {},
      "outputs": [],
      "source": [
        "print(m) # print m a different way"
      ],
      "id": "cc1cac7f-9736-4fb2-9d8c-b35aace37e34"
    },
    {
      "cell_type": "code",
      "execution_count": null,
      "metadata": {},
      "outputs": [],
      "source": [
        "mean(c(1, 5, 3, 4, 10)) # mean of a new vector"
      ],
      "id": "ca82bb87-5d57-4758-a781-809ba619d54b"
    },
    {
      "cell_type": "code",
      "execution_count": null,
      "metadata": {},
      "outputs": [],
      "source": [
        "mean(c(1, 5, 3, 4, 10), trim = 0.2) # compute trimmed mean"
      ],
      "id": "a0820bfd-8fe2-45f8-af40-79c3c2b9ecfd"
    },
    {
      "cell_type": "markdown",
      "metadata": {},
      "source": [
        "# Packages\n",
        "\n",
        "Packages are collections of functions, data, and other objects that\n",
        "extend the functionality available in R by default.\n",
        "\n",
        "R packages can be installed using the `install.packages` function and\n",
        "loaded using the `library` function.\n",
        "\n",
        "The **tidyverse** package (actually, a collection of packages) contains\n",
        "data and some useful functions we will be using later in the course.\n",
        "\n",
        "**Your turn**"
      ],
      "id": "539f0767-a4f7-43b7-afae-f29c93307e80"
    },
    {
      "cell_type": "code",
      "execution_count": null,
      "metadata": {},
      "outputs": [],
      "source": [
        "# install tidyverse if it's not already installed\n",
        "if (!require(\"tidyverse\")){\n",
        "    install.packages(\"tidyverse\")\n",
        "}"
      ],
      "id": "fb486f19-14f6-4ae1-b9a4-8166dae2905c"
    },
    {
      "cell_type": "markdown",
      "metadata": {},
      "source": [
        "After we install **tidyverse**, we can load the package by running the\n",
        "command below."
      ],
      "id": "ffb31324-ec22-48c2-bfde-37d5cce2fb3b"
    },
    {
      "cell_type": "code",
      "execution_count": null,
      "metadata": {},
      "outputs": [],
      "source": [
        "library(tidyverse)"
      ],
      "id": "76273033-af1d-432f-b372-f9565bac0086"
    },
    {
      "cell_type": "markdown",
      "metadata": {},
      "source": [
        "# Getting Help\n",
        "\n",
        "There are many ways to get help in R.\n",
        "\n",
        "-   To get help for a function named `command`, run `?command` to access\n",
        "    the documentation\n",
        "    -   The Documentation will provide information on the function use,\n",
        "        arguments, usage examples, and more.\n",
        "-   Running `??topic` will search the documentation for any occurrence\n",
        "    of the word “topic” and provide a list of relevant documentation to\n",
        "    consider.\n",
        "-   Stack Overflow (<https://www.stackoverflow.com>) is a great resource\n",
        "    to find solutions.\n",
        "-   AI chatbots like ChatGPT and Gemini are becoming better at\n",
        "    suggesting and correcting computer code.\n",
        "\n",
        "**Your turn**\n",
        "\n",
        "Let’s get help on the `lm` function through the R console."
      ],
      "id": "5787d26a-c365-4392-a9c8-d53c92aa2a74"
    },
    {
      "cell_type": "code",
      "execution_count": null,
      "metadata": {},
      "outputs": [],
      "source": [
        "?lm"
      ],
      "id": "2767b286-d5ee-4b0e-86da-2fa3765b2752"
    },
    {
      "cell_type": "markdown",
      "metadata": {},
      "source": [
        "Next, try the following search in an AI chatbot: “How do I create a\n",
        "scatter plot in R?” Was the information useful?\n",
        "\n",
        "# Data Types and Structures\n",
        "\n",
        "**Basic Data Types**\n",
        "\n",
        "------------------------------------------------------------------------\n",
        "\n",
        "R has 6 basic vector types:\n",
        "\n",
        "1.  `character`: collections of characters. E.g., `\"a\"`,\n",
        "    `\"hello world!\"`.\n",
        "2.  `double`: decimal numbers. e.g., `1.2`, `1.0`.\n",
        "3.  `integer`: whole numbers. In R, we must add `L` to the end of a\n",
        "    number to declare it as an integer. E.g., `1L` is an integer but `1`\n",
        "    is a double.\n",
        "4.  `logical`: boolean values, `TRUE` and `FALSE`.\n",
        "5.  `complex`: complex numbers. E.g., `1+3i`.\n",
        "6.  `raw`: a type to hold raw bytes.\n",
        "\n",
        "**Other important object types**\n",
        "\n",
        "------------------------------------------------------------------------\n",
        "\n",
        "-   `numeric`: An object is `numeric` if it is of type `integer` or\n",
        "    `double`. In that case, it’s `mode` is said to be `numeric`.\n",
        "-   `NULL`: `NULL` is a special object to indicate an object is absent.\n",
        "    -   An object having a length of zero is not the same thing as an\n",
        "        object being absent.\n",
        "-   `NA`: A “missing value” occurs when the value of something isn’t\n",
        "    known. R uses the special object `NA` to represent a missing value.\n",
        "    -   If we have a missing value, we should represent that value as\n",
        "        `NA`. Note: `\"NA\"` is not the same thing as `NA`.\n",
        "\n",
        "# Data structures\n",
        "\n",
        "R operates on data structures. A data structure is a “container” that\n",
        "holds certain kinds of information.\n",
        "\n",
        "R has 5 basic data structures:\n",
        "\n",
        "1.  vector.\n",
        "2.  matrix.\n",
        "3.  array.\n",
        "4.  data frame.\n",
        "5.  list.\n",
        "\n",
        "# Vectors\n",
        "\n",
        "**Creating vectors**\n",
        "\n",
        "------------------------------------------------------------------------\n",
        "\n",
        "A *vector* is a one-dimensional set of data of the same type.\n",
        "\n",
        "The most basic way to create a vector is the `c` (combine) function.\n",
        "\n",
        "The following commands create vectors of type `numeric`, `character`,\n",
        "and `logical`, respectively.\n",
        "\n",
        "-   `c(1, 2, 5.3, 6, -2, 4)`\n",
        "-   `c(\"one\", \"two\", \"three\")`\n",
        "-   `c(TRUE, TRUE, FALSE, TRUE)`\n",
        "\n",
        "The `seq` (sequence) function is used to create an equidistant series of\n",
        "numeric values.\n",
        "\n",
        "-   `seq(1, 10)` or `1:10` creates a sequence of numbers from 1 to 10 in\n",
        "    increments of 1.\n",
        "-   `seq(1, 20, by = 2)` creates a sequence of numbers from 1 to 20 in\n",
        "    increments of 2.\n",
        "-   `seq(10, 20, len = 100)` creates a sequence of numbers from 10 to 20\n",
        "    of length 100.\n",
        "\n",
        "The `rep` (replicate) function can be used to create a vector by\n",
        "replicating values.\n",
        "\n",
        "-   `rep(1:3, times = 3)` replicates the sequence `1, 2, 3` three times.\n",
        "-   `rep(c(\"trt1\", \"trt2\", \"trt3\"), times = 1:3)` replicates `\"trt1\"`\n",
        "    once, `\"trt2\"` twice, and `\"trt3\"` three times.\n",
        "-   `rep(1:3, each = 3)` replicates each element three times.\n",
        "\n",
        "Multiple vectors can be combined into a new vector object using the `c`\n",
        "function.\n",
        "\n",
        "-   E.g., `c(v1, v2, v3)` would combine vectors `v1`, `v2`, and `v3`.\n",
        "\n",
        "**Your turn**\n",
        "\n",
        "Run the commands below in the Console."
      ],
      "id": "ad7272b5-0652-4f55-b904-c71f6daddc85"
    },
    {
      "cell_type": "code",
      "execution_count": null,
      "metadata": {},
      "outputs": [],
      "source": [
        "c(1, 2, 5.3, 6, -2, 4)"
      ],
      "id": "e06684dc-9ecf-46ac-a1de-be308ba4e8f8"
    },
    {
      "cell_type": "code",
      "execution_count": null,
      "metadata": {},
      "outputs": [],
      "source": [
        "c(\"one\", \"two\", \"three\")"
      ],
      "id": "5dcbec89-3487-4072-80da-14a15aaf4c58"
    },
    {
      "cell_type": "code",
      "execution_count": null,
      "metadata": {},
      "outputs": [],
      "source": [
        "c(TRUE, TRUE, FALSE, TRUE)"
      ],
      "id": "e5da38eb-9ece-4c57-9ae6-1b6f0f05e0b2"
    },
    {
      "cell_type": "code",
      "execution_count": null,
      "metadata": {},
      "outputs": [],
      "source": [
        "seq(1, 10)"
      ],
      "id": "fd417d9b-3e65-4e46-b474-ff7581f0dd56"
    },
    {
      "cell_type": "code",
      "execution_count": null,
      "metadata": {},
      "outputs": [],
      "source": [
        "1:10"
      ],
      "id": "16f90f49-afee-4564-a07d-1d87adf9988d"
    },
    {
      "cell_type": "code",
      "execution_count": null,
      "metadata": {},
      "outputs": [],
      "source": [
        "seq(1, 20, by = 2)"
      ],
      "id": "669cb898-3f82-474a-b131-aff07969b98c"
    },
    {
      "cell_type": "code",
      "execution_count": null,
      "metadata": {},
      "outputs": [],
      "source": [
        "seq(10, 20, len = 100)"
      ],
      "id": "7593ddf0-0ce4-49fa-b2f7-b80a70385499"
    },
    {
      "cell_type": "markdown",
      "metadata": {},
      "source": [
        "-   What does the `by` argument of the `seq` function control?\n",
        "-   What does the `len` argument of the `seq` function control?"
      ],
      "id": "05c8217e-bfce-4693-b94c-39cc37d58429"
    },
    {
      "cell_type": "code",
      "execution_count": null,
      "metadata": {},
      "outputs": [],
      "source": [
        "rep(1:3, times = 3)"
      ],
      "id": "194688e8-2bac-4c76-99bf-a3c9c3a8ee14"
    },
    {
      "cell_type": "code",
      "execution_count": null,
      "metadata": {},
      "outputs": [],
      "source": [
        "rep(c(\"trt1\", \"trt2\", \"trt3\"), times = 1:3)"
      ],
      "id": "5f1d80da-f866-4fff-aade-1921cd4499ee"
    },
    {
      "cell_type": "code",
      "execution_count": null,
      "metadata": {},
      "outputs": [],
      "source": [
        "rep(1:3, each = 3)"
      ],
      "id": "62e2723d-8222-4036-8b04-fa425d34b3c7"
    },
    {
      "cell_type": "markdown",
      "metadata": {},
      "source": [
        "-   What does the `times` argument of the `rep` function control?\n",
        "-   What does the `each` argument of the `rep` function control?"
      ],
      "id": "ec9f5e76-316c-4431-b597-745725d68c92"
    },
    {
      "cell_type": "code",
      "execution_count": null,
      "metadata": {},
      "outputs": [],
      "source": [
        "# combining vectors\n",
        "v1 <- 1:5 # create a vector, v1\n",
        "v2 <- c(1, 10, 11) # create another vector, v2\n",
        "v3 <- rep(1:2, each = 3) # crate a third vector, v3\n",
        "new <- c(v1, v2, v3) # combine vectors\n",
        "new # print the combined vector"
      ],
      "id": "2b1ef544-6bee-4446-8c87-04ea779f22f0"
    },
    {
      "cell_type": "markdown",
      "metadata": {},
      "source": [
        "**Categorical vectors**\n",
        "\n",
        "------------------------------------------------------------------------\n",
        "\n",
        "Categorical data should be stored as a `factor` in R.\n",
        "\n",
        "We create some `factor` variables below."
      ],
      "id": "34c62854-b709-4f78-a8ba-ef188a3bd31a"
    },
    {
      "cell_type": "code",
      "execution_count": null,
      "metadata": {},
      "outputs": [],
      "source": [
        "f1 <- factor(rep(1:6, times = 3))\n",
        "f1"
      ],
      "id": "09d455ea-6809-406b-b363-757a9e7d45d2"
    },
    {
      "cell_type": "code",
      "execution_count": null,
      "metadata": {},
      "outputs": [],
      "source": [
        "f2 <- factor(c(\"a\", 7, \"blue\", \"blue\", FALSE))\n",
        "f2"
      ],
      "id": "fcea541f-1c88-4a71-8a29-8842cfacf1c6"
    },
    {
      "cell_type": "markdown",
      "metadata": {},
      "source": [
        "A printed `factor` object lists the `Levels` (i.e., unique categories)\n",
        "of the object.\n",
        "\n",
        "Some additional comments:\n",
        "\n",
        "-   `factor` objects aren’t technically vectors but behave like vectors,\n",
        "    which is why we discuss them here.\n",
        "-   We can use the `is.factor` function to determine whether an object\n",
        "    is a `factor`.\n",
        "-   We can create `factor` objects with specific orderings of categories\n",
        "    using the `level` and `ordered` arguments of the `factor` function\n",
        "    (see `?factor` for more details)."
      ],
      "id": "2c6e8772-06cb-454a-994e-d679bb87bbdd"
    },
    {
      "cell_type": "code",
      "execution_count": null,
      "metadata": {},
      "outputs": [],
      "source": [
        "size <- c(\"small\", \"medium\", \"small\", \"large\", \"medium\", \"medium\", \"large\")\n",
        "factor(size)"
      ],
      "id": "fab53ea4-c4d4-44b2-8b81-a492082de073"
    },
    {
      "cell_type": "code",
      "execution_count": null,
      "metadata": {},
      "outputs": [],
      "source": [
        "# create ordered factor\n",
        "factor(size, levels = c(\"small\", \"medium\", \"large\"), ordered = TRUE)"
      ],
      "id": "ce98def7-7a83-424f-b107-50e51a4b7296"
    },
    {
      "cell_type": "markdown",
      "metadata": {},
      "source": [
        "**Your Turn**\n",
        "\n",
        "Attempt to complete the following tasks:\n",
        "\n",
        "1.  Create a `factor` vector named `grp` that has two levels: `a` and\n",
        "    `b`, where the first 7 values are `a` and the second 4 values are\n",
        "    `b`.\n",
        "2.  Run `is.factor(grp)` in the Console.\n",
        "3.  Run `is.vector(grp)` in the Console.\n",
        "4.  Run `typeof(grp)` in the Console."
      ],
      "id": "9712c87f-f547-4e29-a8d8-0a74dcb1acad"
    },
    {
      "cell_type": "code",
      "execution_count": null,
      "metadata": {},
      "outputs": [],
      "source": [
        "# type your code here"
      ],
      "id": "a24bc1d5-60c0-44c8-89b7-495f4afadd39"
    },
    {
      "cell_type": "markdown",
      "metadata": {},
      "source": [
        "**Extracting parts of a vector**\n",
        "\n",
        "------------------------------------------------------------------------\n",
        "\n",
        "Parts of a vector can be extracted by appending an index vector in\n",
        "square brackets `[]`."
      ],
      "id": "a3074961-67d0-4286-8064-369e482fcd09"
    },
    {
      "cell_type": "code",
      "execution_count": null,
      "metadata": {},
      "outputs": [],
      "source": [
        "# define a sequence 2, 4, ..., 16\n",
        "a <- seq(2, 16, by = 2)\n",
        "# extract subset of vector\n",
        "a[c(2, 4, 6)]"
      ],
      "id": "61ac4c18-78ce-49ea-afab-9f62e93202bd"
    },
    {
      "cell_type": "markdown",
      "metadata": {},
      "source": [
        "Supplying a negative index vector indicates the values we want to\n",
        "exclude from our result."
      ],
      "id": "c2915a20-0c90-4571-82a6-d5b8f2f70433"
    },
    {
      "cell_type": "code",
      "execution_count": null,
      "metadata": {},
      "outputs": [],
      "source": [
        "a[-c(2, 4, 6)] # select all but elements 2, 4, 6"
      ],
      "id": "795da8d1-6d04-47a5-ba37-798eeeb621b9"
    },
    {
      "cell_type": "code",
      "execution_count": null,
      "metadata": {},
      "outputs": [],
      "source": [
        "a[-(3:6)] # select all but elements 3-6"
      ],
      "id": "f16fc170-0de4-401a-bb85-98b2b7b756bc"
    },
    {
      "cell_type": "markdown",
      "metadata": {},
      "source": [
        "**Logical Expressions**\n",
        "\n",
        "------------------------------------------------------------------------\n",
        "\n",
        "A logical expression uses one or more logical operators to determine\n",
        "which elements of an object satisfy the specified statement.\n",
        "\n",
        "The basic logical operators are:\n",
        "\n",
        "-   `<`, `<=`: less than, less than or equal to.\n",
        "-   `>`, `>=`: greater than, greater than or equal to.\n",
        "-   `==`: equal to.\n",
        "-   `!=`: not equal to.\n",
        "\n",
        "Creating a logical expression with a vector will result in a logical\n",
        "vector indicating whether each element satisfies the logical expression.\n",
        "\n",
        "We can create more complicated logical expressions using the “and”,\n",
        "“or”, and “not” operators.\n",
        "\n",
        "-   `&`: and.\n",
        "-   `|`: or.\n",
        "-   `!`: not, i.e., not true\n",
        "\n",
        "**Your turn**\n",
        "\n",
        "Run the following commands in R.\n",
        "\n",
        "What task is each command performing?"
      ],
      "id": "26c07ac5-f9c1-4897-aaf7-7ab9b5debb23"
    },
    {
      "cell_type": "code",
      "execution_count": null,
      "metadata": {},
      "outputs": [],
      "source": [
        "a > 10  # which elements of a are > 10?"
      ],
      "id": "78f63710-d543-4a24-9e40-4eaf2eee18ba"
    },
    {
      "cell_type": "code",
      "execution_count": null,
      "metadata": {},
      "outputs": [],
      "source": [
        "a <= 4  # which elements of a are <= 10?"
      ],
      "id": "8b047c95-b43e-45c3-bbc5-da2f36fde6af"
    },
    {
      "cell_type": "code",
      "execution_count": null,
      "metadata": {},
      "outputs": [],
      "source": [
        "a == 10 # which elements of a are equal to 10?"
      ],
      "id": "8cb611b2-105f-4993-b88e-0d30959e8bc6"
    },
    {
      "cell_type": "code",
      "execution_count": null,
      "metadata": {},
      "outputs": [],
      "source": [
        "a != 10 # which elements of a are not equal to 10?"
      ],
      "id": "137c65a9-8bf2-4ce9-8336-1c538410a113"
    },
    {
      "cell_type": "code",
      "execution_count": null,
      "metadata": {},
      "outputs": [],
      "source": [
        "TRUE & TRUE & TRUE"
      ],
      "id": "63b406f8-5c72-4d83-b0d2-c5799e5c9701"
    },
    {
      "cell_type": "code",
      "execution_count": null,
      "metadata": {},
      "outputs": [],
      "source": [
        "TRUE & TRUE & FALSE"
      ],
      "id": "b8ad9288-7ca9-49ca-8d77-8c6155afcf78"
    },
    {
      "cell_type": "code",
      "execution_count": null,
      "metadata": {},
      "outputs": [],
      "source": [
        "FALSE | TRUE | FALSE"
      ],
      "id": "43b52307-aa3f-4ee8-adce-5b9a9afd5739"
    },
    {
      "cell_type": "code",
      "execution_count": null,
      "metadata": {},
      "outputs": [],
      "source": [
        "FALSE | FALSE | FALSE"
      ],
      "id": "b859906c-b025-47c4-9aa3-16a95ce9dbfc"
    },
    {
      "cell_type": "code",
      "execution_count": null,
      "metadata": {},
      "outputs": [],
      "source": [
        "!TRUE"
      ],
      "id": "b1ceae63-8609-44ad-870f-f3680eefffbf"
    },
    {
      "cell_type": "code",
      "execution_count": null,
      "metadata": {},
      "outputs": [],
      "source": [
        "!FALSE"
      ],
      "id": "34c909e5-0565-47ba-a31f-88dea2df4b13"
    },
    {
      "cell_type": "code",
      "execution_count": null,
      "metadata": {},
      "outputs": [],
      "source": [
        "# which elements of a are > 6 and <= 10\n",
        "(a > 6) & (a <= 10)"
      ],
      "id": "09d359e3-bddc-4e00-ab99-9ee4502d4eb7"
    },
    {
      "cell_type": "code",
      "execution_count": null,
      "metadata": {},
      "outputs": [],
      "source": [
        "# which elements of a are <= 4 or >= 12\n",
        "(a <= 4) | (a >= 12)"
      ],
      "id": "bee1cfcd-7db4-455a-b011-041fa6149f0f"
    },
    {
      "cell_type": "code",
      "execution_count": null,
      "metadata": {},
      "outputs": [],
      "source": [
        "# which elements of a are NOT <= 4 or >= 12\n",
        "!((a <= 4) | (a >= 12))"
      ],
      "id": "bb926f1d-55b2-4f86-b7b5-48f2239c0a91"
    },
    {
      "cell_type": "markdown",
      "metadata": {},
      "source": [
        "We can pass logical expressions within the square brackets to access\n",
        "part of a data structure. This syntax will return each element of the\n",
        "object for which the expression is `TRUE`.\n",
        "\n",
        "**Your turn**\n",
        "\n",
        "Run the following commands in R and see what is printed.\n",
        "\n",
        "What task is each command performing?"
      ],
      "id": "21660f02-1274-46df-946c-be2419ec01f9"
    },
    {
      "cell_type": "code",
      "execution_count": null,
      "metadata": {},
      "outputs": [],
      "source": [
        "# extract the parts of a with values < 6\n",
        "a[a < 6]"
      ],
      "id": "358f67b3-21e5-4f55-81cd-8579ffffe6db"
    },
    {
      "cell_type": "code",
      "execution_count": null,
      "metadata": {},
      "outputs": [],
      "source": [
        "# extract the parts of a with values equal to 10\n",
        "a[a == 10]"
      ],
      "id": "226493e9-a5fd-4014-838f-6b72233582cf"
    },
    {
      "cell_type": "code",
      "execution_count": null,
      "metadata": {},
      "outputs": [],
      "source": [
        "# extract the parts of a with values < 6 or equal to 10\n",
        "a[(a < 6)|(a == 10)]"
      ],
      "id": "a44cdefe-514a-4954-a393-2f63b9b1f6a5"
    },
    {
      "cell_type": "markdown",
      "metadata": {},
      "source": [
        "# Helpful Functions\n",
        "\n",
        "**Common Useful Functions**\n",
        "\n",
        "------------------------------------------------------------------------"
      ],
      "id": "fd77a9a5-9819-4208-8df5-94ffae91bac6"
    },
    {
      "cell_type": "code",
      "execution_count": null,
      "metadata": {},
      "outputs": [],
      "source": [
        "x <- rexp(100) # sample 100 iid values from an Exponential(1) distribution"
      ],
      "id": "422e2cbe-fd4f-499e-ba14-f5ca90ff9bf6"
    },
    {
      "cell_type": "code",
      "execution_count": null,
      "metadata": {},
      "outputs": [],
      "source": [
        "length(x) # length of x"
      ],
      "id": "3c15c0bb-5a78-4e79-b71c-af37d72d6f29"
    },
    {
      "cell_type": "code",
      "execution_count": null,
      "metadata": {},
      "outputs": [],
      "source": [
        "sum(x) # sum of x"
      ],
      "id": "5a320326-bc3f-4478-9f6b-b3914347f494"
    },
    {
      "cell_type": "code",
      "execution_count": null,
      "metadata": {},
      "outputs": [],
      "source": [
        "mean(x) # sample mean of x"
      ],
      "id": "cf7cc437-355d-4606-a2ee-33be13cc90dc"
    },
    {
      "cell_type": "code",
      "execution_count": null,
      "metadata": {},
      "outputs": [],
      "source": [
        "var(x) # sample variance of x"
      ],
      "id": "880aedec-8e1e-4213-9486-858548dec945"
    },
    {
      "cell_type": "code",
      "execution_count": null,
      "metadata": {},
      "outputs": [],
      "source": [
        "sd(x) # sample standard deviation of x"
      ],
      "id": "e56745ba-5f96-4f4c-9fdb-1c2bffc3afba"
    },
    {
      "cell_type": "code",
      "execution_count": null,
      "metadata": {},
      "outputs": [],
      "source": [
        "range(x) # range of x"
      ],
      "id": "703920a6-eb71-4aed-96a7-f901fe25b9b9"
    },
    {
      "cell_type": "code",
      "execution_count": null,
      "metadata": {},
      "outputs": [],
      "source": [
        "log(x) # logarithm of x"
      ],
      "id": "ad9a814f-3d1f-46ec-8d96-38ed5888d478"
    },
    {
      "cell_type": "code",
      "execution_count": null,
      "metadata": {},
      "outputs": [],
      "source": [
        "summary(x) # summary of x"
      ],
      "id": "6b4a3a85-97e9-40b6-9710-c1e7945bd3dc"
    },
    {
      "cell_type": "code",
      "execution_count": null,
      "metadata": {},
      "outputs": [],
      "source": [
        "str(x) # structure of x"
      ],
      "id": "def737a7-d9a2-4775-8828-a91967e384a8"
    },
    {
      "cell_type": "markdown",
      "metadata": {},
      "source": [
        "**Functions for Statistical Distributions**\n",
        "\n",
        "------------------------------------------------------------------------\n",
        "\n",
        "Suppose that a random variable $X$ has the `dist` distribution. The\n",
        "function templates in the list below describe how to obtain certain\n",
        "properties of $X$.\n",
        "\n",
        "-   `p[dist](q, ...)`: returns the cdf of $X$ evaluated at `q`, i.e.,\n",
        "    $p=P(X\\leq q)$.\n",
        "-   `q[dist](p, ...)`: returns the inverse cdf (or quantile function) of\n",
        "    $X$ evaluated at $p$, i.e., $q = \\inf\\{x: P(X\\leq x) \\geq p\\}$.\n",
        "-   `d[dist](x, ...)`: returns the mass or density of $X$ evaluated at\n",
        "    $x$ (depending on whether it’s discrete or continuous).\n",
        "-   `r[dist](n, ...)`: returns an independent and identically\n",
        "    distributed random sample of size `n` having the same distribution\n",
        "    as $X$.\n",
        "-   The `...` indicates that additional arguments describing the\n",
        "    parameters of the distribution may be required.\n",
        "\n",
        "**Your turn**\n",
        "\n",
        "Run the following commands in R to see the output.\n",
        "\n",
        "What task is each command performing?"
      ],
      "id": "2bece5e9-521a-45ab-adbb-83f6800eba1a"
    },
    {
      "cell_type": "code",
      "execution_count": null,
      "metadata": {},
      "outputs": [],
      "source": [
        "pnorm(1.96, mean = 0, sd = 1)"
      ],
      "id": "95f92a2d-a079-4af9-86c0-7f2b47f16713"
    },
    {
      "cell_type": "code",
      "execution_count": null,
      "metadata": {},
      "outputs": [],
      "source": [
        "qunif(0.6, min = 0, max = 1)"
      ],
      "id": "2a0fd534-0291-4a86-9227-93d3c0224eda"
    },
    {
      "cell_type": "code",
      "execution_count": null,
      "metadata": {},
      "outputs": [],
      "source": [
        "dbinom(2, size = 20, prob = .2)"
      ],
      "id": "e3242949-961f-4e82-93a8-7f8ac7595151"
    },
    {
      "cell_type": "code",
      "execution_count": null,
      "metadata": {},
      "outputs": [],
      "source": [
        "dexp(1, rate = 2)"
      ],
      "id": "bf382d1f-5030-4391-9868-8250d86ae510"
    },
    {
      "cell_type": "code",
      "execution_count": null,
      "metadata": {},
      "outputs": [],
      "source": [
        "rchisq(100, df = 5)"
      ],
      "id": "2007202d-352b-4bfe-9e78-4ca842a7856b"
    },
    {
      "cell_type": "markdown",
      "metadata": {},
      "source": [
        "# Data Frames\n",
        "\n",
        "Data frames are a *fundamental* data structure used by most of R’s\n",
        "modeling software.\n",
        "\n",
        "Data frames are:\n",
        "\n",
        "-   two-dimensional data objects.\n",
        "-   each column of a data frame is a vector.\n",
        "\n",
        "**Data Frame Creation**\n",
        "\n",
        "------------------------------------------------------------------------\n",
        "\n",
        "Data frames are directly created by passing vectors into the\n",
        "`data.frame` function."
      ],
      "id": "c5f98fc7-e17a-4919-94b4-23c6c2405ea1"
    },
    {
      "cell_type": "code",
      "execution_count": null,
      "metadata": {},
      "outputs": [],
      "source": [
        "# create basic data frame\n",
        "d <- c(1, 2, 3, 4)\n",
        "e <- c(\"red\", \"white\", \"blue\", NA)\n",
        "f <- c(TRUE, TRUE, TRUE, FALSE)\n",
        "df <- data.frame(d,e,f)\n",
        "df"
      ],
      "id": "c81a018f-f826-4075-9a9f-f14ef5e1d5b3"
    },
    {
      "cell_type": "markdown",
      "metadata": {},
      "source": [
        "The columns of a data frame can be renamed using the `names` function on\n",
        "the data frame."
      ],
      "id": "97ae3f30-b277-42d6-b0d1-85874d92ed53"
    },
    {
      "cell_type": "code",
      "execution_count": null,
      "metadata": {},
      "outputs": [],
      "source": [
        "# name columns of data frame\n",
        "names(df) <- c(\"ID\", \"Color\", \"Passed\")\n",
        "df"
      ],
      "id": "5e6781fd-b7d9-4112-bce3-15315f0648ca"
    },
    {
      "cell_type": "markdown",
      "metadata": {},
      "source": [
        "We can initially name The columns of a data frame when we create the\n",
        "data frame by using `name =` for each vector of data."
      ],
      "id": "b0d2446b-0d69-4504-ba21-a170304338a7"
    },
    {
      "cell_type": "code",
      "execution_count": null,
      "metadata": {},
      "outputs": [],
      "source": [
        "# create data frame with better column names\n",
        "df2 <- data.frame(ID = d, Color = e, Passed = f)\n",
        "df2"
      ],
      "id": "ba5d8ea6-a4db-4195-a190-1624fc75f94f"
    },
    {
      "cell_type": "markdown",
      "metadata": {},
      "source": [
        "**Importing Data**\n",
        "\n",
        "------------------------------------------------------------------------\n",
        "\n",
        "In practice, the data we want to analyze is saved in a file, and we can\n",
        "import the data from the file into R.\n",
        "\n",
        "The `read.table` function imports data in table format from file into R\n",
        "as a data frame.\n",
        "\n",
        "-   `file` is the file path and name of the file we want to import into\n",
        "    R.\n",
        "    -   If we don’t know the file path, we can use\n",
        "        `file = file.choose()` to launch a dialog box asking us to\n",
        "        locate the file we want to import.\n",
        "-   `header` specifies whether the data file has a header (variable\n",
        "    labels for each column of data in the first row of the data file).\n",
        "    -   If we don’t specify this option in R or use `header = FALSE`,\n",
        "        then R will assume the file doesn’t have any headings.\n",
        "    -   `header = TRUE` tells R to read in the data as a data frame with\n",
        "        column names taken from the first row of the data file.\n",
        "-   `sep` specifies the delimiter separating elements in the file.\n",
        "    -   If each column of data in the file is separated by a space, then\n",
        "        use `sep = \" \"`.\n",
        "    -   If each column of data in the file is separated by a comma, then\n",
        "        use `sep = \",\"`.\n",
        "    -   If each column of data in the file is separated by a tab, then\n",
        "        use `sep = \"\\t\"`.\n",
        "\n",
        "Consider reading in a csv (comma separated file) with a header. The file\n",
        "in question contains information related to COVID-19 cases and deaths as\n",
        "of December 4, 2020."
      ],
      "id": "31207311-ccd2-492a-9de9-edb2b4001d2a"
    },
    {
      "cell_type": "code",
      "execution_count": null,
      "metadata": {},
      "outputs": [],
      "source": [
        "# import data as data frame\n",
        "dtf <- read.table(file = \"https://raw.githubusercontent.com/jfrench/DataWrangleViz/master/data/covid_dec4.csv\",\n",
        "                  header = TRUE,\n",
        "                  sep = \",\")\n",
        "str(dtf)"
      ],
      "id": "39fcc937-6948-47cc-9e5d-2b2a0e4e660f"
    },
    {
      "cell_type": "markdown",
      "metadata": {},
      "source": [
        "**Extracting parts of a data frame**\n",
        "\n",
        "------------------------------------------------------------------------\n",
        "\n",
        "R provides many ways to extract parts of a data frame.\n",
        "\n",
        "The `mtcars` data frame 32observations of 11 variables."
      ],
      "id": "eee97ef6-718a-4527-b1de-70c9c94aabc3"
    },
    {
      "cell_type": "code",
      "execution_count": null,
      "metadata": {},
      "outputs": [],
      "source": [
        "data(mtcars) # load data set\n",
        "str(mtcars)  # examine data structure"
      ],
      "id": "b28de6fe-da2a-4af4-a084-d8b57cc34426"
    },
    {
      "cell_type": "markdown",
      "metadata": {},
      "source": [
        "We can extract the `mpg` variable from the `mtcars` data frame using the\n",
        "`$` operator."
      ],
      "id": "47e6c4bb-b63f-478e-b579-0f3d1f7d2f15"
    },
    {
      "cell_type": "code",
      "execution_count": null,
      "metadata": {},
      "outputs": [],
      "source": [
        "mtcars$mpg"
      ],
      "id": "a0c49f2d-320e-43ff-a271-dd3f97cafe9f"
    },
    {
      "cell_type": "markdown",
      "metadata": {},
      "source": [
        "Another way to extract a variable from a data frame uses a\n",
        "`df[rows, columns]` style syntax.\n",
        "\n",
        "-   `rows` and `columns` indicate the desired rows or columns.\n",
        "-   If either the `rows` or `columns` are left blank, then all `rows` or\n",
        "    `columns`, respectively, are extracted."
      ],
      "id": "239cbc4e-2f9f-405a-b7e3-be22307a5f57"
    },
    {
      "cell_type": "code",
      "execution_count": null,
      "metadata": {},
      "outputs": [],
      "source": [
        "mtcars[,\"mpg\"]"
      ],
      "id": "a717446a-310a-4434-bf2e-afef8e7f9600"
    },
    {
      "cell_type": "markdown",
      "metadata": {},
      "source": [
        "To select multiple variables in a data frame, we can provide a character\n",
        "vector with multiple variable names between `[]`."
      ],
      "id": "1e64c9a6-50e7-48d1-9662-0fb1d20fe554"
    },
    {
      "cell_type": "code",
      "execution_count": null,
      "metadata": {},
      "outputs": [],
      "source": [
        "mtcars[c(\"mpg\", \"cyl\")]"
      ],
      "id": "3181d966-cae6-490a-8f9b-e370942c7159"
    },
    {
      "cell_type": "markdown",
      "metadata": {},
      "source": [
        "We can also use numeric indices to directly indicate the rows or columns\n",
        "of the data frame that we would like to extract."
      ],
      "id": "ebb88ded-e545-4b85-879b-ab4b24fd1bc3"
    },
    {
      "cell_type": "code",
      "execution_count": null,
      "metadata": {},
      "outputs": [],
      "source": [
        "mtcars[c(1, 2)]"
      ],
      "id": "39bde779-3535-49ab-9a3a-444f6d43554c"
    },
    {
      "cell_type": "markdown",
      "metadata": {},
      "source": [
        "**Conditional Extraction of Data Frames**\n",
        "\n",
        "------------------------------------------------------------------------\n",
        "\n",
        "Logical expressions can be used to subset a data frame.\n",
        "\n",
        "The following command creates of vector of logical values."
      ],
      "id": "c1d94d4c-f977-452a-a07c-65c3ed1e2972"
    },
    {
      "cell_type": "code",
      "execution_count": null,
      "metadata": {},
      "outputs": [],
      "source": [
        "mtcars$hp > 250"
      ],
      "id": "e7827e3e-917c-46f0-95b5-5d7d1ba9d916"
    },
    {
      "cell_type": "markdown",
      "metadata": {},
      "source": [
        "This vector can be used to extract rows for all of the `TRUE` values."
      ],
      "id": "0f99cb36-f0a8-47ae-8817-8145d410b8db"
    },
    {
      "cell_type": "code",
      "execution_count": null,
      "metadata": {},
      "outputs": [],
      "source": [
        "# extract rows with hp > 250\n",
        "mtcars[mtcars$hp > 250,]"
      ],
      "id": "d3caaeaa-5179-4eb3-9672-5435cb037642"
    },
    {
      "cell_type": "markdown",
      "metadata": {},
      "source": [
        "We can make the logical expression more complicated."
      ],
      "id": "3597059c-d964-48e6-b719-e7c43a74d682"
    },
    {
      "cell_type": "code",
      "execution_count": null,
      "metadata": {},
      "outputs": [],
      "source": [
        "# return rows with `cyl == 8` and `mpg > 17`\n",
        "# return columns mpg, cyl, disp, hp\n",
        "mtcars[mtcars$cyl == 8 & mtcars$mpg > 17, c(\"mpg\", \"cyl\", \"disp\", \"hp\")]"
      ],
      "id": "5ba22d93-77e5-4702-b734-15be1d96056e"
    },
    {
      "cell_type": "markdown",
      "metadata": {},
      "source": [
        "**Modifying Data Frames**\n",
        "\n",
        "------------------------------------------------------------------------\n",
        "\n",
        "We can add columns to a data frame by combining the `$` and assignment\n",
        "operators."
      ],
      "id": "4b77bce7-a382-4fc2-840e-e84c9dfaf128"
    },
    {
      "cell_type": "code",
      "execution_count": null,
      "metadata": {},
      "outputs": [],
      "source": [
        "mtcars$kpg <- mtcars$mpg * 1.6"
      ],
      "id": "254052b9-13ba-41aa-8403-c86caf82d7f1"
    },
    {
      "cell_type": "markdown",
      "metadata": {},
      "source": [
        "**Extraction using the `subset` function**\n",
        "\n",
        "------------------------------------------------------------------------\n",
        "\n",
        "The `subset` function returns the part of a data frame that meets the\n",
        "specified conditions.\n",
        "\n",
        "The basic usage of this function is:\n",
        "`subset(x, subset, select, drop = FALSE)`\n",
        "\n",
        "-   `x` is the object we want to subset.\n",
        "    -   `x` can be a vector, matrix, or data frame.\n",
        "-   `subset` is a logical expression that indicates the elements or rows\n",
        "    of `x` to keep (`TRUE` means keep).\n",
        "-   `select` is a vector that indicates the columns to keep.\n",
        "-   `drop` is a logical value indicating whether the data frame should\n",
        "    “drop” into a vector if only a single row or column is kept. The\n",
        "    default is `FALSE`.\n",
        "\n",
        "**Your turn**\n",
        "\n",
        "Run the following commands in the Console to use the `subset` function\n",
        "to extract parts of the `mtcars` data frame.\n",
        "\n",
        "What is each command performing?"
      ],
      "id": "d8876cef-f640-4f59-ba54-9a21e56d25ee"
    },
    {
      "cell_type": "code",
      "execution_count": null,
      "metadata": {},
      "outputs": [],
      "source": [
        "subset(mtcars, subset = gear > 4)"
      ],
      "id": "23796a14-ffc9-4867-a2c6-dc3609e08a96"
    },
    {
      "cell_type": "code",
      "execution_count": null,
      "metadata": {},
      "outputs": [],
      "source": [
        "subset(mtcars, select = c(disp, hp, gear))"
      ],
      "id": "4dcf09d6-bf63-4f32-b2fc-69069decfc57"
    },
    {
      "cell_type": "code",
      "execution_count": null,
      "metadata": {},
      "outputs": [],
      "source": [
        "subset(mtcars, subset = gear > 4, select = c(disp, hp, gear))"
      ],
      "id": "3be7b320-a5f0-408b-b4f9-1a5a301c7a84"
    },
    {
      "cell_type": "markdown",
      "metadata": {},
      "source": [
        "# Using the pipe operator\n",
        "\n",
        "R’s native pipe operator (`|>`) allows us to “pipe” the object on the\n",
        "left side of the operator into the first argument of the function on the\n",
        "right side of the operator. The pipe operator is a convenient way to\n",
        "string together numerous steps in a string of commands.\n",
        "\n",
        "When reading code with pipes, the pipe can be thought of as the word\n",
        "“then”.\n",
        "\n",
        "In the code below, we take `mtcars` *then* subset it based on `disp` and\n",
        "*then* select some columns."
      ],
      "id": "6103539a-4119-459e-901c-1fad3f7f467e"
    },
    {
      "cell_type": "code",
      "execution_count": null,
      "metadata": {},
      "outputs": [],
      "source": [
        "subset(mtcars,\n",
        "       subset = disp > 400,\n",
        "       select = c(mpg, disp, hp))"
      ],
      "id": "91859287-df19-412e-923e-9ffe60d52655"
    },
    {
      "cell_type": "code",
      "execution_count": null,
      "metadata": {},
      "outputs": [],
      "source": [
        "mtcars |>\n",
        "  subset(subset = disp > 400) |>\n",
        "  subset(select = c(mpg, disp, hp))"
      ],
      "id": "593d16e1-fa16-4779-9600-0e96bc2c2d4f"
    },
    {
      "cell_type": "markdown",
      "metadata": {},
      "source": [
        "Here is a complicated sequence of piped commands. What are the commands\n",
        "doing?"
      ],
      "id": "092ca4b6-6150-4b66-b54b-34bcf8208f51"
    },
    {
      "cell_type": "code",
      "execution_count": null,
      "metadata": {},
      "outputs": [],
      "source": [
        "# create new variable, select columns, extract first 5 rows\n",
        "mtcars |>\n",
        "  transform(lp100km = 237.5/mpg) |>\n",
        "  subset(select = c(mpg, lp100km)) |>\n",
        "  head(n = 5)"
      ],
      "id": "a6a2ac30-45a9-459a-8e3c-b447dd8660dd"
    }
  ],
  "nbformat": 4,
  "nbformat_minor": 5,
  "metadata": {
    "kernelspec": {
      "display_name": "Python 3",
      "language": "python",
      "name": "python3"
    }
  }
}