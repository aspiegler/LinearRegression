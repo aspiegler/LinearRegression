{
  "cells": [
    {
      "cell_type": "markdown",
      "metadata": {},
      "source": [
        "---\n",
        "title: \"Chapter 1 - R Foundations\"\n",
        "author: Joshua French\n",
        "date: ''\n",
        "# format: html\n",
        "format: ipynb\n",
        "jupyter: ir\n",
        "execute:\n",
        "  output: false\n",
        "self-contained: true\n",
        "title-block-banner: true\n",
        "---\n",
        "\n",
        "\n",
        "The QR \n",
        "\n",
        "<img src=\"https://github.com/jfrench/LinearRegression/blob/411e568cf685535029fec6077829ad2e55ecf021/pictures/qr-01-r-foundations.png\">\n",
        "\n",
        "<a href=\"https://colab.research.google.com/github/jfrench/LinearRegression/blob/master/notebooks/01-r-foundations-notebook.ipynb\">\n",
        "   <img src=\"https://colab.research.google.com/assets/colab-badge.svg\">\n",
        "</a>\n",
        "\n",
        "\n",
        "To open this information in an interactive Colab notebook, click the Open in Colab graphic below.\n",
        "\n",
        "<a href=\"https://colab.research.google.com/github/jfrench/LinearRegression/blob/master/notebooks/01-r-foundations-notebook.ipynb\">\n",
        "   <img src=\"https://colab.research.google.com/assets/colab-badge.svg\">\n",
        "</a>\n",
        "\n",
        "---\n",
        "\n",
        "# What is R?\n",
        "\n",
        "R is a programming language and environment designed for statistical computing. [(https://www.r-project.org/about.html)](https://www.r-project.org/about.html)\n",
        "\n",
        "Some important facts about R are that:\n",
        "\n",
        "-   R is free, open source, and runs on many different types of computers (Windows, Mac, Linux, and others).\n",
        "-   R is an interactive programming language.\n",
        "    -   You type and run a command in the Console for immediate feedback, in contrast to a compiled programming language, which compiles a program that is then executed.\n",
        "-   R is highly extendable.\n",
        "    -   Many user-created packages are available to extend the functionality beyond what is installed by default.\n",
        "    -   Users can write their own functions and easily add software libraries to R.\n",
        "\n",
        "# Installing R and RStudio\n",
        "\n",
        "Install R by downloading an installer program from the R Project's website [(https://www.r-project.org/)](https://www.r-project.org/).\n",
        "\n",
        "RStudio Desktop is a free \"front end\" for R that makes doing data analysis with R much easier by adding an Integrated Development Environment (IDE) and providing many other features. Currently, you may download RStudio at <https://posit.co/download/rstudio-desktop/>.\n",
        "\n",
        "**RStudio Layout**\n",
        "\n",
        "RStudio Desktop has four panes:\n",
        "\n",
        "1.  Console: the pane where commands are run.\n",
        "2.  Source: the pane where you prepare commands to be run.\n",
        "3.  Environment/History: the pane where you can see all the objects in your workspace, your command history, and other information.\n",
        "4.  The Files/Plot/Packages/Help: the pane where you navigate between directories, where plots can be viewed, where you can see the packages available to be loaded, and where you can get help.\n",
        "\n",
        "Tip: Change your R Studio environment so that it doesn't save your workspace.\n",
        "\n",
        "# Running code, scripts, and comments\n",
        "\n",
        "You can run code in R by typing it in the Console next to the `>` symbol and pressing the Enter key.\n",
        "\n",
        "It's better to write your commands in a \"Script\" file, save the Script, and then run your commands from the Script. The commands in a Script file are generically referred to as \"code\".\n",
        "\n",
        "Script files make it easy to:\n",
        "\n",
        "-   Reproduce your data analysis without retyping all your commands.\n",
        "-   Share your code with others.\n",
        "\n",
        "A new Script file can be obtained by:\n",
        "\n",
        "-   Clicking File → New File → R Script in the RStudio menu bar.\n",
        "-   Pressing `Ctrl + Shift + n` on a PC or `Cmd + Shift + n` on a Mac.\n",
        "\n",
        "To run code from a Script file:\n",
        "\n",
        "-   Highlight the code you want to run and click the Run button at the top of the Script pane.\n",
        "-   Highlight the code you want to run and press \"Ctrl + Enter\" on your keyboard. If you don't highlight anything, by default, RStudio runs the command the cursor currently lies on.\n",
        "\n",
        "To save a Script file:\n",
        "\n",
        "-   Click File → Save in the RStudio menu bar.\n",
        "-   Press `Ctrl + s` on a PC or `Cmd + s` on a Mac.\n",
        "\n",
        "A comment is a set of text ignored by R when submitted to the Console.\n",
        "\n",
        "A comment is indicated by the `#` symbol. Nothing to the right of the `#` is executed by the Console.\n",
        "\n",
        "To comment (or uncomment) multiple lines of code in the Source pane of RStudio, highlight the code you want to comment and press `Ctrl + Shift + c` on a PC or `Cmd + Shift + c` on a Mac.\n",
        "\n",
        "**Your turn**\n",
        "\n",
        "Perform the following tasks:\n",
        "\n",
        "1.  Type `1+1` in the Console and press Enter.\n",
        "2.  Open a new Script in RStudio.\n",
        "3.  Type `mean(1:3)` in your Script file.\n",
        "4.  Type `# mean(1:3)` in your Script file.\n",
        "5.  Run the commands from the Script using an approach mentioned above.\n",
        "6.  Save your Script file.\n",
        "7.  Use the keyboard shortcut to \"comment out\" some of the lines of your Script file.\n"
      ],
      "id": "7e02fe81"
    },
    {
      "cell_type": "code",
      "metadata": {},
      "source": [
        "# type your commands here"
      ],
      "id": "dd33d066",
      "execution_count": null,
      "outputs": []
    },
    {
      "cell_type": "markdown",
      "metadata": {},
      "source": [
        "# Assignment in R\n",
        "\n",
        "R works on various types of objects that we'll learn more about later.\n",
        "\n",
        "To store an object in the computer's memory we must assign it a name using the assignment operator `<-` or the equal sign `=`.\n",
        "\n",
        "Some comments:\n",
        "\n",
        "-   In general, both `<-` and `=` can be used for assignment.\n",
        "-   Pressing `Alt + -` on a PC or `Option + -` on a Mac will insert `<-` into the R Console and Script files.\n",
        "    -   If you are creating an R Markdown file, then this shortcut will only insert `<-` if you are in an R code block.\n",
        "-   `<-` and `=` are NOT synonyms, but can be used identically most of the time.\n",
        "\n",
        "# Functions\n",
        "\n",
        "To use a function, you type the function's name in the Console (or Script) and then supply the function's \"arguments\" between parentheses, `()`.\n",
        "\n",
        "The arguments of a function are pieces of data or information the function needs to perform the requested task (i.e., the function \"inputs\"). Each argument you supply is separated by a comma, `,`.\n",
        "\n",
        "**Your turn**\n",
        "\n",
        "Run the following commands in the Console.\n",
        "\n",
        "What is each command doing?\n"
      ],
      "id": "32398d03"
    },
    {
      "cell_type": "code",
      "metadata": {},
      "source": [
        "# compute the mean of 1, 2, ..., 10 and assign the name m\n",
        "m <- mean(1:10) \n",
        "m # print m"
      ],
      "id": "88efda2e",
      "execution_count": null,
      "outputs": []
    },
    {
      "cell_type": "code",
      "metadata": {},
      "source": [
        "print(m) # print m a different way"
      ],
      "id": "65f1f6e7",
      "execution_count": null,
      "outputs": []
    },
    {
      "cell_type": "code",
      "metadata": {},
      "source": [
        "mean(c(1, 5, 3, 4, 10)) # mean of a new vector"
      ],
      "id": "c56afc5e",
      "execution_count": null,
      "outputs": []
    },
    {
      "cell_type": "code",
      "metadata": {},
      "source": [
        "mean(c(1, 5, 3, 4, 10), trim = 0.2) # compute trimmed mean"
      ],
      "id": "7a204e1a",
      "execution_count": null,
      "outputs": []
    },
    {
      "cell_type": "markdown",
      "metadata": {},
      "source": [
        "# Packages\n",
        "\n",
        "Packages are collections of functions, data, and other objects that extend the functionality available in R by default.\n",
        "\n",
        "R packages can be installed using the `install.packages` function and loaded using the `library` function.\n",
        "\n",
        "The **tidyverse** package (actually, a collection of packages) contains data and some useful functions we will be using later in the course.\n",
        "\n",
        "**Your turn**\n"
      ],
      "id": "af6b1ee7"
    },
    {
      "cell_type": "code",
      "metadata": {},
      "source": [
        "# install tidyverse if it's not already installed\n",
        "if (!require(\"tidyverse\")){\n",
        "    install.packages(\"tidyverse\")\n",
        "}"
      ],
      "id": "63e213d2",
      "execution_count": null,
      "outputs": []
    },
    {
      "cell_type": "markdown",
      "metadata": {},
      "source": [
        "After you install **tidyverse**, load the package by running the command below.\n"
      ],
      "id": "6d421dd2"
    },
    {
      "cell_type": "code",
      "metadata": {},
      "source": [
        "library(tidyverse)"
      ],
      "id": "6243ce48",
      "execution_count": null,
      "outputs": []
    },
    {
      "cell_type": "markdown",
      "metadata": {},
      "source": [
        "# Getting Help\n",
        "\n",
        "There are many ways to get help in R.\n",
        "\n",
        "-   To get help for a function named `command`, run `?command` to access the documentation\n",
        "\n",
        "    -   The Documentation will provide information on the function use, arguments, usage examples, and more.\n",
        "\n",
        "-   Running `??topic` will search the documentation for any occurrence of the word \"topic\" and provide a list of relevant documentation to consider.\n",
        "\n",
        "-   Stack Overflow (<https://www.stackoverflow.com>) is a great resource to find solutions.\n",
        "\n",
        "**Your turn**\n",
        "\n",
        "Let's get help on the `lm` function.\n"
      ],
      "id": "19d460c6"
    },
    {
      "cell_type": "code",
      "metadata": {},
      "source": [
        "?lm"
      ],
      "id": "22ea891a",
      "execution_count": null,
      "outputs": []
    },
    {
      "cell_type": "markdown",
      "metadata": {},
      "source": [
        "# Data Types and Structures\n",
        "\n",
        "**Basic Data Types**\n",
        "\n",
        "---\n",
        "\n",
        "R has 6 basic vector types:\n",
        "\n",
        "1.  character: collections of characters. E.g., `\"a\"`, `\"hello world!\"`.\n",
        "2.  double: decimal numbers. e.g., `1.2`, `1.0`.\n",
        "3.  integer: whole numbers. In R, you must add `L` to the end of a number to specify it as an integer. E.g., `1L` is an integer but `1` is a double.\n",
        "4.  logical: boolean values, `TRUE` and `FALSE`.\n",
        "5.  complex: complex numbers. E.g., `1+3i`.\n",
        "6.  raw: a type to hold raw bytes.\n",
        "\n",
        "**Other important object types**\n",
        "--\n",
        "\n",
        "-   **Numeric**: An object is `numeric` if it is of type `integer` or `double`. In that case, it's `mode` is said to be `numeric`.\n",
        "-   **NULL**: `NULL` is a special object to indicate an object is absent.\n",
        "    -   An object having a length of zero is not the same thing as an object being absent.\n",
        "-   **NA**: A \"missing value\" occurs when the value of something isn't known. R uses the special object `NA` to represent a missing value.\n",
        "    -   If you have a missing value, you should represent that value as `NA`. Note: `\"NA\"` is not the same thing as `NA`.\n",
        "\n",
        "# Data structures\n",
        "\n",
        "R operates on data structures. A data structure is a \"container\" that holds certain kinds of information.\n",
        "\n",
        "R has 5 basic data structures:\n",
        "\n",
        "1.  vector.\n",
        "2.  matrix.\n",
        "3.  array.\n",
        "4.  data frame.\n",
        "5.  list.\n",
        "\n",
        "# Vectors\n",
        "\n",
        "**Creating vectors**\n",
        "---\n",
        "\n",
        "\n",
        "A *vector* is a one-dimensional set of data of the same type.\n",
        "\n",
        "The most basic way to create a vector is the `c` (combine) function.\n",
        "\n",
        "The following commands create vectors of type `numeric`, `character`, and `logical`, respectively.\n",
        "\n",
        "-   `c(1, 2, 5.3, 6, -2, 4)`\n",
        "-   `c(\"one\", \"two\", \"three\")`\n",
        "-   `c(TRUE, TRUE, FALSE, TRUE)`\n",
        "\n",
        "The `seq` (sequence) function is used to create an equidistant series of numeric values.\n",
        "\n",
        "-   `seq(1, 10)` or `1:10` creates a sequence of numbers from 1 to 10 in increments of 1.\n",
        "-   `seq(1, 20, by = 2)` creates a sequence of numbers from 1 to 20 in increments of 2.\n",
        "-   `seq(10, 20, len = 100)` creates a sequence of numbers from 10 to 20 of length 100.\n",
        "\n",
        "The `rep` (replicate) function can be used to create a vector by replicating values.\n",
        "\n",
        "-   `rep(1:3, times = 3)` replicates the sequence `1, 2, 3` three times.\n",
        "-   `rep(c(\"trt1\", \"trt2\", \"trt3\"), times = 1:3)` replicates `\"trt1\"` once, `\"trt2\"` twice, and `\"trt3\"` three times.\n",
        "-   `rep(1:3, each = 3)` replicates each element three times.\n",
        "\n",
        "Multiple vectors can be combined into a new vector object using the `c` function.\n",
        "\n",
        "-   E.g., `c(v1, v2, v3)` would combine vectors `v1`, `v2`, and `v3`.\n",
        "\n",
        "**Your turn**\n",
        "\n",
        "Run the commands below in the Console.\n"
      ],
      "id": "807d8a34"
    },
    {
      "cell_type": "code",
      "metadata": {},
      "source": [
        "c(1, 2, 5.3, 6, -2, 4)"
      ],
      "id": "cfe00dfa",
      "execution_count": null,
      "outputs": []
    },
    {
      "cell_type": "code",
      "metadata": {},
      "source": [
        "c(\"one\", \"two\", \"three\")"
      ],
      "id": "a868fb96",
      "execution_count": null,
      "outputs": []
    },
    {
      "cell_type": "code",
      "metadata": {},
      "source": [
        "c(TRUE, TRUE, FALSE, TRUE)"
      ],
      "id": "fcdb2e63",
      "execution_count": null,
      "outputs": []
    },
    {
      "cell_type": "code",
      "metadata": {},
      "source": [
        "# sequences of values\n",
        "seq(1, 10)"
      ],
      "id": "51f6051f",
      "execution_count": null,
      "outputs": []
    },
    {
      "cell_type": "code",
      "metadata": {},
      "source": [
        "1:10"
      ],
      "id": "630a95c1",
      "execution_count": null,
      "outputs": []
    },
    {
      "cell_type": "code",
      "metadata": {},
      "source": [
        "seq(1, 20, by = 2)"
      ],
      "id": "b5e2611f",
      "execution_count": null,
      "outputs": []
    },
    {
      "cell_type": "code",
      "metadata": {},
      "source": [
        "seq(10, 20, len = 100)"
      ],
      "id": "08018d7a",
      "execution_count": null,
      "outputs": []
    },
    {
      "cell_type": "markdown",
      "metadata": {},
      "source": [
        "-   What does the `by` argument of the `seq` function control?\n",
        "-   What does the `len` argument of the `seq` function control?\n"
      ],
      "id": "cdb01e56"
    },
    {
      "cell_type": "code",
      "metadata": {},
      "source": [
        "# replicated values\n",
        "rep(1:3, times = 3)"
      ],
      "id": "53587655",
      "execution_count": null,
      "outputs": []
    },
    {
      "cell_type": "code",
      "metadata": {},
      "source": [
        "rep(c(\"trt1\", \"trt2\", \"trt3\"), times = 1:3)"
      ],
      "id": "4581efbb",
      "execution_count": null,
      "outputs": []
    },
    {
      "cell_type": "code",
      "metadata": {},
      "source": [
        "rep(1:3, each = 3)"
      ],
      "id": "7b7e028d",
      "execution_count": null,
      "outputs": []
    },
    {
      "cell_type": "markdown",
      "metadata": {},
      "source": [
        "-   What does the `times` argument of the `rep` function control?\n",
        "-   What does the `each` argument of the `rep` function control?\n"
      ],
      "id": "36a94b55"
    },
    {
      "cell_type": "code",
      "metadata": {},
      "source": [
        "# combining vectors\n",
        "v1 <- 1:5 # create a vector, v1\n",
        "v2 <- c(1, 10, 11) # create another vector, v2\n",
        "v3 <- rep(1:2, each = 3) # crate a third vector, v3\n",
        "new <- c(v1, v2, v3) # combine vectors\n",
        "new # print the combined vector"
      ],
      "id": "7f0f5cb2",
      "execution_count": null,
      "outputs": []
    },
    {
      "cell_type": "markdown",
      "metadata": {},
      "source": [
        "**Categorical vectors**\n",
        "\n",
        "---\n",
        "\n",
        "Categorical data should be stored as a `factor` in R.\n",
        "\n",
        "We create same `factor` variables below."
      ],
      "id": "be4c4aea"
    },
    {
      "cell_type": "code",
      "metadata": {},
      "source": [
        "f1 <- factor(rep(1:6, times = 3))\n",
        "f1"
      ],
      "id": "22580635",
      "execution_count": null,
      "outputs": []
    },
    {
      "cell_type": "code",
      "metadata": {},
      "source": [
        "f2 <- factor(c(\"a\", 7, \"blue\", \"blue\", FALSE))\n",
        "f2"
      ],
      "id": "880d7e32",
      "execution_count": null,
      "outputs": []
    },
    {
      "cell_type": "markdown",
      "metadata": {},
      "source": [
        "A printed `factor` object lists the `Levels` (i.e., unique categories) of the object.\n",
        "\n",
        "Some additional comments:\n",
        "\n",
        "-   `factor` objects aren't technically vectors but behave like vectors, which is why they are included here.\n",
        "-   The `is.factor` function can be used to determine whether an object is a `factor`.\n",
        "-   You can create `factor` objects with specific orderings of categories using the `level` and `ordered` arguments of the `factor` function (see `?factor` for more details)."
      ],
      "id": "648017a6"
    },
    {
      "cell_type": "code",
      "metadata": {},
      "source": [
        "size <- c(\"small\", \"medium\", \"small\", \"large\", \"medium\", \"medium\", \"large\")\n",
        "factor(size)"
      ],
      "id": "6e77c5fd",
      "execution_count": null,
      "outputs": []
    },
    {
      "cell_type": "code",
      "metadata": {},
      "source": [
        "# create ordered factor\n",
        "factor(size, levels = c(\"small\", \"medium\", \"large\"), ordered = TRUE)"
      ],
      "id": "0b51b8f5",
      "execution_count": null,
      "outputs": []
    },
    {
      "cell_type": "markdown",
      "metadata": {},
      "source": [
        "**Your Turn**\n",
        "\n",
        "Attempt to complete the following tasks:\n",
        "\n",
        "1.  Create a vector named `grp` that has two levels: `a` and `b`, where the first 7 values are `a` and the second 4 values are `b`.\n",
        "2.  Run `is.factor(grp)` in the Console.\n",
        "3.  Run `is.vector(grp)` in the Console.\n",
        "4.  Run `typeof(grp)` in the Console."
      ],
      "id": "39d6deac"
    },
    {
      "cell_type": "code",
      "metadata": {},
      "source": [
        "# type your code here"
      ],
      "id": "9d7fd000",
      "execution_count": null,
      "outputs": []
    },
    {
      "cell_type": "markdown",
      "metadata": {},
      "source": [
        "**Extracting parts of a vector**\n",
        "---\n",
        "\n",
        "\n",
        "Parts of a vector can be extracted by appending an index vector in square brackets `[]`.\n"
      ],
      "id": "39e02be7"
    },
    {
      "cell_type": "code",
      "metadata": {},
      "source": [
        "# define a sequence 2, 4, ..., 16\n",
        "a <- seq(2, 16, by = 2)\n",
        "# extract subset of vector\n",
        "a[c(2, 4, 6)]"
      ],
      "id": "e581978c",
      "execution_count": null,
      "outputs": []
    },
    {
      "cell_type": "markdown",
      "metadata": {},
      "source": [
        "Supplying a negative index vector indicates the values you want to exclude from your selection.\n"
      ],
      "id": "1d0e2d24"
    },
    {
      "cell_type": "code",
      "metadata": {},
      "source": [
        "a[-c(2, 4, 6)] # select all but element 2, 4, 6"
      ],
      "id": "1a79e42e",
      "execution_count": null,
      "outputs": []
    },
    {
      "cell_type": "code",
      "metadata": {},
      "source": [
        "a[-(3:6)] # select all but elements 3-6"
      ],
      "id": "5e164e63",
      "execution_count": null,
      "outputs": []
    },
    {
      "cell_type": "markdown",
      "metadata": {},
      "source": [
        "**Logical Expressions**\n",
        "\n",
        "---\n",
        "\n",
        "A logical expression uses one or more logical operators to determine which elements of an object satisfy the specified statement.\n",
        "\n",
        "The basic logical operators are:\n",
        "\n",
        "-   `<`, `<=`: less than, less than or equal to.\n",
        "-   `>`, `>=`: greater than, greater than or equal to.\n",
        "-   `==`: equal to.\n",
        "-   `!=`: not equal to.\n",
        "\n",
        "Creating a logical expression with a vector will result in a logical vector indicating whether each element satisfies the logical expression.\n",
        "\n",
        "We can create more complicated logical expressions using the \"and\", \"or\", and \"not\" operators.\n",
        "\n",
        "-   `&`: and.\n",
        "-   `|`: or.\n",
        "-   `!`: not, i.e., not true\n",
        "\n",
        "**Your turn**\n",
        "\n",
        "Run the following commands in R.\n",
        "\n",
        "What task is each command performing?"
      ],
      "id": "eb01e3fd"
    },
    {
      "cell_type": "code",
      "metadata": {},
      "source": [
        "a > 10  # which elements of a are > 10?"
      ],
      "id": "ca6bd673",
      "execution_count": null,
      "outputs": []
    },
    {
      "cell_type": "code",
      "metadata": {},
      "source": [
        "a <= 4  # which elements of a are <= 10?"
      ],
      "id": "a2512150",
      "execution_count": null,
      "outputs": []
    },
    {
      "cell_type": "code",
      "metadata": {},
      "source": [
        "a == 10 # which elements of a are equal to 10?"
      ],
      "id": "2367bab4",
      "execution_count": null,
      "outputs": []
    },
    {
      "cell_type": "code",
      "metadata": {},
      "source": [
        "a != 10 # which elements of a are not equal to 10?"
      ],
      "id": "1f9e4225",
      "execution_count": null,
      "outputs": []
    },
    {
      "cell_type": "code",
      "metadata": {},
      "source": [
        "TRUE & TRUE & TRUE"
      ],
      "id": "6660149b",
      "execution_count": null,
      "outputs": []
    },
    {
      "cell_type": "code",
      "metadata": {},
      "source": [
        "TRUE & TRUE & FALSE"
      ],
      "id": "a35606e4",
      "execution_count": null,
      "outputs": []
    },
    {
      "cell_type": "code",
      "metadata": {},
      "source": [
        "FALSE | TRUE | FALSE"
      ],
      "id": "a5c4c9f4",
      "execution_count": null,
      "outputs": []
    },
    {
      "cell_type": "code",
      "metadata": {},
      "source": [
        "FALSE | FALSE | FALSE"
      ],
      "id": "04c2497a",
      "execution_count": null,
      "outputs": []
    },
    {
      "cell_type": "code",
      "metadata": {},
      "source": [
        "!TRUE"
      ],
      "id": "75c8f9af",
      "execution_count": null,
      "outputs": []
    },
    {
      "cell_type": "code",
      "metadata": {},
      "source": [
        "!FALSE"
      ],
      "id": "979f1916",
      "execution_count": null,
      "outputs": []
    },
    {
      "cell_type": "code",
      "metadata": {},
      "source": [
        "# which elements of a are > 6 and <= 10\n",
        "(a > 6) & (a <= 10)"
      ],
      "id": "c580c4ac",
      "execution_count": null,
      "outputs": []
    },
    {
      "cell_type": "code",
      "metadata": {},
      "source": [
        "# which elements of a are <= 4 or >= 12\n",
        "(a <= 4) | (a >= 12)"
      ],
      "id": "71277979",
      "execution_count": null,
      "outputs": []
    },
    {
      "cell_type": "code",
      "metadata": {},
      "source": [
        "# which elements of a are NOT <= 4 or >= 12\n",
        "!((a <= 4) | (a >= 12))"
      ],
      "id": "3811fcfe",
      "execution_count": null,
      "outputs": []
    },
    {
      "cell_type": "markdown",
      "metadata": {},
      "source": [
        "We can pass logical expressions within the square brackets to access part of a data structure. This syntax will return each element of the object for which the expression is `TRUE`.\n",
        "\n",
        "**Your turn**\n",
        "\n",
        "Run the following commands in R and see what is printed.\n",
        "\n",
        "What task is each command performing?"
      ],
      "id": "a5150bb4"
    },
    {
      "cell_type": "code",
      "metadata": {},
      "source": [
        "# extract the parts of a with values < 6\n",
        "a[a < 6]"
      ],
      "id": "4cdfb93c",
      "execution_count": null,
      "outputs": []
    },
    {
      "cell_type": "code",
      "metadata": {},
      "source": [
        "# extract the parts of a with values equal to 10\n",
        "a[a == 10]"
      ],
      "id": "28606786",
      "execution_count": null,
      "outputs": []
    },
    {
      "cell_type": "code",
      "metadata": {},
      "source": [
        "# extract the parts of a with values < 6 or equal to 10\n",
        "a[(a < 6)|(a == 10)]"
      ],
      "id": "a0f054f0",
      "execution_count": null,
      "outputs": []
    },
    {
      "cell_type": "markdown",
      "metadata": {},
      "source": [
        "# Helpful Functions\n",
        "\n",
        "**Common Useful Functions**\n",
        "---"
      ],
      "id": "3878a6cd"
    },
    {
      "cell_type": "code",
      "metadata": {},
      "source": [
        "#| eval: false\n",
        "# common functions\n",
        "x <- rexp(100) # sample 100 iid values from an Exponential(1) distribution\n",
        "length(x) # length of x\n",
        "sum(x) # sum of x\n",
        "mean(x) # sample mean of x\n",
        "var(x) # sample variance of x\n",
        "sd(x) # sample standard deviation of x\n",
        "range(x) # range of x\n",
        "log(x) # logarithm of x\n",
        "summary(x) # summary of x\n",
        "str(x) # structure of x"
      ],
      "id": "e114d5bd",
      "execution_count": null,
      "outputs": []
    },
    {
      "cell_type": "markdown",
      "metadata": {},
      "source": [
        "**Functions for Statistical Distributions**\n",
        "\n",
        "---\n",
        "\n",
        "Suppose that a random variable $X$ has the `dist` distribution. The function templates in the list below describe how to obtain certain properties of $X$.\n",
        "\n",
        "-   `p[dist](q, ...)`: returns the cdf of $X$ evaluated at `q`, i.e., $p=P(X\\leq q)$.\n",
        "-   `q[dist](p, ...)`: returns the inverse cdf (or quantile function) of $X$ evaluated at $p$, i.e., $q = \\inf\\{x: P(X\\leq x) \\geq p\\}$.\n",
        "-   `d[dist](x, ...)`: returns the mass or density of $X$ evaluated at $x$ (depending on whether it's discrete or continuous).\n",
        "-   `r[dist](n, ...)`: returns an independent and identically distributed random sample of size `n` having the same distribution as $X$.\n",
        "-   The `...` indicates that additional arguments describing the parameters of the distribution may be required.\n",
        "\n",
        "**Your turn**\n",
        "\n",
        "Run the following commands in R to see the output.\n",
        "\n",
        "What task is each command performing?"
      ],
      "id": "5749aef5"
    },
    {
      "cell_type": "code",
      "metadata": {},
      "source": [
        "#| eval: false\n",
        "pnorm(1.96, mean = 0, sd = 1)"
      ],
      "id": "df8b74ef",
      "execution_count": null,
      "outputs": []
    },
    {
      "cell_type": "code",
      "metadata": {},
      "source": [
        "#| eval: false\n",
        "qunif(0.6, min = 0, max = 1)"
      ],
      "id": "7119f925",
      "execution_count": null,
      "outputs": []
    },
    {
      "cell_type": "code",
      "metadata": {},
      "source": [
        "#| eval: false\n",
        "dbinom(2, size = 20, prob = .2)"
      ],
      "id": "d5adba46",
      "execution_count": null,
      "outputs": []
    },
    {
      "cell_type": "code",
      "metadata": {},
      "source": [
        "#| eval: false\n",
        "dexp(1, rate = 2)"
      ],
      "id": "a334f410",
      "execution_count": null,
      "outputs": []
    },
    {
      "cell_type": "code",
      "metadata": {},
      "source": [
        "#| eval: false\n",
        "rchisq(100, df = 5)"
      ],
      "id": "ef473fc7",
      "execution_count": null,
      "outputs": []
    },
    {
      "cell_type": "markdown",
      "metadata": {},
      "source": [
        "# Data Frames\n",
        "\n",
        "Data frames are a *fundamental* data structure used by most of R's modeling software.\n",
        "\n",
        "Data frames are:\n",
        "\n",
        "-   two-dimensional data objects.\n",
        "-   each column of a data frame is a vector.\n",
        "\n",
        "Data frames are directly created by passing vectors into the `data.frame` function."
      ],
      "id": "8fb0b05a"
    },
    {
      "cell_type": "code",
      "metadata": {},
      "source": [
        "# create basic data frame\n",
        "d <- c(1, 2, 3, 4)\n",
        "e <- c(\"red\", \"white\", \"blue\", NA)\n",
        "f <- c(TRUE, TRUE, TRUE, FALSE)\n",
        "df <- data.frame(d,e,f)\n",
        "df"
      ],
      "id": "5c73f3fd",
      "execution_count": null,
      "outputs": []
    },
    {
      "cell_type": "markdown",
      "metadata": {},
      "source": [
        "The columns of a data frame can be renamed using the `names` function on the data frame."
      ],
      "id": "23088f94"
    },
    {
      "cell_type": "code",
      "metadata": {},
      "source": [
        "# name columns of data frame\n",
        "names(df) <- c(\"ID\", \"Color\", \"Passed\")\n",
        "df"
      ],
      "id": "70dd60e2",
      "execution_count": null,
      "outputs": []
    },
    {
      "cell_type": "markdown",
      "metadata": {},
      "source": [
        "The columns of a data frame can be named when you are first creating the data frame by using `name =` for each vector of data."
      ],
      "id": "6fb0ffb4"
    },
    {
      "cell_type": "code",
      "metadata": {},
      "source": [
        "# create data frame with better column names\n",
        "df2 <- data.frame(ID = d, Color = e, Passed = f)\n",
        "df2"
      ],
      "id": "76cbb32d",
      "execution_count": null,
      "outputs": []
    },
    {
      "cell_type": "markdown",
      "metadata": {},
      "source": [
        "**Importing Data**\n",
        "---\n",
        "\n",
        "\n",
        "In practice, you are likely to have a file that contains the data you want to analyze and you want to import the data into R.\n",
        "\n",
        "The `read.table` function imports data in table format from file into R as a data frame.\n",
        "\n",
        "-   `file` is the file path and name of the file you want to import into R.\n",
        "    -   If you don't know the file path, setting `file = file.choose()` will bring up a dialog box asking you to locate the file you want to import.\n",
        "-   `header` specifies whether the data file has a header (variable labels for each column of data in the first row of the data file).\n",
        "    -   If you don't specify this option in R or use `header = FALSE`, then R will assume the file doesn't have any headings.\n",
        "    -   `header = TRUE` tells R to read in the data as a data frame with column names taken from the first row of the data file.\n",
        "-   `sep` specifies the delimiter separating elements in the file.\n",
        "    -   If each column of data in the file is separated by a space, then use `sep = \" \"`.\n",
        "    -   If each column of data in the file is separated by a comma, then use `sep = \",\"`.\n",
        "    -   If each column of data in the file is separated by a tab, then use `sep = \"\\t\"`.\n",
        "\n",
        "Consider reading in a csv (comma separated file) with a header. The file in question contains information related to COVID-19 cases and deaths as of December 4, 2020.\n"
      ],
      "id": "b1fb6a99"
    },
    {
      "cell_type": "code",
      "metadata": {},
      "source": [
        "# import data as data frame\n",
        "dtf <- read.table(file = \"https://raw.githubusercontent.com/jfrench/DataWrangleViz/master/data/covid_dec4.csv\",\n",
        "                  header = TRUE,\n",
        "                  sep = \",\")\n",
        "str(dtf)"
      ],
      "id": "028abfa9",
      "execution_count": null,
      "outputs": []
    },
    {
      "cell_type": "markdown",
      "metadata": {},
      "source": [
        "**Extracting parts of a data frame**\n",
        "\n",
        "---\n",
        "\n",
        "R provides many ways to extract parts of a data frame.\n",
        "\n",
        "The `mtcars` data frame 32observations of 11 variables."
      ],
      "id": "e197ff6e"
    },
    {
      "cell_type": "code",
      "metadata": {},
      "source": [
        "data(mtcars) # load data set\n",
        "str(mtcars)  # examine data structure"
      ],
      "id": "7e6a7eea",
      "execution_count": null,
      "outputs": []
    },
    {
      "cell_type": "markdown",
      "metadata": {},
      "source": [
        "We can extract the `mpg` variable from the `mtcars` data frame using the `$` operator."
      ],
      "id": "545df8d9"
    },
    {
      "cell_type": "code",
      "metadata": {},
      "source": [
        "mtcars$mpg"
      ],
      "id": "be9315f0",
      "execution_count": null,
      "outputs": []
    },
    {
      "cell_type": "markdown",
      "metadata": {},
      "source": [
        "Another way to extract a variable from a data frame uses a `df[rows, columns]` style syntax.\n",
        "\n",
        "-   `rows` and `columns` indicate the desired rows or columns.\n",
        "-   if either the `rows` or `columns` are left blank, then all `rows` or `columns`, respectively, are extracted."
      ],
      "id": "089a7eb4"
    },
    {
      "cell_type": "code",
      "metadata": {},
      "source": [
        "mtcars[,\"mpg\"]"
      ],
      "id": "06d03978",
      "execution_count": null,
      "outputs": []
    },
    {
      "cell_type": "markdown",
      "metadata": {},
      "source": [
        "To select multiple variables in a data frame, we can provide a character vector with multiple variable names between `[]`."
      ],
      "id": "3989d504"
    },
    {
      "cell_type": "code",
      "metadata": {},
      "source": [
        "mtcars[c(\"mpg\", \"cyl\")]"
      ],
      "id": "70e0de51",
      "execution_count": null,
      "outputs": []
    },
    {
      "cell_type": "markdown",
      "metadata": {},
      "source": [
        "You can also use numeric indices to directly indicate the rows or columns of the data frame that you would like to extract."
      ],
      "id": "13731129"
    },
    {
      "cell_type": "code",
      "metadata": {},
      "source": [
        "mtcars[c(1, 2)]"
      ],
      "id": "b7111c17",
      "execution_count": null,
      "outputs": []
    },
    {
      "cell_type": "markdown",
      "metadata": {},
      "source": [
        "**Conditional Extraction of Data Frames**\n",
        "---\n",
        "\n",
        "\n",
        "Logical expressions can be used to subset a data frame.\n",
        "\n",
        "The following command creates of vector of logical values.\n"
      ],
      "id": "8bc1e4b5"
    },
    {
      "cell_type": "code",
      "metadata": {},
      "source": [
        "mtcars$hp > 250"
      ],
      "id": "20750aec",
      "execution_count": null,
      "outputs": []
    },
    {
      "cell_type": "markdown",
      "metadata": {},
      "source": [
        "This vector can be used to extract rows for all of the `TRUE` values.\n"
      ],
      "id": "8b8aa1c5"
    },
    {
      "cell_type": "code",
      "metadata": {},
      "source": [
        "# extract rows with hp > 250\n",
        "mtcars[mtcars$hp > 250,]"
      ],
      "id": "d1805355",
      "execution_count": null,
      "outputs": []
    },
    {
      "cell_type": "markdown",
      "metadata": {},
      "source": [
        "We can make the logical expression more complicated.\n"
      ],
      "id": "983faf54"
    },
    {
      "cell_type": "code",
      "metadata": {},
      "source": [
        "# return rows with `cyl == 8` and `mpg > 17`\n",
        "# return columns mpg, cyl, disp, hp\n",
        "mtcars[mtcars$cyl == 8 & mtcars$mpg > 17,\n",
        "       c(\"mpg\", \"cyl\", \"disp\", \"hp\")]"
      ],
      "id": "0135a865",
      "execution_count": null,
      "outputs": []
    },
    {
      "cell_type": "markdown",
      "metadata": {},
      "source": [
        "***Modifying Data Frames***\n",
        "\n",
        "---\n",
        "\n",
        "Columns can be added to a data frame using the `$` and assignment operator."
      ],
      "id": "dd2067c9"
    },
    {
      "cell_type": "code",
      "metadata": {},
      "source": [
        "mtcars$kpg <- mtcars$mpg*1.6"
      ],
      "id": "62560470",
      "execution_count": null,
      "outputs": []
    },
    {
      "cell_type": "markdown",
      "metadata": {},
      "source": [
        "***Extraction using the `subset` function***\n",
        "---\n",
        "\n",
        "\n",
        "The `subset` function returns the part of a data frame that meets the specified conditions.\n",
        "\n",
        "The basic usage of this function is: `subset(x, subset, select, drop = FALSE)`\n",
        "\n",
        "-   `x` is the object you want to subset.\n",
        "    -   `x` can be a vector, matrix, or data frame.\n",
        "-   `subset` is a logical expression that indicates the elements or rows of `x` to keep (`TRUE` means keep).\n",
        "-   `select` is a vector that indicates the columns to keep.\n",
        "-   `drop` is a logical value indicating whether the data frame should \"drop\" into a vector if only a single row or column is kept. The default is `FALSE.`.\n",
        "\n",
        "**Your turn**\n",
        "\n",
        "Run the following commands in the Console to use the `subset` function to extract parts of the `mtcars` data frame.\n",
        "\n",
        "What is each command performing?\n"
      ],
      "id": "c8645a40"
    },
    {
      "cell_type": "code",
      "metadata": {},
      "source": [
        "subset(mtcars, subset = gear > 4)"
      ],
      "id": "dc718db9",
      "execution_count": null,
      "outputs": []
    },
    {
      "cell_type": "code",
      "metadata": {},
      "source": [
        "subset(mtcars, select = c(disp, hp, gear))"
      ],
      "id": "dad2b320",
      "execution_count": null,
      "outputs": []
    },
    {
      "cell_type": "code",
      "metadata": {},
      "source": [
        "subset(mtcars, subset = gear > 4, select = c(disp, hp, gear))"
      ],
      "id": "c17978a9",
      "execution_count": null,
      "outputs": []
    },
    {
      "cell_type": "markdown",
      "metadata": {},
      "source": [
        "# Using the pipe operator\n",
        "\n",
        "R's native pipe operator (`|>`) allows you to \"pipe\" the object on the left side of the operator into the first argument of the function on the right side of the operator. The pipe operator is a convenient way to string together numerous steps in a string of commands.\n",
        "\n",
        "When reading code with pipes, the pipe can be thought of as the word \"then\".\n",
        "\n",
        "\n",
        "In the code below, we take `mtcars` *then* subset it based on `disp` and *then* select some columns.\n"
      ],
      "id": "401fbecb"
    },
    {
      "cell_type": "code",
      "metadata": {},
      "source": [
        "subset(mtcars,\n",
        "       subset = disp > 400,\n",
        "       select = c(mpg, disp, hp))"
      ],
      "id": "3569c1c6",
      "execution_count": null,
      "outputs": []
    },
    {
      "cell_type": "code",
      "metadata": {},
      "source": [
        "mtcars |>\n",
        "  subset(subset = disp > 400) |>\n",
        "  subset(select = c(mpg, disp, hp))"
      ],
      "id": "e5586f71",
      "execution_count": null,
      "outputs": []
    },
    {
      "cell_type": "markdown",
      "metadata": {},
      "source": [
        "Here is a complicated sequence of piped commands. What do you think is happening?\n"
      ],
      "id": "ceaa64f4"
    },
    {
      "cell_type": "code",
      "metadata": {},
      "source": [
        "# create new variable, select columns, extract first 5 rows\n",
        "mtcars |>\n",
        "  transform(lp100km = 237.5/mpg) |>\n",
        "  subset(select = c(mpg, lp100km)) |>\n",
        "  head(n = 5)"
      ],
      "id": "af7acb1b",
      "execution_count": null,
      "outputs": []
    }
  ],
  "metadata": {
    "kernelspec": {
      "name": "ir",
      "language": "R",
      "display_name": "R",
      "path": "C:\\Users\\frencjos\\AppData\\Roaming\\jupyter\\kernels\\ir"
    }
  },
  "nbformat": 4,
  "nbformat_minor": 5
}