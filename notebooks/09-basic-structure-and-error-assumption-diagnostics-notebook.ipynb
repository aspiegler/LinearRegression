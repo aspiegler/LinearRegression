{
  "cells": [
    {
      "cell_type": "markdown",
      "metadata": {},
      "source": [
        "# Chapter 9 - Basic structure and error assumption diagnostics\n",
        "\n",
        "Joshua French\n",
        "\n",
        "To open this information in an interactive Colab notebook, click or scan the QR code below.\n",
        "\n",
        "<a href=\"https://colab.research.google.com/github/jfrench/LinearRegression/blob/master/notebooks/09-basic-structure-and-error-assumption-diagnostics-notebook.ipynb\"> <img src=\"https://raw.githubusercontent.com/jfrench/LinearRegression/23b6bb9f948afab5075d92556502a31665bac25b/images/qr-structure-error-diagnostics.svg\"> </a>\n",
        "\n",
        "------------------------------------------------------------------------"
      ],
      "id": "efc27263-8d10-479d-8e97-66a4ec63347f"
    },
    {
      "cell_type": "code",
      "execution_count": null,
      "metadata": {},
      "outputs": [],
      "source": [
        "if(!require(faraway, quietly = TRUE)) {\n",
        "  install.packages(\"faraway\",\n",
        "                   repos = \"https://cran.rstudio.com/\")\n",
        "}\n",
        "if(!require(KingCountyHouses, quietly = TRUE)) {\n",
        "  install.packages(\"KingCountyHouses\",\n",
        "                   repos = \"https://cran.rstudio.com/\")\n",
        "}\n",
        "if(!require(car, quietly = TRUE)) {\n",
        "  install.packages(\"car\",\n",
        "                   repos = \"https://cran.rstudio.com/\")\n",
        "  library(car)\n",
        "}\n",
        "if(!require(lmtest, quietly = TRUE)) {\n",
        "  install.packages(\"lmtest\",\n",
        "                   repos = \"https://cran.rstudio.com/\")\n",
        "  library(lmtest)\n",
        "}"
      ],
      "id": "6d3b21b2-07d4-4caa-8ff6-fa08f2cd92fa"
    },
    {
      "cell_type": "markdown",
      "metadata": {},
      "source": [
        "We adjust some printing options for clarity."
      ],
      "id": "45f94252-4fcc-42e2-8c0f-5e12b61f3082"
    },
    {
      "cell_type": "code",
      "execution_count": null,
      "metadata": {},
      "outputs": [],
      "source": [
        "options(digits = 7, scipen = 2)"
      ],
      "id": "0311671e-0fcd-47f3-a654-fa3d67df02fa"
    },
    {
      "cell_type": "markdown",
      "metadata": {},
      "source": [
        "We discuss basic but effective approaches for assessing the validity of several of the assumptions discussed in the previous notebook.\n",
        "\n",
        "We will focus on assessing assumptions related to:\n",
        "\n",
        "-   Model structure.\n",
        "-   The distribution of the errors.\n",
        "\n",
        "These assumptions tend to be checked in similar ways.\n",
        "\n",
        "# Illustration data sets\n",
        "\n",
        "To facilitate our discussion we will consider two main data sets.\n",
        "\n",
        "## The `prostate` data set\n",
        "\n",
        "The first data set we will consider is the `prostate` data set, which is available in the **faraway** R package. The data set provides information about 97 men who were going to receive a radical prostatectomy.\n",
        "\n",
        "The `prostate` data set is a data frame with 97 rows and 9 columns. The **faraway** package provides the following descriptions of the variables:\n",
        "\n",
        "-   `lcavol`: log(cancer volume).\n",
        "-   `lweight`: log(prostate weight).\n",
        "-   `age`: age in years.\n",
        "-   `lbph`: log(benign prostatic hyperplasia amount).\n",
        "-   `svi`: seminal vesicle invasion.\n",
        "-   `lcp`: log(capsular penetration).\n",
        "-   `gleason`: Gleason score.\n",
        "-   `pgg45`: percentage Gleason scores 4 or 5.\n",
        "-   `lpsa`: log(prostate specific antigen).\n",
        "\n",
        "We load this data set."
      ],
      "id": "4a665bc0-d04b-4bab-886a-e17d77a41636"
    },
    {
      "cell_type": "code",
      "execution_count": null,
      "metadata": {},
      "outputs": [],
      "source": [
        "data(prostate, package = \"faraway\")"
      ],
      "id": "0819ca97-d776-4db8-8a06-2cf55789e76c"
    },
    {
      "cell_type": "markdown",
      "metadata": {},
      "source": [
        "The `svi` variable is a factor, so we convert it to a factor with appropriate levels."
      ],
      "id": "c2d6f859-f6ad-41fb-ba03-7a25a82dbd29"
    },
    {
      "cell_type": "code",
      "execution_count": null,
      "metadata": {},
      "outputs": [],
      "source": [
        "prostate$svi <- factor(prostate$svi, labels = c(\"non-invasive\", \"invasive\"))"
      ],
      "id": "8f7287d5-4ebb-42c2-9f38-0fa28f6b493e"
    },
    {
      "cell_type": "markdown",
      "metadata": {},
      "source": [
        "## The `home_prices` data set\n",
        "\n",
        "We will also use the `home_prices` data set from the **KingCountyHouses** package.\n",
        "\n",
        "The `home_prices` data set contains the sales prices of homes sold in King County, WA between 2014-05-02 and 2015-05-27. The data set is a data frame (tibble) with 21,613 rows and 19 columns. A subset of the relevant variables includes:\n",
        "\n",
        "-   `date_sold`: date of sale (`date`).\n",
        "-   `price`: sale price (log10 units, `numeric`).\n",
        "-   `bedrooms`: number of bedrooms (`numeric`).\n",
        "-   `bathrooms`: number of bathrooms (`numeric`).\n",
        "-   `sqft_living`: size of living space (`numeric`).\n",
        "-   `sqft_lot`: size of property (`numeric`).\n",
        "-   `floors`: number of floors (`numeric`).\n",
        "-   `waterfront`: indicator variable for a waterfront view.\n",
        "-   `view`: a numeric rating of the quality of the home’s view (`numeric`).\n",
        "-   `condition`: a factor variable indicating the condition of the house (poor to very good, `factor`).\n",
        "-   `sqft_above`: size of living space above ground (`numeric`).\n",
        "-   `sqft_basement` :size of living space below ground (`numeric`).\n",
        "-   `yr_built`: year the home was built (`numeric`).\n",
        "-   `year_renovated`: the year renovated and, if not renovated, the year built (`numeric`).\n",
        "-   `zip_code`: the zip code of the home (`factor`).\n",
        "\n",
        "We load the data below."
      ],
      "id": "b1b2f93a-69d9-464f-8f6f-dde6bcd34552"
    },
    {
      "cell_type": "code",
      "execution_count": null,
      "metadata": {},
      "outputs": [],
      "source": [
        "data(home_prices, package = \"KingCountyHouses\")"
      ],
      "id": "3f3015b8-feaf-46ec-80c5-2f433e347847"
    },
    {
      "cell_type": "markdown",
      "metadata": {},
      "source": [
        "We do not wish to work with all of the variables for practical reasons, so we keep only the first 13 variables of the data frame."
      ],
      "id": "01d27255-e5b3-4734-83e7-66d4fdd2e720"
    },
    {
      "cell_type": "code",
      "execution_count": null,
      "metadata": {},
      "outputs": [],
      "source": [
        "home_prices <- home_prices[, 1:13]"
      ],
      "id": "e04c25b0-310d-48f4-9154-879f7a622c27"
    },
    {
      "cell_type": "markdown",
      "metadata": {},
      "source": [
        "We will also remove the `sqft_basement` variable because the `sqrt_above` and `sqft_basement` variables sum to equal `sqft_living`, so we will have an issue with collinearity if we don’t remove one of the variables."
      ],
      "id": "5621344c-f162-4306-8982-8292f445b8cb"
    },
    {
      "cell_type": "code",
      "execution_count": null,
      "metadata": {},
      "outputs": [],
      "source": [
        "home_prices <- home_prices[, -12]"
      ],
      "id": "e8b44a3c-a35f-4be1-b76b-c04cf95eabe9"
    },
    {
      "cell_type": "markdown",
      "metadata": {},
      "source": [
        "Lastly, we remove the `date_sold` variable from `home_prices` since it isn’t in a particularly useful format to use as a regressor in our model."
      ],
      "id": "863e8376-6fba-41ec-9995-675275c3c377"
    },
    {
      "cell_type": "code",
      "execution_count": null,
      "metadata": {},
      "outputs": [],
      "source": [
        "home_prices <- home_prices[, -1]"
      ],
      "id": "7cf3a8d3-eb75-4a2c-b2e5-ce95de84840a"
    },
    {
      "cell_type": "markdown",
      "metadata": {},
      "source": [
        "## Initial fitted models\n",
        "\n",
        "The validity of our assumptions depends on the model fit to the data.\n",
        "\n",
        "For the prostate data we will regress `lpsa` on all the remaining variables in the `prostate` data frame.\n",
        "\n",
        "-   A shortcut for fitting this model is the formula `y ~ .`, where `y` is the response and `.` indicates that all other variables in the data frame should be included as regressors."
      ],
      "id": "3d3327c8-d3d2-42e9-9e3b-735b2a5668c5"
    },
    {
      "cell_type": "code",
      "execution_count": null,
      "metadata": {},
      "outputs": [],
      "source": [
        "lmod_prostate <- lm(lpsa ~ ., data = prostate)\n",
        "coef(lmod_prostate)"
      ],
      "id": "1d695ce0-8306-4775-bb6b-cd6aac9151f5"
    },
    {
      "cell_type": "markdown",
      "metadata": {},
      "source": [
        "Similarly, for the `home_prices` data set, we will regress the `price` variable on all of the remaining variables in `home_prices`."
      ],
      "id": "f365385e-b0f6-4eaf-b94b-0c2f04a4f881"
    },
    {
      "cell_type": "code",
      "execution_count": null,
      "metadata": {},
      "outputs": [],
      "source": [
        "lmod_homes <- lm(price ~ ., data = home_prices)\n",
        "coef(lmod_homes)"
      ],
      "id": "62584f9b-ff13-41c5-881b-8ead3d6cc69b"
    },
    {
      "cell_type": "markdown",
      "metadata": {},
      "source": [
        "# Checking structure\n",
        "\n",
        "As mentioned in the previous chapter, the most important assumption we make for our linear models is that the model structure is correct.\n",
        "\n",
        "Technically, this assumption is impossible to verify.\n",
        "\n",
        "Instead, we verify that the model does an adequate job of approximating the behavior of the observed data.\n",
        "\n",
        "If the model is unable to mimick the behavior of the observed data, then the correct model structure assumption is violated.\n",
        "\n",
        "## Residual plot\n",
        "\n",
        "The most basic approach for assessing whether the structural assumption is satisfied uses a plot of the residuals versus fitted values.\n",
        "\n",
        "This assumption is satisfied (technically, not violated) if the residuals appear to be randomly and symmetrically scattered around a horizontal line running through 0 on the y-axis.\n",
        "\n",
        "This assumption is violated if the residuals appear to have a mean different from zero for certain fitted values because one of our assumptions is that the errors have mean 0 for any combination of regressors.\n",
        "\n",
        "-   A violation will often appear as a systematic trend or curve in the residual plot.\n",
        "-   In general, this assumption is violated if the residuals have streaks of mostly positive or negative values for continuous subsets of the fitted values.\n",
        "\n",
        "Consider the residual plot below."
      ],
      "id": "b17b53fc-8250-47d3-9f2d-e2df104aa9e5"
    },
    {
      "cell_type": "code",
      "execution_count": null,
      "metadata": {},
      "outputs": [
        {
          "output_type": "display_data",
          "metadata": {},
          "data": {
            "image/png": "[encoded data removed]"
          }
        }
      ],
      "source": [],
      "id": "0fa85dd2-393c-450a-a402-b0b264fe30f9"
    },
    {
      "cell_type": "markdown",
      "metadata": {},
      "source": [
        "The residual plot above is consistent with a correct model structure.\n",
        "\n",
        "-   The residuals are randomly scattered and symmetric around the horizontal line running through the y-axis at 0.\n",
        "-   A moving average of the residuals appears to be close to 0 as we move from left to right along the x-axis.\n",
        "\n",
        "A different residual plot is shown below."
      ],
      "id": "bb1805e3-bb18-480e-83bc-a2fdb0cda6aa"
    },
    {
      "cell_type": "code",
      "execution_count": null,
      "metadata": {},
      "outputs": [
        {
          "output_type": "display_data",
          "metadata": {},
          "data": {
            "image/png": "[encoded data removed]"
          }
        }
      ],
      "source": [],
      "id": "1a991800-56ef-4bee-8ae0-516eb46debcd"
    },
    {
      "cell_type": "markdown",
      "metadata": {},
      "source": [
        "The plot above shows evidence of a structural problem.\n",
        "\n",
        "-   The data systematically curve as we move from left to right along the x-axis.\n",
        "-   The mean of the residuals is clearly positive when the fitted values are less than 2.5, negative between 2.5 and 5.75, and positive for fitted values greater than 5.75.\n",
        "-   In this second example, we are missing a needed quadratic regressor in our model.\n",
        "\n",
        "## Intuition behind the residual plot\n",
        "\n",
        "Why does the residual plot approach work for assessing a structural problem in our fitted model?\n",
        "\n",
        "-   We assume that the errors have mean zero for any combination of our predictors.\n",
        "-   If our fitted model adequately captures the mean of the data, then the residuals will have the same property. We proved this in the Basic Theoretical Results notebook.\n",
        "-   We expect our residuals to randomly fluctuate above and below 0 with no systematic pattern related to a specific combination of regressors (and specific combinations of regressors are used to determine the fitted values).\n",
        "\n",
        "Assessing whether the structure of the model is correct is difficult to separate from assessing the validity of the assumption that the mean of the errors is zero.\n",
        "\n",
        "-   If the errors didn’t have mean zero but the model was correct, then our regression model would be non-identifiable because we wouldn’t be able to separate the mean of the errors from the mean of the other components of the model.\n",
        "-   This is why we assume the mean of the errors is zero.\n",
        "\n",
        "A related approach for assessing the validity of the structural assumption is to examine plots of the residuals versus each predictor.\n",
        "\n",
        "-   The structural assumption isn’t violated as long as the residuals appear to be randomly and symmetrically scattered around a horizontal line running through 0 on the y-axis .\n",
        "\n",
        "## Structural check for `prostate` data\n",
        "\n",
        "We examine a plot of the residuals versus fitted values for the model we fit to the `prostate` data.\n",
        "\n",
        "The `residualPlot` function in the **car** package is a convenient way of producing a plot of the residuals versus fitted values for a fitted model.\n",
        "\n",
        "The `residualPlot` function is a complex function, so we set `quadratic = FALSE` to get a simple plot."
      ],
      "id": "f9dbc2b9-65b3-4ed5-ba29-fa93a6cc7b00"
    },
    {
      "cell_type": "code",
      "execution_count": null,
      "metadata": {},
      "outputs": [],
      "source": [
        "residualPlot(lmod_prostate, quadratic = FALSE)"
      ],
      "id": "a9acfdaa-e17b-4f52-aeac-d1663542fc84"
    },
    {
      "cell_type": "markdown",
      "metadata": {},
      "source": [
        "The points appear to be randomly scattered above and below 0 as we move from left to right across the x-axis. There is no clear violate of the structural assumption.\n",
        "\n",
        "The `residualsPlots` function in the **car** package will produce plots of the residuals versus each first-order predictor and the fitted values.\n",
        "\n",
        "-   Setting `tests = FALSE` and `quadratic = FALSE` simplifies the output produced by the function.\n",
        "-   Setting `fitted = FALSE` prevents the function from displaying a plot of the residuals versus fitted values.\n",
        "\n",
        "We examine the residual plots for the model fit to the `prostate` data below. Because there would be 9 plots by default, we select only 4 of the predictors to simplify our display."
      ],
      "id": "0ef49f3f-301f-4423-89e5-136646b220c4"
    },
    {
      "cell_type": "code",
      "execution_count": null,
      "metadata": {},
      "outputs": [],
      "source": [
        "residualPlots(lmod_prostate, \n",
        "              terms = ~ lcavol + age + svi + gleason,\n",
        "              tests = FALSE, quadratic = FALSE, fitted = FALSE,\n",
        "              smooth = TRUE)"
      ],
      "id": "7f12d5ac-b8a5-40d2-9c91-2507d6900b2a"
    },
    {
      "cell_type": "markdown",
      "metadata": {},
      "source": [
        "The residual plots associated with `lcavol` and `age` look relatively symmetric around 0 with no clear patterns.\n",
        "\n",
        "For a categorical predictor like `svi`, we want the box plot of the residuals to be symmetric around zero, which is what we see for this data. There is no evidence of a structural problem.\n",
        "\n",
        "Looking at the residual plot for the `gleason` predictor, the residual values tend to be lower for larger values of `gleason`.\n",
        "\n",
        "-   There are relatively few observations with high `gleason` values, so it is difficult to draw a definitive conclusion. This is not clear evidence of a structural problem.\n",
        "-   This may be something to explore further.\n",
        "\n",
        "## Structural check for `home_prices` data\n",
        "\n",
        "We now examine a plot of the residuals versus fitted values for the `home_prices` data."
      ],
      "id": "bad7749e-a554-423b-a9a6-b7815c19c680"
    },
    {
      "cell_type": "code",
      "execution_count": null,
      "metadata": {},
      "outputs": [],
      "source": [
        "residualPlot(lmod_homes, quadratic = FALSE)"
      ],
      "id": "124a328d-f94a-4b93-a070-561b6cca622f"
    },
    {
      "cell_type": "markdown",
      "metadata": {},
      "source": [
        "There are many more points in this plot compared to the residual plot for the `prostate` data, making it more difficult to assess this assumption.\n",
        "\n",
        "The bulk of the data between the fitted values 5.25 and 6.25 is approximately symmetric around zero (as far as we can tell).\n",
        "\n",
        "There is one unusual point in the upper left part of the plot.\n",
        "\n",
        "-   This is an **outlier**.\n",
        "-   Since this is only a single unusual point in a data set with many observations, this is not something to be concerned about.\n",
        "\n",
        "However, the residuals begin to systematically fall below 0 when the fitted values are above 6.25.\n",
        "\n",
        "-   This is an indication that we have a structural deficiency in our fitted model that should be addressed.\n",
        "\n",
        "# Checking constant variance\n",
        "\n",
        "Another key assumption is that the variance of the errors is constant for all combinations of regressor values.\n",
        "\n",
        "Similar to the check of structure, we can check this assumption through residual plots.\n",
        "\n",
        "However, it is important to note that even if the errors have constant variance, the residuals do not.\n",
        "\n",
        "Even if the variance of the errors is constant,\n",
        "\n",
        "$$\\mathrm{var}(\\hat{\\epsilon}_i \\mid \\mathbf{X}) = \\sigma^2(1-h_i), \\quad i = 1,2,\\ldots,n,$$\n",
        "\n",
        "where $h_i=\\mathbf{H}_{i,i}$ is $i$th diagonal element of the hat matrix $\\mathbf{H}=\\mathbf{X}(\\mathbf{X}^T\\mathbf{X})^{-1}\\mathbf{X}^T$.\n",
        "\n",
        "-   $h_1, h_2, \\ldots, h_n$ are known as the set of **leverage** or **hat values**.\n",
        "\n",
        "It is recommended that instead of assessing the validity of this assumption with the ordinary residuals, $\\hat{\\epsilon}_1, \\ldots, \\hat{\\epsilon}_n$, we instead use the **standardized residuals** given by the equation\n",
        "\n",
        "$$r_i = \\frac{\\hat{\\epsilon}_i}{\\hat{\\sigma}\\sqrt{1-h_i}}, \\quad i=1,2,\\ldots,n.$$\n",
        "\n",
        "Under the standard assumptions, the standardized residuals have mean 0 and variance 1.\n",
        "\n",
        "## Standardized residual plot\n",
        "\n",
        "The constant error variance assumption can be assessed using plots of the standardized residuals versus the fitted values or predictors.\n",
        "\n",
        "-   If the constant error variance assumption is satisfied, then the points of these plots should have constant thickness, symmetric about 0 as we move from left to right along the x-axis.\n",
        "\n",
        "Consider the 4 plots below:\n",
        "\n",
        "-   Panel (a) shows data that perfectly satisfy this assumption. However, the plot itself doesn’t have perfect constant thickness as we move from left to right along the x-axis.\n",
        "-   Panel (b) shows data with increasing variability as we move from left to right across the x-axis. This is difficult to see in the plot because the variability increases but then appears to decease.\n",
        "-   Panel (c) shows data that has slightly decreasing variability as we move from left to right along the x-axis. However, this is difficult to see in the plot..\n",
        "-   Panel (d) shows data that has a structural issue (notice the curve in the data compared to the 0-line) while the points also increase in variability as we move from left to right along the x-axis."
      ],
      "id": "aab678a9-f8d2-4b5f-80a6-58c5f2bf8e6a"
    },
    {
      "cell_type": "code",
      "execution_count": null,
      "metadata": {},
      "outputs": [
        {
          "output_type": "display_data",
          "metadata": {},
          "data": {
            "image/png": "[encoded data removed]"
          }
        }
      ],
      "source": [],
      "id": "2a1d424b-c49b-4ea8-9da6-e1345039b5fe"
    },
    {
      "cell_type": "markdown",
      "metadata": {},
      "source": [
        "The examples in the graphic above show that our plots can be inconclusive or difficult to interpret, even when the constant error variance assumption is technically satisfied (Panel (a)) or violated (Panels (b) and (c)).\n",
        "\n",
        "What should we do if the standardized residual plots are inconclusive for testing the constant error variance assumption?\n",
        "\n",
        "-   We don’t conclude an assumption is violated unless the violation is clear.\n",
        "-   Try to use a different method.\n",
        "\n",
        "## Scale-location plot\n",
        "\n",
        "A scale-location plot can be used to assess whether the error variance is constant when the standardized residual plot is inconclusive AND the structural assumption doesn’t appear to be violated.\n",
        "\n",
        "A **scale-location** plot is a plot of $\\sqrt{|\\hat{\\boldsymbol{\\epsilon}}|}$) versus $\\hat{\\mathbf{y}}$, i.e., a plot of the square root of the absolute value of the residuals versus the fitted values.\n",
        "\n",
        "-   If the constant error variance assumption is satisfied (i.e., not clearly violated), then the points of this plot should should have constant thickness as we move from left to right along the x-axis.\n",
        "\n",
        "Recall that in panel (c) of the previous plot, we thought there was a slight decrease in the variability of the residuals as we moved from left-to-right across the x-axis.\n",
        "\n",
        "We produce a scale-location plot for the data in panel (c) of the plot above. That scale-location plot is shown below.\n",
        "\n",
        "-   The red line is a visual indication of how the variability changes from left to right and should be approximately flat if this assumption is not violated.\n",
        "-   The red line goes down from left-to-right in our plot, which indicates a violation of the constant error variance assumption."
      ],
      "id": "f6c652e9-2872-4fc0-ad7c-231654e45d36"
    },
    {
      "cell_type": "code",
      "execution_count": null,
      "metadata": {},
      "outputs": [
        {
          "output_type": "display_data",
          "metadata": {},
          "data": {
            "image/png": "[encoded data removed]"
          }
        }
      ],
      "source": [],
      "id": "855c60c6-9d6b-41b1-bf13-c47be8446329"
    },
    {
      "cell_type": "markdown",
      "metadata": {},
      "source": [
        "## Constant variance check for `prostate` data\n",
        "\n",
        "We now assess the validity of the constant error variance assumption for the `prostate` data.\n",
        "\n",
        "The `residualPlot` function from the **car** package can be used to construct a plot of the standardized residuals versus the fitted values.\n",
        "\n",
        "-   Set `type = \"rstandard\"`.\n",
        "\n",
        "We produce a standardized residual plot for the model fitted to the `prostate` data."
      ],
      "id": "a206438c-47de-4e33-806a-9aa36fd4dc3c"
    },
    {
      "cell_type": "code",
      "execution_count": null,
      "metadata": {},
      "outputs": [],
      "source": [
        "residualPlot(lmod_prostate, type = \"rstandard\", quadratic = FALSE)"
      ],
      "id": "55476ebb-a028-45c3-ad3d-3f3175ea5291"
    },
    {
      "cell_type": "markdown",
      "metadata": {},
      "source": [
        "The plot of the standardized residuals versus the fitted values has almost perfectly constant thickness as we move from left to right along the x-axis, so there is no indication of a non-constant error variance issue for our fitted model.\n",
        "\n",
        "We can produce plots of the standardized residuals versus the predictors using the `residualPlots` function.\n",
        "\n",
        "-   We must specify `type == \"rstandard\"`.\n",
        "\n",
        "There is no indication of a violation of the constant error variance assumption in the plots below."
      ],
      "id": "42b21f19-01ad-473b-b829-eadc15f71e7a"
    },
    {
      "cell_type": "code",
      "execution_count": null,
      "metadata": {},
      "outputs": [],
      "source": [
        "residualPlots(lmod_prostate, type = \"rstandard\",\n",
        "              terms = ~ lcavol + age + svi + pgg45,\n",
        "              tests = FALSE, quadratic = FALSE, fitted = FALSE)"
      ],
      "id": "a2d14dbb-80d0-4002-ac9f-c8ade9c2beb5"
    },
    {
      "cell_type": "markdown",
      "metadata": {},
      "source": [
        "## Constant variance check for `home_prices` data\n",
        "\n",
        "We now assess the validity of the constant error variance assumption for the `home_prices` data.\n",
        "\n",
        "Our standardized residual plot seems to show clear evidence that the variability tends to decrease as we move from left to right along the x-axis."
      ],
      "id": "d23e6815-dbf9-4fc7-b22c-bee520f592ae"
    },
    {
      "cell_type": "code",
      "execution_count": null,
      "metadata": {},
      "outputs": [],
      "source": [
        "residualPlot(lmod_homes, type = \"rstandard\", quadratic = FALSE)"
      ],
      "id": "418778ce-2616-4f55-9c94-5183b6780668"
    },
    {
      "cell_type": "markdown",
      "metadata": {},
      "source": [
        "The verify our belief, we can look at a scale-location plot for the fitted model\n",
        "\n",
        "The `plot` function can be used to produce a scale-location plot.\n",
        "\n",
        "-   The `plot` function has a method for `lm` objects.\n",
        "-   Setting the `which` argument to 3 will produce a scale-location plot.\n",
        "\n",
        "We produce a scale-location plot of the fitted model for `home_prices`."
      ],
      "id": "b105fdce-208f-4a4c-850a-12431e96edf7"
    },
    {
      "cell_type": "code",
      "execution_count": null,
      "metadata": {},
      "outputs": [],
      "source": [
        "plot(lmod_homes, which = 3)"
      ],
      "id": "ddab91a8-0120-45d5-98b9-c0b2eebb1c0b"
    },
    {
      "cell_type": "markdown",
      "metadata": {},
      "source": [
        "The red line shows that the variability decreases as we move from left to right. It then appears to increase, but this is an artifact of the model having a structural deficiency for larger fitted values.\n",
        "\n",
        "Focusing on the fitted values less than 6.25, we do see the absolute value of the standardized residuals tend to decrease as we move from left to right.\n",
        "\n",
        "# Checking normality\n",
        "\n",
        "A key assumption of many of our hypothesis tests and confidence intervals is that the errors are normally distributed.\n",
        "\n",
        "We have previously shown our residuals are normal if the errors are normal.\n",
        "\n",
        "-   Our residuals also have mean 0 if the errors have mean zero.\n",
        "\n",
        "## The Q-q plot\n",
        "\n",
        "To assess whether the assumption of normally-distributed errors is reasonable, we will visually compare the residuals to the quantiles we would expect to get from the same number of i.i.d. normally-distributed observations with mean 0 and variance 1.\n",
        "\n",
        "-   This plot is called a quantile-quantile or **q-q plot**.\n",
        "-   If the normality assumption is satisfied, then a a plot of the observed values compared to the theoretical quantiles will fall approximately in a straight line.\n",
        "\n",
        "The `qqnorm` function can be used to create a q-q plot of data we believe to come from a normal distribution.\n",
        "\n",
        "We can add a reference line to our q-q plot using the `qqline` function to see how closely the points fall to a straight line.\n",
        "\n",
        "We provide a q-q plot example below when the data are independent, identically-distributed (i.i.d.) normal normal random variables with a mean of 0 and a variance of 1."
      ],
      "id": "c5ab6a92-545c-42c1-85e2-8d69edd06351"
    },
    {
      "cell_type": "code",
      "execution_count": null,
      "metadata": {},
      "outputs": [],
      "source": [
        "set.seed(19)\n",
        "e <- rnorm(30)\n",
        "qqnorm(e)\n",
        "qqline(e)"
      ],
      "id": "4c3dcc5c-50a1-4bb1-8f9f-70dafeedac61"
    },
    {
      "cell_type": "markdown",
      "metadata": {},
      "source": [
        "The points of the q-q plot fall fairly close to a straight line, which is what we expect when the sample observations are a i.i.d. sample from a normal distribution.\n",
        "\n",
        "There tends to be more variability in the tails of a q-q plot (i.e., for the smallest and largest quantiles) so those points tend to fall a little farther from a straight line.\n",
        "\n",
        "Observations that deviate substantially from normality will result in a q-q plot that doesn’t look like a straight line of points.\n",
        "\n",
        "Consider a q-q plot of data sampled from a chi-square distribution with 5 degrees of freedom.\n",
        "\n",
        "-   This distribution is positively skewed.\n",
        "-   The points of the q-q plot are curved and do not follow an approximately straight line."
      ],
      "id": "2d72b527-1975-4ba4-9430-eafd234c7fdb"
    },
    {
      "cell_type": "code",
      "execution_count": null,
      "metadata": {},
      "outputs": [],
      "source": [
        "set.seed(22)\n",
        "e2 <- rchisq(30, 5)\n",
        "qqnorm(e2)\n",
        "qqline(e2)"
      ],
      "id": "7ea1eff8-ab4f-43ea-9431-1944f57d85c9"
    },
    {
      "cell_type": "markdown",
      "metadata": {},
      "source": [
        "Q-q plots are generally constructed under the assumption that the data are independent and identically distributed.\n",
        "\n",
        "-   Ordinary residuals do not have constant variance.\n",
        "-   We should scale the residuals to have constant variance prior to constructing a q-q plot.\n",
        "-   Though the residuals are not independent, the correlation is typically weak and can be ignored when constructing a q-q plot.\n",
        "\n",
        "The **standardized residuals** are one form of scaled residuals with variance equal to 1.\n",
        "\n",
        "The **studentized residuals** are another form of scaled residuals with variance of 1.\n",
        "\n",
        "-   The denominator used to scale the studentized residuals uses a different estimate of the error variance, $\\sigma^2$, than the standardized residuals. We do not discuss those details here.\n",
        "-   The studentized residuals should be have a $t$ distribution with $n-p-1$ degrees of freedom under the standard assumptions, assuming our model has $p$ estimated regression coefficients.\n",
        "\n",
        "Standardized or studentized residuals should be used to assess the normality assumption.\n",
        "\n",
        "The `qqPlot` function in the **car** packages produces q-q plots of the *studentized* residuals along with confidence intervals that quantify how much variability in the residuals is expected with a specified confidence level.\n",
        "\n",
        "## The Shapiro-Wilk test\n",
        "\n",
        "Another approach to assess normality is the Shapiro-Wilk test (Shapiro and Wilk 1965).\n",
        "\n",
        "The null hypothesis for this test is that the data are a random sample from a normal distribution.\n",
        "\n",
        "The alternative hypothesis is that the data are not a random sample from a normal distribution.\n",
        "\n",
        "The test statistic is a complicated function of order statistics, and is not directly needed for our purposes, so we do not provide its formula.\n",
        "\n",
        "If the p-value of the Shapiro-Wilk test is less then the specified significance level, then we conclude that the data are not a random sample from a normal distribution.\n",
        "\n",
        "Otherwise, we fail to reject the null hypothesis that the data are a random sample from a normal distribution.\n",
        "\n",
        "The Shapiro-Wilk test can be applied to a vector of data using the `shapiro.test` function.\n",
        "\n",
        "## Normality check for `prostate` data\n",
        "\n",
        "We now use the `qqPlot` function to create a q-q plot of the studentized residuals for the model fitted to the prostate data."
      ],
      "id": "afc4d949-785f-4e68-839a-4c06aedab27f"
    },
    {
      "cell_type": "code",
      "execution_count": null,
      "metadata": {},
      "outputs": [],
      "source": [
        "qqPlot(lmod_prostate)"
      ],
      "id": "7c73a3ae-3a12-443e-aaee-853f3d4fd1ce"
    },
    {
      "cell_type": "markdown",
      "metadata": {},
      "source": [
        "The points of the q-q plot fall close to a straight line, so the assumption of normally-distributed errors appears to be reasonable assumption for the fitted model.\n",
        "\n",
        "The `qqPlot` function also produces pointwise 95% confidence envelopes for the quantiles, giving us an idea of how much the points can deviate from a straight line without the assumption being violated.\n",
        "\n",
        "-   The envelopes are pointwise, which means they don’t adjust for multiple comparisons.\n",
        "\n",
        "To help confirm our belief, we apply the Shapiro-Wilk test to the standardized residuals of our fitted model.\n",
        "\n",
        "-   We use the `rstandard` function to extract the standardized residuals from our fitted model."
      ],
      "id": "11c9f3b6-9bb6-43d1-ab86-457ea04321b6"
    },
    {
      "cell_type": "code",
      "execution_count": null,
      "metadata": {},
      "outputs": [],
      "source": [
        "shapiro.test(rstandard(lmod_prostate))"
      ],
      "id": "90826a66-911a-4971-b966-e5750b5c500d"
    },
    {
      "cell_type": "markdown",
      "metadata": {},
      "source": [
        "Since our p-value is large, we believe our residuals (and by proxy, our errors) are a sample from a normal distribution.\n",
        "\n",
        "## Normality check for `home_prices` data\n",
        "\n",
        "We start with a q-q plot of the studentized residuals of the fitted model for the `home_prices` data."
      ],
      "id": "ae9fde19-4bb8-4948-909d-612994cb2472"
    },
    {
      "cell_type": "code",
      "execution_count": null,
      "metadata": {},
      "outputs": [],
      "source": [
        "qqPlot(lmod_homes)"
      ],
      "id": "67bd3197-2844-453d-94f8-acaf57d0d2e0"
    },
    {
      "cell_type": "markdown",
      "metadata": {},
      "source": [
        "There are so many points in our plot that it is difficult to assess the central part of the plot. However, it is clear that the tails of the q-q plot deviate from a straight line.\n",
        "\n",
        "-   The normal error assumption appears to be violated for our fitted model.\n",
        "\n",
        "We could confirm our beliefs using the Shapiro-Wilk test, but the R function takes a maximum of 5000 observations, and we have over 20,000 residuals.\n",
        "\n",
        "Even though the normal error assumption appears to be violated for our fitted model, this may not be an issue in practice.\n",
        "\n",
        "-   The Central Limit Theorem applies to our estimated coefficients, so our confidence interval and hypothesis test procedures should still be approximately valid.\n",
        "-   Our prediction intervals are very sensitive to the normality assumption, so that type of inference should not be trusted when the normal error assumption is violated.\n",
        "\n",
        "# Checking for correlated errors\n",
        "\n",
        "Our errors are supposed to be uncorrelated.\n",
        "\n",
        "This assumption is impractical to check unless our data are time series or longitudinal data (observations observed over a series of time) or spatial data (the observations are associated with a specific geographic location).\n",
        "\n",
        "We will learn how to assess this assumption for time series data.\n",
        "\n",
        "If the data are not time series or spatial data then we don’t need to bother checking this assumption.\n",
        "\n",
        "If the errors, $\\boldsymbol\\epsilon$, are uncorrelated, then the residuals, $\\hat{\\boldsymbol\\epsilon}$, are typically close to uncorrelated.\n",
        "\n",
        "Conversely, if the residuals are highly correlated, then it is unlikely that the errors are uncorrelated.\n",
        "\n",
        "We will use the residuals as a proxy to assess whether the errors are temporally correlated.\n",
        "\n",
        "We will illustrate checking this assumption using the monthly total of international airline passengers in thousands from 1949 to 1960, which is a classic data set provided by Box and Gwilym M Jenkins (1994).\n",
        "\n",
        "-   The data are available in the `AirPassengers` data set in the **datasets** package.\n",
        "\n",
        "We first convert the data to a more usable form for our purposes. We will let month 1 be January of 1949 and month 144 be December of 1960 (the 12th month of the 12th year)"
      ],
      "id": "91a11584-3127-47c5-b368-6382d7462681"
    },
    {
      "cell_type": "code",
      "execution_count": null,
      "metadata": {},
      "outputs": [],
      "source": [
        "air <- data.frame(month = 1:144, passengers = c(AirPassengers))"
      ],
      "id": "5ada76e8-f724-431d-9df3-fc5b916db583"
    },
    {
      "cell_type": "markdown",
      "metadata": {},
      "source": [
        "We begin by creating a scatter plot of the passenger totals versus the month."
      ],
      "id": "a5e079fa-b4c6-4484-92da-71c2742a5818"
    },
    {
      "cell_type": "code",
      "execution_count": null,
      "metadata": {},
      "outputs": [],
      "source": [
        "plot(passengers ~ month, data = air)"
      ],
      "id": "47a48173-67d6-40a8-bb33-c15c330b525d"
    },
    {
      "cell_type": "markdown",
      "metadata": {},
      "source": [
        "The passenger totals are clearly increasing over time and also increasing in variability.\n",
        "\n",
        "We take the `log` of `passengers` to correct for the increasing variability of that variable over time.\n",
        "\n",
        "-   The transformed data have more constant variance over time."
      ],
      "id": "20787617-84a0-4220-b027-766f43bb3c2e"
    },
    {
      "cell_type": "code",
      "execution_count": null,
      "metadata": {},
      "outputs": [],
      "source": [
        "plot(log(passengers) ~ month, data = air)"
      ],
      "id": "d179509e-bdc3-425b-aa9a-92eb4cbffc14"
    },
    {
      "cell_type": "markdown",
      "metadata": {},
      "source": [
        "We will regress `log(passengers)` on `month` and then discuss diagnostics to assess whether the residuals are temporally correlated."
      ],
      "id": "ac247654-76f3-4378-bdca-db96a053b9eb"
    },
    {
      "cell_type": "code",
      "execution_count": null,
      "metadata": {},
      "outputs": [],
      "source": [
        "lmod_air <- lm(log(passengers) ~ month, data = air)"
      ],
      "id": "287dcea0-70b5-4244-9676-2f7c708b3a09"
    },
    {
      "cell_type": "markdown",
      "metadata": {},
      "source": [
        "## Residuals versus time plot\n",
        "\n",
        "The easiest way to check for temporally correlated residuals in time series data is to plot the residuals sequentially over time.\n",
        "\n",
        "-   If the residuals tend to cluster with sequences of positive or negative residuals, then the data have a positive temporal correlation.\n",
        "\n",
        "We create a scatter plot of the residuals versus month for the model fit to the passengers data.\n",
        "\n",
        "-   We add a horizontal reference line at $y = 0$."
      ],
      "id": "ae9a5d74-d835-4774-9bd8-60c706e941ef"
    },
    {
      "cell_type": "code",
      "execution_count": null,
      "metadata": {},
      "outputs": [],
      "source": [
        "plot(residuals(lmod_air) ~ month, data = air, ylab = \"residuals\")\n",
        "abline(0, 0)"
      ],
      "id": "17d81125-45b5-4684-8aa8-354357a20d9b"
    },
    {
      "cell_type": "markdown",
      "metadata": {},
      "source": [
        "The pattern is difficult to identify because there are so many points in our plot.\n",
        "\n",
        "If we focus on the first 24 months of data, we can clearly see sequences of times where the residuals are almost all positive or almost all negative.\n",
        "\n",
        "-   The residuals appear to have a positive temporal correlation."
      ],
      "id": "8d1d7f45-a348-4ceb-96e8-12f648eae2c9"
    },
    {
      "cell_type": "code",
      "execution_count": null,
      "metadata": {},
      "outputs": [],
      "source": [
        "plot(residuals(lmod_air) ~ month, data = air,\n",
        "     ylab = \"residuals\", xlim = c(0, 24))\n",
        "abline(0, 0)"
      ],
      "id": "cb7cabe4-c48a-417e-9d6b-be9695d8fc71"
    },
    {
      "cell_type": "markdown",
      "metadata": {},
      "source": [
        "## Successive residual pairs plot\n",
        "\n",
        "A better way to assess whether there is strong temporal correlation in the residuals is to plot pairs of successive residuals versus each other, i.e., to plot $\\hat{\\epsilon}_{i+1}$ versus $\\hat{\\epsilon}_i$ for $i=1,2,\\ldots,n-1$.\n",
        "\n",
        "-   This is a scatter plot of the pairs $(\\hat{\\epsilon}_i, \\hat{\\epsilon}_{i+1})$ for $i=1,2,\\ldots,n-1$.\n",
        "-   If the successive residuals show a positive trend then there is positive temporal correlation in the residuals.\n",
        "-   If the successive residuals show a negative trend then there is negative temporal correlation in the residuals.\n",
        "    -   Negative correlation is very difficult to see visually when looking at a plot of the residuals over time because the pattern will look random.\n",
        "-   If the successive residuals appear to be a random scatter around 0, then there is no evidence of temporal correlation in the residuals.\n",
        "\n",
        "To construct a plot of successive residual pairs we can use the following code."
      ],
      "id": "94a80dbc-5f86-42e6-8138-c9c999ba90d6"
    },
    {
      "cell_type": "code",
      "execution_count": null,
      "metadata": {},
      "outputs": [],
      "source": [
        "n <- nobs(lmod_air)\n",
        "ehat <- residuals(lmod_air)\n",
        "plot(ehat[2:n] ~ ehat[1:(n-1)],\n",
        "     xlab = expression(hat(epsilon)[i]),\n",
        "     ylab =expression(hat(epsilon)[i+1]))\n",
        "abline(h = 0 , v = 0, col = \"grey\")"
      ],
      "id": "dfd21751-17dc-4a17-a07c-698b05f102cf"
    },
    {
      "cell_type": "markdown",
      "metadata": {},
      "source": [
        "`ehat[2:n]` extracts the last $n-1$ residuals while `ehat[1:(n-1)]` extracts the first $n-1$ residuals.\n",
        "\n",
        "The remaining code adds horizontal and vertical reference lines at $y=0$ and $x=0$, respectively.\n",
        "\n",
        "Since the successive residual pairs plot has a positive trend, there is clear evidence of positive temporal correlation among the residuals (and by proxy, the errors).\n",
        "\n",
        "If either of the previous plots do not provide a satisfactory conclusion, then we can use the Durbin-Watson test to draw a definitive conclusion.\n",
        "\n",
        "## The Durbin-Watson test\n",
        "\n",
        "The **Durbin-Watson test** Durbin and Watson (1951) is a formal test for assessing whether the residuals are temporally correlated.\n",
        "\n",
        "Let $\\rho$ denote the temporal correlation for a “population of residuals”.\n",
        "\n",
        "-   Our observed residuals are treated as a random sample from that population.\n",
        "\n",
        "The null hypothesis of the Durbin-Watson test is $$\n",
        "H_0: \\text{The residuals are uncorrelated over time}, \\rho = 0.\n",
        "$$ The alternative hypothesis of the Durbin-Watson test is $$\n",
        "H_a: \\text{The residuals are correlated over time in some way}, (\\rho \\neq 0, \\rho > 0, \\text{ or }\\rho < 0).\n",
        "$$\n",
        "\n",
        "The test statistic for the Durbin-Watson test relies on comparing successive residuals and is given by the expression $$\n",
        "DW = \\frac{\\sum_{i=2}^n(\\hat{\\epsilon}_i - \\hat{\\epsilon}_{i-1})^2}{\\sum_{i=1}^n \\hat{\\epsilon}_i^2}.\n",
        "$$\n",
        "\n",
        "If we apply the Durbin-Watson test to our residuals and get a small p-value then it indicates that the residuals have a significant temporal correlation across time.\n",
        "\n",
        "The `dwtest` function in the **lmtest** package can be used to apply the Durbin-Watson test to a fitted model.\n",
        "\n",
        "-   The first argument is a fitted `lm` object.\n",
        "-   The `alternative` argument can be changed to perform an upper-tailed test ($\\rho > 0$, `alternative = \"greater\"`), a two-tailed test ($\\rho \\neq 0$, `alternative = \"two.sided\"`), or lower-tailed test ($\\rho < 0$, `alternative = \"less\"`).\n",
        "\n",
        "We perform an upper-tailed Durbin-Watson test on the model we fit to the airline passengers data."
      ],
      "id": "fa40e423-0261-4ef8-8889-67e9fd4e7697"
    },
    {
      "cell_type": "code",
      "execution_count": null,
      "metadata": {},
      "outputs": [],
      "source": [
        "dwtest(lmod_air, alternative = \"greater\")"
      ],
      "id": "6dae2980-6f70-401a-ad55-28d607ccf2ff"
    },
    {
      "cell_type": "markdown",
      "metadata": {},
      "source": [
        "The p-value for this test is close to 0, so we conclude that there is positive temporal correlation among the residuals over time.\n",
        "\n",
        "# Summary of Methods for Checking Error Assumptions\n",
        "\n",
        "**Structural assumption**\n",
        "\n",
        "-   Plot of residuals versus fitted values.\n",
        "-   Plot of residuals versus each predictor.\n",
        "    -   For both plots, if this assumption is satisfied, the residuals should be symmetrically and randomly scattered around a horizontal line at $y=0$ as we move from left to right along the x-axis.\n",
        "    -   If the mean of the residuals appears to differ from zero as we move from left to right along the x-axis, then the structural assumption is violated.\n",
        "\n",
        "**Constant error variance assumption**\n",
        "\n",
        "-   Plot of standardized residuals versus fitted values.\n",
        "-   Plot of standardized residuals versus each predictor.\n",
        "    -   For both plots, if this assumption is satisfied, then the points should have constant thickness around a horizontal line at $y=0$ as we move from left to right along the x-axis.\n",
        "-   Plot of $\\sqrt{| \\hat{\\epsilon} |}$ versus fitted values.\n",
        "    -   Only use this check if the structural assumption appears to be satisfied.\n",
        "    -   If this assumption is satisfied, then the points of the plot should have constant thickness as we move from left to right along the x-axis.\n",
        "\n",
        "**Normal error assumption**\n",
        "\n",
        "-   Q-q plot of standardized or studentized residuals.\n",
        "    -   The points should follow approximately a straight line if the data are consistent with normally-distributed errors.\n",
        "-   Shapiro-Wilk test.\n",
        "    -   If the p-value is large, then the residuals are consistent with a random sample coming from a normal distribution.\n",
        "    -   If the p-value is small, then the residuals are not consistent with being a random sample from a normal distribution, and the assumption of normal errors appears to be violated.\n",
        "\n",
        "**Uncorrelated errors**\n",
        "\n",
        "This only needs to be checked for time series/longitudinal data or geographically-referenced data.\n",
        "\n",
        "For assessing temporal correlation:\n",
        "\n",
        "-   Plot of residuals versus time.\n",
        "    -   The plot should be a random scatter of points with no clear pattern if the residuals aren’t (positively) correlated over time.\n",
        "    -   If there are sequences where there are many positive residuals or many negative residuals, then this assumption is violated, and the residuals exhibit positive temporal correlation.\n",
        "-   Plot of successive residuals pairs.\n",
        "    -   A positive trend indicates positive temporal correlation among our residuals.\n",
        "    -   A negative trend indicates negative temporal correlation among our residuals.\n",
        "    -   A random scatter indicates the residuals are consistent with being uncorrelated over time.\n",
        "-   Durbin-Watson test applied to the residuals.\n",
        "    -   A large p-value indicates the residuals are compatible with being uncorrelated over time.\n",
        "    -   A small p-value indicates the residuals are temporally correlated, with the type of correlation detected being consistent with the alternative hypothesis used for the test.\n",
        "\n",
        "# References\n",
        "\n",
        "Box, George E P, and Gregory C Reinsel Gwilym M Jenkins. 1994. *Time Series Analysis: Forecasting and Control, 3rd Edition*. Holden-Day: San Francisco.\n",
        "\n",
        "Durbin, J., and G. S. Watson. 1950. “Testing for Serial Correlation in Least Squares Regression. i.” *Biometrika* 37 (3/4): 409–28. <https://doi.org/10.1093/biomet/37.3-4.409>.\n",
        "\n",
        "———. 1951. “Testing for Serial Correlation in Least Squares Regression. II.” *Biometrika* 38 (1-2): 159–78. <https://doi.org/10.1093/biomet/38.1-2.159>.\n",
        "\n",
        "Shapiro, S. S., and M. B. Wilk. 1965. “An Analysis of Variance Test for Normality (Complete Samples)†.” *Biometrika* 52 (3-4): 591–611. <https://doi.org/10.1093/biomet/52.3-4.591>."
      ],
      "id": "ab889fb5-2aeb-4272-a63a-828a870dbd6c"
    }
  ],
  "nbformat": 4,
  "nbformat_minor": 5,
  "metadata": {
    "kernelspec": {
      "name": "ir",
      "display_name": "R",
      "language": "R"
    }
  }
}