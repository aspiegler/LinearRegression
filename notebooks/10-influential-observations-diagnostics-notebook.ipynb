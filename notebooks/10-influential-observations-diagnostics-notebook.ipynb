{
  "cells": [
    {
      "cell_type": "markdown",
      "metadata": {},
      "source": [
        "# Chapter 10 - Influential observations diagnostics\n",
        "\n",
        "Joshua French\n",
        "\n",
        "To open this information in an interactive Colab notebook, click the Open in Colab graphic below.\n",
        "\n",
        "<a href=\"https://colab.research.google.com/github/jfrench/LinearRegression/blob/master/notebooks/10-influential-observations-diagnostics-notebook.ipynb\"> <img src=\"https://raw.githubusercontent.com/jfrench/LinearRegression/1584e3a0a89ce40e06a90dd7c043d270042fc015/images/qr-influential-observations.svg\"> </a>\n",
        "\n",
        "------------------------------------------------------------------------"
      ],
      "id": "33ec18cd-1e1f-4f37-af58-7c0f70e9a142"
    },
    {
      "cell_type": "code",
      "execution_count": null,
      "metadata": {},
      "outputs": [],
      "source": [
        "if(!require(api2lm, quietly = TRUE)) {\n",
        "  install.packages(\"api2lm\",\n",
        "                   repos = \"https://cran.rstudio.com/\")\n",
        "  library(api2lm)\n",
        "}"
      ],
      "id": "350e6b4f-420d-4eb0-a2cb-783ab22f5483"
    },
    {
      "cell_type": "markdown",
      "metadata": {},
      "source": [
        "We adjust some printing options for clarity."
      ],
      "id": "0e651737-6f3a-47bb-a345-c90b1d0f3d18"
    },
    {
      "cell_type": "code",
      "execution_count": null,
      "metadata": {},
      "outputs": [],
      "source": [
        "options(digits = 5, scipen = 2)"
      ],
      "id": "4f067adb-61a1-4b0a-adb5-004be5d2d207"
    },
    {
      "cell_type": "markdown",
      "metadata": {},
      "source": [
        "# Influential observations\n",
        "\n",
        "One of the key assumptions we implicitly make when we fit a regression model to data is that the fit of the model isn’t dramatically influenced by a few observations.\n",
        "\n",
        "-   Each observation should have a similar impact on the fitted model.\n",
        "\n",
        "We want our model fit to behave like a democracy (each observation has an equal say in the fit) instead of a dictatorship or oligarchy (only a few observations, at most, have real power in determining the fit of the model to the data).\n",
        "\n",
        "An **influential observation** dramatically changes the fitted model based on whether it is included or excluded from the analysis.\n",
        "\n",
        "-   An observation may not be influential on its own but can be influential when working with other observations.\n",
        "\n",
        "Influential observations are often extreme with respect to their response values or their associated predictors.\n",
        "\n",
        "-   An **outlier** is an observation with a large residual.\n",
        "    -   The response is relatively far from its fitted value.\n",
        "-   A **leverage point** is an observation whose predictor values are extreme relative to most other observations.\n",
        "    -   A person with “leverage” over another person has the power to influence what that person does.\n",
        "    -   A leverage point has the ability to exert strong influence over a model fit.\n",
        "\n",
        "Outliers, leverage points, and influential observations are all model specific.\n",
        "\n",
        "-   An outlier (etc.) may be an outlier for one fitted model but not for a different one.\n",
        "\n",
        "In what follows, we assume that our fitted model has $p$ regression coefficients to estimate.\n",
        "\n",
        "# `home_sales` data\n",
        "\n",
        "To facilitate our discussion, we will use the `home_sales` data set in the **api2lm** package, which contains information about homes sold in King County, WA between May 2014 and May 2015. The data set is a data frame with 216 rows and 8 columns:\n",
        "\n",
        "-   `price`: sale price (log10 units, `numeric`).\n",
        "-   `bedrooms`: number of bedrooms (`numeric`).\n",
        "-   `bathrooms`: number of bathrooms (`numeric`).\n",
        "-   `sqft_living`: size of living space (`numeric`).\n",
        "-   `sqft_lot`: size of property (`numeric`).\n",
        "-   `floors`: number of floors (`numeric`).\n",
        "-   `waterfront`: a factor variable with levels `\"yes\"` and `\"no\"` that indicate whether a home as a waterfront view (`factor`).\n",
        "-   `condition`: a factor variable indicating the condition of a house with levels ranging from `\"poor\"` to `\"very good\"` (`factor`).\n",
        "\n",
        "We load the data below."
      ],
      "id": "7ac120ae-35d1-4390-a744-8294386916b0"
    },
    {
      "cell_type": "code",
      "execution_count": null,
      "metadata": {},
      "outputs": [],
      "source": [
        "data(home_sales, package = \"api2lm\")"
      ],
      "id": "b17bcb9f-facf-41bb-8562-29241f13b84f"
    },
    {
      "cell_type": "markdown",
      "metadata": {},
      "source": [
        "The validity of the assumptions we want to check depend on the model fit to the data.\n",
        "\n",
        "We will regress the `price` variable on all of the remaining variables in `home_sales`."
      ],
      "id": "4897e74e-d1ad-4d87-853a-13f93dcf4dbf"
    },
    {
      "cell_type": "code",
      "execution_count": null,
      "metadata": {},
      "outputs": [],
      "source": [
        "lmod <- lm(price ~ ., data = home_sales)\n",
        "coef(lmod)"
      ],
      "id": "2ba43eeb-0bcd-41c7-a3c9-a4bc58d0656b"
    },
    {
      "cell_type": "markdown",
      "metadata": {},
      "source": [
        "We use the `summary` function to provide a numeric summary of the data set for later use."
      ],
      "id": "61ab8d21-521b-4e6e-9e98-722544179818"
    },
    {
      "cell_type": "code",
      "execution_count": null,
      "metadata": {},
      "outputs": [],
      "source": [
        "summary(home_sales)"
      ],
      "id": "157b9dc7-795d-4385-acf9-981128e7fe09"
    },
    {
      "cell_type": "markdown",
      "metadata": {},
      "source": [
        "# LOO and studentized residuals\n",
        "\n",
        "Leave-one-out (LOO) and studentized residuals are specific types of residuals that are useful for identifying outliers and influential observations.\n",
        "\n",
        "LOO residuals are directly connected with LOO cross-validation.\n",
        "\n",
        "-   LOO residuals are also known as deleted residuals.\n",
        "\n",
        "Let $\\hat{Y}_{i(i)}$ denote the prediction of observation $i$ for the model that was fit using all $n$ observations except the $i$th one.\n",
        "\n",
        "-   This is the predicted response for observation $i$ using LOO cross-validation.\n",
        "\n",
        "The **leave-one-out residual** for observation $i$ is defined as\n",
        "\n",
        "$$l_i = Y_i - \\hat{Y}_{i(i)}.$$\n",
        "\n",
        "If an observation is influential, then the LOO residual may be substantially larger in magnitude than the ordinary residual.\n",
        "\n",
        "-   An influential observation is like a black hole that pulls the fitted model toward itself, so its associated residual might be small.\n",
        "\n",
        "Interestingly, the $i$th LOO residual can be computed via the equation\n",
        "\n",
        "$$\n",
        "l_i = \\frac{\\hat{\\epsilon}_i}{1-h_i},\n",
        "$$ where $h_i=\\mathbf{H}_{i,i}$ is the $i$th diagonal element of the hat matrix given by $\\mathbf{H} = \\mathbf{X}(\\mathbf{X}^T\\mathbf{X})^{-1}\\mathbf{X}^T$.\n",
        "\n",
        "-   We do not need to fit multiple models to compute the the LOO residuals.\n",
        "\n",
        "Let $\\hat{\\sigma}_{(i)}^2$ denote the residual variance for the model fit using all $n$ observations except observation $i$.\n",
        "\n",
        "-   We will call this the **LOO residual variance**.\n",
        "\n",
        "The **studentized residual** for observation $i$ is defined as\n",
        "\n",
        "$$\n",
        "t_i = \\frac{\\hat{\\epsilon_i}}{\\hat{\\sigma}_{(i)}\\sqrt{1-h_i}}.\n",
        "$$\n",
        "\n",
        "Assuming the standard linear model assumptions are true, then each studentized residual will have a $t_{n-p-1}$ distribution.\n",
        "\n",
        "The means that studentized residuals are identically distributed (which means they have the same variance).\n",
        "\n",
        "However, the studentized residuals are not independent.\n",
        "\n",
        "The `rstudent` function extracts the studentized residuals from an `lm` object.\n",
        "\n",
        "We summarize the studentized residuals for the model fit to the `home_sales` data below. There are some relatively extreme studentized residuals with values below -3 and above 3."
      ],
      "id": "dedf03f4-1d32-4a5c-b41e-d98c43c0d099"
    },
    {
      "cell_type": "code",
      "execution_count": null,
      "metadata": {},
      "outputs": [],
      "source": [
        "stud_resid <- rstudent(lmod)\n",
        "summary(stud_resid)"
      ],
      "id": "36f729f8-21bf-4b17-a2c0-fd3fcce023f6"
    },
    {
      "cell_type": "markdown",
      "metadata": {},
      "source": [
        "# Outliers\n",
        "\n",
        "We describe two common approaches for identifying outliers.\n",
        "\n",
        "The simplest approach for identifying outliers is to use an index plot of the studentized residuals to determine the observations with extreme residuals.\n",
        "\n",
        "-   An index plot is a plot of a set of statistics versus their observation number.\n",
        "-   We will create a scatter plot of the pairs $(i, t_i)$ for $i=1,2,\\ldots,n$.\n",
        "\n",
        "The other approach is to compare the set of studentized residuals to the appropriate quantile of a $t_{n-p-1}$ distribution.\n",
        "\n",
        "To evaluate whether a *single* observation is an outlier, we compare the absolute value of its studentized residual to $t^{\\alpha/2}_{n-p-1}$, i.e., the $1-\\alpha/2$ quantile of a $t$ distribution with $n-p-1$ degrees of freedom.\n",
        "\n",
        "-   If $|t_i| > t^{\\alpha/2}_{n-p-1}$, then observation $i$ is an outlier.\n",
        "-   We won’t do this because we have more than one observation to evaluate.\n",
        "\n",
        "To identify the outliers from the $n$ observations of our fitted model, we should adjust the previous idea using the Bonferroni correction to address the multiple comparisons problem.\n",
        "\n",
        "-   We conclude observation $i$ is an outlier if $|t_i| > t^{\\alpha/2n}_{n-p-1}$.\n",
        "\n",
        "## Outlier example\n",
        "\n",
        "We use the methods described above to identify the outliers of the model we fit to the `home_sales` data.\n",
        "\n",
        "We first create an index plot of the studentized residuals based on the fitted model `lmod`."
      ],
      "id": "9ddbbcea-2bcf-4eb6-a43a-4d3c4cc5c32e"
    },
    {
      "cell_type": "code",
      "execution_count": null,
      "metadata": {},
      "outputs": [],
      "source": [
        "plot(rstudent(lmod), ylab = \"studentized residuals\")"
      ],
      "id": "8c74f0df-7ced-4b27-9416-efb23cee3856"
    },
    {
      "cell_type": "markdown",
      "metadata": {},
      "source": [
        "We see that there are a few outlying observations, though it is difficult to identify them.\n",
        "\n",
        "The `outlier_plot` function from the **api2lm** package offers a more convenient way to identify outliers using an index plot of the studentized residuals.\n",
        "\n",
        "The main arguments of the `outlier_plot` function are:\n",
        "\n",
        "-   `model`: the fitted model.\n",
        "-   `id_n`: the number of points to identify with labels.\n",
        "-   `add_reference`: a logical value indicating whether the Bonferroni-corrected $t$ quantiles ($t^{1-\\alpha/2n}_{n-p-1}$ and $t^{\\alpha/2n}_{n-p-1}$) are added as reference lines to the plot. The default is `TRUE`.\n",
        "-   `alpha`: the $\\alpha$ value used for the $t$ quantiles. The default is `0.05`.\n",
        "\n",
        "We use the `outlier_plot` function to identify the 2 most extreme outliers for our fitted model.\n",
        "\n",
        "-   Observations 214 and 33 have the most extreme studentized residuals.\n",
        "-   Observation 214 is more extreme than the Bonferroni-adjusted $t$ quantile."
      ],
      "id": "dd976d01-041c-4393-9c3b-160c7ead6a63"
    },
    {
      "cell_type": "code",
      "execution_count": null,
      "metadata": {},
      "outputs": [],
      "source": [
        "outlier_plot(lmod, id_n = 2)"
      ],
      "id": "e06b251b-df41-4251-82cf-6625a20638c8"
    },
    {
      "cell_type": "markdown",
      "metadata": {},
      "source": [
        "The `outlier_test` function from the **api2lm** package can be used to identify the observations with studentized residuals more extreme than the appropriate Bonferroni-corrected $t$ quantiles. The main arguments to the `outlier_test` function are:\n",
        "\n",
        "-   `model`: the fitted model.\n",
        "-   `n`: the number of outliers to return (by default, all of them).\n",
        "-   `alpha`: the desired family-wise error rate for the family of $n$ tests. The default is `alpha = 0.05`.\n",
        "\n",
        "Running `outlier_test` on a fitted model will return the identified outliers and their Bonferroni-adjusted p-values (`adj_pvalue`). If the adjusted p-value is less than `alpha`, then the observation is declared an outlier.\n",
        "\n",
        "We use `outlier_test` to see that observation 214 is an outlier according to this test."
      ],
      "id": "49984f2a-b4c0-4d04-aba6-42a1080f0b58"
    },
    {
      "cell_type": "code",
      "execution_count": null,
      "metadata": {},
      "outputs": [],
      "source": [
        "outlier_test(lmod)"
      ],
      "id": "1899f82d-9e8b-464c-9a00-56c906be7460"
    },
    {
      "cell_type": "markdown",
      "metadata": {},
      "source": [
        "We examine the data for observation 214 in the `home_sales` data set."
      ],
      "id": "3d17250b-c1d1-439c-97e0-9fb76fc4140b"
    },
    {
      "cell_type": "code",
      "execution_count": null,
      "metadata": {},
      "outputs": [],
      "source": [
        "home_sales[214, ]"
      ],
      "id": "9617610c-eeab-4994-9cf0-025a9e325c50"
    },
    {
      "cell_type": "markdown",
      "metadata": {},
      "source": [
        "We see that it was sold for a (relatively) high price (top 5%) and appears to be a large home with respect to living space and lot size.\n",
        "\n",
        "In fact, if we compare the predictor values for this house to the numeric summary fo `home_sales` that we computed earlier, we see that this is the largest house in the data set in terms of `sqft_living`!"
      ],
      "id": "800cd1ea-737d-4c10-a8b8-9cdd3bb5b04a"
    },
    {
      "cell_type": "code",
      "execution_count": null,
      "metadata": {},
      "outputs": [],
      "source": [
        "mean(home_sales$price >= 6.3579)"
      ],
      "id": "656fc529-03d7-48be-b938-fcd8470a97ad"
    },
    {
      "cell_type": "markdown",
      "metadata": {},
      "source": [
        "# Leverage Points\n",
        "\n",
        "The **leverage values** are the diagonal elements of the hat matrix $\\mathbf{H}=\\mathbf{X}(\\mathbf{X}^T \\mathbf{X})^{-1} \\mathbf{X}^T$.\n",
        "\n",
        "The $i$th leverage value is given by $h_i=\\mathbf{H}_{i,i}$, the $i$th diagonal position of the hat matrix.\n",
        "\n",
        "The `hatvalues` function extracts the leverage values from an `lm` object.\n",
        "\n",
        "The leverage values of a fitted model have the following two properties:\n",
        "\n",
        "-   $0\\leq h_i \\leq 1$ for $i=1,2,\\ldots,n$.\n",
        "-   $\\sum_{i=1}^n h_i = p$.\n",
        "\n",
        "An observation is declared to be a leverage point if its leverage value is unusually large.\n",
        "\n",
        "Kutner et al. (2005) suggest two different thresholds for identifying a leverage point.\n",
        "\n",
        "-   Observation $i$ is declared to be an outlier if $h_i > 2p/n$.\n",
        "    -   This approach can be overly sensitive.\n",
        "-   Observation $i$ is declared to be an outlier if $h_i > 0.5$.\n",
        "\n",
        "Alternatively, we can make a relative comparison of the leverage values to determine the ones that are unusually large relative to the rest.\n",
        "\n",
        "## Leverage example\n",
        "\n",
        "We seek to identify the leverage points of the `home_sales` data based on our fitted model.\n",
        "\n",
        "The `leverage_plot` function from the **api2lm** package creates an index plot of the leverage values.\n",
        "\n",
        "The main arguments of the `leverage_plot` function are:\n",
        "\n",
        "-   `model`: the fitted model.\n",
        "-   `id_n`: the number of points to identify with labels.\n",
        "-   `ttype`: the threshold type. The default is `\"half\"`, which uses a reference threshold of `0.5`. Alternatively, we can choose `\"2mean\"`, which uses a reference threshold of $2p/n$.\n",
        "\n",
        "We use the `leverage_plot` function to identify leverage points for the model fit to the `home_sales` data."
      ],
      "id": "e0e575e5-884d-4034-a04d-20721ca06952"
    },
    {
      "cell_type": "code",
      "execution_count": null,
      "metadata": {},
      "outputs": [],
      "source": [
        "leverage_plot(lmod)"
      ],
      "id": "bcf93af7-89c1-45ec-9e87-0502da04a4b8"
    },
    {
      "cell_type": "markdown",
      "metadata": {},
      "source": [
        "Observations 33 and 179 are leverage points with leverage values greater than 0.5. Observation 214 has a leverage value nearly at 0.5, so we should consider it a leverage point.\n",
        "\n",
        "If we examine the predictor values for these observations, we see observations with extremely large numbers of bedrooms, bathrooms, living space, or lots."
      ],
      "id": "0763a82b-ed83-45c1-96eb-dbc03d25c7c7"
    },
    {
      "cell_type": "code",
      "execution_count": null,
      "metadata": {},
      "outputs": [],
      "source": [
        "home_sales[c(33, 179, 214), ]"
      ],
      "id": "7917b30e-5c8a-4426-8bd0-80d487277dd7"
    },
    {
      "cell_type": "markdown",
      "metadata": {},
      "source": [
        "# Influential Observations\n",
        "\n",
        "An **influential observation** dramatically changes the fitted model based on whether it is included or excluded from the analysis.\n",
        "\n",
        "-   An outlier with high leverage is most likely to be an influential observation.\n",
        "\n",
        "Measures of influence are often related to various LOO statistics. Examples include:\n",
        "\n",
        "-   The LOO residuals, $l_i = Y_i - \\hat{Y}_{i(i)}$, $i = 1,2,\\ldots,n$.\n",
        "-   The LOO residual variances, $\\hat{\\sigma}^2_{(i)}$, $i=1,2,\\ldots,n$.\n",
        "\n",
        "We will now discuss several other measures of influence.\n",
        "\n",
        "## DFBETA and DFBETAS\n",
        "\n",
        "The **DFBETA** measure of influence is an $n\\times p$ matrix of statistics that measures the change in the estimated regression coefficients when we fit the model using all $n$ observations versus when we fit the model leaving one observation out at a time.\n",
        "\n",
        "The $i$th row of DFBETA is $$\n",
        "\\text{DFBETA}_i = \\hat{\\boldsymbol{\\beta}} - \\hat{\\boldsymbol{\\beta}}_{(i)}.\n",
        "$$\n",
        "\n",
        "-   $\\hat{\\boldsymbol{\\beta}} = [\\hat{\\beta}_0, \\hat{\\beta}_1, \\ldots, \\hat{\\beta}_{p-1}]$ is the vector of estimated regression coefficients when using all $n$ observations.\n",
        "-   $\\hat{\\boldsymbol{\\beta}}_{(i)} = [\\hat{\\beta}_{0(i)}, \\hat{\\beta}_{1(i)}, \\ldots, \\hat{\\beta}_{p-1(i)}]$ is the vector of estimated regression coefficients obtained from the model fit using all $n$ observations except the $i$th observation.\n",
        "-   $\\text{DFBETA}_{ij} = \\hat{\\beta}_j - \\hat{\\beta}_{j(i)}$.\n",
        "\n",
        "Identifying influential observations using the DFBETA matrix can be difficult because the sampling variance associated with each coefficient can be very different.\n",
        "\n",
        "The **DFBETAS** matrix is a transformation of the DFBETA matrix that has been scaled so that the individual statistics have similar sampling variability.\n",
        "\n",
        "DFBETAS is also an $n\\times p$ matrix of statistics with the $j$th element of the $i$th row being defined as\n",
        "\n",
        "$$\\text{DFBETAS}_{i,j} = \\frac{\\hat{\\beta}_{j-1} - \\hat{\\beta}_{j-1(i)}}{\\hat{\\mathrm{se}}(\\hat{\\beta}_{j-1})},\\quad i=1,2,\\ldots,n, \\quad j=0,1,\\ldots,p-1.$$\n",
        "\n",
        "A DFBETAS statistic less than -1 or greater than 1 is often used as an indicator that the associated observation is influential in determining the fitted model.\n",
        "\n",
        "One way of identifying influential observations is to create index plots the DFBETA or DFBETAs values for each regression coefficient and determining the estimates that substantially change when observation $i$ is excluded from analysis.\n",
        "\n",
        "-   We recommend using index plots of the DFFBETAS values instead of the DFBETA values because the plots will have more similar scales and are easier to work with.\n",
        "\n",
        "The `dfbeta` and `dfbetas` functions can be used to extract the DFBETA and DFBETAS matrices, respectively, from an `lm` object.\n",
        "\n",
        "## DFBETAS example\n",
        "\n",
        "The `dfbetas_plot` function in the **api2lm** creates index plots of the DFBETAS statistics for each regression coefficient.\n",
        "\n",
        "The main arguments to the `dfbetas_plot` function are:\n",
        "\n",
        "-   `model`: the fitted model.\n",
        "-   `id_n`: the number of observations for which to print an associated label.\n",
        "-   `regressors`: a formula indicating the regressors for which we want to plot the DFBETAS statistics. By default, index plots are created for all regressors.\n",
        "\n",
        "Reference lines are automatically added at $\\pm 1$ to indicate observations whose DFBETAS values are particularly extreme.\n",
        "\n",
        "We plot the `bedrooms`, `bathrooms`, `sqft_living`, and `sqft_lot` variables for the fitted model of our `home_sales` data and label the two most extreme observations."
      ],
      "id": "608d1521-4fa7-4acb-acb1-77b1fe2a79e7"
    },
    {
      "cell_type": "code",
      "execution_count": null,
      "metadata": {},
      "outputs": [],
      "source": [
        "dfbetas_plot(lmod, id_n = 2,\n",
        "             regressors = ~ bedrooms + bathrooms + sqft_living + sqft_lot)"
      ],
      "id": "e3dccecc-7aae-48ef-82b5-dd5e979b14f7"
    },
    {
      "cell_type": "markdown",
      "metadata": {},
      "source": [
        "We can see from these plots that:\n",
        "\n",
        "-   The estimated coefficient for `bedrooms` changes by more than 3 standard errors based on whether observation 179 is used in fitting the model.\n",
        "-   The estimated coefficients for `sqft_living` and `sqft_lot` change by more than 1 standard error based on whether observations 33 or 214 are used in fitting the model.\n",
        "\n",
        "## DFFITS\n",
        "\n",
        "Welsch and Kuh (1977) proposed measuring an observation’s influence through the DFFITS statistic, which is the difference between its fitted value and its LOO predicted response value.\n",
        "\n",
        "The **DFFITS** statistic for observations $i$ defined as\n",
        "\n",
        "$$\\text{DFFITS}_i = \\hat{Y}_i - \\hat{Y}_{i(i)}.$$\n",
        "\n",
        "-   A large difference between a fitted value and its associated LOO predicted value provides evidence an observation is influential.\n",
        "\n",
        "Belsley, Kuh, and Welsch (2005) suggest that observation $i$ is influential if $|\\text{DFFITS}_i|>2\\sqrt{p/n}$.\n",
        "\n",
        "An index plot of the DFFITS statistics for all observations will indicate the observations most influential in changing their associated predicted value.\n",
        "\n",
        "The `dffits` function extracts the DFFITS statistics for each observation from an `lm` object.\n",
        "\n",
        "## DFFITS example\n",
        "\n",
        "The \\``dffits_plot` function creates an index plot of the DFFITS statistics from a fitted model.\n",
        "\n",
        "The main arguments to the `dffits_plot` function are:\n",
        "\n",
        "-   `model`: the fitted model.\n",
        "-   `id_n`: the number of observations for which to print an associated label.\n",
        "\n",
        "Horizontal reference lines are automatically added at $\\pm 2\\sqrt{p/n}$ to identify influential observations.\n",
        "\n",
        "We create an index plot of the DFFITS statistics below. We identify the observations with the 3 most extreme DFFITS statistics."
      ],
      "id": "a7a60255-3662-4e8c-8ca1-e963cd0df029"
    },
    {
      "cell_type": "code",
      "execution_count": null,
      "metadata": {},
      "outputs": [],
      "source": [
        "dffits_plot(lmod, id_n = 3)"
      ],
      "id": "fd19f5cd-c255-4357-963d-3af185c71c97"
    },
    {
      "cell_type": "markdown",
      "metadata": {},
      "source": [
        "We see that observations 33, 179, and 214 all have particularly extreme DFFITS statistics. Several other observations have statistics more extreme than $\\pm 1$ (run `dffits_test(lmod)` for a complete list).\n",
        "\n",
        "We have already discussed how unusual these observations are with respect to a combination of their response and predictor values.\n",
        "\n",
        "## Cook’s distance\n",
        "\n",
        "Cook (1977) proposed the **Cook’s distance** to summarize the potential influence of an observation with a single statistic.\n",
        "\n",
        "The Cook’s distance for the $i$th observation is\n",
        "\n",
        "$$D_i=\\frac{\\sum_{k=1}^n (Y_k - \\hat{Y}_{k(i)})^2}{p \\widehat{\\sigma}^2} = \\frac{1}{p} r_i^2 \\frac{h_i}{1-h_i}.$$\n",
        "\n",
        "-   $\\hat{Y}_{k(i)}$ is the predicted response for observation $k$ when observation $i$ is not included in the analysis (this is a type of LOO prediction).\n",
        "-   The **standardized residual** for observation $i$ is\n",
        "\n",
        "$$\n",
        "r_i = \\frac{\\hat{\\epsilon}_i}{\\widehat{\\sigma}\\sqrt{1-h_i}}.\n",
        "$$\n",
        "\n",
        "Cook’s distance blends information about whether an observation both an outlier and a leverage point into a single statistic.\n",
        "\n",
        "The Cook’s distance increases in magnitude if the observation is an outlier since the standardized residual, $r_i$, will become large.\n",
        "\n",
        "The Cook’s distance increases in magnitude if the observation is a leverage point since $h_i/(1-h_i)$ will become large.\n",
        "\n",
        "Unlike the DFFITS statistic, the Cook’s distance quantifies the amount of influence potential an observation has across all $n$ fitted values instead of only a single fitted value (Kutner et al. 2005).\n",
        "\n",
        "An index plot of the Cook’s distances can be used to identify observations with unusually large Cook’s distances.\n",
        "\n",
        "-   The `cooks.distance` function extracts the Cook’s distance values from an `lm` object.\n",
        "-   Kutner et al. (2005) suggest declaring an observation to be influential if its Cook’s distance is more than $F^{0.5}_{p, n-p}$, i.e., the 0.5 quantile of an $F$ distribution with $p$ numerator degrees of freedom and $n-p$ denominator degrees of freedom.\n",
        "\n",
        "## Cook’s distance example\n",
        "\n",
        "The `cooks_plot` function from the **api2lm** package creates an index plot of the Cook’s distances.\n",
        "\n",
        "The main arguments to the `cooks_plot` function are:\n",
        "\n",
        "-   `model`: the fitted model.\n",
        "-   `id_n`: the number of observations for which to print an associated label.\n",
        "\n",
        "A horizontal reference line is automatically added at $F^{0.5}_{p,n-p}$ to identify influential observations.\n",
        "\n",
        "We create an index plot of the Cook’s distances below. We identify the observations with the 3 most extreme Cook’s distances."
      ],
      "id": "46685aac-994e-4528-a7b6-2ebcd5b96eab"
    },
    {
      "cell_type": "code",
      "execution_count": null,
      "metadata": {},
      "outputs": [],
      "source": [
        "cooks_plot(lmod, id_n = 3)"
      ],
      "id": "9fd1af1b-1d71-42e7-868c-79adf2073f99"
    },
    {
      "cell_type": "markdown",
      "metadata": {},
      "source": [
        "We see that observations 33, 179, and 214 all have particularly extreme Cook’s distances, indicating those observations are influential in some sense. This is consistent with our previous results.\n",
        "\n",
        "## Influence plots\n",
        "\n",
        "An **influence plot** is a scatter plot of the studentized or standardized residuals versus the leverage values. The size of each point in the plot is proportional to either its Cook’s distance or DFFITS statistic.\n",
        "\n",
        "In general, observations that are extreme with respect to their residuals, leverage values, or Cook’s distance/DFFITS statistics are more likely be be potentially influential.\n",
        "\n",
        "## Influence plot example\n",
        "\n",
        "The `influence_plot` function from the **api2lm** package creates an influence plot for an `lm` object.\n",
        "\n",
        "The main arguments to the `influence_plot` function are:\n",
        "\n",
        "-   `model`: the fitted model.\n",
        "-   `rtype`: the type of residual to plot on the y-axis. The default is the studentized residuals.\n",
        "-   `criterion`: the criterion that controls the size of the points. The default is the Cook’s distance.\n",
        "-   `id_n`: the number of observations for which to print an associated label. The most extreme observations with respect to the criterion are labeled.\n",
        "\n",
        "We create in influence plot for the model fit to the `home_sales` data below."
      ],
      "id": "56f8d489-60e5-4d56-a1ed-3e66ad50027b"
    },
    {
      "cell_type": "code",
      "execution_count": null,
      "metadata": {},
      "outputs": [],
      "source": [
        "influence_plot(lmod)"
      ],
      "id": "13904fb0-a5cf-43e5-8d7f-c17725e563f0"
    },
    {
      "cell_type": "markdown",
      "metadata": {},
      "source": [
        "Similar to our previous results, we see that observations 33, 179, and 214 are extreme with respect to characteristics like their residual, leverage, or Cook’s distance.\n",
        "\n",
        "# Reaction\n",
        "\n",
        "How should we react when we find influential observations?\n",
        "\n",
        "It is best to work through a series of diagnostic steps to decide what to do.\n",
        "\n",
        "**Should the influential observations be in the data set?**\n",
        "\n",
        "First, are the influential observations in the data set mistakenly?\n",
        "\n",
        "Is an observation influential because it is a data entry error?\n",
        "\n",
        "-   If it is, then correct the error if possible.\n",
        "-   If the data entry error cannot be corrected, then it is appropriate to remove the observation from our analysis. We must make sure to mention this in the discussion of our results.\n",
        "\n",
        "Is the influential observation part of the population of interest?\n",
        "\n",
        "-   If we are studying dogs, but the influential observation is a cat, then it is okay to remove the observation from our analysis. We must make sure to mention this in the discussion of our results.\n",
        "-   More generally, there may be a subtle but compelling reason why an observation isn’t part of the population of interest.\n",
        "\n",
        "If there isn’t a compelling reason to exclude an observation from our analysis except that it seems to be influential, then we should keep the observation in our analysis.\n",
        "\n",
        "Consider observations 33, 179, and 214 from our `home_sales` data set, which we have identified as being potentially influential."
      ],
      "id": "ffae5399-a836-4a96-ba23-8582e44cea6c"
    },
    {
      "cell_type": "code",
      "execution_count": null,
      "metadata": {},
      "outputs": [],
      "source": [
        "home_sales[c(33, 179, 214),]"
      ],
      "id": "c6de369e-ef20-40ef-b890-dcacf72a16fe"
    },
    {
      "cell_type": "markdown",
      "metadata": {},
      "source": [
        "Observation 179 has 33 bedrooms but only 1.75 bathrooms and 1,620 square feet of living space. This seems unlikely and there is likely a data entry error for that observation (perhaps it should be 3 bedrooms). Since we don’t have any details about this specific sale, we could reasonably exclude this observation from our analysis.\n",
        "\n",
        "Observations 33 and 214 are houses with massive lot sizes of over 7 acres. In fact, except for observation 141, which has a lot size of 223,462 square feet, observations 33 and 214 have lot sizes that are more than 5 times as large as any other observation. We could argue that these observations are not representative of a typical home sold in King County during this time period. It *could* be appropriate to remove these observations from our analysis if we are convinced they aren’t part of the target population we want to know about.\n",
        "\n",
        "**Are our goals affected?**\n",
        "\n",
        "Second, after making sure an influential observation isn’t mistakenly in our data set, we should ask ourselves whether an influential observation practically affects the goals of our analysis.\n",
        "\n",
        "If the purpose of our analysis is to identify the general relationship between a predictor and response after adjusting for some other variables, then perhaps the influential observations don’t practically change our results.\n",
        "\n",
        "-   Does the estimated coefficient change from significant to insignificant?\n",
        "-   Does the sign of the coefficient change based on whether the observation is included?\n",
        "\n",
        "If the answer to these last two questions is no, then perhaps the influential observations are not problematic.\n",
        "\n",
        "Let’s fit the same model to the `home_sales` data without observations 33, 179, and 214."
      ],
      "id": "bcd236f6-74d7-4fbb-a18d-92adc7ff38dc"
    },
    {
      "cell_type": "code",
      "execution_count": null,
      "metadata": {},
      "outputs": [],
      "source": [
        "lmod2 <- lm(price ~ ., data = home_sales[-c(33, 179, 214),])"
      ],
      "id": "a73f33c3-c1ca-46e7-b6aa-c6530f44aecf"
    },
    {
      "cell_type": "markdown",
      "metadata": {},
      "source": [
        "We use the `coef_compare` function from the **api2lm** package to compare the estimated coefficients of our original fitted model to the new model as well as compute their percentage change."
      ],
      "id": "9ee4c4a4-672e-4780-8afa-e9ca9c9f733a"
    },
    {
      "cell_type": "code",
      "execution_count": null,
      "metadata": {},
      "outputs": [],
      "source": [
        "coef_compare(lmod, lmod2)"
      ],
      "id": "96d977d4-debf-4ba3-a580-8b058a0cc3fb"
    },
    {
      "cell_type": "markdown",
      "metadata": {},
      "source": [
        "When we remove these 3 influential observations, the estimated `bedrooms` coefficient changed by nearly 800% and the estimated standard error by nearly 200%.\n",
        "\n",
        "The sign of the coefficient also flips from positive to negative, which certainly goes against our intuition.\n",
        "\n",
        "However, the `bedrooms` coefficient for the new model is insignificant, so we don’t need to be too concerned.\n",
        "\n",
        "Other estimated coefficients such as `bathrooms`, `sqft_living`, and `sqft_lot` also change by large percentages.\n",
        "\n",
        "We now need to assess whether the goals of our analysis are practically affected by our influential observations.\n",
        "\n",
        "-   If our goal is a general understanding of the relationship between the response and regressors, then even though the estimated coefficients substantially changed in some cases, the overall associations (positive or negative) have been preserved (taking into account that some coefficients are insignificant).\n",
        "-   If our goal is to assess the quantitative association between a regressor and the response, then our influential observations dramatically affect our analysis goal because our estimates are substantially different. However, this may not be a sensible goal since there can always be lurking variables that aren’t accounted for in an observational study that could impact the association between the response and regressors.\n",
        "-   If our goal is to predict new observations, then we will need to determine whether the influential observations substantially change our predicted response.\n",
        "\n",
        "We will predict the sales `price` of a “typical” home below to see the impact of the influential observations.\n",
        "\n",
        "We starting be creating a data frame of predictor values for a typical home."
      ],
      "id": "afd97ca5-f813-481e-a2b7-77f76469792d"
    },
    {
      "cell_type": "code",
      "execution_count": null,
      "metadata": {},
      "outputs": [],
      "source": [
        "newdf <- data.frame(bedrooms = 3, bathrooms = 2, sqft_living = 2000,\n",
        "                    sqft_lot = 6000, floors = 1, waterfront = \"no\",\n",
        "                    condition = \"average\")"
      ],
      "id": "9df2922c-14f6-49bd-aa7c-9702beb2a47b"
    },
    {
      "cell_type": "markdown",
      "metadata": {},
      "source": [
        "We use the `predict` function to compute the predict `sales` price of the typical home for our original fitted model and the model that removes the influential observations."
      ],
      "id": "c54efabe-fa9f-456d-862f-b70342ea8011"
    },
    {
      "cell_type": "code",
      "execution_count": null,
      "metadata": {},
      "outputs": [],
      "source": [
        "predict(lmod, newdata = newdf)"
      ],
      "id": "b1a25e4f-79d7-40e2-9380-67f3301a5e58"
    },
    {
      "cell_type": "code",
      "execution_count": null,
      "metadata": {},
      "outputs": [],
      "source": [
        "predict(lmod2, newdata = newdf)"
      ],
      "id": "0e7b043c-8f61-4650-b45f-354fb94fc164"
    },
    {
      "cell_type": "markdown",
      "metadata": {},
      "source": [
        "In this case, the predicted value of `price` increased by 0.2% when we removed the influential observations from our analysis.\n",
        "\n",
        "Since `price` is in log base 10 units, this amounts to a 2.8% increase on the original scale.\n",
        "\n",
        "On either scale, the influential observations may not impact the predicted response enough for us to be concerned.\n",
        "\n",
        "**What if our influential observations are problematic?**\n",
        "\n",
        "What if certain influential observations can’t be removed from analysis and negatively impact the goals of our analysis?\n",
        "\n",
        "-   Influential observations are model specific. We may need to address structural issues with our model to reduce the impact of our influential observations.\n",
        "-   We may need to use an alternative to ordinary least squares regression such as robust regression (see the `rlm` function in the **MASS** package via `?MASS::rlm`) to mitigate the influence of the influential observations. Robust regression is designed to reduce the impact of extreme observations on the fitted model.\n",
        "\n",
        "# Summary of methods\n",
        "\n",
        "**Outlier detection**\n",
        "\n",
        "-   Index plot of studentized residuals.\n",
        "    -   Compare residuals to the thresholds $\\pm t^{\\alpha/2n}_{p, n-p}$.\n",
        "    -   Use the `outlier_plot` function in the **api2lm** package.\n",
        "-   Outlier test based on the $t$ distribution.\n",
        "    -   Use the `outlier_test` function in the **api2lm** package.\n",
        "\n",
        "**Leverage point detection**\n",
        "\n",
        "-   Index plot of leverage values.\n",
        "    -   Compare leverage values to the threshold 0.5 or $2p/n$.\n",
        "    -   Use the `leverage_plot` function in the **api2lm** package.\n",
        "\n",
        "**Influential observation detection**\n",
        "\n",
        "-   Index plots of DFBETAS statistics.\n",
        "    -   Compare the DFBETAS statistics to the thresholds $\\pm 1$.\n",
        "    -   Use the `dfbetas_plot` function in the **api2lm** package.\n",
        "-   Index plot of DFFITS statistics.\n",
        "    -   Compare the DFFITS statistics to the thresholds $\\pm 2\\sqrt{p/n}$.\n",
        "    -   Use the `dffits_plot` function in the **api2lm** package.\n",
        "-   Index plot of Cook’s distances.\n",
        "    -   Compare the Cook’s distances to the threshold $F^{0.5}_{p, n-p}$.\n",
        "    -   Use the `cooks_plot` function in the **api2lm** package.\n",
        "-   Influence plot.\n",
        "    -   Look for observations with large residuals, leverage values, or Cook’s distance/DFFITS statistics.\n",
        "    -   Use the `influence_plot` function in the **api2lm** package.\n",
        "\n",
        "**Additional influence-related R functions**\n",
        "\n",
        "-   `rstudent(lmod)` extracts the studentized residuals from a fitted model.\n",
        "-   `hatvalues(lmod)` extracts the leverage values from a fitted model.\n",
        "-   `dfbetas` extracts the DFBETAS matrix from a fitted model.\n",
        "-   `dffits` extracts the DFFITS statistics from a fitted model.\n",
        "-   `cooks.distance` extracts the Cook’s distances from a fitted model.\n",
        "-   `influence(lmod)` computes several leave-one-out-related measures of observational influence.\n",
        "\n",
        "# References\n",
        "\n",
        "Belsley, David A, Edwin Kuh, and Roy E Welsch. 2005. *Regression Diagnostics: Identifying Influential Data and Sources of Collinearity*. John Wiley & Sons.\n",
        "\n",
        "Cook, R. Dennis. 1977. “Detection of Influential Observation in Linear Regression.” *Technometrics* 19 (1): 15–18.\n",
        "\n",
        "Kutner, Michael H, Christopher J Nachtsheim, John Neter, and William Li. 2005. *Applied Linear Statistical Models, 5th Edition*. McGraw-Hill/Irwin, New York.\n",
        "\n",
        "Welsch, Roy E, and Edwin Kuh. 1977. “Linear Regression Diagnostics.” National Bureau of Economic Research."
      ],
      "id": "56da8284-82a1-4da1-9d3e-78655c86f4cd"
    }
  ],
  "nbformat": 4,
  "nbformat_minor": 5,
  "metadata": {
    "kernelspec": {
      "name": "ir",
      "display_name": "R",
      "language": "R"
    }
  }
}