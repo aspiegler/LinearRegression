{
  "cells": [
    {
      "cell_type": "markdown",
      "metadata": {},
      "source": [
        "# Chapter 11 - Collinearity diagnostics\n",
        "\n",
        "Joshua French\n",
        "\n",
        "To open this information in an interactive Colab notebook, click or scan the QR code below.\n",
        "\n",
        "<a href=\"https://colab.research.google.com/github/jfrench/LinearRegression/blob/master/notebooks/11-collinearity-diagnostics-notebook.ipynb\"> <img src=\"https://raw.githubusercontent.com/jfrench/LinearRegression/be9bd7fb4cb7f703049960c7105ab8d4c6a99aa5/images/qr-collinearity.svg\"> </a>\n",
        "\n",
        "------------------------------------------------------------------------"
      ],
      "id": "519ecd5f-3703-4eae-940d-cbcb3369be73"
    },
    {
      "cell_type": "code",
      "execution_count": null,
      "metadata": {},
      "outputs": [],
      "source": [
        "devtools::install_github(\"jfrench/api2lm\")\n",
        "library(api2lm)\n",
        "if(!require(faraway, quietly = TRUE)) {\n",
        "  install.packages(\"faraway\",\n",
        "                   repos = \"https://cran.rstudio.com/\")\n",
        "  library(faraway)\n",
        "}"
      ],
      "id": "b630b90e-f462-421d-aa03-efe5277e02da"
    },
    {
      "cell_type": "markdown",
      "metadata": {},
      "source": [
        "We adjust some printing options for clarity."
      ],
      "id": "98fa354f-be3f-4506-9b66-6f923ca227d9"
    },
    {
      "cell_type": "code",
      "execution_count": null,
      "metadata": {},
      "outputs": [],
      "source": [
        "options(digits = 5, scipen = 2)"
      ],
      "id": "843557bb-376f-46e2-9d41-af52e4f27aed"
    },
    {
      "cell_type": "markdown",
      "metadata": {},
      "source": [
        "# Collinearity and its effects\n",
        "\n",
        "**Collinearity** or **multicollinearity** occurs in a fitted regression model when the model’s regressor variables are linearly dependent.\n",
        "\n",
        "Collinearity leads to many undesirable issues with our fitted model.\n",
        "\n",
        "-   The parameter estimates can change dramatically for small changes in the data.\n",
        "-   The signs of the estimated coefficients can be wrong, leading to erroneous conclusions.\n",
        "-   The standard error of the estimates can be very large, which leads to insignificant tests for single regression coefficients.\n",
        "-   The F test for a regression relationship can be significant even though t tests for individual regression coefficients are insignificant.\n",
        "-   It becomes difficult to interpret the association between the regressors and the response because multiple regressors are trying to play the same role in the model.\n",
        "\n",
        "# Exact versus practical collinearity\n",
        "\n",
        "Exact collinearity occurs when two or more regressors are perfect linear combinations of each other, which means the columns of our matrix of regressors, $\\mathbf{X}$, are linearly dependent.\n",
        "\n",
        "When regressors in our model are exactly collinear, $\\mathbf{X}^T\\mathbf{X}$ isn’t invertible and there isn’t a unique solution for the estimated regression coefficients that minimize the RSS.\n",
        "\n",
        "Exact collinearity only occurs when we have poorly chosen the set of regressors to include in our model.\n",
        "\n",
        "-   We can correct for exact collinearity by sequentially removing collinear regressors until $\\mathbf{X}$ has linearly independent columns.\n",
        "\n",
        "We should be more concerned with practical collinearity, which occurs when some of the regressor variables are approximately linear combinations of each other.\n",
        "\n",
        "# The `seatpos` data set\n",
        "\n",
        "The `seatpos` data set in the **faraway** package provides data related car seat positioning of drivers and is useful for how to identify and address collinearity. The data were obtained by researchers at the HuMoSim laboratory at the University of Michigan. The data set includes 38 observations of 9 variables. The variables measured for each driver are:\n",
        "\n",
        "-   `hipcenter`: the horizontal distance of the midpoint of the driver’s hips from a fixed location in the car in mm (`numeric`).\n",
        "-   `Age`: age in years (`integer`).\n",
        "-   `Weight`: weight in pounds (`integer`).\n",
        "-   `HtShoes`: height when wearing shoes in cm (`integer`).\n",
        "-   `Ht` : height without shoes in cm (`numeric`).\n",
        "-   `Seated` : seated height in cm (`numeric`).\n",
        "-   `Arm` : lower arm length in cm (`numeric`).\n",
        "-   `Thigh` : thigh length in cm (`numeric`).\n",
        "-   `Leg` : lower leg length in cm (`numeric`).\n",
        "\n",
        "We start by attaching the `seatpos` data set to our R session."
      ],
      "id": "ea4d1321-3646-4610-8235-af7ba1520ca5"
    },
    {
      "cell_type": "code",
      "execution_count": null,
      "metadata": {},
      "outputs": [],
      "source": [
        "data(seatpos, package = \"faraway\")"
      ],
      "id": "1d792172-accf-4e99-a7c4-a426b05bfd77"
    },
    {
      "cell_type": "markdown",
      "metadata": {},
      "source": [
        "# Detecting collinearity\n",
        "\n",
        "Collinearity is often described as occurring when:\n",
        "\n",
        "-   Regressors are highly correlated with each other.\n",
        "-   Two or more regressors are approximately linear combinations of each other.\n",
        "\n",
        "These descriptions motivate several approaches for detecting collinearity below.\n",
        "\n",
        "## Contradictory significance results\n",
        "\n",
        "A clear indicator of a collinearity problem in our fitted model is when the test for a regression relationship is significant and the hypothesis tests for individual regression coefficients are all insignificant.\n",
        "\n",
        "We demonstrate this issue using the `seatpos` data.\n",
        "\n",
        "We fit a model regressing `hipcenter` on all the other variables contained in `seatpos`."
      ],
      "id": "28303c8c-8058-4026-b36c-010ce76bafec"
    },
    {
      "cell_type": "code",
      "execution_count": null,
      "metadata": {},
      "outputs": [],
      "source": [
        "lmod <- lm(hipcenter ~ ., data = seatpos)"
      ],
      "id": "787c39d9-850b-4280-aadc-155b890bade2"
    },
    {
      "cell_type": "markdown",
      "metadata": {},
      "source": [
        "We use the `summary` function to see our results."
      ],
      "id": "9946867b-1220-4afa-b071-aade7ca02353"
    },
    {
      "cell_type": "code",
      "execution_count": null,
      "metadata": {},
      "outputs": [],
      "source": [
        "summary(lmod)"
      ],
      "id": "25e0518e-ea6c-4898-9283-32f83cfc9918"
    },
    {
      "cell_type": "markdown",
      "metadata": {},
      "source": [
        "In this context, our set of regressors is $\\mathbb{X} = \\{\\mathtt{Age}, \\mathtt{Weight}, \\ldots, \\mathtt{Leg}\\}$.\n",
        "\n",
        "The test for a regression relationship decides between $$\n",
        "\\begin{aligned}\n",
        "&H_0: E(Y \\mid \\mathbb{X}) = \\beta_0 \\\\\n",
        "&H_a: E(Y\\mid \\mathbb{X}) = \\beta_0 + \\beta_1 \\mathtt{Age} + \\cdots + \\beta_{8} \\mathtt{Leg}.\n",
        "\\end{aligned}\n",
        "$$\n",
        "\n",
        "The test statistic for this test is 7.94 with an associated p-value of approximately 0.000013 (based on an F distribution with 8 numerator degrees of freedom and 29 denominator degrees of freedom).\n",
        "\n",
        "Thus, we conclude that at least one of the regression coefficients for the regressors in our model differs from zero.\n",
        "\n",
        "In contradiction, the hypothesis tests for whether the individual coefficients differ from zero assuming the other regressors are in the model are all insignificant.\n",
        "\n",
        "-   The p-value for the test associated with $\\beta_{\\mathtt{Age}}$ is 0.1843.\n",
        "-   The p-value for the test associated with $\\beta_{\\mathtt{Weight}}$ is 0.9372.\n",
        "\n",
        "Outside of the intercept coefficient, all of the tests for the individual regression coefficients are insignificant.\n",
        "\n",
        "We have a contradiction in our testing results. We have concluded that:\n",
        "\n",
        "-   At least one of the regression coefficients for our regressors differs from zero using the test for a regression relationship.\n",
        "-   None of the regression coefficients for our regressors differs from zero based on the individual tests for a single regression coefficients.\n",
        "\n",
        "These contradictory results will occur when our regressors exhibit collinearity.\n",
        "\n",
        "## Pairwise correlation\n",
        "\n",
        "The simplest approach for identifying a potential issue with collinearity is by computing the matrix of pairwise correlations among the regressors in our model.\n",
        "\n",
        "Dormann et al. (2013) suggest that pairs of regressors with a correlation of of less than -0.7 or more than 0.7 can be problematic if included in a fitted model.\n",
        "\n",
        "This approach can only detect a potential collinearity problems for the simplest kinds of linear relationships.\n",
        "\n",
        "### Correlation example\n",
        "\n",
        "The `cor_stats` function in the **api2lm** package computes the pairwise correlations for the regressors included in a fitted `lm` object.\n",
        "\n",
        "The function will only print the values with magnitudes of at least 0.7 (or some other threshold the user specifies), making it easy to identify potentially problematic pairs of regressors.\n",
        "\n",
        "We use `cor_stats` to identify pairs of regressors with high correlation for the model we fit to the `seatpos` data."
      ],
      "id": "6181f0e9-697a-42d7-b86d-91c247e7a357"
    },
    {
      "cell_type": "code",
      "execution_count": null,
      "metadata": {},
      "outputs": [],
      "source": [
        "cor_stats(lmod)"
      ],
      "id": "6b656a1d-343e-4ff3-8455-10cd4d68d319"
    },
    {
      "cell_type": "markdown",
      "metadata": {},
      "source": [
        "-   The `Ht` and `HtShoes` variables have a correlation of 1 (when rounded to 2 decimal places).\n",
        "-   The `Ht` and `Weight` variables have a correlation of 0.83.\n",
        "-   Several other pairs of variables have a high correlations.\n",
        "\n",
        "We can customize the printing behavior of the `cor_stats` function to change the number of digits shown or the threshold used to censor values."
      ],
      "id": "842d0392-6c93-4137-8d06-fa25a3a336d5"
    },
    {
      "cell_type": "code",
      "execution_count": null,
      "metadata": {},
      "outputs": [],
      "source": [
        "print(cor_stats(lmod), digits = 3, threshold = 0.9)"
      ],
      "id": "5a62f1e4-9e47-424d-8be9-6e96d53d4041"
    },
    {
      "cell_type": "markdown",
      "metadata": {},
      "source": [
        "## Variance inflation factor\n",
        "\n",
        "The **variance inflation factor (VIF)** of $\\hat{\\beta}_j$ measures the relative increase in $\\mathrm{var}(\\hat{\\beta}_j)$ that results from the model’s regressors not being orthogonal.\n",
        "\n",
        "VIFs are the standard tool for identifying combinations of regressors exhibiting collinearity.\n",
        "\n",
        "Recall that practical collinearity occurs when regressors are approximate linear combinations of each other.\n",
        "\n",
        "If one regressor is an approximate linear combination of the other regressors, then regressing that regressor on the other regressors should result in a model with a large coefficient of determination ($R^2$).\n",
        "\n",
        "Let $R_j^2$ denote the coefficient of determination when regressing $X_j$ on $X_1, X_2, \\ldots, X_{j-1}, X_{j+1}, \\ldots, X_{p-1}$.\n",
        "\n",
        "The variance inflation factor of $\\hat{\\beta}_j$ is computed as $$\n",
        "VIF_{j} = \\frac{1}{1-R_j^2}.\n",
        "$$\n",
        "\n",
        "The variance of the estimated regression coefficient can be expressed as $$\n",
        "\\mathrm{var}(\\hat{\\beta}_j)= \\sigma^2 \\left( \\frac{1}{1-R_j^2} \\right)\\frac{1}{(n-1) s_j^2} = \\sigma^2 (VIF_j)\\frac{1}{(n-1) s_j^2},\n",
        "$$ where $s_j^2=\\sum_{i=1}^n (x_{i,j} - \\bar{x}_j)^2$ is the sample variance of the observed values of $X_j$ and $\\bar{x}_j$ is the sample mean of the observed values of $X_j$.\n",
        "\n",
        "Notice that as $R_j^2$ gets closer to 1 (i.e., we move closer to exact linear dependence between $X_j$ and the other regressors), then $VIF_j$ becomes larger.\n",
        "\n",
        "If $VIF_j \\geq 10$, then there is a potential collinearity problem with $X_j$.\n",
        "\n",
        "-   A more conservative threshold is 5, since that will identify more regressors with potential collinearity problems.\n",
        "\n",
        "A VIF of 1 indicates that a regressor is orthogonal to all the other regressors.\n",
        "\n",
        "As a side note, the equation above for $\\mathrm{var}(\\hat{\\beta}_j)$ tells us that:\n",
        "\n",
        "-   If the observed values $X_j$ do not vary much, then the variance of $\\hat{\\beta}_j$ will be larger.\n",
        "-   If $s_j$ is large (i.e., the observed values of $X_j$ do vary a lot), then $\\mathrm{var}(\\hat{\\beta}_j)$ will be smaller.\n",
        "-   This gives us insight in choosing the values of our predictor variables when we are doing a controlled experiment.\n",
        "\n",
        "### VIF example\n",
        "\n",
        "We can use the `vif_stats` function in the **api2lm** package to identify collinear regressors."
      ],
      "id": "09fa2fed-8dc3-4532-adbb-236412b1c473"
    },
    {
      "cell_type": "code",
      "execution_count": null,
      "metadata": {},
      "outputs": [],
      "source": [
        "vif(lmod)"
      ],
      "id": "24cb9767-598c-458d-b758-b5d499b06e75"
    },
    {
      "cell_type": "markdown",
      "metadata": {},
      "source": [
        "We see that the variances of `HtShoes` and `Ht` are extremely inflated and well above the threshold of 10.\n",
        "\n",
        "There appears to be a multicollinearity problem in our data set.\n",
        "\n",
        "VIF is not an appropriate statistic for assessing collinearity for sets of related regressors like dummy-variable regressors or polynomial regressors.\n",
        "\n",
        "-   The **generalized VIF** should be used in these cases.\n",
        "-   The VIF is adjusted by the size of their joint confidence region.\n",
        "-   The `vif` function in the **car** package automatically computes the generalized VIF for related regressors.\n",
        "\n",
        "# Remediation\n",
        "\n",
        "How do we address the presence of collinearity?\n",
        "\n",
        "The most common approaches are:\n",
        "\n",
        "-   Removing one or more collinear regressors.\n",
        "-   Making simple transformations of the regressors.\n",
        "    -   Centering the regressors (subtracting their mean)\n",
        "    -   Scaling the regressors (dividing by their standard deviation).\n",
        "    -   Standardizing regressors (centering and scaling the regressors).\n",
        "-   Combining multiple regressors into a single regressor.\n",
        "\n",
        "## Amputation\n",
        "\n",
        "We remove one or more regressors from our analysis because they seem to be trying to play the same role in the model.\n",
        "\n",
        "Removing a regressor from a model when the regressor has a non-zero coefficient will result in a biased model.\n",
        "\n",
        "## Simple transformation\n",
        "\n",
        "Simple transformation can sometimes correct the collinearity problem.\n",
        "\n",
        "The intercept column of $\\mathbf{X}$ becomes orthogonal to the other regressors when the other regressors are centered.\n",
        "\n",
        "-   In that case, the interpretation of the intercept is that it is the mean response when the regressors are at their sample mean values.\n",
        "\n",
        "## Polynomial correction\n",
        "\n",
        "Centering a regressor BEFORE using it to construct polynomial terms can help mitigate problems with collinearity among the polynomial terms but will not remove all problems.\n",
        "\n",
        "Even better, use the `poly` function to create orthogoal polynomial regressors.\n",
        "\n",
        "## Combination\n",
        "\n",
        "Combining the collinear regressors into a single regressor means they can’t be collinear in our model.\n",
        "\n",
        "-   The is essentially what happens in Principal Component Analysis, which results in a set of orthogonal regressors.\n",
        "-   The new regressor will have a novel interpretation.\n",
        "\n",
        "## Correction example\n",
        "\n",
        "We address the collinearity issue in the model we fit to the `seatpos` data be removing collinear regressors.\n",
        "\n",
        "We start by removing `Ht`, which had the largest variance inflation."
      ],
      "id": "baf7d8dc-3f2f-4bcf-b2de-84bf2fc747ce"
    },
    {
      "cell_type": "code",
      "execution_count": null,
      "metadata": {},
      "outputs": [],
      "source": [
        "lmod2 <- update(lmod, . ~ . - Ht)\n",
        "vif(lmod2)"
      ],
      "id": "d5a58063-f201-4438-b701-405ead80da02"
    },
    {
      "cell_type": "markdown",
      "metadata": {},
      "source": [
        "Seeing that `HtShoes` still has an inflated variance, we choose to remove it from our model also.\n",
        "\n",
        "-   Conceptually, the subject’s preferred seating position is more impacted by their seated height than their standing height."
      ],
      "id": "72f8adc2-5de2-4304-af06-b0280a7a065f"
    },
    {
      "cell_type": "code",
      "execution_count": null,
      "metadata": {},
      "outputs": [],
      "source": [
        "lmod3 <- update(lmod2, . ~ . - HtShoes)\n",
        "vif(lmod3)"
      ],
      "id": "b0d1773e-a36d-4af7-9c48-971ed6f4094b"
    },
    {
      "cell_type": "markdown",
      "metadata": {},
      "source": [
        "None of our remaining predictors are associated with variance inflation.\n",
        "\n",
        "Notice that our original fitted model, `lmod`, has an $R^2$ value of 0.687."
      ],
      "id": "d0fc7d14-ccc3-4aab-92b0-351e847d029d"
    },
    {
      "cell_type": "code",
      "execution_count": null,
      "metadata": {},
      "outputs": [],
      "source": [
        "summary(lmod)$r.squared"
      ],
      "id": "fbc51c14-2389-4f0b-9f80-cc9d99f40d17"
    },
    {
      "cell_type": "markdown",
      "metadata": {},
      "source": [
        "Our simplified model, `lmod3`, has an $R^2$ value of 0.679 while having 2 fewer regressors.\n",
        "\n",
        "The simplified model explains nearly as much response variation as the original model while not having any apparent issues with collinearity.\n",
        "\n",
        "We should still perform variable selection to identify the best regressors to include in our model.\n",
        "\n",
        "# Final comments\n",
        "\n",
        "Collinearity is really only an issue when our goal is describing the relationship between the regressors and the response because collinearity make the estimated regression coefficients unstable.\n",
        "\n",
        "If the goal of our analysis is prediction, then collinearity doesn’t need to be examined.\n",
        "\n",
        "Chatterjee and Hadi (2006) recommend examining collinearity after we come up with a suitable model (generally after variable selection and checking other assumptions related to structure and the errors).\n",
        "\n",
        "If we find that we should remove certain regressors from our model, then we may need to go through the variable selection process again.\n",
        "\n",
        "# References\n",
        "\n",
        "Chatterjee, Samprit, and Ali S Hadi. 2006. *Regression Analysis by Example, 4th Edition*. John Wiley & Sons.\n",
        "\n",
        "Dormann, Carsten F., Jane Elith, Sven Bacher, Carsten Buchmann, Gudrun Carl, Gabriel Carré, Jaime R. García Marquéz, et al. 2013. “Collinearity: A Review of Methods to Deal with It and a Simulation Study Evaluating Their Performance.” *Ecography* 36 (1): 27–46. <https://doi.org/10.1111/j.1600-0587.2012.07348.x>."
      ],
      "id": "91ce0734-fdaf-4d51-a063-5f51ddb2833c"
    }
  ],
  "nbformat": 4,
  "nbformat_minor": 5,
  "metadata": {
    "kernelspec": {
      "name": "ir",
      "display_name": "R",
      "language": "R"
    }
  }
}