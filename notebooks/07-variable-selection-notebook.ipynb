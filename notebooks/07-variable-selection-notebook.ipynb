{
  "cells": [
    {
      "cell_type": "markdown",
      "metadata": {},
      "source": [
        "# Chapter 7 - Variable selection\n",
        "\n",
        "Joshua French\n",
        "\n",
        "To open this information in an interactive Colab notebook, click or scan the QR code below.\n",
        "\n",
        "<a href=\"https://colab.research.google.com/github/jfrench/LinearRegression/blob/master/notebooks/07-variable-selection-notebook.ipynb\"> <img src=\"https://raw.githubusercontent.com/jfrench/LinearRegression/ca710f0fdb00102805333e9407b5cc271da0d59f/images/qr-variable-selection.svg\"> </a>\n",
        "\n",
        "------------------------------------------------------------------------"
      ],
      "id": "5b255ce8-283c-485a-9522-ce0be4d48544"
    },
    {
      "cell_type": "code",
      "execution_count": null,
      "metadata": {},
      "outputs": [],
      "source": [
        "if(!require(faraway, quietly = TRUE)) {\n",
        "  install.packages(\"faraway\",\n",
        "                   repos = \"https://cran.rstudio.com/\")\n",
        "}\n",
        "if(!require(leaps, quietly = TRUE)) {\n",
        "  install.packages(\"leaps\", repos = \"https://cran.rstudio.com/\")\n",
        "  library(leaps)\n",
        "}\n",
        "if(!require(caret, quietly = TRUE)) {\n",
        "  install.packages(\"caret\", repos = \"https://cran.rstudio.com/\")\n",
        "  library(caret)\n",
        "}"
      ],
      "id": "dbdcf569-56ae-4c2f-b111-a168936136fa"
    },
    {
      "cell_type": "markdown",
      "metadata": {},
      "source": [
        "We adjust some printing options for clarity."
      ],
      "id": "20fa3266-22c5-45d4-ae17-2aeb9bcb5fb8"
    },
    {
      "cell_type": "code",
      "execution_count": null,
      "metadata": {},
      "outputs": [],
      "source": [
        "options(digits = 7, scipen = 2)"
      ],
      "id": "f025b4e0-43d5-4cdb-b732-3e1c31cec3e5"
    },
    {
      "cell_type": "markdown",
      "metadata": {},
      "source": [
        "# Choosing our regressors\n",
        "\n",
        "We do not know what model we should fit to our data when we start the analysis process.\n",
        "\n",
        "We use the initial data exploration process to give us insight into which variables and relationships we might need to capture with our fitted model.\n",
        "\n",
        "*Variable selection* is the process of selecting the regressors that should be included in our regression model.\n",
        "\n",
        "-   The variable selection process guides us in objectively identifying the “best” subset of regressors to include in our model.\n",
        "    -   What is meant by “best”?\n",
        "\n",
        "Why do we need to perform variable selection?\n",
        "\n",
        "-   Wouldn’t it be better to include all regressors in our model?\n",
        "\n",
        "Including all available regressors in our model may be a bad decision.\n",
        "\n",
        "The more parameters we need to estimate the less precise our estimates tend to be.\n",
        "\n",
        "-   The data can only provide a limited amount of information and that information must be divided among more parameters, leaving less information to make the estimates precise.\n",
        "\n",
        "Adding additional regressors to our model makes the model more complex.\n",
        "\n",
        "-   Interpreting the effect of a regressor in a complex model will be more challenging since it may interact with the other regressors in the model.\n",
        "\n",
        "Data collection can be an expensive, non-trivial task.\n",
        "\n",
        "-   Including unnecessary predictors in our data set can waste time and money.\n",
        "\n",
        "Many data sets have more regressors than observations.\n",
        "\n",
        "-   The model will be non-identifiable if we use all regressors, and we will not be able to estimate the parameters of the model using OLS.\n",
        "-   We must reduce the number of regressors in order to do statistical analysis.\n",
        "\n",
        "Similar to what has been suggested by Chatterjee and Hadi (2015) and Faraway (2014), we will attempt to find the simplest model that adequately explains the data.\n",
        "\n",
        "-   The principle of parsimony.\n",
        "-   Occam’s razor.\n",
        "\n",
        "There are two main aspects to performing a variable selection procedure:\n",
        "\n",
        "-   The strategy used to search for the “best” model.\n",
        "-   The criterion used to select the “best” model.\n",
        "\n",
        "It is also important to remember that variable selection is highly impacted by:\n",
        "\n",
        "-   Transformations of the response and regressor variables included in the model.\n",
        "-   Observations that wield unusually great power in determining the values of the estimated coefficients.\n",
        "\n",
        "Variable selection is not a linear process.\n",
        "\n",
        "The process is usually something like:\n",
        "\n",
        "1.  Use a variable selection procedure to select a model.\n",
        "2.  Identify deficiencies in our model.\n",
        "3.  Use the information learned in step 2 to start the model selection process over at step 1 until we have a model we deem to be acceptable.\n",
        "\n",
        "# Illustration data set\n",
        "\n",
        "To illustrate the variable selection process we will consider the `prostate` data set, which is available in the **faraway** R package. The data set provides information about 97 men who were going to receive a radical prostatectomy.\n",
        "\n",
        "The `prostate` data set is a data frame has 97 rows and 9 columns. The **faraway** package provides the following descriptions of the variables:\n",
        "\n",
        "-   `lcavol`: log(cancer volume).\n",
        "-   `lweight`: log(prostate weight).\n",
        "-   `age`: age in years.\n",
        "-   `lbph`: log(benign prostatic hyperplasia amount).\n",
        "-   `svi`: seminal vesicle invasion.\n",
        "-   `lcp`: log(capsular penetration).\n",
        "-   `gleason`: Gleason score.\n",
        "-   `pgg45`: percentage Gleason scores 4 or 5.\n",
        "-   `lpsa`: log(prostate specific antigen).\n",
        "\n",
        "We load this data set."
      ],
      "id": "4e185d8b-04ce-4d6d-9905-7248ad7f98f2"
    },
    {
      "cell_type": "code",
      "execution_count": null,
      "metadata": {},
      "outputs": [],
      "source": [
        "data(prostate, package = \"faraway\")"
      ],
      "id": "ccdf7dce-03df-4759-bc65-1398cf2ba701"
    },
    {
      "cell_type": "markdown",
      "metadata": {},
      "source": [
        "The `svi` variable is a factor, so we convert it to a factor with appropriate levels."
      ],
      "id": "24be3db1-f463-471b-8385-57d8eaf31e7c"
    },
    {
      "cell_type": "code",
      "execution_count": null,
      "metadata": {},
      "outputs": [],
      "source": [
        "prostate$svi <- factor(prostate$svi, labels = c(\"non-invasive\", \"invasive\"))"
      ],
      "id": "c9ed3650-e5dd-431c-b8f5-730f4be0b359"
    },
    {
      "cell_type": "markdown",
      "metadata": {},
      "source": [
        "# Search strategies\n",
        "\n",
        "There are three main search strategies frequently used to pick a best model.\n",
        "\n",
        "## Exhaustive search\n",
        "\n",
        "An *exhaustive search* fits possible models using all combinations of the available regressors.\n",
        "\n",
        "-   If the number of available regressors is $p$ (including the intercept-related regressor), there are $2^p$ possible models.\n",
        "-   An exhaustive search is not feasible unless the number of regressors is relatively small.\n",
        "    -   “Relatively small” continues to become larger as our computers become more powerful.\n",
        "    -   Approaches for reducing the computational cost of the exhaustive approach are available, e.g., Schatzoff, Tsao, and Fienberg (1968) and Furnival (1971).\n",
        "\n",
        "## Best subset regression\n",
        "\n",
        "We use the following notation:\n",
        "\n",
        "-   $\\mathcal{M}$: a specific regression model.\n",
        "-   $RSS_{\\mathcal{M}}$: the RSS for fitted model $\\mathcal{M}$.\n",
        "-   $p_{\\mathcal{M}}$: the number of estimated regression coefficients for model $\\mathcal{M}$.\n",
        "\n",
        "The *best subset* search strategy determines the model $\\mathcal{M}$ that minimizes the $RSS_{\\mathcal{M}}$ for each value of $p_{\\mathcal{M}}$, where $1\\leq p_{\\mathcal{M}} \\leq p$ (Hastie, Tibshirani, and Tibshirani 2020).\n",
        "\n",
        "-   The is helpful because the selection criterion for a specific value of $p_{\\mathcal{M}}$ is often optimized by the model that minimizes the RSS for that value of $p_{\\mathcal{M}}$.\n",
        "-   Furnival and Wilson (1974) proposed a “leaps and bounds” algorithm to efficiently perform best subset selection.\n",
        "\n",
        "An efficient best subset search is implemented in the `regsubsets` function in the **leaps** package.\n",
        "\n",
        "## Stepwise regression\n",
        "\n",
        "The *stepwise regression* search strategy adds or removes a regressor from a model based on whether it optimizes the selection criterion under consideration.\n",
        "\n",
        "-   *Forward selection* starts with the intercept-only model and then sequentially adds the regressor that improves the selection criterion the most.\n",
        "-   *Backward elimination* starts with the model that includes all regressors (the complete model) and then sequentially removes the regressor that improves the selection criterion the most.\n",
        "-   *Stepwise selection* starts with the complete model and then sequentially removes or adds the regressor that improves the selection criterion the most.\n",
        "    -   It is similar to backward elimination but can also re-add a regressor that has already been removed from the model.\n",
        "    -   It can also be implemented with a forward selection approach, but R uses the backward elimination-based approach.\n",
        "-   A stepwise regression search strategy terminates when the selection criterion cannot be improved by adding or removing a single regressor.\n",
        "\n",
        "Stepwise regression is implemented in the `step` function in the **stats** package (which is bundled with the base version of R).\n",
        "\n",
        "# Selection criteria\n",
        "\n",
        "We typically use one or more selection criteria to evaluate the fit of a model to our data.\n",
        "\n",
        "We describe many common selection criteria below.\n",
        "\n",
        "## R-squared, adjusted R-squared, and $\\hat{\\sigma}^2$\n",
        "\n",
        "One of the most common selection criteria is the coefficient of determination, $R^2$. The $R^2$ for model $\\mathcal{M}$ is defined as\n",
        "\n",
        "$$\n",
        "R^2_{\\mathcal{M}} = 1 - \\frac{RSS_{\\mathcal{M}}}{TSS}.\n",
        "$$\n",
        "\n",
        "We favor regression models with larger values of $R^2_{\\mathcal{M}}$.\n",
        "\n",
        "-   $R^2_{\\mathcal{M}}$ monotonically increases with the number of regressors and shouldn’t be used to choose between models with different numbers of regressors.\n",
        "\n",
        "Recall that the adjusted coefficient of determination modifies the $R^2$ statistic to account for model complexity.\n",
        "\n",
        "The formula for $R^2_a$ for model $\\mathcal{M}$, $R^2_{a,\\mathcal{M}}$, is $$\n",
        "R^2_{a,\\mathcal{M}} = 1 - \\frac{RSS_\\mathcal{M}/(n-p_\\mathcal{M})}{TSS/(n-1)}.\n",
        "$$\n",
        "\n",
        "$R^2_{a,\\mathcal{M}}$ is only supposed to increase when adding a new regressor to a model results in a substantial reduction in the RSS.\n",
        "\n",
        "We favor regression models with larger values of $R^2_{a,\\mathcal{M}}$.\n",
        "\n",
        "Equivalent to maximizing the $R^2_{a,\\mathcal{M}}$ is finding the model $\\mathcal{M}$ that minimizes the associated estimated error variance, $\\hat{\\sigma}^2$, which makes up the numerator of the proportion in the formula for $R^2_a$.\n",
        "\n",
        "The estimated error variance of model $\\mathcal{M}$ is defined as\n",
        "\n",
        "$$\n",
        "\\hat{\\sigma}^2_\\mathcal{M} = \\frac{RSS_\\mathcal{M}}{n-p_\\mathcal{M}}.\n",
        "$$\n",
        "\n",
        "For models with a fixed value of $p_\\mathcal{M}$ (i.e., the same number of regressors), the $R^2_\\mathcal{M}$, $R^2_{a,\\mathcal{M}}$, and $\\hat{\\sigma}^2_\\mathcal{M}$ statistics are all optimized by finding the model that minimizes the RSS, so best subset selection is an excellent search strategy for these statistics.\n",
        "\n",
        "## Best subset $R^2_a$ `prostate` example\n",
        "\n",
        "We now use a best subset regression approach to identify the “best” model based on the $R^2_a$ statistic.\n",
        "\n",
        "To perform the initial best subsets regression we use the `regsubsets` function in the **leaps** package. The main arguments of `regsubsets` are:\n",
        "\n",
        "-   `x`: A model formula describing the largest model (in terms of regressors) to consider (preferable) or the $\\mathbf{X}$ matrix of the largest model to consider.\n",
        "-   `data`: The data frame containing the data. We must include this argument if the formula in `x` relies on variables in `data`.\n",
        "-   `nvmax`: The maximum number of subsets to consider (i.e., the number of regressors, excluding the intercept, in the model).\n",
        "    -   The default value of `nvmax` is 8, so this must be increased if we want to consider more than 8 regressors.\n",
        "-   `force.in`: columns of $\\mathbf{X}$ that must be kept in each model.\n",
        "-   `force.out`: columns of $\\mathbf{X}$ that must be kept out of each model.\n",
        "\n",
        "We specify the complete model for the `prostate` data in the `regsubsets` function below."
      ],
      "id": "208c995c-19e3-4043-b70f-9182c9f88213"
    },
    {
      "cell_type": "code",
      "execution_count": null,
      "metadata": {},
      "outputs": [],
      "source": [
        "rs <- regsubsets(lpsa ~ ., data = prostate)"
      ],
      "id": "755ac648-d810-41ec-b7c8-7c75785d77d7"
    },
    {
      "cell_type": "markdown",
      "metadata": {},
      "source": [
        "The `rs` object from the `regsubsets` function can be summarized using the `summary` function."
      ],
      "id": "af251f61-ec9a-4e42-8573-4e95ff446dfb"
    },
    {
      "cell_type": "code",
      "execution_count": null,
      "metadata": {},
      "outputs": [],
      "source": [
        "summary(rs)"
      ],
      "id": "cbf001c4-3483-4282-9d3e-1b1a69ffccc2"
    },
    {
      "cell_type": "markdown",
      "metadata": {},
      "source": [
        "The `summary` function tells us:\n",
        "\n",
        "-   The model `lpsa ~ lcavol` (using formula notation) is the 1 regressor model that minimizes the RSS.\n",
        "-   The model `lpsa ~ lcavol + lweight` is the 2 regressor model that minimizes the RSS.\n",
        "-   The model `lpsa ~ lcavol + lweight + svi` is the 3 regressor model that minimizes the RSS.\n",
        "-   etc.\n",
        "\n",
        "The `plot` method for `regsubsets` objects can be used to easily identify the model that optimizes the selection criterion.\n",
        "\n",
        "-   We change the `scale` argument to indicate the statistic we want to plot.\n",
        "-   The options include `\"bic\"`, `\"Cp\"`, `\"adjr2\"`, and `\"r2\"`.\n",
        "\n",
        "To determine the model the maximizes the $R^2_a$ statistic, we change the `scale` argument of the `plot` method to `\"adjr2\"`."
      ],
      "id": "fad21449-4617-464e-9299-5c6f137075e4"
    },
    {
      "cell_type": "code",
      "execution_count": null,
      "metadata": {},
      "outputs": [],
      "source": [
        "plot(rs, scale = \"adjr2\")"
      ],
      "id": "88c1778c-0932-4bf8-89ca-89315d2b9b98"
    },
    {
      "cell_type": "markdown",
      "metadata": {},
      "source": [
        "The top row of the plot indicates the model that maximizes the adjusted $R^2$.\n",
        "\n",
        "-   The model with an intercept, `lcavol`, `lweight`, `age`, `lpbh`, `sviinvasive` (the indicator variable for the `invasive` level of `svi`), `lcp`, and `pgg45` is the model that maximizes the adjusted $R^2$.\n",
        "\n",
        "A similar plot for the coefficient of determination, $R^2$, can be constructed by specifying `scale = \"r2\"` in the `plot` function.\n",
        "\n",
        "It is also common to visualize the results of a best subset search strategy by creating a scatter plot of the selection criterion for the best model for each value of $p_{\\mathcal{M}}$ versus $p_{\\mathcal{M}}$ or the number of regressors.\n",
        "\n",
        "We can extract the best adjusted $R^2$ statistics for each value of $p_{\\mathcal{M}}$ from the `summary` of `rs` and plot those statistics versus the number of regressors in the model."
      ],
      "id": "bb01eadb-6df3-410c-b5a2-b8ec7eb7848f"
    },
    {
      "cell_type": "code",
      "execution_count": null,
      "metadata": {},
      "outputs": [],
      "source": [
        "srs <- summary(rs)\n",
        "plot(srs$adjr2 ~ seq_along(srs$adjr2), xlab = \"number of regressors\", ylab = \"Adjusted R-squared\")"
      ],
      "id": "354c8621-6a06-496e-b5ce-d79706575a6b"
    },
    {
      "cell_type": "markdown",
      "metadata": {},
      "source": [
        "As before, we can see that the best model has 7 regressors. We must match this information with the information presented by the `summary` function to identify the regressors in the model that optimizes the selection criterion.\n",
        "\n",
        "## Information criteria\n",
        "\n",
        "*Information criteria* are statistics meant to measure how well a model fits the observed data while also accounting for the complexity of the model.\n",
        "\n",
        "-   An adjustment is needed because we can almost always make our model fit the data “better” by making the model more complex.\n",
        "-   To make comparisons between the models fair, we must account for complexity in addition to how well they fit.\n",
        "\n",
        "Akaike (1973) proposed the most famous information criterion, which is now known as the Akaike Information Criterion (AIC).\n",
        "\n",
        "The AIC statistic is computed for model $\\mathcal{M}$ as\n",
        "\n",
        "$$\n",
        "AIC_{\\mathcal{M}} = -2\\ln L(\\mathcal{M})+2p_{\\mathcal{M}}.\n",
        "$$\n",
        "\n",
        "The log-likelihood function, $\\ln L(\\mathcal{M})$, quantifies the likelihood of the observed data set being produced by the fitted model.\n",
        "\n",
        "-   $L(\\mathcal{M})$ is the joint density of the data evaluated at the maximum likelihood estimates of the regression coefficients and the error variance.\n",
        "    -   The OLS estimator of $\\boldsymbol{\\beta}$ is identical to the maximum likelihood estimator of $\\boldsymbol{\\beta}$.\n",
        "    -   The maximum likelihood estimator of $\\sigma^2$ for model $\\mathcal{M}$ is $\\hat{\\sigma}^2_{MLE}=RSS_{\\mathcal{M}}/n$.\n",
        "-   $L(\\mathcal{M})$ is larger when the model fits the data better.\n",
        "-   $-2L(\\mathcal{M})$ will be smaller when the model fits the data better.\n",
        "\n",
        "The log-likelihood function of a fitted linear regression model $\\mathcal{M}$ that assumes normally-distributed responses is computed as\n",
        "\n",
        "$$\n",
        "\\ln L(\\mathcal{M}) = -\\frac{n}{2}\\Bigl(\\ln(RSS_{\\mathcal{M}}/n) + \\ln(2\\pi) +1\\Bigr).\n",
        "$$\n",
        "\n",
        "$p_{\\mathcal{M}}$ is a measure of the model complexity.\n",
        "\n",
        "-   The larger $p_{\\mathcal{M}}$ is, the more complex the model is.\n",
        "\n",
        "When using the AIC statistic to evaluate model fit, we prefer models with a smaller AIC statistic.\n",
        "\n",
        "Schwarz (1978) proposed the Bayesian Information Criterion (BIC), which is very similar to the AIC statistic.\n",
        "\n",
        "For a specific model $\\mathcal{M}$, the BIC statistic is computed as\n",
        "\n",
        "$$\n",
        "BIC_{\\mathcal{M}} = -2\\ln L(\\mathcal{M})+\\log(n)p_{\\mathcal{M}}.\n",
        "$$\n",
        "\n",
        "The main difference between the AIC and BIC statistics is that the BIC statistic will penalize more harshly for model complexity anytime $n\\geq 8$ (since $\\log(n) \\geq 2$).\n",
        "\n",
        "When using the BIC statistic to evaluate model fit, we prefer models with smaller BIC statistics.\n",
        "\n",
        "The BIC statistic tends to favor simpler models than the AIC statistic.\n",
        "\n",
        "For models with a fixed value of $p_\\mathcal{M}$ (i.e., the same number of regressors), both the AIC and BIC statistics are optimized by finding the model that minimizes the RSS, so best subset regression is an excellent search strategy for these selection criteria.\n",
        "\n",
        "## Best subset BIC `prostate` example\n",
        "\n",
        "We continue our previous example of the `prostate` data and attempt to find the model that minimizes the BIC statistic.\n",
        "\n",
        "We use the `plot` function on the `rs` object produced by the `regsubsets` function while setting `scale = \"bic\"`."
      ],
      "id": "0190ba7a-9b67-4640-ba8a-ca4924a4310d"
    },
    {
      "cell_type": "code",
      "execution_count": null,
      "metadata": {},
      "outputs": [],
      "source": [
        "plot(rs, scale = \"bic\")"
      ],
      "id": "7f7265b1-f8cc-4c5e-abf3-01eb75e2c65b"
    },
    {
      "cell_type": "markdown",
      "metadata": {},
      "source": [
        "The model that includes the intercept, `lcavol`, `lweight`, and `sviinvasive` minimizes the BIC criterion.\n",
        "\n",
        "## Stepwise selection and forward selection with AIC and BIC `prostate` example\n",
        "\n",
        "The `regsubsets` function doesn’t compute the `AIC` statistic.\n",
        "\n",
        "However, we can do a stepwise regression search strategy using this statistic.\n",
        "\n",
        "To implement a stepwise selection or backward elimination search strategy, we must first fit the complete model that has all the regressors under consideration."
      ],
      "id": "f366a2d6-4af3-4ec2-a5a3-390dbd691d99"
    },
    {
      "cell_type": "code",
      "execution_count": null,
      "metadata": {},
      "outputs": [],
      "source": [
        "lmod <- lm(lpsa ~ ., data = prostate)"
      ],
      "id": "d4ac5dda-5252-4216-9f42-51a1f5b017ae"
    },
    {
      "cell_type": "markdown",
      "metadata": {},
      "source": [
        "We can use the `step` function to implement a stepwise regression search strategy using the AIC or BIC statistics. The `step` function has several main arguments\n",
        "\n",
        "-   `object`: the fitted model object.\n",
        "-   `direction`: the stepwise regression approach. The choices can be:\n",
        "    -   `\"both\"`: stepwise selection.\n",
        "    -   `\"forward\"`: forward selection.\n",
        "    -   `\"backward\"`: backward elimination.\n",
        "-   `k`: the penalty parameter multiplied by $p_\\mathcal{M}$.\n",
        "    -   The default is 2, which results in computing the AIC statistic.\n",
        "    -   Specifying `k = log(nobs(object))`, i.e., `k = log(n)`, will results in computing the BIC statistic.\n",
        "-   `scope`: the range of models examined in the search. This is mostly relevant in implementing forward selection, in which case the formula for the fitted complete model should be provided.\n",
        "\n",
        "We run the stepwise selection algorithm using the AIC selection criterion."
      ],
      "id": "158d6f9c-fb02-4657-88e5-b7437275af83"
    },
    {
      "cell_type": "code",
      "execution_count": null,
      "metadata": {},
      "outputs": [],
      "source": [
        "step(lmod, direction = \"both\")"
      ],
      "id": "3fea1bc8-68fc-410b-b80a-87c7b673b74e"
    },
    {
      "cell_type": "markdown",
      "metadata": {},
      "source": [
        "To summarize the output from the `step` function:\n",
        "\n",
        "1.  The first model has all regressors with a starting AIC statistic of -58.32.\n",
        "2.  A sequence of models are fit by sequentially removing a regressor from the complete model and computing the AIC statistic for the new model.\n",
        "    -   The model that has all regressors except `gleason` has an AIC statistic of -60.2.\n",
        "    -   The model that has all regressors except `lcavol` has an AIC statistic of -20.6.\n",
        "    -   The model that minimizes the AIC is the one that removes `gleason`, so we remove `gleason` from the complete model and continue.\n",
        "    -   Using our formula notation, the best model is `lpsa ~ lcavol + lweight + age + lbph + svi + lcp + pgg45`.\n",
        "3.  We continue by computing the AIC statistic for the models that result from removing one regressor from the model that already excludes `gleason`.\n",
        "    -   We also compute the AIC statistic we would get if we added `gleason` back into the model.\n",
        "4.  We continue this iterative process until we have the model `lpsa ~ lcavol + lweight + age + lbph + svi`.\n",
        "    -   The algorithm terminates at this point because adding an available regressor or removing a regressor already in the model results in a larger AIC than the current model.\n",
        "\n",
        "Our final model is the model that includes the intercept, `lcavol`, `lweight`, `age`, `lbph`, and `svi`.\n",
        "\n",
        "We now implement the forward selection strategy using the BIC selection criterion.\n",
        "\n",
        "We must fit our initial model that has only an intercept."
      ],
      "id": "11a7ac5b-41d9-4912-af03-637b0630b4fd"
    },
    {
      "cell_type": "code",
      "execution_count": null,
      "metadata": {},
      "outputs": [],
      "source": [
        "lmod0 <- lm(lpsa ~ 1, data = prostate)"
      ],
      "id": "bf4b7bd2-0295-4ae9-9488-9ce511173b58"
    },
    {
      "cell_type": "markdown",
      "metadata": {},
      "source": [
        "The `scope` argument should be set to the formula of the complete model, which can be extracted using `formula(lmod)`."
      ],
      "id": "6053b3ee-7ee7-4dea-91db-87d6e142818a"
    },
    {
      "cell_type": "code",
      "execution_count": null,
      "metadata": {},
      "outputs": [],
      "source": [
        "step(lmod0, scope = formula(lmod), direction = \"forward\", k = log(nobs(lmod)))"
      ],
      "id": "d0ec9ef2-458c-41e0-aa40-aacf884162e2"
    },
    {
      "cell_type": "markdown",
      "metadata": {},
      "source": [
        "Our final model when using the forward selection search strategy and the BIC selection criterion includes `lcavol`, `lweight`, and `svi`, which is substantially simpler than the model produced by stepwise selection with the AIC statistic.\n",
        "\n",
        "## Mallow’s $C_p$ Statistic\n",
        "\n",
        "Mallow’s $C_p$ statistic is a criterion designed to quantify the predictive ability of a model.\n",
        "\n",
        "Mallow’s $C_p$ statistic estimates the total mean-squared error of our fitted values divided by the error variance, i.e.,\n",
        "\n",
        "$$\n",
        "\\frac{1}{\\sigma^2} \\sum_{i=1}^n E\\big[ (\\hat{Y}_i - E(Y_i))^2 \\big].\n",
        "$$\n",
        "\n",
        "Mallow’s $C_p$ statistic for model $\\mathcal{M}$ is the estimate of the quantity above and given by the equation\n",
        "\n",
        "$$\n",
        "C_{p_{\\mathcal{M}}} = \\frac{\\mbox{RSS}_{\\mathcal{M}}}{\\hat{\\sigma}^2} + 2p_{\\mathcal{M}} - n,\n",
        "$$ where $\\hat{\\sigma}^2$ is the estimated error variance for the complete model.\n",
        "\n",
        "Kutner et al. (2005) summarize how to use Mallow’s $C_p$ statistic.\n",
        "\n",
        "-   If a model with $p_{\\mathcal{M}}$ regression coefficients fits the data well and has little or no bias, then $E(C_{p_{\\mathcal{M}}}) \\approx p_{\\mathcal{M}}$.\n",
        "    -   A model with a biased fit will have $C_{p_{\\mathcal{M}}}$ much larger than $p_{\\mathcal{M}}$.\n",
        "    -   Models with $C_{p_{\\mathcal{M}}}$ less than $p_{\\mathcal{M}}$ do not show evidence of bias.\n",
        "    -   Mathematically, $C_p=p$ always for the complete model that includes all regressors. This tells us nothing about the predictive ability of the model.\n",
        "\n",
        "To use Mallow’s $C_p$ to select a model, we plot $C_{p_{\\mathcal{M}}}$ versus $p_{\\mathcal{M}}$ and compare this to the $45^{\\circ}$ line $C_{p_{\\mathcal{M}}}= p_{\\mathcal{M}}$ .\n",
        "\n",
        "We favor models with smaller $p_{\\mathcal{M}}$ and $C_{p_{\\mathcal{M}}}$ close to $p_\\mathcal{M}$.\n",
        "\n",
        "-   Because $C_p = p$ for the full model, the Mallow’s $C_p$ plot cannot provide evidence that the complete model is best. This plot doesn’t provide us with information about that scenario. Never conclude the complete model is best based on the Mallow’s $C_p$ statistic.\n",
        "\n",
        "## Mallow’s $C_p$ `prostate` example\n",
        "\n",
        "We can use the output of the `summary` function for our `regsubsets` object, `rs`, to identify the best model with respect to Mallow’s $C_p$."
      ],
      "id": "db3ccc8c-c67b-43dc-86f0-76074a32ec7d"
    },
    {
      "cell_type": "code",
      "execution_count": null,
      "metadata": {},
      "outputs": [],
      "source": [
        "# number of estimated coefficients\n",
        "p <- seq_along(srs$cp) + 1\n",
        "plot(srs$cp ~ p, ylab = \"Mallow's Cp\", ylim = c(0, max(p)))\n",
        "abline(0, 1)"
      ],
      "id": "0dee4eb9-641f-4efe-9b50-b0a88ae91cdb"
    },
    {
      "cell_type": "markdown",
      "metadata": {},
      "source": [
        "The value of $C_p$ closest to $p$ is $p = 6$ (the 5 regressor model).\n",
        "\n",
        "We refer back to the output of `summary(bs)`:"
      ],
      "id": "ae650097-20a5-4f5f-b565-411b39f78082"
    },
    {
      "cell_type": "code",
      "execution_count": null,
      "metadata": {},
      "outputs": [],
      "source": [
        "srs$which"
      ],
      "id": "e12b0cf6-5229-4ac3-86ae-df9d28064103"
    },
    {
      "cell_type": "markdown",
      "metadata": {},
      "source": [
        "The best subset 5 regressor model includes the intercept, `lcavol`, `lweight`, `age`, `lbph`, and `sviinvasive`.\n",
        "\n",
        "## Test statistics and p-values\n",
        "\n",
        "Test statistics and p-values are often used as selection criteria for dropping/adding individual regressors in conjunction with a stepwise regression search strategy.\n",
        "\n",
        "-   If performing backward elimination, we want to drop the least significant regressor, i.e., the regressor that has the largest p-value (or equivalently, the smallest test statistic.)\n",
        "-   If performing forward selection, we want to add the most significant regressor, i.e., the regressor that has the smallest p-value (or equivalently, the largest test statistic.)\n",
        "-   The procedure is terminated when all the test statistics are larger than some threshold, or more commonly, all the p-values are less than some threshold, $\\alpha_v$.\n",
        "    -   $\\alpha_v = 0.05$ or $0.10$ are common choices.\n",
        "\n",
        "Test statistics and p-values are not trustworthy in this setting because of the multiple comparisons problem.\n",
        "\n",
        "Test statistics and p-values should not be used as selection criterion unless a comparison between specific models is being made.\n",
        "\n",
        "However, we illustrate using this selection criterion below.\n",
        "\n",
        "## Backward elimination with test statistics `prostate` example\n",
        "\n",
        "We will perform backward elimination on the `prostate` data using p-values with $\\alpha_v = 0.10$.\n",
        "\n",
        "The `drop1` function can be used to implement the backward elimination search strategy with p-values/test statistics.\n",
        "\n",
        "-   The `test` argument should be set to `\"F\"`.\n",
        "    -   The test statistic and p-value are equivalent to the square of the test statistic based on a $t$ distribution for the $t$ test of a single coefficient.\n",
        "    -   If not specified, the function will automatically use the AIC statistic.\n",
        "-   The `add1` function can similarly be used for forward selection.\n",
        "\n",
        "We decide which regressor should be dropped first from the complete model."
      ],
      "id": "a9de214c-f41d-4c84-927e-8ab986b66e2e"
    },
    {
      "cell_type": "code",
      "execution_count": null,
      "metadata": {},
      "outputs": [],
      "source": [
        "drop1(lmod, test = \"F\")"
      ],
      "id": "ecf313e7-34d6-465a-86e3-5e4af981791f"
    },
    {
      "cell_type": "markdown",
      "metadata": {},
      "source": [
        "The `gleason` regressor has the smallest test statistic (0.0822) and the largest p-value (0.775), so it should be removed from the model.\n",
        "\n",
        "We use the `update` function to remove the `gleason` regressor from the complete model."
      ],
      "id": "24cdd570-e837-43b0-a268-33c5337fb30f"
    },
    {
      "cell_type": "code",
      "execution_count": null,
      "metadata": {},
      "outputs": [],
      "source": [
        "lmod2 <- update(lmod, formula = . ~ . - gleason)"
      ],
      "id": "a95610b7-7bc6-436e-8ad8-aa6ee1faaf64"
    },
    {
      "cell_type": "markdown",
      "metadata": {},
      "source": [
        "-   The `formula = . ~ . - gleason` means using the same response and regressors as the current model except that we delete `gleason` from the regressors in the model.\n",
        "\n",
        "We now continue this process successively until removing all the remaining regressors have a p-value less than 0.10."
      ],
      "id": "5d7f9d5f-fb7a-4c8c-b427-39d7958f2854"
    },
    {
      "cell_type": "code",
      "execution_count": null,
      "metadata": {},
      "outputs": [],
      "source": [
        "drop1(lmod2, test = \"F\")"
      ],
      "id": "6b53527c-941f-4869-9eba-4682eb52cd0d"
    },
    {
      "cell_type": "code",
      "execution_count": null,
      "metadata": {},
      "outputs": [],
      "source": [
        "lmod3 <- update(lmod2, formula = . ~ . - lcp)\n",
        "drop1(lmod3, test = \"F\")"
      ],
      "id": "bddf5d8a-38d5-4920-b2e3-09ec3605bab4"
    },
    {
      "cell_type": "code",
      "execution_count": null,
      "metadata": {},
      "outputs": [],
      "source": [
        "lmod4 <- update(lmod3, formula = . ~ . - pgg45)\n",
        "drop1(lmod4, test = \"F\")"
      ],
      "id": "e4722d8b-e7f9-4c20-a2c0-53d6c92c17b2"
    },
    {
      "cell_type": "code",
      "execution_count": null,
      "metadata": {},
      "outputs": [],
      "source": [
        "lmod5 <- update(lmod4, formula = . ~ . - age)\n",
        "drop1(lmod5, test = \"F\")"
      ],
      "id": "eb28ea5b-37bd-4ab9-aba6-8d3356ad8afe"
    },
    {
      "cell_type": "code",
      "execution_count": null,
      "metadata": {},
      "outputs": [],
      "source": [
        "lmod6 <- update(lmod5, formula = . ~ . - lbph)\n",
        "drop1(lmod6, test = \"F\")"
      ],
      "id": "b716f7c6-9b40-4572-a8c1-5f48df8d6e5a"
    },
    {
      "cell_type": "markdown",
      "metadata": {},
      "source": [
        "The final model includes the intercept and the regressors `lcavol`, `lweight`, and `svi`.\n",
        "\n",
        "-   Each of the regressors has a p-value less than 0.10.\n",
        "\n",
        "## Regularization methods\n",
        "\n",
        "*Regularization methods* add one or more penalty terms to the RSS and seek to minimize the penalized RSS.\n",
        "\n",
        "-   These penalties have the effect of “shrinking” the estimated coefficients.\n",
        "-   These models are typically better at prediction than the best model fit using OLS.\n",
        "-   The estimates produced by regularization methods are not unbiased.\n",
        "    -   Since the estimates are biased, these procedures should not be used if we are trying to determine the magnitude of the effect of a regressor on the response.\n",
        "\n",
        "The most best known regularization methods are ridge regression, LASSO, and the elastic net.\n",
        "\n",
        "*Ridge regression* (Hoerl and Kennard 2000) seeks to choose the estimated coefficients that minimizes the objective function\n",
        "\n",
        "$$\n",
        "\\sum_{i=1}^n (Y_i - \\hat{\\beta}_0 - \\sum_{j=1}^{p-1} x_{i,j} \\hat{\\beta}_j)^2 + \\lambda\\sum_{j=0}^{p-1} \\hat{\\beta}_j^2,\n",
        "$$ for $\\lambda \\geq 0$.\n",
        "\n",
        "The LASSO (least absolute shrinkage and selection operator) method proposed by Tibshirani (1996) seeks to minimize the objective function\n",
        "\n",
        "$$\n",
        "\\sum_{i=1}^n (Y_i - \\hat{\\beta}_0 - \\sum_{j=1}^{p-1} x_{i,j} \\hat{\\beta}_j)^2 + \\lambda\\sum_{j=0}^{p-1} |\\hat{\\beta}_j|,\n",
        "$$ for $\\lambda \\geq 0$.\n",
        "\n",
        "The elastic net (Zou and Hastie 2005) is a compromise between the ridge and LASSO regression methods and seeks to minimize\n",
        "\n",
        "$$\n",
        "\\sum_{i=1}^n (Y_i - \\hat{\\beta}_0 - \\sum_{j=1}^{p-1} x_{i,j} \\hat{\\beta}_j)^2 + \\lambda_1\\sum_{j=0}^{p-1} |\\hat{\\beta}_j| + \\lambda_2\\sum_{j=0}^{p-1} \\hat{\\beta}_j^2,\n",
        "$$ for $\\lambda_1 \\geq 0$ and $\\lambda_2 \\geq 0$.\n",
        "\n",
        "The $\\lambda, \\lambda_1, \\lambda_2$ are penalty weights that must be selected as part of the fitting process. We want to choose the $\\lambda$ that will result in the smallest penalized RSS.\n",
        "\n",
        "While the coefficients of the ridge regression and elastic net methods will shrink toward zero and be smaller than the OLS counterparts (assuming the penalties aren’t zero), they will never actually reach zero.\n",
        "\n",
        "The coefficients of the LASSO method will reach zero, so it can be quite useful as a variable selection procedure.\n",
        "\n",
        "We do not consider examples of regularization methods at this time.\n",
        "\n",
        "## Observed MSE, RMSE, MAE, and cross-validation\n",
        "\n",
        "### MSE, RMSE, and MAE\n",
        "\n",
        "The *observed mean square error (MSE)* of a model is the average of the squared prediction errors, i.e.,\n",
        "\n",
        "$$\\text{MSE} = \\frac{1}{n}\\sum_{i=1}^n (Y_i - \\hat{Y}_i)^2.$$\n",
        "\n",
        "-   For our observed data, the MSE would simply be the RSS divided by $n$.\n",
        "\n",
        "The *observed root mean squared error (RMSE)* is simply the square root of the MSE, and is sometimes used in place of the observed MSE.\n",
        "\n",
        "-   The RMSE or MSE will produce identical variable selection results since they are 1-1 transformations of each other.\n",
        "\n",
        "The *mean absolute error* is the average of the absolute difference between the true response and the predicted response, i.e.,\n",
        "\n",
        "$$\\text{MAE} = \\frac{1}{n}\\sum_{i=1}^n |Y_i - \\hat{Y}_i|.$$\n",
        "\n",
        "The observed MSE, RMSE, and MAE are intended to quantify the predictive accuracy of a model.\n",
        "\n",
        "-   Computing these statistics using all of the data will be overly optimistic about our model’s predictive ability since we are using the data we want to predict to build the prediction model!\n",
        "-   To get a more realistic assessment of prediction accuracy, we should use part of the data to fit our model and then use that model to predict the response values of the data we didn’t use.\n",
        "    -   This is the motivation behind a procedure called cross-validation.\n",
        "\n",
        "### Cross-validation\n",
        "\n",
        "*Cross-validation* partitions the data into at least two parts:\n",
        "\n",
        "-   A *training data set* that is used to fit the model.\n",
        "-   A *test data set* that we use estimate the fitted model’s predictive accuracy.\n",
        "\n",
        "The cross-validation procedure works as follows:\n",
        "\n",
        "1.  Split the data into a training and test set.\n",
        "2.  Using a training data set to fit a model.\n",
        "3.  Use the fitted model to predict the responses of the test set.\n",
        "4.  Compute the the prediction criterion (e.g, the MSE) using the predicted responses for the test set.\n",
        "\n",
        "The training and testing data sets for can be partitioned in different ways. We discuss two common approaches.\n",
        "\n",
        "#### Leave-One Out Cross-validation\n",
        "\n",
        "*Leave-one-out (LOO) cross-validation* uses each observation (individually) as a test data set, using the other $n-1$ observations as the training data.\n",
        "\n",
        "#### k-Fold Cross-validation\n",
        "\n",
        "*k-fold cross-validation* breaks the data into $k$ unique sets.\n",
        "\n",
        "-   For each set, the other $k-1$ sets are used as training data, and then the fitted model is used to predict the responses for the $k$th testing set.\n",
        "-   We must fit $k$ models to determine the observed MSE, RMSE, or MAE.\n",
        "\n",
        "Both LOO and k-fold cross-validation are conveniently implemented in the **caret** package.\n",
        "\n",
        "## Cross-validation `prostate` example\n",
        "\n",
        "The **caret** package (i.e., Classification And REgression Training) can be used to streamline the model training process for regression and classification problems.\n",
        "\n",
        "We will use both LOO and 5-fold cross-validation to compare the prediction accuracy of the complete model to the model that has only the regressors `lcavol`, `lweight`, and `svi`.\n",
        "\n",
        "-   Because 5-fold cross-validation will randomly partition the data into 5 groups, we will set the random number generator for reproducible results."
      ],
      "id": "95155bf3-7c6a-4b86-b2d1-8c161a01a2c7"
    },
    {
      "cell_type": "code",
      "execution_count": null,
      "metadata": {},
      "outputs": [],
      "source": [
        "set.seed(98)"
      ],
      "id": "0998bedb-1eb0-4f57-8079-b159f3aceb9d"
    },
    {
      "cell_type": "markdown",
      "metadata": {},
      "source": [
        "We first define the training/test splits using the `trainControl` function.\n",
        "\n",
        "-   We specify `method = \"cv\"` to indicate that we want to train using cross-validation.\n",
        "-   We specify `number = 5` to indicate that we want to perform 5-fold cross-validation."
      ],
      "id": "f7bec4ed-4c60-4ec3-95f3-3a30c78bfe10"
    },
    {
      "cell_type": "code",
      "execution_count": null,
      "metadata": {},
      "outputs": [],
      "source": [
        "cv_5fold <- trainControl(method=\"cv\", number = 5)"
      ],
      "id": "97a9edd2-9377-47fc-99ec-8425303767b7"
    },
    {
      "cell_type": "markdown",
      "metadata": {},
      "source": [
        "We next specify the formulas of the models wish to compare."
      ],
      "id": "03f5956d-8422-48f7-b679-d7aca45555a5"
    },
    {
      "cell_type": "code",
      "execution_count": null,
      "metadata": {},
      "outputs": [],
      "source": [
        "f0 = lpsa ~ lcavol + lweight + svi # reduced model\n",
        "f1 = lpsa ~ . # complete model"
      ],
      "id": "21be622d-12ec-4b61-983c-6a633a1535a7"
    },
    {
      "cell_type": "markdown",
      "metadata": {},
      "source": [
        "Next, we use the `train` function to train our model using the selected cross-validation procedure. The main arguments of the `train` function are:\n",
        "\n",
        "-   `form`: The formula of the model we want to train.\n",
        "-   `data`: The data frame in which the model variables are located.\n",
        "-   `trControl`: The selected cross-validation procedure.\n",
        "-   `method`: The fitting method.\n",
        "    -   We will set `method = \"lm\"` to fit a linear regression model.\n",
        "\n",
        "We train both models below"
      ],
      "id": "9f4c7d90-aec7-455b-b9e9-13e58c8eafb1"
    },
    {
      "cell_type": "code",
      "execution_count": null,
      "metadata": {},
      "outputs": [],
      "source": [
        "modela <- train(f0, data = prostate, trControl = cv_5fold, method = \"lm\")\n",
        "modelb <- train(f1, data = prostate, trControl = cv_5fold, method = \"lm\")"
      ],
      "id": "c63159a4-df26-40a9-ba2f-56958d714db4"
    },
    {
      "cell_type": "markdown",
      "metadata": {},
      "source": [
        "We now compare the results of our test predictions using the `summary` and `resamples` functions from the **caret** package.\n",
        "\n",
        "The `resamples` function takes:\n",
        "\n",
        "-   `x`: a list of fitted models fit to the same data set using the same training scheme.\n",
        "-   `modelNames`: (optional) A character vector with names for the fitted model.\n",
        "\n",
        "The `summary` function takes the output of the `resamples` function and summarizes the selection criteria for the tests partitions.\n",
        "\n",
        "-   The `mean` statistic for a selection criterion is the best single number to compare the fits of different models across all test partitions."
      ],
      "id": "3a32f823-77a0-4757-a5e5-3040917a9cac"
    },
    {
      "cell_type": "code",
      "execution_count": null,
      "metadata": {},
      "outputs": [],
      "source": [
        "resamp <- resamples(list(modela, modelb),\n",
        "                    modelNames = c(\"reduced\", \"complete\"))\n",
        "summary(resamp, metric = c(\"RMSE\", \"MAE\"))"
      ],
      "id": "90b55a24-dc19-435b-8a8d-4222575823f8"
    },
    {
      "cell_type": "markdown",
      "metadata": {},
      "source": [
        "The RMSE for the reduced model is 0.74 and 0.72 for the complete model. The MAE is 0.60 for the reduced model and 0.57 for the complete model.\n",
        "\n",
        "-   These results suggest we should prefer the complete model for prediction accuracy.\n",
        "\n",
        "Because our partitions are randomly selected, k-fold cross-validation results will change slightly if we rerun the procedure using a different random number seed!\n",
        "\n",
        "We now compare the fitted models using LOO cross-validation.\n",
        "\n",
        "We specify LOO cross-validation using the `trainControl` function below."
      ],
      "id": "e21139ea-ce19-4539-a45b-a35084b1939e"
    },
    {
      "cell_type": "code",
      "execution_count": null,
      "metadata": {},
      "outputs": [],
      "source": [
        "cv_loo <- trainControl(method=\"LOOCV\")"
      ],
      "id": "d0ae3373-569c-45af-a816-1a52331ccaa9"
    },
    {
      "cell_type": "markdown",
      "metadata": {},
      "source": [
        "We train the models using LOO cross-validation."
      ],
      "id": "c297271c-a768-49d3-a09f-cabe4e7ebd5d"
    },
    {
      "cell_type": "code",
      "execution_count": null,
      "metadata": {},
      "outputs": [],
      "source": [
        "modelc <- train(f0, data = prostate, trControl=cv_loo, method = \"lm\")\n",
        "modeld <- train(f1, data = prostate, trControl=cv_loo, method = \"lm\")"
      ],
      "id": "2cc4d437-e8b7-48be-a96a-16d2677c6ec7"
    },
    {
      "cell_type": "markdown",
      "metadata": {},
      "source": [
        "Extracting the `results` element of a fitted `train` object is a nice way to summarize the fit of the model."
      ],
      "id": "82bde9b5-fda3-418a-987b-fbdd4a5b42f5"
    },
    {
      "cell_type": "code",
      "execution_count": null,
      "metadata": {},
      "outputs": [],
      "source": [
        "modelc$results"
      ],
      "id": "31876b23-4519-4745-8148-5da563d954a5"
    },
    {
      "cell_type": "code",
      "execution_count": null,
      "metadata": {},
      "outputs": [],
      "source": [
        "modeld$results"
      ],
      "id": "75ddd221-c34c-43f4-97dd-4ecd3f65c411"
    },
    {
      "cell_type": "markdown",
      "metadata": {},
      "source": [
        "The RMSE of the reduced model is 0.74 smaller than the complete model, which has an RMSE of 0.75. Conversely, the MAE of the complete model is 0.57, which is smaller than the reduced model MAE of 0.59..\n",
        "\n",
        "-   Neither model should be convincingly preferred based on LOO cross-validation.\n",
        "\n",
        "LOO cross-validation results are unique because there is only one way to successively use each observation as a test set.\n",
        "\n",
        "# Model Hierarchy\n",
        "\n",
        "We should respect hierarchy in models when it is naturally present.\n",
        "\n",
        "-   A lower-order regressor (e.g., $X$) should be retained if a higher-order regressor (e.g., $X^2$) is retained to increase the flexibility.\n",
        "-   If an interaction regressor is present in a model (e.g., $X_1 X_2$), then the individual regressors should also be included in the model (e.g., both $X_1$ and $X_2$ should be included as regressors in the model).\n",
        "\n",
        "In polynomial models, $X^2$ is a higher order term than $X$, so $X$ should be included in a model anytime $X^2$ is included the model.\n",
        "\n",
        "-   For the model $E(Y\\mid X) =\\beta_0+\\beta_2 X^2$, the maximum/minimum value MUST occur at $X=0$.\n",
        "-   For the model $E(Y\\mid X)=\\beta_0+\\beta_1 X+\\beta_2 X^2$, the maximum/minimum value can occur anywhere along the real line (depending on what the data suggest the parameters should be).\n",
        "-   If we fit the model $E(Y\\mid X) =\\beta_0+\\beta_1 X+\\beta_2 X^2$ and $\\beta_1$ is not significant, it would not make philosophical sense to remove $X$ from the model but still keep $X^2$.\n",
        "\n",
        "Another situation where this is relevant is when we are deciding to include a categorical predictor with three or more levels in a model.\n",
        "\n",
        "We either include or exclude the whole categorical predictor from a model, not individual levels of the categorical predictor.\n",
        "\n",
        "Assume the categorical predictor $C$ has three levels, $L_1$, $L_2$, and $L_3$ and that we are fitting the regression model $$E(Y \\mid X, C) = \\beta_0 + \\beta_1 X + \\beta_2 D_2 + \\beta_3 D_3,$$ where $D_2$ and $D_3$ are indicator variables for $L_2$ and $L_3$ respectively.\n",
        "\n",
        "-   We must not consider a regression model that drops $D_2$ or $D_3$ alone from the model.\n",
        "-   E.g., dropping $D_2$ from the model and keeping $D_3$ in the model would have the practical impact of reassigning observations with level $L_2$ to level $L_1$ since there would be no difference in the predicted response for the two levels for a fixed level of $X$.\n",
        "-   We either include all levels of the categorical predictor in the model (excluding the reference level to avoid a non-identifiable model) or we completely exclude the categorical predictor from our model.\n",
        "\n",
        "Here are some examples of acceptable and unaccepted modes from a model hierarchy standpoint.\n",
        "\n",
        "-   Assume $X, X_1, X_2$ are numeric predictors.\n",
        "-   Assume $C$ is a categorical predictor with three levels and $D_2$ and $D_3$ are the indicator variables associated with levels $L_2$ and $L_3$, respectively.\n",
        "\n",
        "Example 1:\n",
        "\n",
        "-   Acceptable: $E(Y \\mid X) = \\beta_0 + \\beta_1 X + \\beta_2 X^2 + \\beta_3 X^3$.\n",
        "-   Unacceptable: $E(Y \\mid X) = \\beta_0 + \\beta_1 X + \\beta_3 X^3$.\n",
        "\n",
        "Example 2:\n",
        "\n",
        "-   Acceptable: $E(Y \\mid X_1, X_2) = \\beta_0 + \\beta_1 X_1 + \\beta_2 X_2 + \\beta_3 X_1 X_2$.\n",
        "-   Acceptable: $E(Y \\mid X_1, X_2) = \\beta_0 + \\beta_1 X_1 + \\beta_2 X_2 + \\beta_3 X_1 X_2 + \\beta_4 X_1^2$.\n",
        "-   Acceptable: $E(Y \\mid X_1, X_2) = \\beta_0 + \\beta_1 X_1 + \\beta_2 X_2 + \\beta_3 X_1 X_2 + \\beta_4 X_1^2 + \\beta_5 X_2^2$.\n",
        "-   Unacceptable: $E(Y \\mid X_1, X_2) = \\beta_0 + \\beta_1 X_1 + \\beta_2 X_2 + \\beta_4 X_1^2 + \\beta_5 X_2^2$.\n",
        "-   Unacceptable: $E(Y \\mid X_1, X_2) = \\beta_0 + \\beta_2 X_2 + \\beta_3 X_1 X_2 + \\beta_4 X_1^2 + \\beta_5 X_2^2$.\n",
        "\n",
        "Example 3:\n",
        "\n",
        "-   Acceptable: $E(Y \\mid X_1, X_2, C) = \\beta_0 + \\beta_1 X_1 + \\beta_2 X_2 + \\beta_3 D_2 + \\beta_4 D_3$.\n",
        "-   Acceptable: $E(Y \\mid X_1, X_2, C) = \\beta_0 + \\beta_1 X_1 + \\beta_2 X_2 + \\beta_3 D_2 + \\beta_4 D_3 + \\beta_5 X_1 D_2 + \\beta_6 X_1 D_3$.\n",
        "-   Unacceptable: $E(Y \\mid X_1, X_2, C) = \\beta_0 + \\beta_1 X_1 + \\beta_2 X_2 + \\beta_3 D_2 + \\beta_4 D_3 + \\beta_6 X_1 D_3$.\n",
        "-   Unacceptable: $E(Y \\mid X_1, X_2, C) = \\beta_0 + \\beta_1 X_1 + \\beta_2 X_2 + \\beta_3 D_2 + \\beta_4 D_3 + \\beta_5 X_1 D_2 + \\beta_6 X_2 D_3$.\n",
        "\n",
        "Best subset and stepwise regression search strategies do not intrinsically respect model hierarchy, so we need to be careful in using the results of a variable selection procedure.\n",
        "\n",
        "# Summary\n",
        "\n",
        "Variable selection is combination of choosing a search strategy and a selection criterion.\n",
        "\n",
        "The exhaustive search strategy is too computationally expensive to run except on smaller data sets.\n",
        "\n",
        "-   Both the best subsets and stepwise regression search strategies reduce the computational cost of our search.\n",
        "\n",
        "The AIC, BIC, $R^2_a$, and Mallow’s $C_p$ statistics are common choices for selection criteria.\n",
        "\n",
        "Combining the observed RMSE or MAE selection criterion with cross-validation will give us more accurate assessments of the predictive ability of our model, but this is difficult to do for an extensive search strategy.\n",
        "\n",
        "-   We often use one of the other selection criteria/search strategies to narrow down the possible models to a few final candidate models and then use cross-validation to make a final decision.\n",
        "\n",
        "# References\n",
        "\n",
        "Akaike, Hirotugu. 1973. “Information Theory and an Extension of the Maximum Likelihood Principle.” In, 267–81. Tsahkadsor, Armenia, USSR: Akadémiai Kiadó. <https://api.semanticscholar.org/CorpusID:64903870>.\n",
        "\n",
        "Chatterjee, Samprit, and Ali S Hadi. 2015. *Regression Analysis by Example*. John Wiley & Sons.\n",
        "\n",
        "Faraway, Julian J. 2014. *Linear Models with R, 2nd Edition*. Chapman; Hall/CRC. <https://doi.org/10.1201/b17144>.\n",
        "\n",
        "Furnival, George M. 1971. “All Possible Regressions with Less Computation.” *Technometrics* 13 (2): 403–8. <https://doi.org/10.2307/1266801>.\n",
        "\n",
        "Furnival, George M., and Robert W. Wilson. 1974. “Regressions by Leaps and Bounds.” *Technometrics* 16 (4): 499–511. <https://doi.org/10.2307/1267601>.\n",
        "\n",
        "Hastie, Trevor, Robert Tibshirani, and Ryan Tibshirani. 2020. “<span class=\"nocase\">Best Subset, Forward Stepwise or Lasso? Analysis and Recommendations Based on Extensive Comparisons</span>.” *Statistical Science* 35 (4): 579–92. <https://doi.org/10.1214/19-STS733>.\n",
        "\n",
        "Hoerl, Arthur E., and Robert W. Kennard. 2000. “Ridge Regression: Biased Estimation for Nonorthogonal Problems.” *Technometrics* 42 (1): 80–86. <https://doi.org/10.1080/00401706.1970.10488634>.\n",
        "\n",
        "Kutner, Michael H, Christopher J Nachtsheim, John Neter, and William Li. 2005. *Applied Linear Statistical Models, 5th Edition*. McGraw-Hill/Irwin, New York.\n",
        "\n",
        "Schatzoff, M., R. Tsao, and S. Fienberg. 1968. “Efficient Calculation of All Possible Regressions.” *Technometrics* 10 (4): 769–79. <https://doi.org/10.2307/1267458>.\n",
        "\n",
        "Schwarz, Gideon. 1978. “<span class=\"nocase\">Estimating the Dimension of a Model</span>.” *The Annals of Statistics* 6 (2): 461–64. <https://doi.org/10.1214/aos/1176344136>.\n",
        "\n",
        "Tibshirani, Robert. 1996. “Regression Shrinkage and Selection via the Lasso.” *Journal of the Royal Statistical Society. Series B (Methodological)* 58 (1): 267–88. <https://doi.org/10.1111/j.2517-6161.1996.tb02080.x>.\n",
        "\n",
        "Zou, Hui, and Trevor Hastie. 2005. “<span class=\"nocase\">Regularization and Variable Selection Via the Elastic Net</span>.” *Journal of the Royal Statistical Society Series B: Statistical Methodology* 67 (2): 301–20. <https://doi.org/10.1111/j.1467-9868.2005.00503.x>."
      ],
      "id": "57bb7c4c-5dbf-4f29-8561-91b0372a7b7f"
    }
  ],
  "nbformat": 4,
  "nbformat_minor": 5,
  "metadata": {
    "kernelspec": {
      "name": "ir",
      "display_name": "R",
      "language": "R"
    }
  }
}