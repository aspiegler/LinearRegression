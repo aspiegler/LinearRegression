{
  "cells": [
    {
      "cell_type": "markdown",
      "metadata": {},
      "source": [
        "# Chapter 2 - Data Cleaning and Exploration\n",
        "\n",
        "Joshua French\n",
        "\n",
        "To open this information in an interactive Colab notebook, click or scan the QR code below.\n",
        "\n",
        "<a href=\"https://colab.research.google.com/github/jfrench/LinearRegression/blob/master/notebooks/02-data-exploration-notebook.ipynb\"> <img src=\"https://raw.githubusercontent.com/jfrench/LinearRegression/9d0559b9fa7bdecc94158ebb6a0395c9139648d7/images/qr-02-data-exploration.png\"> </a>\n",
        "\n",
        "We run the code below to ensure that all necessary packages are installed in our Jupyter environment."
      ],
      "id": "541e853d-620b-49ea-8349-e27e05e0d74f"
    },
    {
      "cell_type": "code",
      "execution_count": null,
      "metadata": {},
      "outputs": [],
      "source": [
        "if(!require(palmerpenguins, quietly = TRUE)) {\n",
        "  install.packages(\"palmerpenguins\", repos = \"https://cran.rstudio.com/\")\n",
        "}\n",
        "if(!require(ggplot2, quietly = TRUE)) {\n",
        "  install.packages(\"ggplot2\", repos = \"https://cran.rstudio.com/\")\n",
        "}\n",
        "if(!require(dplyr, quietly = TRUE)) {\n",
        "  install.packages(\"dplyr\", repos = \"https://cran.rstudio.com/\")\n",
        "}\n",
        "if(!require(plotly, quietly = TRUE)) {\n",
        "  install.packages(\"plotly\", repos = \"https://cran.rstudio.com/\")\n",
        "}"
      ],
      "id": "49735a2c-cfd5-4287-9511-ad049601427e"
    },
    {
      "cell_type": "markdown",
      "metadata": {},
      "source": [
        "# Introduction\n",
        "\n",
        "We should explore every data set numerically and visually prior to modeling it. The data exploration process will help us:\n",
        "\n",
        "-   Find errors in our data.\n",
        "-   Locate missing values.\n",
        "-   Identify outliers and unusual observations.\n",
        "-   Find patterns in our data.\n",
        "-   Decide on a modeling approach.\n",
        "-   Etc.\n",
        "\n",
        "When we receive a data set for the first time, we often need to:\n",
        "\n",
        "-   Restructure the data set so that each row is an observation and each column is a variable.\n",
        "-   Convert the variables to an appropriate type.\n",
        "-   Improve the names of the variables.\n",
        "-   Etc.\n",
        "\n",
        "The process of preparing the data into a friendly format is known as “cleaning”.\n",
        "\n",
        "# Raw Palmer penguins data\n",
        "\n",
        "We will systematically explore the `penguins_raw` data set from the **palmerpenguins** package.\n",
        "\n",
        "To attach a data set from an R package into our working environment, we:\n",
        "\n",
        "1.  Run the `data` function.\n",
        "2.  Specify the `name` of the data set we want to attach.\n",
        "3.  Specify the package that contains the data."
      ],
      "id": "61d99894-981e-4896-a509-58ed6acd7d3f"
    },
    {
      "cell_type": "code",
      "execution_count": null,
      "metadata": {},
      "outputs": [],
      "source": [
        "data(penguins, package = \"palmerpenguins\")"
      ],
      "id": "5b1cb115-55af-492e-a135-a7034e187223"
    },
    {
      "cell_type": "markdown",
      "metadata": {},
      "source": [
        "This command actually loads two data sets:\n",
        "\n",
        "-   `penguins_raw`: the data set we will be looking at.\n",
        "-   `penguins`: a simplified, clean version of `penguins_raw`.\n",
        "\n",
        "The `penguins_raw` data set provides data related to various penguin species measured in the Palmer Archipelago (Antarctica).\n",
        "\n",
        "The data set includes 344 observations of 17 variables. The variables are:\n",
        "\n",
        "-   `studyName`: the expedition from which the data were collected (`character`).\n",
        "-   `Sample Number`: the continuous number sequence for each sample (`numeric`).\n",
        "-   `Species`: the penguin’s species (`character`).\n",
        "-   `Region`: the region of the Palmer LTER sampling grid the sample was obtained (`character`).\n",
        "-   `Island`: the island on which the penguin was observed (`character`).\n",
        "-   `Stage`: the reproductive stage of the observation (`character`).\n",
        "-   `Individual ID`: the unique identification number of the observations (`character`).\n",
        "-   `Clutch Completion`: whether the study nest was observed with a “full clutch” of 2 eggs (`character`).\n",
        "-   `Date Egg`: the date that the study nest was observed with 1 egg (`Date`).\n",
        "-   `Culman Length (mm)`: the length of the dorsal ridge of the penguin’s bill in millimeters (`numeric`).\n",
        "-   `Culmen Depth (mm)`: the depth of the dorsal ridge of the penguin’s bill in millimeters (`numeric`).\n",
        "-   `Flipper Length (mm)`: the penguin’s flipper length in millimeters (`numeric`).\n",
        "-   `Body Mass (g)`: the penguin’s body mass in grams (`numeric`).\n",
        "-   `Sex`: the penguin’s sex (`character`).\n",
        "-   `Delta 15 N (o/oo)`: the ratio of stable isotopes 15N:14N (`numeric`).\n",
        "-   `Delta 13 C (o/oo)`: the ratio of stable isotopes 15C:12C (`numeric`).\n",
        "-   `Comments`: additional information about the observation (`character`).\n",
        "\n",
        "# Initial data cleaning\n",
        "\n",
        "The `str` function provides a general overview of an object’s structure."
      ],
      "id": "8d29bb80-5271-44fa-bbec-d6c72b3c7b33"
    },
    {
      "cell_type": "code",
      "execution_count": null,
      "metadata": {},
      "outputs": [],
      "source": [
        "str(penguins_raw, give.attr = FALSE)"
      ],
      "id": "2a3765a1-5602-4ca5-b138-beffac179cb8"
    },
    {
      "cell_type": "markdown",
      "metadata": {},
      "source": [
        "An alternative to `str` is the `glimpse` function from the `dplyr` package."
      ],
      "id": "d9955a41-67b3-4510-90cd-cd279c1ac189"
    },
    {
      "cell_type": "code",
      "execution_count": null,
      "metadata": {},
      "outputs": [],
      "source": [
        "dplyr::glimpse(penguins_raw)"
      ],
      "id": "618d840b-a23b-43fd-bef9-b0c62f292d85"
    },
    {
      "cell_type": "markdown",
      "metadata": {},
      "source": [
        "The `penguins_raw` data has terrible variable names.\n",
        "\n",
        "-   The variable names have a mixture of lowercase and uppercase letters, parentheses, and even spaces!\n",
        "-   This makes it complicated to access variables in the data frame."
      ],
      "id": "2594209d-0efa-43f7-9481-9e1001e4cd72"
    },
    {
      "cell_type": "code",
      "execution_count": null,
      "metadata": {},
      "outputs": [],
      "source": [
        "print(penguins_raw$`Flipper Length (mm)`, max = 10)"
      ],
      "id": "3423a6e8-f0a6-4d29-b12c-3a081c6d16ff"
    },
    {
      "cell_type": "markdown",
      "metadata": {},
      "source": [
        "We will select only the variables that we will use in the future."
      ],
      "id": "d2b75d46-2cff-454f-a637-410baa5d2bc9"
    },
    {
      "cell_type": "code",
      "execution_count": null,
      "metadata": {},
      "outputs": [],
      "source": [
        "# select certain columns of penguins_raw, assign new name\n",
        "penguins_clean <-\n",
        "  penguins_raw |>\n",
        "  subset(select = c(\"Species\", \"Island\", \"Culmen Length (mm)\",\n",
        "                    \"Culmen Depth (mm)\", \"Flipper Length (mm)\", \"Body Mass (g)\", \"Sex\"))"
      ],
      "id": "e4d41350-29e6-426c-90b0-c95ffcb9fd86"
    },
    {
      "cell_type": "markdown",
      "metadata": {},
      "source": [
        "We use the `names` function to rename the variables in `penguins_clean`."
      ],
      "id": "09ab5ed3-ea54-43d6-a814-bceb5aa743c1"
    },
    {
      "cell_type": "code",
      "execution_count": null,
      "metadata": {},
      "outputs": [],
      "source": [
        "# access variable names and replace with new names\n",
        "names(penguins_clean) <- c(\"species\",\n",
        "                           \"island\",\n",
        "                           \"bill_length\",\n",
        "                           \"bill_depth\",\n",
        "                           \"flipper_length\",\n",
        "                           \"body_mass\",\n",
        "                           \"sex\")\n",
        "# look at new variable names\n",
        "names(penguins_clean)"
      ],
      "id": "708d46b9-0efc-4d05-9c05-ce6a26c8db51"
    },
    {
      "cell_type": "markdown",
      "metadata": {},
      "source": [
        "The `species`, `island`, and `sex` variables are categorical but are represented as `character` vectors instead of `factor`.\n",
        "\n",
        "We use the `transform` function to convert the each variable to a `factor`."
      ],
      "id": "d517be68-0193-42b6-b33c-f52859cc3279"
    },
    {
      "cell_type": "code",
      "execution_count": null,
      "metadata": {},
      "outputs": [],
      "source": [
        "# convert species, island, and sex variables\n",
        "# to factor, replace original object\n",
        "penguins_clean <-\n",
        "  penguins_clean |>\n",
        "  transform(species = factor(species),\n",
        "            island = factor(island),\n",
        "            sex = factor(sex))\n",
        "# view structure\n",
        "str(penguins_clean)"
      ],
      "id": "a37db3f6-48a5-416e-bb05-418771e677e9"
    },
    {
      "cell_type": "markdown",
      "metadata": {},
      "source": [
        "The levels of of `species`, `island`, and `sex` are not formatted well."
      ],
      "id": "dc64d06d-bca0-4efb-be0b-35184511c5ab"
    },
    {
      "cell_type": "code",
      "execution_count": null,
      "metadata": {},
      "outputs": [],
      "source": [
        "# determine levels of species and sex\n",
        "levels(penguins_clean$species)\n",
        "levels(penguins_clean$sex)"
      ],
      "id": "fa6e2022-b3a7-440d-b562-3fd1e407c158"
    },
    {
      "cell_type": "markdown",
      "metadata": {},
      "source": [
        "We now change the levels of each variable in the same order they are printed above and confirm that the changes were successful."
      ],
      "id": "8ed1f041-f8ca-4b01-a598-31790927130f"
    },
    {
      "cell_type": "code",
      "execution_count": null,
      "metadata": {},
      "outputs": [],
      "source": [
        "# update factor levels of species and sex\n",
        "levels(penguins_clean$species) <- c(\"adelie\", \"chinstrap\", \"gentoo\")\n",
        "levels(penguins_clean$sex) <- c(\"female\", \"male\")\n",
        "# confirm that changes took effect\n",
        "str(penguins_clean)"
      ],
      "id": "a266af6c-3684-436b-8226-33502b938501"
    },
    {
      "cell_type": "markdown",
      "metadata": {},
      "source": [
        "# Numerical summarization of data\n",
        "\n",
        "Numerical exploration of a data set generally consists of computing various relevant statistics for each of the variables in a data set in order to summarize the data.\n",
        "\n",
        "| numeric summary | variable type | summarizes | R function |\n",
        "|------------------------|----------------|----------------|-----------------|\n",
        "| mean | `numeric` | center | `mean` |\n",
        "| median | `numeric` | center | `median` |\n",
        "| variance | `numeric` | spread | `var` |\n",
        "| standard deviation | `numeric` | spread | `sd` |\n",
        "| interquartile range | `numeric` | spread | `quantile` (modified) |\n",
        "| quantiles | `numeric` | center and spread | `quantile` |\n",
        "| correlation | `numeric` | similarity | `cor` |\n",
        "| frequency distribution | `factor` | counts | `table` |\n",
        "| relative frequency distribution | `factor` | proportions | `table` (modified) |\n",
        "\n",
        "## Numeric data\n",
        "\n",
        "Numerical exploration of a set of `numeric` values usually focuses on determining the:\n",
        "\n",
        "1.  center\n",
        "2.  spread\n",
        "3.  quantiles (less common).\n",
        "\n",
        "Computing the correlation between two `numeric` variables can also be useful.\n",
        "\n",
        "### Measures of center\n",
        "\n",
        "The sample mean and median are the most common statistics used to represent the “center” of a set of numeric values.\n",
        "\n",
        "The sample mean or average is:\n",
        "\n",
        "-   Obtained by adding all values in the sample and dividing by the number of observations.\n",
        "-   Computed in R using `mean`.\n",
        "-   Easily affected by outliers.\n",
        "\n",
        "The sample median is:\n",
        "\n",
        "-   The middle value of an ordered set of values (the actual middle value when the number of values is odd and the average of the two middle values when the number of values is even).\n",
        "-   Identical to the 0.5 quantile of the data.\n",
        "-   More “resistant” than the mean because it is not so greatly affected by outliers.\n",
        "-   Computed in R using `median`.\n",
        "\n",
        "We compute the mean of the `body_mass` variable of the `penguins_clean` data in the code below."
      ],
      "id": "6e8ce3f1-b8e9-4839-ba5a-4c52094f74a2"
    },
    {
      "cell_type": "code",
      "execution_count": null,
      "metadata": {},
      "outputs": [],
      "source": [
        "mean(penguins_clean$body_mass)"
      ],
      "id": "59335bd9-93c0-4bfb-8b41-b4e68a986a95"
    },
    {
      "cell_type": "markdown",
      "metadata": {},
      "source": [
        "**Question:** Why is the result `NA` instead of a number?"
      ],
      "id": "31e7eb0c-45bc-4df3-9917-4e9840c1438b"
    },
    {
      "cell_type": "code",
      "execution_count": null,
      "metadata": {},
      "outputs": [],
      "source": [
        "# compute sample mean and median body_mass, ignoring NAs\n",
        "mean(penguins_clean$body_mass, na.rm = TRUE)\n",
        "median(penguins_clean$body_mass, na.rm = TRUE)"
      ],
      "id": "c03ec912-db48-4c94-aab0-a92efe02359a"
    },
    {
      "cell_type": "markdown",
      "metadata": {},
      "source": [
        "**Question:** The median is less than the mean (i.e., large values are pulling the mean in the positive direction). What *might* this tell us about the distribution?\n",
        "\n",
        "### Quantiles\n",
        "\n",
        "The $p$th quantile ($0\\leq p \\leq 1$) of a set of values is the value that separates the smallest $100 p$% of the values from the upper $100(1-p)$% of the values.\n",
        "\n",
        "-   The 0.25 sample quantile (often called Q1) of a set of values is the value that separates the smallest 25% of the values from the largest 75% of the values.\n",
        "\n",
        "The `quantile` function is used to compute sample quantiles.\n",
        "\n",
        "Quantiles are useful for quantifying:\n",
        "\n",
        "-   Center (median).\n",
        "-   Spread (minimum and maximum or interquartile range = Q3 - Q1)."
      ],
      "id": "a6da3dfd-c6ba-451d-8572-65ae4f243128"
    },
    {
      "cell_type": "code",
      "execution_count": null,
      "metadata": {},
      "outputs": [],
      "source": [
        "quantile(penguins_clean$body_mass,\n",
        "         probs = c(0, 0.25, 0.5, 0.75, 1),\n",
        "         na.rm = TRUE)"
      ],
      "id": "1c6844d8-6a4b-4c35-adca-bd8d9064073c"
    },
    {
      "cell_type": "markdown",
      "metadata": {},
      "source": [
        "**Question:** Q3 and the maximum are further from the median than Q1 and the minimum. Is this evidence that this variable may be positively skewed?\n",
        "\n",
        "### Measures of spread\n",
        "\n",
        "Spread is related to how far values are from each other.\n",
        "\n",
        "The sample variance of a set of values $x_1, x_2, \\ldots, x_n$ is:\n",
        "\n",
        "-   The (approximate) average of the squared deviation of each observation from the sample mean.\n",
        "-   $s^2 = \\frac{1}{n-1}\\sum_{i=1}^n (x_i - \\bar{x})^2$.\n",
        "-   Computed using the `var` function.\n",
        "\n",
        "The sample standard deviation is:\n",
        "\n",
        "-   The square root of the sample variance.\n",
        "-   A more useful measure of spread because it is has the same units as the original data.\n",
        "-   Computed using the `sd` function.\n",
        "\n",
        "The larger the standard deviation or variance of a set of values, the more they vary from their sample mean.\n",
        "\n",
        "The sample standard deviation and variance can be greatly affected by outliers.\n",
        "\n",
        "The interquartile range is the difference between the 0.75 and 0.25 quantiles of a data set.\n",
        "\n",
        "-   It is more resistant to outliers than the sample variance or standard deviation.\n",
        "\n",
        "The minimum and maximum (in relation to the sample mean or median) can also be used to ascertain the spread of a data set.\n",
        "\n",
        "-   Computed using the `min` and `max` functions.\n",
        "\n",
        "We compute these measures of spread for the `body_mass` variable below."
      ],
      "id": "43ad7242-7203-46f0-ac1c-b811210aaf9d"
    },
    {
      "cell_type": "code",
      "execution_count": null,
      "metadata": {},
      "outputs": [],
      "source": [
        "# sample variance\n",
        "var(penguins_clean$body_mass, na.rm = TRUE)\n",
        "# sample standard deviation\n",
        "sd(penguins_clean$body_mass, na.rm = TRUE)\n",
        "# interquartile range (names = FALSE removes text above the results)\n",
        "quantile(penguins_clean$body_mass, probs = 0.75, na.rm = TRUE, names = FALSE) -\n",
        "  quantile(penguins_clean$body_mass, probs = 0.25, na.rm = TRUE, names = FALSE)\n",
        "# minimum\n",
        "min(penguins_clean$body_mass, na.rm = TRUE)\n",
        "# maximum\n",
        "max(penguins_clean$body_mass, na.rm = TRUE)"
      ],
      "id": "ccd4b9ef-ee95-4b5d-9500-d12eb8b4cec4"
    },
    {
      "cell_type": "markdown",
      "metadata": {},
      "source": [
        "### Correlation\n",
        "\n",
        "The correlation between two `numeric` variables quantifies the strength and direction of their linear relationship.\n",
        "\n",
        "The most common correlation statistic is Pearson’s correlation statistic. If $x_1, x_2, \\ldots, x_n$ and $y_1, y_2, \\ldots, y_n$ are two sets of `numeric` values, then the sample correlation statistic is computed as\n",
        "\n",
        "$$r = \\frac{1}{n-1}\\sum_{i=1}^n\\left(\\frac{x_i - \\bar{x}}{s_x}\\right)\\left(\\frac{y_i - \\bar{y}}{s_y}\\right),$$\n",
        "\n",
        "where:\n",
        "\n",
        "-   $\\bar{x}$ and $s_x$ denote the sample mean and standard deviation of the $x$’s.\n",
        "-   $\\bar{y}$ and $s_y$ denote the same thing for the $y$’s.\n",
        "\n",
        "$r$ must be between -1 and 1.\n",
        "\n",
        "The `cor` function can be used to compute the sample correlation between two `numeric` variables.\n",
        "\n",
        "**Interpretation**\n",
        "\n",
        "-   The closer $r$ is to -1 or 1, the closer the data values are to a straight line.\n",
        "-   $r$ values close to 0 indicate that there is no linear relationship between the two variables.\n",
        "-   Negative $r$ values indicate a negative relationship between the two variables (as values for one variable increase, the values for the other variable tend to decrease).\n",
        "-   Positive $r$ values indicate a positive linear relationship between the two variables (as values for one variable increase, the values of the other variable also tend to increase).\n",
        "\n",
        "In the code below, we compute the sample correlation between all `numeric` variables in `penguins_clean`. We set the `use` argument to `\"pairwise.complete.obs\"` so that all non-`NA` pairs of values are used in the calculation."
      ],
      "id": "9361c48d-fa1c-4602-b8cf-d50831e35409"
    },
    {
      "cell_type": "code",
      "execution_count": null,
      "metadata": {},
      "outputs": [],
      "source": [
        "# determine whether each variable is numeric\n",
        "num_col <- unlist(lapply(penguins_clean, is.numeric))\n",
        "# observe results\n",
        "num_col\n",
        "# compute correlation of numeric variables\n",
        "cor(penguins_clean[, num_col], use = \"pairwise.complete.obs\")"
      ],
      "id": "de218714-c953-4ae9-ace0-3f4551a31256"
    },
    {
      "cell_type": "markdown",
      "metadata": {},
      "source": [
        "-   The values of each variable are perfectly correlated with themselves.\n",
        "-   The correlation between `bill_length` and `body_mass` is 0.87, so heavier penguins tend to have longer bills.\n",
        "-   Perhaps surprisingly, the correlation between `bill_length` and `bill_depth` is -0.24, so penguins with longer bills tend to have shallower (narrower) bill depth.\n",
        "-   The correlation between `bill_depth` and `body_mass` is -0.47, so heavier penguins tend to have narrower bills.\n",
        "\n",
        "## Categorical data\n",
        "\n",
        "Frequency distributions and relative frequency distributions are useful numeric summaries of categorical data.\n",
        "\n",
        "A frequency distribution summarizes the number of observations having each level of a categorical variable.\n",
        "\n",
        "The `table` function produces a frequency distribution (contingency table) summarizing the number of observations for each level of a categorical variable.\n",
        "\n",
        "-   By default, `table` ignores `NA` values."
      ],
      "id": "006868a0-2a0a-4d91-9efe-8ff72a29891c"
    },
    {
      "cell_type": "code",
      "execution_count": null,
      "metadata": {},
      "outputs": [],
      "source": [
        "table(penguins_clean$sex)"
      ],
      "id": "0524aa3f-b45e-4f2d-8381-96d1e763a82e"
    },
    {
      "cell_type": "markdown",
      "metadata": {},
      "source": [
        "To count the `NA` values (if present), we set the `useNA` argument of `table` to `\"ifany\"`."
      ],
      "id": "4f90fd46-39ec-4250-ab06-319a5c16e29b"
    },
    {
      "cell_type": "code",
      "execution_count": null,
      "metadata": {},
      "outputs": [],
      "source": [
        "table(penguins_clean$sex, useNA = \"ifany\")"
      ],
      "id": "9c32daca-05bb-4d37-a15d-9bc8666d578c"
    },
    {
      "cell_type": "markdown",
      "metadata": {},
      "source": [
        "A relative frequency distribution summarizes the proportion or percentage of observation with each level of a categorical variable.\n",
        "\n",
        "To compute the relative frequency distribution of a variable, we must divide the frequency distribution by the number of observations."
      ],
      "id": "dbba7165-8f25-4881-ad42-f6fcfd869b4f"
    },
    {
      "cell_type": "code",
      "execution_count": null,
      "metadata": {},
      "outputs": [],
      "source": [
        "# divide the frequence distribution of sex by the number of non-NA values\n",
        "table(penguins_clean$sex)/sum(!is.na(penguins_clean$sex))"
      ],
      "id": "cb5689dc-5738-43bc-8a00-de4ed560ac48"
    },
    {
      "cell_type": "markdown",
      "metadata": {},
      "source": [
        "If we want to include the `NA` values in our table, we can use the code below."
      ],
      "id": "27fed7dd-925c-4e3a-a3d6-98fe13b59d53"
    },
    {
      "cell_type": "code",
      "execution_count": null,
      "metadata": {},
      "outputs": [],
      "source": [
        "table(penguins_clean$sex, useNA = \"ifany\")/length(penguins_clean$sex)"
      ],
      "id": "c275a913-6cc1-436f-94c1-c17280b35c0c"
    },
    {
      "cell_type": "markdown",
      "metadata": {},
      "source": [
        "We do not know the `sex` of approximately 3% of the penguins observations.\n",
        "\n",
        "## The `summary` function\n",
        "\n",
        "The `summary` function provides a simple approach for quickly quantifying the center and spread of each `numeric` variable in a data frame or determining the frequency distribution of a `factor` variable."
      ],
      "id": "237e3785-26c9-4dd8-8986-28c97657362a"
    },
    {
      "cell_type": "code",
      "execution_count": null,
      "metadata": {},
      "outputs": [],
      "source": [
        "summary(penguins_clean)"
      ],
      "id": "f49d142d-f1f5-4a92-b2af-01f15e268ad6"
    },
    {
      "cell_type": "markdown",
      "metadata": {},
      "source": [
        "# Visual summaries of data\n",
        "\n",
        "Visual summaries (i.e., plots) of data help us:\n",
        "\n",
        "-   Spot errors in our data, unusual observations, and simple patterns.\n",
        "-   Communicate the results of our analysis.\n",
        "\n",
        "The two most popular packages for producing graphics in R are:\n",
        "\n",
        "-   **base**: the default graphics system\n",
        "-   **ggplot2**: a “grammar of graphics” that is able to produce complex graphics with automated legends in a consistent, systematic way.\n",
        "\n",
        "| Visual summary | Variable types | Summary type | Base functions | geoms |\n",
        "|:--------------|:--------------|:--------------|:--------------|:--------------|\n",
        "| box plot | `numeric` | univariate | `boxplot` | `geom_boxplot` |\n",
        "| histogram | `numeric` | univariate | `hist` | `geom_histogram` |\n",
        "| density plot | `numeric` | univariate | `plot`, `density` | `geom_density` |\n",
        "| bar plot | `factor` | univariate | `plot` or `barplot`, `table` | `geom_bar` |\n",
        "| scatter plot | 2 `numeric` | bivariate | `plot` | `geom_point` |\n",
        "| parallel box plot | 1 `numeric`, 1 `factor` | bivariate | `plot` or `boxplot` | `geom_boxplot` |\n",
        "| grouped scatter plot | 2 `numeric`, 1 `factor` | multivariate | `plot` | `geom_point` |\n",
        "| facetted plots | mixed | multivariate | none | `facet_wrap` or `facet_grid` |\n",
        "| interactive plots | mixed | multivariate | none | `plotly::ggplotly` |\n",
        "\n",
        "## The ggplot recipe\n",
        "\n",
        "There are 4 main components needed to produce a graphic using **ggplot2**.\n",
        "\n",
        "1.  A data frame containing our data.\n",
        "    -   Each column should be a variable and each row should be an observation of data.\n",
        "2.  A `ggplot` object.\n",
        "    -   This is initialized using the `ggplot` function.\n",
        "3.  A geometric object.\n",
        "    -   These are called “geoms” for short.\n",
        "    -   geoms indicate the geometric object used to visualize the data. E.g., points, lines, polygons etc. More generally, geoms indicate the type of plot that is desired, e.g., histogram, density, or box plot, which aren’t exactly a simple geometric argument.\n",
        "4.  An aesthetic.\n",
        "    -   An aesthetic mapping indicates what role a variable plays in the plot.\n",
        "    -   e.g., which variable will play the “x” variable in the plot, the “y” variable in the plot, control the “color” of the observations, etc.\n",
        "\n",
        "We add “layers” of information to a `ggplot`, such as geoms, scales, or other customizations, using `+`.\n",
        "\n",
        "## Univariate plots\n",
        "\n",
        "A univariate plot is a plot that only involves a single variable.\n",
        "\n",
        "-   e.g., bar plots, box plots, histograms, density plots, dot plots (bad), pie charts (bad), etc.\n",
        "\n",
        "### Bar plots\n",
        "\n",
        "A bar plot (or bar chart) displays the number or proportion of observations having each category of a categorical variable (or using R terminology, each `level` of a `factor` variable).\n",
        "\n",
        "The simplest way to create a bar plot in base R is using the `plot` function on a `factor`."
      ],
      "id": "35df4837-1c08-40b4-b62b-691dfa2def56"
    },
    {
      "cell_type": "code",
      "execution_count": null,
      "metadata": {},
      "outputs": [],
      "source": [
        "plot(penguins_clean$island, main = \"distribution of island\")"
      ],
      "id": "af29530f-89f3-42fa-9b14-aacd711b1998"
    },
    {
      "cell_type": "markdown",
      "metadata": {},
      "source": [
        "There are approximately 170 penguins from Biscoe island, 125 from Dream island, and 50 from Torgerson island.\n",
        "\n",
        "Alternatively, we can combine `barplot` with the `table` function."
      ],
      "id": "fd8a97ba-71ed-480b-b7a0-5221f5ce2fc3"
    },
    {
      "cell_type": "code",
      "execution_count": null,
      "metadata": {},
      "outputs": [],
      "source": [
        "barplot(table(penguins_clean$sex, useNA = \"ifany\"), names.arg = c(\"female\", \"male\", \"NA\"))"
      ],
      "id": "a633c0eb-683b-4604-aad0-5376879d4bca"
    },
    {
      "cell_type": "markdown",
      "metadata": {},
      "source": [
        "To create a relatively frequency bar plot, we should divide the results of `table` by the number of relevant observations."
      ],
      "id": "f62d3191-f82a-43e7-98e0-c535bbc14120"
    },
    {
      "cell_type": "code",
      "execution_count": null,
      "metadata": {},
      "outputs": [],
      "source": [
        "barplot(table(penguins_clean$sex, useNA = \"ifany\") / length(penguins_clean$sex), \n",
        "        names.arg = c(\"female\", \"male\", \"NA\"))"
      ],
      "id": "ca63d296-5e2e-4382-98b7-980e2aa461d2"
    },
    {
      "cell_type": "markdown",
      "metadata": {},
      "source": [
        "Approxiately 48% of the penguins are female, 49% are male, and 3% have an unknown sex.\n",
        "\n",
        "To create a bar plot with **ggplot2**, we first create a basic `ggplot` object containing our data. We must make sure to load the **ggplot2** package prior to creating the plot, otherwise we’ll get errors!"
      ],
      "id": "1c67f78d-96e7-4072-8e73-f5d8fa9d5528"
    },
    {
      "cell_type": "code",
      "execution_count": null,
      "metadata": {},
      "outputs": [],
      "source": [
        "# load ggplot2 package\n",
        "library(ggplot2)\n",
        "# create generic ggplot object with our data\n",
        "gg_penguin <- ggplot(data = penguins_clean)"
      ],
      "id": "1e3606d2-4dab-425f-aab5-064e165835bb"
    },
    {
      "cell_type": "markdown",
      "metadata": {},
      "source": [
        "`gg_penguin` is a minimal `ggplot` object with the raw information needed to produce future graphics.\n",
        "\n",
        "To create a bar plot, we add the geom `geom_bar` and map the `species` variable (in this example) to the `x` aesthetic using the `aes` function."
      ],
      "id": "ffd2f9fd-4552-4680-bbfc-c7b33f6dc961"
    },
    {
      "cell_type": "code",
      "execution_count": null,
      "metadata": {},
      "outputs": [],
      "source": [
        "# create bar plot for species variable\n",
        "gg_penguin + geom_bar(aes(x = species))"
      ],
      "id": "c583b3d2-b89a-4eb6-a0d8-b6a3ca71b78f"
    },
    {
      "cell_type": "markdown",
      "metadata": {},
      "source": [
        "Our data set contains slightly more than 150 Adelie penguins, approxiately 70 Chinstrap penguins, and 125 Gentoo penguins.\n",
        "\n",
        "### Box plots\n",
        "\n",
        "A box plot indicates:\n",
        "\n",
        "-   median\n",
        "-   0.25 quantile (Q1)\n",
        "-   0.75 quantile (Q3)\n",
        "-   extend bars to the largest and smallest observations that are not outliers.\n",
        "\n",
        "Outliers are usually marked with stars or dots.\n",
        "\n",
        "-   The standard definition of an outlier in the context of box plots is any value that is greater than Q3 + 1.5 (Q3 - Q1) or less than Q1 - 1.5 (Q3 - Q1).\n",
        "\n",
        "Box plots:\n",
        "\n",
        "-   are useful for identifying outliers and skewness.\n",
        "-   throw away a lot of information.\n",
        "    -   be cautious in making conclusions about skewness and modality.\n",
        "\n",
        "The `boxplot` function is the easiest approach for producing a box plot using base R."
      ],
      "id": "bf03a396-4b57-4206-8d55-1b6c2ef3ec12"
    },
    {
      "cell_type": "code",
      "execution_count": null,
      "metadata": {},
      "outputs": [],
      "source": [
        "boxplot(penguins_clean$body_mass, main = \"distribution of body mass\")"
      ],
      "id": "79500d60-0847-45af-b372-3c825d419e26"
    },
    {
      "cell_type": "markdown",
      "metadata": {},
      "source": [
        "Conclusions we can draw from the boxplot above:\n",
        "\n",
        "-   The median body mass of the penguins is a little more than 4,000 grams.\n",
        "-   The 0.25 quantile is about 3,500 grams\n",
        "-   The 0.75 quantile is about 4,750 grams.\n",
        "-   The lightest penguin is about 2,700 grams.\n",
        "-   The heaviest penguin is about 6,300 grams.\n",
        "-   There are no outliers.\n",
        "-   The data are slightly positively skewed since the upper whisker is longer than the lower whisker.\n",
        "\n",
        "**Questions:**\n",
        "\n",
        "-   Are there any outliers?\n",
        "-   Is there evidence the masses are skewed?\n",
        "\n",
        "To create a box plot using **ggplot2**, we use `geom_boxplot`."
      ],
      "id": "36c3099f-5e26-46b1-9013-65a1c73f1ce4"
    },
    {
      "cell_type": "code",
      "execution_count": null,
      "metadata": {},
      "outputs": [],
      "source": [
        "gg_penguin + geom_boxplot(aes(y = bill_length))"
      ],
      "id": "6b16ad83-ca09-4f02-b65a-4e013a7ce386"
    },
    {
      "cell_type": "markdown",
      "metadata": {},
      "source": [
        "**Questions:**\n",
        "\n",
        "-   What is the median bill length?\n",
        "-   What are the 0.25 and 0.75 quantiles of the bill lengths?\n",
        "-   Are there outliers?\n",
        "-   Is there evidence the variable is skewed?\n",
        "\n",
        "### Histograms\n",
        "\n",
        "A histogram:\n",
        "\n",
        "-   Displays the distribution of a `numeric` variable.\n",
        "-   Counts the number of values falling into (usually) equal-sized “bins”.\n",
        "-   Is used to assess skewness, modality (the number of clear “peaks” in the plot), and to some extent, outliers.\n",
        "\n",
        "We use the `hist` function to create a histogram of a `numeric` variable."
      ],
      "id": "98f58158-979e-478f-b840-49d19b38352b"
    },
    {
      "cell_type": "code",
      "execution_count": null,
      "metadata": {},
      "outputs": [],
      "source": [
        "hist(penguins_clean$bill_length,\n",
        "     main = \"\",\n",
        "     xlab = \"bill length (mm)\",\n",
        "     breaks = 20)"
      ],
      "id": "b00d881f-f73b-4b0e-9558-c7c7f43e76b7"
    },
    {
      "cell_type": "markdown",
      "metadata": {},
      "source": [
        "**Questions:**\n",
        "\n",
        "-   Is the variable unimodal?\n",
        "-   What can we learn about the skewness of the data from this plot?\n",
        "-   What does this historgram tell us that numeric summaries did not?\n",
        "\n",
        "We use `geom_histogram` to create a histogram using **ggplot2**."
      ],
      "id": "6175a42a-d7e7-4f4b-9ec3-d4834fe2174d"
    },
    {
      "cell_type": "code",
      "execution_count": null,
      "metadata": {},
      "outputs": [],
      "source": [
        "gg_penguin + geom_histogram(aes(x = flipper_length))"
      ],
      "id": "619afffe-cd91-4936-8636-7c1e90b0f146"
    },
    {
      "cell_type": "markdown",
      "metadata": {},
      "source": [
        "**Question:** Is the variable unimodal or bimodal?\n",
        "\n",
        "### Density plots\n",
        "\n",
        "A density plot is similar to a smoothed histogram.\n",
        "\n",
        "-   The area under the smoothed curve must equal 1.\n",
        "-   Density plots sometimes have problems near the edges of a variable with a fixed upper or lower bound because it is difficult to know how to smooth the data in those regions.\n",
        "\n",
        "We combine the `plot` and `density` functions to construct a density plot using **base** R."
      ],
      "id": "f96e1649-70d4-4f29-baea-4fbba32387f2"
    },
    {
      "cell_type": "code",
      "execution_count": null,
      "metadata": {},
      "outputs": [],
      "source": [
        "plot(density(penguins_clean$bill_depth,\n",
        "             na.rm = TRUE),\n",
        "     main = \"\")"
      ],
      "id": "684da1e3-f385-4362-af86-1b872271b7d3"
    },
    {
      "cell_type": "markdown",
      "metadata": {},
      "source": [
        "**Question:** Is the variable unimodal or bimodal?\n",
        "\n",
        "We create a density plot with **ggplot2** using `geom_density`."
      ],
      "id": "8fcc340a-8e70-4e95-a364-34c4701ee12d"
    },
    {
      "cell_type": "code",
      "execution_count": null,
      "metadata": {},
      "outputs": [],
      "source": [
        "gg_penguin + geom_density(aes(x = body_mass))"
      ],
      "id": "264ec9b2-40fa-4c0d-aeb3-389eda3be544"
    },
    {
      "cell_type": "markdown",
      "metadata": {},
      "source": [
        "**Questions:**\n",
        "\n",
        "-   Is the `body_mass` variable unimodal?\n",
        "-   Is there evidence the variable is skewed?\n",
        "\n",
        "## Bivariate plots\n",
        "\n",
        "A `bivariate` plot is a plot involving two variables.\n",
        "\n",
        "### Scatter plots\n",
        "\n",
        "Scatter plots can be used to identify the relationship between two `numeric` variables.\n",
        "\n",
        "We use the `plot` function to create a scatter plot."
      ],
      "id": "fa221e59-7a1c-49a4-b92e-81b3e7ba783e"
    },
    {
      "cell_type": "code",
      "execution_count": null,
      "metadata": {},
      "outputs": [],
      "source": [
        "# xlab and ylab are used to customize the x-axis and y-axis labels\n",
        "plot(bill_length ~ body_mass, data = penguins_clean,\n",
        "     xlab = \"body mass (g)\", ylab = \"bill length (mm)\")"
      ],
      "id": "4706763d-cd81-4355-a9db-3ccbbdb5477c"
    },
    {
      "cell_type": "markdown",
      "metadata": {},
      "source": [
        "**Questions:**\n",
        "\n",
        "-   Is there a linear relationship between `body_mass` and `bill length`?\n",
        "-   If so, is the linear relationship positive or negative?\n",
        "\n",
        "The `geom_point` function can be used to create a scatter plot with **ggplot2**."
      ],
      "id": "66bac119-48d7-4936-b962-93efb69a2f96"
    },
    {
      "cell_type": "code",
      "execution_count": null,
      "metadata": {},
      "outputs": [],
      "source": [
        "gg_penguin + geom_point(aes(x = bill_depth, y = bill_length))"
      ],
      "id": "3bf88647-1114-4ead-8b6d-c1ad64b467f0"
    },
    {
      "cell_type": "markdown",
      "metadata": {},
      "source": [
        "**Question:** What can we conclude from this plot?\n",
        "\n",
        "### Parallel box plots\n",
        "\n",
        "Parallel box plots:\n",
        "\n",
        "-   Draw a box plot for the `numeric` values of a variable for each `level` of a `factor` variable.\n",
        "-   Are useful for determining if the distribution of a `numeric` variable substantially changes based on whether an observation has a certain `level` of a `factor`.\n",
        "\n",
        "We use the `plot` function to draw a parallel box plot by associating a `numeric` variable with a `factor` variable."
      ],
      "id": "af691ffe-a6d3-44f9-9570-56e250d39c90"
    },
    {
      "cell_type": "code",
      "execution_count": null,
      "metadata": {},
      "outputs": [],
      "source": [
        "plot(body_mass ~ sex, data = penguins_clean)"
      ],
      "id": "5eda014a-c81e-4767-9c71-926de1971ea7"
    },
    {
      "cell_type": "markdown",
      "metadata": {},
      "source": [
        "We can produce something similar with **ggplot2** by specifying both the `y` and `x` aesthetics of `geom_boxplot`."
      ],
      "id": "0bbeefa4-e026-4202-ab4e-3f675ac4ef6f"
    },
    {
      "cell_type": "code",
      "execution_count": null,
      "metadata": {},
      "outputs": [],
      "source": [
        "gg_penguin + \n",
        "  geom_boxplot(aes(x = species, y = bill_length))"
      ],
      "id": "9c7c49ad-283e-417d-9afe-9747c31c4129"
    },
    {
      "cell_type": "markdown",
      "metadata": {},
      "source": [
        "## Multivariate plots\n",
        "\n",
        "A multivariate plot displays relationships between 2 or more variables.\n",
        "\n",
        "Multivariate plots are more easily created using **ggplot2** than **base**.\n",
        "\n",
        "### Grouped scatter plot\n",
        "\n",
        "A grouped scatter plot is a scatter plot that uses colors or symbols (or both) to indicate the `level` of a `factor` variable that each point corresponds to."
      ],
      "id": "b01fdc63-2c48-4c27-b02a-e2f21a72cdd6"
    },
    {
      "cell_type": "code",
      "execution_count": null,
      "metadata": {},
      "outputs": [],
      "source": [
        "gg_penguin +\n",
        "  geom_point(aes(x = body_mass,\n",
        "                 y = flipper_length,\n",
        "                 color = species))"
      ],
      "id": "6fa42db3-cf45-4617-a2a3-f55e8e68dc1d"
    },
    {
      "cell_type": "markdown",
      "metadata": {},
      "source": [
        "We use a colorblind-friendly palette and some additional customizations below. The website [https://colorbrewer2.org](https://colorbrewer2.org%5D(https://colorbrewer2.org)) is an excellent resource for choosing an effective color palette."
      ],
      "id": "38eab47b-99c2-4ef2-ae3a-91547143ff91"
    },
    {
      "cell_type": "code",
      "execution_count": null,
      "metadata": {},
      "outputs": [],
      "source": [
        "gg_penguin +\n",
        "  geom_point(aes(x = body_mass,\n",
        "                 y = flipper_length,\n",
        "                 color = species,\n",
        "                 shape = species)) +\n",
        "  scale_color_brewer(type = \"qual\",\n",
        "                     palette = \"Dark2\") +\n",
        "  xlab(\"body mass (g)\") +\n",
        "  ylab(\"flipper length (mm)\") +\n",
        "  ggtitle(\"body mass versus flipper length by species\")"
      ],
      "id": "56eb1681-6dfb-4172-9431-5f1050d02f93"
    },
    {
      "cell_type": "markdown",
      "metadata": {},
      "source": [
        "### Facetted plots (and alternatives)\n",
        "\n",
        "Facetting creates separate panels (facets) of plots based on one or more facetting variables.\n",
        "\n",
        "The key functions to do this with **ggplot2** are:\n",
        "\n",
        "-   `facet_grid` is used to create a grid of plots based on one or two `factor` variables.\n",
        "-   `facet_wrap` wraps facets of panels around the plot based on one `factor` variable.."
      ],
      "id": "6235fe99-2fd8-4da6-94ed-c5886caaeee8"
    },
    {
      "cell_type": "code",
      "execution_count": null,
      "metadata": {},
      "outputs": [],
      "source": [
        "# simple facetting example\n",
        "gg_penguin +\n",
        "  geom_point(aes(x = bill_depth, y = bill_length)) + facet_grid(~ species)"
      ],
      "id": "bfc2620b-c49d-4a34-a77f-0ae153a98d26"
    },
    {
      "cell_type": "markdown",
      "metadata": {},
      "source": [
        "How do we deal with NAs in facetting?"
      ],
      "id": "fde0a05f-61f9-4969-8799-2ffb5b47f48a"
    },
    {
      "cell_type": "code",
      "execution_count": null,
      "metadata": {},
      "outputs": [],
      "source": [
        "# facetting with NA facet!\n",
        "gg_penguin + geom_density(aes(x = body_mass)) + facet_grid(~ sex)"
      ],
      "id": "65fd603d-94e5-43d6-ae66-b07b59004caa"
    },
    {
      "cell_type": "code",
      "execution_count": null,
      "metadata": {},
      "outputs": [],
      "source": [
        "# to remove the NA facet, we must remove NAs\n",
        "# only do this for relevant columns to retain as much data as possible\n",
        "penguins_temp <-\n",
        "  penguins_clean |>\n",
        "  subset(select = c(body_mass, sex, species)) |>\n",
        "  na.omit()\n",
        "# new plot from \"clean\" data\n",
        "ggplot(penguins_temp) + geom_density(aes(x = body_mass)) + facet_grid(~ sex)"
      ],
      "id": "413d3abc-39c6-42cb-b23f-2690bfdd38fe"
    },
    {
      "cell_type": "markdown",
      "metadata": {},
      "source": [
        "Here’s another facetting example that uses transparency."
      ],
      "id": "1d30384f-c3a7-4839-a35f-195607c2ee83"
    },
    {
      "cell_type": "code",
      "execution_count": null,
      "metadata": {},
      "outputs": [],
      "source": [
        "ggplot(data = penguins_temp) +\n",
        "  geom_density(aes(x = body_mass, fill = sex), alpha = 0.5) +\n",
        "  facet_grid(~ species)"
      ],
      "id": "4bffb28b-6f0a-4247-b860-be282388d2bd"
    },
    {
      "cell_type": "markdown",
      "metadata": {},
      "source": [
        "### Interactive graphics\n",
        "\n",
        "The **plotly** package provides the capabilities of plotly \\[<https://plotly.com/>\\] using R.\n",
        "\n",
        "-   plotly is a well-known tool for creating interactive graphics.\n",
        "-   The `ggplotly` function in the **plotly** will instantly make a `ggplot` interactive.\n",
        "\n",
        "We create an interactive grouped scatter plot using this approach."
      ],
      "id": "f1d40137-f2b5-4c2c-b469-4adad002a18c"
    },
    {
      "cell_type": "code",
      "execution_count": null,
      "metadata": {},
      "outputs": [],
      "source": [
        "# load plotly package\n",
        "library(plotly)\n",
        "# create grouped scatter plot\n",
        "ggi <-\n",
        "  gg_penguin +\n",
        "  geom_point(aes(x = body_mass, y = flipper_length, color = species, shape = species)) +\n",
        "  scale_color_brewer(type = \"qual\", palette = \"Dark2\") +\n",
        "  xlab(\"body mass (g)\") + ylab(\"flipper length (mm)\") +\n",
        "  ggtitle(\"body mass versus flipper length by species\")\n",
        "# make plot interactive\n",
        "ggplotly(ggi)"
      ],
      "id": "ca65f84e-52f8-4f5e-b65e-86370a9e8a61"
    },
    {
      "cell_type": "markdown",
      "metadata": {},
      "source": [
        "Next, we create an interactive parallel box plot using this approach."
      ],
      "id": "089dcc3f-8536-4111-b4af-99b8abdd34e8"
    },
    {
      "cell_type": "code",
      "execution_count": null,
      "metadata": {},
      "outputs": [],
      "source": [
        "# create parallel box plots\n",
        "ggi2 <-\n",
        "  gg_penguin +\n",
        "  geom_boxplot(aes(x = species, y = bill_length))\n",
        "# make plot interactive\n",
        "ggplotly(ggi2)"
      ],
      "id": "e2ad2fb0-0733-456c-906e-3ac461f8372e"
    },
    {
      "cell_type": "markdown",
      "metadata": {},
      "source": [
        "## A plan for data cleaning and exploration\n",
        "\n",
        "1.  Import or create the data set.\n",
        "2.  Use the `str` or `dplyr::glimpse` functions to get an idea of the initial structure. Look for problems with variable names and types, etc.\n",
        "3.  Clean the variable names (preferably, all lowercase letters, no spaces or periods, use underscore when necessary).\n",
        "4.  Convert the variables to the appropriate type (e.g., categorical variables to `factor`).\n",
        "5.  Run the `summary` function on our data frame. Take note of `NAs`, impossible values that are data entry errors, etc. Perhaps perform some additional cleaning based on this information.\n",
        "6.  Compute additional numeric summaries of the different variables, as desired.\n",
        "7.  Create univariate plots of all variables we are considering.\n",
        "\n",
        "-   Use histograms for discrete `numeric` variables\n",
        "-   Use density plots for continuous `numeric` variables.\n",
        "-   Use bar plots for `factor` variables.\n",
        "-   Take note of any interesting patterns such as modality, skewness, overall shape, outliers, etc.\n",
        "\n",
        "1.  Create bivariate plots of any pairs of variables.\n",
        "\n",
        "-   Use scatter plots for two `numeric` variables.\n",
        "-   Use parallel box plots for `numeric` and `factor` variable pairs.\n",
        "-   Or use histograms of the `numeric` variable facetted by the `factor` variable.\n",
        "-   Or use density plots of the `numeric` variables filled with different colors by the `factor` variable.\n",
        "\n",
        "1.  Create multivariate and interactive graphics based on what we learned in the previous steps.\n",
        "\n",
        "## Final notes on missing or erroneous data\n",
        "\n",
        "Correct erroneous data entries, when possible. If that’s not possible, replace them with `NA` values.\n",
        "\n",
        "What should we do about `NA`s?\n",
        "\n",
        "-   If there is no systematic reason why the data are missing, then ignoring the observations with missing data isn’t a terrible approach.\n",
        "-   If there is a systematic reason why the data are missing (such as individuals not wanting to answer a sensitive question, subjects dying for a specific reason) then ignoring that data can lead to erroneous conclusions."
      ],
      "id": "4cfec8a1-ba19-441f-b5b2-2aad40121367"
    }
  ],
  "nbformat": 4,
  "nbformat_minor": 5,
  "metadata": {
    "kernelspec": {
      "name": "ir",
      "display_name": "R",
      "language": "R"
    }
  }
}