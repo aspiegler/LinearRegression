{
  "cells": [
    {
      "cell_type": "markdown",
      "metadata": {},
      "source": [
        "# Chapter 2 - Data Cleaning and Exploration\n",
        "\n",
        "Joshua French\n",
        "\n",
        "To open this information in an interactive Colab notebook, click or scan\n",
        "the QR code below.\n",
        "\n",
        "<a href=\"https://colab.research.google.com/github/jfrench/LinearRegression/blob/master/notebooks/01-r-foundations-notebook.ipynb\">\n",
        "<img src=\"https://raw.githubusercontent.com/jfrench/LinearRegression/9d0559b9fa7bdecc94158ebb6a0395c9139648d7/images/qr-02-data-exploration.png\">\n",
        "</a>\n",
        "\n",
        "We run the code below to ensure that all necessary packages are\n",
        "installed in our Jupyter environment."
      ],
      "id": "e08964a3-e62b-47e7-be10-1a05c715bdf1"
    },
    {
      "cell_type": "code",
      "execution_count": null,
      "metadata": {},
      "outputs": [],
      "source": [
        "if(!require(palmerpenguins, quietly = TRUE)) {\n",
        "  install.packages(\"palmerpenguins\", repos = \"https://cran.rstudio.com/\")\n",
        "}\n",
        "if(!require(ggplot2, quietly = TRUE)) {\n",
        "  install.packages(\"ggplot2\", repos = \"https://cran.rstudio.com/\")\n",
        "}\n",
        "if(!require(plotly, quietly = TRUE)) {\n",
        "  install.packages(\"ggplot2\", repos = \"https://cran.rstudio.com/\")\n",
        "}\n",
        "if(!require(dplyr, quietly = TRUE)) {\n",
        "  install.packages(\"ggplot2\", repos = \"https://cran.rstudio.com/\")\n",
        "}"
      ],
      "id": "981dfa01-a9ca-4c46-ab41-fc470dbb1b5d"
    },
    {
      "cell_type": "markdown",
      "metadata": {},
      "source": [
        "# Introduction\n",
        "\n",
        "We should explore every data set numerically and visually prior to\n",
        "modeling it. The data exploration process will help us:\n",
        "\n",
        "-   Find errors in our data.\n",
        "-   Locate missing values.\n",
        "-   Identify outliers and unusual observations.\n",
        "-   Find patterns in our data.\n",
        "-   Decide on a modeling approach.\n",
        "-   Etc.\n",
        "\n",
        "When we receive a data set for the first time, we often need to:\n",
        "\n",
        "-   Restructure the data set so that each row is an observation and each\n",
        "    column is a variable.\n",
        "-   Convert the variables to an appropriate type.\n",
        "-   Improve the names of the variables.\n",
        "-   Etc.\n",
        "\n",
        "The process of preparing the data into a friendly format is known as\n",
        "“cleaning”.\n",
        "\n",
        "# Raw Palmer penguins data\n",
        "\n",
        "We will systematically explore the `penguins_raw` data set from the\n",
        "**palmerpenguins** package.\n",
        "\n",
        "To attach a data set from an R package into our working environment, we:\n",
        "\n",
        "1.  Run the `data` function.\n",
        "2.  Specify the `name` of the data set we want to attach.\n",
        "3.  Specify the package that contains the data."
      ],
      "id": "08c2debe-68b0-46b6-ac7b-bc10fcf02f3d"
    },
    {
      "cell_type": "code",
      "execution_count": null,
      "metadata": {},
      "outputs": [],
      "source": [
        "data(penguins, package = \"palmerpenguins\")"
      ],
      "id": "e61b6f30-0947-4040-bcc4-17631dd123fa"
    },
    {
      "cell_type": "markdown",
      "metadata": {},
      "source": [
        "This command actually loads two data sets:\n",
        "\n",
        "-   `penguins_raw`: the data set we will be looking at.\n",
        "-   `penguins`: a simplified, clean version of `penguins_raw`.\n",
        "\n",
        "The `penguins_raw` data set provides data related to various penguin\n",
        "species measured in the Palmer Archipelago (Antarctica).\n",
        "\n",
        "The data set includes 344 observations of 17 variables. The variables\n",
        "are:\n",
        "\n",
        "-   `studyName`: the expedition from which the data were collected\n",
        "    (`character`).\n",
        "-   `Sample Number`: the continuous number sequence for each sample\n",
        "    (`numeric`).\n",
        "-   `Species`: the penguin’s species (`character`).\n",
        "-   `Region`: the region of the Palmer LTER sampling grid the sample was\n",
        "    obtained (`character`).\n",
        "-   `Island`: the island on which the penguin was observed\n",
        "    (`character`).\n",
        "-   `Stage`: the reproductive stage of the observation (`character`).\n",
        "-   `Individual ID`: the unique identification number of the\n",
        "    observations (`character`).\n",
        "-   `Clutch Completion`: whether the study nest was observed with a\n",
        "    “full clutch” of 2 eggs (`character`).\n",
        "-   `Date Egg`: the date that the study nest was observed with 1 egg\n",
        "    (`Date`).\n",
        "-   `Culman Length (mm)`: the length of the dorsal ridge of the\n",
        "    penguin’s bill in millimeters (`numeric`).\n",
        "-   `Culmen Depth (mm)`: the depth of the dorsal ridge of the penguin’s\n",
        "    bill in millimeters (`numeric`).\n",
        "-   `Flipper Length (mm)`: the penguin’s flipper length in millimeters\n",
        "    (`numeric`).\n",
        "-   `Body Mass (g)`: the penguin’s body mass in grams (`numeric`).\n",
        "-   `Sex`: the penguin’s sex (`character`).\n",
        "-   `Delta 15 N (o/oo)`: the ratio of stable isotopes 15N:14N\n",
        "    (`numeric`).\n",
        "-   `Delta 13 C (o/oo)`: the ratio of stable isotopes 15C:12C\n",
        "    (`numeric`).\n",
        "-   `Comments`: additional information about the observation\n",
        "    (`character`).\n",
        "\n",
        "# Initial data cleaning\n",
        "\n",
        "The `str` function provides a general overview of an object’s structure."
      ],
      "id": "081ad5bf-4ec0-4922-8aa0-ebff2789de4d"
    },
    {
      "cell_type": "code",
      "execution_count": null,
      "metadata": {},
      "outputs": [],
      "source": [
        "str(penguins_raw, give.attr = FALSE)"
      ],
      "id": "5301202e-f388-4bc3-8dd0-68aabec7daed"
    },
    {
      "cell_type": "markdown",
      "metadata": {},
      "source": [
        "An alternative to `str` is the `glimpse` function from the `dplyr`\n",
        "package."
      ],
      "id": "a5c74ad3-7e95-4996-bc11-b20896dfe61a"
    },
    {
      "cell_type": "code",
      "execution_count": null,
      "metadata": {},
      "outputs": [],
      "source": [
        "dplyr::glimpse(penguins_raw)"
      ],
      "id": "2d69b265-baa6-435f-8121-80345a6e2f1c"
    },
    {
      "cell_type": "markdown",
      "metadata": {},
      "source": [
        "The `penguins_raw` data has terrible variable names.\n",
        "\n",
        "-   The variable names have a mixture of lowercase and uppercase\n",
        "    letters, parentheses, and even spaces!\n",
        "-   This makes it complicated to access variables in the data frame."
      ],
      "id": "ab8a737a-5eda-4497-921c-9195efd59254"
    },
    {
      "cell_type": "code",
      "execution_count": null,
      "metadata": {},
      "outputs": [],
      "source": [
        "print(penguins_raw$`Flipper Length (mm)`, max = 10)"
      ],
      "id": "672d9e68-edcd-4407-9f00-0c50d368f9b2"
    },
    {
      "cell_type": "markdown",
      "metadata": {},
      "source": [
        "We will select only the variables that we will use in the future."
      ],
      "id": "03364ea7-d7f7-4ac6-b757-984a24ccad13"
    },
    {
      "cell_type": "code",
      "execution_count": null,
      "metadata": {},
      "outputs": [],
      "source": [
        "# select certain columns of penguins_raw, assign new name\n",
        "penguins_clean <-\n",
        "  penguins_raw |>\n",
        "  subset(select = c(\"Species\", \"Island\", \"Culmen Length (mm)\",\n",
        "                    \"Culmen Depth (mm)\", \"Flipper Length (mm)\", \"Body Mass (g)\", \"Sex\"))"
      ],
      "id": "8d4e2492-adad-4336-9ea9-1fff3db123c3"
    },
    {
      "cell_type": "markdown",
      "metadata": {},
      "source": [
        "We use the `names` function to rename the variables in `penguins_clean`."
      ],
      "id": "a4e88a65-12fc-4e8b-b68b-c8005c6fc948"
    },
    {
      "cell_type": "code",
      "execution_count": null,
      "metadata": {},
      "outputs": [],
      "source": [
        "# access variable names and replace with new names\n",
        "names(penguins_clean) <- c(\"species\",\n",
        "                           \"island\",\n",
        "                           \"bill_length\",\n",
        "                           \"bill_depth\",\n",
        "                           \"flipper_length\",\n",
        "                           \"body_mass\",\n",
        "                           \"sex\")\n",
        "# look at new variable names\n",
        "names(penguins_clean)"
      ],
      "id": "f859c91e-3883-4ed1-870e-587cef3fc6a9"
    },
    {
      "cell_type": "markdown",
      "metadata": {},
      "source": [
        "The `species`, `island`, and `sex` variables are categorical but are\n",
        "represented as `character` vectors instead of `factor`.\n",
        "\n",
        "We use the `transform` function to convert the each variable to a\n",
        "`factor`."
      ],
      "id": "9c7856ef-623f-4c96-9a43-afb9536bbf4b"
    },
    {
      "cell_type": "code",
      "execution_count": null,
      "metadata": {},
      "outputs": [],
      "source": [
        "# convert species, island, and sex variables\n",
        "# to factor, replace original object\n",
        "penguins_clean <-\n",
        "  penguins_clean |>\n",
        "  transform(species = factor(species),\n",
        "            island = factor(island),\n",
        "            sex = factor(sex))\n",
        "# view structure\n",
        "str(penguins_clean)"
      ],
      "id": "1c42d263-b46c-4d55-bd74-8a1f889a86a0"
    },
    {
      "cell_type": "markdown",
      "metadata": {},
      "source": [
        "The levels of of `species`, `island`, and `sex` are not formatted well."
      ],
      "id": "1b56e121-b8ad-4368-bd00-cf43b3967928"
    },
    {
      "cell_type": "code",
      "execution_count": null,
      "metadata": {},
      "outputs": [],
      "source": [
        "# determine levels of species and sex\n",
        "levels(penguins_clean$species)\n",
        "levels(penguins_clean$sex)"
      ],
      "id": "942952e5-d79e-4ce6-8d0b-63fdbacec892"
    },
    {
      "cell_type": "markdown",
      "metadata": {},
      "source": [
        "We now change the levels of each variable in the same order they are\n",
        "printed above and confirm that the changes were successful."
      ],
      "id": "bd469715-eff4-4a08-9526-84250c4c5ef4"
    },
    {
      "cell_type": "code",
      "execution_count": null,
      "metadata": {},
      "outputs": [],
      "source": [
        "# update factor levels of species and sex\n",
        "levels(penguins_clean$species) <- c(\"adelie\", \"chinstrap\", \"gentoo\")\n",
        "levels(penguins_clean$sex) <- c(\"female\", \"male\")\n",
        "# confirm that changes took effect\n",
        "str(penguins_clean)"
      ],
      "id": "3e37c502-e9b2-4b82-a7e8-75f5aae406c2"
    },
    {
      "cell_type": "markdown",
      "metadata": {},
      "source": [
        "# Numerical summarization of data\n",
        "\n",
        "Numerical exploration of a data set generally consists of computing\n",
        "various relevant statistics for each of the variables in a data set in\n",
        "order to summarize the data.\n",
        "\n",
        "| numeric summary | variable type | summarizes | R function |\n",
        "|------------------------|----------------|----------------|-----------------|\n",
        "| mean | `numeric` | center | `mean` |\n",
        "| median | `numeric` | center | `median` |\n",
        "| variance | `numeric` | spread | `var` |\n",
        "| standard deviation | `numeric` | spread | `sd` |\n",
        "| interquartile range | `numeric` | spread | `quantile` (modified) |\n",
        "| quantiles | `numeric` | center and spread | `quantile` |\n",
        "| correlation | `numeric` | similarity | `cor` |\n",
        "| frequency distribution | `factor` | counts | `table` |\n",
        "| relative frequency distribution | `factor` | proportions | `table` (modified) |\n",
        "\n",
        "## Numeric data\n",
        "\n",
        "Numerical exploration of a set of `numeric` values usually focuses on\n",
        "determining the:\n",
        "\n",
        "1.  center\n",
        "2.  spread\n",
        "3.  quantiles (less common).\n",
        "\n",
        "Computing the correlation between two `numeric` variables can also be\n",
        "useful.\n",
        "\n",
        "### Measures of center\n",
        "\n",
        "The sample mean and median are the most common statistics used to\n",
        "represent the “center” of a set of numeric values.\n",
        "\n",
        "The sample mean or average is:\n",
        "\n",
        "-   Obtained by adding all values in the sample and dividing by the\n",
        "    number of observations.\n",
        "-   Computed in R using `mean`.\n",
        "-   Easily affected by outliers.\n",
        "\n",
        "The sample median is:\n",
        "\n",
        "-   The middle value of an ordered set of values (the actual middle\n",
        "    value when the number of values is odd and the average of the two\n",
        "    middle values when the number of values is even).\n",
        "-   Identical to the 0.5 quantile of the data.\n",
        "-   More “resistant” than the mean because it is not so greatly affected\n",
        "    by outliers.\n",
        "-   Computed in R using `median`.\n",
        "\n",
        "We compute the mean of the `body_mass` variable of the `penguins_clean`\n",
        "data in the code below."
      ],
      "id": "9348339b-fdb3-45e4-bd3f-8bf0ba666773"
    },
    {
      "cell_type": "code",
      "execution_count": null,
      "metadata": {},
      "outputs": [],
      "source": [
        "mean(penguins_clean$body_mass)"
      ],
      "id": "0e83708d-7ca5-4537-8ca9-e8eaa1df2410"
    },
    {
      "cell_type": "markdown",
      "metadata": {},
      "source": [
        "**Question:** Why is the result `NA` instead of a number?"
      ],
      "id": "f35a0ec2-81af-4d26-95b7-4b9145d53ed3"
    },
    {
      "cell_type": "code",
      "execution_count": null,
      "metadata": {},
      "outputs": [],
      "source": [
        "# compute sample mean and median body_mass, ignoring NAs\n",
        "mean(penguins_clean$body_mass, na.rm = TRUE)\n",
        "median(penguins_clean$body_mass, na.rm = TRUE)"
      ],
      "id": "4a2e8918-82ad-4be3-bfec-0544f9844e17"
    },
    {
      "cell_type": "markdown",
      "metadata": {},
      "source": [
        "**Question:** The median is less than the mean (i.e., large values are\n",
        "pulling the mean in the positive direction). What *might* this tell us\n",
        "about the distribution?\n",
        "\n",
        "### Quantiles\n",
        "\n",
        "The $p$th quantile ($0\\leq p \\leq 1$) of a set of values is the value\n",
        "that separates the smallest $100 p$% of the values from the upper\n",
        "$100(1-p)$% of the values.\n",
        "\n",
        "-   The 0.25 sample quantile (often called Q1) of a set of values is the\n",
        "    value that separates the smallest 25% of the values from the largest\n",
        "    75% of the values.\n",
        "\n",
        "The `quantile` function is used to compute sample quantiles.\n",
        "\n",
        "Quantiles are useful for quantifying:\n",
        "\n",
        "-   Center (median).\n",
        "-   Spread (minimum and maximum or interquartile range = Q3 - Q1)."
      ],
      "id": "2261a19a-d104-490f-b887-5ab5653c68ae"
    },
    {
      "cell_type": "code",
      "execution_count": null,
      "metadata": {},
      "outputs": [],
      "source": [
        "quantile(penguins_clean$body_mass,\n",
        "         probs = c(0, 0.25, 0.5, 0.75, 1),\n",
        "         na.rm = TRUE)"
      ],
      "id": "ec7fbb7e-9e47-4355-9001-e7bd8eee3016"
    },
    {
      "cell_type": "markdown",
      "metadata": {},
      "source": [
        "**Question:** Q3 and the maximum are further from the median than Q1 and\n",
        "the minimum. Is this evidence that this variable may be positively\n",
        "skewed?\n",
        "\n",
        "### Measures of spread\n",
        "\n",
        "Spread is related to how far values are from each other.\n",
        "\n",
        "The sample variance of a set of values $x_1, x_2, \\ldots, x_n$ is:\n",
        "\n",
        "-   The (approximate) average of the squared deviation of each\n",
        "    observation from the sample mean.\n",
        "-   $s^2 = \\frac{1}{n-1}\\sum_{i=1}^n (x_i - \\bar{x})^2$.\n",
        "-   Computed using the `var` function.\n",
        "\n",
        "The sample standard deviation is:\n",
        "\n",
        "-   The square root of the sample variance.\n",
        "-   A more useful measure of spread because it is has the same units as\n",
        "    the original data.\n",
        "-   Computed using the `sd` function.\n",
        "\n",
        "The larger the standard deviation or variance of a set of values, the\n",
        "more they vary from their sample mean.\n",
        "\n",
        "The sample standard deviation and variance can be greatly affected by\n",
        "outliers.\n",
        "\n",
        "The interquartile range is the difference between the 0.75 and 0.25\n",
        "quantiles of a data set.\n",
        "\n",
        "-   It is more resistant to outliers than the sample variance or\n",
        "    standard deviation.\n",
        "\n",
        "The minimum and maximum (in relation to the sample mean or median) can\n",
        "also be used to ascertain the spread of a data set.\n",
        "\n",
        "-   Computed using the `min` and `max` functions.\n",
        "\n",
        "We compute these measures of spread for the `body_mass` variable below."
      ],
      "id": "5e66804e-4e3a-42d5-a38d-e00c68dc484c"
    },
    {
      "cell_type": "code",
      "execution_count": null,
      "metadata": {},
      "outputs": [],
      "source": [
        "# sample variance\n",
        "var(penguins_clean$body_mass, na.rm = TRUE)\n",
        "# sample standard deviation\n",
        "sd(penguins_clean$body_mass, na.rm = TRUE)\n",
        "# interquartile range (names = FALSE removes text above the results)\n",
        "quantile(penguins_clean$body_mass, probs = 0.75, na.rm = TRUE, names = FALSE) -\n",
        "  quantile(penguins_clean$body_mass, probs = 0.25, na.rm = TRUE, names = FALSE)\n",
        "# minimum\n",
        "min(penguins_clean$body_mass, na.rm = TRUE)\n",
        "# maximum\n",
        "max(penguins_clean$body_mass, na.rm = TRUE)"
      ],
      "id": "0afa1de8-e4ed-4633-8602-adae610ca938"
    },
    {
      "cell_type": "markdown",
      "metadata": {},
      "source": [
        "### Correlation\n",
        "\n",
        "The correlation between two `numeric` variables quantifies the strength\n",
        "and direction of their linear relationship.\n",
        "\n",
        "The most common correlation statistic is Pearson’s correlation\n",
        "statistic. If $x_1, x_2, \\ldots, x_n$ and $y_1, y_2, \\ldots, y_n$ are\n",
        "two sets of `numeric` values, then the sample correlation statistic is\n",
        "computed as\n",
        "\n",
        "$$r = \\frac{1}{n-1}\\sum_{i=1}^n\\left(\\frac{x_i - \\bar{x}}{s_x}\\right)\\left(\\frac{y_i - \\bar{y}}{s_y}\\right),$$\n",
        "\n",
        "where:\n",
        "\n",
        "-   $\\bar{x}$ and $s_x$ denote the sample mean and standard deviation of\n",
        "    the $x$’s.\n",
        "-   $\\bar{y}$ and $s_y$ denote the same thing for the $y$’s.\n",
        "\n",
        "$r$ must be between -1 and 1.\n",
        "\n",
        "The `cor` function can be used to compute the sample correlation between\n",
        "two `numeric` variables.\n",
        "\n",
        "**Interpretation**\n",
        "\n",
        "-   The closer $r$ is to -1 or 1, the closer the data values are to a\n",
        "    straight line.\n",
        "-   $r$ values close to 0 indicate that there is no linear relationship\n",
        "    between the two variables.\n",
        "-   Negative $r$ values indicate a negative relationship between the two\n",
        "    variables (as values for one variable increase, the values for the\n",
        "    other variable tend to decrease).\n",
        "-   Positive $r$ values indicate a positive linear relationship between\n",
        "    the two variables (as values for one variable increase, the values\n",
        "    of the other variable also tend to increase).\n",
        "\n",
        "In the code below, we compute the sample correlation between all\n",
        "`numeric` variables in `penguins_clean`. We set the `use` argument to\n",
        "`\"pairwise.complete.obs\"` so that all non-`NA` pairs of values are used\n",
        "in the calculation."
      ],
      "id": "a8c95108-41f0-4ff8-b7fd-4ad68237ad68"
    },
    {
      "cell_type": "code",
      "execution_count": null,
      "metadata": {},
      "outputs": [],
      "source": [
        "# determine whether each variable is numeric\n",
        "num_col <- unlist(lapply(penguins_clean, is.numeric))\n",
        "# observe results\n",
        "num_col\n",
        "# compute correlation of numeric variables\n",
        "cor(penguins_clean[, num_col], use = \"pairwise.complete.obs\")"
      ],
      "id": "5ad2e536-e0e9-4cb9-abae-86d8cf25b633"
    },
    {
      "cell_type": "markdown",
      "metadata": {},
      "source": [
        "-   The values of each variable are perfectly correlated with\n",
        "    themselves.\n",
        "-   The correlation between `bill_length` and `body_mass` is 0.87, so\n",
        "    heavier penguins tend to have longer bills.\n",
        "-   Perhaps surprisingly, the correlation between `bill_length` and\n",
        "    `bill_depth` is -0.24, so penguins with longer bills tend to have\n",
        "    shallower (narrower) bill depth.\n",
        "-   The correlation between `bill_depth` and `body_mass` is -0.47, so\n",
        "    heavier penguins tend to have narrower bills.\n",
        "\n",
        "## Categorical data\n",
        "\n",
        "Frequency distributions and relative frequency distributions are useful\n",
        "numeric summaries of categorical data.\n",
        "\n",
        "A frequency distribution summarizes the number of observations having\n",
        "each level of a categorical variable.\n",
        "\n",
        "The `table` function produces a frequency distribution (contingency\n",
        "table) summarizing the number of observations for each level of a\n",
        "categorical variable.\n",
        "\n",
        "-   By default, `table` ignores `NA` values."
      ],
      "id": "cc88551f-8e79-4b94-b9b9-a343dfb7067f"
    },
    {
      "cell_type": "code",
      "execution_count": null,
      "metadata": {},
      "outputs": [],
      "source": [
        "table(penguins_clean$sex)"
      ],
      "id": "8094ef8d-f4f2-4870-a7c6-7e9b808845c2"
    },
    {
      "cell_type": "markdown",
      "metadata": {},
      "source": [
        "To count the `NA` values (if present), we set the `useNA` argument of\n",
        "`table` to `\"ifany\"`."
      ],
      "id": "5e9c714b-dea0-4d5d-9993-21eb77074ce8"
    },
    {
      "cell_type": "code",
      "execution_count": null,
      "metadata": {},
      "outputs": [],
      "source": [
        "table(penguins_clean$sex, useNA = \"ifany\")"
      ],
      "id": "4007b580-67df-4b80-a752-b30ad8222fbb"
    },
    {
      "cell_type": "markdown",
      "metadata": {},
      "source": [
        "A relative frequency distribution summarizes the proportion or\n",
        "percentage of observation with each level of a categorical variable.\n",
        "\n",
        "To compute the relative frequency distribution of a variable, we must\n",
        "divide the frequency distribution by the number of observations."
      ],
      "id": "a6b7bbe0-2e34-4701-ad2d-6ba469877c10"
    },
    {
      "cell_type": "code",
      "execution_count": null,
      "metadata": {},
      "outputs": [],
      "source": [
        "# divide the frequence distribution of sex by the number of non-NA values\n",
        "table(penguins_clean$sex)/sum(!is.na(penguins_clean$sex))"
      ],
      "id": "fd00158e-255d-4cf7-a77e-9ce0040a7968"
    },
    {
      "cell_type": "markdown",
      "metadata": {},
      "source": [
        "If we want to include the `NA` values in our table, we can use the code\n",
        "below."
      ],
      "id": "84d094b5-f830-4fcf-886b-62e363db8584"
    },
    {
      "cell_type": "code",
      "execution_count": null,
      "metadata": {},
      "outputs": [],
      "source": [
        "table(penguins_clean$sex, useNA = \"ifany\")/length(penguins_clean$sex)"
      ],
      "id": "8b961718-9cfa-4d2e-80b2-31a3fe41170e"
    },
    {
      "cell_type": "markdown",
      "metadata": {},
      "source": [
        "We do not know the `sex` of approximately 3% of the penguins\n",
        "observations.\n",
        "\n",
        "## The `summary` function\n",
        "\n",
        "The `summary` function provides a simple approach for quickly\n",
        "quantifying the center and spread of each `numeric` variable in a data\n",
        "frame or determining the frequency distribution of a `factor` variable."
      ],
      "id": "7e786641-9ef7-4349-9f07-85420369033e"
    },
    {
      "cell_type": "code",
      "execution_count": null,
      "metadata": {},
      "outputs": [],
      "source": [
        "summary(penguins_clean)"
      ],
      "id": "af3bb39d-266d-4e89-8172-ffc6f011e592"
    },
    {
      "cell_type": "markdown",
      "metadata": {},
      "source": [
        "# Visual summaries of data\n",
        "\n",
        "Visual summaries (i.e., plots) of data help us:\n",
        "\n",
        "-   Spot errors in our data, unusual observations, and simple patterns.\n",
        "-   Communicate the results of our analysis.\n",
        "\n",
        "The two most popular packages for producing graphics in R are:\n",
        "\n",
        "-   **base**: the default graphics system\n",
        "-   **ggplot2**: a “grammar of graphics” that is able to produce complex\n",
        "    graphics with automated legends in a consistent, systematic way.\n",
        "\n",
        "| Visual summary | Variable types | Summary type | Base functions | geoms |\n",
        "|:--------------|:--------------|:--------------|:--------------|:--------------|\n",
        "| box plot | `numeric` | univariate | `boxplot` | `geom_boxplot` |\n",
        "| histogram | `numeric` | univariate | `hist` | `geom_histogram` |\n",
        "| density plot | `numeric` | univariate | `plot`, `density` | `geom_density` |\n",
        "| bar plot | `factor` | univariate | `plot` or `barplot`, `table` | `geom_bar` |\n",
        "| scatter plot | 2 `numeric` | bivariate | `plot` | `geom_point` |\n",
        "| parallel box plot | 1 `numeric`, 1 `factor` | bivariate | `plot` or `boxplot` | `geom_boxplot` |\n",
        "| grouped scatter plot | 2 `numeric`, 1 `factor` | multivariate | `plot` | `geom_point` |\n",
        "| facetted plots | mixed | multivariate | none | `facet_wrap` or `facet_grid` |\n",
        "| interactive plots | mixed | multivariate | none | `plotly::ggplotly` |\n",
        "\n",
        "## The ggplot recipe\n",
        "\n",
        "There are 4 main components needed to produce a graphic using\n",
        "**ggplot2**.\n",
        "\n",
        "1.  A data frame containing our data.\n",
        "    -   Each column should be a variable and each row should be an\n",
        "        observation of data.\n",
        "2.  A `ggplot` object.\n",
        "    -   This is initialized using the `ggplot` function.\n",
        "3.  A geometric object.\n",
        "    -   These are called “geoms” for short.\n",
        "    -   geoms indicate the geometric object used to visualize the data.\n",
        "        E.g., points, lines, polygons etc. More generally, geoms\n",
        "        indicate the type of plot that is desired, e.g., histogram,\n",
        "        density, or box plot, which aren’t exactly a simple geometric\n",
        "        argument.\n",
        "4.  An aesthetic.\n",
        "    -   An aesthetic mapping indicates what role a variable plays in the\n",
        "        plot.\n",
        "    -   e.g., which variable will play the “x” variable in the plot, the\n",
        "        “y” variable in the plot, control the “color” of the\n",
        "        observations, etc.\n",
        "\n",
        "We add “layers” of information to a `ggplot`, such as geoms, scales, or\n",
        "other customizations, using `+`.\n",
        "\n",
        "## Univariate plots\n",
        "\n",
        "A univariate plot is a plot that only involves a single variable.\n",
        "\n",
        "-   e.g., bar plots, box plots, histograms, density plots, dot plots\n",
        "    (bad), pie charts (bad), etc.\n",
        "\n",
        "### Bar plots\n",
        "\n",
        "A bar plot (or bar chart) displays the number or proportion of\n",
        "observations having each category of a categorical variable (or using R\n",
        "terminology, each `level` of a `factor` variable).\n",
        "\n",
        "The simplest way to create a bar plot in base R is using the `plot`\n",
        "function on a `factor`."
      ],
      "id": "519ed11b-126b-476d-9b13-3067762d7cdd"
    },
    {
      "cell_type": "code",
      "execution_count": null,
      "metadata": {},
      "outputs": [],
      "source": [
        "plot(penguins_clean$island, main = \"distribution of island\")"
      ],
      "id": "0256ada0-3787-48bc-90df-c2d516462857"
    },
    {
      "cell_type": "markdown",
      "metadata": {},
      "source": [
        "There are about 170 penguins from Biscoe island, about 125 from Dream\n",
        "island, and 50 from Torgerson island.\n",
        "\n",
        "Alternatively, we can combine `barplot` with the `table` function."
      ],
      "id": "4005fc6e-65ff-4ae1-bbd0-d56577930fc4"
    },
    {
      "cell_type": "code",
      "execution_count": null,
      "metadata": {},
      "outputs": [],
      "source": [
        "barplot(table(penguins_clean$sex, useNA = \"ifany\"), names.arg = c(\"female\", \"male\", \"NA\"))"
      ],
      "id": "5c898386-5fb1-462c-bbcb-548d3a5da956"
    },
    {
      "cell_type": "markdown",
      "metadata": {},
      "source": [
        "To create a relatively frequency bar plot, we should divide the results\n",
        "of `table` by the number of relevant observations."
      ],
      "id": "1e5e7384-f210-42af-b936-8b91d3e82ed1"
    },
    {
      "cell_type": "code",
      "execution_count": null,
      "metadata": {},
      "outputs": [],
      "source": [
        "barplot(table(penguins_clean$sex, useNA = \"ifany\") / length(penguins_clean$sex), \n",
        "        names.arg = c(\"female\", \"male\", \"NA\"))"
      ],
      "id": "67a877d6-b14d-486d-9e7b-c3d31688ccd1"
    },
    {
      "cell_type": "markdown",
      "metadata": {},
      "source": [
        "About 48% of the penguins are female, 49% are male, and 3% have an\n",
        "unknown sex.\n",
        "\n",
        "To create a bar plot with **ggplot2**, we first create a basic `ggplot`\n",
        "object containing our data. We must make sure to load the **ggplot2**\n",
        "package prior to creating the plot, otherwise we’ll get errors!"
      ],
      "id": "f1935978-5927-4cb9-8d44-7d217f443be6"
    },
    {
      "cell_type": "code",
      "execution_count": null,
      "metadata": {},
      "outputs": [],
      "source": [
        "# load ggplot2 package\n",
        "library(ggplot2)\n",
        "# create generic ggplot object with our data\n",
        "gg_penguin <- ggplot(data = penguins_clean)"
      ],
      "id": "67e8d0cd-ce17-4e9a-b643-567f23e674d4"
    },
    {
      "cell_type": "markdown",
      "metadata": {},
      "source": [
        "`gg_penguin` is a minimal `ggplot` object with the raw information\n",
        "needed to produce future graphics.\n",
        "\n",
        "To create a bar plot, we add the geom `geom_bar` and map the `species`\n",
        "variable (in this example) to the `x` aesthetic using the `aes`\n",
        "function."
      ],
      "id": "771bf03a-ad5e-49c4-9251-acd56f9ede3e"
    },
    {
      "cell_type": "code",
      "execution_count": null,
      "metadata": {},
      "outputs": [],
      "source": [
        "# create bar plot for species variable\n",
        "gg_penguin + geom_bar(aes(x = species))"
      ],
      "id": "effbbc0d-efda-40b3-9dbe-af3d01912d39"
    },
    {
      "cell_type": "markdown",
      "metadata": {},
      "source": [
        "Our data set contains slightly more than 150 Adelie penguins, about 70\n",
        "Chinstrap penguins, and 125 Gentoo penguins.\n",
        "\n",
        "### Box plots\n",
        "\n",
        "A box plot indicates:\n",
        "\n",
        "-   median\n",
        "-   0.25 quantile (Q1)\n",
        "-   0.75 quantile (Q3)\n",
        "-   extend bars to the largest and smallest observations that are not\n",
        "    outliers.\n",
        "\n",
        "Outliers are usually marked with stars or dots.\n",
        "\n",
        "-   The standard definition of an outlier in the context of box plots is\n",
        "    any value that is greater than Q3 + 1.5 (Q3 - Q1) or less than Q1 -\n",
        "    1.5 (Q3 - Q1).\n",
        "\n",
        "Box plots:\n",
        "\n",
        "-   are useful for identifying outliers and skewness.\n",
        "-   throw away a lot of information.\n",
        "    -   be cautious in making conclusions about skewness and modality.\n",
        "\n",
        "The `boxplot` function is the easiest approach for producing a box plot\n",
        "using base R."
      ],
      "id": "76334a1a-9d2e-49dc-b512-b6c54e396fe6"
    },
    {
      "cell_type": "code",
      "execution_count": null,
      "metadata": {},
      "outputs": [],
      "source": [
        "boxplot(penguins_clean$body_mass, main = \"distribution of body mass\")"
      ],
      "id": "ab0b43ee-a8e0-4e71-8339-d441513917f5"
    },
    {
      "cell_type": "markdown",
      "metadata": {},
      "source": [
        "Conclusions we can draw from the boxplot above:\n",
        "\n",
        "-   The median body mass of the penguins is a little more than 4,000\n",
        "    grams.\n",
        "-   The 0.25 quantile is about 3,500 grams\n",
        "-   The 0.75 quantile is about 4,750 grams.\n",
        "-   The lightest penguin is about 2,700 grams.\n",
        "-   The heaviest penguin is about 6,300 grams.\n",
        "-   There are no outliers.\n",
        "-   The data are slightly positively skewed since the upper whisker is\n",
        "    longer than the lower whisker.\n",
        "\n",
        "**Questions:**\n",
        "\n",
        "-   Are there any outliers?\n",
        "-   Is there evidence the masses are skewed?\n",
        "\n",
        "To create a box plot using **ggplot2**, we use `geom_boxplot`."
      ],
      "id": "5d1b0a23-1e81-4741-b4bd-2da65e79edbb"
    },
    {
      "cell_type": "code",
      "execution_count": null,
      "metadata": {},
      "outputs": [],
      "source": [
        "gg_penguin + geom_boxplot(aes(y = bill_length))"
      ],
      "id": "f1afb77a-8068-4ffe-8f38-930580b22c80"
    },
    {
      "cell_type": "markdown",
      "metadata": {},
      "source": [
        "**Questions:**\n",
        "\n",
        "-   What is the median bill length?\n",
        "-   What are the 0.25 and 0.75 quantiles of the bill lengths?\n",
        "-   Are there outliers?\n",
        "-   Is there evidence the variable is skewed?\n",
        "\n",
        "### Histograms\n",
        "\n",
        "A histogram:\n",
        "\n",
        "-   Displays the distribution of a `numeric` variable.\n",
        "-   Counts the number of values falling into (usually) equal-sized\n",
        "    “bins”. - are used to assess skewness, modality (the number of clear\n",
        "    “peaks” in the plot), and to some extent, outliers.\n",
        "\n",
        "The `hist` function is used create a histogram of a `numeric` variable."
      ],
      "id": "6edd59b2-9c65-4a15-a051-0d83b9d17d85"
    },
    {
      "cell_type": "code",
      "execution_count": null,
      "metadata": {},
      "outputs": [],
      "source": [
        "hist(penguins_clean$bill_length,\n",
        "     main = \"\",\n",
        "     xlab = \"bill length (mm)\",\n",
        "     breaks = 20)"
      ],
      "id": "0264c896-0dea-4caf-9307-c6f290e92b83"
    },
    {
      "cell_type": "markdown",
      "metadata": {},
      "source": [
        "**Questions:**\n",
        "\n",
        "-   Is the variable unimodal?\n",
        "-   What does this say about the skew?\n",
        "-   What does this tell us that numeric summaries did not?\n",
        "\n",
        "We use `geom_histogram` to create a histogram using **ggplot2**."
      ],
      "id": "a2422d1d-fd20-49c3-b7df-f55dd7136d77"
    },
    {
      "cell_type": "code",
      "execution_count": null,
      "metadata": {},
      "outputs": [],
      "source": [
        "gg_penguin + geom_histogram(aes(x = flipper_length))"
      ],
      "id": "2634c7d4-bf25-4592-9611-9b6504ec6f28"
    },
    {
      "cell_type": "markdown",
      "metadata": {},
      "source": [
        "**Question:** Is the variable unimodal or bimodal?\n",
        "\n",
        "### Density plots\n",
        "\n",
        "A density plot is similar to a smoothed histogram.\n",
        "\n",
        "-   The area under the smoothed curve must equal 1.\n",
        "-   Density plots sometimes have problems near the edges of a variable\n",
        "    with a fixed upper or lower bound because it is difficult to know\n",
        "    how to smooth the data in that case.\n",
        "\n",
        "The `plot` and `density` function can be combined to construct a density\n",
        "plot using **base** R."
      ],
      "id": "92985c71-c364-4986-ab84-b27cb8397e25"
    },
    {
      "cell_type": "code",
      "execution_count": null,
      "metadata": {},
      "outputs": [],
      "source": [
        "plot(density(penguins_clean$bill_depth,\n",
        "             na.rm = TRUE),\n",
        "     main = \"\")"
      ],
      "id": "b094dcc8-22d6-4047-bc6a-b659b41c3b8b"
    },
    {
      "cell_type": "markdown",
      "metadata": {},
      "source": [
        "**Question:** Is the variable unimodal or bimodal?\n",
        "\n",
        "We create a density plot with **ggplot2** using `geom_density`."
      ],
      "id": "3ac49796-8492-49eb-89c3-c7a957fb6fdb"
    },
    {
      "cell_type": "code",
      "execution_count": null,
      "metadata": {},
      "outputs": [],
      "source": [
        "gg_penguin + geom_density(aes(x = body_mass))"
      ],
      "id": "85dd400b-783b-4835-ae3f-96e2452d5b02"
    },
    {
      "cell_type": "markdown",
      "metadata": {},
      "source": [
        "**Questions:**\n",
        "\n",
        "-   Is the `body_mass` variable is unimodal?\n",
        "-   Is there evidence the variable is skewed?\n",
        "\n",
        "## Bivariate plots\n",
        "\n",
        "A `bivariate` plot is a plot involving two variables.\n",
        "\n",
        "### Scatter plots\n",
        "\n",
        "Scatter plots can be used to identify the relationship between two\n",
        "`numeric` variables.\n",
        "\n",
        "We use the `plot` function to create a scatter plot."
      ],
      "id": "ddf74dad-aa29-498e-b9ae-6574e190dda1"
    },
    {
      "cell_type": "code",
      "execution_count": null,
      "metadata": {},
      "outputs": [],
      "source": [
        "# xlab and ylab are used to customize the x-axis and y-axis labels\n",
        "plot(bill_length ~ body_mass,\n",
        "     data = penguins_clean,\n",
        "     xlab = \"body mass (g)\",\n",
        "     ylab = \"bill length (mm)\")"
      ],
      "id": "10bac2df-7fc0-44fb-93a6-74ae783142a3"
    },
    {
      "cell_type": "markdown",
      "metadata": {},
      "source": [
        "**Questions:**\n",
        "\n",
        "-   Is there a linear relationship between `body_mass` and\n",
        "    `bill length`?\n",
        "-   Is it positive or negative?\n",
        "\n",
        "The `geom_point` function can be used to create a scatter plot with\n",
        "**ggplot2**."
      ],
      "id": "c4541d2c-c715-4fdf-99e5-24487236b53d"
    },
    {
      "cell_type": "code",
      "execution_count": null,
      "metadata": {},
      "outputs": [],
      "source": [
        "gg_penguin +\n",
        "  geom_point(aes(x = bill_depth, y = bill_length))"
      ],
      "id": "ef262cd4-cd9f-48fc-b0d8-f6efd79c54f8"
    },
    {
      "cell_type": "markdown",
      "metadata": {},
      "source": [
        "**Question:** What can we conclude from this plot?\n",
        "\n",
        "### Parallel box plots\n",
        "\n",
        "A parallel box plot:\n",
        "\n",
        "-   Is used to display the distribution of a `numeric` variable whose\n",
        "    values are grouped based on each `level` of a `factor` variable.\n",
        "-   Are useful for determining if the distribution of a `numeric`\n",
        "    variable substantially changes based on whether an observation has a\n",
        "    certain `level` of a `factor`."
      ],
      "id": "95f9cdd5-efb3-4675-9e91-9d4d81ebc9da"
    },
    {
      "cell_type": "code",
      "execution_count": null,
      "metadata": {},
      "outputs": [],
      "source": [
        "plot(body_mass ~ sex, data = penguins_clean)"
      ],
      "id": "beaeeaf3-583d-4fdc-b1ce-73613dd3963e"
    },
    {
      "cell_type": "markdown",
      "metadata": {},
      "source": [
        "We can produce something similar with **ggplot2** by specifying both the\n",
        "`y` and `x` aesthetics of for `geom_boxplot`."
      ],
      "id": "05acb4f7-7b09-413f-a3dd-6c5c85688f57"
    },
    {
      "cell_type": "code",
      "execution_count": null,
      "metadata": {},
      "outputs": [],
      "source": [
        "gg_penguin + \n",
        "  geom_boxplot(aes(x = species, y = bill_length))"
      ],
      "id": "3d61edca-4c72-4a83-905e-57ce840c1d0c"
    },
    {
      "cell_type": "markdown",
      "metadata": {},
      "source": [
        "## Multivariate plots\n",
        "\n",
        "A multivariate plot displays relationships between 2 or more variables.\n",
        "\n",
        "Multivariate plots are more easily created using **ggplot2** than\n",
        "**base**.\n",
        "\n",
        "### Grouped scatter plot\n",
        "\n",
        "A grouped scatter plot is a scatter plot that uses colors or symbols (or\n",
        "both) to indicate the `level` of a `factor` variable that each point\n",
        "corresponds to."
      ],
      "id": "a68ba0ce-8566-4d9e-847d-18b7add59f47"
    },
    {
      "cell_type": "code",
      "execution_count": null,
      "metadata": {},
      "outputs": [],
      "source": [
        "gg_penguin +\n",
        "  geom_point(aes(x = body_mass,\n",
        "                 y = flipper_length,\n",
        "                 color = species))"
      ],
      "id": "dd8ba321-df17-4b04-ad90-e70d1b905815"
    },
    {
      "cell_type": "markdown",
      "metadata": {},
      "source": [
        "We use a colorblind-friendly palette and some additional customizations\n",
        "below. An excellent resource for choosing a color palette is\n",
        "[https://colorbrewer2.org](https://colorbrewer2.org%5D(https://colorbrewer2.org))."
      ],
      "id": "863ad213-534f-48eb-a65a-c6b53f2896a2"
    },
    {
      "cell_type": "code",
      "execution_count": null,
      "metadata": {},
      "outputs": [],
      "source": [
        "gg_penguin +\n",
        "  geom_point(aes(x = body_mass,\n",
        "                 y = flipper_length,\n",
        "                 color = species,\n",
        "                 shape = species)) +\n",
        "  scale_color_brewer(type = \"qual\",\n",
        "                     palette = \"Dark2\") +\n",
        "  xlab(\"body mass (g)\") +\n",
        "  ylab(\"flipper length (mm)\") +\n",
        "  ggtitle(\"body mass versus flipper length by species\")"
      ],
      "id": "08625eb8-e090-4a12-9965-07dfab378af4"
    },
    {
      "cell_type": "markdown",
      "metadata": {},
      "source": [
        "### Facetted plots (and alternatives)\n",
        "\n",
        "Facetting creates separate panels (facets) of plots based on one or more\n",
        "facetting variables.\n",
        "\n",
        "The key functions to do this with **ggplot2** are:\n",
        "\n",
        "-   `facet_grid` is used to create a grid of plots based on one or two\n",
        "    `factor` variables.\n",
        "-   `facet_wrap` wraps facets of panels around the plot based on one\n",
        "    `factor` variable.."
      ],
      "id": "95cb7683-c78a-4656-ad9b-7970a19ae831"
    },
    {
      "cell_type": "code",
      "execution_count": null,
      "metadata": {},
      "outputs": [],
      "source": [
        "# simple facetting example\n",
        "gg_penguin +\n",
        "  geom_point(aes(x = bill_depth, y = bill_length)) +\n",
        "  facet_grid(~ species)"
      ],
      "id": "feac208f-40ae-47b0-a2d1-141cfbc0b5c8"
    },
    {
      "cell_type": "markdown",
      "metadata": {},
      "source": [
        "How do we deal with NAs in facetting?"
      ],
      "id": "feef7e73-bf46-48bb-afd3-5335b9566bd1"
    },
    {
      "cell_type": "code",
      "execution_count": null,
      "metadata": {},
      "outputs": [],
      "source": [
        "# facetting with NA facet!\n",
        "gg_penguin +\n",
        "  geom_density(aes(x = body_mass)) +\n",
        "  facet_grid(~ sex)"
      ],
      "id": "3ff9cc30-8d3e-42d5-8bd1-2607cd8cb7ed"
    },
    {
      "cell_type": "markdown",
      "metadata": {},
      "source": [
        "Here’s another facetting example that uses transparency."
      ],
      "id": "8c0e030d-3982-494e-8c9a-532df824a322"
    },
    {
      "cell_type": "code",
      "execution_count": null,
      "metadata": {},
      "outputs": [],
      "source": [
        "ggplot(data = penguins_temp) +\n",
        "  geom_density(aes(x = body_mass, fill = sex),\n",
        "               alpha = 0.5) +\n",
        "  facet_grid(~ species)"
      ],
      "id": "4b07ef0a-2285-4a04-adc4-3c01eae35a72"
    },
    {
      "cell_type": "markdown",
      "metadata": {},
      "source": [
        "### Interactive graphics\n",
        "\n",
        "The **`plotly`** package is an R package to provide the capabilities of\n",
        "plotly \\[<https://plotly.com/>\\].\n",
        "\n",
        "-   plotly is a well-known tool for creating interactive graphics.\n",
        "-   The `ggplotly` function will instantly make a `ggplot` interactive."
      ],
      "id": "36071a54-c977-48a9-8783-683df07df97b"
    },
    {
      "cell_type": "code",
      "execution_count": null,
      "metadata": {},
      "outputs": [],
      "source": [
        "# load plotly package\n",
        "library(plotly)\n",
        "# create grouped scatter plot\n",
        "ggi <-\n",
        "  gg_penguin +\n",
        "  geom_point(aes(x = body_mass, y = flipper_length,\n",
        "                 color = species, shape = species)) +\n",
        "  scale_color_brewer(type = \"qual\", palette = \"Dark2\") +\n",
        "  xlab(\"body mass (g)\") + ylab(\"flipper length (mm)\") +\n",
        "  ggtitle(\"body mass versus flipper length by species\")\n",
        "# make plot interactive\n",
        "ggplotly(ggi)"
      ],
      "id": "152d948f-9e60-482b-abde-647e789f0864"
    },
    {
      "cell_type": "code",
      "execution_count": null,
      "metadata": {},
      "outputs": [],
      "source": [
        "# create parallel box plots\n",
        "ggi2 <-\n",
        "  gg_penguin +\n",
        "  geom_boxplot(aes(x = species, y = bill_length))\n",
        "# make plot interactive\n",
        "ggplotly(ggi2)"
      ],
      "id": "55875227-bb6e-4c2a-a92a-529648b0da36"
    },
    {
      "cell_type": "markdown",
      "metadata": {},
      "source": [
        "## A plan for data cleaning and exploration\n",
        "\n",
        "1.  Import or create the data set.\n",
        "2.  Use the `str` or `dplyr::glimpse` function to get an idea of the\n",
        "    initial structure. Look for problems with variable names and types,\n",
        "    etc.\n",
        "3.  Clean the variable names based on our preferences.\n",
        "4.  Convert the variables to the appropriate type (e.g., categorical\n",
        "    variables to `factor`).\n",
        "5.  Run the `summary` function on our data frame. Take note of `NAs`,\n",
        "    impossible values that are data entry errors, etc. Perhaps perform\n",
        "    some additional cleaning based on this information.\n",
        "6.  Compute any additional numeric summaries of the different variables,\n",
        "    as desired.\n",
        "7.  Create univariate plots of all variables we are considering.\n",
        "\n",
        "-   Use histograms for discrete `numeric` variables\n",
        "-   Use density plots for continuous `numeric` variables.\n",
        "-   Use bar plots for `factor` variables.\n",
        "-   Take note of any interesting patterns such as modality, skewness,\n",
        "    overall shape, outliers, etc.\n",
        "\n",
        "1.  Create bivariate plots of any pairs of variables.\n",
        "\n",
        "-   Use scatter plots for two `numeric` variables.\n",
        "-   Or use parallel box plots for `numeric` and `factor` variables.\n",
        "-   Or use histograms of the `numeric` variable facetted by the `factor`\n",
        "    variable.\n",
        "-   Or use density plots of the `numeric` variables filled with\n",
        "    different colors by the `factor` variable.\n",
        "\n",
        "1.  Create multivariate and interactive graphics based on what we\n",
        "    learned in the previous steps.\n",
        "\n",
        "## Final notes on missing or erroneous data\n",
        "\n",
        "Correct erroneous data entries, when possible. If that’s not possible,\n",
        "replace them with `NA` values.\n",
        "\n",
        "What should we do about `NA`s?\n",
        "\n",
        "-   If there is no systematic reason why the data are missing, then\n",
        "    ignoring the observations with missing data isn’t a terrible\n",
        "    approach.\n",
        "-   If there is a systematic reason why the data are missing (such as\n",
        "    individuals not wanting to answer a sensitive question, subjects\n",
        "    dying for a specific reason) then ignoring that data can lead to\n",
        "    erroneous conclusions."
      ],
      "id": "bd9854be-c3ff-4f9d-81b5-cd0e165c4ac7"
    }
  ],
  "nbformat": 4,
  "nbformat_minor": 5,
  "metadata": {
    "kernelspec": {
      "display_name": "Python 3",
      "language": "python",
      "name": "python3"
    }
  }
}