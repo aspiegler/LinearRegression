{
  "cells": [
    {
      "cell_type": "markdown",
      "metadata": {},
      "source": [
        "# Chapter 2 - Data Cleaning and Exploration\n",
        "\n",
        "Joshua French\n",
        "\n",
        "To open this information in an interactive Colab notebook, click or scan\n",
        "the QR code below.\n",
        "\n",
        "<a href=\"https://colab.research.google.com/github/jfrench/LinearRegression/blob/master/notebooks/02-data-exploration.ipynb\">\n",
        "<img src=\"https://raw.githubusercontent.com/jfrench/LinearRegression/9d0559b9fa7bdecc94158ebb6a0395c9139648d7/images/qr-02-data-exploration.png\">\n",
        "</a>\n",
        "\n",
        "We run the code below to ensure that all necessary packages are\n",
        "installed in our Jupyter environment."
      ],
      "id": "8dd3363a-8ab8-451c-b727-76a397d25da7"
    },
    {
      "cell_type": "code",
      "execution_count": null,
      "metadata": {},
      "outputs": [],
      "source": [
        "if(!require(palmerpenguins, quietly = TRUE)) {\n",
        "  install.packages(\"palmerpenguins\", repos = \"https://cran.rstudio.com/\")\n",
        "}\n",
        "if(!require(ggplot2, quietly = TRUE)) {\n",
        "  install.packages(\"ggplot2\", repos = \"https://cran.rstudio.com/\")\n",
        "}\n",
        "if(!require(plotly, quietly = TRUE)) {\n",
        "  install.packages(\"ggplot2\", repos = \"https://cran.rstudio.com/\")\n",
        "}\n",
        "if(!require(dplyr, quietly = TRUE)) {\n",
        "  install.packages(\"ggplot2\", repos = \"https://cran.rstudio.com/\")\n",
        "}"
      ],
      "id": "19300402-79d9-48c8-bb19-7aa3dcf556e2"
    },
    {
      "cell_type": "markdown",
      "metadata": {},
      "source": [
        "# Introduction\n",
        "\n",
        "We should explore every data set numerically and visually prior to\n",
        "modeling it. The data exploration process will help us:\n",
        "\n",
        "-   Find errors in our data.\n",
        "-   Locate missing values.\n",
        "-   Identify outliers and unusual observations.\n",
        "-   Find patterns in our data.\n",
        "-   Decide on a modeling approach.\n",
        "-   Etc.\n",
        "\n",
        "When we receive a data set for the first time, we often need to:\n",
        "\n",
        "-   Restructure the data set so that each row is an observation and each\n",
        "    column is a variable.\n",
        "-   Convert the variables to an appropriate type.\n",
        "-   Improve the names of the variables.\n",
        "-   Etc.\n",
        "\n",
        "The process of preparing the data into a friendly format is known as\n",
        "“cleaning”.\n",
        "\n",
        "# Raw Palmer penguins data\n",
        "\n",
        "We will systematically explore the `penguins_raw` data set from the\n",
        "**palmerpenguins** package.\n",
        "\n",
        "To attach a data set from an R package into our working environment, we:\n",
        "\n",
        "1.  Run the `data` function.\n",
        "2.  Specify the `name` of the data set we want to attach.\n",
        "3.  Specify the package that contains the data."
      ],
      "id": "648cd67d-c510-43b2-91d1-8fd009950259"
    },
    {
      "cell_type": "code",
      "execution_count": null,
      "metadata": {},
      "outputs": [],
      "source": [
        "data(penguins, package = \"palmerpenguins\")"
      ],
      "id": "4bb085eb-dc40-4167-a3a3-4c1369fe816c"
    },
    {
      "cell_type": "markdown",
      "metadata": {},
      "source": [
        "This command actually loads two data sets:\n",
        "\n",
        "-   `penguins_raw`: the data set we will be looking at.\n",
        "-   `penguins`: a simplified, clean version of `penguins_raw`.\n",
        "\n",
        "The `penguins_raw` data set provides data related to various penguin\n",
        "species measured in the Palmer Archipelago (Antarctica).\n",
        "\n",
        "The data set includes 344 observations of 17 variables. The variables\n",
        "are:\n",
        "\n",
        "-   `studyName`: the expedition from which the data were collected\n",
        "    (`character`).\n",
        "-   `Sample Number`: the continuous number sequence for each sample\n",
        "    (`numeric`).\n",
        "-   `Species`: the penguin’s species (`character`).\n",
        "-   `Region`: the region of the Palmer LTER sampling grid the sample was\n",
        "    obtained (`character`).\n",
        "-   `Island`: the island on which the penguin was observed\n",
        "    (`character`).\n",
        "-   `Stage`: the reproductive stage of the observation (`character`).\n",
        "-   `Individual ID`: the unique identification number of the\n",
        "    observations (`character`).\n",
        "-   `Clutch Completion`: whether the study nest was observed with a\n",
        "    “full clutch” of 2 eggs (`character`).\n",
        "-   `Date Egg`: the date that the study nest was observed with 1 egg\n",
        "    (`Date`).\n",
        "-   `Culman Length (mm)`: the length of the dorsal ridge of the\n",
        "    penguin’s bill in millimeters (`numeric`).\n",
        "-   `Culmen Depth (mm)`: the depth of the dorsal ridge of the penguin’s\n",
        "    bill in millimeters (`numeric`).\n",
        "-   `Flipper Length (mm)`: the penguin’s flipper length in millimeters\n",
        "    (`numeric`).\n",
        "-   `Body Mass (g)`: the penguin’s body mass in grams (`numeric`).\n",
        "-   `Sex`: the penguin’s sex (`character`).\n",
        "-   `Delta 15 N (o/oo)`: the ratio of stable isotopes 15N:14N\n",
        "    (`numeric`).\n",
        "-   `Delta 13 C (o/oo)`: the ratio of stable isotopes 15C:12C\n",
        "    (`numeric`).\n",
        "-   `Comments`: additional information about the observation\n",
        "    (`character`).\n",
        "\n",
        "# Initial data cleaning\n",
        "\n",
        "The `str` function provides a general overview of an object’s structure."
      ],
      "id": "b5caaa4b-f8ec-46cd-b931-36fa351f5645"
    },
    {
      "cell_type": "code",
      "execution_count": null,
      "metadata": {},
      "outputs": [],
      "source": [
        "str(penguins_raw, give.attr = FALSE)"
      ],
      "id": "6ce9bc75-9166-415b-92b1-a92d67d2ca94"
    },
    {
      "cell_type": "markdown",
      "metadata": {},
      "source": [
        "An alternative to `str` is the `glimpse` function from the `dplyr`\n",
        "package."
      ],
      "id": "97115876-97bc-42a4-8779-3d735837e2e0"
    },
    {
      "cell_type": "code",
      "execution_count": null,
      "metadata": {},
      "outputs": [],
      "source": [
        "dplyr::glimpse(penguins_raw)"
      ],
      "id": "8805e466-ede0-4c46-9f4f-db9cbd47d9f3"
    },
    {
      "cell_type": "markdown",
      "metadata": {},
      "source": [
        "The `penguins_raw` data has terrible variable names.\n",
        "\n",
        "-   The variable names have a mixture of lowercase and uppercase\n",
        "    letters, parentheses, and even spaces!\n",
        "-   This makes it complicated to access variables in the data frame."
      ],
      "id": "342a2ffa-3b23-4e18-b417-8f7a804562f8"
    },
    {
      "cell_type": "code",
      "execution_count": null,
      "metadata": {},
      "outputs": [],
      "source": [
        "print(penguins_raw$`Flipper Length (mm)`, max = 10)"
      ],
      "id": "cf7a2907-c7bd-4f4e-8bfe-edef9f66e456"
    },
    {
      "cell_type": "markdown",
      "metadata": {},
      "source": [
        "We will select only the variables that we will use in the future."
      ],
      "id": "399ca335-e8f1-41fb-a47f-3b35a67ecc3a"
    },
    {
      "cell_type": "code",
      "execution_count": null,
      "metadata": {},
      "outputs": [],
      "source": [
        "# select certain columns of penguins_raw, assign new name\n",
        "penguins_clean <-\n",
        "  penguins_raw |>\n",
        "  subset(select = c(\"Species\", \"Island\", \"Culmen Length (mm)\",\n",
        "                    \"Culmen Depth (mm)\", \"Flipper Length (mm)\", \"Body Mass (g)\", \"Sex\"))"
      ],
      "id": "b3631a17-2dd7-4c6a-9297-0de030f7a9e7"
    },
    {
      "cell_type": "markdown",
      "metadata": {},
      "source": [
        "We use the `names` function to rename the variables in `penguins_clean`."
      ],
      "id": "af234c75-b5e8-4791-b697-e10178f59b2c"
    },
    {
      "cell_type": "code",
      "execution_count": null,
      "metadata": {},
      "outputs": [],
      "source": [
        "# access variable names and replace with new names\n",
        "names(penguins_clean) <- c(\"species\",\n",
        "                           \"island\",\n",
        "                           \"bill_length\",\n",
        "                           \"bill_depth\",\n",
        "                           \"flipper_length\",\n",
        "                           \"body_mass\",\n",
        "                           \"sex\")\n",
        "# look at new variable names\n",
        "names(penguins_clean)"
      ],
      "id": "1e85ad39-a3cc-44d0-b5b8-f4f23cbac086"
    },
    {
      "cell_type": "markdown",
      "metadata": {},
      "source": [
        "The `species`, `island`, and `sex` variables are categorical but are\n",
        "represented as `character` vectors instead of `factor`.\n",
        "\n",
        "We use the `transform` function to convert the each variable to a\n",
        "`factor`."
      ],
      "id": "c78477cd-d167-4954-ab7e-596432408519"
    },
    {
      "cell_type": "code",
      "execution_count": null,
      "metadata": {},
      "outputs": [],
      "source": [
        "# convert species, island, and sex variables\n",
        "# to factor, replace original object\n",
        "penguins_clean <-\n",
        "  penguins_clean |>\n",
        "  transform(species = factor(species),\n",
        "            island = factor(island),\n",
        "            sex = factor(sex))\n",
        "# view structure\n",
        "str(penguins_clean)"
      ],
      "id": "5bb6fd14-afa5-4221-b0fc-afbc246bb608"
    },
    {
      "cell_type": "markdown",
      "metadata": {},
      "source": [
        "The levels of of `species`, `island`, and `sex` are not formatted well."
      ],
      "id": "83f5aa14-cdf6-48df-ac45-42229a584c20"
    },
    {
      "cell_type": "code",
      "execution_count": null,
      "metadata": {},
      "outputs": [],
      "source": [
        "# determine levels of species and sex\n",
        "levels(penguins_clean$species)\n",
        "levels(penguins_clean$sex)"
      ],
      "id": "3e80d9f0-751f-44ef-b92c-4e011983db90"
    },
    {
      "cell_type": "markdown",
      "metadata": {},
      "source": [
        "We now change the levels of each variable in the same order they are\n",
        "printed above and confirm that the changes were successful."
      ],
      "id": "3dffbd35-d1af-4a2b-97ba-641e07d47f36"
    },
    {
      "cell_type": "code",
      "execution_count": null,
      "metadata": {},
      "outputs": [],
      "source": [
        "# update factor levels of species and sex\n",
        "levels(penguins_clean$species) <- c(\"adelie\", \"chinstrap\", \"gentoo\")\n",
        "levels(penguins_clean$sex) <- c(\"female\", \"male\")\n",
        "# confirm that changes took effect\n",
        "str(penguins_clean)"
      ],
      "id": "89e3cf11-05a8-4f6a-b883-9bac588af3cd"
    },
    {
      "cell_type": "markdown",
      "metadata": {},
      "source": [
        "# Numerical summarization of data\n",
        "\n",
        "Numerical exploration of a data set generally consists of computing\n",
        "various relevant statistics for each of the variables in a data set in\n",
        "order to summarize the data.\n",
        "\n",
        "| numeric summary | variable type | summarizes | R function |\n",
        "|------------------------|----------------|----------------|-----------------|\n",
        "| mean | `numeric` | center | `mean` |\n",
        "| median | `numeric` | center | `median` |\n",
        "| variance | `numeric` | spread | `var` |\n",
        "| standard deviation | `numeric` | spread | `sd` |\n",
        "| interquartile range | `numeric` | spread | `quantile` (modified) |\n",
        "| quantiles | `numeric` | center and spread | `quantile` |\n",
        "| correlation | `numeric` | similarity | `cor` |\n",
        "| frequency distribution | `factor` | counts | `table` |\n",
        "| relative frequency distribution | `factor` | proportions | `table` (modified) |\n",
        "\n",
        "## Numeric data\n",
        "\n",
        "Numerical exploration of a set of `numeric` values usually focuses on\n",
        "determining the:\n",
        "\n",
        "1.  center\n",
        "2.  spread\n",
        "3.  quantiles (less common).\n",
        "\n",
        "Computing the correlation between two `numeric` variables can also be\n",
        "useful.\n",
        "\n",
        "### Measures of center\n",
        "\n",
        "The sample mean and median are the most common statistics used to\n",
        "represent the “center” of a set of numeric values.\n",
        "\n",
        "The sample mean or average is:\n",
        "\n",
        "-   Obtained by adding all values in the sample and dividing by the\n",
        "    number of observations.\n",
        "-   Computed in R using `mean`.\n",
        "-   Easily affected by outliers.\n",
        "\n",
        "The sample median is:\n",
        "\n",
        "-   The middle value of an ordered set of values (the actual middle\n",
        "    value when the number of values is odd and the average of the two\n",
        "    middle values when the number of values is even).\n",
        "-   Identical to the 0.5 quantile of the data.\n",
        "-   More “resistant” than the mean because it is not so greatly affected\n",
        "    by outliers.\n",
        "-   Computed in R using `median`.\n",
        "\n",
        "We compute the mean of the `body_mass` variable of the `penguins_clean`\n",
        "data in the code below."
      ],
      "id": "ce6f02c2-eaa5-4ba5-862a-32cc03cf93ef"
    },
    {
      "cell_type": "code",
      "execution_count": null,
      "metadata": {},
      "outputs": [],
      "source": [
        "mean(penguins_clean$body_mass)"
      ],
      "id": "39334f6d-9602-410b-9ce6-20751b1f3848"
    },
    {
      "cell_type": "markdown",
      "metadata": {},
      "source": [
        "**Question:** Why is the result `NA` instead of a number?"
      ],
      "id": "d20520e6-9e28-492f-aefb-3e1826d7d756"
    },
    {
      "cell_type": "code",
      "execution_count": null,
      "metadata": {},
      "outputs": [],
      "source": [
        "# compute sample mean and median body_mass, ignoring NAs\n",
        "mean(penguins_clean$body_mass, na.rm = TRUE)\n",
        "median(penguins_clean$body_mass, na.rm = TRUE)"
      ],
      "id": "d4d2c2f6-1b2f-40e8-bc55-c55acab52b5e"
    },
    {
      "cell_type": "markdown",
      "metadata": {},
      "source": [
        "**Question:** The median is less than the mean (i.e., large values are\n",
        "pulling the mean in the positive direction). What *might* this tell us\n",
        "about the distribution?\n",
        "\n",
        "### Quantiles\n",
        "\n",
        "The $p$th quantile ($0\\leq p \\leq 1$) of a set of values is the value\n",
        "that separates the smallest $100 p$% of the values from the upper\n",
        "$100(1-p)$% of the values.\n",
        "\n",
        "-   The 0.25 sample quantile (often called Q1) of a set of values is the\n",
        "    value that separates the smallest 25% of the values from the largest\n",
        "    75% of the values.\n",
        "\n",
        "The `quantile` function is used to compute sample quantiles.\n",
        "\n",
        "Quantiles are useful for quantifying:\n",
        "\n",
        "-   Center (median).\n",
        "-   Spread (minimum and maximum or interquartile range = Q3 - Q1)."
      ],
      "id": "26270dad-4527-489a-890b-8a4b985f7f4d"
    },
    {
      "cell_type": "code",
      "execution_count": null,
      "metadata": {},
      "outputs": [],
      "source": [
        "quantile(penguins_clean$body_mass,\n",
        "         probs = c(0, 0.25, 0.5, 0.75, 1),\n",
        "         na.rm = TRUE)"
      ],
      "id": "e72a54e0-4ea9-4018-b0f7-11b40909d380"
    },
    {
      "cell_type": "markdown",
      "metadata": {},
      "source": [
        "**Question:** Q3 and the maximum are further from the median than Q1 and\n",
        "the minimum. Is this evidence that this variable may be positively\n",
        "skewed?\n",
        "\n",
        "### Measures of spread\n",
        "\n",
        "Spread is related to how far values are from each other.\n",
        "\n",
        "The sample variance of a set of values $x_1, x_2, \\ldots, x_n$ is:\n",
        "\n",
        "-   The (approximate) average of the squared deviation of each\n",
        "    observation from the sample mean.\n",
        "-   $s^2 = \\frac{1}{n-1}\\sum_{i=1}^n (x_i - \\bar{x})^2$.\n",
        "-   Computed using the `var` function.\n",
        "\n",
        "The sample standard deviation is:\n",
        "\n",
        "-   The square root of the sample variance.\n",
        "-   A more useful measure of spread because it is has the same units as\n",
        "    the original data.\n",
        "-   Computed using the `sd` function.\n",
        "\n",
        "The larger the standard deviation or variance of a set of values, the\n",
        "more they vary from their sample mean.\n",
        "\n",
        "The sample standard deviation and variance can be greatly affected by\n",
        "outliers.\n",
        "\n",
        "The interquartile range is the difference between the 0.75 and 0.25\n",
        "quantiles of a data set.\n",
        "\n",
        "-   It is more resistant to outliers than the sample variance or\n",
        "    standard deviation.\n",
        "\n",
        "The minimum and maximum (in relation to the sample mean or median) can\n",
        "also be used to ascertain the spread of a data set.\n",
        "\n",
        "-   Computed using the `min` and `max` functions.\n",
        "\n",
        "We compute these measures of spread for the `body_mass` variable below."
      ],
      "id": "4263da13-4d3b-481e-877d-011e5442ab2f"
    },
    {
      "cell_type": "code",
      "execution_count": null,
      "metadata": {},
      "outputs": [],
      "source": [
        "# sample variance\n",
        "var(penguins_clean$body_mass, na.rm = TRUE)\n",
        "# sample standard deviation\n",
        "sd(penguins_clean$body_mass, na.rm = TRUE)\n",
        "# interquartile range (names = FALSE removes text above the results)\n",
        "quantile(penguins_clean$body_mass, probs = 0.75, na.rm = TRUE, names = FALSE) -\n",
        "  quantile(penguins_clean$body_mass, probs = 0.25, na.rm = TRUE, names = FALSE)\n",
        "# minimum\n",
        "min(penguins_clean$body_mass, na.rm = TRUE)\n",
        "# maximum\n",
        "max(penguins_clean$body_mass, na.rm = TRUE)"
      ],
      "id": "4ac7692d-dfc8-4020-9090-0c31566b39eb"
    },
    {
      "cell_type": "markdown",
      "metadata": {},
      "source": [
        "### Correlation\n",
        "\n",
        "The correlation between two `numeric` variables quantifies the strength\n",
        "and direction of their linear relationship.\n",
        "\n",
        "The most common correlation statistic is Pearson’s correlation\n",
        "statistic. If $x_1, x_2, \\ldots, x_n$ and $y_1, y_2, \\ldots, y_n$ are\n",
        "two sets of `numeric` values, then the sample correlation statistic is\n",
        "computed as\n",
        "\n",
        "$$r = \\frac{1}{n-1}\\sum_{i=1}^n\\left(\\frac{x_i - \\bar{x}}{s_x}\\right)\\left(\\frac{y_i - \\bar{y}}{s_y}\\right),$$\n",
        "\n",
        "where:\n",
        "\n",
        "-   $\\bar{x}$ and $s_x$ denote the sample mean and standard deviation of\n",
        "    the $x$’s.\n",
        "-   $\\bar{y}$ and $s_y$ denote the same thing for the $y$’s.\n",
        "\n",
        "$r$ must be between -1 and 1.\n",
        "\n",
        "The `cor` function can be used to compute the sample correlation between\n",
        "two `numeric` variables.\n",
        "\n",
        "**Interpretation**\n",
        "\n",
        "-   The closer $r$ is to -1 or 1, the closer the data values are to a\n",
        "    straight line.\n",
        "-   $r$ values close to 0 indicate that there is no linear relationship\n",
        "    between the two variables.\n",
        "-   Negative $r$ values indicate a negative relationship between the two\n",
        "    variables (as values for one variable increase, the values for the\n",
        "    other variable tend to decrease).\n",
        "-   Positive $r$ values indicate a positive linear relationship between\n",
        "    the two variables (as values for one variable increase, the values\n",
        "    of the other variable also tend to increase).\n",
        "\n",
        "In the code below, we compute the sample correlation between all\n",
        "`numeric` variables in `penguins_clean`. We set the `use` argument to\n",
        "`\"pairwise.complete.obs\"` so that all non-`NA` pairs of values are used\n",
        "in the calculation."
      ],
      "id": "53b60d94-de89-4e56-a2ff-058edb64bbd2"
    },
    {
      "cell_type": "code",
      "execution_count": null,
      "metadata": {},
      "outputs": [],
      "source": [
        "# determine whether each variable is numeric\n",
        "num_col <- unlist(lapply(penguins_clean, is.numeric))\n",
        "# observe results\n",
        "num_col\n",
        "# compute correlation of numeric variables\n",
        "cor(penguins_clean[, num_col], use = \"pairwise.complete.obs\")"
      ],
      "id": "9e07815f-0262-4f44-94a9-57633deba5b2"
    },
    {
      "cell_type": "markdown",
      "metadata": {},
      "source": [
        "-   The values of each variable are perfectly correlated with\n",
        "    themselves.\n",
        "-   The correlation between `bill_length` and `body_mass` is 0.87, so\n",
        "    heavier penguins tend to have longer bills.\n",
        "-   Perhaps surprisingly, the correlation between `bill_length` and\n",
        "    `bill_depth` is -0.24, so penguins with longer bills tend to have\n",
        "    shallower (narrower) bill depth.\n",
        "-   The correlation between `bill_depth` and `body_mass` is -0.47, so\n",
        "    heavier penguins tend to have narrower bills.\n",
        "\n",
        "## Categorical data\n",
        "\n",
        "Frequency distributions and relative frequency distributions are useful\n",
        "numeric summaries of categorical data.\n",
        "\n",
        "A frequency distribution summarizes the number of observations having\n",
        "each level of a categorical variable.\n",
        "\n",
        "The `table` function produces a frequency distribution (contingency\n",
        "table) summarizing the number of observations for each level of a\n",
        "categorical variable.\n",
        "\n",
        "-   By default, `table` ignores `NA` values."
      ],
      "id": "31e7aa1e-d773-49be-814f-80f5489d6c08"
    },
    {
      "cell_type": "code",
      "execution_count": null,
      "metadata": {},
      "outputs": [],
      "source": [
        "table(penguins_clean$sex)"
      ],
      "id": "fdc124c6-4ab3-4022-8c24-dc503e6a248b"
    },
    {
      "cell_type": "markdown",
      "metadata": {},
      "source": [
        "To count the `NA` values (if present), we set the `useNA` argument of\n",
        "`table` to `\"ifany\"`."
      ],
      "id": "0e73f6df-333b-4eb8-8ffa-c81796727c31"
    },
    {
      "cell_type": "code",
      "execution_count": null,
      "metadata": {},
      "outputs": [],
      "source": [
        "table(penguins_clean$sex, useNA = \"ifany\")"
      ],
      "id": "ed425dac-ee4a-41e5-a9c2-2ac2e0676648"
    },
    {
      "cell_type": "markdown",
      "metadata": {},
      "source": [
        "A relative frequency distribution summarizes the proportion or\n",
        "percentage of observation with each level of a categorical variable.\n",
        "\n",
        "To compute the relative frequency distribution of a variable, we must\n",
        "divide the frequency distribution by the number of observations."
      ],
      "id": "56f656ba-6218-482c-9087-f1393bef4df0"
    },
    {
      "cell_type": "code",
      "execution_count": null,
      "metadata": {},
      "outputs": [],
      "source": [
        "# divide the frequence distribution of sex by the number of non-NA values\n",
        "table(penguins_clean$sex)/sum(!is.na(penguins_clean$sex))"
      ],
      "id": "948e7549-6a45-4526-9778-7ab34ebf1197"
    },
    {
      "cell_type": "markdown",
      "metadata": {},
      "source": [
        "If we want to include the `NA` values in our table, we can use the code\n",
        "below."
      ],
      "id": "c9d67011-32dc-4907-9beb-9c43bd0d7431"
    },
    {
      "cell_type": "code",
      "execution_count": null,
      "metadata": {},
      "outputs": [],
      "source": [
        "table(penguins_clean$sex, useNA = \"ifany\")/length(penguins_clean$sex)"
      ],
      "id": "57d7e732-80f7-47ea-9d01-b56d825e5788"
    },
    {
      "cell_type": "markdown",
      "metadata": {},
      "source": [
        "We do not know the `sex` of approximately 3% of the penguins\n",
        "observations.\n",
        "\n",
        "## The `summary` function\n",
        "\n",
        "The `summary` function provides a simple approach for quickly\n",
        "quantifying the center and spread of each `numeric` variable in a data\n",
        "frame or determining the frequency distribution of a `factor` variable."
      ],
      "id": "209f12fd-4a1e-4508-b58e-270ef0d970dc"
    },
    {
      "cell_type": "code",
      "execution_count": null,
      "metadata": {},
      "outputs": [],
      "source": [
        "summary(penguins_clean)"
      ],
      "id": "641b8e2a-b27e-48d0-9d71-da64bf2823da"
    },
    {
      "cell_type": "markdown",
      "metadata": {},
      "source": [
        "# Visual summaries of data\n",
        "\n",
        "Visual summaries (i.e., plots) of data help us:\n",
        "\n",
        "-   Spot errors in our data, unusual observations, and simple patterns.\n",
        "-   Communicate the results of our analysis.\n",
        "\n",
        "The two most popular packages for producing graphics in R are:\n",
        "\n",
        "-   **base**: the default graphics system\n",
        "-   **ggplot2**: a “grammar of graphics” that is able to produce complex\n",
        "    graphics with automated legends in a consistent, systematic way.\n",
        "\n",
        "| Visual summary | Variable types | Summary type | Base functions | geoms |\n",
        "|:--------------|:--------------|:--------------|:--------------|:--------------|\n",
        "| box plot | `numeric` | univariate | `boxplot` | `geom_boxplot` |\n",
        "| histogram | `numeric` | univariate | `hist` | `geom_histogram` |\n",
        "| density plot | `numeric` | univariate | `plot`, `density` | `geom_density` |\n",
        "| bar plot | `factor` | univariate | `plot` or `barplot`, `table` | `geom_bar` |\n",
        "| scatter plot | 2 `numeric` | bivariate | `plot` | `geom_point` |\n",
        "| parallel box plot | 1 `numeric`, 1 `factor` | bivariate | `plot` or `boxplot` | `geom_boxplot` |\n",
        "| grouped scatter plot | 2 `numeric`, 1 `factor` | multivariate | `plot` | `geom_point` |\n",
        "| facetted plots | mixed | multivariate | none | `facet_wrap` or `facet_grid` |\n",
        "| interactive plots | mixed | multivariate | none | `plotly::ggplotly` |\n",
        "\n",
        "## The ggplot recipe\n",
        "\n",
        "There are 4 main components needed to produce a graphic using\n",
        "**ggplot2**.\n",
        "\n",
        "1.  A data frame containing our data.\n",
        "    -   Each column should be a variable and each row should be an\n",
        "        observation of data.\n",
        "2.  A `ggplot` object.\n",
        "    -   This is initialized using the `ggplot` function.\n",
        "3.  A geometric object.\n",
        "    -   These are called “geoms” for short.\n",
        "    -   geoms indicate the geometric object used to visualize the data.\n",
        "        E.g., points, lines, polygons etc. More generally, geoms\n",
        "        indicate the type of plot that is desired, e.g., histogram,\n",
        "        density, or box plot, which aren’t exactly a simple geometric\n",
        "        argument.\n",
        "4.  An aesthetic.\n",
        "    -   An aesthetic mapping indicates what role a variable plays in the\n",
        "        plot.\n",
        "    -   e.g., which variable will play the “x” variable in the plot, the\n",
        "        “y” variable in the plot, control the “color” of the\n",
        "        observations, etc.\n",
        "\n",
        "We add “layers” of information to a `ggplot`, such as geoms, scales, or\n",
        "other customizations, using `+`.\n",
        "\n",
        "## Univariate plots\n",
        "\n",
        "A univariate plot is a plot that only involves a single variable.\n",
        "\n",
        "-   e.g., bar plots, box plots, histograms, density plots, dot plots\n",
        "    (bad), pie charts (bad), etc.\n",
        "\n",
        "### Bar plots\n",
        "\n",
        "A bar plot (or bar chart) displays the number or proportion of\n",
        "observations having each category of a categorical variable (or using R\n",
        "terminology, each `level` of a `factor` variable).\n",
        "\n",
        "The simplest way to create a bar plot in base R is using the `plot`\n",
        "function on a `factor`."
      ],
      "id": "d7c3482e-d7ab-4d35-95ae-666d01560184"
    },
    {
      "cell_type": "code",
      "execution_count": null,
      "metadata": {},
      "outputs": [],
      "source": [
        "plot(penguins_clean$island, main = \"distribution of island\")"
      ],
      "id": "9f01e9af-f04e-4d5a-ba53-f8b724bb1d1b"
    },
    {
      "cell_type": "markdown",
      "metadata": {},
      "source": [
        "There are approximately 170 penguins from Biscoe island, 125 from Dream\n",
        "island, and 50 from Torgerson island.\n",
        "\n",
        "Alternatively, we can combine `barplot` with the `table` function."
      ],
      "id": "48a9a424-2399-4df3-a455-b53e71577158"
    },
    {
      "cell_type": "code",
      "execution_count": null,
      "metadata": {},
      "outputs": [],
      "source": [
        "barplot(table(penguins_clean$sex, useNA = \"ifany\"), names.arg = c(\"female\", \"male\", \"NA\"))"
      ],
      "id": "fdfd5408-2168-48a7-a5b7-28bcb0b4b101"
    },
    {
      "cell_type": "markdown",
      "metadata": {},
      "source": [
        "To create a relatively frequency bar plot, we should divide the results\n",
        "of `table` by the number of relevant observations."
      ],
      "id": "4da4ad47-49dd-426f-b428-1a683c766919"
    },
    {
      "cell_type": "code",
      "execution_count": null,
      "metadata": {},
      "outputs": [],
      "source": [
        "barplot(table(penguins_clean$sex, useNA = \"ifany\") / length(penguins_clean$sex), \n",
        "        names.arg = c(\"female\", \"male\", \"NA\"))"
      ],
      "id": "8c82181f-516b-465d-b65f-6f396b8cf91f"
    },
    {
      "cell_type": "markdown",
      "metadata": {},
      "source": [
        "Approxiately 48% of the penguins are female, 49% are male, and 3% have\n",
        "an unknown sex.\n",
        "\n",
        "To create a bar plot with **ggplot2**, we first create a basic `ggplot`\n",
        "object containing our data. We must make sure to load the **ggplot2**\n",
        "package prior to creating the plot, otherwise we’ll get errors!"
      ],
      "id": "7eeaa0a6-0589-489d-8e2e-831dabe0c0fd"
    },
    {
      "cell_type": "code",
      "execution_count": null,
      "metadata": {},
      "outputs": [],
      "source": [
        "# load ggplot2 package\n",
        "library(ggplot2)\n",
        "# create generic ggplot object with our data\n",
        "gg_penguin <- ggplot(data = penguins_clean)"
      ],
      "id": "00893380-5548-4788-a858-2fd96ee7061c"
    },
    {
      "cell_type": "markdown",
      "metadata": {},
      "source": [
        "`gg_penguin` is a minimal `ggplot` object with the raw information\n",
        "needed to produce future graphics.\n",
        "\n",
        "To create a bar plot, we add the geom `geom_bar` and map the `species`\n",
        "variable (in this example) to the `x` aesthetic using the `aes`\n",
        "function."
      ],
      "id": "5dd78fbb-f129-46b9-a282-9e9a9e6859f8"
    },
    {
      "cell_type": "code",
      "execution_count": null,
      "metadata": {},
      "outputs": [],
      "source": [
        "# create bar plot for species variable\n",
        "gg_penguin + geom_bar(aes(x = species))"
      ],
      "id": "86fca9e4-eb26-452d-a322-abfd8d909e93"
    },
    {
      "cell_type": "markdown",
      "metadata": {},
      "source": [
        "Our data set contains slightly more than 150 Adelie penguins,\n",
        "approxiately 70 Chinstrap penguins, and 125 Gentoo penguins.\n",
        "\n",
        "### Box plots\n",
        "\n",
        "A box plot indicates:\n",
        "\n",
        "-   median\n",
        "-   0.25 quantile (Q1)\n",
        "-   0.75 quantile (Q3)\n",
        "-   extend bars to the largest and smallest observations that are not\n",
        "    outliers.\n",
        "\n",
        "Outliers are usually marked with stars or dots.\n",
        "\n",
        "-   The standard definition of an outlier in the context of box plots is\n",
        "    any value that is greater than Q3 + 1.5 (Q3 - Q1) or less than Q1 -\n",
        "    1.5 (Q3 - Q1).\n",
        "\n",
        "Box plots:\n",
        "\n",
        "-   are useful for identifying outliers and skewness.\n",
        "-   throw away a lot of information.\n",
        "    -   be cautious in making conclusions about skewness and modality.\n",
        "\n",
        "The `boxplot` function is the easiest approach for producing a box plot\n",
        "using base R."
      ],
      "id": "c05b3856-5deb-48e8-a793-4d22d6b679be"
    },
    {
      "cell_type": "code",
      "execution_count": null,
      "metadata": {},
      "outputs": [],
      "source": [
        "boxplot(penguins_clean$body_mass, main = \"distribution of body mass\")"
      ],
      "id": "6c40bcb8-15ac-4fbd-aba8-f86daaf1840b"
    },
    {
      "cell_type": "markdown",
      "metadata": {},
      "source": [
        "Conclusions we can draw from the boxplot above:\n",
        "\n",
        "-   The median body mass of the penguins is a little more than 4,000\n",
        "    grams.\n",
        "-   The 0.25 quantile is about 3,500 grams\n",
        "-   The 0.75 quantile is about 4,750 grams.\n",
        "-   The lightest penguin is about 2,700 grams.\n",
        "-   The heaviest penguin is about 6,300 grams.\n",
        "-   There are no outliers.\n",
        "-   The data are slightly positively skewed since the upper whisker is\n",
        "    longer than the lower whisker.\n",
        "\n",
        "**Questions:**\n",
        "\n",
        "-   Are there any outliers?\n",
        "-   Is there evidence the masses are skewed?\n",
        "\n",
        "To create a box plot using **ggplot2**, we use `geom_boxplot`."
      ],
      "id": "cb5c1fdb-3648-4b61-88cd-34992447b56b"
    },
    {
      "cell_type": "code",
      "execution_count": null,
      "metadata": {},
      "outputs": [],
      "source": [
        "gg_penguin + geom_boxplot(aes(y = bill_length))"
      ],
      "id": "afcf4d7a-f6a4-439e-be0b-08972de5cbc5"
    },
    {
      "cell_type": "markdown",
      "metadata": {},
      "source": [
        "**Questions:**\n",
        "\n",
        "-   What is the median bill length?\n",
        "-   What are the 0.25 and 0.75 quantiles of the bill lengths?\n",
        "-   Are there outliers?\n",
        "-   Is there evidence the variable is skewed?\n",
        "\n",
        "### Histograms\n",
        "\n",
        "A histogram:\n",
        "\n",
        "-   Displays the distribution of a `numeric` variable.\n",
        "-   Counts the number of values falling into (usually) equal-sized\n",
        "    “bins”.\n",
        "-   Is used to assess skewness, modality (the number of clear “peaks” in\n",
        "    the plot), and to some extent, outliers.\n",
        "\n",
        "We use the `hist` function to create a histogram of a `numeric`\n",
        "variable."
      ],
      "id": "75489c2a-6bc5-43f8-ad18-f5ee92d56458"
    },
    {
      "cell_type": "code",
      "execution_count": null,
      "metadata": {},
      "outputs": [],
      "source": [
        "hist(penguins_clean$bill_length,\n",
        "     main = \"\",\n",
        "     xlab = \"bill length (mm)\",\n",
        "     breaks = 20)"
      ],
      "id": "cfa5d857-43d4-4308-b85c-43affc376c11"
    },
    {
      "cell_type": "markdown",
      "metadata": {},
      "source": [
        "**Questions:**\n",
        "\n",
        "-   Is the variable unimodal?\n",
        "-   What can we learn about the skewness of the data from this plot?\n",
        "-   What does this historgram tell us that numeric summaries did not?\n",
        "\n",
        "We use `geom_histogram` to create a histogram using **ggplot2**."
      ],
      "id": "8f08f27b-6020-4e9b-ad35-cc3043712c3b"
    },
    {
      "cell_type": "code",
      "execution_count": null,
      "metadata": {},
      "outputs": [],
      "source": [
        "gg_penguin + geom_histogram(aes(x = flipper_length))"
      ],
      "id": "68a1ecdd-8509-4094-a736-e8b4f584c650"
    },
    {
      "cell_type": "markdown",
      "metadata": {},
      "source": [
        "**Question:** Is the variable unimodal or bimodal?\n",
        "\n",
        "### Density plots\n",
        "\n",
        "A density plot is similar to a smoothed histogram.\n",
        "\n",
        "-   The area under the smoothed curve must equal 1.\n",
        "-   Density plots sometimes have problems near the edges of a variable\n",
        "    with a fixed upper or lower bound because it is difficult to know\n",
        "    how to smooth the data in those regions.\n",
        "\n",
        "We combine the `plot` and `density` functions to construct a density\n",
        "plot using **base** R."
      ],
      "id": "f1b813bc-0f04-46cf-81d7-91a5d9e38c28"
    },
    {
      "cell_type": "code",
      "execution_count": null,
      "metadata": {},
      "outputs": [],
      "source": [
        "plot(density(penguins_clean$bill_depth,\n",
        "             na.rm = TRUE),\n",
        "     main = \"\")"
      ],
      "id": "4eef6d71-495d-4749-ba9e-9381fdbb3b27"
    },
    {
      "cell_type": "markdown",
      "metadata": {},
      "source": [
        "**Question:** Is the variable unimodal or bimodal?\n",
        "\n",
        "We create a density plot with **ggplot2** using `geom_density`."
      ],
      "id": "d7e8c856-4c42-4179-b9a7-6b1516913db4"
    },
    {
      "cell_type": "code",
      "execution_count": null,
      "metadata": {},
      "outputs": [],
      "source": [
        "gg_penguin + geom_density(aes(x = body_mass))"
      ],
      "id": "9c53c4e8-dbfc-46ee-83db-1f61e4748ad9"
    },
    {
      "cell_type": "markdown",
      "metadata": {},
      "source": [
        "**Questions:**\n",
        "\n",
        "-   Is the `body_mass` variable unimodal?\n",
        "-   Is there evidence the variable is skewed?\n",
        "\n",
        "## Bivariate plots\n",
        "\n",
        "A `bivariate` plot is a plot involving two variables.\n",
        "\n",
        "### Scatter plots\n",
        "\n",
        "Scatter plots can be used to identify the relationship between two\n",
        "`numeric` variables.\n",
        "\n",
        "We use the `plot` function to create a scatter plot."
      ],
      "id": "5ed863a7-111b-4874-87d4-443f28ebb443"
    },
    {
      "cell_type": "code",
      "execution_count": null,
      "metadata": {},
      "outputs": [],
      "source": [
        "# xlab and ylab are used to customize the x-axis and y-axis labels\n",
        "plot(bill_length ~ body_mass, data = penguins_clean,\n",
        "     xlab = \"body mass (g)\", ylab = \"bill length (mm)\")"
      ],
      "id": "a7bba067-e0e0-4785-89e9-dc5208cbfc85"
    },
    {
      "cell_type": "markdown",
      "metadata": {},
      "source": [
        "**Questions:**\n",
        "\n",
        "-   Is there a linear relationship between `body_mass` and\n",
        "    `bill length`?\n",
        "-   If so, is the linear relationship positive or negative?\n",
        "\n",
        "The `geom_point` function can be used to create a scatter plot with\n",
        "**ggplot2**."
      ],
      "id": "09277ad6-d8be-4a4d-af98-16e3953918c5"
    },
    {
      "cell_type": "code",
      "execution_count": null,
      "metadata": {},
      "outputs": [],
      "source": [
        "gg_penguin + geom_point(aes(x = bill_depth, y = bill_length))"
      ],
      "id": "2692e3f0-7f65-4ab7-896c-f78c6d323741"
    },
    {
      "cell_type": "markdown",
      "metadata": {},
      "source": [
        "**Question:** What can we conclude from this plot?\n",
        "\n",
        "### Parallel box plots\n",
        "\n",
        "Parallel box plots:\n",
        "\n",
        "-   Draw a box plot for the `numeric` values of a variable for each\n",
        "    `level` of a `factor` variable.\n",
        "-   Are useful for determining if the distribution of a `numeric`\n",
        "    variable substantially changes based on whether an observation has a\n",
        "    certain `level` of a `factor`.\n",
        "\n",
        "We use the `plot` function to draw a parallel box plot by associating a\n",
        "`numeric` variable with a `factor` variable."
      ],
      "id": "19e48e04-4532-4682-9215-9fd8dcd41cb7"
    },
    {
      "cell_type": "code",
      "execution_count": null,
      "metadata": {},
      "outputs": [],
      "source": [
        "plot(body_mass ~ sex, data = penguins_clean)"
      ],
      "id": "29b3e050-4795-4a57-8467-1878514fe8d0"
    },
    {
      "cell_type": "markdown",
      "metadata": {},
      "source": [
        "We can produce something similar with **ggplot2** by specifying both the\n",
        "`y` and `x` aesthetics of `geom_boxplot`."
      ],
      "id": "e4ddf3ae-f1b7-4b96-8ded-77d8f4101799"
    },
    {
      "cell_type": "code",
      "execution_count": null,
      "metadata": {},
      "outputs": [],
      "source": [
        "gg_penguin + \n",
        "  geom_boxplot(aes(x = species, y = bill_length))"
      ],
      "id": "a7b9ea04-2ded-486e-878e-ddff1d1b5bf8"
    },
    {
      "cell_type": "markdown",
      "metadata": {},
      "source": [
        "## Multivariate plots\n",
        "\n",
        "A multivariate plot displays relationships between 2 or more variables.\n",
        "\n",
        "Multivariate plots are more easily created using **ggplot2** than\n",
        "**base**.\n",
        "\n",
        "### Grouped scatter plot\n",
        "\n",
        "A grouped scatter plot is a scatter plot that uses colors or symbols (or\n",
        "both) to indicate the `level` of a `factor` variable that each point\n",
        "corresponds to."
      ],
      "id": "108a3d3e-640c-49cb-8bcf-23423c63efa4"
    },
    {
      "cell_type": "code",
      "execution_count": null,
      "metadata": {},
      "outputs": [],
      "source": [
        "gg_penguin +\n",
        "  geom_point(aes(x = body_mass,\n",
        "                 y = flipper_length,\n",
        "                 color = species))"
      ],
      "id": "9ce380a1-d874-4edb-9207-0eb83de3b432"
    },
    {
      "cell_type": "markdown",
      "metadata": {},
      "source": [
        "We use a colorblind-friendly palette and some additional customizations\n",
        "below. The website\n",
        "[https://colorbrewer2.org](https://colorbrewer2.org%5D(https://colorbrewer2.org))\n",
        "is an excellent resource for choosing an effective color palette."
      ],
      "id": "b1469257-7a93-48b5-9d25-5e41370820e0"
    },
    {
      "cell_type": "code",
      "execution_count": null,
      "metadata": {},
      "outputs": [],
      "source": [
        "gg_penguin +\n",
        "  geom_point(aes(x = body_mass,\n",
        "                 y = flipper_length,\n",
        "                 color = species,\n",
        "                 shape = species)) +\n",
        "  scale_color_brewer(type = \"qual\",\n",
        "                     palette = \"Dark2\") +\n",
        "  xlab(\"body mass (g)\") +\n",
        "  ylab(\"flipper length (mm)\") +\n",
        "  ggtitle(\"body mass versus flipper length by species\")"
      ],
      "id": "14c71db1-3785-4788-8858-2cddd96d5b92"
    },
    {
      "cell_type": "markdown",
      "metadata": {},
      "source": [
        "### Facetted plots (and alternatives)\n",
        "\n",
        "Facetting creates separate panels (facets) of plots based on one or more\n",
        "facetting variables.\n",
        "\n",
        "The key functions to do this with **ggplot2** are:\n",
        "\n",
        "-   `facet_grid` is used to create a grid of plots based on one or two\n",
        "    `factor` variables.\n",
        "-   `facet_wrap` wraps facets of panels around the plot based on one\n",
        "    `factor` variable.."
      ],
      "id": "26bd92bb-4df5-4e72-9a4d-5c15d87a9c99"
    },
    {
      "cell_type": "code",
      "execution_count": null,
      "metadata": {},
      "outputs": [],
      "source": [
        "# simple facetting example\n",
        "gg_penguin +\n",
        "  geom_point(aes(x = bill_depth, y = bill_length)) + facet_grid(~ species)"
      ],
      "id": "ee6b8796-1948-452f-a4c2-09c2af1c0b6d"
    },
    {
      "cell_type": "markdown",
      "metadata": {},
      "source": [
        "How do we deal with NAs in facetting?"
      ],
      "id": "b8b69edb-1d5e-48c4-b0e2-236d29ffb97a"
    },
    {
      "cell_type": "code",
      "execution_count": null,
      "metadata": {},
      "outputs": [],
      "source": [
        "# facetting with NA facet!\n",
        "gg_penguin + geom_density(aes(x = body_mass)) + facet_grid(~ sex)"
      ],
      "id": "284f6018-9962-4fca-ac2f-17162329acb0"
    },
    {
      "cell_type": "code",
      "execution_count": null,
      "metadata": {},
      "outputs": [],
      "source": [
        "# to remove the NA facet, we must remove NAs\n",
        "# only do this for relevant columns to retain as much data as possible\n",
        "penguins_temp <-\n",
        "  penguins_clean |>\n",
        "  subset(select = c(body_mass, sex, species)) |>\n",
        "  na.omit()\n",
        "# new plot from \"clean\" data\n",
        "ggplot(penguins_temp) + geom_density(aes(x = body_mass)) + facet_grid(~ sex)"
      ],
      "id": "96c33996-699f-418e-95c6-5258c199e73c"
    },
    {
      "cell_type": "markdown",
      "metadata": {},
      "source": [
        "Here’s another facetting example that uses transparency."
      ],
      "id": "9984cf1f-0f6e-4b92-b883-894c9a174968"
    },
    {
      "cell_type": "code",
      "execution_count": null,
      "metadata": {},
      "outputs": [],
      "source": [
        "ggplot(data = penguins_temp) +\n",
        "  geom_density(aes(x = body_mass, fill = sex), alpha = 0.5) +\n",
        "  facet_grid(~ species)"
      ],
      "id": "a19398ae-042b-4cd3-8e9b-f4a3b223cc30"
    },
    {
      "cell_type": "markdown",
      "metadata": {},
      "source": [
        "### Interactive graphics\n",
        "\n",
        "The **plotly** package provides the capabilities of plotly\n",
        "\\[<https://plotly.com/>\\] using R.\n",
        "\n",
        "-   plotly is a well-known tool for creating interactive graphics.\n",
        "-   The `ggplotly` function in the **plotly** will instantly make a\n",
        "    `ggplot` interactive.\n",
        "\n",
        "We create an interactive grouped scatter plot using this approach."
      ],
      "id": "3b1fe2ec-833b-4aa9-8eee-08e6de15eac5"
    },
    {
      "cell_type": "code",
      "execution_count": null,
      "metadata": {},
      "outputs": [],
      "source": [
        "# load plotly package\n",
        "library(plotly)\n",
        "# create grouped scatter plot\n",
        "ggi <-\n",
        "  gg_penguin +\n",
        "  geom_point(aes(x = body_mass, y = flipper_length, color = species, shape = species)) +\n",
        "  scale_color_brewer(type = \"qual\", palette = \"Dark2\") +\n",
        "  xlab(\"body mass (g)\") + ylab(\"flipper length (mm)\") +\n",
        "  ggtitle(\"body mass versus flipper length by species\")\n",
        "# make plot interactive\n",
        "ggplotly(ggi)"
      ],
      "id": "42c5d158-dc04-4104-aaf0-6401733f1158"
    },
    {
      "cell_type": "markdown",
      "metadata": {},
      "source": [
        "Next, we create an interactive parallel box plot using this approach."
      ],
      "id": "e818d9d7-6b4a-423c-8b20-fab1d4d7691c"
    },
    {
      "cell_type": "code",
      "execution_count": null,
      "metadata": {},
      "outputs": [],
      "source": [
        "# create parallel box plots\n",
        "ggi2 <-\n",
        "  gg_penguin +\n",
        "  geom_boxplot(aes(x = species, y = bill_length))\n",
        "# make plot interactive\n",
        "ggplotly(ggi2)"
      ],
      "id": "b8e9dfb2-57c4-4f82-bd2b-3595442138ab"
    },
    {
      "cell_type": "markdown",
      "metadata": {},
      "source": [
        "## A plan for data cleaning and exploration\n",
        "\n",
        "1.  Import or create the data set.\n",
        "2.  Use the `str` or `dplyr::glimpse` functions to get an idea of the\n",
        "    initial structure. Look for problems with variable names and types,\n",
        "    etc.\n",
        "3.  Clean the variable names (preferably, all lowercase letters, no\n",
        "    spaces or periods, use underscore when necessary).\n",
        "4.  Convert the variables to the appropriate type (e.g., categorical\n",
        "    variables to `factor`).\n",
        "5.  Run the `summary` function on our data frame. Take note of `NAs`,\n",
        "    impossible values that are data entry errors, etc. Perhaps perform\n",
        "    some additional cleaning based on this information.\n",
        "6.  Compute additional numeric summaries of the different variables, as\n",
        "    desired.\n",
        "7.  Create univariate plots of all variables we are considering.\n",
        "\n",
        "-   Use histograms for discrete `numeric` variables\n",
        "-   Use density plots for continuous `numeric` variables.\n",
        "-   Use bar plots for `factor` variables.\n",
        "-   Take note of any interesting patterns such as modality, skewness,\n",
        "    overall shape, outliers, etc.\n",
        "\n",
        "1.  Create bivariate plots of any pairs of variables.\n",
        "\n",
        "-   Use scatter plots for two `numeric` variables.\n",
        "-   Use parallel box plots for `numeric` and `factor` variable pairs.\n",
        "-   Or use histograms of the `numeric` variable facetted by the `factor`\n",
        "    variable.\n",
        "-   Or use density plots of the `numeric` variables filled with\n",
        "    different colors by the `factor` variable.\n",
        "\n",
        "1.  Create multivariate and interactive graphics based on what we\n",
        "    learned in the previous steps.\n",
        "\n",
        "## Final notes on missing or erroneous data\n",
        "\n",
        "Correct erroneous data entries, when possible. If that’s not possible,\n",
        "replace them with `NA` values.\n",
        "\n",
        "What should we do about `NA`s?\n",
        "\n",
        "-   If there is no systematic reason why the data are missing, then\n",
        "    ignoring the observations with missing data isn’t a terrible\n",
        "    approach.\n",
        "-   If there is a systematic reason why the data are missing (such as\n",
        "    individuals not wanting to answer a sensitive question, subjects\n",
        "    dying for a specific reason) then ignoring that data can lead to\n",
        "    erroneous conclusions."
      ],
      "id": "724e4184-969d-4cc3-8576-1edfa812deb9"
    }
  ],
  "nbformat": 4,
  "nbformat_minor": 5,
  "metadata": {
    "kernelspec": {
      "display_name": "Python 3",
      "language": "python",
      "name": "python3"
    }
  }
}