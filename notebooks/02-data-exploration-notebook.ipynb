{
  "cells": [
    {
      "cell_type": "markdown",
      "metadata": {},
      "source": [
        "# Chapter 2 - Data Cleaning and Exploration\n",
        "\n",
        "Joshua French\n",
        "\n",
        "To open this information in an interactive Colab notebook, click or scan\n",
        "the QR code below.\n",
        "\n",
        "<a href=\"https://colab.research.google.com/github/jfrench/LinearRegression/blob/master/notebooks/02-data-exploration-notebook.ipynb\">\n",
        "<img src=\"https://raw.githubusercontent.com/jfrench/LinearRegression/9d0559b9fa7bdecc94158ebb6a0395c9139648d7/images/qr-02-data-exploration.png\">\n",
        "</a>\n",
        "\n",
        "We run the code below to ensure that all necessary packages are\n",
        "installed in our Jupyter environment."
      ],
      "id": "8dbf36bc-27d7-4161-ab8b-9764b0e5c1d8"
    },
    {
      "cell_type": "code",
      "execution_count": null,
      "metadata": {},
      "outputs": [],
      "source": [
        "if(!require(palmerpenguins, quietly = TRUE)) {\n",
        "  install.packages(\"palmerpenguins\", repos = \"https://cran.rstudio.com/\")\n",
        "}\n",
        "if(!require(ggplot2, quietly = TRUE)) {\n",
        "  install.packages(\"ggplot2\", repos = \"https://cran.rstudio.com/\")\n",
        "}\n",
        "if(!require(plotly, quietly = TRUE)) {\n",
        "  install.packages(\"ggplot2\", repos = \"https://cran.rstudio.com/\")\n",
        "}\n",
        "if(!require(dplyr, quietly = TRUE)) {\n",
        "  install.packages(\"ggplot2\", repos = \"https://cran.rstudio.com/\")\n",
        "}"
      ],
      "id": "478678fe-d619-43d0-a552-e52faac47a6d"
    },
    {
      "cell_type": "markdown",
      "metadata": {},
      "source": [
        "# Introduction\n",
        "\n",
        "We should explore every data set numerically and visually prior to\n",
        "modeling it. The data exploration process will help us:\n",
        "\n",
        "-   Find errors in our data.\n",
        "-   Locate missing values.\n",
        "-   Identify outliers and unusual observations.\n",
        "-   Find patterns in our data.\n",
        "-   Decide on a modeling approach.\n",
        "-   Etc.\n",
        "\n",
        "When we receive a data set for the first time, we often need to:\n",
        "\n",
        "-   Restructure the data set so that each row is an observation and each\n",
        "    column is a variable.\n",
        "-   Convert the variables to an appropriate type.\n",
        "-   Improve the names of the variables.\n",
        "-   Etc.\n",
        "\n",
        "The process of preparing the data into a friendly format is known as\n",
        "“cleaning”.\n",
        "\n",
        "# Raw Palmer penguins data\n",
        "\n",
        "We will systematically explore the `penguins_raw` data set from the\n",
        "**palmerpenguins** package.\n",
        "\n",
        "To attach a data set from an R package into our working environment, we:\n",
        "\n",
        "1.  Run the `data` function.\n",
        "2.  Specify the `name` of the data set we want to attach.\n",
        "3.  Specify the package that contains the data."
      ],
      "id": "8fb3e3ef-3670-4394-97ca-3bbba388bdff"
    },
    {
      "cell_type": "code",
      "execution_count": null,
      "metadata": {},
      "outputs": [],
      "source": [
        "data(penguins, package = \"palmerpenguins\")"
      ],
      "id": "cd0b9ffe-c287-472b-ad2c-d6ad84a76765"
    },
    {
      "cell_type": "markdown",
      "metadata": {},
      "source": [
        "This command actually loads two data sets:\n",
        "\n",
        "-   `penguins_raw`: the data set we will be looking at.\n",
        "-   `penguins`: a simplified, clean version of `penguins_raw`.\n",
        "\n",
        "The `penguins_raw` data set provides data related to various penguin\n",
        "species measured in the Palmer Archipelago (Antarctica).\n",
        "\n",
        "The data set includes 344 observations of 17 variables. The variables\n",
        "are:\n",
        "\n",
        "-   `studyName`: the expedition from which the data were collected\n",
        "    (`character`).\n",
        "-   `Sample Number`: the continuous number sequence for each sample\n",
        "    (`numeric`).\n",
        "-   `Species`: the penguin’s species (`character`).\n",
        "-   `Region`: the region of the Palmer LTER sampling grid the sample was\n",
        "    obtained (`character`).\n",
        "-   `Island`: the island on which the penguin was observed\n",
        "    (`character`).\n",
        "-   `Stage`: the reproductive stage of the observation (`character`).\n",
        "-   `Individual ID`: the unique identification number of the\n",
        "    observations (`character`).\n",
        "-   `Clutch Completion`: whether the study nest was observed with a\n",
        "    “full clutch” of 2 eggs (`character`).\n",
        "-   `Date Egg`: the date that the study nest was observed with 1 egg\n",
        "    (`Date`).\n",
        "-   `Culman Length (mm)`: the length of the dorsal ridge of the\n",
        "    penguin’s bill in millimeters (`numeric`).\n",
        "-   `Culmen Depth (mm)`: the depth of the dorsal ridge of the penguin’s\n",
        "    bill in millimeters (`numeric`).\n",
        "-   `Flipper Length (mm)`: the penguin’s flipper length in millimeters\n",
        "    (`numeric`).\n",
        "-   `Body Mass (g)`: the penguin’s body mass in grams (`numeric`).\n",
        "-   `Sex`: the penguin’s sex (`character`).\n",
        "-   `Delta 15 N (o/oo)`: the ratio of stable isotopes 15N:14N\n",
        "    (`numeric`).\n",
        "-   `Delta 13 C (o/oo)`: the ratio of stable isotopes 15C:12C\n",
        "    (`numeric`).\n",
        "-   `Comments`: additional information about the observation\n",
        "    (`character`).\n",
        "\n",
        "# Initial data cleaning\n",
        "\n",
        "The `str` function provides a general overview of an object’s structure."
      ],
      "id": "a748c418-4e7e-49ac-ac5d-75b761359834"
    },
    {
      "cell_type": "code",
      "execution_count": null,
      "metadata": {},
      "outputs": [],
      "source": [
        "str(penguins_raw, give.attr = FALSE)"
      ],
      "id": "93a7420b-956c-4940-9a7b-ec3b47815267"
    },
    {
      "cell_type": "markdown",
      "metadata": {},
      "source": [
        "An alternative to `str` is the `glimpse` function from the `dplyr`\n",
        "package."
      ],
      "id": "7c5c287b-ea0c-48b3-b88d-4d959c3e0388"
    },
    {
      "cell_type": "code",
      "execution_count": null,
      "metadata": {},
      "outputs": [],
      "source": [
        "dplyr::glimpse(penguins_raw)"
      ],
      "id": "eea8c4da-b8f7-4d40-8d85-dbcf6f87e4bf"
    },
    {
      "cell_type": "markdown",
      "metadata": {},
      "source": [
        "The `penguins_raw` data has terrible variable names.\n",
        "\n",
        "-   The variable names have a mixture of lowercase and uppercase\n",
        "    letters, parentheses, and even spaces!\n",
        "-   This makes it complicated to access variables in the data frame."
      ],
      "id": "4dd505c3-670d-4cc3-b9ad-15e564bd59f8"
    },
    {
      "cell_type": "code",
      "execution_count": null,
      "metadata": {},
      "outputs": [],
      "source": [
        "print(penguins_raw$`Flipper Length (mm)`, max = 10)"
      ],
      "id": "c3f71d63-e9f8-4ecd-b302-c7f94b35d5a0"
    },
    {
      "cell_type": "markdown",
      "metadata": {},
      "source": [
        "We will select only the variables that we will use in the future."
      ],
      "id": "519cb397-7318-43d0-b3e3-b91f276ce6eb"
    },
    {
      "cell_type": "code",
      "execution_count": null,
      "metadata": {},
      "outputs": [],
      "source": [
        "# select certain columns of penguins_raw, assign new name\n",
        "penguins_clean <-\n",
        "  penguins_raw |>\n",
        "  subset(select = c(\"Species\", \"Island\", \"Culmen Length (mm)\",\n",
        "                    \"Culmen Depth (mm)\", \"Flipper Length (mm)\", \"Body Mass (g)\", \"Sex\"))"
      ],
      "id": "35f4eee3-0530-4579-bb64-eff671bf7dbf"
    },
    {
      "cell_type": "markdown",
      "metadata": {},
      "source": [
        "We use the `names` function to rename the variables in `penguins_clean`."
      ],
      "id": "4ce04c80-85fa-483f-ae29-a5a21e7bf14c"
    },
    {
      "cell_type": "code",
      "execution_count": null,
      "metadata": {},
      "outputs": [],
      "source": [
        "# access variable names and replace with new names\n",
        "names(penguins_clean) <- c(\"species\",\n",
        "                           \"island\",\n",
        "                           \"bill_length\",\n",
        "                           \"bill_depth\",\n",
        "                           \"flipper_length\",\n",
        "                           \"body_mass\",\n",
        "                           \"sex\")\n",
        "# look at new variable names\n",
        "names(penguins_clean)"
      ],
      "id": "2694aafa-425f-4d1e-b5af-2dfc590e3b8d"
    },
    {
      "cell_type": "markdown",
      "metadata": {},
      "source": [
        "The `species`, `island`, and `sex` variables are categorical but are\n",
        "represented as `character` vectors instead of `factor`.\n",
        "\n",
        "We use the `transform` function to convert the each variable to a\n",
        "`factor`."
      ],
      "id": "d86103f0-ba50-4e95-84aa-ebb02ed1e315"
    },
    {
      "cell_type": "code",
      "execution_count": null,
      "metadata": {},
      "outputs": [],
      "source": [
        "# convert species, island, and sex variables\n",
        "# to factor, replace original object\n",
        "penguins_clean <-\n",
        "  penguins_clean |>\n",
        "  transform(species = factor(species),\n",
        "            island = factor(island),\n",
        "            sex = factor(sex))\n",
        "# view structure\n",
        "str(penguins_clean)"
      ],
      "id": "0ab2aee4-5138-4858-ade1-d243fd74ee30"
    },
    {
      "cell_type": "markdown",
      "metadata": {},
      "source": [
        "The levels of of `species`, `island`, and `sex` are not formatted well."
      ],
      "id": "71015166-4344-46b2-ad3a-eb702f5615e1"
    },
    {
      "cell_type": "code",
      "execution_count": null,
      "metadata": {},
      "outputs": [],
      "source": [
        "# determine levels of species and sex\n",
        "levels(penguins_clean$species)\n",
        "levels(penguins_clean$sex)"
      ],
      "id": "d49ca8fb-be0f-450b-9345-978834c04ab0"
    },
    {
      "cell_type": "markdown",
      "metadata": {},
      "source": [
        "We now change the levels of each variable in the same order they are\n",
        "printed above and confirm that the changes were successful."
      ],
      "id": "d46c46fc-5dd7-458e-b375-827d6ecb9fd2"
    },
    {
      "cell_type": "code",
      "execution_count": null,
      "metadata": {},
      "outputs": [],
      "source": [
        "# update factor levels of species and sex\n",
        "levels(penguins_clean$species) <- c(\"adelie\", \"chinstrap\", \"gentoo\")\n",
        "levels(penguins_clean$sex) <- c(\"female\", \"male\")\n",
        "# confirm that changes took effect\n",
        "str(penguins_clean)"
      ],
      "id": "5e8eea60-a07e-4ebc-b2d1-f9e7853f8fc1"
    },
    {
      "cell_type": "markdown",
      "metadata": {},
      "source": [
        "# Numerical summarization of data\n",
        "\n",
        "Numerical exploration of a data set generally consists of computing\n",
        "various relevant statistics for each of the variables in a data set in\n",
        "order to summarize the data.\n",
        "\n",
        "| numeric summary | variable type | summarizes | R function |\n",
        "|------------------------|----------------|----------------|-----------------|\n",
        "| mean | `numeric` | center | `mean` |\n",
        "| median | `numeric` | center | `median` |\n",
        "| variance | `numeric` | spread | `var` |\n",
        "| standard deviation | `numeric` | spread | `sd` |\n",
        "| interquartile range | `numeric` | spread | `quantile` (modified) |\n",
        "| quantiles | `numeric` | center and spread | `quantile` |\n",
        "| correlation | `numeric` | similarity | `cor` |\n",
        "| frequency distribution | `factor` | counts | `table` |\n",
        "| relative frequency distribution | `factor` | proportions | `table` (modified) |\n",
        "\n",
        "## Numeric data\n",
        "\n",
        "Numerical exploration of a set of `numeric` values usually focuses on\n",
        "determining the:\n",
        "\n",
        "1.  center\n",
        "2.  spread\n",
        "3.  quantiles (less common).\n",
        "\n",
        "Computing the correlation between two `numeric` variables can also be\n",
        "useful.\n",
        "\n",
        "### Measures of center\n",
        "\n",
        "The sample mean and median are the most common statistics used to\n",
        "represent the “center” of a set of numeric values.\n",
        "\n",
        "The sample mean or average is:\n",
        "\n",
        "-   Obtained by adding all values in the sample and dividing by the\n",
        "    number of observations.\n",
        "-   Computed in R using `mean`.\n",
        "-   Easily affected by outliers.\n",
        "\n",
        "The sample median is:\n",
        "\n",
        "-   The middle value of an ordered set of values (the actual middle\n",
        "    value when the number of values is odd and the average of the two\n",
        "    middle values when the number of values is even).\n",
        "-   Identical to the 0.5 quantile of the data.\n",
        "-   More “resistant” than the mean because it is not so greatly affected\n",
        "    by outliers.\n",
        "-   Computed in R using `median`.\n",
        "\n",
        "We compute the mean of the `body_mass` variable of the `penguins_clean`\n",
        "data in the code below."
      ],
      "id": "24ff301d-d6d3-4136-9997-baff25411951"
    },
    {
      "cell_type": "code",
      "execution_count": null,
      "metadata": {},
      "outputs": [],
      "source": [
        "mean(penguins_clean$body_mass)"
      ],
      "id": "c5355b8b-5dab-41e8-9cb7-c18b1483e648"
    },
    {
      "cell_type": "markdown",
      "metadata": {},
      "source": [
        "**Question:** Why is the result `NA` instead of a number?"
      ],
      "id": "702413ae-84a3-4a19-8cb3-c74188e8fc69"
    },
    {
      "cell_type": "code",
      "execution_count": null,
      "metadata": {},
      "outputs": [],
      "source": [
        "# compute sample mean and median body_mass, ignoring NAs\n",
        "mean(penguins_clean$body_mass, na.rm = TRUE)\n",
        "median(penguins_clean$body_mass, na.rm = TRUE)"
      ],
      "id": "b7c23f84-dde6-4d58-b810-d7379934a78e"
    },
    {
      "cell_type": "markdown",
      "metadata": {},
      "source": [
        "**Question:** The median is less than the mean (i.e., large values are\n",
        "pulling the mean in the positive direction). What *might* this tell us\n",
        "about the distribution?\n",
        "\n",
        "### Quantiles\n",
        "\n",
        "The $p$th quantile ($0\\leq p \\leq 1$) of a set of values is the value\n",
        "that separates the smallest $100 p$% of the values from the upper\n",
        "$100(1-p)$% of the values.\n",
        "\n",
        "-   The 0.25 sample quantile (often called Q1) of a set of values is the\n",
        "    value that separates the smallest 25% of the values from the largest\n",
        "    75% of the values.\n",
        "\n",
        "The `quantile` function is used to compute sample quantiles.\n",
        "\n",
        "Quantiles are useful for quantifying:\n",
        "\n",
        "-   Center (median).\n",
        "-   Spread (minimum and maximum or interquartile range = Q3 - Q1)."
      ],
      "id": "c9d17e70-c3f7-4aab-8a0e-22215cb3c904"
    },
    {
      "cell_type": "code",
      "execution_count": null,
      "metadata": {},
      "outputs": [],
      "source": [
        "quantile(penguins_clean$body_mass,\n",
        "         probs = c(0, 0.25, 0.5, 0.75, 1),\n",
        "         na.rm = TRUE)"
      ],
      "id": "722ae02a-a823-4aec-9e73-c179dd1905d1"
    },
    {
      "cell_type": "markdown",
      "metadata": {},
      "source": [
        "**Question:** Q3 and the maximum are further from the median than Q1 and\n",
        "the minimum. Is this evidence that this variable may be positively\n",
        "skewed?\n",
        "\n",
        "### Measures of spread\n",
        "\n",
        "Spread is related to how far values are from each other.\n",
        "\n",
        "The sample variance of a set of values $x_1, x_2, \\ldots, x_n$ is:\n",
        "\n",
        "-   The (approximate) average of the squared deviation of each\n",
        "    observation from the sample mean.\n",
        "-   $s^2 = \\frac{1}{n-1}\\sum_{i=1}^n (x_i - \\bar{x})^2$.\n",
        "-   Computed using the `var` function.\n",
        "\n",
        "The sample standard deviation is:\n",
        "\n",
        "-   The square root of the sample variance.\n",
        "-   A more useful measure of spread because it is has the same units as\n",
        "    the original data.\n",
        "-   Computed using the `sd` function.\n",
        "\n",
        "The larger the standard deviation or variance of a set of values, the\n",
        "more they vary from their sample mean.\n",
        "\n",
        "The sample standard deviation and variance can be greatly affected by\n",
        "outliers.\n",
        "\n",
        "The interquartile range is the difference between the 0.75 and 0.25\n",
        "quantiles of a data set.\n",
        "\n",
        "-   It is more resistant to outliers than the sample variance or\n",
        "    standard deviation.\n",
        "\n",
        "The minimum and maximum (in relation to the sample mean or median) can\n",
        "also be used to ascertain the spread of a data set.\n",
        "\n",
        "-   Computed using the `min` and `max` functions.\n",
        "\n",
        "We compute these measures of spread for the `body_mass` variable below."
      ],
      "id": "016dc4d0-7e56-4387-85d8-6b179bb40e43"
    },
    {
      "cell_type": "code",
      "execution_count": null,
      "metadata": {},
      "outputs": [],
      "source": [
        "# sample variance\n",
        "var(penguins_clean$body_mass, na.rm = TRUE)\n",
        "# sample standard deviation\n",
        "sd(penguins_clean$body_mass, na.rm = TRUE)\n",
        "# interquartile range (names = FALSE removes text above the results)\n",
        "quantile(penguins_clean$body_mass, probs = 0.75, na.rm = TRUE, names = FALSE) -\n",
        "  quantile(penguins_clean$body_mass, probs = 0.25, na.rm = TRUE, names = FALSE)\n",
        "# minimum\n",
        "min(penguins_clean$body_mass, na.rm = TRUE)\n",
        "# maximum\n",
        "max(penguins_clean$body_mass, na.rm = TRUE)"
      ],
      "id": "bffc9b1f-9227-4d21-8522-1d6cb9b58f04"
    },
    {
      "cell_type": "markdown",
      "metadata": {},
      "source": [
        "### Correlation\n",
        "\n",
        "The correlation between two `numeric` variables quantifies the strength\n",
        "and direction of their linear relationship.\n",
        "\n",
        "The most common correlation statistic is Pearson’s correlation\n",
        "statistic. If $x_1, x_2, \\ldots, x_n$ and $y_1, y_2, \\ldots, y_n$ are\n",
        "two sets of `numeric` values, then the sample correlation statistic is\n",
        "computed as\n",
        "\n",
        "$$r = \\frac{1}{n-1}\\sum_{i=1}^n\\left(\\frac{x_i - \\bar{x}}{s_x}\\right)\\left(\\frac{y_i - \\bar{y}}{s_y}\\right),$$\n",
        "\n",
        "where:\n",
        "\n",
        "-   $\\bar{x}$ and $s_x$ denote the sample mean and standard deviation of\n",
        "    the $x$’s.\n",
        "-   $\\bar{y}$ and $s_y$ denote the same thing for the $y$’s.\n",
        "\n",
        "$r$ must be between -1 and 1.\n",
        "\n",
        "The `cor` function can be used to compute the sample correlation between\n",
        "two `numeric` variables.\n",
        "\n",
        "**Interpretation**\n",
        "\n",
        "-   The closer $r$ is to -1 or 1, the closer the data values are to a\n",
        "    straight line.\n",
        "-   $r$ values close to 0 indicate that there is no linear relationship\n",
        "    between the two variables.\n",
        "-   Negative $r$ values indicate a negative relationship between the two\n",
        "    variables (as values for one variable increase, the values for the\n",
        "    other variable tend to decrease).\n",
        "-   Positive $r$ values indicate a positive linear relationship between\n",
        "    the two variables (as values for one variable increase, the values\n",
        "    of the other variable also tend to increase).\n",
        "\n",
        "In the code below, we compute the sample correlation between all\n",
        "`numeric` variables in `penguins_clean`. We set the `use` argument to\n",
        "`\"pairwise.complete.obs\"` so that all non-`NA` pairs of values are used\n",
        "in the calculation."
      ],
      "id": "a7612f63-b145-43b7-bfb2-98e41ea9ad53"
    },
    {
      "cell_type": "code",
      "execution_count": null,
      "metadata": {},
      "outputs": [],
      "source": [
        "# determine whether each variable is numeric\n",
        "num_col <- unlist(lapply(penguins_clean, is.numeric))\n",
        "# observe results\n",
        "num_col\n",
        "# compute correlation of numeric variables\n",
        "cor(penguins_clean[, num_col], use = \"pairwise.complete.obs\")"
      ],
      "id": "436f22e5-46c4-48fd-9c58-69ffd0101366"
    },
    {
      "cell_type": "markdown",
      "metadata": {},
      "source": [
        "-   The values of each variable are perfectly correlated with\n",
        "    themselves.\n",
        "-   The correlation between `bill_length` and `body_mass` is 0.87, so\n",
        "    heavier penguins tend to have longer bills.\n",
        "-   Perhaps surprisingly, the correlation between `bill_length` and\n",
        "    `bill_depth` is -0.24, so penguins with longer bills tend to have\n",
        "    shallower (narrower) bill depth.\n",
        "-   The correlation between `bill_depth` and `body_mass` is -0.47, so\n",
        "    heavier penguins tend to have narrower bills.\n",
        "\n",
        "## Categorical data\n",
        "\n",
        "Frequency distributions and relative frequency distributions are useful\n",
        "numeric summaries of categorical data.\n",
        "\n",
        "A frequency distribution summarizes the number of observations having\n",
        "each level of a categorical variable.\n",
        "\n",
        "The `table` function produces a frequency distribution (contingency\n",
        "table) summarizing the number of observations for each level of a\n",
        "categorical variable.\n",
        "\n",
        "-   By default, `table` ignores `NA` values."
      ],
      "id": "a760b21f-0ab8-4297-923c-5c03bb8ce950"
    },
    {
      "cell_type": "code",
      "execution_count": null,
      "metadata": {},
      "outputs": [],
      "source": [
        "table(penguins_clean$sex)"
      ],
      "id": "c9a0433d-c0a2-43f3-9aed-a06b6a0e884c"
    },
    {
      "cell_type": "markdown",
      "metadata": {},
      "source": [
        "To count the `NA` values (if present), we set the `useNA` argument of\n",
        "`table` to `\"ifany\"`."
      ],
      "id": "d8251b39-542b-4f9a-974b-66278acb0db4"
    },
    {
      "cell_type": "code",
      "execution_count": null,
      "metadata": {},
      "outputs": [],
      "source": [
        "table(penguins_clean$sex, useNA = \"ifany\")"
      ],
      "id": "259ee191-031e-4980-968b-b91ed28e6c35"
    },
    {
      "cell_type": "markdown",
      "metadata": {},
      "source": [
        "A relative frequency distribution summarizes the proportion or\n",
        "percentage of observation with each level of a categorical variable.\n",
        "\n",
        "To compute the relative frequency distribution of a variable, we must\n",
        "divide the frequency distribution by the number of observations."
      ],
      "id": "f14262af-9c8e-43c6-9dc8-c3d9d3236c02"
    },
    {
      "cell_type": "code",
      "execution_count": null,
      "metadata": {},
      "outputs": [],
      "source": [
        "# divide the frequence distribution of sex by the number of non-NA values\n",
        "table(penguins_clean$sex)/sum(!is.na(penguins_clean$sex))"
      ],
      "id": "72eeba73-6109-4849-8621-6d7437e0cc62"
    },
    {
      "cell_type": "markdown",
      "metadata": {},
      "source": [
        "If we want to include the `NA` values in our table, we can use the code\n",
        "below."
      ],
      "id": "35a148ea-92e6-4a34-a462-5fbd17f741ed"
    },
    {
      "cell_type": "code",
      "execution_count": null,
      "metadata": {},
      "outputs": [],
      "source": [
        "table(penguins_clean$sex, useNA = \"ifany\")/length(penguins_clean$sex)"
      ],
      "id": "a5f3dcca-2a41-48d4-a4fe-7cdc8a3f08bc"
    },
    {
      "cell_type": "markdown",
      "metadata": {},
      "source": [
        "We do not know the `sex` of approximately 3% of the penguins\n",
        "observations.\n",
        "\n",
        "## The `summary` function\n",
        "\n",
        "The `summary` function provides a simple approach for quickly\n",
        "quantifying the center and spread of each `numeric` variable in a data\n",
        "frame or determining the frequency distribution of a `factor` variable."
      ],
      "id": "380e6f25-5fbe-40c6-8569-b696b7102f80"
    },
    {
      "cell_type": "code",
      "execution_count": null,
      "metadata": {},
      "outputs": [],
      "source": [
        "summary(penguins_clean)"
      ],
      "id": "2f22a443-faa4-4ac7-9d4a-defb6a01e306"
    },
    {
      "cell_type": "markdown",
      "metadata": {},
      "source": [
        "# Visual summaries of data\n",
        "\n",
        "Visual summaries (i.e., plots) of data help us:\n",
        "\n",
        "-   Spot errors in our data, unusual observations, and simple patterns.\n",
        "-   Communicate the results of our analysis.\n",
        "\n",
        "The two most popular packages for producing graphics in R are:\n",
        "\n",
        "-   **base**: the default graphics system\n",
        "-   **ggplot2**: a “grammar of graphics” that is able to produce complex\n",
        "    graphics with automated legends in a consistent, systematic way.\n",
        "\n",
        "| Visual summary | Variable types | Summary type | Base functions | geoms |\n",
        "|:--------------|:--------------|:--------------|:--------------|:--------------|\n",
        "| box plot | `numeric` | univariate | `boxplot` | `geom_boxplot` |\n",
        "| histogram | `numeric` | univariate | `hist` | `geom_histogram` |\n",
        "| density plot | `numeric` | univariate | `plot`, `density` | `geom_density` |\n",
        "| bar plot | `factor` | univariate | `plot` or `barplot`, `table` | `geom_bar` |\n",
        "| scatter plot | 2 `numeric` | bivariate | `plot` | `geom_point` |\n",
        "| parallel box plot | 1 `numeric`, 1 `factor` | bivariate | `plot` or `boxplot` | `geom_boxplot` |\n",
        "| grouped scatter plot | 2 `numeric`, 1 `factor` | multivariate | `plot` | `geom_point` |\n",
        "| facetted plots | mixed | multivariate | none | `facet_wrap` or `facet_grid` |\n",
        "| interactive plots | mixed | multivariate | none | `plotly::ggplotly` |\n",
        "\n",
        "## The ggplot recipe\n",
        "\n",
        "There are 4 main components needed to produce a graphic using\n",
        "**ggplot2**.\n",
        "\n",
        "1.  A data frame containing our data.\n",
        "    -   Each column should be a variable and each row should be an\n",
        "        observation of data.\n",
        "2.  A `ggplot` object.\n",
        "    -   This is initialized using the `ggplot` function.\n",
        "3.  A geometric object.\n",
        "    -   These are called “geoms” for short.\n",
        "    -   geoms indicate the geometric object used to visualize the data.\n",
        "        E.g., points, lines, polygons etc. More generally, geoms\n",
        "        indicate the type of plot that is desired, e.g., histogram,\n",
        "        density, or box plot, which aren’t exactly a simple geometric\n",
        "        argument.\n",
        "4.  An aesthetic.\n",
        "    -   An aesthetic mapping indicates what role a variable plays in the\n",
        "        plot.\n",
        "    -   e.g., which variable will play the “x” variable in the plot, the\n",
        "        “y” variable in the plot, control the “color” of the\n",
        "        observations, etc.\n",
        "\n",
        "We add “layers” of information to a `ggplot`, such as geoms, scales, or\n",
        "other customizations, using `+`.\n",
        "\n",
        "## Univariate plots\n",
        "\n",
        "A univariate plot is a plot that only involves a single variable.\n",
        "\n",
        "-   e.g., bar plots, box plots, histograms, density plots, dot plots\n",
        "    (bad), pie charts (bad), etc.\n",
        "\n",
        "### Bar plots\n",
        "\n",
        "A bar plot (or bar chart) displays the number or proportion of\n",
        "observations having each category of a categorical variable (or using R\n",
        "terminology, each `level` of a `factor` variable).\n",
        "\n",
        "The simplest way to create a bar plot in base R is using the `plot`\n",
        "function on a `factor`."
      ],
      "id": "47acbb1e-260f-489e-b29c-23221f63b05e"
    },
    {
      "cell_type": "code",
      "execution_count": null,
      "metadata": {},
      "outputs": [],
      "source": [
        "plot(penguins_clean$island, main = \"distribution of island\")"
      ],
      "id": "3f9c19d8-fe49-4eef-a401-264d76a78c28"
    },
    {
      "cell_type": "markdown",
      "metadata": {},
      "source": [
        "There are approximately 170 penguins from Biscoe island, 125 from Dream\n",
        "island, and 50 from Torgerson island.\n",
        "\n",
        "Alternatively, we can combine `barplot` with the `table` function."
      ],
      "id": "25648499-e9bc-4610-bacf-c7dc1c6d92fa"
    },
    {
      "cell_type": "code",
      "execution_count": null,
      "metadata": {},
      "outputs": [],
      "source": [
        "barplot(table(penguins_clean$sex, useNA = \"ifany\"), names.arg = c(\"female\", \"male\", \"NA\"))"
      ],
      "id": "ce22c09c-6b18-47c4-aea5-3972add4e73a"
    },
    {
      "cell_type": "markdown",
      "metadata": {},
      "source": [
        "To create a relatively frequency bar plot, we should divide the results\n",
        "of `table` by the number of relevant observations."
      ],
      "id": "683255f6-c4cd-4051-89e2-dac7f995c1f3"
    },
    {
      "cell_type": "code",
      "execution_count": null,
      "metadata": {},
      "outputs": [],
      "source": [
        "barplot(table(penguins_clean$sex, useNA = \"ifany\") / length(penguins_clean$sex), \n",
        "        names.arg = c(\"female\", \"male\", \"NA\"))"
      ],
      "id": "f75a469e-b4bb-4ce6-b821-2c3c8e557b6c"
    },
    {
      "cell_type": "markdown",
      "metadata": {},
      "source": [
        "Approxiately 48% of the penguins are female, 49% are male, and 3% have\n",
        "an unknown sex.\n",
        "\n",
        "To create a bar plot with **ggplot2**, we first create a basic `ggplot`\n",
        "object containing our data. We must make sure to load the **ggplot2**\n",
        "package prior to creating the plot, otherwise we’ll get errors!"
      ],
      "id": "4eae64cb-2d01-479a-ae23-c6ebdc9fa93f"
    },
    {
      "cell_type": "code",
      "execution_count": null,
      "metadata": {},
      "outputs": [],
      "source": [
        "# load ggplot2 package\n",
        "library(ggplot2)\n",
        "# create generic ggplot object with our data\n",
        "gg_penguin <- ggplot(data = penguins_clean)"
      ],
      "id": "985b9a3b-e664-46ef-b61c-bb077ec4a0ab"
    },
    {
      "cell_type": "markdown",
      "metadata": {},
      "source": [
        "`gg_penguin` is a minimal `ggplot` object with the raw information\n",
        "needed to produce future graphics.\n",
        "\n",
        "To create a bar plot, we add the geom `geom_bar` and map the `species`\n",
        "variable (in this example) to the `x` aesthetic using the `aes`\n",
        "function."
      ],
      "id": "c984bb67-0a8a-4099-9aa4-2dc70e52c4e4"
    },
    {
      "cell_type": "code",
      "execution_count": null,
      "metadata": {},
      "outputs": [],
      "source": [
        "# create bar plot for species variable\n",
        "gg_penguin + geom_bar(aes(x = species))"
      ],
      "id": "3ce40f85-b87a-433a-9c84-f7a425955edf"
    },
    {
      "cell_type": "markdown",
      "metadata": {},
      "source": [
        "Our data set contains slightly more than 150 Adelie penguins,\n",
        "approxiately 70 Chinstrap penguins, and 125 Gentoo penguins.\n",
        "\n",
        "### Box plots\n",
        "\n",
        "A box plot indicates:\n",
        "\n",
        "-   median\n",
        "-   0.25 quantile (Q1)\n",
        "-   0.75 quantile (Q3)\n",
        "-   extend bars to the largest and smallest observations that are not\n",
        "    outliers.\n",
        "\n",
        "Outliers are usually marked with stars or dots.\n",
        "\n",
        "-   The standard definition of an outlier in the context of box plots is\n",
        "    any value that is greater than Q3 + 1.5 (Q3 - Q1) or less than Q1 -\n",
        "    1.5 (Q3 - Q1).\n",
        "\n",
        "Box plots:\n",
        "\n",
        "-   are useful for identifying outliers and skewness.\n",
        "-   throw away a lot of information.\n",
        "    -   be cautious in making conclusions about skewness and modality.\n",
        "\n",
        "The `boxplot` function is the easiest approach for producing a box plot\n",
        "using base R."
      ],
      "id": "d7499df3-3e2b-4b32-a93b-1e4d65345b44"
    },
    {
      "cell_type": "code",
      "execution_count": null,
      "metadata": {},
      "outputs": [],
      "source": [
        "boxplot(penguins_clean$body_mass, main = \"distribution of body mass\")"
      ],
      "id": "455cca8f-65d6-4332-b8cb-c422e2852eee"
    },
    {
      "cell_type": "markdown",
      "metadata": {},
      "source": [
        "Conclusions we can draw from the boxplot above:\n",
        "\n",
        "-   The median body mass of the penguins is a little more than 4,000\n",
        "    grams.\n",
        "-   The 0.25 quantile is about 3,500 grams\n",
        "-   The 0.75 quantile is about 4,750 grams.\n",
        "-   The lightest penguin is about 2,700 grams.\n",
        "-   The heaviest penguin is about 6,300 grams.\n",
        "-   There are no outliers.\n",
        "-   The data are slightly positively skewed since the upper whisker is\n",
        "    longer than the lower whisker.\n",
        "\n",
        "**Questions:**\n",
        "\n",
        "-   Are there any outliers?\n",
        "-   Is there evidence the masses are skewed?\n",
        "\n",
        "To create a box plot using **ggplot2**, we use `geom_boxplot`."
      ],
      "id": "5464be2d-0dbe-43fa-8b23-55079eadad48"
    },
    {
      "cell_type": "code",
      "execution_count": null,
      "metadata": {},
      "outputs": [],
      "source": [
        "gg_penguin + geom_boxplot(aes(y = bill_length))"
      ],
      "id": "a8acf283-1266-46b5-b85d-352f51d6e6d6"
    },
    {
      "cell_type": "markdown",
      "metadata": {},
      "source": [
        "**Questions:**\n",
        "\n",
        "-   What is the median bill length?\n",
        "-   What are the 0.25 and 0.75 quantiles of the bill lengths?\n",
        "-   Are there outliers?\n",
        "-   Is there evidence the variable is skewed?\n",
        "\n",
        "### Histograms\n",
        "\n",
        "A histogram:\n",
        "\n",
        "-   Displays the distribution of a `numeric` variable.\n",
        "-   Counts the number of values falling into (usually) equal-sized\n",
        "    “bins”.\n",
        "-   Is used to assess skewness, modality (the number of clear “peaks” in\n",
        "    the plot), and to some extent, outliers.\n",
        "\n",
        "We use the `hist` function to create a histogram of a `numeric`\n",
        "variable."
      ],
      "id": "e227ba36-b45f-4e07-ac93-e4fb408e7fd8"
    },
    {
      "cell_type": "code",
      "execution_count": null,
      "metadata": {},
      "outputs": [],
      "source": [
        "hist(penguins_clean$bill_length,\n",
        "     main = \"\",\n",
        "     xlab = \"bill length (mm)\",\n",
        "     breaks = 20)"
      ],
      "id": "513b5292-c8e4-4bee-b2e3-d57accda6684"
    },
    {
      "cell_type": "markdown",
      "metadata": {},
      "source": [
        "**Questions:**\n",
        "\n",
        "-   Is the variable unimodal?\n",
        "-   What can we learn about the skewness of the data from this plot?\n",
        "-   What does this historgram tell us that numeric summaries did not?\n",
        "\n",
        "We use `geom_histogram` to create a histogram using **ggplot2**."
      ],
      "id": "a3467972-4e6b-428b-8498-db3833e91c87"
    },
    {
      "cell_type": "code",
      "execution_count": null,
      "metadata": {},
      "outputs": [],
      "source": [
        "gg_penguin + geom_histogram(aes(x = flipper_length))"
      ],
      "id": "983e6733-0d14-4e52-839f-8f658c7141ed"
    },
    {
      "cell_type": "markdown",
      "metadata": {},
      "source": [
        "**Question:** Is the variable unimodal or bimodal?\n",
        "\n",
        "### Density plots\n",
        "\n",
        "A density plot is similar to a smoothed histogram.\n",
        "\n",
        "-   The area under the smoothed curve must equal 1.\n",
        "-   Density plots sometimes have problems near the edges of a variable\n",
        "    with a fixed upper or lower bound because it is difficult to know\n",
        "    how to smooth the data in those regions.\n",
        "\n",
        "We combine the `plot` and `density` functions to construct a density\n",
        "plot using **base** R."
      ],
      "id": "d6a0caf2-d44e-4f0f-bb0d-2ff254c1455b"
    },
    {
      "cell_type": "code",
      "execution_count": null,
      "metadata": {},
      "outputs": [],
      "source": [
        "plot(density(penguins_clean$bill_depth,\n",
        "             na.rm = TRUE),\n",
        "     main = \"\")"
      ],
      "id": "77eef682-0ce1-4943-a988-819f84b26763"
    },
    {
      "cell_type": "markdown",
      "metadata": {},
      "source": [
        "**Question:** Is the variable unimodal or bimodal?\n",
        "\n",
        "We create a density plot with **ggplot2** using `geom_density`."
      ],
      "id": "ef5b2d2b-6a24-4528-a52f-5a5bf99372a1"
    },
    {
      "cell_type": "code",
      "execution_count": null,
      "metadata": {},
      "outputs": [],
      "source": [
        "gg_penguin + geom_density(aes(x = body_mass))"
      ],
      "id": "a813ccc9-e112-436f-aee1-1fa6f74d3506"
    },
    {
      "cell_type": "markdown",
      "metadata": {},
      "source": [
        "**Questions:**\n",
        "\n",
        "-   Is the `body_mass` variable unimodal?\n",
        "-   Is there evidence the variable is skewed?\n",
        "\n",
        "## Bivariate plots\n",
        "\n",
        "A `bivariate` plot is a plot involving two variables.\n",
        "\n",
        "### Scatter plots\n",
        "\n",
        "Scatter plots can be used to identify the relationship between two\n",
        "`numeric` variables.\n",
        "\n",
        "We use the `plot` function to create a scatter plot."
      ],
      "id": "ef56f2de-6577-4ec1-8996-2e88122a353b"
    },
    {
      "cell_type": "code",
      "execution_count": null,
      "metadata": {},
      "outputs": [],
      "source": [
        "# xlab and ylab are used to customize the x-axis and y-axis labels\n",
        "plot(bill_length ~ body_mass, data = penguins_clean,\n",
        "     xlab = \"body mass (g)\", ylab = \"bill length (mm)\")"
      ],
      "id": "0b530ac5-7ede-4b47-a3ff-19e60364c087"
    },
    {
      "cell_type": "markdown",
      "metadata": {},
      "source": [
        "**Questions:**\n",
        "\n",
        "-   Is there a linear relationship between `body_mass` and\n",
        "    `bill length`?\n",
        "-   If so, is the linear relationship positive or negative?\n",
        "\n",
        "The `geom_point` function can be used to create a scatter plot with\n",
        "**ggplot2**."
      ],
      "id": "7fc9be34-e226-48ec-be92-c4636e0ef33e"
    },
    {
      "cell_type": "code",
      "execution_count": null,
      "metadata": {},
      "outputs": [],
      "source": [
        "gg_penguin + geom_point(aes(x = bill_depth, y = bill_length))"
      ],
      "id": "3ae26c3c-46c1-499c-b619-824eb47db2cd"
    },
    {
      "cell_type": "markdown",
      "metadata": {},
      "source": [
        "**Question:** What can we conclude from this plot?\n",
        "\n",
        "### Parallel box plots\n",
        "\n",
        "Parallel box plots:\n",
        "\n",
        "-   Draw a box plot for the `numeric` values of a variable for each\n",
        "    `level` of a `factor` variable.\n",
        "-   Are useful for determining if the distribution of a `numeric`\n",
        "    variable substantially changes based on whether an observation has a\n",
        "    certain `level` of a `factor`.\n",
        "\n",
        "We use the `plot` function to draw a parallel box plot by associating a\n",
        "`numeric` variable with a `factor` variable."
      ],
      "id": "b15a4e20-f451-4e1a-ae49-018cfd8f9fb2"
    },
    {
      "cell_type": "code",
      "execution_count": null,
      "metadata": {},
      "outputs": [],
      "source": [
        "plot(body_mass ~ sex, data = penguins_clean)"
      ],
      "id": "b731e59f-4e11-4bff-9d82-086a70468403"
    },
    {
      "cell_type": "markdown",
      "metadata": {},
      "source": [
        "We can produce something similar with **ggplot2** by specifying both the\n",
        "`y` and `x` aesthetics of `geom_boxplot`."
      ],
      "id": "4ae0cc25-4e88-4f31-a0ea-755bb909ed33"
    },
    {
      "cell_type": "code",
      "execution_count": null,
      "metadata": {},
      "outputs": [],
      "source": [
        "gg_penguin + \n",
        "  geom_boxplot(aes(x = species, y = bill_length))"
      ],
      "id": "e2537748-39e4-482f-af78-ea9e60646b2d"
    },
    {
      "cell_type": "markdown",
      "metadata": {},
      "source": [
        "## Multivariate plots\n",
        "\n",
        "A multivariate plot displays relationships between 2 or more variables.\n",
        "\n",
        "Multivariate plots are more easily created using **ggplot2** than\n",
        "**base**.\n",
        "\n",
        "### Grouped scatter plot\n",
        "\n",
        "A grouped scatter plot is a scatter plot that uses colors or symbols (or\n",
        "both) to indicate the `level` of a `factor` variable that each point\n",
        "corresponds to."
      ],
      "id": "985002ab-a86d-43f6-a986-f3026edb07f4"
    },
    {
      "cell_type": "code",
      "execution_count": null,
      "metadata": {},
      "outputs": [],
      "source": [
        "gg_penguin +\n",
        "  geom_point(aes(x = body_mass,\n",
        "                 y = flipper_length,\n",
        "                 color = species))"
      ],
      "id": "61622601-2cc7-41b4-bebb-55c4c3b537fa"
    },
    {
      "cell_type": "markdown",
      "metadata": {},
      "source": [
        "We use a colorblind-friendly palette and some additional customizations\n",
        "below. The website\n",
        "[https://colorbrewer2.org](https://colorbrewer2.org%5D(https://colorbrewer2.org))\n",
        "is an excellent resource for choosing an effective color palette."
      ],
      "id": "2bc8b45c-8d89-48ac-b0ea-668554ca4831"
    },
    {
      "cell_type": "code",
      "execution_count": null,
      "metadata": {},
      "outputs": [],
      "source": [
        "gg_penguin +\n",
        "  geom_point(aes(x = body_mass,\n",
        "                 y = flipper_length,\n",
        "                 color = species,\n",
        "                 shape = species)) +\n",
        "  scale_color_brewer(type = \"qual\",\n",
        "                     palette = \"Dark2\") +\n",
        "  xlab(\"body mass (g)\") +\n",
        "  ylab(\"flipper length (mm)\") +\n",
        "  ggtitle(\"body mass versus flipper length by species\")"
      ],
      "id": "9bbaf61b-02f2-4b8e-b19c-9c7888255e1e"
    },
    {
      "cell_type": "markdown",
      "metadata": {},
      "source": [
        "### Facetted plots (and alternatives)\n",
        "\n",
        "Facetting creates separate panels (facets) of plots based on one or more\n",
        "facetting variables.\n",
        "\n",
        "The key functions to do this with **ggplot2** are:\n",
        "\n",
        "-   `facet_grid` is used to create a grid of plots based on one or two\n",
        "    `factor` variables.\n",
        "-   `facet_wrap` wraps facets of panels around the plot based on one\n",
        "    `factor` variable.."
      ],
      "id": "84aebd7b-39dd-4a68-84e7-207d2bd08a89"
    },
    {
      "cell_type": "code",
      "execution_count": null,
      "metadata": {},
      "outputs": [],
      "source": [
        "# simple facetting example\n",
        "gg_penguin +\n",
        "  geom_point(aes(x = bill_depth, y = bill_length)) + facet_grid(~ species)"
      ],
      "id": "5a7bcbf5-ada1-479e-b156-30307cacf41d"
    },
    {
      "cell_type": "markdown",
      "metadata": {},
      "source": [
        "How do we deal with NAs in facetting?"
      ],
      "id": "6b626e43-02a6-487a-905c-1a16e7fae3e5"
    },
    {
      "cell_type": "code",
      "execution_count": null,
      "metadata": {},
      "outputs": [],
      "source": [
        "# facetting with NA facet!\n",
        "gg_penguin + geom_density(aes(x = body_mass)) + facet_grid(~ sex)"
      ],
      "id": "2d3c2171-527d-4464-a969-35d2e430d726"
    },
    {
      "cell_type": "code",
      "execution_count": null,
      "metadata": {},
      "outputs": [],
      "source": [
        "# to remove the NA facet, we must remove NAs\n",
        "# only do this for relevant columns to retain as much data as possible\n",
        "penguins_temp <-\n",
        "  penguins_clean |>\n",
        "  subset(select = c(body_mass, sex, species)) |>\n",
        "  na.omit()\n",
        "# new plot from \"clean\" data\n",
        "ggplot(penguins_temp) + geom_density(aes(x = body_mass)) + facet_grid(~ sex)"
      ],
      "id": "e4569cb2-4b08-48d6-a1eb-84af489560ef"
    },
    {
      "cell_type": "markdown",
      "metadata": {},
      "source": [
        "Here’s another facetting example that uses transparency."
      ],
      "id": "e03a187d-e032-461a-9bf8-aa890ba6566d"
    },
    {
      "cell_type": "code",
      "execution_count": null,
      "metadata": {},
      "outputs": [],
      "source": [
        "ggplot(data = penguins_temp) +\n",
        "  geom_density(aes(x = body_mass, fill = sex), alpha = 0.5) +\n",
        "  facet_grid(~ species)"
      ],
      "id": "69542bd2-ae94-4b7f-8a3a-342210515d89"
    },
    {
      "cell_type": "markdown",
      "metadata": {},
      "source": [
        "### Interactive graphics\n",
        "\n",
        "The **plotly** package provides the capabilities of plotly\n",
        "\\[<https://plotly.com/>\\] using R.\n",
        "\n",
        "-   plotly is a well-known tool for creating interactive graphics.\n",
        "-   The `ggplotly` function in the **plotly** will instantly make a\n",
        "    `ggplot` interactive.\n",
        "\n",
        "We create an interactive grouped scatter plot using this approach."
      ],
      "id": "44036abf-a79f-49d5-a5f2-d8134cfe7b22"
    },
    {
      "cell_type": "code",
      "execution_count": null,
      "metadata": {},
      "outputs": [],
      "source": [
        "# load plotly package\n",
        "library(plotly)\n",
        "# create grouped scatter plot\n",
        "ggi <-\n",
        "  gg_penguin +\n",
        "  geom_point(aes(x = body_mass, y = flipper_length, color = species, shape = species)) +\n",
        "  scale_color_brewer(type = \"qual\", palette = \"Dark2\") +\n",
        "  xlab(\"body mass (g)\") + ylab(\"flipper length (mm)\") +\n",
        "  ggtitle(\"body mass versus flipper length by species\")\n",
        "# make plot interactive\n",
        "ggplotly(ggi)"
      ],
      "id": "a1fc0d5f-d7b7-435c-a0c4-b0a18236d69e"
    },
    {
      "cell_type": "markdown",
      "metadata": {},
      "source": [
        "Next, we create an interactive parallel box plot using this approach."
      ],
      "id": "27a2a926-a5b7-4eb6-b950-2d3b65711c0a"
    },
    {
      "cell_type": "code",
      "execution_count": null,
      "metadata": {},
      "outputs": [],
      "source": [
        "# create parallel box plots\n",
        "ggi2 <-\n",
        "  gg_penguin +\n",
        "  geom_boxplot(aes(x = species, y = bill_length))\n",
        "# make plot interactive\n",
        "ggplotly(ggi2)"
      ],
      "id": "a6176860-76bc-4a71-a460-4f3bceaa5e95"
    },
    {
      "cell_type": "markdown",
      "metadata": {},
      "source": [
        "## A plan for data cleaning and exploration\n",
        "\n",
        "1.  Import or create the data set.\n",
        "2.  Use the `str` or `dplyr::glimpse` functions to get an idea of the\n",
        "    initial structure. Look for problems with variable names and types,\n",
        "    etc.\n",
        "3.  Clean the variable names (preferably, all lowercase letters, no\n",
        "    spaces or periods, use underscore when necessary).\n",
        "4.  Convert the variables to the appropriate type (e.g., categorical\n",
        "    variables to `factor`).\n",
        "5.  Run the `summary` function on our data frame. Take note of `NAs`,\n",
        "    impossible values that are data entry errors, etc. Perhaps perform\n",
        "    some additional cleaning based on this information.\n",
        "6.  Compute additional numeric summaries of the different variables, as\n",
        "    desired.\n",
        "7.  Create univariate plots of all variables we are considering.\n",
        "\n",
        "-   Use histograms for discrete `numeric` variables\n",
        "-   Use density plots for continuous `numeric` variables.\n",
        "-   Use bar plots for `factor` variables.\n",
        "-   Take note of any interesting patterns such as modality, skewness,\n",
        "    overall shape, outliers, etc.\n",
        "\n",
        "1.  Create bivariate plots of any pairs of variables.\n",
        "\n",
        "-   Use scatter plots for two `numeric` variables.\n",
        "-   Use parallel box plots for `numeric` and `factor` variable pairs.\n",
        "-   Or use histograms of the `numeric` variable facetted by the `factor`\n",
        "    variable.\n",
        "-   Or use density plots of the `numeric` variables filled with\n",
        "    different colors by the `factor` variable.\n",
        "\n",
        "1.  Create multivariate and interactive graphics based on what we\n",
        "    learned in the previous steps.\n",
        "\n",
        "## Final notes on missing or erroneous data\n",
        "\n",
        "Correct erroneous data entries, when possible. If that’s not possible,\n",
        "replace them with `NA` values.\n",
        "\n",
        "What should we do about `NA`s?\n",
        "\n",
        "-   If there is no systematic reason why the data are missing, then\n",
        "    ignoring the observations with missing data isn’t a terrible\n",
        "    approach.\n",
        "-   If there is a systematic reason why the data are missing (such as\n",
        "    individuals not wanting to answer a sensitive question, subjects\n",
        "    dying for a specific reason) then ignoring that data can lead to\n",
        "    erroneous conclusions."
      ],
      "id": "128c74f2-9d91-4616-adab-531aedafc25b"
    }
  ],
  "nbformat": 4,
  "nbformat_minor": 5,
  "metadata": {
    "kernelspec": {
      "display_name": "Python 3",
      "language": "python",
      "name": "python3"
    }
  }
}