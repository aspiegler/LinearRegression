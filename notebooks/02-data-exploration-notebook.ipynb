{
  "cells": [
    {
      "cell_type": "markdown",
      "metadata": {},
      "source": [
        "# Chapter 2 - Data Cleaning and Exploration\n",
        "\n",
        "Joshua French\n",
        "\n",
        "To open this information in an interactive Colab notebook, click or scan\n",
        "the QR code below.\n",
        "\n",
        "<a href=\"https://colab.research.google.com/github/jfrench/LinearRegression/blob/master/notebooks/02-data-exploration-notebook.ipynb\">\n",
        "<img src=\"https://raw.githubusercontent.com/jfrench/LinearRegression/9d0559b9fa7bdecc94158ebb6a0395c9139648d7/images/qr-02-data-exploration.png\">\n",
        "</a>\n",
        "\n",
        "We run the code below to ensure that all necessary packages are\n",
        "installed in our Jupyter environment."
      ],
      "id": "0d5c5807-fec1-4f07-9e25-daa1a2221d33"
    },
    {
      "cell_type": "code",
      "execution_count": null,
      "metadata": {},
      "outputs": [],
      "source": [
        "if(!require(palmerpenguins, quietly = TRUE)) {\n",
        "  install.packages(\"palmerpenguins\", repos = \"https://cran.rstudio.com/\")\n",
        "}\n",
        "if(!require(ggplot2, quietly = TRUE)) {\n",
        "  install.packages(\"ggplot2\", repos = \"https://cran.rstudio.com/\")\n",
        "}\n",
        "if(!require(dplyr, quietly = TRUE)) {\n",
        "  install.packages(\"dplyr\", repos = \"https://cran.rstudio.com/\")\n",
        "}\n",
        "if(!require(plotly, quietly = TRUE)) {\n",
        "  install.packages(\"plotly\", repos = \"https://cran.rstudio.com/\")\n",
        "}"
      ],
      "id": "7f9f3462-6d8d-4214-9854-39ffa97367cc"
    },
    {
      "cell_type": "markdown",
      "metadata": {},
      "source": [
        "# Introduction\n",
        "\n",
        "We should explore every data set numerically and visually prior to\n",
        "modeling it. The data exploration process will help us:\n",
        "\n",
        "-   Find errors in our data.\n",
        "-   Locate missing values.\n",
        "-   Identify outliers and unusual observations.\n",
        "-   Find patterns in our data.\n",
        "-   Decide on a modeling approach.\n",
        "-   Etc.\n",
        "\n",
        "When we receive a data set for the first time, we often need to:\n",
        "\n",
        "-   Restructure the data set so that each row is an observation and each\n",
        "    column is a variable.\n",
        "-   Convert the variables to an appropriate type.\n",
        "-   Improve the names of the variables.\n",
        "-   Etc.\n",
        "\n",
        "The process of preparing the data into a friendly format is known as\n",
        "“cleaning”.\n",
        "\n",
        "# Raw Palmer penguins data\n",
        "\n",
        "We will systematically explore the `penguins_raw` data set from the\n",
        "**palmerpenguins** package.\n",
        "\n",
        "To attach a data set from an R package into our working environment, we:\n",
        "\n",
        "1.  Run the `data` function.\n",
        "2.  Specify the `name` of the data set we want to attach.\n",
        "3.  Specify the package that contains the data."
      ],
      "id": "158a259b-038e-4127-a024-7cd1266c633b"
    },
    {
      "cell_type": "code",
      "execution_count": null,
      "metadata": {},
      "outputs": [],
      "source": [
        "data(penguins, package = \"palmerpenguins\")"
      ],
      "id": "671d24ee-410a-43c5-a069-1e110f0783df"
    },
    {
      "cell_type": "markdown",
      "metadata": {},
      "source": [
        "This command actually loads two data sets:\n",
        "\n",
        "-   `penguins_raw`: the data set we will be looking at.\n",
        "-   `penguins`: a simplified, clean version of `penguins_raw`.\n",
        "\n",
        "The `penguins_raw` data set provides data related to various penguin\n",
        "species measured in the Palmer Archipelago (Antarctica).\n",
        "\n",
        "The data set includes 344 observations of 17 variables. The variables\n",
        "are:\n",
        "\n",
        "-   `studyName`: the expedition from which the data were collected\n",
        "    (`character`).\n",
        "-   `Sample Number`: the continuous number sequence for each sample\n",
        "    (`numeric`).\n",
        "-   `Species`: the penguin’s species (`character`).\n",
        "-   `Region`: the region of the Palmer LTER sampling grid the sample was\n",
        "    obtained (`character`).\n",
        "-   `Island`: the island on which the penguin was observed\n",
        "    (`character`).\n",
        "-   `Stage`: the reproductive stage of the observation (`character`).\n",
        "-   `Individual ID`: the unique identification number of the\n",
        "    observations (`character`).\n",
        "-   `Clutch Completion`: whether the study nest was observed with a\n",
        "    “full clutch” of 2 eggs (`character`).\n",
        "-   `Date Egg`: the date that the study nest was observed with 1 egg\n",
        "    (`Date`).\n",
        "-   `Culman Length (mm)`: the length of the dorsal ridge of the\n",
        "    penguin’s bill in millimeters (`numeric`).\n",
        "-   `Culmen Depth (mm)`: the depth of the dorsal ridge of the penguin’s\n",
        "    bill in millimeters (`numeric`).\n",
        "-   `Flipper Length (mm)`: the penguin’s flipper length in millimeters\n",
        "    (`numeric`).\n",
        "-   `Body Mass (g)`: the penguin’s body mass in grams (`numeric`).\n",
        "-   `Sex`: the penguin’s sex (`character`).\n",
        "-   `Delta 15 N (o/oo)`: the ratio of stable isotopes 15N:14N\n",
        "    (`numeric`).\n",
        "-   `Delta 13 C (o/oo)`: the ratio of stable isotopes 15C:12C\n",
        "    (`numeric`).\n",
        "-   `Comments`: additional information about the observation\n",
        "    (`character`).\n",
        "\n",
        "# Initial data cleaning\n",
        "\n",
        "The `str` function provides a general overview of an object’s structure."
      ],
      "id": "f129d10d-2da8-4a3b-8de0-70e13965c600"
    },
    {
      "cell_type": "code",
      "execution_count": null,
      "metadata": {},
      "outputs": [],
      "source": [
        "str(penguins_raw, give.attr = FALSE)"
      ],
      "id": "2d09f348-f772-443e-9277-d1527e31b738"
    },
    {
      "cell_type": "markdown",
      "metadata": {},
      "source": [
        "An alternative to `str` is the `glimpse` function from the `dplyr`\n",
        "package."
      ],
      "id": "3fa8374d-4e02-4a31-9cca-c6b2cf27dfea"
    },
    {
      "cell_type": "code",
      "execution_count": null,
      "metadata": {},
      "outputs": [],
      "source": [
        "dplyr::glimpse(penguins_raw)"
      ],
      "id": "20221d20-77c0-41fc-826e-3ad96a881117"
    },
    {
      "cell_type": "markdown",
      "metadata": {},
      "source": [
        "The `penguins_raw` data has terrible variable names.\n",
        "\n",
        "-   The variable names have a mixture of lowercase and uppercase\n",
        "    letters, parentheses, and even spaces!\n",
        "-   This makes it complicated to access variables in the data frame."
      ],
      "id": "5ef26540-0328-46db-ba52-16e6225e36ed"
    },
    {
      "cell_type": "code",
      "execution_count": null,
      "metadata": {},
      "outputs": [],
      "source": [
        "print(penguins_raw$`Flipper Length (mm)`, max = 10)"
      ],
      "id": "04ee6ed9-8105-4515-b954-f6bbd4019e28"
    },
    {
      "cell_type": "markdown",
      "metadata": {},
      "source": [
        "We will select only the variables that we will use in the future."
      ],
      "id": "1cb5bf0b-5e2a-45ff-a6b8-8e53164d0c81"
    },
    {
      "cell_type": "code",
      "execution_count": null,
      "metadata": {},
      "outputs": [],
      "source": [
        "# select certain columns of penguins_raw, assign new name\n",
        "penguins_clean <-\n",
        "  penguins_raw |>\n",
        "  subset(select = c(\"Species\", \"Island\", \"Culmen Length (mm)\",\n",
        "                    \"Culmen Depth (mm)\", \"Flipper Length (mm)\", \"Body Mass (g)\", \"Sex\"))"
      ],
      "id": "e9bc6ecf-d5af-4260-ae41-5dda8d4847ee"
    },
    {
      "cell_type": "markdown",
      "metadata": {},
      "source": [
        "We use the `names` function to rename the variables in `penguins_clean`."
      ],
      "id": "7a5b3a6d-8497-47fa-a73c-b03985384cba"
    },
    {
      "cell_type": "code",
      "execution_count": null,
      "metadata": {},
      "outputs": [],
      "source": [
        "# access variable names and replace with new names\n",
        "names(penguins_clean) <- c(\"species\",\n",
        "                           \"island\",\n",
        "                           \"bill_length\",\n",
        "                           \"bill_depth\",\n",
        "                           \"flipper_length\",\n",
        "                           \"body_mass\",\n",
        "                           \"sex\")\n",
        "# look at new variable names\n",
        "names(penguins_clean)"
      ],
      "id": "13dd40fc-43b4-49e1-b66f-e7666566ddf5"
    },
    {
      "cell_type": "markdown",
      "metadata": {},
      "source": [
        "The `species`, `island`, and `sex` variables are categorical but are\n",
        "represented as `character` vectors instead of `factor`.\n",
        "\n",
        "We use the `transform` function to convert the each variable to a\n",
        "`factor`."
      ],
      "id": "c8975b3f-9a43-4615-8219-ee730fd041cb"
    },
    {
      "cell_type": "code",
      "execution_count": null,
      "metadata": {},
      "outputs": [],
      "source": [
        "# convert species, island, and sex variables\n",
        "# to factor, replace original object\n",
        "penguins_clean <-\n",
        "  penguins_clean |>\n",
        "  transform(species = factor(species),\n",
        "            island = factor(island),\n",
        "            sex = factor(sex))\n",
        "# view structure\n",
        "str(penguins_clean)"
      ],
      "id": "8478f993-8a70-4abd-bc9a-ca4556aa0f0f"
    },
    {
      "cell_type": "markdown",
      "metadata": {},
      "source": [
        "The levels of of `species`, `island`, and `sex` are not formatted well."
      ],
      "id": "fc963abd-0f81-4de5-be69-71d049b09274"
    },
    {
      "cell_type": "code",
      "execution_count": null,
      "metadata": {},
      "outputs": [],
      "source": [
        "# determine levels of species and sex\n",
        "levels(penguins_clean$species)\n",
        "levels(penguins_clean$sex)"
      ],
      "id": "d2d6bee1-18ca-4094-ac92-24c67546e221"
    },
    {
      "cell_type": "markdown",
      "metadata": {},
      "source": [
        "We now change the levels of each variable in the same order they are\n",
        "printed above and confirm that the changes were successful."
      ],
      "id": "a55742eb-11ac-4a96-8a9d-4b460fba6b1d"
    },
    {
      "cell_type": "code",
      "execution_count": null,
      "metadata": {},
      "outputs": [],
      "source": [
        "# update factor levels of species and sex\n",
        "levels(penguins_clean$species) <- c(\"adelie\", \"chinstrap\", \"gentoo\")\n",
        "levels(penguins_clean$sex) <- c(\"female\", \"male\")\n",
        "# confirm that changes took effect\n",
        "str(penguins_clean)"
      ],
      "id": "f9232eeb-010e-4c4b-8579-0e1c709c26aa"
    },
    {
      "cell_type": "markdown",
      "metadata": {},
      "source": [
        "# Numerical summarization of data\n",
        "\n",
        "Numerical exploration of a data set generally consists of computing\n",
        "various relevant statistics for each of the variables in a data set in\n",
        "order to summarize the data.\n",
        "\n",
        "| numeric summary | variable type | summarizes | R function |\n",
        "|------------------------|----------------|----------------|-----------------|\n",
        "| mean | `numeric` | center | `mean` |\n",
        "| median | `numeric` | center | `median` |\n",
        "| variance | `numeric` | spread | `var` |\n",
        "| standard deviation | `numeric` | spread | `sd` |\n",
        "| interquartile range | `numeric` | spread | `quantile` (modified) |\n",
        "| quantiles | `numeric` | center and spread | `quantile` |\n",
        "| correlation | `numeric` | similarity | `cor` |\n",
        "| frequency distribution | `factor` | counts | `table` |\n",
        "| relative frequency distribution | `factor` | proportions | `table` (modified) |\n",
        "\n",
        "## Numeric data\n",
        "\n",
        "Numerical exploration of a set of `numeric` values usually focuses on\n",
        "determining the:\n",
        "\n",
        "1.  center\n",
        "2.  spread\n",
        "3.  quantiles (less common).\n",
        "\n",
        "Computing the correlation between two `numeric` variables can also be\n",
        "useful.\n",
        "\n",
        "### Measures of center\n",
        "\n",
        "The sample mean and median are the most common statistics used to\n",
        "represent the “center” of a set of numeric values.\n",
        "\n",
        "The sample mean or average is:\n",
        "\n",
        "-   Obtained by adding all values in the sample and dividing by the\n",
        "    number of observations.\n",
        "-   Computed in R using `mean`.\n",
        "-   Easily affected by outliers.\n",
        "\n",
        "The sample median is:\n",
        "\n",
        "-   The middle value of an ordered set of values (the actual middle\n",
        "    value when the number of values is odd and the average of the two\n",
        "    middle values when the number of values is even).\n",
        "-   Identical to the 0.5 quantile of the data.\n",
        "-   More “resistant” than the mean because it is not so greatly affected\n",
        "    by outliers.\n",
        "-   Computed in R using `median`.\n",
        "\n",
        "We compute the mean of the `body_mass` variable of the `penguins_clean`\n",
        "data in the code below."
      ],
      "id": "0f58bbf2-006b-4077-9314-c6acf579c7f4"
    },
    {
      "cell_type": "code",
      "execution_count": null,
      "metadata": {},
      "outputs": [],
      "source": [
        "mean(penguins_clean$body_mass)"
      ],
      "id": "56283c82-8844-4ae7-8acc-4ea06264f9a5"
    },
    {
      "cell_type": "markdown",
      "metadata": {},
      "source": [
        "**Question:** Why is the result `NA` instead of a number?"
      ],
      "id": "07940be9-fa7c-44e1-ac7e-a925095d6c0c"
    },
    {
      "cell_type": "code",
      "execution_count": null,
      "metadata": {},
      "outputs": [],
      "source": [
        "# compute sample mean and median body_mass, ignoring NAs\n",
        "mean(penguins_clean$body_mass, na.rm = TRUE)\n",
        "median(penguins_clean$body_mass, na.rm = TRUE)"
      ],
      "id": "263839c8-884f-48ed-9858-707b8d2ec608"
    },
    {
      "cell_type": "markdown",
      "metadata": {},
      "source": [
        "**Question:** The median is less than the mean (i.e., large values are\n",
        "pulling the mean in the positive direction). What *might* this tell us\n",
        "about the distribution?\n",
        "\n",
        "### Quantiles\n",
        "\n",
        "The $p$th quantile ($0\\leq p \\leq 1$) of a set of values is the value\n",
        "that separates the smallest $100 p$% of the values from the upper\n",
        "$100(1-p)$% of the values.\n",
        "\n",
        "-   The 0.25 sample quantile (often called Q1) of a set of values is the\n",
        "    value that separates the smallest 25% of the values from the largest\n",
        "    75% of the values.\n",
        "\n",
        "The `quantile` function is used to compute sample quantiles.\n",
        "\n",
        "Quantiles are useful for quantifying:\n",
        "\n",
        "-   Center (median).\n",
        "-   Spread (minimum and maximum or interquartile range = Q3 - Q1)."
      ],
      "id": "e3d418a8-916d-4a93-b0ee-9d40e7bf5398"
    },
    {
      "cell_type": "code",
      "execution_count": null,
      "metadata": {},
      "outputs": [],
      "source": [
        "quantile(penguins_clean$body_mass,\n",
        "         probs = c(0, 0.25, 0.5, 0.75, 1),\n",
        "         na.rm = TRUE)"
      ],
      "id": "78bc4e73-94b5-441c-a78c-ac9c1b0e6ffd"
    },
    {
      "cell_type": "markdown",
      "metadata": {},
      "source": [
        "**Question:** Q3 and the maximum are further from the median than Q1 and\n",
        "the minimum. Is this evidence that this variable may be positively\n",
        "skewed?\n",
        "\n",
        "### Measures of spread\n",
        "\n",
        "Spread is related to how far values are from each other.\n",
        "\n",
        "The sample variance of a set of values $x_1, x_2, \\ldots, x_n$ is:\n",
        "\n",
        "-   The (approximate) average of the squared deviation of each\n",
        "    observation from the sample mean.\n",
        "-   $s^2 = \\frac{1}{n-1}\\sum_{i=1}^n (x_i - \\bar{x})^2$.\n",
        "-   Computed using the `var` function.\n",
        "\n",
        "The sample standard deviation is:\n",
        "\n",
        "-   The square root of the sample variance.\n",
        "-   A more useful measure of spread because it is has the same units as\n",
        "    the original data.\n",
        "-   Computed using the `sd` function.\n",
        "\n",
        "The larger the standard deviation or variance of a set of values, the\n",
        "more they vary from their sample mean.\n",
        "\n",
        "The sample standard deviation and variance can be greatly affected by\n",
        "outliers.\n",
        "\n",
        "The interquartile range is the difference between the 0.75 and 0.25\n",
        "quantiles of a data set.\n",
        "\n",
        "-   It is more resistant to outliers than the sample variance or\n",
        "    standard deviation.\n",
        "\n",
        "The minimum and maximum (in relation to the sample mean or median) can\n",
        "also be used to ascertain the spread of a data set.\n",
        "\n",
        "-   Computed using the `min` and `max` functions.\n",
        "\n",
        "We compute these measures of spread for the `body_mass` variable below."
      ],
      "id": "69a41ec3-124b-46ec-b2b7-29d423cfbf68"
    },
    {
      "cell_type": "code",
      "execution_count": null,
      "metadata": {},
      "outputs": [],
      "source": [
        "# sample variance\n",
        "var(penguins_clean$body_mass, na.rm = TRUE)\n",
        "# sample standard deviation\n",
        "sd(penguins_clean$body_mass, na.rm = TRUE)\n",
        "# interquartile range (names = FALSE removes text above the results)\n",
        "quantile(penguins_clean$body_mass, probs = 0.75, na.rm = TRUE, names = FALSE) -\n",
        "  quantile(penguins_clean$body_mass, probs = 0.25, na.rm = TRUE, names = FALSE)\n",
        "# minimum\n",
        "min(penguins_clean$body_mass, na.rm = TRUE)\n",
        "# maximum\n",
        "max(penguins_clean$body_mass, na.rm = TRUE)"
      ],
      "id": "3940cdcf-695d-4ae8-89a2-ccc0948a2053"
    },
    {
      "cell_type": "markdown",
      "metadata": {},
      "source": [
        "### Correlation\n",
        "\n",
        "The correlation between two `numeric` variables quantifies the strength\n",
        "and direction of their linear relationship.\n",
        "\n",
        "The most common correlation statistic is Pearson’s correlation\n",
        "statistic. If $x_1, x_2, \\ldots, x_n$ and $y_1, y_2, \\ldots, y_n$ are\n",
        "two sets of `numeric` values, then the sample correlation statistic is\n",
        "computed as\n",
        "\n",
        "$$r = \\frac{1}{n-1}\\sum_{i=1}^n\\left(\\frac{x_i - \\bar{x}}{s_x}\\right)\\left(\\frac{y_i - \\bar{y}}{s_y}\\right),$$\n",
        "\n",
        "where:\n",
        "\n",
        "-   $\\bar{x}$ and $s_x$ denote the sample mean and standard deviation of\n",
        "    the $x$’s.\n",
        "-   $\\bar{y}$ and $s_y$ denote the same thing for the $y$’s.\n",
        "\n",
        "$r$ must be between -1 and 1.\n",
        "\n",
        "The `cor` function can be used to compute the sample correlation between\n",
        "two `numeric` variables.\n",
        "\n",
        "**Interpretation**\n",
        "\n",
        "-   The closer $r$ is to -1 or 1, the closer the data values are to a\n",
        "    straight line.\n",
        "-   $r$ values close to 0 indicate that there is no linear relationship\n",
        "    between the two variables.\n",
        "-   Negative $r$ values indicate a negative relationship between the two\n",
        "    variables (as values for one variable increase, the values for the\n",
        "    other variable tend to decrease).\n",
        "-   Positive $r$ values indicate a positive linear relationship between\n",
        "    the two variables (as values for one variable increase, the values\n",
        "    of the other variable also tend to increase).\n",
        "\n",
        "In the code below, we compute the sample correlation between all\n",
        "`numeric` variables in `penguins_clean`. We set the `use` argument to\n",
        "`\"pairwise.complete.obs\"` so that all non-`NA` pairs of values are used\n",
        "in the calculation."
      ],
      "id": "5251af79-8391-45ad-a63b-1cf194b939b7"
    },
    {
      "cell_type": "code",
      "execution_count": null,
      "metadata": {},
      "outputs": [],
      "source": [
        "# determine whether each variable is numeric\n",
        "num_col <- unlist(lapply(penguins_clean, is.numeric))\n",
        "# observe results\n",
        "num_col\n",
        "# compute correlation of numeric variables\n",
        "cor(penguins_clean[, num_col], use = \"pairwise.complete.obs\")"
      ],
      "id": "3e230393-4b88-4266-98ed-a1a652e777c6"
    },
    {
      "cell_type": "markdown",
      "metadata": {},
      "source": [
        "-   The values of each variable are perfectly correlated with\n",
        "    themselves.\n",
        "-   The correlation between `bill_length` and `body_mass` is 0.87, so\n",
        "    heavier penguins tend to have longer bills.\n",
        "-   Perhaps surprisingly, the correlation between `bill_length` and\n",
        "    `bill_depth` is -0.24, so penguins with longer bills tend to have\n",
        "    shallower (narrower) bill depth.\n",
        "-   The correlation between `bill_depth` and `body_mass` is -0.47, so\n",
        "    heavier penguins tend to have narrower bills.\n",
        "\n",
        "## Categorical data\n",
        "\n",
        "Frequency distributions and relative frequency distributions are useful\n",
        "numeric summaries of categorical data.\n",
        "\n",
        "A frequency distribution summarizes the number of observations having\n",
        "each level of a categorical variable.\n",
        "\n",
        "The `table` function produces a frequency distribution (contingency\n",
        "table) summarizing the number of observations for each level of a\n",
        "categorical variable.\n",
        "\n",
        "-   By default, `table` ignores `NA` values."
      ],
      "id": "cf5185f7-7fb9-40e3-aaa7-0ae7fef3e1f0"
    },
    {
      "cell_type": "code",
      "execution_count": null,
      "metadata": {},
      "outputs": [],
      "source": [
        "table(penguins_clean$sex)"
      ],
      "id": "033d80f4-2b5a-4500-a718-08bb4ea0af20"
    },
    {
      "cell_type": "markdown",
      "metadata": {},
      "source": [
        "To count the `NA` values (if present), we set the `useNA` argument of\n",
        "`table` to `\"ifany\"`."
      ],
      "id": "e6d52b55-9945-444e-a1f1-aa0c5aa50ce3"
    },
    {
      "cell_type": "code",
      "execution_count": null,
      "metadata": {},
      "outputs": [],
      "source": [
        "table(penguins_clean$sex, useNA = \"ifany\")"
      ],
      "id": "3c2b659f-f91f-48ab-aa9c-c8a319d5ad8c"
    },
    {
      "cell_type": "markdown",
      "metadata": {},
      "source": [
        "A relative frequency distribution summarizes the proportion or\n",
        "percentage of observation with each level of a categorical variable.\n",
        "\n",
        "To compute the relative frequency distribution of a variable, we must\n",
        "divide the frequency distribution by the number of observations."
      ],
      "id": "2d88bca3-71b3-4799-b204-df50e22f30ba"
    },
    {
      "cell_type": "code",
      "execution_count": null,
      "metadata": {},
      "outputs": [],
      "source": [
        "# divide the frequence distribution of sex by the number of non-NA values\n",
        "table(penguins_clean$sex)/sum(!is.na(penguins_clean$sex))"
      ],
      "id": "2e1083d3-5404-4503-a647-9f4765e5531e"
    },
    {
      "cell_type": "markdown",
      "metadata": {},
      "source": [
        "If we want to include the `NA` values in our table, we can use the code\n",
        "below."
      ],
      "id": "92b69b5f-fedc-41fd-94f1-caf516c94802"
    },
    {
      "cell_type": "code",
      "execution_count": null,
      "metadata": {},
      "outputs": [],
      "source": [
        "table(penguins_clean$sex, useNA = \"ifany\")/length(penguins_clean$sex)"
      ],
      "id": "ecac9056-b903-4003-9e6e-427832b60b65"
    },
    {
      "cell_type": "markdown",
      "metadata": {},
      "source": [
        "We do not know the `sex` of approximately 3% of the penguins\n",
        "observations.\n",
        "\n",
        "## The `summary` function\n",
        "\n",
        "The `summary` function provides a simple approach for quickly\n",
        "quantifying the center and spread of each `numeric` variable in a data\n",
        "frame or determining the frequency distribution of a `factor` variable."
      ],
      "id": "753f9a90-2d81-47d3-a1bb-7e3b829515c9"
    },
    {
      "cell_type": "code",
      "execution_count": null,
      "metadata": {},
      "outputs": [],
      "source": [
        "summary(penguins_clean)"
      ],
      "id": "d88f7a01-3e19-43c4-bd73-8ff51bda99c0"
    },
    {
      "cell_type": "markdown",
      "metadata": {},
      "source": [
        "# Visual summaries of data\n",
        "\n",
        "Visual summaries (i.e., plots) of data help us:\n",
        "\n",
        "-   Spot errors in our data, unusual observations, and simple patterns.\n",
        "-   Communicate the results of our analysis.\n",
        "\n",
        "The two most popular packages for producing graphics in R are:\n",
        "\n",
        "-   **base**: the default graphics system\n",
        "-   **ggplot2**: a “grammar of graphics” that is able to produce complex\n",
        "    graphics with automated legends in a consistent, systematic way.\n",
        "\n",
        "| Visual summary | Variable types | Summary type | Base functions | geoms |\n",
        "|:--------------|:--------------|:--------------|:--------------|:--------------|\n",
        "| box plot | `numeric` | univariate | `boxplot` | `geom_boxplot` |\n",
        "| histogram | `numeric` | univariate | `hist` | `geom_histogram` |\n",
        "| density plot | `numeric` | univariate | `plot`, `density` | `geom_density` |\n",
        "| bar plot | `factor` | univariate | `plot` or `barplot`, `table` | `geom_bar` |\n",
        "| scatter plot | 2 `numeric` | bivariate | `plot` | `geom_point` |\n",
        "| parallel box plot | 1 `numeric`, 1 `factor` | bivariate | `plot` or `boxplot` | `geom_boxplot` |\n",
        "| grouped scatter plot | 2 `numeric`, 1 `factor` | multivariate | `plot` | `geom_point` |\n",
        "| facetted plots | mixed | multivariate | none | `facet_wrap` or `facet_grid` |\n",
        "| interactive plots | mixed | multivariate | none | `plotly::ggplotly` |\n",
        "\n",
        "## The ggplot recipe\n",
        "\n",
        "There are 4 main components needed to produce a graphic using\n",
        "**ggplot2**.\n",
        "\n",
        "1.  A data frame containing our data.\n",
        "    -   Each column should be a variable and each row should be an\n",
        "        observation of data.\n",
        "2.  A `ggplot` object.\n",
        "    -   This is initialized using the `ggplot` function.\n",
        "3.  A geometric object.\n",
        "    -   These are called “geoms” for short.\n",
        "    -   geoms indicate the geometric object used to visualize the data.\n",
        "        E.g., points, lines, polygons etc. More generally, geoms\n",
        "        indicate the type of plot that is desired, e.g., histogram,\n",
        "        density, or box plot, which aren’t exactly a simple geometric\n",
        "        argument.\n",
        "4.  An aesthetic.\n",
        "    -   An aesthetic mapping indicates what role a variable plays in the\n",
        "        plot.\n",
        "    -   e.g., which variable will play the “x” variable in the plot, the\n",
        "        “y” variable in the plot, control the “color” of the\n",
        "        observations, etc.\n",
        "\n",
        "We add “layers” of information to a `ggplot`, such as geoms, scales, or\n",
        "other customizations, using `+`.\n",
        "\n",
        "## Univariate plots\n",
        "\n",
        "A univariate plot is a plot that only involves a single variable.\n",
        "\n",
        "-   e.g., bar plots, box plots, histograms, density plots, dot plots\n",
        "    (bad), pie charts (bad), etc.\n",
        "\n",
        "### Bar plots\n",
        "\n",
        "A bar plot (or bar chart) displays the number or proportion of\n",
        "observations having each category of a categorical variable (or using R\n",
        "terminology, each `level` of a `factor` variable).\n",
        "\n",
        "The simplest way to create a bar plot in base R is using the `plot`\n",
        "function on a `factor`."
      ],
      "id": "8c225dd5-147b-4d4c-97b8-ffe928b36591"
    },
    {
      "cell_type": "code",
      "execution_count": null,
      "metadata": {},
      "outputs": [],
      "source": [
        "plot(penguins_clean$island, main = \"distribution of island\")"
      ],
      "id": "b468232f-adc9-4238-81b1-d1075d2641b9"
    },
    {
      "cell_type": "markdown",
      "metadata": {},
      "source": [
        "There are approximately 170 penguins from Biscoe island, 125 from Dream\n",
        "island, and 50 from Torgerson island.\n",
        "\n",
        "Alternatively, we can combine `barplot` with the `table` function."
      ],
      "id": "df06e6cb-327a-49e2-80da-ed71353ddf1d"
    },
    {
      "cell_type": "code",
      "execution_count": null,
      "metadata": {},
      "outputs": [],
      "source": [
        "barplot(table(penguins_clean$sex, useNA = \"ifany\"), names.arg = c(\"female\", \"male\", \"NA\"))"
      ],
      "id": "0c345a50-08f9-446a-8df7-8dbc5332972b"
    },
    {
      "cell_type": "markdown",
      "metadata": {},
      "source": [
        "To create a relatively frequency bar plot, we should divide the results\n",
        "of `table` by the number of relevant observations."
      ],
      "id": "3d2cf9dc-6693-4e8a-8137-aa80cdc59f6d"
    },
    {
      "cell_type": "code",
      "execution_count": null,
      "metadata": {},
      "outputs": [],
      "source": [
        "barplot(table(penguins_clean$sex, useNA = \"ifany\") / length(penguins_clean$sex), \n",
        "        names.arg = c(\"female\", \"male\", \"NA\"))"
      ],
      "id": "402a46ec-635d-49d2-8157-1f1e6500f289"
    },
    {
      "cell_type": "markdown",
      "metadata": {},
      "source": [
        "Approxiately 48% of the penguins are female, 49% are male, and 3% have\n",
        "an unknown sex.\n",
        "\n",
        "To create a bar plot with **ggplot2**, we first create a basic `ggplot`\n",
        "object containing our data. We must make sure to load the **ggplot2**\n",
        "package prior to creating the plot, otherwise we’ll get errors!"
      ],
      "id": "f52f0183-73da-4037-ae69-0eed2366b31b"
    },
    {
      "cell_type": "code",
      "execution_count": null,
      "metadata": {},
      "outputs": [],
      "source": [
        "# load ggplot2 package\n",
        "library(ggplot2)\n",
        "# create generic ggplot object with our data\n",
        "gg_penguin <- ggplot(data = penguins_clean)"
      ],
      "id": "8115cdbc-55fe-46d7-a94f-f54c9efdc888"
    },
    {
      "cell_type": "markdown",
      "metadata": {},
      "source": [
        "`gg_penguin` is a minimal `ggplot` object with the raw information\n",
        "needed to produce future graphics.\n",
        "\n",
        "To create a bar plot, we add the geom `geom_bar` and map the `species`\n",
        "variable (in this example) to the `x` aesthetic using the `aes`\n",
        "function."
      ],
      "id": "67c7cf64-e25f-4cc0-849a-35a8f0e8c8b9"
    },
    {
      "cell_type": "code",
      "execution_count": null,
      "metadata": {},
      "outputs": [],
      "source": [
        "# create bar plot for species variable\n",
        "gg_penguin + geom_bar(aes(x = species))"
      ],
      "id": "2cbf937d-ed19-456f-9736-8587f96e817c"
    },
    {
      "cell_type": "markdown",
      "metadata": {},
      "source": [
        "Our data set contains slightly more than 150 Adelie penguins,\n",
        "approxiately 70 Chinstrap penguins, and 125 Gentoo penguins.\n",
        "\n",
        "### Box plots\n",
        "\n",
        "A box plot indicates:\n",
        "\n",
        "-   median\n",
        "-   0.25 quantile (Q1)\n",
        "-   0.75 quantile (Q3)\n",
        "-   extend bars to the largest and smallest observations that are not\n",
        "    outliers.\n",
        "\n",
        "Outliers are usually marked with stars or dots.\n",
        "\n",
        "-   The standard definition of an outlier in the context of box plots is\n",
        "    any value that is greater than Q3 + 1.5 (Q3 - Q1) or less than Q1 -\n",
        "    1.5 (Q3 - Q1).\n",
        "\n",
        "Box plots:\n",
        "\n",
        "-   are useful for identifying outliers and skewness.\n",
        "-   throw away a lot of information.\n",
        "    -   be cautious in making conclusions about skewness and modality.\n",
        "\n",
        "The `boxplot` function is the easiest approach for producing a box plot\n",
        "using base R."
      ],
      "id": "5484a5fa-5bf7-40fe-ba35-9a12f74c06fd"
    },
    {
      "cell_type": "code",
      "execution_count": null,
      "metadata": {},
      "outputs": [],
      "source": [
        "boxplot(penguins_clean$body_mass, main = \"distribution of body mass\")"
      ],
      "id": "3faff7c1-85d1-4303-9676-eac88d6adc98"
    },
    {
      "cell_type": "markdown",
      "metadata": {},
      "source": [
        "Conclusions we can draw from the boxplot above:\n",
        "\n",
        "-   The median body mass of the penguins is a little more than 4,000\n",
        "    grams.\n",
        "-   The 0.25 quantile is about 3,500 grams\n",
        "-   The 0.75 quantile is about 4,750 grams.\n",
        "-   The lightest penguin is about 2,700 grams.\n",
        "-   The heaviest penguin is about 6,300 grams.\n",
        "-   There are no outliers.\n",
        "-   The data are slightly positively skewed since the upper whisker is\n",
        "    longer than the lower whisker.\n",
        "\n",
        "**Questions:**\n",
        "\n",
        "-   Are there any outliers?\n",
        "-   Is there evidence the masses are skewed?\n",
        "\n",
        "To create a box plot using **ggplot2**, we use `geom_boxplot`."
      ],
      "id": "894d8907-7fdd-4e1b-a2bf-f6b0848d4ff7"
    },
    {
      "cell_type": "code",
      "execution_count": null,
      "metadata": {},
      "outputs": [],
      "source": [
        "gg_penguin + geom_boxplot(aes(y = bill_length))"
      ],
      "id": "9bb54fe0-d236-40ab-9055-954dab0fe319"
    },
    {
      "cell_type": "markdown",
      "metadata": {},
      "source": [
        "**Questions:**\n",
        "\n",
        "-   What is the median bill length?\n",
        "-   What are the 0.25 and 0.75 quantiles of the bill lengths?\n",
        "-   Are there outliers?\n",
        "-   Is there evidence the variable is skewed?\n",
        "\n",
        "### Histograms\n",
        "\n",
        "A histogram:\n",
        "\n",
        "-   Displays the distribution of a `numeric` variable.\n",
        "-   Counts the number of values falling into (usually) equal-sized\n",
        "    “bins”.\n",
        "-   Is used to assess skewness, modality (the number of clear “peaks” in\n",
        "    the plot), and to some extent, outliers.\n",
        "\n",
        "We use the `hist` function to create a histogram of a `numeric`\n",
        "variable."
      ],
      "id": "dea681d6-d839-444c-98b5-38c23dd7624e"
    },
    {
      "cell_type": "code",
      "execution_count": null,
      "metadata": {},
      "outputs": [],
      "source": [
        "hist(penguins_clean$bill_length,\n",
        "     main = \"\",\n",
        "     xlab = \"bill length (mm)\",\n",
        "     breaks = 20)"
      ],
      "id": "e23da976-d206-4908-b604-5fe3b6a2cb1e"
    },
    {
      "cell_type": "markdown",
      "metadata": {},
      "source": [
        "**Questions:**\n",
        "\n",
        "-   Is the variable unimodal?\n",
        "-   What can we learn about the skewness of the data from this plot?\n",
        "-   What does this historgram tell us that numeric summaries did not?\n",
        "\n",
        "We use `geom_histogram` to create a histogram using **ggplot2**."
      ],
      "id": "43259d0e-ca9f-4ce3-a9e2-be8b35d2d008"
    },
    {
      "cell_type": "code",
      "execution_count": null,
      "metadata": {},
      "outputs": [],
      "source": [
        "gg_penguin + geom_histogram(aes(x = flipper_length))"
      ],
      "id": "64d8df9d-600b-4013-953b-34094e121fbc"
    },
    {
      "cell_type": "markdown",
      "metadata": {},
      "source": [
        "**Question:** Is the variable unimodal or bimodal?\n",
        "\n",
        "### Density plots\n",
        "\n",
        "A density plot is similar to a smoothed histogram.\n",
        "\n",
        "-   The area under the smoothed curve must equal 1.\n",
        "-   Density plots sometimes have problems near the edges of a variable\n",
        "    with a fixed upper or lower bound because it is difficult to know\n",
        "    how to smooth the data in those regions.\n",
        "\n",
        "We combine the `plot` and `density` functions to construct a density\n",
        "plot using **base** R."
      ],
      "id": "d5df0327-b79f-4fc5-91cf-c0cebfcb2af9"
    },
    {
      "cell_type": "code",
      "execution_count": null,
      "metadata": {},
      "outputs": [],
      "source": [
        "plot(density(penguins_clean$bill_depth,\n",
        "             na.rm = TRUE),\n",
        "     main = \"\")"
      ],
      "id": "ea85a327-1471-48a7-8a23-7b9cf506eb41"
    },
    {
      "cell_type": "markdown",
      "metadata": {},
      "source": [
        "**Question:** Is the variable unimodal or bimodal?\n",
        "\n",
        "We create a density plot with **ggplot2** using `geom_density`."
      ],
      "id": "73b27a04-53c1-427d-9851-b8cb70070155"
    },
    {
      "cell_type": "code",
      "execution_count": null,
      "metadata": {},
      "outputs": [],
      "source": [
        "gg_penguin + geom_density(aes(x = body_mass))"
      ],
      "id": "5272c466-2c79-43e7-8a49-817aa0c427bb"
    },
    {
      "cell_type": "markdown",
      "metadata": {},
      "source": [
        "**Questions:**\n",
        "\n",
        "-   Is the `body_mass` variable unimodal?\n",
        "-   Is there evidence the variable is skewed?\n",
        "\n",
        "## Bivariate plots\n",
        "\n",
        "A `bivariate` plot is a plot involving two variables.\n",
        "\n",
        "### Scatter plots\n",
        "\n",
        "Scatter plots can be used to identify the relationship between two\n",
        "`numeric` variables.\n",
        "\n",
        "We use the `plot` function to create a scatter plot."
      ],
      "id": "f1b70500-6be2-42eb-856e-c1a0ffc85859"
    },
    {
      "cell_type": "code",
      "execution_count": null,
      "metadata": {},
      "outputs": [],
      "source": [
        "# xlab and ylab are used to customize the x-axis and y-axis labels\n",
        "plot(bill_length ~ body_mass, data = penguins_clean,\n",
        "     xlab = \"body mass (g)\", ylab = \"bill length (mm)\")"
      ],
      "id": "f42b5135-97b9-4071-a76b-3c360608236a"
    },
    {
      "cell_type": "markdown",
      "metadata": {},
      "source": [
        "**Questions:**\n",
        "\n",
        "-   Is there a linear relationship between `body_mass` and\n",
        "    `bill length`?\n",
        "-   If so, is the linear relationship positive or negative?\n",
        "\n",
        "The `geom_point` function can be used to create a scatter plot with\n",
        "**ggplot2**."
      ],
      "id": "bc81fa18-f05e-4741-a68f-8e7393360fd7"
    },
    {
      "cell_type": "code",
      "execution_count": null,
      "metadata": {},
      "outputs": [],
      "source": [
        "gg_penguin + geom_point(aes(x = bill_depth, y = bill_length))"
      ],
      "id": "5e82cb4e-bac8-4322-bbe8-baff5a56fa32"
    },
    {
      "cell_type": "markdown",
      "metadata": {},
      "source": [
        "**Question:** What can we conclude from this plot?\n",
        "\n",
        "### Parallel box plots\n",
        "\n",
        "Parallel box plots:\n",
        "\n",
        "-   Draw a box plot for the `numeric` values of a variable for each\n",
        "    `level` of a `factor` variable.\n",
        "-   Are useful for determining if the distribution of a `numeric`\n",
        "    variable substantially changes based on whether an observation has a\n",
        "    certain `level` of a `factor`.\n",
        "\n",
        "We use the `plot` function to draw a parallel box plot by associating a\n",
        "`numeric` variable with a `factor` variable."
      ],
      "id": "395400ae-d7ed-4fa9-ad93-d53920cc8b42"
    },
    {
      "cell_type": "code",
      "execution_count": null,
      "metadata": {},
      "outputs": [],
      "source": [
        "plot(body_mass ~ sex, data = penguins_clean)"
      ],
      "id": "0344cf22-48da-433b-a2b4-d8a43a9f9537"
    },
    {
      "cell_type": "markdown",
      "metadata": {},
      "source": [
        "We can produce something similar with **ggplot2** by specifying both the\n",
        "`y` and `x` aesthetics of `geom_boxplot`."
      ],
      "id": "20a4139c-8a62-43b6-bb09-9b014b69c526"
    },
    {
      "cell_type": "code",
      "execution_count": null,
      "metadata": {},
      "outputs": [],
      "source": [
        "gg_penguin + \n",
        "  geom_boxplot(aes(x = species, y = bill_length))"
      ],
      "id": "bd116a17-13fa-4cf8-8693-a3f9d0a64f6f"
    },
    {
      "cell_type": "markdown",
      "metadata": {},
      "source": [
        "## Multivariate plots\n",
        "\n",
        "A multivariate plot displays relationships between 2 or more variables.\n",
        "\n",
        "Multivariate plots are more easily created using **ggplot2** than\n",
        "**base**.\n",
        "\n",
        "### Grouped scatter plot\n",
        "\n",
        "A grouped scatter plot is a scatter plot that uses colors or symbols (or\n",
        "both) to indicate the `level` of a `factor` variable that each point\n",
        "corresponds to."
      ],
      "id": "65c0aa99-db34-4f7e-a207-48e77da8ea54"
    },
    {
      "cell_type": "code",
      "execution_count": null,
      "metadata": {},
      "outputs": [],
      "source": [
        "gg_penguin +\n",
        "  geom_point(aes(x = body_mass,\n",
        "                 y = flipper_length,\n",
        "                 color = species))"
      ],
      "id": "754d6fe1-dc07-4bbf-aef8-fe8c0fde479b"
    },
    {
      "cell_type": "markdown",
      "metadata": {},
      "source": [
        "We use a colorblind-friendly palette and some additional customizations\n",
        "below. The website\n",
        "[https://colorbrewer2.org](https://colorbrewer2.org%5D(https://colorbrewer2.org))\n",
        "is an excellent resource for choosing an effective color palette."
      ],
      "id": "511c2721-5804-40c6-964b-4a0cccf71d0e"
    },
    {
      "cell_type": "code",
      "execution_count": null,
      "metadata": {},
      "outputs": [],
      "source": [
        "gg_penguin +\n",
        "  geom_point(aes(x = body_mass,\n",
        "                 y = flipper_length,\n",
        "                 color = species,\n",
        "                 shape = species)) +\n",
        "  scale_color_brewer(type = \"qual\",\n",
        "                     palette = \"Dark2\") +\n",
        "  xlab(\"body mass (g)\") +\n",
        "  ylab(\"flipper length (mm)\") +\n",
        "  ggtitle(\"body mass versus flipper length by species\")"
      ],
      "id": "a770c126-7b91-4628-918b-1937dc981cd4"
    },
    {
      "cell_type": "markdown",
      "metadata": {},
      "source": [
        "### Facetted plots (and alternatives)\n",
        "\n",
        "Facetting creates separate panels (facets) of plots based on one or more\n",
        "facetting variables.\n",
        "\n",
        "The key functions to do this with **ggplot2** are:\n",
        "\n",
        "-   `facet_grid` is used to create a grid of plots based on one or two\n",
        "    `factor` variables.\n",
        "-   `facet_wrap` wraps facets of panels around the plot based on one\n",
        "    `factor` variable.."
      ],
      "id": "4dd312e0-0f29-411f-98bc-f2c094612ecf"
    },
    {
      "cell_type": "code",
      "execution_count": null,
      "metadata": {},
      "outputs": [],
      "source": [
        "# simple facetting example\n",
        "gg_penguin +\n",
        "  geom_point(aes(x = bill_depth, y = bill_length)) + facet_grid(~ species)"
      ],
      "id": "3ad3ceed-8702-4a0a-8dc7-46391dcf0590"
    },
    {
      "cell_type": "markdown",
      "metadata": {},
      "source": [
        "How do we deal with NAs in facetting?"
      ],
      "id": "21a3b701-3e26-485e-934d-01561774cec7"
    },
    {
      "cell_type": "code",
      "execution_count": null,
      "metadata": {},
      "outputs": [],
      "source": [
        "# facetting with NA facet!\n",
        "gg_penguin + geom_density(aes(x = body_mass)) + facet_grid(~ sex)"
      ],
      "id": "5b51a437-da46-43cc-b13b-ddc5f77dcbcd"
    },
    {
      "cell_type": "code",
      "execution_count": null,
      "metadata": {},
      "outputs": [],
      "source": [
        "# to remove the NA facet, we must remove NAs\n",
        "# only do this for relevant columns to retain as much data as possible\n",
        "penguins_temp <-\n",
        "  penguins_clean |>\n",
        "  subset(select = c(body_mass, sex, species)) |>\n",
        "  na.omit()\n",
        "# new plot from \"clean\" data\n",
        "ggplot(penguins_temp) + geom_density(aes(x = body_mass)) + facet_grid(~ sex)"
      ],
      "id": "dc555512-4cb0-44b2-a16a-5799cb4e806a"
    },
    {
      "cell_type": "markdown",
      "metadata": {},
      "source": [
        "Here’s another facetting example that uses transparency."
      ],
      "id": "ad94e6f1-af04-46af-aaf9-2ce027fb09c2"
    },
    {
      "cell_type": "code",
      "execution_count": null,
      "metadata": {},
      "outputs": [],
      "source": [
        "ggplot(data = penguins_temp) +\n",
        "  geom_density(aes(x = body_mass, fill = sex), alpha = 0.5) +\n",
        "  facet_grid(~ species)"
      ],
      "id": "a8e0fb81-5167-417d-87c4-fbb52324b20c"
    },
    {
      "cell_type": "markdown",
      "metadata": {},
      "source": [
        "### Interactive graphics\n",
        "\n",
        "The **plotly** package provides the capabilities of plotly\n",
        "\\[<https://plotly.com/>\\] using R.\n",
        "\n",
        "-   plotly is a well-known tool for creating interactive graphics.\n",
        "-   The `ggplotly` function in the **plotly** will instantly make a\n",
        "    `ggplot` interactive.\n",
        "\n",
        "We create an interactive grouped scatter plot using this approach."
      ],
      "id": "72f5973c-dd37-4019-ae6a-0665e298303b"
    },
    {
      "cell_type": "code",
      "execution_count": null,
      "metadata": {},
      "outputs": [],
      "source": [
        "# load plotly package\n",
        "library(plotly)\n",
        "# create grouped scatter plot\n",
        "ggi <-\n",
        "  gg_penguin +\n",
        "  geom_point(aes(x = body_mass, y = flipper_length, color = species, shape = species)) +\n",
        "  scale_color_brewer(type = \"qual\", palette = \"Dark2\") +\n",
        "  xlab(\"body mass (g)\") + ylab(\"flipper length (mm)\") +\n",
        "  ggtitle(\"body mass versus flipper length by species\")\n",
        "# make plot interactive\n",
        "ggplotly(ggi)"
      ],
      "id": "23420bdb-48a2-40e5-aad1-53247fc387e4"
    },
    {
      "cell_type": "markdown",
      "metadata": {},
      "source": [
        "Next, we create an interactive parallel box plot using this approach."
      ],
      "id": "064989c0-ea2a-4f91-b031-0b936ffa8b48"
    },
    {
      "cell_type": "code",
      "execution_count": null,
      "metadata": {},
      "outputs": [],
      "source": [
        "# create parallel box plots\n",
        "ggi2 <-\n",
        "  gg_penguin +\n",
        "  geom_boxplot(aes(x = species, y = bill_length))\n",
        "# make plot interactive\n",
        "ggplotly(ggi2)"
      ],
      "id": "d4018b45-115c-45b1-be04-ee4565b8d9cb"
    },
    {
      "cell_type": "markdown",
      "metadata": {},
      "source": [
        "## A plan for data cleaning and exploration\n",
        "\n",
        "1.  Import or create the data set.\n",
        "2.  Use the `str` or `dplyr::glimpse` functions to get an idea of the\n",
        "    initial structure. Look for problems with variable names and types,\n",
        "    etc.\n",
        "3.  Clean the variable names (preferably, all lowercase letters, no\n",
        "    spaces or periods, use underscore when necessary).\n",
        "4.  Convert the variables to the appropriate type (e.g., categorical\n",
        "    variables to `factor`).\n",
        "5.  Run the `summary` function on our data frame. Take note of `NAs`,\n",
        "    impossible values that are data entry errors, etc. Perhaps perform\n",
        "    some additional cleaning based on this information.\n",
        "6.  Compute additional numeric summaries of the different variables, as\n",
        "    desired.\n",
        "7.  Create univariate plots of all variables we are considering.\n",
        "\n",
        "-   Use histograms for discrete `numeric` variables\n",
        "-   Use density plots for continuous `numeric` variables.\n",
        "-   Use bar plots for `factor` variables.\n",
        "-   Take note of any interesting patterns such as modality, skewness,\n",
        "    overall shape, outliers, etc.\n",
        "\n",
        "1.  Create bivariate plots of any pairs of variables.\n",
        "\n",
        "-   Use scatter plots for two `numeric` variables.\n",
        "-   Use parallel box plots for `numeric` and `factor` variable pairs.\n",
        "-   Or use histograms of the `numeric` variable facetted by the `factor`\n",
        "    variable.\n",
        "-   Or use density plots of the `numeric` variables filled with\n",
        "    different colors by the `factor` variable.\n",
        "\n",
        "1.  Create multivariate and interactive graphics based on what we\n",
        "    learned in the previous steps.\n",
        "\n",
        "## Final notes on missing or erroneous data\n",
        "\n",
        "Correct erroneous data entries, when possible. If that’s not possible,\n",
        "replace them with `NA` values.\n",
        "\n",
        "What should we do about `NA`s?\n",
        "\n",
        "-   If there is no systematic reason why the data are missing, then\n",
        "    ignoring the observations with missing data isn’t a terrible\n",
        "    approach.\n",
        "-   If there is a systematic reason why the data are missing (such as\n",
        "    individuals not wanting to answer a sensitive question, subjects\n",
        "    dying for a specific reason) then ignoring that data can lead to\n",
        "    erroneous conclusions."
      ],
      "id": "d10b254b-6a1d-4b42-9f4b-99b61a4db7c6"
    }
  ],
  "nbformat": 4,
  "nbformat_minor": 5,
  "metadata": {
    "kernelspec": {
      "name": "ir",
      "display_name": "R",
      "language": "R"
    }
  }
}