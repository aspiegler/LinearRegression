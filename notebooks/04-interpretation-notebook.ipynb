{
  "cells": [
    {
      "cell_type": "markdown",
      "metadata": {},
      "source": [
        "# Chapter 4 - Interpreting a Fitted Model\n",
        "\n",
        "Joshua French\n",
        "\n",
        "To open this information in an interactive Colab notebook, click or scan the QR code below.\n",
        "\n",
        "<a href=\"https://colab.research.google.com/github/jfrench/LinearRegression/blob/master/notebooks/04-interpretation-notebook.ipynb\"> <img src=\"https://raw.githubusercontent.com/jfrench/LinearRegression/97ccb66e9f1ed59763573420d728623067e2f0ef/images/qr-interpretation.png\"> </a>\n",
        "\n",
        "------------------------------------------------------------------------\n",
        "\n",
        "We run the code below to ensure that all necessary packages are installed in our Jupyter environment."
      ],
      "id": "60e8cb23-0201-4f29-b9ed-7c0055793ca8"
    },
    {
      "cell_type": "code",
      "execution_count": null,
      "metadata": {},
      "outputs": [],
      "source": [
        "if(!require(palmerpenguins, quietly = TRUE)) {\n",
        "  install.packages(\"palmerpenguins\", repos = \"https://cran.rstudio.com/\")\n",
        "  library(palmerpenguins)\n",
        "}"
      ],
      "id": "e8bfec7f-70fa-4f7a-96ee-025579c656b9"
    },
    {
      "cell_type": "code",
      "execution_count": null,
      "metadata": {},
      "outputs": [],
      "source": [
        "if(!require(car, quietly = TRUE)) {\n",
        "  install.packages(\"car\", repos = \"https://cran.rstudio.com/\")\n",
        "  library(car)\n",
        "}"
      ],
      "id": "3956f015-a236-4ee3-b52e-6d0b08407904"
    },
    {
      "cell_type": "code",
      "execution_count": null,
      "metadata": {},
      "outputs": [],
      "source": [
        "if(!require(effects, quietly = TRUE)) {\n",
        "  install.packages(\"effects\", repos = \"https://cran.rstudio.com/\")\n",
        "  library(effects)\n",
        "}"
      ],
      "id": "b795b6a3-66a7-4b4d-87d3-a08edcae07aa"
    },
    {
      "cell_type": "markdown",
      "metadata": {},
      "source": [
        "# Interpretation of coefficients\n",
        "\n",
        "The standard approach to interpreting the coefficients of a fitted linear model is to consider the expected change in the response in relation to changes in the regressors in the model.\n",
        "\n",
        "Consider the typical multiple linear regression model of the response\n",
        "\n",
        "$$\n",
        "Y=\\beta_0+\\beta_1 X_1 +\\ldots + \\beta_{p-1}X_{p-1}+\\epsilon.\n",
        "$$\n",
        "\n",
        "-   We treat the values of our regressor variables as being fixed, known values\n",
        "-   The error term is treated as a random variable\n",
        "-   Consequently, the response variable is also a random variable.\n",
        "\n",
        "## Random Error Assumption\n",
        "\n",
        "We assume that the errors all have mean 0, conditional on the values of the regressor variables.\n",
        "\n",
        "$$\n",
        "E(\\epsilon \\mid X_1, X_2, \\ldots, X_{p-1})=0.\n",
        "$$ Or, using alternative notation:\n",
        "\n",
        "$$\n",
        "E(\\epsilon \\mid \\mathbb{X})=0.\n",
        "$$\n",
        "\n",
        "## Expected Value of Response\n",
        "\n",
        "Using the assumption of mean zero errors, we have:\n",
        "\n",
        "$$\n",
        "\\begin{aligned}\n",
        "& E(Y\\mid X_1, X_2, \\ldots, X_{p-1}) \\\\\n",
        "&= E(Y \\mid \\mathbb{X}) \\\\\n",
        "&= E(\\beta_0+\\beta_1 X_1 +\\ldots + \\beta_{p-1}X_{p-1}+\\epsilon \\mid \\mathbb{X}) \\\\\n",
        "&= E(\\beta_0+\\beta_1 X_1 +\\ldots + \\beta_{p-1}X_{p-1}\\mid \\mathbb{X}) + E(\\epsilon \\mid \\mathbb{X}) \\\\\n",
        "&=\\beta_0+\\beta_1 X_1 +\\ldots + \\beta_{p-1}X_{p-1}.\n",
        "\\end{aligned}\n",
        "$$\n",
        "\n",
        "Note: All the $\\beta_j$ terms are treated as fixed, non-random values.\n",
        "\n",
        "# Interpretation for simple linear regression\n",
        "\n",
        "Suppose we have the simple linear regression model\n",
        "\n",
        "$$\n",
        "E(Y\\mid X)=\\beta_0 + \\beta_1 X.\n",
        "$$ The interpretations of the coefficients are:\n",
        "\n",
        "-   $\\beta_0$ is the expected response when the regressor is 0, i.e., $\\beta_0=E(Y\\mid X=0)$.\n",
        "-   $\\beta_1$ is the expected change in the response when the regressor increases 1 unit, i.e., $\\beta_1=E(Y\\mid X=x^*+1)-E(Y\\mid X=x^*)$, where $x^*$ is a fixed, real number.\n",
        "\n",
        "## Interpretation of Intercept\n",
        "\n",
        "The intercept term $\\beta_0$ is the expected value of the response when $X= 0$.\n",
        "\n",
        "$$\n",
        "\\begin{aligned}\n",
        "E(Y\\mid X = 0) &= \\beta_0 + \\beta_1 \\cdot 0 \\\\\n",
        "&= \\beta_0.\n",
        "\\end{aligned}\n",
        "$$\n",
        "\n",
        "## Interpretation of Slope\n",
        "\n",
        "Similarly, for $\\beta_1$, we notice that\n",
        "\n",
        "$$\n",
        "\\begin{aligned}\n",
        "E(Y\\mid X=x^*+1)-E(Y\\mid X=x^*) &= [\\beta_0 + \\beta_1 (x^* + 1)] - [\\beta_0 + \\beta_1 x^*] \\\\\n",
        "&= \\beta_1.\n",
        "\\end{aligned}\n",
        "$$\n",
        "\n",
        "Thus, $\\beta_1$ literally equals the change in the expected response when the regressor increases by 1 unit.\n",
        "\n",
        "It may not make sense to say “we increase $X$ by 1 unit” or “when $X$ increases by 1 unit” when we cannot easily change the value of $X$.\n",
        "\n",
        "To illustrate the interpretations given above, we interpret the simple linear regression model fit to the `penguins` data. The fitted simple linear regression model of `bill_length_mm` regressed on `body_mass_g` is $$\n",
        "\\hat{E}(\\mathtt{bill\\_length\\_mm}\\mid \\mathtt{body\\_mass\\_g})=26.9+0.004 \\,\\mathtt{body\\_mass\\_g}.\n",
        "$$\n",
        "\n",
        "Some basic interpretations of the coefficients are:\n",
        "\n",
        "-   Intercept: The expected bill length of a penguin with a body mass of 0 grams is 26.9 mm.\n",
        "-   `body_mass_g`: A penguin 1 gram heavier than another penguin is expected to have a bill length 0.004 mm longer than the smaller penguin.\n",
        "\n",
        "## Rescaling Predictors to aid Interpretation\n",
        "\n",
        "A weight difference of 1 gram is negligible in the context of penguin weights.\n",
        "\n",
        "A bill length change of 0.004 mm is unlikely to be noticed.\n",
        "\n",
        "In the code below, we divide the `body_mass_g` variable by 1000 to convert the variable from grams to kilograms.\n",
        "\n",
        "We then fit the model regressing `bill_length_mm` on `body_mass_kg` and extract the estimated coefficients."
      ],
      "id": "b20c2a0e-2e70-4357-bef8-a5692a777d90"
    },
    {
      "cell_type": "code",
      "execution_count": null,
      "metadata": {},
      "outputs": [],
      "source": [
        "# load penguins data\n",
        "data(penguins, package = \"palmerpenguins\")\n",
        "# transform body mass variable from g to kg\n",
        "penguins <- penguins |> transform(body_mass_kg = body_mass_g/1000)\n",
        "# fit model with body_mass_kg\n",
        "slmod_scaled <- lm(bill_length_mm ~ body_mass_kg, data = penguins)\n",
        "# extract coefficients\n",
        "coefficients(slmod_scaled)"
      ],
      "id": "aa887fce-28c6-4e56-bbb6-93c5ff91d35e"
    },
    {
      "cell_type": "markdown",
      "metadata": {},
      "source": [
        "**Question:** How do we reinterpret the model in the context of kilograms?\n",
        "\n",
        "Dividing `body_mass_g` by 1000 resulted in the estimated coefficient changing by a factor of 1000.\n",
        "\n",
        "More generally, if $\\hat{\\beta}_j$ is the estimated coefficient for $X_j$, then the regressor $(X_j + a)/c$ will have an estimated coefficient of $c\\hat{\\beta}_j$, where $a$ and $c$ are fixed, real numbers and assuming nothing else in the fitted model changes.\n",
        "\n",
        "# Interpretation for first-order multiple linear regression models\n",
        "\n",
        "Suppose we have a multiple linear regression model with $p-1$ first-order regressors, so that\n",
        "\n",
        "$$\n",
        "E(Y\\mid X_1,\\ldots,X_{p-1})=\\beta_0 + \\beta_1 X_1 + \\cdots + \\beta_{p-1} X_{p-1}.\n",
        "$$\n",
        "\n",
        "Relying on the definition of $\\mathbb{X}$, we denote the set of regressors without $X_j$ as $\\mathbb{X}_{-j} = \\mathbb{X}\\setminus\\{X_j\\}$.\n",
        "\n",
        "The interpretations of the coefficients from the model above are:\n",
        "\n",
        "-   $\\beta_0$ is the expected response when all regressors are 0, i.e., $\\beta_0=E(Y\\mid X_1=0,\\ldots,X_{p-1}=0)$.\n",
        "-   $\\beta_j$, $j = 1,\\ldots,p-1$, represents the expected change in the response when regressor $j$ increases 1 unit and the other regressors stay the same, i.e., $\\beta_j=E(Y\\mid \\mathbb{X}_{-j} = \\mathbf{x}^*_{-j}, X_{j} = x_{j}^*+1)-E(Y\\mid \\mathbb{X}_{-j} = \\mathbf{x}^*_{-j}, X_{j} = x_{j}^*)$ where $\\mathbf{x}_{-j}^*=[x^*_1,\\ldots,x_{j-1}^*,x_{j+1}^*,\\ldots,x_{p-1}^*]\\in \\mathbb{R}^{p-2}$ is a vector with $p-2$ fixed values (the number of regressors excluding $X_j$) and $x_j^*$ is a fixed real number. The non-intercept coefficients of a multiple linear regression model are known as *partial slopes*.\n",
        "\n",
        "Regarding the interpretation of $\\beta_0$, from the regression model:\n",
        "\n",
        "$$\n",
        "\\begin{aligned}\n",
        "E(Y\\mid X_1=0,\\ldots,X_{p-1}=0) &= \\beta_0 + \\beta_1 \\cdot 0 + \\cdots + \\beta_{p-1} \\cdot 0\\\\\n",
        "&= \\beta_0.\n",
        "\\end{aligned}\n",
        "$$\n",
        "\n",
        "**Questions:**\n",
        "\n",
        "-   Does the interpretation of the intercept always make sense?\n",
        "-   What if $X_1$ was heart rate?\n",
        "\n",
        "## Issues Interpreting Polynomial Models\n",
        "\n",
        "In multiple regression models, a single predictor can be used more than once in the model.\n",
        "\n",
        "E.g., in the 2nd-degree polynomial regression model:\n",
        "\n",
        "$$E(Y\\mid X) = \\beta_0 + \\beta_1 X + \\beta_2 X^2,$$\n",
        "\n",
        "$X$ is used in both the second and third terms.\n",
        "\n",
        "**Questions:**\n",
        "\n",
        "-   How does this affect the interpretation of $\\beta_1$?\n",
        "-   Is is possible to increase $X$ while keeping $X^2$ fixed?\n",
        "\n",
        "The standard interpretation we discussed is applicable to first-order linear regression models.\n",
        "\n",
        "*First-order linear regression model:* no regressor is a function of any other regressor.\n",
        "\n",
        "## Penguins Example Revisited\n",
        "\n",
        "We interpret the first-order multiple linear regression model fit to the `penguins` data. The fitted multiple linear regression model is:\n",
        "\n",
        "$$\n",
        "\\begin{aligned}\n",
        "&\\hat{E}(\\mathtt{bill\\_length\\_mm}\\mid \\mathtt{body\\_mass\\_g}, \\mathtt{flipper\\_length\\_mm})\\\\\n",
        "&=-3.44+0.0007 \\,\\mathtt{body\\_mass\\_g}+0.22\\,\\mathtt{flipper\\_length\\_mm}.\n",
        "\\end{aligned}\n",
        "$$\n",
        "\n",
        "Some basic interpretations of the coefficients are:\n",
        "\n",
        "-   *Intercept:* We expect a penguin with a body mass of 0 grams and a flipper length of 0 mm to have a bill length of -3.44 mm.\n",
        "-   `body_mass_g`: For two penguins that have the same flipper length but one penguin has a body mass 1 gram larger, we expect the heavier penguin to have a bill length 0.0007 mm longer than the other penguin.\n",
        "-   `flipper_length_mm`: For two penguins with the same body mass but whose flipper lengths differ by 1 mm, we expect the penguin with longer flippers to have a bill length 0.22 mm longer than the other penguin.\n",
        "\n",
        "# Roles of regressor variables\n",
        "\n",
        "Did you notice that the estimated coefficients for the intercept and the `body_mass_g` regressor changed between the simple model and the multiple regression model? Why?\n",
        "\n",
        "| Regression Model | Intercept Coef. | Body Mass Coef. |\n",
        "|:-----------------|----------------:|----------------:|\n",
        "| Simple Linear    |           26.90 |           0.004 |\n",
        "| Multiple         |           -3.44 |          0.0007 |\n",
        "\n",
        "The role a regressor plays in a regression model depends on what other regressors are in the model.\n",
        "\n",
        "Generally, we can’t provide a definitive interpretation of a regressor’s role in a fitted model without knowing what other regressors are in the model.\n",
        "\n",
        "When interpreting a regressor, it is common to include something like *after accounting for the other variables in the model*.\n",
        "\n",
        "If our model had different variables, then our interpretation would be different!\n",
        "\n",
        "Mathematically, why do the estimated coefficients change as we add or remove regressors from a model?\n",
        "\n",
        "-   If a regressor is correlated with other regressors in a model, then adding or removing that regressor will impact the estimated coefficients in the new model.\n",
        "-   The more correlated the regressors are, the more they tend to affect each others’ estimated coefficients.\n",
        "-   A regressor will impact the estimated coefficients of the other regressors in a model unless it is *orthogonal* to the other regressors.\n",
        "\n",
        "*Note:* Orthogonality is related to correlation, but there are important differences.\n",
        "\n",
        "# Effect plots\n",
        "\n",
        "An effect plot is a visual display that aids in helping us intuitively interpret the impact of a *predictor* in a model. As stated by Fox et al. (2020):\n",
        "\n",
        "> Summarization of the effects of predictors using tables of coefficient estimates is often incomplete. Effects, and particularly plots of effects, can in many instances reveal the relationship of the response to the predictors more clearly. This conclusion is especially true for models with linear predictors that include interactions and multiple-coefficient terms such as regression splines and polynomials ….\n",
        "\n",
        "An *effect plot* is a plot of the estimated mean response as a function of a *focal predictor* with the other *predictors* being held at “typical values”.\n",
        "\n",
        "*Recall:* the difference between predictors and regressors.\n",
        "\n",
        "-   A *predictor* variable is a variable available to model the response variable.\n",
        "-   A *regressor* variable is a variable used in our regression model, whether that is an unmodified predictor variable, some transformation of a predictor, some combination of predictors, etc.\n",
        "\n",
        "## First-Order Model Effect Plot\n",
        "\n",
        "In a first-order linear model, none of the regressors interact, i.e., none of the regressors are functions of each other.\n",
        "\n",
        "-   Fox et al. (2020) use the terminology *fixed group* to refer to the group of predictors that do not interact with the focal predictor.\n",
        "\n",
        "To create an effect plot, we must first find the equation for the estimated mean response as a function of a focal predictor while holding the other predictors at their “typical” values.\n",
        "\n",
        "-   We set numeric fixed group predictors equal to their sample means when finding this function.\n",
        "\n",
        "We now construct effect plots for the estimated regression model of the `penguins` data that regressed `bill_length_mm` on `body_mass_g` and `flipper_length_mm`.\n",
        "\n",
        "The fitted model is\n",
        "\n",
        "$$\n",
        "\\begin{aligned}\n",
        "&\\hat{E}(\\mathtt{bill\\_length\\_mm}\\mid \\mathtt{body\\_mass\\_g}, \\mathtt{flipper\\_length\\_mm})\\\\\n",
        "&=-3.44+0.0007 \\,\\mathtt{body\\_mass\\_g}+0.22\\,\\mathtt{flipper\\_length\\_mm}.\n",
        "\\end{aligned}\n",
        "$$\n",
        "\n",
        "We fit this model in R below."
      ],
      "id": "1b3962c4-4f7f-4c7b-a091-1f6c4d9cb247"
    },
    {
      "cell_type": "code",
      "execution_count": null,
      "metadata": {},
      "outputs": [],
      "source": [
        "# load penguins data since it hasn't been loaded in this chapter\n",
        "data(penguins, package = \"palmerpenguins\")\n",
        "# refit multiple linear regression model\n",
        "mlmod <- lm(bill_length_mm ~ body_mass_g + flipper_length_mm, data = penguins)\n",
        "# extract estimated coefficients\n",
        "coef(mlmod)"
      ],
      "id": "0b91f9d0-f23d-434c-8041-39ee5f53fa8b"
    },
    {
      "cell_type": "markdown",
      "metadata": {},
      "source": [
        "There are two predictors in the model, so we can create effect plots for both variables using the sample mean as a reference value.\n",
        "\n",
        "We compute the sample means of the predictors below."
      ],
      "id": "586888b4-cfe4-431a-b4b1-b72fd55d889d"
    },
    {
      "cell_type": "code",
      "execution_count": null,
      "metadata": {},
      "outputs": [],
      "source": [
        "colMeans(mlmod$model)"
      ],
      "id": "08564eff-bbde-4cc7-a336-27d6fc6f82e3"
    },
    {
      "cell_type": "markdown",
      "metadata": {},
      "source": [
        "The effect plot for $\\mathtt{body\\_mass\\_g}$ (on the response $\\mathtt{bill\\_length\\_mm}$) is a plot of\n",
        "\n",
        "$$\n",
        "\\begin{aligned}\n",
        "&\\hat{E}(\\mathtt{bill\\_length\\_mm}\\mid \\mathtt{body\\_mass\\_g}, \\mathtt{flipper\\_length\\_mm} = 200.92)\\\\\n",
        "&=-3.44+0.0007 \\,\\mathtt{body\\_mass\\_g}+0.22\\cdot 200.92 \\\\\n",
        "&=41.14+0.0007 \\,\\mathtt{body\\_mass\\_g}\n",
        "\\end{aligned}\n",
        "$$\n",
        "\n",
        "as a function of $\\mathtt{body\\_mass\\_g}$.\n",
        "\n",
        "Note: we used exact values in the calculation above. The intercept will be 40.76 instead of 41.14 if we use the rounded values. Similarly, the effect plot for $\\mathtt{flipper\\_length\\_mm}$ is a plot of\n",
        "\n",
        "$$\n",
        "\\begin{aligned}\n",
        "&\\hat{E}(\\mathtt{bill\\_length\\_mm}\\mid \\mathtt{body\\_mass\\_g} = 4201.75,\\mathtt{flipper\\_length\\_mm}) \\\\\n",
        "&=-3.44+0.0007 \\cdot 4201.75+0.22\\,\\mathtt{flipper\\_length\\_mm} \\\\\n",
        "&=-0.65 + 0.22\\,\\mathtt{flipper\\_length\\_mm}\n",
        "\\end{aligned}\n",
        "$$\n",
        "\n",
        "as a function of $\\mathtt{flipper\\_length\\_mm}$.\n",
        "\n",
        "The **effects** R package can be used to generate effect plots for the predictors of a fitted linear model.\n",
        "\n",
        "The `effects::predictorEffect` function computes the information needed to draw the effect plot.\n",
        "\n",
        "The `plot` function uses the output from `effects::predictorEffect` to draw the effect plot.\n",
        "\n",
        "The `predictorEffect` function computes the estimated mean response for different values of the focal predictor while holding the other predictors at their typical values.\n",
        "\n",
        "The main arguments of `predictorEffect` are:\n",
        "\n",
        "-   `predictor`: the name of the predictor we want to plot. This is the “focal predictor”.\n",
        "-   `mod`: the fitted model. The function works with `lm` objects and many other types of fitted models.\n",
        "\n",
        "We load the **effects** package."
      ],
      "id": "27970125-dbc0-4c51-9425-e9a4153662f8"
    },
    {
      "cell_type": "code",
      "execution_count": null,
      "metadata": {},
      "outputs": [],
      "source": [
        "library(effects)"
      ],
      "id": "dfc854d3-4263-46b2-ae31-65f809d99da0"
    },
    {
      "cell_type": "markdown",
      "metadata": {},
      "source": [
        "We now draw the effect plot for `body_mass_g`."
      ],
      "id": "a413b5d6-0528-4e58-ae2d-87a38ff73c95"
    },
    {
      "cell_type": "code",
      "execution_count": null,
      "metadata": {},
      "outputs": [],
      "source": [
        "plot(predictorEffect(\"body_mass_g\", mlmod))"
      ],
      "id": "812ade28-264d-49e7-8b19-c96c04005765"
    },
    {
      "cell_type": "markdown",
      "metadata": {},
      "source": [
        "There is a clear positive association between `body_mass_g` and `bill_length_mm` after accounting for the `flipper_length_mm` variable.\n",
        "\n",
        "The shaded area indicates the 95% confidence interval bands for the mean response for that value of `body_mass_g`.\n",
        "\n",
        "We next create an effect plot for `flipper_length_mm` using the code below."
      ],
      "id": "c6621c2e-ef80-4b31-ade5-42ca9090e730"
    },
    {
      "cell_type": "code",
      "execution_count": null,
      "metadata": {},
      "outputs": [],
      "source": [
        "plot(predictorEffect(\"flipper_length_mm\", mlmod))"
      ],
      "id": "2205255a-bf3f-4408-9916-852b050ce687"
    },
    {
      "cell_type": "markdown",
      "metadata": {},
      "source": [
        "There is a clear positive association between `flipper_length_mm` and `bill_length_mm` after accounting for `body_mass_g`.\n",
        "\n",
        "Alternatively, we could use `effects::allEffects` to compute the necessary effect plot information for all predictors simultaneously, but it is harder to control figure sizing."
      ],
      "id": "d737e11a-383b-408d-a22e-9cac8d663cc1"
    },
    {
      "cell_type": "code",
      "execution_count": null,
      "metadata": {},
      "outputs": [],
      "source": [
        "plot(allEffects(mlmod))"
      ],
      "id": "6e1384d1-e221-4456-8249-ee7f803b3d66"
    },
    {
      "cell_type": "markdown",
      "metadata": {},
      "source": [
        "# Interpretation for categorical predictors\n",
        "\n",
        "## Coefficient interpretation for parallel lines models\n",
        "\n",
        "Consider a parallel lines model with a numeric regressor $X$ and a categorical predictor $C$ with levels $L_1$, $L_2$, and $L_3$.\n",
        "\n",
        "The predictor variable $C$ must be transformed into two indicator variables, $D_2$ and $D_3$, for category levels $L_2$ and $L_3$, to be included in our linear model.\n",
        "\n",
        "-   $L_1$ is the reference level.\n",
        "\n",
        "The parallel lines model is formulated as $$\n",
        "E(Y \\mid X, C) = \\beta_{int} + \\beta_{X} X + \\beta_{L_2} D_2 +  \\beta_{L_3} D_3.\n",
        "$$\n",
        "\n",
        "We replaced the usual $\\beta_0$, $\\beta_1$, $\\beta_2$, and $\\beta_3$ with notation that indicates the regressor each coefficient is associated with.\n",
        "\n",
        "When an observation has level $L_1$ and $X=0$, then the expected response is\n",
        "\n",
        "$$\n",
        "\\begin{aligned}\n",
        "E(Y|X = 0, C=L_1) &= \\beta_{int} + \\beta_X \\cdot 0 + \\beta_{L_2} \\cdot 0 + \\beta_{L_3} \\cdot 0 \\\\\n",
        "&= \\beta_{int}.\n",
        "\\end{aligned}\n",
        "$$\n",
        "\n",
        "Thus, $\\beta_{int}$ is the expected response for an observation with level $L_1$ when $X=0$.\n",
        "\n",
        "When an observation has a fixed level $L_j$ and $X$ increases from $x^*$ to $x^*+1$, then the change in the expected response is\n",
        "\n",
        "$$\n",
        "E(Y|X = x^* + 1, C=L_j) - E(Y|X = x^*, C=L_j)= \\beta_X.\n",
        "$$\n",
        "\n",
        "Thus, $\\beta_X$ is the expected change in the response for an observation with fixed level $L_j$ when $X$ increases by 1 unit.\n",
        "\n",
        "When an observation has level $L_2$, the expected response is\n",
        "\n",
        "$$\n",
        "\\begin{aligned}\n",
        "E(Y\\mid X = x^*, C=L_2) &= \\beta_{int} + \\beta_X x^* + \\beta_{L_2} \\cdot 1 + \\beta_{L_3} \\cdot 0 \\\\\n",
        "&= \\beta_{int} + \\beta_X x^* + \\beta_{L_2}.\n",
        "\\end{aligned}\n",
        "$$\n",
        "\n",
        "What is the difference in the expected response when comparing an observation with level $L_2$ compared to an observation with level $L_1$, assuming that $X$ is the same for both observations?\n",
        "\n",
        "$$\n",
        "\\begin{aligned}\n",
        "& E(Y\\mid X=x^*, C=L_2) - E(Y\\mid X=x^*, C=L_1) \\\\\n",
        "&= (\\beta_{int} + \\beta_X x^* + \\beta_{L_2}) - (\\beta_{int} + \\beta_X x^*) \\\\\n",
        "&=  \\beta_{L_2}.\n",
        "\\end{aligned}\n",
        "$$\n",
        "\n",
        "Thus, $\\beta_{L_2}$ is the expected change in the response for a fixed value of $X$ when comparing on observation having level $L_1$ to level $L_2$ of predictor $C$. More specifically, $\\beta_{L_2}$ indicates the distance between the estimated regression lines for observations having levels $L_1$ and $L_2$.\n",
        "\n",
        "To summarize, assuming categorical predictor $C$ has $K$ levels instead of 3:\n",
        "\n",
        "-   $\\beta_{int}$ represents the expected response for observations having the reference level when the numeric regressor $X = 0$.\n",
        "-   $\\beta_X$ is the expected change in the response when $X$ increases by 1 unit for a fixed level of $C$.\n",
        "-   $\\beta_{L_j}$, for $j=2,\\ldots,K$, represents the expected change in the response when comparing observations having level $L_1$ and $L_j$ with $X$ fixed at the same value.\n",
        "\n",
        "We previously fit a parallel lines model to the `penguins` data that used both `body_mass_g` and `species` to explain the behavior of `bill_length_mm`.\n",
        "\n",
        "Letting $D_C$ denote the indicator variable for the `Chinstrap` level and $D_G$ denote the indicator variable for the `Gentoo` level, the fitted parallel lines model was\n",
        "\n",
        "$$\n",
        "\\begin{aligned}\n",
        "&\\hat{E}(\\mathtt{bill\\_length\\_mm} \\mid \\mathtt{body\\_mass\\_g}, \\mathtt{species})\\\\\n",
        "&= 24.92 + 0.004 \\mathtt{body\\_mass\\_g} + 9.92 D_C + 3.56 D_G.\n",
        "\\end{aligned}\n",
        "$$\n",
        "\n",
        "In the context of this model:\n",
        "\n",
        "-   The expected bill length for an Adelie penguin with a body mass of 0 grams is 24.92 mm.\n",
        "-   If two penguins are of the same species, but one penguin has a body mass 1 gram larger, then the larger penguin is expected to have a bill length 0.004 mm longer than the smaller penguin.\n",
        "-   A Chinstrap penguin is expected to have a bill length 9.92 mm longer than an Adelie penguin, assuming their body mass is the same.\n",
        "-   A Gentoo penguin is expected to have a bill length 3.56 mm longer than an Adelie penguin, assuming their body mass is the same.\n",
        "\n",
        "### Effect plots for fitted models with non-interacting categorical predictors\n",
        "\n",
        "How do we create an effect plot for a numeric focal predictor when a non-interacting categorical predictor is in the model (such as for the parallel lines model we have been discussing)?\n",
        "\n",
        "-   First, determine the fitted model equation as a function of the focal predictor for each level of the categorical predictor.\n",
        "-   Then, compute the weighted average of the equation with the weights being proportional to the number of observations in each group.\n",
        "\n",
        "Let’s construct an effect plot for the `body_mass_g` predictor in the context of the `penguins` parallel lines model discussed in the previous section. We previously determined that the fitted parallel lines model simplified to:\n",
        "\n",
        "$$\n",
        "\\begin{aligned}\n",
        "&\\hat{E}(\\mathtt{bill\\_length\\_mm} \\mid \\mathtt{body\\_mass\\_g}, \\mathtt{species}=\\mathtt{Adelie}) \\\\\n",
        "&= 24.92 + 0.004 \\mathtt{body\\_mass\\_g} \\\\\n",
        "&\\hat{E}(\\mathtt{bill\\_length\\_mm} \\mid \\mathtt{body\\_mass\\_g}, \\mathtt{species}=\\mathtt{Chinstrap}) \\\\\n",
        "&= 34.84 + 0.004 \\mathtt{body\\_mass\\_g} \\\\\n",
        "&\\hat{E}(\\mathtt{bill\\_length\\_mm} \\mid \\mathtt{body\\_mass\\_g}, \\mathtt{species}=\\mathtt{Gentoo}) \\\\\n",
        "&= 28.48 + 0.004 \\mathtt{body\\_mass\\_g}.\n",
        "\\end{aligned}\n",
        "$$\n",
        "\n",
        "We recreate the fitted model producing these equations in R using the code below."
      ],
      "id": "3bdfd0c9-c8dd-4765-a561-e0516cf3a99f"
    },
    {
      "cell_type": "code",
      "execution_count": null,
      "metadata": {},
      "outputs": [],
      "source": [
        "# refit the parallel lines model\n",
        "lmodp <- lm(bill_length_mm ~ body_mass_g + species, data = penguins)\n",
        "# double-check coefficients\n",
        "coef(lmodp)"
      ],
      "id": "b169d949-5185-4785-8901-8a47235f85e9"
    },
    {
      "cell_type": "markdown",
      "metadata": {},
      "source": [
        "The code below determines the number of observations with each level of `species` for the data used in the fitted model `lmodp`."
      ],
      "id": "bc33390c-382b-4fda-bb7e-757c098955f3"
    },
    {
      "cell_type": "code",
      "execution_count": null,
      "metadata": {},
      "outputs": [],
      "source": [
        "table(lmodp$model$species)\n",
        "print(paste('Total:', length(lmodp$model$species)))"
      ],
      "id": "72cf3994-ed26-4a8c-b87f-c43a87732afd"
    },
    {
      "cell_type": "markdown",
      "metadata": {},
      "source": [
        "The equation used to create the effect plot of `body_mass_g` is the weighted average of the response, with weights proportional to the number of observational having each level of the categorical predictor. Specifically,\n",
        "\n",
        "$$\n",
        "\\begin{aligned}\n",
        "& \\hat{E}(\\mathtt{bill\\_length\\_mm} \\mid \\mathtt{body\\_mass\\_g}, \\mathtt{species}=\\mathtt{typical}) \\\\\n",
        "&= \\frac{151}{342}(24.92 + 0.004 \\mathtt{body\\_mass\\_g})\\\\\n",
        "&\\quad + \\frac{68}{342}(34.84 + 0.004 \\mathtt{body\\_mass\\_g})\\\\\n",
        "&\\quad + \\frac{123}{342}(28.48 + 0.004 \\mathtt{body\\_mass\\_g}) \\\\\n",
        "&=28.17 + 0.004 \\mathtt{body\\_mass\\_g}.\n",
        "\\end{aligned}\n",
        "$$\n",
        "\n",
        "The following code produces the effect plot for `body_mass_g` for the fitted parallel lines model. The association between `bill_length_mm` and `body_mass_g` is positive after accounting for `species`."
      ],
      "id": "7d3fa19b-6143-44fa-a1ee-0568b3e4c48e"
    },
    {
      "cell_type": "code",
      "execution_count": null,
      "metadata": {},
      "outputs": [],
      "source": [
        "# draw effect plot for body_mass_g\n",
        "plot(predictorEffect(\"body_mass_g\", lmodp))"
      ],
      "id": "42ecd094-1c56-4988-9aed-3130e6e74098"
    },
    {
      "cell_type": "markdown",
      "metadata": {},
      "source": [
        "An effect plot for a categorical predictor, assuming all other predictors in the model are non-interacting numerical predictors (i.e., fixed group predictors), is a plot of the estimated mean response for each level of the categorical variable when the fixed group predictors are held at their sample mean.\n",
        "\n",
        "The sample mean of the observed `body_mass_g` values is 4,201.75 grams."
      ],
      "id": "54340d87-aa0a-45de-a001-0a6be29028f1"
    },
    {
      "cell_type": "code",
      "execution_count": null,
      "metadata": {},
      "outputs": [],
      "source": [
        "# sample mean of body_mass_g variable used to fit lmodp\n",
        "mean(lmodp$model$body_mass_g)"
      ],
      "id": "da860966-96f1-4245-a4aa-a27449431114"
    },
    {
      "cell_type": "markdown",
      "metadata": {},
      "source": [
        "The estimated mean for the Adelie species when `body_mass_g` is fixed at 4201.75 is\n",
        "\n",
        "$$\n",
        "\\begin{aligned}\n",
        "&\\hat{E}(\\mathtt{bill\\_length\\_mm} \\mid \\mathtt{body\\_mass\\_g} = 4201.75, \\mathtt{species}=\\mathtt{Adelie}) \\\\\n",
        "&= 24.92 + 0.004 \\cdot 4201.75 \\\\\n",
        "&= 40.67.\n",
        "\\end{aligned}\n",
        "$$\n",
        "\n",
        "Similarly,\n",
        "\n",
        "$$\n",
        "\\hat{E}(\\mathtt{bill\\_length\\_mm} \\mid \\mathtt{body\\_mass\\_g} = 4201.75, \\mathtt{species}=\\mathtt{Chinstrap}) = 34.84 + 0.004(4201.75) = 50.59\n",
        "$$\n",
        "\n",
        "And,\n",
        "\n",
        "$$\\hat{E}(\\mathtt{bill\\_length\\_mm} \\mid \\mathtt{body\\_mass\\_g} = 4201.75, \\mathtt{species}=\\mathtt{Gentoo}) = 28.48 + 0.004(4201.75) = 44.23$$\n",
        "\n",
        "The code below produces the effect plot for `species`. The confidence intervals of the mean response for each level of `species` are indicated by the vertical bars."
      ],
      "id": "7368203d-a482-4564-bae6-3c9548dfbaf5"
    },
    {
      "cell_type": "code",
      "execution_count": null,
      "metadata": {},
      "outputs": [],
      "source": [
        "plot(predictorEffect(\"species\", lmodp))"
      ],
      "id": "95bb0d5c-cce9-4802-980a-96ac2f04c055"
    },
    {
      "cell_type": "markdown",
      "metadata": {},
      "source": [
        "### Coefficient interpretation for separate lines models\n",
        "\n",
        "Consider a separate lines model with a numeric regressor $X$ and a categorical predictor $C$ with levels $L_1$, $L_2$, and $L_3$.\n",
        "\n",
        "The predictor $C$ will be transformed into two indicator variables, $D_2$ and $D_3$, for category levels $L_2$ and $L_3$, with $L_1$ being the reference level.\n",
        "\n",
        "The separate lines model is formulated as: $$\n",
        "E(Y \\mid X, C) = \\beta_{int} + \\beta_{X} X + \\beta_{L_2} D_2 +  \\beta_{L_3} D_3 + \\beta_{XL_2} XD_2+\\beta_{XL_3}XD_3\n",
        "$$\n",
        "\n",
        "When an observation has level $L_1$ and $X=x^*$, the expected response is\n",
        "\n",
        "$$\n",
        "\\begin{aligned}\n",
        "&E(Y\\mid X = x^*, C=L_1) \\\\\n",
        "&= \\beta_{int} + \\beta_X \\cdot x^* + \\beta_{L_2} \\cdot 0 + \\beta_{L_3} \\cdot 0  + \\beta_{X L_2} \\cdot x^* \\cdot 0 + \\beta_{X L_3}\\cdot x^* \\cdot 0 \\\\\n",
        "&= \\beta_{int} + \\beta_X x^*.\n",
        "\\end{aligned}\n",
        "$$\n",
        "\n",
        "We can verify that:\n",
        "\n",
        "-   $\\beta_{int} = E(Y\\mid X = 0, C=L_1)$.\n",
        "-   $\\beta_{X} = E(Y\\mid X = x^* + 1, C=L_1) - E(Y\\mid X = x^*, C=L_1)$.\n",
        "\n",
        "Similarly, when $C=L_2$,\n",
        "\n",
        "$$\n",
        "\\begin{aligned}\n",
        "& E(Y|X = x^*, C=L_2) \\\\\n",
        "&= \\beta_{int} + \\beta_X \\cdot x^* + \\beta_{L_2} \\cdot 1 + \\beta_{L_3} \\cdot 0  + \\beta_{X L_2} \\cdot x^* \\cdot 1 + \\beta_{X L_3}\\cdot x^* \\cdot 0 \\\\\n",
        "&= \\beta_{int} + \\beta_X x^* + \\beta_{L_2} + \\beta_{XL_2}x^*\\\\\n",
        "&= (\\beta_{int} + \\beta_{L_2}) + (\\beta_X + \\beta_{XL_2})x^*\n",
        "\\end{aligned}\n",
        "$$\n",
        "\n",
        "Following this same pattern, when $C=L_3$ we have\n",
        "\n",
        "$$\n",
        "E(Y|X = x^*, C=L_3) = (\\beta_{int} + \\beta_{L_3}) + (\\beta_X + \\beta_{XL_3})x^*\n",
        "$$\n",
        "\n",
        "We can verify that for $j=2,3$,\n",
        "\n",
        "$$\\beta_{L_j}= E(Y\\mid X = 0, C=L_j) - E(Y\\mid X = 0, C=L_1)$$\n",
        "\n",
        "And, $$\n",
        "\\begin{aligned}\n",
        "& \\beta_{XL_j} \\\\\n",
        "&= [E(Y\\mid X = x^*+1, C=L_j) - E(Y\\mid X = x^*, C=L_j)]\\\\\n",
        "&\\quad-[E(Y\\mid X = x^*+1, C=L_1) - E(Y\\mid X = x^*, C=L_1)].\n",
        "\\end{aligned}\n",
        "$$\n",
        "\n",
        "To summarize the interpretation of the coefficients in separate lines models, assuming categorical predictor $C$ has $K$ levels instead of 3:\n",
        "\n",
        "-   $\\beta_{int}$ represents the expected response for observations having the reference level when the numeric regressor $X = 0$.\n",
        "-   $\\beta_{L_j}$, for $j=2,\\ldots,K$, represents the expected change in the response when comparing observations having level $L_1$ and $L_j$ with $X=0$.\n",
        "-   $\\beta_X$ represents the expected change in the response when $X$ increases by 1 unit for observations having the reference level.\n",
        "-   $\\beta_X L_j$, for $j=2,\\ldots,K$, represents the difference in the expected response between observations having the reference level in comparison to level $L_j$ when $X$ increases by 1 unit. More simply, these terms represent the difference in the rate of change for observations having level $L_j$ compared to the reference level.\n",
        "\n",
        "We illustrate these interpretation using the separate lines model to the `penguins` data. The fitted separate lines model was,\n",
        "\n",
        "$$\n",
        "\\begin{aligned}\n",
        "&\\hat{E}(\\mathtt{bill\\_length\\_mm} \\mid \\mathtt{body\\_mass\\_g}, \\mathtt{species}) \\\\\n",
        "&= 26.99 + 0.003 \\mathtt{body\\_mass\\_g} + 5.18 D_C - 0.25 D_G \\\\\n",
        "&\\quad + 0.001 D_C \\mathtt{body\\_mass\\_g} + 0.0009 D_G \\mathtt{body\\_mass\\_g}.\n",
        "\\end{aligned}\n",
        "$$\n",
        "\n",
        "In the context of this model:\n",
        "\n",
        "-   The expected bill length for an Adelie penguin with a body mass of 0 grams is 26.99 mm.\n",
        "-   If an Adelie penguin has a body mass 1 gram larger than another Adelie penguin, then the larger penguin is expected to have a bill length 0.003 mm longer than the smaller penguin.\n",
        "-   A Chinstrap penguin is expected to have a bill length 5.18 mm longer than an Adelie penguin when both have a body mass of 0 grams.\n",
        "-   A Gentoo penguin is expected to have a bill length 0.25 mm shorter than an Adelie penguin when both have a body mass of 0 grams.\n",
        "-   For each 1 gram increase in body mass, we expect the change in bill length by Chinstrap penguins to be 0.001 mm larger than the corresponding change in bill length by Adelie penguins.\n",
        "-   For each 1 gram increase in body mass, we expect the change in bill length by Gentoo penguins to be 0.0009 mm larger than the corresponding change in bill length by Adelie penguins.\n",
        "\n",
        "### Effect plots for interacting categorical predictors\n",
        "\n",
        "We now discuss construction of effect plots for a separate lines model, which has an interaction between a categorical and numeric predictor.\n",
        "\n",
        "Fox et al. (2020) also discuss predictors in the *conditioning group*, which is the set of predictors that interact with the focal predictor.\n",
        "\n",
        "When some predictors interact with the focal predictor, the effect plot of the focal predictor is a plot of the estimated mean response when the fixed group predictors are held at their typical values and the conditioning group predictors vary over different combinations of discrete values.\n",
        "\n",
        "By default, to compute the estimated mean response as a function of the focal predictor, we:\n",
        "\n",
        "-   Hold the numeric fixed group predictors at their sample means.\n",
        "-   Average the estimated mean response equation across the different levels of a fixed group categorical predictor, with weights equal to the number of observations with each level.\n",
        "-   Compute the estimated mean response function for 5 discrete values of numeric predictors in the conditioning group.\n",
        "-   Compute the estimated mean response function for different levels of a categorical predictor in the conditioning group.\n",
        "\n",
        "We provide examples of the effect plots for the `body_mass_g` and `species` predictors for the separate lines model fit to the `penguins` data. We first run the code below to fit the separate lines model we previously fit:"
      ],
      "id": "22d33f23-6ea6-4203-a366-56d2be28c4da"
    },
    {
      "cell_type": "code",
      "execution_count": null,
      "metadata": {},
      "outputs": [],
      "source": [
        "# fit separate lines model\n",
        "lmods <- lm(bill_length_mm ~ body_mass_g + species + body_mass_g:species,\n",
        "            data = penguins)\n",
        "# extract estimated coefficients\n",
        "coef(lmods)"
      ],
      "id": "c2de0322-d069-43ef-a68e-0147b62ad3bc"
    },
    {
      "cell_type": "markdown",
      "metadata": {},
      "source": [
        "We previously determined that the model simplifies depending on the level of species:\n",
        "\n",
        "$$\n",
        "\\begin{aligned}\n",
        "&\\hat{E}(\\mathtt{bill\\_length\\_mm} \\mid \\mathtt{body\\_mass\\_g}, \\mathtt{species}=\\mathtt{Adelie}) \\\\\n",
        "&= 26.99 + 0.003 \\mathtt{body\\_mass\\_g},\\\\\n",
        "&\\hat{E}(\\mathtt{bill\\_length\\_mm} \\mid \\mathtt{body\\_mass\\_g}, \\mathtt{species}=\\mathtt{Chinstrap}) \\\\\n",
        "&= 31.17 + 0.004 \\mathtt{body\\_mass\\_g},\\\\\n",
        "&\\hat{E}(\\mathtt{bill\\_length\\_mm} \\mid \\mathtt{body\\_mass\\_g}, \\mathtt{species}=\\mathtt{Chinstrap}) \\\\\n",
        "&= 26.74 + 0.004 \\mathtt{body\\_mass\\_g}.\n",
        "\\end{aligned}\n",
        "$$\n",
        "\n",
        "The effect plot of `body_mass_g` for the separate lines model is displayed using the code below.\n",
        "\n",
        "-   The `axes` argument rotates the x-axis labels (otherwise the text overlaps)\n",
        "-   The `lines` argument displays all three lines in one graphic instead of a separate panel for each level of `species`."
      ],
      "id": "1abf6645-c149-4a81-9274-192f62847e64"
    },
    {
      "cell_type": "code",
      "execution_count": null,
      "metadata": {},
      "outputs": [],
      "source": [
        "# effect plot of body mass for separate lines model\n",
        "# axes ... rotates the x-axis labels 90 degrees\n",
        "# lines ... plots the effect of body mass in one graphic\n",
        "plot(predictorEffect(\"body_mass_g\", lmods),\n",
        "     axes = list(x = list(rotate = 90)),\n",
        "     lines = list(multiline = TRUE))"
      ],
      "id": "55e25b20-a46c-4f32-b2f3-0c6209f765cd"
    },
    {
      "cell_type": "markdown",
      "metadata": {},
      "source": [
        "Interpretation:\n",
        "\n",
        "-   Chinstrap penguins tend to have the largest bill lengths for a given value of body mass and the bill lengths increase more quickly as a function of body mass then for the Adelie and Gentoo penguins.\n",
        "-   Adelie penguins tend to have the smallest bill length for a fixed value of body mass and the bill length tends to increase more slowly as body mass increases compared to the other two types of penguins.\n",
        "\n",
        "The effect plot of `species` for the separate lines model will be a plot of the estimated mean response for each level of `species` when varying `body_mass_g` over 5 discrete values.\n",
        "\n",
        "By specifying `lines = list(multiline = TRUE)`, the estimated mean responses for each level of `species` are connected for each discrete value of `body_mass_g`.\n",
        "\n",
        "This plot allows us to determine the effect of `species` on `bill_length_mm` when we vary `body_mass_g` over 5 discrete values."
      ],
      "id": "d9635576-827f-4325-bab3-49a73afe7666"
    },
    {
      "cell_type": "code",
      "execution_count": null,
      "metadata": {},
      "outputs": [],
      "source": [
        "# effect plot of body mass for separate lines model\n",
        "# axes ... rotates the x-axis labels 90 degrees\n",
        "# lines ... plots the effect of species in one graphic\n",
        "plot(predictorEffect(\"species\", lmods),\n",
        "     axes = list(x = list(rotate = 90)),\n",
        "     lines=list(multiline = FALSE))"
      ],
      "id": "199ec7d5-dece-4b00-af99-fefd085c96a7"
    },
    {
      "cell_type": "markdown",
      "metadata": {},
      "source": [
        "Interpretation: When varying `body_mass_g` across the values 2700, 3600, 4500, 5300, and 6300 g, we see greater changes in the estimated mean of `bill_lengh_mm` for Chinstrap penguins in comparison to Adelie and Gentoo penguins.\n",
        "\n",
        "For more details about how to construct effect plots, run the following code to access the “vignette”."
      ],
      "id": "4f81dbde-3627-4f93-91d2-2aea1f001647"
    },
    {
      "cell_type": "code",
      "execution_count": null,
      "metadata": {},
      "outputs": [],
      "source": [
        "vignette(\"predictor-effects-gallery\", package = \"effects\")"
      ],
      "id": "e990bca5-1877-400f-b8b1-0eb13ca9e263"
    },
    {
      "cell_type": "markdown",
      "metadata": {},
      "source": [
        "# Added-variable and leverage plots\n",
        "\n",
        "## Added-variable plots\n",
        "\n",
        "As we saw before, an *effect plot* is a plot of the estimated mean relationship between the response and a focal predictor while holding the model’s predictors at typical values,\n",
        "\n",
        "An *added-variable plot* or *partial regression plot* displays the marginal effect of a regressor on the response after accounting for the other regressors in the model. An added-variable plot is a plot of two sets of residuals against one other.\n",
        "\n",
        "We create an added-variable plot for regressor $X_j$ in the following way:\n",
        "\n",
        "1.  Compute the residuals of the model regressing the response $Y$ on all regressors except $X_j$. We denote these residuals $\\hat{\\boldsymbol{\\epsilon}}(Y\\mid \\mathbb{X}_{-j})$. These residuals represent the variation in the response variable not explained by the regressors in $\\mathbb{X}_{-j}$.\n",
        "2.  Compute the residuals of the model regressing the regressor $X_j$ on all regressors except $X_j$. We denote these residuals $\\hat{\\boldsymbol{\\epsilon}}(X_j \\mid \\mathbb{X}_{-j})$. These residuals represent the variation in $X_j$ not explained by the regressors in $\\mathbb{X}_{-j}$. Alternatively, these residuals represent the amount of additional information $X_j$ provides after accounting for the regressors in $\\mathbb{X}_{-j}$.\n",
        "3.  The added-variable plot for $X_j$ is a plot of $\\hat{\\boldsymbol{\\epsilon}}(Y\\mid \\mathbb{X}_{-j})$ on the y-axis and $\\hat{\\boldsymbol{\\epsilon}}(X_j \\mid \\mathbb{X}_{-j})$ on the x-axis.\n",
        "\n",
        "Added-variable plots allow us to visualize the impact a regressor has when added to an existing regression model. We can use the added-variable plot for $X_j$ to visually estimate the partial slope $\\hat{\\beta}_{j}$. The simple linear regression line that minimizes the RSS for the added-variable plot of $X_j$ will have slope $\\hat{\\beta}_j$.\n",
        "\n",
        "We can use an added-variable plot in several ways:\n",
        "\n",
        "1.  To assess the marginal relationship between $X_j$ and $Y$ after accounting for all of the other variables in the model.\n",
        "2.  To assess the strength of this marginal relationship.\n",
        "3.  To identify deficiencies in our fitted model.\n",
        "4.  To identify outliers and observations influential in determining the estimated partial slope.\n",
        "\n",
        "In regards to point 1 and 2:\n",
        "\n",
        "-   If the added-variable plot for $X_j$ is essentially a scatter of points with slope zero, then $X_j$ can do little to explain $Y$ after accounting for the other regressors.\n",
        "-   If the points in an added-variable plot for $X_j$ have a linear relationship, then adding $X_j$ to the model regressing $Y$ on $\\mathbb{X}_{-j}$ is expected to improve our model’s ability to predict the behavior of $Y$.\n",
        "-   If the points in an added-variable plot for $X_j$ are curved, it indicates that that there is a deficiency in the fitted model (likely because we need to include one or more additional regressors in the model)."
      ],
      "id": "eff3ae7a-1946-49e0-b04f-203a4a5fe0de"
    },
    {
      "cell_type": "code",
      "execution_count": null,
      "metadata": {},
      "outputs": [
        {
          "output_type": "display_data",
          "metadata": {},
          "data": {
            "image/png": "[encoded data removed]"
          }
        }
      ],
      "source": [],
      "id": "dd7d818e-2b86-4056-97a4-2b65d8d00e6f"
    },
    {
      "cell_type": "markdown",
      "metadata": {},
      "source": [
        "**Question:** What do the three plots tell us about our model?\n",
        "\n",
        "From the **car** package, the `avPlot` function will produce an added-variable plot for a single regressor while the `avPlots` function will produce added-variable plots for one or more regressors.\n",
        "\n",
        "The main arguments to the `avPlot` function are:\n",
        "\n",
        "-   `model`: the fitted `lm` (or `glm`) object.\n",
        "-   `variable`: the regressor for which to create an added-variable plot.\n",
        "-   `id`: a logical value indicating whether unusual observations should be identified. By default, the value is `TRUE`, which means the 2 points with the largest residuals and the 2 points with the largest partial leverage are identified, though this can be customized.\n",
        "\n",
        "The `avPlots` function replaces the `variable` argument with the `terms` argument.\n",
        "\n",
        "The `terms` argument should be a one-sided formula to indicate the regressors for which we want to construct added-variable plots (one plot for each term).\n",
        "\n",
        "We now create and interpret added-variable plots for the model regressing `bill_length_mm` on `body_mass_g` and `flipper_length_mm`.\n",
        "\n",
        "We first load the **car** package."
      ],
      "id": "f9921af1-e0c8-4ddd-9bc7-4cf2b504168b"
    },
    {
      "cell_type": "code",
      "execution_count": null,
      "metadata": {},
      "outputs": [],
      "source": [
        "library(car)"
      ],
      "id": "c60b74b0-2d93-4220-ac55-0642d07bdfb2"
    },
    {
      "cell_type": "markdown",
      "metadata": {},
      "source": [
        "We then create the added-variable plots for our fitted model."
      ],
      "id": "dd164e66-d744-4ba7-aa9c-d947e1989fa5"
    },
    {
      "cell_type": "code",
      "execution_count": null,
      "metadata": {},
      "outputs": [],
      "source": [
        "# create added-variable plots for all regressors in mlmod\n",
        "avPlots(mlmod)"
      ],
      "id": "62d9f117-587f-4435-9145-1d3dbe82424e"
    },
    {
      "cell_type": "markdown",
      "metadata": {},
      "source": [
        "The blue line is the simple linear regression model that minimizes the RSS of the points.\n",
        "\n",
        "**Question:** Which variable seems to have more explanatory power?\n",
        "\n",
        "To create the added-variable plots for all regressors in the parallel lines model from `penguins` data, we use the fitted model:\n",
        "\n",
        "$$\n",
        "\\begin{aligned}\n",
        "&\\hat{E}(\\mathtt{bill\\_length\\_mm} \\mid \\mathtt{body\\_mass\\_g}, \\mathtt{species})\\\\\n",
        "&= 24.92 + 0.004 \\mathtt{body\\_mass\\_g} + 9.92 D_C + 3.56 D_G,\n",
        "\\end{aligned}\n",
        "$$\n",
        "\n",
        "where $D_C$ and $D_G$ are indicator variables for the Chinstrap and Gentoo penguin species (Adelie penguins are the reference species)."
      ],
      "id": "0e279cb3-26a6-419c-824c-9a43b67e58d0"
    },
    {
      "cell_type": "code",
      "execution_count": null,
      "metadata": {},
      "outputs": [],
      "source": [
        "avPlots(lmodp)"
      ],
      "id": "732e65e3-3d6a-45d2-93ce-ecc6725d67f4"
    },
    {
      "cell_type": "markdown",
      "metadata": {},
      "source": [
        "**Questions:**\n",
        "\n",
        "-   How should we interpret the relative strength of the linear relationships?\n",
        "-   Is there any clustering apparent?\n",
        "\n",
        "## Leverage Plots\n",
        "\n",
        "It sometimes doesn’t make sense to talk about the effect of adding a single regressor when all of the other regressors are in the model.\n",
        "\n",
        "-   When we add a categorical predictor to our model, we simultaneously add $K-1$ indicator variables as regressors; we do not add the indicator variables one-at-a-time.\n",
        "\n",
        "We refer to regressors with this behavior as “multiple degrees-of-freedom terms”.\n",
        "\n",
        "-   A categorical variable with 3 or more levels is the most basic multiple degrees-of-freedom term.\n",
        "-   We could also consider regressors related to the interaction between two or more predictors, polynomial regressors, etc.\n",
        "\n",
        "A *leverage plot* allows us to visualize the impact of multiple degrees-of-freedom terms. The interpretation of leverage plots is similar to the interpretation of added-variable plots, though we refer to “predictors” or “terms” instead regressors (which may be combined into one plot).\n",
        "\n",
        "The `leveragePlot` and `leveragePlots` functions in the `car` package produce single or multiple leverage plots, respectively, with arguments similar to the `avPlot` and `avPlots` functions."
      ],
      "id": "27bd8c45-0610-4419-a61e-0ae59cb448e7"
    },
    {
      "cell_type": "code",
      "execution_count": null,
      "metadata": {},
      "outputs": [],
      "source": [
        "leveragePlots(lmodp)"
      ],
      "id": "241bf22a-369f-49b9-af49-95649f2bac1b"
    },
    {
      "cell_type": "markdown",
      "metadata": {},
      "source": [
        "Interpretation:\n",
        "\n",
        "-   The leverage plot for `body_mass_g` has a moderate linear relationship, so we expect `body_mass_g` to have moderate value in explaining the behavior of `bill_length_mm` after accounting for `species`\n",
        "-   The points in the leverage plot for `species` have a moderately strong linear relationship, so we expect `species` to have moderate value in explaining the behavior of `bill_length_mm` after accounting for `body_mass_g`.\n",
        "\n",
        "We next examine the leverage plot for the separate lines model fit to the `penguins` data. The fitted separate lines model is:\n",
        "\n",
        "$$\n",
        "\\begin{aligned}\n",
        "&\\hat{E}(\\mathtt{bill\\_length\\_mm} \\mid \\mathtt{body\\_mass\\_g}, \\mathtt{species}) \\\\\n",
        "&= 26.99 + 0.003 \\mathtt{body\\_mass\\_g} + 5.18 D_C - 0.25 D_G \\\\\n",
        "&\\quad + 0.001 D_C \\mathtt{body\\_mass\\_g} + 0.0009 D_G \\mathtt{body\\_mass\\_g},\n",
        "\\end{aligned}\n",
        "$$\n",
        "\n",
        "There are 6 estimated coefficients, but the fitted model has only 3 non-intercept terms. Recall the formula we fit for the separate lines model:"
      ],
      "id": "a8dcaa75-7258-47b8-981e-2a938f418c1c"
    },
    {
      "cell_type": "code",
      "execution_count": null,
      "metadata": {},
      "outputs": [],
      "source": [
        "# function call for separate lines model\n",
        "lm(formula = bill_length_mm ~ body_mass_g + species + body_mass_g:species, data = penguins)"
      ],
      "id": "fe1dcf33-8959-4d51-9813-993d09078fd7"
    },
    {
      "cell_type": "markdown",
      "metadata": {},
      "source": [
        "Thus, we have terms for `body_mass_g`, `species`, and the interaction term `body_mass_g:species`.\n",
        "\n",
        "We use the code below to create the leverage plots:"
      ],
      "id": "6fd23b17-6c40-4f9b-9d93-22e9e07c0922"
    },
    {
      "cell_type": "code",
      "execution_count": null,
      "metadata": {},
      "outputs": [],
      "source": [
        "leveragePlots(lmods)"
      ],
      "id": "f643fa6f-364f-4440-8556-905ca61bbaba"
    },
    {
      "cell_type": "markdown",
      "metadata": {},
      "source": [
        "Interpretation:\n",
        "\n",
        "-   The leverage plot for `body_mass_g` has a moderate linear relationship, so we expect `body_mass_g` to have moderate additional value in explaining the behavior of `bill_length_mm` after accounting for `species` and the interaction term `body_mass_g:species`.\n",
        "    -   It is unlikely we would include the `body_mass_g:species` term in our model prior to including `body_mass_g`, so philosophically, this plot provides little useful information.\n",
        "-   Interpreting the leverage plot for `species` has limited utility because the leverage plot includes the influence of the interaction term `body_mass_g:species`.\n",
        "    -   We are unlikely to fit a model that includes the interaction term without also including the `species` term directly. Instead it makes more sense to judge the utility of adding `species` to the model regressing `bill_length_mm` on `body_mass_g` alone, which we already considered.\n",
        "-   Examining the leverage plot for the interaction term `body_mass_g:species`, we see the points have only a weak linear relationship. Thus, we expect limited utility in adding the interaction term `body_mass_g:species` to the parallel lines regression model that regresses `bill_length_mm` on `body_mass_g` and `species`.\n",
        "\n",
        "# Going deeper\n",
        "\n",
        "## Orthogonality\n",
        "\n",
        "Let\n",
        "\n",
        "$$\\mathbf{X}_{[j]}=[x_{1,j},\\ldots,x_{n,j}]$$\n",
        "\n",
        "denote the $n\\times 1$ column vector of observed values for regressor the $j$th column of $\\mathbf{X}$.\n",
        "\n",
        "-   We can’t use the notation $\\mathbf{x}_j$ because that is the $p\\times 1$ vector of regressor values for the $j$th observation.\n",
        "\n",
        "Regressors $\\mathbf{X}_{[j]}$ and $\\mathbf{X}_{[k]}$ are *orthogonal* if $\\mathbf{X}_{[j]}^T \\mathbf{X}_{[k]}=0$.\n",
        "\n",
        "Let $\\boldsymbol{1}_{n\\times1}$ denote an $n\\times 1$ column vector of 1s.\n",
        "\n",
        "The definition of orthogonal vectors above implies that $\\mathbf{X}_{[j]}$ is orthogonal to $\\boldsymbol{1}_{n\\times1}$ if\n",
        "\n",
        "$$\n",
        "\\mathbf{X}_{[j]}^T \\boldsymbol{1}_{n\\times1} = \\sum_{i=1}^n x_{i,j} = 0,$$\n",
        "\n",
        "i.e., if the values in $\\mathbf{X}_{[j]}$ sum to zero.\n",
        "\n",
        "Let $\\bar{x}_j = \\frac{1}{n}\\sum_{i=1}^n x_{i,j}$ denote the sample mean of $\\mathbf{X}_{[j]}$ and $\\bar{\\mathbf{X}}_{[j]} = \\bar{x}_j \\boldsymbol{1}_{n\\times 1}$ denote the column vector that repeats $\\bar{x}_j$ $n$ times.\n",
        "\n",
        "*Centering* $\\mathbf{X}_{[j]}$ involves subtracting the sample mean of $\\mathbf{X}_{[j]}$ from $\\mathbf{X}_{[j]}$, i.e., $\\mathbf{X}_{[j]} - \\bar{\\mathbf{X}}_{[j]}$.\n",
        "\n",
        "Regressors $\\mathbf{X}_{[j]}$ and $\\mathbf{X}_{[k]}$ are *uncorrelated* if they are orthogonal after being centered, i.e., if\n",
        "\n",
        "$$\n",
        "(\\mathbf{X}_{[j]} - \\bar{\\mathbf{X}}_{[j]})^T (\\mathbf{X}_{[k]} - \\bar{\\mathbf{X}}_{[k]})=0.\n",
        "$$\n",
        "\n",
        "Note that the sample covariance between vectors $\\mathbf{X}_{[j]}$ and $\\mathbf{X}_{[k]}$ is\n",
        "\n",
        "$$\n",
        "\\begin{aligned}\n",
        "\\widehat{\\mathrm{cov}}(\\mathbf{X}_{[j]}, \\mathbf{X}_{[k]}) &= \\frac{1}{n-1}\\sum_{i=1}^n (x_{i,j} - \\bar{x}_j)(x_{i,k} - \\bar{x}_k) \\\\\n",
        " &= \\frac{1}{n-1}(\\mathbf{X}_{[j]} - \\bar{\\mathbf{X}}_{[j]})^T (\\mathbf{X}_{[k]} - \\bar{\\mathbf{X}}_{[k]}).\n",
        "\\end{aligned}\n",
        "$$\n",
        "\n",
        "Thus, two centered regressors are orthogonal if their covariance is zero.\n",
        "\n",
        "It is a desirable to have orthogonal regressors in our fitted model because they simplify estimating the relationship between the regressors and the response.\n",
        "\n",
        "*If a regressor is orthogonal to all other regressors (and the column of 1s) in a model, adding or removing the orthogonal regressor from our model will not impact the estimated regression coefficients of the other regressors.*\n",
        "\n",
        "Since most linear regression models include an intercept, we should assess whether our regressors are orthogonal to other regressors and the column of 1s.\n",
        "\n",
        "We consider a simple example with $n=5$ observations to demonstrate how orthogonality of regressors impacts the estimated regression coefficients. In the code below:\n",
        "\n",
        "-   `y` is a vector of response values.\n",
        "-   `ones` is the column vector of 1s.\n",
        "-   `X1` is a column vector of regressor values.\n",
        "-   `X2` is a column vector of regressor values chosen to be orthogonal to `X1` but not to `ones`.\n",
        "\n",
        "In the code below, we define vectors `y`, `X1`, and `X2`."
      ],
      "id": "9f1a86fe-fb37-46b9-80c9-210758166d26"
    },
    {
      "cell_type": "code",
      "execution_count": null,
      "metadata": {},
      "outputs": [],
      "source": [
        "y <- c(1, 4, 6, 8, 9)       # create an arbitrary response vector\n",
        "X1 <- c(7, 5, 5, 7, 7)      # create regressor 1\n",
        "X2 <- c(-1, 2, -3, 1, 5/7)  # create regressor 2 to be orthogonal to X1"
      ],
      "id": "7fc7c249-0b55-48a8-90f4-c999f17fcea0"
    },
    {
      "cell_type": "markdown",
      "metadata": {},
      "source": [
        "Note that the `crossprod` function computes the cross product of two vectors or matrices, so that `crossprod(A, B)` computes $\\mathbf{A}^T \\mathbf{B}$, where the vectors or matrices must have the correct dimension for the multiplication to be performed.\n",
        "\n",
        "The regressor vectors `X1` and `X2` are orthogonal since their cross product $\\mathbf{X}_{[1]}^T \\mathbf{X}_{[2]}$ is 0."
      ],
      "id": "00e071ec-337e-41bc-ace1-6fcad412b33c"
    },
    {
      "cell_type": "code",
      "execution_count": null,
      "metadata": {},
      "outputs": [],
      "source": [
        "crossprod(X1, X2)"
      ],
      "id": "5a6d9af8-47f7-4b5e-a17d-632cbaa84e31"
    },
    {
      "cell_type": "markdown",
      "metadata": {},
      "source": [
        "In the code below, we regress `y` on `X1` without an intercept (`lmod1`).\n",
        "\n",
        "-   The estimated coefficient for `X1` is $\\hat{\\beta}_1=0.893$."
      ],
      "id": "028942e0-10dc-4c13-95f9-f363d80aaf81"
    },
    {
      "cell_type": "code",
      "execution_count": null,
      "metadata": {},
      "outputs": [],
      "source": [
        "# y regressed on X1 without an intercept\n",
        "lmod1 <- lm(y ~ X1 - 1)\n",
        "coef(lmod1)"
      ],
      "id": "dac23b46-ccad-4274-9e95-dd2803692a9e"
    },
    {
      "cell_type": "markdown",
      "metadata": {},
      "source": [
        "Next, we regress `y` on `X1` and `X2` without an intercept (`lmod2`).\n",
        "\n",
        "-   The estimated coefficients for `X1` and `X2` are $\\hat{\\beta}_1=0.893$ and $\\hat{\\beta}_2=0.221$, respectively.\n",
        "-   `X1` and `X2` are orthogonal, so the estimated coefficient for `X1` stays the same as in `lmod1`."
      ],
      "id": "a187278d-7d18-47ba-a1e4-7418676001f6"
    },
    {
      "cell_type": "code",
      "execution_count": null,
      "metadata": {},
      "outputs": [],
      "source": [
        "# y regressed on X1 and X2 without an intercept\n",
        "lmod2 <- lm(y ~ X1 + X2 - 1)\n",
        "coef(lmod2)"
      ],
      "id": "76e3bca8-5c5a-458f-821b-1ca9e7ba7d71"
    },
    {
      "cell_type": "markdown",
      "metadata": {},
      "source": [
        "We usually include an intercept coefficient (a columns of 1s as a regressor) in our model.\n",
        "\n",
        "If the regressors are not orthogonal to the column of 1s in our $\\mathbf{X}$ matrix, then the coefficients for the other regressors in the model will change when the regressors are added or removed from the model because they are not orthogonal to the column of 1s.\n",
        "\n",
        "We create a column of 1s below."
      ],
      "id": "9da429cd-c98b-40ec-be9e-b54638bda770"
    },
    {
      "cell_type": "code",
      "execution_count": null,
      "metadata": {},
      "outputs": [],
      "source": [
        "ones <- rep(1, 5)   # column of 1s"
      ],
      "id": "5d331a27-513a-4d30-8ce9-9f7d37b71b8b"
    },
    {
      "cell_type": "markdown",
      "metadata": {},
      "source": [
        "Neither `X1` nor `X2` is orthogonal with the column of ones."
      ],
      "id": "e79c48d3-80c5-4917-8dfc-6b9b96554fde"
    },
    {
      "cell_type": "code",
      "execution_count": null,
      "metadata": {},
      "outputs": [],
      "source": [
        "crossprod(ones, X1) # not zero, so not orthogonal"
      ],
      "id": "7840d578-69f9-4d28-b7f5-c2f44599f26c"
    },
    {
      "cell_type": "code",
      "execution_count": null,
      "metadata": {},
      "outputs": [],
      "source": [
        "crossprod(ones, X2) # not zero, so not orthogonal"
      ],
      "id": "cd9a6093-c532-4376-b898-73fd50e7827e"
    },
    {
      "cell_type": "markdown",
      "metadata": {},
      "source": [
        "We create `lmod3` by adding adding a column of ones to `lmod2` (i.e., if we include the intercept in the model).\n",
        "\n",
        "The coefficients for both `X1` and `X2` change when going from `lmod2` to `lmod3` because these regressors are not orthogonal to the column of 1s.\n",
        "\n",
        "Comparing the coefficients `lmod2` above and `lmod3`, $\\hat{\\beta}_1$ changes from $0.893$ to $0.397$ and $\\hat{\\beta}_2$ changes from $0.221$ to $0.279$."
      ],
      "id": "3ca74742-a12d-488f-a9e7-6dc0547ea887"
    },
    {
      "cell_type": "code",
      "execution_count": null,
      "metadata": {},
      "outputs": [],
      "source": [
        "# y regressed on X1 and X2 with an intercept\n",
        "lmod3 <- lm(y ~ X1 + X2)\n",
        "coef(lmod3) # coefficients for lmod3"
      ],
      "id": "3afd9190-0909-4142-ba86-f5decd88228b"
    },
    {
      "cell_type": "markdown",
      "metadata": {},
      "source": [
        "For orthogonality of our regressors to be most impactful, the model’s regressors should be orthogonal to each other and the column of 1s. In that context, adding or removing any of the regressors doesn’t impact the estimated coefficients of the other regressors.\n",
        "\n",
        "In the code below, we define centered regressors `X3` and `X4` to be uncorrelated, i.e., `X3` and `X4` have sample mean zero and are orthogonal to each other."
      ],
      "id": "1ae06ba1-aa32-404f-ad6d-12cdd90a88f8"
    },
    {
      "cell_type": "code",
      "execution_count": null,
      "metadata": {},
      "outputs": [],
      "source": [
        "X3 <-  c(0, -1, 1, 0, 0) # sample mean is zero\n",
        "X4 <- c(0, 0, 0, 1, -1)  # sample mean is zero\n",
        "cov(X3, X4)              # 0, so X3 and X4 are uncorrelated and orthogonal"
      ],
      "id": "fe3fee35-bda9-408c-972c-e8d9be9694fc"
    },
    {
      "cell_type": "markdown",
      "metadata": {},
      "source": [
        "If we fit linear regression models with any combination of `ones`, `X3`, or `X4` as regressors, the associated regression coefficients will not change."
      ],
      "id": "93dda6a6-10ff-499e-a0f4-922cd0e84614"
    },
    {
      "cell_type": "code",
      "execution_count": null,
      "metadata": {},
      "outputs": [],
      "source": [
        "coef(lm(y ~ 1))           # only column of 1s"
      ],
      "id": "a23b97db-4662-4d94-abf4-c51ddd73122a"
    },
    {
      "cell_type": "code",
      "execution_count": null,
      "metadata": {},
      "outputs": [],
      "source": [
        "coef(lm(y ~ X3 - 1))      # only X3"
      ],
      "id": "be2865ae-20b9-4f92-8c0f-e9d6505d71b8"
    },
    {
      "cell_type": "code",
      "execution_count": null,
      "metadata": {},
      "outputs": [],
      "source": [
        "coef(lm(y ~ X4 - 1))      # only X4"
      ],
      "id": "fa4066c1-cc56-47cf-ab95-248d970c43ec"
    },
    {
      "cell_type": "code",
      "execution_count": null,
      "metadata": {},
      "outputs": [],
      "source": [
        "coef(lm(y ~ X3))          # 1s and X3"
      ],
      "id": "ee8e85ef-36bf-41a8-b3d1-bae915b00694"
    },
    {
      "cell_type": "code",
      "execution_count": null,
      "metadata": {},
      "outputs": [],
      "source": [
        "coef(lm(y ~ X4))          # 1s and X4"
      ],
      "id": "28fd27fd-16d9-43d6-83dd-601e67ff5df5"
    },
    {
      "cell_type": "code",
      "execution_count": null,
      "metadata": {},
      "outputs": [],
      "source": [
        "coef(lm(y ~ X3 + X4 - 1)) # X3 and X4"
      ],
      "id": "d9b14f2f-2011-453a-ac6a-776fb6e71649"
    },
    {
      "cell_type": "code",
      "execution_count": null,
      "metadata": {},
      "outputs": [],
      "source": [
        "coef(lm(y ~ X3 + X4))     # 1s, X3, and X4"
      ],
      "id": "62569362-d7ac-4581-a56a-0d74ee6e9cb4"
    },
    {
      "cell_type": "markdown",
      "metadata": {},
      "source": [
        "Because all the regressors (and the intercept) are orthogonal to each other, adding or removing any regressor doesn’t impact the estimated coefficients for the other regressors in the model.\n",
        "\n",
        "Thus, the estimated coefficients were $\\hat{\\beta}_{0}=5.6$, $\\hat{\\beta}_{3}=1.0$, $\\hat{\\beta}_{4}=-0.5$ when the relevant regressor was included in the model.\n",
        "\n",
        "The easiest way to determine which vectors are orthogonal to each other and the intercept is to compute the cross product of the $\\mathbf{X}$ matrix for the largest set of regressors we are considering. Consider the matrix of cross products for the columns of 1s, `X1`, `X2`, `X3`, and `X4`."
      ],
      "id": "70e1db26-abcc-4238-a034-32182b665ff7"
    },
    {
      "cell_type": "code",
      "execution_count": null,
      "metadata": {},
      "outputs": [],
      "source": [
        "crossprod(model.matrix(~ X1 + X2 + X3 + X4))"
      ],
      "id": "e9c0cb64-8a4c-46af-ae6b-521022502cac"
    },
    {
      "cell_type": "markdown",
      "metadata": {},
      "source": [
        "Consider the sequence of models below."
      ],
      "id": "b547bd85-3d14-4842-9d4f-7866fa2a9d81"
    },
    {
      "cell_type": "code",
      "execution_count": null,
      "metadata": {},
      "outputs": [],
      "source": [
        "coef(lm(y ~ 1))"
      ],
      "id": "0aaf2b69-3056-4343-a9b4-ec3103008e55"
    },
    {
      "cell_type": "markdown",
      "metadata": {},
      "source": [
        "The model with only an intercept has an estimated coefficient of $\\hat{\\beta}_{0}=5.6$.\n",
        "\n",
        "If we add `X1` to the model with an intercept, then the intercept coefficient changes because the column of 1s and `X1` are not orthogonal."
      ],
      "id": "4a4f2dcb-412a-4d05-97e0-4bde594bbaf3"
    },
    {
      "cell_type": "code",
      "execution_count": null,
      "metadata": {},
      "outputs": [],
      "source": [
        "lmod4 <- lm(y ~ X1) # model with 1s and X1\n",
        "coef(lmod4)"
      ],
      "id": "5ed3af7b-ab8c-426c-836b-caedf4bb8dfe"
    },
    {
      "cell_type": "markdown",
      "metadata": {},
      "source": [
        "If we add `X2` to `lmod4`, we might think that only $\\hat{\\beta}_{0}$ will change because `X1` and `X2` are orthogonal to each other. However, because `X2` is not orthogonal to all of the other regressors in the model (`X1` and the column of 1s), both $\\hat{\\beta}_{0}$ and $\\hat{\\beta}_1$ will change. The easiest way to realize this is to look at `lmod2` above with only `X1` and `X2`. When we add the column of 1s to `lmod2`, both $\\hat{\\beta}_1$ and $\\hat{\\beta}_2$ will change because neither regressor is orthogonal to the column of 1s needed to include the intercept term."
      ],
      "id": "4affb0c1-9f6d-45d6-9f42-7d9b48f09dc0"
    },
    {
      "cell_type": "code",
      "execution_count": null,
      "metadata": {},
      "outputs": [],
      "source": [
        "coef(lm(y ~ X1 + X2))"
      ],
      "id": "265482a7-2a41-4983-b9f4-75db42637969"
    },
    {
      "cell_type": "markdown",
      "metadata": {},
      "source": [
        "However, note that `X3` is orthogonal to the column of 1s and `X1`. Thus, if we add `X3` to `lmod4`, which includes both a column of 1s and `X1`, `X3` will not change the estimated coefficients for the intercept or `X1`."
      ],
      "id": "d04f3382-e1d7-4354-96ed-b822ebb884e0"
    },
    {
      "cell_type": "code",
      "execution_count": null,
      "metadata": {},
      "outputs": [],
      "source": [
        "coef(lm(y ~ X1 + X3))"
      ],
      "id": "f56525d8-77e3-4bad-85d4-371c1c376efe"
    },
    {
      "cell_type": "markdown",
      "metadata": {},
      "source": [
        "Additionally, since `X4` is orthogonal to the column of 1s, `X1`, and `X3`, adding `X4` to the previous model will not change the estimated coefficients for any of the other variables already in the model."
      ],
      "id": "de19e2fc-9ef2-49ee-8313-3ed01e237095"
    },
    {
      "cell_type": "code",
      "execution_count": null,
      "metadata": {},
      "outputs": [],
      "source": [
        "coef(lm(y ~ X1 + X3 + X4))"
      ],
      "id": "5b3c26dd-ce4f-42b0-a191-8fab33932c9b"
    },
    {
      "cell_type": "markdown",
      "metadata": {},
      "source": [
        "Lastly, if we can partition our $\\mathbf{X}$ matrix such that $\\mathbf{X}^T \\mathbf{X}$ is a block diagonal matrix, then none of the blocks of variables will affect the estimated coefficients of the other variables.\n",
        "\n",
        "Define a new regressor `X5` below. `X5` is orthogonal to the column of 1s and `X1`, but not `X4`."
      ],
      "id": "304c6444-2da2-4aef-b2c2-35d5b45f23c8"
    },
    {
      "cell_type": "code",
      "execution_count": null,
      "metadata": {},
      "outputs": [],
      "source": [
        "X5 <- c(1, 0, 0, -1, 0) # orthogonal to ones, X1, not X4\n",
        "# note block of 0s\n",
        "crossprod(cbind(ones, X1, X4, X5))"
      ],
      "id": "40790168-8c04-4ece-8aa2-d0272df37246"
    },
    {
      "cell_type": "markdown",
      "metadata": {},
      "source": [
        "Note the block of zeros in the lower left and upper right corners of the cross product matrix above.\n",
        "\n",
        "-   The block containing `ones` and `X1` is orthogonal to the block containing `X4` and `X5`.\n",
        "\n",
        "If we fit the model with only the column of 1s and `X1`, and then fit the model with the column of 1s, `X1`, `X4`, and `x5`, then the coefficients $\\hat{\\beta}_{0}$ and $\\hat{\\beta}_{1}$ are not impacted when `X4` and `X5` are added to the model."
      ],
      "id": "fd7f691b-3857-46a8-b4a0-c0884b2c0b50"
    },
    {
      "cell_type": "code",
      "execution_count": null,
      "metadata": {},
      "outputs": [],
      "source": [
        "lm(y ~ X1)           # model with 1s and X1"
      ],
      "id": "7072f9f5-9b40-467d-8268-f15e60edebee"
    },
    {
      "cell_type": "code",
      "execution_count": null,
      "metadata": {},
      "outputs": [],
      "source": [
        "lm(y ~ X1 + X4 + X5) # model with 1s, X1, X4, x5"
      ],
      "id": "9166c621-8222-41c3-bb5d-a28c5a5dd7c6"
    },
    {
      "cell_type": "markdown",
      "metadata": {},
      "source": [
        "Similarly, $\\hat{\\beta}_{4}$ and $\\hat{\\beta}_{5}$ are not impacted when the column of 1s and `X1` are added to the model with `X4` and `X5`. See the output below."
      ],
      "id": "54420ee3-7e03-4077-af80-57d1e9a4afd0"
    },
    {
      "cell_type": "code",
      "execution_count": null,
      "metadata": {},
      "outputs": [],
      "source": [
        "lm(y ~ X4 + X5 - 1)  # model with X4 and x5 only"
      ],
      "id": "13926356-739a-4529-85a5-822b6cf5d144"
    },
    {
      "cell_type": "code",
      "execution_count": null,
      "metadata": {},
      "outputs": [],
      "source": [
        "lm(y ~ X1 + X4 + X5) # model with 1s, X1, X4, x5"
      ],
      "id": "07186dc0-9b96-43a9-86a8-b9c2b32a4ded"
    }
  ],
  "nbformat": 4,
  "nbformat_minor": 5,
  "metadata": {
    "kernelspec": {
      "name": "ir",
      "display_name": "R",
      "language": "R"
    }
  }
}