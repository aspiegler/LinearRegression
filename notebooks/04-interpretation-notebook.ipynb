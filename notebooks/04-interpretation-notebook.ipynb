{
  "cells": [
    {
      "cell_type": "markdown",
      "metadata": {},
      "source": [
        "# Chapter 4 - Interpreting a Fitted Model\n",
        "\n",
        "Joshua French\n",
        "\n",
        "To open this information in an interactive Colab notebook, click the Open in Colab graphic below.\n",
        "\n",
        "<a href=\"https://colab.research.google.com/github/jfrench/LinearRegression/blob/master/notebooks/04-interpretation-notebook.ipynb\"> <img src=\"https://colab.research.google.com/assets/colab-badge.svg\"> </a>\n",
        "\n",
        "------------------------------------------------------------------------"
      ],
      "id": "42461668-2fed-4297-9252-1df9681b29db"
    },
    {
      "cell_type": "code",
      "execution_count": null,
      "metadata": {},
      "outputs": [],
      "source": [
        "if(!require(palmerpenguins, quietly = TRUE)) {\n",
        "  install.packages(\"palmerpenguins\", repos = \"https://cran.rstudio.com/\")\n",
        "  library(palmerpenguins)\n",
        "}"
      ],
      "id": "eb0288ac-58a0-4140-860b-8b2935a2b24a"
    },
    {
      "cell_type": "code",
      "execution_count": null,
      "metadata": {},
      "outputs": [],
      "source": [
        "if(!require(car, quietly = TRUE)) {\n",
        "  install.packages(\"car\", repos = \"https://cran.rstudio.com/\")\n",
        "  library(car)\n",
        "}"
      ],
      "id": "756f3951-a44a-4fae-9dfb-a68731bf3252"
    },
    {
      "cell_type": "code",
      "execution_count": null,
      "metadata": {},
      "outputs": [],
      "source": [
        "if(!require(effects, quietly = TRUE)) {\n",
        "  install.packages(\"effects\", repos = \"https://cran.rstudio.com/\")\n",
        "  library(effects)\n",
        "}"
      ],
      "id": "94ea3cef-e594-42fd-b89f-5feb47593700"
    },
    {
      "cell_type": "markdown",
      "metadata": {},
      "source": [
        "# Interpretation of coefficients\n",
        "\n",
        "The standard approach to interpreting the coefficients of a fitted linear model is to consider the expected change in the response in relation to changes in the regressors in the model.\n",
        "\n",
        "Consider the typical multiple linear regression model of the response\n",
        "\n",
        "$$\n",
        "Y=\\beta_0+\\beta_1 X_1 +\\ldots + \\beta_{p-1}X_{p-1}+\\epsilon.\n",
        "$$\n",
        "\n",
        "-   We treat the values of our regressor variables as being fixed, known values\n",
        "-   The error term is treated as a random variable\n",
        "-   Consequently, the response variable is also a random variable.\n",
        "\n",
        "**Random Error Assumption**\n",
        "\n",
        "------------------------------------------------------------------------\n",
        "\n",
        "We assume that the errors all have mean 0, conditional on the values of the regressor variables.\n",
        "\n",
        "$$\n",
        "E(\\epsilon \\mid X_1, X_2, \\ldots, X_{p-1})=0.\n",
        "$$ Or, using alternative notation:\n",
        "\n",
        "$$\n",
        "E(\\epsilon \\mid \\mathbb{X})=0.\n",
        "$$\n",
        "\n",
        "**Expected Value of Response**\n",
        "\n",
        "------------------------------------------------------------------------\n",
        "\n",
        "Using the assumption of mean zero errors, we have:\n",
        "\n",
        "</br> </br> </br> </br> </br> </br> </br>\n",
        "\n",
        "Note: All the coefficient $\\beta_i$ terms are fixed, non-random.\n",
        "\n",
        "**Interpretation for simple linear regression**\n",
        "\n",
        "------------------------------------------------------------------------\n",
        "\n",
        "Suppose we have a simple linear regression model, so that $$\n",
        "E(Y\\mid X)=\\beta_0 + \\beta_1 X.\n",
        "$$ The interpretations of the coefficients are:\n",
        "\n",
        "-   $\\beta_0$ is the expected response when the regressor is 0, i.e., $\\beta_0=E(Y\\mid X=0)$.\n",
        "-   $\\beta_1$ is the expected change in the response when the regressor increases 1 unit, i.e., $\\beta_1=E(Y\\mid X=x^*+1)-E(Y\\mid X=x^*)$, where $x^*$ is a fixed, real number.\n",
        "\n",
        "**Interpretation of Intercept**\n",
        "\n",
        "------------------------------------------------------------------------\n",
        "\n",
        "The intercept term $\\beta_0$ is the expected value of the response when $X= 0$.\n",
        "\n",
        "</br> </br> </br>\n",
        "\n",
        "**Interpretation of Slope**\n",
        "\n",
        "------------------------------------------------------------------------\n",
        "\n",
        "Similarly, for $\\beta_1$, we notice that\n",
        "\n",
        "</br> </br> </br> </br> </br> </br> </br>\n",
        "\n",
        "Thus, $\\beta_1$ literally equals the change in the expected response when the regressor increases by 1 unit.\n",
        "\n",
        "It may not make sense to say “we increase $X$ by 1 unit” or “when $X$ increases by 1 unit”. For example??\n",
        "\n",
        "To illustrate the interpretations given above, we interpret the simple linear regression model fit to the `penguins` data. The fitted simple linear regression model of `body_mass_g` regressed on `body_mass_g` is $$\n",
        "\\hat{E}(\\mathtt{bill\\_length\\_mm}\\mid \\mathtt{body\\_mass\\_g})=26.9+0.004 \\,\\mathtt{body\\_mass\\_g}.\n",
        "$$\n",
        "\n",
        "Some basic interpretations of the coefficients are:\n",
        "\n",
        "</br> </br> </br> </br> </br> </br> </br>\n",
        "\n",
        "**Rescaling Predictors to aid Interpretation**\n",
        "\n",
        "------------------------------------------------------------------------\n",
        "\n",
        "-   A weight difference of 1 gram is negligible in the context of penguin weights.\n",
        "-   A bill length change of 0.004 mm is unlikely to be noticed.\n",
        "\n",
        "In the code below, we divide the `body_mass_g` variable by 1000 to convert the variable from grams to kilograms.\n",
        "\n",
        "We then fit the model regressing `bill_length_mm` on `body_mass_kg` and extract the estimated coefficients."
      ],
      "id": "2dba7ef9-0441-4b3b-ba35-e0b5a6f382fa"
    },
    {
      "cell_type": "code",
      "execution_count": null,
      "metadata": {},
      "outputs": [],
      "source": [
        "# load penguins data\n",
        "data(penguins, package = \"palmerpenguins\")\n",
        "# transform body mass variable from g to kg\n",
        "penguins <- penguins |> transform(body_mass_kg = body_mass_g/1000)\n",
        "# fit model with body_mass_kg\n",
        "slmod_scaled <- lm(bill_length_mm ~ body_mass_kg, data = penguins)\n",
        "# extract coefficients\n",
        "coefficients(slmod_scaled)"
      ],
      "id": "c3ad4b56-e09e-43b3-9922-df51693b5670"
    },
    {
      "cell_type": "markdown",
      "metadata": {},
      "source": [
        "**Question**\n",
        "\n",
        "-   How do we reinterpret the model in the context of kilograms?\n",
        "\n",
        "Dividing `body_mass_g` by 1000 resulted in the estimated coefficient changing by a factor of 1000.\n",
        "\n",
        "More generally, if $\\hat{\\beta}_j$ is the estimated coefficient for $X_j$, then the regressor $(X_j + a)/c$ will have an estimated coefficient of $c\\hat{\\beta}_j$, where $a$ and $c$ are fixed, real numbers and assuming nothing else in the fitted model changes.\n",
        "\n",
        "**Interpretation for first-order multiple linear regression models**\n",
        "\n",
        "------------------------------------------------------------------------\n",
        "\n",
        "Suppose we have a multiple linear regression model with $p-1$ *numeric* regressors, so that\n",
        "\n",
        "$$\n",
        "E(Y\\mid X_1,\\ldots,X_{p-1})=\\beta_0 + \\beta_1 X_1 + \\cdots + \\beta_{p-1} X_{p-1}.\n",
        "$$\n",
        "\n",
        "Relying on the definition of $\\mathbb{X}$, we denote the set of regressors without $X_j$ as $\\mathbb{X}_{-j} = \\mathbb{X}\\setminus\\{X_j\\}$.\n",
        "\n",
        "The interpretations of the coefficients from the model in Equation are:\n",
        "\n",
        "-   $\\beta_0$ is the expected response when all regressors are 0, i.e., $\\beta_0=E(Y\\mid X_1=0,\\ldots,X_{p-1}=0)$.\n",
        "-   $\\beta_j$, $j = 1,\\ldots,p-1$, represents the expected change in the response when regressor $j$ increases 1 unit and the other regressors stay the same, i.e., $\\beta_j=E(Y\\mid \\mathbb{X}_{-j} = \\mathbf{x}^*_{-j}, X_{j+1} = x_{j}^*+1)-E(Y\\mid \\mathbb{X}_{-j} = \\mathbf{x}^*_{-j}, X_{j+1} = x_{j}^*)$ where $\\mathbf{x}_{-j}^*=[x^*_1,\\ldots,x_{j-1}^*,x_{j+1}^*,\\ldots,x_{p-1}^*]\\in \\mathbb{R}^{p-2}$ is a vector with $p-2$ fixed values (the number of regressors excluding $X_j$) and $x_j^*$ is a fixed real number. The non-intercept coefficients of a multiple linear regression model are known as *partial slopes*.\n",
        "\n",
        "Regarding the interpretation of $\\beta_0$, from the regression model:\n",
        "\n",
        "$$\n",
        "\\begin{aligned}\n",
        "E(Y\\mid X_1=0,\\ldots,X_{p-1}=0) &= \\beta_0 + \\beta_1 \\cdot 0 + \\cdots + \\beta_{p-1} \\cdot 0\\\\\n",
        "&= \\beta_0.\n",
        "\\end{aligned}\n",
        "$$\n",
        "\n",
        "**Question:**\n",
        "\n",
        "-   Does the interpretation of the intercept always make sense?\n",
        "-   What if $X_1$ was heart rate?\n",
        "\n",
        "**Issues Interpreting Polynomial Models**\n",
        "\n",
        "------------------------------------------------------------------------\n",
        "\n",
        "In multiple regression models, a single predictor can be used more than once in the model.\n",
        "\n",
        "E.g., in the 2nd-degree polynomial regression model:\n",
        "\n",
        "$$E(Y\\mid X) = \\beta_0 + \\beta_1 X + \\beta_2 X^2,$$\n",
        "\n",
        "$X$ is used in both the second and third terms.\n",
        "\n",
        "**Questions**\n",
        "\n",
        "-   How does this affect the interpretation of $\\beta_1$?\n",
        "-   Is is possible to increase $X$ while keeping $X^2$ fixed?\n",
        "\n",
        "The standard interpretation we discussed is applicable to first-order linear regression models.\n",
        "\n",
        "*First-order linear regression model:* no regressor is a function of any other regressor.\n",
        "\n",
        "**Penguins Example Revisited**\n",
        "\n",
        "------------------------------------------------------------------------\n",
        "\n",
        "We interpret the first-order multiple linear regression model fit to the `penguins` data. The fitted multiple linear regression model is:\n",
        "\n",
        "$$\n",
        "\\begin{aligned}\n",
        "&\\hat{E}(\\mathtt{bill\\_length\\_mm}\\mid \\mathtt{body\\_mass\\_g}, \\mathtt{flipper\\_length\\_mm})\\\\\n",
        "&=-3.44+0.0007 \\,\\mathtt{body\\_mass\\_g}+0.22\\,\\mathtt{flipper\\_length\\_mm}.\n",
        "\\end{aligned}\n",
        "$$\n",
        "\n",
        "Some basic interpretations of the coefficients are:\n",
        "\n",
        "-   *Intercept:* We expect a penguin with a body mass of 0 grams and a flipper length of 0 mm to have a bill length of -3.44 mm.\n",
        "-   `body_mass_g`: For two penguins that have the same flipper length but one penguin has a body mass 1 gram larger, we expect the heavier penguin to have a bill length 0.0007 mm longer than the other penguin.\n",
        "-   `flipper_length_mm`: For two penguins with the same body mass but whose flipper lengths differ by 1 mm, we expect the penguin with longer flippers to have a bill length 0.22 mm longer than the other penguin.\n",
        "\n",
        "**Roles of regressor variables**\n",
        "\n",
        "------------------------------------------------------------------------\n",
        "\n",
        "Did you notice that the estimated coefficients for the intercept and the `body_mass_g` regressor changed between the simple model and the multiple regression model?\n",
        "\n",
        "| Regression Model | Intercept Coef. | Body Mass Coef. |\n",
        "|:-----------------|----------------:|----------------:|\n",
        "| Simple Linear    |           26.90 |           0.004 |\n",
        "| Multiple         |           -3.44 |          0.0007 |\n",
        "\n",
        "-   Why?\n",
        "\n",
        "The role a regressor plays in a regression model depends on what other regressors are in the model.\n",
        "\n",
        "-   Generally, we can’t provide a definitive interpretation of a regressor’s role in a fitted model without knowing what other regressors are in the model.\n",
        "-   When interpreting a regressor, it is common to include something like *after accounting for the other variables in the model*.\n",
        "\n",
        "If our model had different variables, then our interpretation would be different!\n",
        "\n",
        "Mathematically, why do the estimated coefficients change as we add or remove regressors from a model?\n",
        "\n",
        "-   If a regressor is correlated with other regressors in a model, then adding or removing that regressor will impact the estimated coefficients in the new model.\n",
        "-   The more correlated the regressors are, the more they tend to affect each others’ estimated coefficients.\n",
        "-   A regressor will impact the estimated coefficients of the other regressors in a model unless it is *orthogonal* to the other regressors.\n",
        "\n",
        "*Note:* Orthogonality is related to correlation, but there are important differences.\n",
        "\n",
        "# Effect plots\n",
        "\n",
        "An effect plot is a visual display that aids in helping us intuitively interpret the impact of a *predictor* in a model. As stated by Fox et al. (2020):\n",
        "\n",
        "> Summarization of the effects of predictors using tables of coefficient estimates is often incomplete. Effects, and particularly plots of effects, can in many instances reveal the relationship of the response to the predictors more clearly. This conclusion is especially true for models with linear predictors that include interactions and multiple-coefficient terms such as regression splines and polynomials ….\n",
        "\n",
        "An *effect plot* is a plot of the estimated mean response as a function of a *focal predictor* with the other *predictors* being held at “typical values”.\n",
        "\n",
        "*Recall:* the difference between predictors and regressors.\n",
        "\n",
        "-   A *predictor* variable is a variable available to model the response variable.\n",
        "-   A *regressor* variable is a variable used in our regression model, whether that is an unmodified predictor variable, some transformation of a predictor, some combination of predictors, etc.\n",
        "\n",
        "**First-Order Model Effect Plot**\n",
        "\n",
        "------------------------------------------------------------------------\n",
        "\n",
        "In a first-order linear model, none of the regressors interact, i.e., none of the regressors are functions of each other.\n",
        "\n",
        "-   Fox et al. (2020) use the terminology *fixed group* to refer to the group of predictors that do not interact with the focal predictor.\n",
        "\n",
        "To create an effect plot, we must first find the equation for the estimated mean response as a function of a focal predictor while holding the other predictors at their “typical” values.\n",
        "\n",
        "-   We set numeric fixed group predictors equal to their sample means when finding this function.\n",
        "\n",
        "We now construct effect plots for the estimated regression model of the `penguins` data that regressed `bill_length_mm` on `body_mass_g` and `flipper_length_mm`.\n",
        "\n",
        "The fitted model is\n",
        "\n",
        "$$\n",
        "\\begin{aligned}\n",
        "&\\hat{E}(\\mathtt{bill\\_length\\_mm}\\mid \\mathtt{body\\_mass\\_g}, \\mathtt{flipper\\_length\\_mm})\\\\\n",
        "&=-3.44+0.0007 \\,\\mathtt{body\\_mass\\_g}+0.22\\,\\mathtt{flipper\\_length\\_mm}.\n",
        "\\end{aligned}\n",
        "$$\n",
        "\n",
        "We fit this model in R below."
      ],
      "id": "02dfc4cb-00c7-4adb-9371-149c76458648"
    },
    {
      "cell_type": "code",
      "execution_count": null,
      "metadata": {},
      "outputs": [],
      "source": [
        "# load penguins data since it hasn't been loaded in this chapter\n",
        "data(penguins, package = \"palmerpenguins\")\n",
        "# refit multiple linear regression model\n",
        "mlmod <- lm(bill_length_mm ~ body_mass_g + flipper_length_mm, data = penguins)\n",
        "# extract estimated coefficients\n",
        "coef(mlmod)"
      ],
      "id": "cea1f133-0f7e-4ffa-a45f-5bb88f9073dc"
    },
    {
      "cell_type": "markdown",
      "metadata": {},
      "source": [
        "There are two predictors in the model, so we can create effect plots for both variables using the sample mean as a reference value.\n",
        "\n",
        "We compute the sample means of the predictors below."
      ],
      "id": "754cd39a-6eb1-4d5f-829b-1434d78cf808"
    },
    {
      "cell_type": "code",
      "execution_count": null,
      "metadata": {},
      "outputs": [],
      "source": [
        "colMeans(mlmod$model)"
      ],
      "id": "6455fb9c-9ee1-4700-8b03-fc416bef9c38"
    },
    {
      "cell_type": "markdown",
      "metadata": {},
      "source": [
        "The effect plot for $\\mathtt{body\\_mass\\_g}$ (on the response $\\mathtt{bill\\_length\\_mm}$) is a plot of\n",
        "\n",
        "$$\n",
        "\\begin{aligned}\n",
        "&\\hat{E}(\\mathtt{bill\\_length\\_mm}\\mid \\mathtt{body\\_mass\\_g}, \\mathtt{flipper\\_length\\_mm} = 200.92)\\\\\n",
        "&=-3.44+0.0007 \\,\\mathtt{body\\_mass\\_g}+0.22\\cdot 200.92 \\\\\n",
        "&=41.14+0.0007 \\,\\mathtt{body\\_mass\\_g}\n",
        "\\end{aligned}\n",
        "$$\n",
        "\n",
        "as a function of $\\mathtt{body\\_mass\\_g}$.\n",
        "\n",
        "Note: we used exact values in the calculation above. The intercept will be 40.76 instead of 41.14 if we use the rounded values. Similarly, the effect plot for $\\mathtt{flipper\\_length\\_mm}$ is a plot of\n",
        "\n",
        "$$\n",
        "\\begin{aligned}\n",
        "&\\hat{E}(\\mathtt{bill\\_length\\_mm}\\mid \\mathtt{body\\_mass\\_g} = 4201.75,\\mathtt{flipper\\_length\\_mm}) \\\\\n",
        "&=-3.44+0.0007 \\cdot 4201.75+0.22\\,\\mathtt{flipper\\_length\\_mm} \\\\\n",
        "&=-0.65 + 0.22\\,\\mathtt{flipper\\_length\\_mm}\n",
        "\\end{aligned}\n",
        "$$\n",
        "\n",
        "as a function of $\\mathtt{flipper\\_length\\_mm}$.\n",
        "\n",
        "The `effects` R package can be used to generate effect plots for the predictors of a fitted linear model.\n",
        "\n",
        "-   We use the `effects::predictorEffect` function to compute the information needed to draw the plot.\n",
        "-   We use the `plot` function to display the information.\n",
        "\n",
        "The `predictorEffect` function computes the estimated mean response for different values of the focal predictor while holding the other predictors at their typical values.\n",
        "\n",
        "The main arguments of `predictorEffect` are:\n",
        "\n",
        "-   `predictor`: the name of the predictor we want to plot. This is the “focal predictor”.\n",
        "-   `mod`: the fitted model. The function works with `lm` objects and many other types of fitted models.\n",
        "\n",
        "We load the **effects** package."
      ],
      "id": "72a06dc8-812a-474a-8d98-edf5897fe8dc"
    },
    {
      "cell_type": "code",
      "execution_count": null,
      "metadata": {},
      "outputs": [],
      "source": [
        "library(effects)"
      ],
      "id": "b4fc3edf-ab90-4d94-b152-b02fc80935ea"
    },
    {
      "cell_type": "markdown",
      "metadata": {},
      "source": [
        "We now draw the effect plot for `body_mass_g`."
      ],
      "id": "29499a33-062b-4d24-8d69-dfc3dcd4a3f1"
    },
    {
      "cell_type": "code",
      "execution_count": null,
      "metadata": {},
      "outputs": [],
      "source": [
        "plot(predictorEffect(\"body_mass_g\", mlmod))"
      ],
      "id": "be8bf7b9-d1a5-4ff5-bbfe-0a188d7e232a"
    },
    {
      "cell_type": "markdown",
      "metadata": {},
      "source": [
        "There is a clear positive association between `body_mass_g` and `bill_length_mm` after accounting for the `flipper_length_mm` variable.\n",
        "\n",
        "The shaded area indicates the 95% confidence interval bands for the estimated mean response.\n",
        "\n",
        "We next create an effect plot for `flipper_length_mm` using the code below."
      ],
      "id": "66bbdf76-8bc4-4d79-a3d3-2b56cebc8309"
    },
    {
      "cell_type": "code",
      "execution_count": null,
      "metadata": {},
      "outputs": [],
      "source": [
        "plot(predictorEffect(\"flipper_length_mm\", mlmod))"
      ],
      "id": "bea7cb95-a020-49c4-830e-e944f0086566"
    },
    {
      "cell_type": "markdown",
      "metadata": {},
      "source": [
        "There is a clear positive association between `flipper_length_mm` and `bill_length_mm` after accounting for `body_mass_g`.\n",
        "\n",
        "Alternatively, we could use `effects::allEffects` to compute the necessary effect plot information for all predictors simultaneously, but it is harder to control figure sizing."
      ],
      "id": "cd68a98f-7670-4f39-939c-7d408b7a40f9"
    },
    {
      "cell_type": "code",
      "execution_count": null,
      "metadata": {},
      "outputs": [],
      "source": [
        "plot(allEffects(mlmod))"
      ],
      "id": "d91faaeb-4c3b-461e-8e5c-8b722f56a23b"
    },
    {
      "cell_type": "markdown",
      "metadata": {},
      "source": [
        "# Interpretation for categorical predictors\n",
        "\n",
        "**Coefficient interpretation for parallel lines models**\n",
        "\n",
        "------------------------------------------------------------------------\n",
        "\n",
        "Consider a parallel lines model with numeric regressor $X$ and categorical predictor $C$ with levels $L_1$, $L_2$, and $L_3$. Predictor $C$ must be transformed into two indicator variables, $D_2$ and $D_3$, for category levels $L_2$ and $L_3$, to be included in our linear model. $L_1$ is the reference level. The parallel lines model is formulated as $$\n",
        "E(Y \\mid X, C) = \\beta_{int} + \\beta_{X} X + \\beta_{L_2} D_2 +  \\beta_{L_3} D_3\n",
        "$$\n",
        "\n",
        "We replaced the usual $\\beta_0$, $\\beta_1$, $\\beta_2$, and $\\beta_3$ with notation the indicates the regressor each coefficient is associated with.\n",
        "\n",
        "When an observation has level $L_1$ and $X=0$, then the expected response is\n",
        "\n",
        "</br> </br> </br> </br> </br> </br> </br>\n",
        "\n",
        "Thus, $\\beta_{int}$ is the expected response for an observation with level $L_1$ when $X=0$.\n",
        "\n",
        "When an observation has a fixed level $L_j$ and $X$ increases from $x^*$ to $x^*+1$, then the change in the expected response is\n",
        "\n",
        "</br> </br> </br> </br> </br> </br> </br>\n",
        "\n",
        "Thus, $\\beta_X$ is the expected change in the response for an observation with fixed level $L_j$ when $X$ increases by 1 unit.\n",
        "\n",
        "When an observation has level $L_2$, the expected response is\n",
        "\n",
        "</br> </br> </br> </br> </br> </br> </br> </br> </br> </br>\n",
        "\n",
        "What is the difference in the expected response when comparing an observation with level $L_2$ compared to an observation with level $L_1$, assuming that $X$ is the same for both observations?\n",
        "\n",
        "</br> </br> </br> </br> </br> </br> </br> </br> </br> </br>\n",
        "\n",
        "Thus, $\\beta_{L_2}$ is the expected change in the response for a fixed value of $X$ when comparing on observation having level $L_1$ to level $L_2$ of predictor $C$. More specifically, $\\beta_{L_2}$ indicates the distance between the estimated regression lines for observations having levels $L_1$ and $L_2$.\n",
        "\n",
        "To summarize, assuming categorical predictor $C$ has $K$ levels instead of 3:\n",
        "\n",
        "-   $\\beta_{int}$ represents the expected response for observations having the reference level when the numeric regressor $X = 0$.\n",
        "-   $\\beta_X$ is the expected change in the response when $X$ increases by 1 unit for a fixed level of $C$.\n",
        "-   $\\beta_{L_j}$, for $j=2,\\ldots,K$, represents the expected change in the response when comparing observations having level $L_1$ and $L_j$ with $X$ fixed at the same value.\n",
        "\n",
        "We previously fit a parallel lines model to the `penguins` data that used both `body_mass_g` and `species` to explain the behavior of `bill_length_mm`. Letting $D_C$ denote the indicator variable for the `Chinstrap` level and $D_G$ denote the indicator variable for the `Gentoo` level, the fitted parallel lines model was\n",
        "\n",
        "$$\n",
        "\\begin{aligned}\n",
        "&\\hat{E}(\\mathtt{bill\\_length\\_mm} \\mid \\mathtt{body\\_mass\\_g}, \\mathtt{species})\\\\\n",
        "&= 24.92 + 0.004 \\mathtt{body\\_mass\\_g} + 9.92 D_C + 3.56 D_G.\n",
        "\\end{aligned}\n",
        "$$\n",
        "\n",
        "In the context of this model:\n",
        "\n",
        "-   The expected bill length for an Adelie penguin with a body mass of 0 grams is 24.92 mm.\n",
        "-   If two penguins are of the same species, but one penguin has a body mass 1 gram larger, then the larger penguin is expected to have a bill length 0.004 mm longer than the smaller penguin.\n",
        "-   A Chinstrap penguin is expected to have a bill length 9.92 mm longer than an Adelie penguin, assuming their body mass is the same.\n",
        "-   A Gentoo penguin is expected to have a bill length 3.56 mm longer than an Adelie penguin, assuming their body mass is the same.\n",
        "\n",
        "**Effect plots for fitted models with non-interacting categorical predictors**\n",
        "\n",
        "------------------------------------------------------------------------\n",
        "\n",
        "How do we create an effect plot for a numeric focal predictor when a non-interacting categorical predictor is in the model (such as for the parallel lines model we have been discussing)?\n",
        "\n",
        "-   First, determine the fitted model equation as a function of the focal predictor for each level of the categorical predictor.\n",
        "-   Then, compute the weighted average of the equation with the weights being proportional to the number of observations in each group.\n",
        "\n",
        "Let’s construct an effect plot for the `body_mass_g` predictor in the context of the `penguins` parallel lines model discussed in the previous section. We previously determined that the fitted parallel lines model simplified to:\n",
        "\n",
        "$$\n",
        "\\begin{aligned}\n",
        "&\\hat{E}(\\mathtt{bill\\_length\\_mm} \\mid \\mathtt{body\\_mass\\_g}, \\mathtt{species}=\\mathtt{Adelie}) \\\\\n",
        "&= 24.92 + 0.004 \\mathtt{body\\_mass\\_g} \\\\\n",
        "&\\hat{E}(\\mathtt{bill\\_length\\_mm} \\mid \\mathtt{body\\_mass\\_g}, \\mathtt{species}=\\mathtt{Chinstrap}) \\\\\n",
        "&= 34.84 + 0.004 \\mathtt{body\\_mass\\_g} \\\\\n",
        "&\\hat{E}(\\mathtt{bill\\_length\\_mm} \\mid \\mathtt{body\\_mass\\_g}, \\mathtt{species}=\\mathtt{Gentoo}) \\\\\n",
        "&= 28.48 + 0.004 \\mathtt{body\\_mass\\_g}.\n",
        "\\end{aligned}\n",
        "$$\n",
        "\n",
        "We recreate the fitted model producing these equations in R using the code below."
      ],
      "id": "7165e85d-dfd3-41a9-a90f-70bc2fb8894d"
    },
    {
      "cell_type": "code",
      "execution_count": null,
      "metadata": {},
      "outputs": [],
      "source": [
        "# refit the parallel lines model\n",
        "lmodp <- lm(bill_length_mm ~ body_mass_g + species, data = penguins)\n",
        "# double-check coefficients\n",
        "coef(lmodp)"
      ],
      "id": "61d684a1-b8aa-491f-88c8-0cabe10df5d0"
    },
    {
      "cell_type": "markdown",
      "metadata": {},
      "source": [
        "The code below determines the number of observations with each level of `species` for the data used in the fitted model `lmodp`."
      ],
      "id": "8274b0f3-527f-4547-90a7-211d4ec3df72"
    },
    {
      "cell_type": "code",
      "execution_count": null,
      "metadata": {},
      "outputs": [],
      "source": [
        "table(lmodp$model$species)\n",
        "print(paste('Total:', length(lmodp$model$species)))"
      ],
      "id": "d612e109-809d-4de2-b6e0-3b530201ab24"
    },
    {
      "cell_type": "markdown",
      "metadata": {},
      "source": [
        "The equation used to create the effect plot of `body_mass_g` is the weighted average of the response, with weights proportional to the number of observational having each level of the categorical predictor. Specifically,\n",
        "\n",
        "$$\n",
        "\\begin{aligned}\n",
        "& \\hat{E}(\\mathtt{bill\\_length\\_mm} \\mid \\mathtt{body\\_mass\\_g}, \\mathtt{species}=\\mathtt{typical}) \\\\\n",
        "&= \\frac{151}{342}(24.92 + 0.004 \\mathtt{body\\_mass\\_g})\\\\\n",
        "&\\quad + \\frac{68}{342}(34.84 + 0.004 \\mathtt{body\\_mass\\_g})\\\\\n",
        "&\\quad + \\frac{123}{342}(28.48 + 0.004 \\mathtt{body\\_mass\\_g}) \\\\\n",
        "&=28.17 + 0.004 \\mathtt{body\\_mass\\_g}.\n",
        "\\end{aligned}\n",
        "$$\n",
        "\n",
        "The following code produces the effect plot for `body_mass_g` for the fitted parallel lines model. The association between `bill_length_mm` and `body_mass_g` is positive after accounting for `species`."
      ],
      "id": "b2c83e6c-b3bc-4f66-9e46-64bd5cf198ef"
    },
    {
      "cell_type": "code",
      "execution_count": null,
      "metadata": {},
      "outputs": [],
      "source": [
        "# draw effect plot for body_mass_g\n",
        "plot(predictorEffect(\"body_mass_g\", lmodp))"
      ],
      "id": "9bb0b2ee-0aec-41c9-9c54-76fa0ef20a3d"
    },
    {
      "cell_type": "markdown",
      "metadata": {},
      "source": [
        "An effect plot for a categorical predictor, assuming all other predictors in the model are non-interacting numerical predictors (i.e., fixed group predictors), is a plot of the estimated mean response for each level of the categorical variable when the fixed group predictors are held at their sample mean.\n",
        "\n",
        "The sample mean of the obsered `body_mass_g` values is:"
      ],
      "id": "27becd7b-0060-48b1-9827-99cb3f3af71c"
    },
    {
      "cell_type": "code",
      "execution_count": null,
      "metadata": {},
      "outputs": [],
      "source": [
        "# sample mean of body_mass_g variable used to fit lmodp\n",
        "mean(lmodp$model$body_mass_g)"
      ],
      "id": "00aa1a07-9e75-4980-9e51-eeece0db158e"
    },
    {
      "cell_type": "markdown",
      "metadata": {},
      "source": [
        "The estimated mean for the Adelie species when `body_mass_g` is fixed at 4201.75 is\n",
        "\n",
        "$$\n",
        "\\begin{aligned}\n",
        "&\\hat{E}(\\mathtt{bill\\_length\\_mm} \\mid \\mathtt{body\\_mass\\_g} = 4201.75, \\mathtt{species}=\\mathtt{Adelie}) \\\\\n",
        "&= 24.92 + 0.004 \\cdot 4201.75 \\\\\n",
        "&= 40.67.\n",
        "\\end{aligned}\n",
        "$$\n",
        "\n",
        "Similarly,\n",
        "\n",
        "$$\n",
        "\\hat{E}(\\mathtt{bill\\_length\\_mm} \\mid \\mathtt{body\\_mass\\_g} = 4201.75, \\mathtt{species}=\\mathtt{Chinstrap}) = 34.84 + 0.004(4201.75) = 50.59\n",
        "$$\n",
        "\n",
        "And,\n",
        "\n",
        "$$\\hat{E}(\\mathtt{bill\\_length\\_mm} \\mid \\mathtt{body\\_mass\\_g} = 4201.75, \\mathtt{species}=\\mathtt{Gentoo}) = 28.48 + 0.004(4201.75) = 44.23$$\n",
        "\n",
        "The code below produces the effect plot for `species`. The confidence bands for the estimated mean response are shown by the vertical bars."
      ],
      "id": "c4ce9db4-055d-40b7-86f7-50f13965b72f"
    },
    {
      "cell_type": "code",
      "execution_count": null,
      "metadata": {},
      "outputs": [],
      "source": [
        "plot(predictorEffect(\"species\", lmodp))"
      ],
      "id": "59f71986-7c11-41b8-a721-e04d5000f642"
    },
    {
      "cell_type": "markdown",
      "metadata": {},
      "source": [
        "**Coefficient interpretation for separate lines models**\n",
        "\n",
        "------------------------------------------------------------------------\n",
        "\n",
        "Consider a separate lines model with numeric regressor $X$ and categorical predictor $C$ with levels $L_1$, $L_2$, and $L_3$. The predictor $C$ will be transformed into two indicator variables, $D_2$ and $D_3$, for category levels $L_2$ and $L_3$, with $L_1$ being the reference level. The separate lines model is formulated as: $$\n",
        "E(Y \\mid X, C) = \\beta_{int} + \\beta_{X} X + \\beta_{L_2} D_2 +  \\beta_{L_3} D_3 + \\beta_{XL_2} XD_2+\\beta_{XL_3}XD_3\n",
        "$$\n",
        "\n",
        "When an observation has level $L_1$ and $X=x^*$, then the expected response is\n",
        "\n",
        "</br> </br> </br> </br> </br> </br> </br>\n",
        "\n",
        "We can verify that:\n",
        "\n",
        "-   $\\beta_{int} = E(Y\\mid X = 0, C=L_1)$.\n",
        "-   $\\beta_{X} = E(Y\\mid X = x^* + 1, C=L_1) - E(Y\\mid X = x^*, C=L_1)$.\n",
        "\n",
        "Similarly, when $C=L_2$,\n",
        "\n",
        "</br> </br> </br> </br> </br> </br> </br>\n",
        "\n",
        "Following this same pattern, when $C=L_3$ we have\n",
        "\n",
        "$$\n",
        "E(Y|X = x^*, C=L_3) = (\\beta_{int} + \\beta_{L_3}) + (\\beta_X + \\beta_{XL_3})x^*\n",
        "$$\n",
        "\n",
        "We can verify that for $j=2,3$,\n",
        "\n",
        "$$\\beta_{L_j}= E(Y\\mid X = 0, C=L_j) - E(Y\\mid X = 0, C=L_1)$$\n",
        "\n",
        "And, $$\n",
        "\\begin{aligned}\n",
        "& \\beta_{XL_j} \\\\\n",
        "&= [E(Y\\mid X = x^*+1, C=L_j) - E(Y\\mid X = x^*, C=L_j)]\\\\\n",
        "&\\quad-[E(Y\\mid X = x^*+1, C=L_1) - E(Y\\mid X = x^*, C=L_1)].\n",
        "\\end{aligned}\n",
        "$$\n",
        "\n",
        "To summarize the interpretation of the coefficients in separate lines models, assuming categorical predictor $C$ has $K$ levels instead of 3:\n",
        "\n",
        "-   $\\beta_{int}$ represents the expected response for observations having the reference level when the numeric regressor $X = 0$.\n",
        "-   $\\beta_{L_j}$, for $j=2,\\ldots,K$, represents the expected change in the response when comparing observations having level $L_1$ and $L_j$ with $X=0$.\n",
        "-   $\\beta_X$ represents the expected change in the response when $X$ increases by 1 unit for observations having the reference level.\n",
        "-   $\\beta_X L_j$, for $j=2,\\ldots,K$, represents the difference in the expected response between observations having the reference level in comparison to level $L_j$ when $X$ increases by 1 unit. More simply, these terms represent the difference in the rate of change for observations having level $L_j$ compared to the reference level.\n",
        "\n",
        "We illustrate these interpretation using the separate lines model to the `penguins` data. The fitted separate lines model was,\n",
        "\n",
        "$$\n",
        "\\begin{aligned}\n",
        "&\\hat{E}(\\mathtt{bill\\_length\\_mm} \\mid \\mathtt{body\\_mass\\_g}, \\mathtt{species}) \\\\\n",
        "&= 26.99 + 0.003 \\mathtt{body\\_mass\\_g} + 5.18 D_C - 0.25 D_G \\\\\n",
        "&\\quad + 0.001 D_C \\mathtt{body\\_mass\\_g} + 0.0009 D_G \\mathtt{body\\_mass\\_g}.\n",
        "\\end{aligned}\n",
        "$$\n",
        "\n",
        "In the context of this model:\n",
        "\n",
        "-   The expected bill length for an Adelie penguin with a body mass of 0 grams is 26.99 mm.\n",
        "-   If an Adelie penguin has a body mass 1 gram larger than another Adelie penguin, then the larger penguin is expected to have a bill length 0.003 mm longer than the smaller penguin.\n",
        "-   A Chinstrap penguin is expected to have a bill length 5.18 mm longer than an Adelie penguin when both have a body mass of 0 grams.\n",
        "-   A Gentoo penguin is expected to have a bill length 0.25 mm shorter than an Adelie penguin when both have a body mass of 0 grams.\n",
        "-   For each 1 gram increase in body mass, we expect the change in bill length by Chinstrap penguins to be 0.001 mm larger than the corresponding change in bill length by Adelie penguins.\n",
        "-   For each 1 gram increase in body mass, we expect the change in bill length by Gentoo penguins to be 0.0009 mm larger than the corresponding change in bill length by Adelie penguins.\n",
        "\n",
        "**Effect plots for interacting categorical predictors**\n",
        "\n",
        "------------------------------------------------------------------------\n",
        "\n",
        "We now discuss construction of effect plots for a separate lines model, which has an interaction between a categorical and numeric predictor.\n",
        "\n",
        "Fox et al. (2020) also discuss predictors in the *conditioning group*, which is the set of predictors that interact with the focal predictor.\n",
        "\n",
        "When some predictors interact with the focal predictor, the effect plot of the focal predictor is a plot of the estimated mean response when the fixed group predictors are held at their typical values and the conditioning group predictors vary over different combinations of discrete values.\n",
        "\n",
        "By default, to compute the estimated mean response as a function of the focal predictor, we:\n",
        "\n",
        "-   Hold the numeric fixed group predictors at their sample means.\n",
        "-   Average the estimated mean response equation across the different levels of a fixed group categorical predictor, with weights equal to the number of observations with each level.\n",
        "-   Compute the estimated mean response function for 5 discrete values of numeric predictors in the conditioning group.\n",
        "-   Compute the estimated mean response function for different levels of a categorical predictor in the conditioning group.\n",
        "\n",
        "We provide examples of the effect plots for the `body_mass_g` and `species` predictors for the separate lines model fit to the `penguins` data. We first run the code below to fit the separate lines model we previously fit:"
      ],
      "id": "e701a80e-4134-4357-b900-f2b0e2261dfd"
    },
    {
      "cell_type": "code",
      "execution_count": null,
      "metadata": {},
      "outputs": [],
      "source": [
        "# fit separate lines model\n",
        "lmods <- lm(bill_length_mm ~ body_mass_g + species + body_mass_g:species,\n",
        "            data = penguins)\n",
        "# extract estimated coefficients\n",
        "coef(lmods)"
      ],
      "id": "3a4fb47e-b226-4132-9ebe-ab28c79cac49"
    },
    {
      "cell_type": "markdown",
      "metadata": {},
      "source": [
        "We previously determined that the model simplifies depending on the level of species:\n",
        "\n",
        "$$\n",
        "\\begin{aligned}\n",
        "&\\hat{E}(\\mathtt{bill\\_length\\_mm} \\mid \\mathtt{body\\_mass\\_g}, \\mathtt{species}=\\mathtt{Adelie}) \\\\\n",
        "&= 26.99 + 0.003 \\mathtt{body\\_mass\\_g},\\\\\n",
        "&\\hat{E}(\\mathtt{bill\\_length\\_mm} \\mid \\mathtt{body\\_mass\\_g}, \\mathtt{species}=\\mathtt{Chinstrap}) \\\\\n",
        "&= 31.17 + 0.004 \\mathtt{body\\_mass\\_g},\\\\\n",
        "&\\hat{E}(\\mathtt{bill\\_length\\_mm} \\mid \\mathtt{body\\_mass\\_g}, \\mathtt{species}=\\mathtt{Chinstrap}) \\\\\n",
        "&= 26.74 + 0.004 \\mathtt{body\\_mass\\_g}.\n",
        "\\end{aligned}\n",
        "$$\n",
        "\n",
        "The effect plot of `body_mass_g` for the separate lines model is displayed using the code below.\n",
        "\n",
        "-   The `axes` argument to rotates the x-axis labels (otherwise the text overlaps)\n",
        "-   The `lines` argument displays all three lines in one graphic instead of a separate panel for each level of `species`."
      ],
      "id": "f16e24bb-90e3-4f46-895d-7fa03cbf9bf6"
    },
    {
      "cell_type": "code",
      "execution_count": null,
      "metadata": {},
      "outputs": [],
      "source": [
        "# effect plot of body mass for separate lines model\n",
        "# axes ... rotates the x-axis labels 90 degrees\n",
        "# lines ... plots the effect of body mass in one graphic\n",
        "plot(predictorEffect(\"body_mass_g\", lmods),\n",
        "     axes = list(x = list(rotate = 90)),\n",
        "     lines = list(multiline = TRUE))"
      ],
      "id": "45fc60a5-6151-41fd-8590-42cd748a9a39"
    },
    {
      "cell_type": "markdown",
      "metadata": {},
      "source": [
        "Interpretation:\n",
        "\n",
        "-   Chinstrap penguins tend to have the largest bill lengths for a given value of body mass and the bill lengths increase more quickly as a function of body mass then for the Adelie and Gentoo penguins.\n",
        "-   Adelie penguins tend to have the smallest bill length for a fixed value of body mass and the bill length tends to increase more slowly as body mass increases compared to the other two types of penguins.\n",
        "\n",
        "The effect plot of `species` for the separate lines model will be a plot of the estimated mean response for each level of `species` when varying `body_mass_g` over 5 discrete values.\n",
        "\n",
        "By specifying `lines = list(multiline = TRUE)`, the estimated mean responses for each level of `species` are connected for each discrete value of `body_mass_g`.\n",
        "\n",
        "This plot allows us to determine the effect of `species` on `bill_length_mm` when we vary `body_mass_g` over 5 discrete values."
      ],
      "id": "ba715275-3791-443b-ac4f-d25283ffb8c6"
    },
    {
      "cell_type": "code",
      "execution_count": null,
      "metadata": {},
      "outputs": [],
      "source": [
        "# effect plot of body mass for separate lines model\n",
        "# axes ... rotates the x-axis labels 90 degrees\n",
        "# lines ... plots the effect of species in one graphic\n",
        "plot(predictorEffect(\"species\", lmods),\n",
        "     axes = list(x = list(rotate = 90)),\n",
        "     lines=list(multiline = FALSE))"
      ],
      "id": "78804cf6-7840-419f-ada3-d2762bbf498b"
    },
    {
      "cell_type": "markdown",
      "metadata": {},
      "source": [
        "Interpretation: When varying `body_mass_g` across the values 2700, 3600, 4500, 5300, and 6300 g, we see greater changes in the estimated mean of `bill_lengh_mm` for Chinstrap penguins in comparison to Adelie and Gentoo penguins.\n",
        "\n",
        "For more details about how to construct effect plots, run the following code to access the “vignette”."
      ],
      "id": "0b7d5ccc-9f89-4018-a258-0a5483df6d9e"
    },
    {
      "cell_type": "code",
      "execution_count": null,
      "metadata": {},
      "outputs": [],
      "source": [
        "vignette(\"predictor-effects-gallery\", package = \"effects\")"
      ],
      "id": "b71805f1-6632-49ce-a9b0-2ce962c16ba4"
    },
    {
      "cell_type": "markdown",
      "metadata": {},
      "source": [
        "# Added-variable and leverage plots\n",
        "\n",
        "**Added-variable plots**\n",
        "\n",
        "------------------------------------------------------------------------\n",
        "\n",
        "As we saw before, an *effect plot* is a plot of the estimated mean relationship between the response and a focal predictor while holding the model’s predictors at typical values,\n",
        "\n",
        "An *added-variable plot* or *partial regression plot* displays the marginal effect of a regressor on the response after accounting for the other regressors in the model. An added-variable plot is a plot of two sets of residuals against one other.\n",
        "\n",
        "We create an added-variable plot for regressor $X_j$ in the following way:\n",
        "\n",
        "1.  Compute the residuals of the model regressing the response $Y$ on all regressors except $X_j$. We denote these residuals $\\hat{\\boldsymbol{\\epsilon}}(Y\\mid \\mathbb{X}_{-j})$. These residuals represent the part of the response variable not explained by the regressors in $\\mathbb{X}_{-j}$.\n",
        "2.  Compute the residuals of the model regressing the regressor $X_j$ on all regressors except $X_j$. We denote these residuals $\\hat{\\boldsymbol{\\epsilon}}(X_j \\mid \\mathbb{X}_{-j})$. These residuals represent the part of the $X_j$ not explained by the regressors in $\\mathbb{X}_{-j}$. Alternatively, these residuals represent the amount of additional information $X_j$ provides after accounting for the regressors in $\\mathbb{X}_{-j}$.\n",
        "3.  The added-variable plot for $X_j$ is a plot of $\\hat{\\boldsymbol{\\epsilon}}(Y\\mid \\mathbb{X}_{-j})$ on the y-axis and $\\hat{\\boldsymbol{\\epsilon}}(X_j \\mid \\mathbb{X}_{-j})$ on the x-axis.\n",
        "\n",
        "Added-variable plots allow us to visualize the impact a regressor has when added to an existing regression model. We can use the added-variable plot for $X_j$ to visually estimate the partial slope $\\hat{\\beta}_{j}$. The simple linear regression line that minimizes the RSS for the added-variable plot of $X_j$ will have slope $\\hat{\\beta}_j$.\n",
        "\n",
        "We can use an added-variable plot in several ways:\n",
        "\n",
        "1.  To assess the marginal relationship between $X_j$ and $Y$ after accounting for all of the other variables in the model.\n",
        "2.  To assess the strength of this marginal relationship.\n",
        "3.  To identify deficiencies in our fitted model.\n",
        "4.  To identify outliers and observations influential in determining the estimated partial slope.\n",
        "\n",
        "In regards to point 1 and 2:\n",
        "\n",
        "-   If the added-variable plot for $X_j$ is essentially a scatter of points with slope zero, then $X_j$ can do little to explain $Y$ after accounting for the other regressors.\n",
        "-   If the points in an added-variable plot for $X_j$ have a linear relationship, then adding $X_j$ to the model regressing $Y$ on $\\mathbb{X}_{-j}$ is expected to improve our model’s ability to predict the behavior of $Y$.\n",
        "-   If the points in an added-variable plot for $X_j$ are curved, it indicates that that there is a deficiency in the fitted model (likely because we need to include one or more additional regressors to the model)."
      ],
      "id": "590325a0-2244-4810-ae2c-a84730d91c24"
    },
    {
      "cell_type": "code",
      "execution_count": null,
      "metadata": {},
      "outputs": [
        {
          "output_type": "display_data",
          "metadata": {},
          "data": {
            "image/png": "[encoded data removed]"
          }
        }
      ],
      "source": [],
      "id": "c8d9d741-779a-4614-a364-f37db9fd1e46"
    },
    {
      "cell_type": "markdown",
      "metadata": {},
      "source": [
        "**Question**\n",
        "\n",
        "-   What do the three plots tell us about our model?\n",
        "\n",
        "From the **car** package, the `avPlot` function will produce an added-variable plot for a single regressor while the `avPlots` function will produce added-variable plots for one or more regressors.\n",
        "\n",
        "The main arguments to the `avPlot` function are:\n",
        "\n",
        "-   `model`: the fitted `lm` (or `glm`) object.\n",
        "-   `variable`: the regressor for which to create an added-variable plot.\n",
        "-   `id`: a logical value indicating whether unusual observations should be identified. By default, the value is `TRUE`, which means the 2 points with the largest residuals and the 2 points with the largest partial leverage are identified, though this can be customized.\n",
        "\n",
        "The `avPlots` function replaces the `variable` argument with the `terms` argument.\n",
        "\n",
        "The `terms` argument should be a one-sided formula to indicate the regressors for which we want to construct added-variable plots (one plot for each term).\n",
        "\n",
        "We now create and interpret added-variable plots for the model regressing `bill_length_mm` on `body_mass_g` and `flipper_length_mm`."
      ],
      "id": "2c7a11a1-abbe-4873-aeda-77388bca1f6d"
    },
    {
      "cell_type": "code",
      "execution_count": null,
      "metadata": {},
      "outputs": [],
      "source": [
        "library(car)\n",
        "# create added-variable plots for all regressors in mlmod\n",
        "avPlots(mlmod)"
      ],
      "id": "dfc696a4-21ee-42e7-be6f-6ca898c4a5d0"
    },
    {
      "cell_type": "markdown",
      "metadata": {},
      "source": [
        "The blue line is the simple linear regression model that minimizes the RSS of the points.\n",
        "\n",
        "**Question:**\n",
        "\n",
        "-   Which variable seems to have more explanatory power?\n",
        "\n",
        "To create the added-variable plots for all regressors in the parallel lines model from `penguins` data, we use the fitted model:\n",
        "\n",
        "$$\n",
        "\\begin{aligned}\n",
        "&\\hat{E}(\\mathtt{bill\\_length\\_mm} \\mid \\mathtt{body\\_mass\\_g}, \\mathtt{species})\\\\\n",
        "&= 24.92 + 0.004 \\mathtt{body\\_mass\\_g} + 9.92 D_C + 3.56 D_G,\n",
        "\\end{aligned}\n",
        "$$\n",
        "\n",
        "where $D_C$ and $D_G$ are indicator variables for the Chinstrap and Gentoo penguin species (Adelie penguins are the reference species)."
      ],
      "id": "fcec450b-1aa6-4764-b747-0df41e7ec8ef"
    },
    {
      "cell_type": "code",
      "execution_count": null,
      "metadata": {},
      "outputs": [],
      "source": [
        "avPlots(lmodp)"
      ],
      "id": "b77e4187-3f77-48e4-97dd-d1e773fcd579"
    },
    {
      "cell_type": "markdown",
      "metadata": {},
      "source": [
        "**Question:**\n",
        "\n",
        "-   How should we interpret the relative strength of the linear relationships?\n",
        "-   Is there any clustering apparent?\n",
        "\n",
        "**Leverage Plots**\n",
        "\n",
        "------------------------------------------------------------------------\n",
        "\n",
        "It sometimes doesn’t make sense to talk about the effect of adding a single regressor when all of the other regressors are in the model.\n",
        "\n",
        "-   When we add a categorical predictor to our model, we simultaneously add $K-1$ indicator variables as regressors; we do not add the indicator variables one-at-a-time.\n",
        "\n",
        "We refer to regressors with this behavior as “multiple degrees-of-freedom terms”.\n",
        "\n",
        "-   A categorical variable with 3 or more levels is the most basic multiple degrees-of-freedom term.\n",
        "-   We could also consider regressors related to the interaction between two or more predictors, polynomial regressors, etc.\n",
        "\n",
        "A *leverage plot* allows us to visualize the impact of multiple degrees-of-freedom terms. The interpretation of leverage plots is similar to the interpretation of added-variable plots, though we refer to “predictors” or “terms” instead regressors (which may be combined into one plot).\n",
        "\n",
        "The `leveragePlot` and `leveragePlots` functions in the `car` package produce single or multiple leverage plots, respectively, with arguments similar to the `avPlot` and `avPlots` functions."
      ],
      "id": "bb61d5d9-9b0c-4959-a208-d70ffecb34b7"
    },
    {
      "cell_type": "code",
      "execution_count": null,
      "metadata": {},
      "outputs": [],
      "source": [
        "leveragePlots(lmodp)"
      ],
      "id": "b9ee1dcb-5fb7-422c-a2d3-7c92240a8e62"
    },
    {
      "cell_type": "markdown",
      "metadata": {},
      "source": [
        "Interpretation:\n",
        "\n",
        "-   The leverage plot for `body_mass_g` has a moderate linear relationship, so we expect `body_mass_g` to have moderate value in explaining the behavior of `bill_length_mm` after accounting for `species`\n",
        "-   The points in the leverage plot for `species` have a moderately strong linear relationship, so we expect `species` to have moderate value in explaining the behavior of `bill_length_mm` after accounting for `body_mass_g`.\n",
        "\n",
        "We next examine the leverage plot for the separate lines model fit to the `penguins` data. The fitted separate lines model is:\n",
        "\n",
        "$$\n",
        "\\begin{aligned}\n",
        "&\\hat{E}(\\mathtt{bill\\_length\\_mm} \\mid \\mathtt{body\\_mass\\_g}, \\mathtt{species}) \\\\\n",
        "&= 26.99 + 0.003 \\mathtt{body\\_mass\\_g} + 5.18 D_C - 0.25 D_G \\\\\n",
        "&\\quad + 0.001 D_C \\mathtt{body\\_mass\\_g} + 0.0009 D_G \\mathtt{body\\_mass\\_g},\n",
        "\\end{aligned}\n",
        "$$\n",
        "\n",
        "There are 6 estimated coefficients, but the fitted model has only 3 non-intercept terms. Recall the formula we fit for the separate lines model:"
      ],
      "id": "b9ed1c8e-17b0-4a1a-9ac8-6ccb45a291b9"
    },
    {
      "cell_type": "code",
      "execution_count": null,
      "metadata": {},
      "outputs": [],
      "source": [
        "# function call for separate lines model\n",
        "lm(formula = bill_length_mm ~ body_mass_g + species + body_mass_g:species,\n",
        "   data = penguins)"
      ],
      "id": "7c32ac89-48f0-4e8b-8c7c-9bde058ef9ca"
    },
    {
      "cell_type": "markdown",
      "metadata": {},
      "source": [
        "Thus, we have terms for `body_mass_g`, `species`, and the interaction term `body_mass_g:species`.\n",
        "\n",
        "We use the code below to create the leverage plots:"
      ],
      "id": "fe78d7b3-92b9-405e-be5a-6496397410cb"
    },
    {
      "cell_type": "code",
      "execution_count": null,
      "metadata": {},
      "outputs": [],
      "source": [
        "leveragePlots(lmods)"
      ],
      "id": "dc9144d2-022c-4943-8519-86ceb8c6b4f9"
    },
    {
      "cell_type": "markdown",
      "metadata": {},
      "source": [
        "Interpretation:\n",
        "\n",
        "-   The leverage plot for `body_mass_g` has a moderate linear relationship, so we expect `body_mass_g` to have moderate additional value in explaining the behavior of `bill_length_mm` after accounting for `species` and the interaction term `body_mass_g:species`.\n",
        "    -   It is unlikely we would include the `body_mass_g:species` term in our model prior to including `body_mass_g`, so philosophically, this plot provides little useful information.\n",
        "-   Interpreting the leverage plot for `species` has limited utility because the leverage plot includes the influence of the interaction term `body_mass_g:species`.\n",
        "    -   We are unlikely to fit a model that includes the interaction term without also including the `species` term directly. Instead it makes more sense to judge the utility of adding `species` to the model regressing `bill_length_mm` on `body_mass_g` alone, which we already considered.\n",
        "-   Examining the leverage plot for the interaction term `body_mass_g:species` , we see the points have only a weak linear relationship. Thus, we expect limited utility in adding the interaction term `body_mass_g:species` to the parallel lines regression model that regresses `bill_length_mm` on `body_mass_g` and `species`.\n",
        "\n",
        "# Going deeper\n",
        "\n",
        "**Orthogonality**\n",
        "\n",
        "------------------------------------------------------------------------\n",
        "\n",
        "Let\n",
        "\n",
        "$$\\mathbf{X}_{[j]}=[x_{1,j},\\ldots,x_{n,j}]$$\n",
        "\n",
        "denote the $n\\times 1$ column vector of observed values for regressor the $j$th column of $\\mathbf{X}$.\n",
        "\n",
        "-   We can’t use the notation $\\mathbf{x}_j$ because that is the $p\\times 1$ vector of regressor values for the $j$th observation.\n",
        "\n",
        "Regressors $\\mathbf{X}_{[j]}$ and $\\mathbf{X}_{[k]}$ are *orthogonal* if $\\mathbf{X}_{[j]}^T \\mathbf{X}_{[k]}=0$.\n",
        "\n",
        "Let $\\boldsymbol{1}_{n\\times1}$ denote an $n\\times 1$ column vector of 1s.\n",
        "\n",
        "The definition of orthogonal vectors above implies that $\\mathbf{X}_{[j]}$ is orthogonal to $\\boldsymbol{1}_{n\\times1}$ if\n",
        "\n",
        "$$\n",
        "\\mathbf{X}_{[j]}^T \\boldsymbol{1}_{n\\times1} = \\sum_{i=1}^n x_{i,j} = 0,$$\n",
        "\n",
        "i.e., if the values in $\\mathbf{X}_{[j]}$ sum to zero.\n",
        "\n",
        "Let $\\bar{x}_j = \\frac{1}{n}\\sum_{i=1}^n x_{i,j}$ denote the sample mean of $\\mathbf{X}_{[j]}$ and $\\bar{\\mathbf{x}}_j = \\bar{x}_j \\boldsymbol{1}_{n\\times 1}$ denote the column vector that repeats $\\bar{x}_j$ $n$ times.\n",
        "\n",
        "*Centering* $\\mathbf{X}_{[j]}$ involves subtracting the sample mean of $\\mathbf{X}_{[j]}$ from $\\mathbf{X}_{[j]}$, i.e., $\\mathbf{X}_{[j]} - \\bar{\\mathbf{x}}_j$.\n",
        "\n",
        "Regressors $\\mathbf{X}_{[j]}$ and $\\mathbf{X}_{[k]}$ are *uncorrelated* if they are orthogonal after being centered, i.e., if\n",
        "\n",
        "$$\n",
        "(\\mathbf{X}_{[j]} - \\bar{\\mathbf{x}}_j)^T (\\mathbf{X}_{[k]} - \\bar{\\mathbf{x}}_k)=0.\n",
        "$$\n",
        "\n",
        "Note that the sample covariance between vectors $\\mathbf{X}_{[j]}$ and $\\mathbf{X}_{[k]}$ is\n",
        "\n",
        "$$\n",
        "\\begin{aligned}\n",
        "\\widehat{\\mathrm{cov}}(\\mathbf{X}_{[j]}, \\mathbf{X}_{[k]}) &= \\frac{1}{n-1}\\sum_{i=1}^n (x_{i,j} - \\bar{x}_j)(x_{i,k} - \\bar{x}_k) \\\\\n",
        " &= \\frac{1}{n-1}(\\mathbf{X}_{[j]} - \\bar{\\mathbf{x}}_j)^T (\\mathbf{X}_{[k]} - \\bar{\\mathbf{x}}_k).\n",
        "\\end{aligned}\n",
        "$$\n",
        "\n",
        "Thus, two centered regressors are orthogonal if their covariance is zero.\n",
        "\n",
        "It is a desirable to have orthogonal regressors in our fitted model because they simplify estimating the relationship between the regressors and the response.\n",
        "\n",
        "*If a regressor is orthogonal to all other regressors (and the column of 1s) in a model, adding or removing the orthogonal regressor from our model will not impact the estimated regression coefficients of the other regressors.*\n",
        "\n",
        "Since most linear regression models include an intercept, we should assess whether our regressors are orthogonal to other regressors and the column of 1s.\n",
        "\n",
        "We consider a simple example with $n=5$ observations to demonstrate how orthogonality of regressors impacts the estimated regression coefficients. In the code below:\n",
        "\n",
        "-   `y` is a vector of response values.\n",
        "-   `ones` is the column vector of 1s.\n",
        "-   `X1` is a column vector of regressor values.\n",
        "-   `X2` is a column vector of regressor values chosen to be orthogonal to `X1` but not to `ones`.\n",
        "\n",
        "In the code below, we define vectors `y`, `X1`, and `X2`."
      ],
      "id": "79e395ed-bb43-4e70-a4a5-70375303a43f"
    },
    {
      "cell_type": "code",
      "execution_count": null,
      "metadata": {},
      "outputs": [],
      "source": [
        "y <- c(1, 4, 6, 8, 9)       # create an arbitrary response vector\n",
        "X1 <- c(7, 5, 5, 7, 7)      # create regressor 1\n",
        "X2 <- c(-1, 2, -3, 1, 5/7)  # create regressor 2 to be orthogonal to X1"
      ],
      "id": "fbbb550c-81a3-4880-a5fb-60e8d73a354b"
    },
    {
      "cell_type": "markdown",
      "metadata": {},
      "source": [
        "Note that the `crossprod` function computes the cross product of two vectors or matrices, so that `crossprod(A, B)` computes $\\mathbf{A}^T B$, where the vectors or matrices must have the correct dimension for the multiplication to be performed.\n",
        "\n",
        "The regressor vectors `X1` and `X2` are orthogonal since their cross product $\\mathbf{X}_{[1]}^T \\mathbf{X}_{[2]}$ is 0."
      ],
      "id": "180362a1-f81f-445a-a199-dce361aa27c8"
    },
    {
      "cell_type": "code",
      "execution_count": null,
      "metadata": {},
      "outputs": [],
      "source": [
        "crossprod(X1, X2)"
      ],
      "id": "11b68189-486a-48f1-b995-881bd7a0b801"
    },
    {
      "cell_type": "markdown",
      "metadata": {},
      "source": [
        "In the code below, we regress `y` on `X1` without an intercept (`lmod1`).\n",
        "\n",
        "-   The estimated coefficient for `X1` is $\\hat{\\beta}_1=0.893$."
      ],
      "id": "5f129cfc-84a5-4e09-a656-19f1003da0b4"
    },
    {
      "cell_type": "code",
      "execution_count": null,
      "metadata": {},
      "outputs": [],
      "source": [
        "# y regressed on X1 without an intercept\n",
        "lmod1 <- lm(y ~ X1 - 1)\n",
        "coef(lmod1)"
      ],
      "id": "091ef031-0349-4a08-98f2-4e9d00a19b7d"
    },
    {
      "cell_type": "markdown",
      "metadata": {},
      "source": [
        "Next, we regress `y` on `X1` and `X2` without an intercept (`lmod2`).\n",
        "\n",
        "-   The estimated coefficients for `X1` and `X2` are $\\hat{\\beta}_1=0.893$ and $\\hat{\\beta}_2=0.221$, respectively.\n",
        "-   `X1` and `X2` are orthogonal, so the estimated coefficient for `X1` stays the same as in `lmod1`."
      ],
      "id": "acd55312-6753-4c01-89b6-2f9b8712458e"
    },
    {
      "cell_type": "code",
      "execution_count": null,
      "metadata": {},
      "outputs": [],
      "source": [
        "# y regressed on X1 and X2 without an intercept\n",
        "lmod2 <- lm(y ~ X1 + X2 - 1)\n",
        "coef(lmod2)"
      ],
      "id": "a97bb981-db57-439e-aa2f-411e6458710f"
    },
    {
      "cell_type": "markdown",
      "metadata": {},
      "source": [
        "We usually include an intercept coefficient (a columns of 1s as a regressor) in our model.\n",
        "\n",
        "If the regressors are not orthogonal to the column of 1s in our $\\mathbf{X}$ matrix, then the coefficients for the other regressors in the model will change when the regressors are added or removed from the model because they are not orthogonal to the column of 1s.\n",
        "\n",
        "We create a column of 1s below."
      ],
      "id": "46eaac66-2fa8-426a-a96c-caa39bcc31e0"
    },
    {
      "cell_type": "code",
      "execution_count": null,
      "metadata": {},
      "outputs": [],
      "source": [
        "ones <- rep(1, 5)   # column of 1s"
      ],
      "id": "00ca8054-24c6-4545-ba1e-8ee20f57dd10"
    },
    {
      "cell_type": "markdown",
      "metadata": {},
      "source": [
        "Neither `X1` nor `X2` is orthogonal with the column of ones."
      ],
      "id": "ea7d35e2-c9ce-45cf-8850-f0c6db249eac"
    },
    {
      "cell_type": "code",
      "execution_count": null,
      "metadata": {},
      "outputs": [],
      "source": [
        "crossprod(ones, X1) # not zero, so not orthogonal"
      ],
      "id": "13a49b02-3311-45ba-a650-b33d0a0a2b38"
    },
    {
      "cell_type": "code",
      "execution_count": null,
      "metadata": {},
      "outputs": [],
      "source": [
        "crossprod(ones, X2) # not zero, so not orthogonal"
      ],
      "id": "8c7e0e45-bd19-4561-8b6f-8749754c8555"
    },
    {
      "cell_type": "markdown",
      "metadata": {},
      "source": [
        "We create `lmod3` by adding adding a column of ones to `lmod2` (i.e., if we include the intercept in the model).\n",
        "\n",
        "The coefficients for both `X1` and `X2` change when going from `lmod2` to `lmod3` because these regressors are not orthogonal to the column of 1s.\n",
        "\n",
        "Comparing the coefficients `lmod2` above and `lmod3`, $\\hat{\\beta}_1$ changes from $0.893$ to $0.397$ and $\\hat{\\beta}_2$ changes from $0.221$ to $0.279$."
      ],
      "id": "e6688e25-0498-4f52-a08e-6314ded9dc3b"
    },
    {
      "cell_type": "code",
      "execution_count": null,
      "metadata": {},
      "outputs": [],
      "source": [
        "# y regressed on X1 and X2 with an intercept\n",
        "lmod3 <- lm(y ~ X1 + X2)\n",
        "coef(lmod3) # coefficients for lmod3"
      ],
      "id": "f56a5558-2d92-43bc-b3ae-d055016f153d"
    },
    {
      "cell_type": "markdown",
      "metadata": {},
      "source": [
        "For orthogonality of our regressors to be most impactful, the model’s regressors should be orthogonal to each other and the column of 1s. In that context, adding or removing any of the regressors doesn’t impact the estimated coefficients of the other regressors.\n",
        "\n",
        "In the code below, we define centered regressors `X3` and `X4` to be uncorrelated, i.e., `X3` and `X4` have sample mean zero and are orthogonal to each other."
      ],
      "id": "061257b2-8707-4fa1-9ecf-b9865d9619e2"
    },
    {
      "cell_type": "code",
      "execution_count": null,
      "metadata": {},
      "outputs": [],
      "source": [
        "X3 <-  c(0, -1, 1, 0, 0) # sample mean is zero\n",
        "X4 <- c(0, 0, 0, 1, -1)  # sample mean is zero\n",
        "cov(X3, X4)              # 0, so X3 and X4 are uncorrelated and orthogonal"
      ],
      "id": "9adb75be-d2a6-4a64-b037-073788e75383"
    },
    {
      "cell_type": "markdown",
      "metadata": {},
      "source": [
        "If we fit linear regression models with any combination of `ones`, `X3`, or `X4` as regressors, the associated regression coefficients will not change."
      ],
      "id": "de9dd53d-d71c-47b0-bcb2-cf4ff9ec6b54"
    },
    {
      "cell_type": "code",
      "execution_count": null,
      "metadata": {},
      "outputs": [],
      "source": [
        "coef(lm(y ~ 1))           # only column of 1s"
      ],
      "id": "3fa9f62d-c7e2-4cfc-b4c9-41e69b5db33a"
    },
    {
      "cell_type": "code",
      "execution_count": null,
      "metadata": {},
      "outputs": [],
      "source": [
        "coef(lm(y ~ X3 - 1))      # only X3"
      ],
      "id": "4c17650b-88de-4a86-8945-a44430b0dc74"
    },
    {
      "cell_type": "code",
      "execution_count": null,
      "metadata": {},
      "outputs": [],
      "source": [
        "coef(lm(y ~ X4 - 1))      # only X4"
      ],
      "id": "ca870555-7612-40e1-aa91-f2a77d069d09"
    },
    {
      "cell_type": "code",
      "execution_count": null,
      "metadata": {},
      "outputs": [],
      "source": [
        "coef(lm(y ~ X3))          # 1s and X3"
      ],
      "id": "a649d26a-e17d-47a9-8db5-95303f330947"
    },
    {
      "cell_type": "code",
      "execution_count": null,
      "metadata": {},
      "outputs": [],
      "source": [
        "coef(lm(y ~ X4))          # 1s and X4"
      ],
      "id": "019c1ab2-582f-4ea0-9716-52fad96162c2"
    },
    {
      "cell_type": "code",
      "execution_count": null,
      "metadata": {},
      "outputs": [],
      "source": [
        "coef(lm(y ~ X3 + X4 - 1)) # X3 and X4"
      ],
      "id": "07633cba-8a2e-490e-bc84-8fcb92f9c2ef"
    },
    {
      "cell_type": "code",
      "execution_count": null,
      "metadata": {},
      "outputs": [],
      "source": [
        "coef(lm(y ~ X3 + X4))     # 1s, X3, and X4"
      ],
      "id": "672e2db1-b483-43cd-84d8-c6fd9ae71a33"
    },
    {
      "cell_type": "markdown",
      "metadata": {},
      "source": [
        "Because all the regressors (and the intercept) are orthogonal to each other, adding or removing any regressor doesn’t impact the estimated coefficients for the other regressors in the model.\n",
        "\n",
        "Thus, the estimated coefficients were $\\hat{\\beta}_{0}=5.6$, $\\hat{\\beta}_{3}=1.0$, $\\hat{\\beta}_{4}=-0.5$ when the relevant regressor was included in the model.\n",
        "\n",
        "The easiest way to determine which vectors are orthogonal to each other and the intercept is to compute the cross product of the $\\mathbf{X}$ matrix for the largest set of regressors we are considering. Consider the matrix of cross products for the columns of 1s, `X1`, `X2`, `X3`, and `X4`."
      ],
      "id": "d09dfd7e-539f-440e-a580-ed490f916b13"
    },
    {
      "cell_type": "code",
      "execution_count": null,
      "metadata": {},
      "outputs": [],
      "source": [
        "crossprod(model.matrix(~ X1 + X2 + X3 + X4))"
      ],
      "id": "514f79f6-d625-4d9a-81ec-5eb4b7350abe"
    },
    {
      "cell_type": "markdown",
      "metadata": {},
      "source": [
        "Consider the sequence of models below."
      ],
      "id": "3b26772c-ac71-4782-bb20-9929fd319055"
    },
    {
      "cell_type": "code",
      "execution_count": null,
      "metadata": {},
      "outputs": [],
      "source": [
        "coef(lm(y ~ 1))"
      ],
      "id": "d452a058-d5b5-4b3e-bc85-75a025ffa02a"
    },
    {
      "cell_type": "markdown",
      "metadata": {},
      "source": [
        "The model with only an intercept has an estimated coefficient of $\\hat{\\beta}_{0}=5.6$.\n",
        "\n",
        "If we add `X1` to the model with an intercept, then the intercept coefficient changes because the column of 1s and `X1` are not orthogonal."
      ],
      "id": "441959a2-0071-4e68-afbe-f45d0d242292"
    },
    {
      "cell_type": "code",
      "execution_count": null,
      "metadata": {},
      "outputs": [],
      "source": [
        "lmod4 <- lm(y ~ X1) # model with 1s and X1\n",
        "coef(lmod4)"
      ],
      "id": "762f4197-c694-4094-8e34-0ae8cb96c969"
    },
    {
      "cell_type": "markdown",
      "metadata": {},
      "source": [
        "If we add `X2` to `lmod4`, we might think that only $\\hat{\\beta}_{0}$ will change because `X1` and `X2` are orthogonal to each other. However, because `X2` is not orthogonal to all of the other regressors in the model (`X1` and the column of 1s), both $\\hat{\\beta}_{0}$ and $\\hat{\\beta}_1$ will change. The easiest way to realize this is to look at `lmod2` above with only `X1` and `X2`. When we add the column of 1s to `lmod2`, both $\\hat{\\beta}_1$ and $\\hat{\\beta}_2$ will change because neither regressor is orthogonal to the column of 1s needed to include the intercept term."
      ],
      "id": "86178089-8ebe-42b4-83a8-a7d9630fa945"
    },
    {
      "cell_type": "code",
      "execution_count": null,
      "metadata": {},
      "outputs": [],
      "source": [
        "coef(lm(y ~ X1 + X2))"
      ],
      "id": "2153b0d8-752e-4e23-840e-633e89cef210"
    },
    {
      "cell_type": "markdown",
      "metadata": {},
      "source": [
        "However, note that `X3` is orthogonal to the column of 1s and `X1`. Thus, if we add `X3` to `lmod4`, which includes both a column of 1s and `X1`, `X3` will not change the estimated coefficients for the intercept or `X1`."
      ],
      "id": "edfe2eb1-d7b8-4e1b-97e8-b99d885cb3f2"
    },
    {
      "cell_type": "code",
      "execution_count": null,
      "metadata": {},
      "outputs": [],
      "source": [
        "coef(lm(y ~ X1 + X3))"
      ],
      "id": "1cec8676-0b73-4e49-805d-643e0c799393"
    },
    {
      "cell_type": "markdown",
      "metadata": {},
      "source": [
        "Additionally, since `X4` is orthogonal to the column of 1s, `X1`, and `X3`, adding `X4` to the previous model will not change the estimated coefficients for any of the other variables already in the model."
      ],
      "id": "8de48e50-6af0-4eb8-83d6-13bda678251a"
    },
    {
      "cell_type": "code",
      "execution_count": null,
      "metadata": {},
      "outputs": [],
      "source": [
        "coef(lm(y ~ X1 + X3 + X4))"
      ],
      "id": "bb460a26-23bb-4de7-b08a-7a5fb4b36206"
    },
    {
      "cell_type": "markdown",
      "metadata": {},
      "source": [
        "Lastly, if we can partition our $\\mathbf{X}$ matrix such that $\\mathbf{X}^T \\mathbf{X}$ is a block diagonal matrix, then none of the blocks of variables will affect the estimated coefficients of the other variables.\n",
        "\n",
        "Define a new regressor `X5` below. `X5` is orthogonal to the column of 1s and `X1`, but not `X4`."
      ],
      "id": "0cd78878-f59b-448c-9363-cfff64633f61"
    },
    {
      "cell_type": "code",
      "execution_count": null,
      "metadata": {},
      "outputs": [],
      "source": [
        "X5 <- c(1, 0, 0, -1, 0) # orthogonal to ones, X1, not X4\n",
        "# note block of 0s\n",
        "crossprod(cbind(ones, X1, X4, X5))"
      ],
      "id": "f8250ed2-2acd-461f-8d91-5db03f2a54b7"
    },
    {
      "cell_type": "markdown",
      "metadata": {},
      "source": [
        "Note the block of zeros in the lower left and upper right corners of the cross product matrix above.\n",
        "\n",
        "-   The block containing `ones` and `X1` is orthogonal to the block containing `X4` and `X5`.\n",
        "\n",
        "If we fit the model with only the column of 1s and `X1`, and then fit the model with the column of 1s, `X1`, `X4`, and `x5`, then the coefficients $\\hat{\\beta}_{0}$ and $\\hat{\\beta}_{1}$ are not impacted when `X4` and `X5` are added to the model."
      ],
      "id": "9c7515ff-838b-411b-bad7-0ffd139dbb98"
    },
    {
      "cell_type": "code",
      "execution_count": null,
      "metadata": {},
      "outputs": [],
      "source": [
        "lm(y ~ X1)           # model with 1s and X1"
      ],
      "id": "19b1745a-147f-4859-8c39-f4f1b9345a4c"
    },
    {
      "cell_type": "code",
      "execution_count": null,
      "metadata": {},
      "outputs": [],
      "source": [
        "lm(y ~ X1 + X4 + X5) # model with 1s, X1, X4, x5"
      ],
      "id": "56dce8ec-17d9-454e-97fc-dd9496b3a198"
    },
    {
      "cell_type": "markdown",
      "metadata": {},
      "source": [
        "Similarly, $\\hat{\\beta}_{4}$ and $\\hat{\\beta}_{5}$ are not impacted when the column of 1s and `X1` are added to the model with `X4` and `X5`. See the output below."
      ],
      "id": "c5de6e93-c2c3-4027-8f86-b12ceb5bf7b5"
    },
    {
      "cell_type": "code",
      "execution_count": null,
      "metadata": {},
      "outputs": [],
      "source": [
        "lm(y ~ X4 + X5 - 1)  # model with X4 and x5 only"
      ],
      "id": "db8b5746-db5c-40b3-96bf-de51d07dc64f"
    },
    {
      "cell_type": "code",
      "execution_count": null,
      "metadata": {},
      "outputs": [],
      "source": [
        "lm(y ~ X1 + X4 + X5) # model with 1s, X1, X4, x5"
      ],
      "id": "53bf0e43-d32b-448e-8cdd-81892f0711b0"
    }
  ],
  "nbformat": 4,
  "nbformat_minor": 5,
  "metadata": {
    "kernelspec": {
      "name": "ir",
      "display_name": "R",
      "language": "R"
    }
  }
}